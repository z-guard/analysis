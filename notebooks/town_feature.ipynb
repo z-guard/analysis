{
  "nbformat": 4,
  "nbformat_minor": 0,
  "metadata": {
    "colab": {
      "provenance": [],
      "authorship_tag": "ABX9TyP0seqwxZbXYiCDKRfdJ7YJ",
      "include_colab_link": true
    },
    "kernelspec": {
      "name": "python3",
      "display_name": "Python 3"
    },
    "language_info": {
      "name": "python"
    }
  },
  "cells": [
    {
      "cell_type": "markdown",
      "metadata": {
        "id": "view-in-github",
        "colab_type": "text"
      },
      "source": [
        "<a href=\"https://colab.research.google.com/github/z-guard/analysis/blob/main/notebooks/town_feature.ipynb\" target=\"_parent\"><img src=\"https://colab.research.google.com/assets/colab-badge.svg\" alt=\"Open In Colab\"/></a>"
      ]
    },
    {
      "cell_type": "markdown",
      "source": [
        "## 町の特徴量\n",
        "- 閑静、繁華街、(郊外)、団地\n",
        "- 戸建、低層マンション、高層マンション、アパート\n",
        "- おしゃれ、歴史・文化的、(繁華街)、下町\n",
        "- 自然、川、駅近、商店街、散歩道\n",
        "- 賑やか、静か\n",
        "- 学生\n",
        "- 賃貸、購入\n"
      ],
      "metadata": {
        "id": "PW_KxbN9CAiy"
      }
    },
    {
      "cell_type": "code",
      "execution_count": 1,
      "metadata": {
        "id": "Ima4b59aBLvk"
      },
      "outputs": [],
      "source": [
        "!pip install -q japanize-matplotlib"
      ]
    },
    {
      "cell_type": "code",
      "source": [
        "from google.colab import drive\n",
        "drive.mount('/content/drive')"
      ],
      "metadata": {
        "colab": {
          "base_uri": "https://localhost:8080/"
        },
        "id": "s5rskwilBS6C",
        "outputId": "b6172d61-f701-4ea5-f2ec-b7025d652cd8"
      },
      "execution_count": 2,
      "outputs": [
        {
          "output_type": "stream",
          "name": "stdout",
          "text": [
            "Drive already mounted at /content/drive; to attempt to forcibly remount, call drive.mount(\"/content/drive\", force_remount=True).\n"
          ]
        }
      ]
    },
    {
      "cell_type": "code",
      "source": [
        "DIR_NAME = '/content/drive/MyDrive/z-gard/data'"
      ],
      "metadata": {
        "id": "zIkiEQ7HBWMX"
      },
      "execution_count": 3,
      "outputs": []
    },
    {
      "cell_type": "code",
      "source": [
        "import os\n",
        "import pandas as pd\n",
        "import numpy as np\n",
        "import matplotlib.pyplot as plt\n",
        "import japanize_matplotlib\n",
        "import seaborn as sns\n",
        "\n",
        "pd.set_option('display.max_columns', 50)\n",
        "pd.set_option('display.max_rows', 100)"
      ],
      "metadata": {
        "id": "SqclGib-BdX6"
      },
      "execution_count": 4,
      "outputs": []
    },
    {
      "cell_type": "code",
      "source": [
        "def rank_score(sr_data):\n",
        "    rank = sr_data.rank()\n",
        "    rmax = rank.max()\n",
        "    rmin = rank.min()\n",
        "    max_val = 5\n",
        "    x = (rank - rmin)/(rmax - rmin) * max_val\n",
        "    return np.clip(x, 0, max_val)"
      ],
      "metadata": {
        "id": "Dv_Tu8UkH5DP"
      },
      "execution_count": 5,
      "outputs": []
    },
    {
      "cell_type": "markdown",
      "source": [
        "### 人口マスタ"
      ],
      "metadata": {
        "id": "C2Ms1hhRByHA"
      }
    },
    {
      "cell_type": "code",
      "source": [
        "df_population = pd.read_csv(os.path.join(DIR_NAME, 'population_master.csv')).set_index('town_id')\n",
        "print(df_population.shape)"
      ],
      "metadata": {
        "colab": {
          "base_uri": "https://localhost:8080/"
        },
        "id": "4fFK5VNpBghE",
        "outputId": "a9b8e74c-183e-43fa-bd83-7471f740a93b"
      },
      "execution_count": 6,
      "outputs": [
        {
          "output_type": "stream",
          "name": "stdout",
          "text": [
            "(3145, 59)\n"
          ]
        }
      ]
    },
    {
      "cell_type": "code",
      "source": [
        "df_population['人口スコア'] = rank_score(df_population['人口総数（人）']).round(2)\n",
        "df_population['人口密度スコア'] = rank_score(df_population['人口密度(人/km2)']).round(2)\n",
        "df_population['世帯総数スコア'] = rank_score(df_population['世帯総数']).round(2)"
      ],
      "metadata": {
        "id": "b_zJA9snH6QR"
      },
      "execution_count": 7,
      "outputs": []
    },
    {
      "cell_type": "code",
      "source": [
        "df_population.columns"
      ],
      "metadata": {
        "colab": {
          "base_uri": "https://localhost:8080/"
        },
        "id": "SKpLlv-rBoYd",
        "outputId": "e2c2df9c-4a30-41bc-db02-3cdefa29e3d3"
      },
      "execution_count": 8,
      "outputs": [
        {
          "output_type": "execute_result",
          "data": {
            "text/plain": [
              "Index(['市区町村名', '町名', '町丁目', '人口総数（人）', '面積（km2）', '人口密度(人/km2)', '0〜4歳（人）',\n",
              "       '5〜9歳（人）', '10〜14歳（人）', '15〜19歳（人）', '20〜24歳（人）', '25〜29歳（人）',\n",
              "       '30〜34歳（人）', '35〜39歳（人）', '40〜44歳（人）', '45〜49歳（人）', '50〜54歳（人）',\n",
              "       '55〜59歳（人）', '60〜64歳（人）', '65〜69歳（人）', '70〜74歳（人）', '75〜79歳（人）',\n",
              "       '80〜84歳（人）', '85〜89歳（人）', '90〜94歳（人）', '95〜99歳（人）', '100歳以上（人）',\n",
              "       '年齢不詳（人）', '平均年齢（歳）', '外国人（人）', '対象', '世帯総数', '1人世帯', '2人世帯', '3人世帯',\n",
              "       '4人世帯', '5人以上世帯', '世帯人員（人）', '1世帯当たり人員（人）', '労働力人口割合%', '非労働力人口割合%',\n",
              "       '非労働力_専業主婦割合%', '非労働力_学生割合%', '非労働力_幼児・高齢者割合%', '労働力_サラリーマン割合%',\n",
              "       '労働力_役員割合%', '労働力_自営業者割合%', '労働力_パートタイム割合%', '労働力_学生アルバイト割合%',\n",
              "       '持ち家_割合%', '公営借家_割合%', '民営借家_割合%', '社宅_割合%', '一戸建_割合%', '長屋建_割合%',\n",
              "       '共同住宅_１・２階建_割合%', '共同住宅_３～５階建_割合%', '共同住宅_６～10階建_割合%',\n",
              "       '共同住宅_11階建以上_割合%', '人口スコア', '人口密度スコア', '世帯総数スコア'],\n",
              "      dtype='object')"
            ]
          },
          "metadata": {},
          "execution_count": 8
        }
      ]
    },
    {
      "cell_type": "markdown",
      "source": [
        "### 人口分布"
      ],
      "metadata": {
        "id": "lVv4fuyUttWn"
      }
    },
    {
      "cell_type": "code",
      "source": [
        "df_population_score = pd.read_csv(os.path.join(DIR_NAME, 'population_score.csv')).set_index('town_id')\n",
        "print(df_population_score.shape)"
      ],
      "metadata": {
        "colab": {
          "base_uri": "https://localhost:8080/"
        },
        "id": "IkT4qvPkBwBp",
        "outputId": "a32dd9d5-92b5-4655-a77b-47367778fa92"
      },
      "execution_count": 9,
      "outputs": [
        {
          "output_type": "stream",
          "name": "stdout",
          "text": [
            "(3145, 31)\n"
          ]
        }
      ]
    },
    {
      "cell_type": "code",
      "source": [
        "df_population_score.columns"
      ],
      "metadata": {
        "colab": {
          "base_uri": "https://localhost:8080/"
        },
        "id": "x-9x6vLeuGPc",
        "outputId": "e67965ef-a4fa-498d-b579-afb33545003d"
      },
      "execution_count": 10,
      "outputs": [
        {
          "output_type": "execute_result",
          "data": {
            "text/plain": [
              "Index(['乳幼児割合スコア', '小学生割合スコア', '中学生割合スコア', '高校生割合スコア', '10代割合スコア', '20代割合スコア',\n",
              "       '30代割合スコア', '40代割合スコア', '50代割合スコア', '60代割合スコア', '10代_子割合スコア',\n",
              "       '20代_子割合スコア', '30代_子割合スコア', '40代_子割合スコア', '50代_子割合スコア', '戸建割合スコア',\n",
              "       'マンション割合スコア', '低層マンション割合スコア', '中層マンション割合スコア', '高層マンション割合スコア',\n",
              "       '持ち家割合スコア', '賃貸割合スコア', '団地割合スコア', '単身割合スコア', 'カップル割合スコア', 'ファミリー割合スコア',\n",
              "       '大家族割合スコア', '学生指数スコア', '専業主婦指数スコア', '上流指数スコア', '中流指数スコア'],\n",
              "      dtype='object')"
            ]
          },
          "metadata": {},
          "execution_count": 10
        }
      ]
    },
    {
      "cell_type": "markdown",
      "source": [
        "### 利便性"
      ],
      "metadata": {
        "id": "irxlg885wM4_"
      }
    },
    {
      "cell_type": "code",
      "source": [
        "df_convenience_score = pd.read_csv(os.path.join(DIR_NAME, 'convenience_score.csv')).set_index('town_id')\n",
        "print(df_convenience_score.shape)"
      ],
      "metadata": {
        "colab": {
          "base_uri": "https://localhost:8080/"
        },
        "id": "Qru4GaKiuKi_",
        "outputId": "fc6f4bf8-69d4-4f91-df41-39a887b15589"
      },
      "execution_count": 11,
      "outputs": [
        {
          "output_type": "stream",
          "name": "stdout",
          "text": [
            "(3145, 23)\n"
          ]
        }
      ]
    },
    {
      "cell_type": "code",
      "source": [
        "df_convenience_score['チェーン店(数)'] = df_convenience_score['カフェ(チェーン店)(数)'] + df_convenience_score['レストラン(チェーン店)(数)']"
      ],
      "metadata": {
        "id": "P_VPeXRyJV_U"
      },
      "execution_count": 12,
      "outputs": []
    },
    {
      "cell_type": "code",
      "source": [
        "feature_list = [col for col in df_convenience_score.columns if col.endswith('(数)')]\n",
        "for feature in feature_list:\n",
        "    df_convenience_score[f'{feature}スコア'] = rank_score(df_convenience_score[feature]).round(2)\n",
        "\n",
        "df_convenience_score['最寄駅(距離)スコア'] = rank_score((-1) * df_convenience_score['最寄駅(距離)']).round(2)"
      ],
      "metadata": {
        "id": "UJolcIT6Iqlr"
      },
      "execution_count": 13,
      "outputs": []
    },
    {
      "cell_type": "code",
      "source": [
        "df_convenience_score.columns"
      ],
      "metadata": {
        "colab": {
          "base_uri": "https://localhost:8080/"
        },
        "id": "u5KKDfpDwBKO",
        "outputId": "3f95c877-0d13-442e-b760-701ac3f49494"
      },
      "execution_count": 14,
      "outputs": [
        {
          "output_type": "execute_result",
          "data": {
            "text/plain": [
              "Index(['コンビニ(数)', 'スーパー(数)', '商店街(数)', '銭湯(数)', 'カラオケ(数)', 'ネットカフェ(数)',\n",
              "       'クリーニング(数)', '本DVD(数)', '衣料品(数)', 'ビューティーサロン(数)', '100円ショップ(数)',\n",
              "       'カフェ(数)', 'カフェ(チェーン店)(数)', 'ファストフード(数)', 'レストラン(数)', 'レストラン(チェーン店)(数)',\n",
              "       '飲み屋(数)', '最寄駅(距離)', '平均所要(時間)', '買い物スコア', '駅スコア', '飲食店スコア', '利便性スコア',\n",
              "       'チェーン店(数)', 'コンビニ(数)スコア', 'スーパー(数)スコア', '商店街(数)スコア', '銭湯(数)スコア',\n",
              "       'カラオケ(数)スコア', 'ネットカフェ(数)スコア', 'クリーニング(数)スコア', '本DVD(数)スコア', '衣料品(数)スコア',\n",
              "       'ビューティーサロン(数)スコア', '100円ショップ(数)スコア', 'カフェ(数)スコア', 'カフェ(チェーン店)(数)スコア',\n",
              "       'ファストフード(数)スコア', 'レストラン(数)スコア', 'レストラン(チェーン店)(数)スコア', '飲み屋(数)スコア',\n",
              "       'チェーン店(数)スコア', '最寄駅(距離)スコア'],\n",
              "      dtype='object')"
            ]
          },
          "metadata": {},
          "execution_count": 14
        }
      ]
    },
    {
      "cell_type": "markdown",
      "source": [
        "### 地価スコア"
      ],
      "metadata": {
        "id": "8s93A6cOyjA9"
      }
    },
    {
      "cell_type": "code",
      "source": [
        "df_land_price_score = pd.read_csv(os.path.join(DIR_NAME, 'land_price_score.csv')).rename(columns={'地域ID': 'town_id'}).set_index('town_id')\n",
        "print(df_land_price_score.shape)"
      ],
      "metadata": {
        "colab": {
          "base_uri": "https://localhost:8080/"
        },
        "id": "K6lgZJbywHj4",
        "outputId": "2235cb45-15c5-475f-9604-550647e53234"
      },
      "execution_count": 15,
      "outputs": [
        {
          "output_type": "stream",
          "name": "stdout",
          "text": [
            "(3145, 6)\n"
          ]
        }
      ]
    },
    {
      "cell_type": "code",
      "source": [
        "df_land_price_score.columns"
      ],
      "metadata": {
        "colab": {
          "base_uri": "https://localhost:8080/"
        },
        "id": "EKCvc7AuySic",
        "outputId": "83aae7bb-65e7-4663-f825-3830553a5150"
      },
      "execution_count": 16,
      "outputs": [
        {
          "output_type": "execute_result",
          "data": {
            "text/plain": [
              "Index(['地価', '地価スコア', '家賃予測_ワンルーム', '家賃予測_1K', '家賃予測_1LDK', '家賃予測_2LDK'], dtype='object')"
            ]
          },
          "metadata": {},
          "execution_count": 16
        }
      ]
    },
    {
      "cell_type": "markdown",
      "source": [
        "### 名所旧跡"
      ],
      "metadata": {
        "id": "fxEF4wQU4wjV"
      }
    },
    {
      "cell_type": "code",
      "source": [
        "df_famous_place_score = pd.read_csv(os.path.join(DIR_NAME, 'famous_place_score.csv')).set_index('town_id')\n",
        "print(df_famous_place_score.shape)"
      ],
      "metadata": {
        "colab": {
          "base_uri": "https://localhost:8080/"
        },
        "id": "BgJksn93ybs8",
        "outputId": "54fcf819-b60c-4e03-e117-46e8235ff0ea"
      },
      "execution_count": 17,
      "outputs": [
        {
          "output_type": "stream",
          "name": "stdout",
          "text": [
            "(3145, 6)\n"
          ]
        }
      ]
    },
    {
      "cell_type": "code",
      "source": [
        "feature_list = [col for col in df_famous_place_score.columns if col.endswith('(数)')]\n",
        "for feature in feature_list:\n",
        "    df_famous_place_score[f'{feature}スコア'] = rank_score(df_famous_place_score[feature]).round(2)"
      ],
      "metadata": {
        "id": "0A0_53d0KS8e"
      },
      "execution_count": 18,
      "outputs": []
    },
    {
      "cell_type": "code",
      "source": [
        "df_famous_place_score.columns"
      ],
      "metadata": {
        "colab": {
          "base_uri": "https://localhost:8080/"
        },
        "id": "AexN49ulzXIg",
        "outputId": "6d31df6c-3aca-494a-c016-2c74437dd3af"
      },
      "execution_count": 19,
      "outputs": [
        {
          "output_type": "execute_result",
          "data": {
            "text/plain": [
              "Index(['寺(数)', '神社(数)', '旧跡(数)', '並木道(数)', '橋(数)', '墓地(数)', '寺(数)スコア',\n",
              "       '神社(数)スコア', '旧跡(数)スコア', '並木道(数)スコア', '橋(数)スコア', '墓地(数)スコア'],\n",
              "      dtype='object')"
            ]
          },
          "metadata": {},
          "execution_count": 19
        }
      ]
    },
    {
      "cell_type": "markdown",
      "source": [
        "## 川沿い"
      ],
      "metadata": {
        "id": "uGi0yUG9BYGI"
      }
    },
    {
      "cell_type": "code",
      "source": [
        "df_riverside_score = pd.read_csv(os.path.join(DIR_NAME, 'river_side_score.csv')).set_index('town_id')\n",
        "print(df_riverside_score.shape)"
      ],
      "metadata": {
        "colab": {
          "base_uri": "https://localhost:8080/"
        },
        "id": "vPiKRneBzYE_",
        "outputId": "df00f9f7-5c9f-4d8d-863a-d7028df6a4b0"
      },
      "execution_count": 20,
      "outputs": [
        {
          "output_type": "stream",
          "name": "stdout",
          "text": [
            "(3145, 2)\n"
          ]
        }
      ]
    },
    {
      "cell_type": "code",
      "source": [
        "df_riverside_score['川(数)スコア'] = rank_score(df_riverside_score['川(数)']).round(2)\n",
        "df_riverside_score['川(距離)スコア'] = rank_score((-1) * df_riverside_score['川(距離)']).round(2)"
      ],
      "metadata": {
        "id": "vfLQdbRxKZur"
      },
      "execution_count": 21,
      "outputs": []
    },
    {
      "cell_type": "code",
      "source": [
        "df_riverside_score.columns"
      ],
      "metadata": {
        "colab": {
          "base_uri": "https://localhost:8080/"
        },
        "id": "WESTx9gfBXaP",
        "outputId": "e3918da1-9d2f-4b53-c0a8-f512bcb7c0be"
      },
      "execution_count": 22,
      "outputs": [
        {
          "output_type": "execute_result",
          "data": {
            "text/plain": [
              "Index(['川(数)', '川(距離)', '川(数)スコア', '川(距離)スコア'], dtype='object')"
            ]
          },
          "metadata": {},
          "execution_count": 22
        }
      ]
    },
    {
      "cell_type": "markdown",
      "source": [
        "### 学校"
      ],
      "metadata": {
        "id": "AiaF48vsILZa"
      }
    },
    {
      "cell_type": "code",
      "source": [
        "df_school_score = pd.read_csv(os.path.join(DIR_NAME, 'public_school_score.csv')).set_index('town_id')\n",
        "print(df_school_score.shape)"
      ],
      "metadata": {
        "colab": {
          "base_uri": "https://localhost:8080/"
        },
        "id": "BbJL6yliILGQ",
        "outputId": "425c3fe2-771e-42f0-9a16-548f388bfd3f"
      },
      "execution_count": 23,
      "outputs": [
        {
          "output_type": "stream",
          "name": "stdout",
          "text": [
            "(3145, 11)\n"
          ]
        }
      ]
    },
    {
      "cell_type": "code",
      "source": [
        "df_school_score.columns"
      ],
      "metadata": {
        "colab": {
          "base_uri": "https://localhost:8080/"
        },
        "id": "yJUcKdFmIVYU",
        "outputId": "dbbe0960-1377-4016-92fe-e4f0247b6ff8"
      },
      "execution_count": 24,
      "outputs": [
        {
          "output_type": "execute_result",
          "data": {
            "text/plain": [
              "Index(['小学校(最近傍距離)', '名門小学校', '中学校(最近傍距離)', '幼稚園(最近傍距離)', '学習塾(数)', '大学(数)',\n",
              "       '小学校スコア', '中学校スコア', '幼稚園スコア', '学習塾スコア', '大学スコア'],\n",
              "      dtype='object')"
            ]
          },
          "metadata": {},
          "execution_count": 24
        }
      ]
    },
    {
      "cell_type": "markdown",
      "source": [
        "### 全てマージ"
      ],
      "metadata": {
        "id": "_3210x-lBgZb"
      }
    },
    {
      "cell_type": "code",
      "source": [
        "df_town_feature = pd.concat([\n",
        "    df_population,\n",
        "    df_population_score,\n",
        "    df_convenience_score,\n",
        "    df_land_price_score,\n",
        "    df_famous_place_score,\n",
        "    df_riverside_score,\n",
        "    df_school_score\n",
        "], axis=1)\n",
        "print(df_town_feature.shape)\n",
        "assert len(df_town_feature) == len(df_population)"
      ],
      "metadata": {
        "colab": {
          "base_uri": "https://localhost:8080/"
        },
        "id": "0sW3FPd_BdTH",
        "outputId": "f71439f5-8b12-4966-fe6a-eeb6292484ef"
      },
      "execution_count": 25,
      "outputs": [
        {
          "output_type": "stream",
          "name": "stdout",
          "text": [
            "(3145, 169)\n"
          ]
        }
      ]
    },
    {
      "cell_type": "code",
      "source": [
        "basic_cols = ['市区町村名', '町名', '町丁目', '対象']\n",
        "score_list = [col for col in df_town_feature.columns if col.endswith('スコア')]\n",
        "df_town_score = df_town_feature[basic_cols + score_list].copy()"
      ],
      "metadata": {
        "id": "5aPr4NdUG9zn"
      },
      "execution_count": 26,
      "outputs": []
    },
    {
      "cell_type": "markdown",
      "source": [
        "### 各種スコア\n",
        "- 閑静、繁華街、(郊外)、団地\n",
        "- 戸建、低層マンション、高層マンション、アパート\n",
        "- おしゃれ、歴史・文化的、(繁華街)、下町\n",
        "- 自然、川、駅近、商店街、散歩道\n",
        "- 賑やか、静か\n",
        "- 学生\n",
        "- 賃貸、購入"
      ],
      "metadata": {
        "id": "xxaY_FL9CbNN"
      }
    },
    {
      "cell_type": "code",
      "source": [
        "def get_score(df_data, score_name, score_recipe):\n",
        "    df_data[score_name] = 0\n",
        "    for key, val in score_recipe.items():\n",
        "        df_data[score_name] += df_data[key] * val\n",
        "    df_data[score_name] = rank_score(df_data[score_name]).round(2)"
      ],
      "metadata": {
        "id": "VNgwedznXpSu"
      },
      "execution_count": 27,
      "outputs": []
    },
    {
      "cell_type": "code",
      "source": [
        "output_score_list = []"
      ],
      "metadata": {
        "id": "UIYrXQLTSIJf"
      },
      "execution_count": 28,
      "outputs": []
    },
    {
      "cell_type": "code",
      "source": [
        "score_name = '閑静スコア'\n",
        "score_recipe = {\n",
        "    '人口密度スコア': -0.3,\n",
        "    '戸建割合スコア': 1,\n",
        "    '低層マンション割合スコア': 0.7,\n",
        "    '持ち家割合スコア': 0.7,\n",
        "    '団地割合スコア': -0.7,\n",
        "    'ファミリー割合スコア': 0.3,\n",
        "    '単身割合スコア': -0.3,\n",
        "    '専業主婦指数スコア': 0.5,\n",
        "    '上流指数スコア': 0.7,\n",
        "    'ビューティーサロン(数)スコア': 0.3,\n",
        "    'チェーン店(数)スコア': -0.5,\n",
        "    '地価スコア': 1,\n",
        "    '並木道(数)スコア': 0.5,\n",
        "}\n",
        "output_score_list.append(score_name)\n",
        "get_score(df_town_score, score_name, score_recipe)"
      ],
      "metadata": {
        "id": "8VOdIuCoSwDR"
      },
      "execution_count": 29,
      "outputs": []
    },
    {
      "cell_type": "code",
      "source": [
        "score_name = '繁華街スコア'\n",
        "score_recipe = {\n",
        "    '人口密度スコア': 0.5,\n",
        "    '戸建割合スコア': -0.5,\n",
        "    '中層マンション割合スコア': 0.7,\n",
        "    '高層マンション割合スコア': 0.5,\n",
        "    '賃貸割合スコア': 0.5,\n",
        "    '単身割合スコア': 0.3,\n",
        "    '商店街(数)スコア': 0.5,\n",
        "    'コンビニ(数)スコア': 0.7,\n",
        "    '飲み屋(数)スコア': 1,\n",
        "    'チェーン店(数)スコア': 0.5,\n",
        "    '地価スコア': 0.7,\n",
        "    '最寄駅(距離)スコア': 0.7,\n",
        "}\n",
        "output_score_list.append(score_name)\n",
        "get_score(df_town_score, score_name, score_recipe)"
      ],
      "metadata": {
        "id": "J_CKIKA8CdeC"
      },
      "execution_count": 30,
      "outputs": []
    },
    {
      "cell_type": "code",
      "source": [
        "score_name = '団地スコア'\n",
        "score_recipe = {\n",
        "    '世帯総数スコア': 0.5,\n",
        "    '人口密度スコア': -0.3,\n",
        "    '戸建割合スコア': -0.7,\n",
        "    '低層マンション割合スコア': 0.5,\n",
        "    '中層マンション割合スコア': 0.7,\n",
        "    '高層マンション割合スコア': -0.5,\n",
        "    '賃貸割合スコア': 0.5,\n",
        "    '団地割合スコア': 1,\n",
        "}\n",
        "output_score_list.append(score_name)\n",
        "get_score(df_town_score, score_name, score_recipe)"
      ],
      "metadata": {
        "id": "OHGcaE_0adV7"
      },
      "execution_count": 31,
      "outputs": []
    },
    {
      "cell_type": "code",
      "source": [
        "score_name = '戸建スコア'\n",
        "score_recipe = {\n",
        "    '人口密度スコア': -0.1,\n",
        "    '戸建割合スコア': 1,\n",
        "    '中層マンション割合スコア': -0.5,\n",
        "    '高層マンション割合スコア': -0.5,\n",
        "    'ファミリー割合スコア': 0.3,\n",
        "    '持ち家割合スコア': 0.5,\n",
        "}\n",
        "output_score_list.append(score_name)\n",
        "get_score(df_town_score, score_name, score_recipe)"
      ],
      "metadata": {
        "id": "-7cpwxaNpwHt"
      },
      "execution_count": 32,
      "outputs": []
    },
    {
      "cell_type": "code",
      "source": [
        "score_name = '低層マンションスコア'\n",
        "score_recipe = {\n",
        "    '人口密度スコア': 0.3,\n",
        "    '戸建割合スコア': -0.7,\n",
        "    '低層マンション割合スコア': 1,\n",
        "    '中層マンション割合スコア': 0.7,\n",
        "    '高層マンション割合スコア': -0.5,\n",
        "    'ファミリー割合スコア': 0.3,\n",
        "    '持ち家割合スコア': 0.3,\n",
        "}\n",
        "output_score_list.append(score_name)\n",
        "get_score(df_town_score, score_name, score_recipe)"
      ],
      "metadata": {
        "id": "E9WFljYBs84c"
      },
      "execution_count": 33,
      "outputs": []
    },
    {
      "cell_type": "code",
      "source": [
        "score_name = '高層マンションスコア'\n",
        "score_recipe = {\n",
        "    '人口密度スコア': 0.3,\n",
        "    '戸建割合スコア': -0.7,\n",
        "    '低層マンション割合スコア': -0.5,\n",
        "    '中層マンション割合スコア': 0.5,\n",
        "    '高層マンション割合スコア': 1,\n",
        "    'ファミリー割合スコア': 0.5,\n",
        "    '上流指数スコア': 0.5,\n",
        "    '地価スコア': 1,\n",
        "}\n",
        "output_score_list.append(score_name)\n",
        "get_score(df_town_score, score_name, score_recipe)"
      ],
      "metadata": {
        "id": "Nyp77tcQuWMp"
      },
      "execution_count": 34,
      "outputs": []
    },
    {
      "cell_type": "code",
      "source": [
        "score_name = 'アパートスコア'\n",
        "score_recipe = {\n",
        "    '人口密度スコア': 0.3,\n",
        "    '戸建割合スコア': -0.7,\n",
        "    '低層マンション割合スコア': 1,\n",
        "    '中層マンション割合スコア': -0.7,\n",
        "    '高層マンション割合スコア': -1,\n",
        "    '賃貸割合スコア': 0.7,\n",
        "    '団地割合スコア': 0.7,\n",
        "    '上流指数スコア': -0.7,\n",
        "    '中流指数スコア': -0.5,\n",
        "    '単身割合スコア': 0.5,\n",
        "    '学生指数スコア': 0.5,\n",
        "    '地価スコア': -0.3,\n",
        "}\n",
        "output_score_list.append(score_name)\n",
        "get_score(df_town_score, score_name, score_recipe)"
      ],
      "metadata": {
        "id": "fbalJVyKwjfX"
      },
      "execution_count": 35,
      "outputs": []
    },
    {
      "cell_type": "code",
      "source": [
        "score_name = 'おしゃれスコア'\n",
        "score_recipe = {\n",
        "    '人口密度スコア': 0.3,\n",
        "    '20代割合スコア': 0.7,\n",
        "    '30代割合スコア': 0.7,\n",
        "    '低層マンション割合スコア': 0.5,\n",
        "    '中層マンション割合スコア': 0.7,\n",
        "    'カップル割合スコア': 0.3,\n",
        "    '上流指数スコア': 0.7,\n",
        "    '中流指数スコア': 0.5,\n",
        "    '地価スコア': 0.7,\n",
        "    'ビューティーサロン(数)スコア': 0.5,\n",
        "    'カフェ(数)スコア': 0.5,\n",
        "    'カフェ(チェーン店)(数)スコア': 0.5,\n",
        "    '並木道(数)スコア': 0.5,\n",
        "}\n",
        "output_score_list.append(score_name)\n",
        "get_score(df_town_score, score_name, score_recipe)"
      ],
      "metadata": {
        "id": "j-GR2pLSysAO"
      },
      "execution_count": 36,
      "outputs": []
    },
    {
      "cell_type": "code",
      "source": [
        "score_name = '歴史文化スコア'\n",
        "score_recipe = {\n",
        "    '世帯総数スコア': 0.5,\n",
        "    '人口密度スコア': 0.3,\n",
        "    '地価スコア': 0.5,\n",
        "    '寺(数)スコア': 0.5,\n",
        "    '神社(数)スコア': 0.5,\n",
        "    '旧跡(数)スコア': 0.7,\n",
        "    '並木道(数)スコア': 0.5,\n",
        "    '大学スコア': 0.3,\n",
        "}\n",
        "output_score_list.append(score_name)\n",
        "get_score(df_town_score, score_name, score_recipe)"
      ],
      "metadata": {
        "id": "n3g09puVCLQj"
      },
      "execution_count": 37,
      "outputs": []
    },
    {
      "cell_type": "code",
      "source": [
        "score_name = '下町スコア'\n",
        "score_recipe = {\n",
        "    '世帯総数スコア': 0.5,\n",
        "    '人口密度スコア': 0.7,\n",
        "    '50代割合スコア': 0.3,\n",
        "    '60代割合スコア': 0.3,\n",
        "    '上流指数スコア': -1,\n",
        "    '中流指数スコア': -0.7,\n",
        "    '地価スコア': -0.5,\n",
        "    '寺(数)スコア': 0.5,\n",
        "    '神社(数)スコア': 0.5,\n",
        "    '旧跡(数)スコア': 0.5,\n",
        "    '並木道(数)スコア': 0.3,\n",
        "    '商店街(数)スコア': 0.7,\n",
        "    '銭湯(数)スコア': 0.5,\n",
        "    '飲み屋(数)スコア': 0.5,\n",
        "}\n",
        "output_score_list.append(score_name)\n",
        "get_score(df_town_score, score_name, score_recipe)"
      ],
      "metadata": {
        "id": "-K1bm1zKKYor"
      },
      "execution_count": 38,
      "outputs": []
    },
    {
      "cell_type": "code",
      "source": [
        "score_name = '川スコア'\n",
        "score_recipe = {\n",
        "    '世帯総数スコア': 0.7,\n",
        "    '人口密度スコア': 0.5,\n",
        "    '川(数)スコア': 1,\n",
        "    '川(距離)スコア': 0.7,\n",
        "}\n",
        "output_score_list.append(score_name)\n",
        "get_score(df_town_score, score_name, score_recipe)"
      ],
      "metadata": {
        "id": "kcAR3GLTMgGt"
      },
      "execution_count": 39,
      "outputs": []
    },
    {
      "cell_type": "code",
      "source": [
        "score_name = '駅近スコア'\n",
        "score_recipe = {\n",
        "    '世帯総数スコア': 0.7,\n",
        "    '人口密度スコア': 0.5,\n",
        "    '駅スコア': 1,\n",
        "    '飲食店スコア': 0.7,\n",
        "    '地価スコア': 0.7,\n",
        "}\n",
        "output_score_list.append(score_name)\n",
        "get_score(df_town_score, score_name, score_recipe)"
      ],
      "metadata": {
        "id": "IbQGbSmnNR40"
      },
      "execution_count": 40,
      "outputs": []
    },
    {
      "cell_type": "code",
      "source": [
        "score_name = '商店街スコア'\n",
        "score_recipe = {\n",
        "    '世帯総数スコア': 0.7,\n",
        "    '人口密度スコア': 0.5,\n",
        "    '商店街(数)スコア': 1,\n",
        "    '飲食店スコア': 0.7,\n",
        "    '100円ショップ(数)スコア': 0.3,\n",
        "    'ファストフード(数)スコア': 0.3,\n",
        "}\n",
        "output_score_list.append(score_name)\n",
        "get_score(df_town_score, score_name, score_recipe)"
      ],
      "metadata": {
        "id": "Yfkslg8mOaz8"
      },
      "execution_count": 41,
      "outputs": []
    },
    {
      "cell_type": "code",
      "source": [
        "score_name = '散歩道スコア'\n",
        "score_recipe = {\n",
        "    '世帯総数スコア': 0.7,\n",
        "    '人口密度スコア': 0.5,\n",
        "    '上流指数スコア': 0.5,\n",
        "    '中流指数スコア': 0.3,\n",
        "    '地価スコア': 0.5,\n",
        "    '並木道(数)スコア': 1,\n",
        "}\n",
        "output_score_list.append(score_name)\n",
        "get_score(df_town_score, score_name, score_recipe)"
      ],
      "metadata": {
        "id": "n59RQtPePZS6"
      },
      "execution_count": 42,
      "outputs": []
    },
    {
      "cell_type": "code",
      "source": [
        "score_name = '賑やかスコア'\n",
        "score_recipe = {\n",
        "    '世帯総数スコア': 0.7,\n",
        "    '人口密度スコア': 0.7,\n",
        "    'ファミリー割合スコア': 0.5,\n",
        "    '飲食店スコア': 0.5,\n",
        "    '商店街(数)スコア': 0.3,\n",
        "    'コンビニ(数)スコア': 0.7,\n",
        "    '飲み屋(数)スコア': 0.5,\n",
        "    'チェーン店(数)スコア': 0.7,\n",
        "}\n",
        "output_score_list.append(score_name)\n",
        "get_score(df_town_score, score_name, score_recipe)"
      ],
      "metadata": {
        "id": "qIXE01eLQReq"
      },
      "execution_count": 43,
      "outputs": []
    },
    {
      "cell_type": "code",
      "source": [
        "score_name = '静かスコア'\n",
        "score_recipe = {\n",
        "    '世帯総数スコア': 0.5,\n",
        "    '人口密度スコア': -0.3,\n",
        "    'ファミリー割合スコア': 0.5,\n",
        "    '飲食店スコア': -0.5,\n",
        "    '商店街(数)スコア': -0.3,\n",
        "    'コンビニ(数)スコア': -0.5,\n",
        "    '飲み屋(数)スコア': -0.5,\n",
        "    'チェーン店(数)スコア': -0.5,\n",
        "    '駅スコア': -0.5,\n",
        "}\n",
        "output_score_list.append(score_name)\n",
        "get_score(df_town_score, score_name, score_recipe)"
      ],
      "metadata": {
        "id": "1aybKM4NRdsW"
      },
      "execution_count": 44,
      "outputs": []
    },
    {
      "cell_type": "code",
      "source": [
        "score_name = '学生スコア'\n",
        "score_recipe = {\n",
        "    '世帯総数スコア': 0.3,\n",
        "    '単身割合スコア': 0.7,\n",
        "    'ファミリー割合スコア': -0.5,\n",
        "    '学生指数スコア': 1,\n",
        "    '戸建割合スコア': -0.7,\n",
        "    '賃貸割合スコア': 0.7,\n",
        "    '飲食店スコア': 0.5,\n",
        "    'コンビニ(数)スコア': 0.7,\n",
        "    'スーパー(数)スコア': 0.5,\n",
        "    '地価スコア': -0.5,\n",
        "    '大学スコア': 0.3,\n",
        "}\n",
        "output_score_list.append(score_name)\n",
        "get_score(df_town_score, score_name, score_recipe)"
      ],
      "metadata": {
        "id": "hhNY6qq4Ut87"
      },
      "execution_count": 45,
      "outputs": []
    },
    {
      "cell_type": "code",
      "source": [
        "score_name = '賃貸スコア'\n",
        "score_recipe = {\n",
        "    '世帯総数スコア': 0.5,\n",
        "    '持ち家割合スコア': -0.3,\n",
        "    '賃貸割合スコア': 1,\n",
        "    '団地割合スコア': 0.7,\n",
        "}\n",
        "output_score_list.append(score_name)\n",
        "get_score(df_town_score, score_name, score_recipe)"
      ],
      "metadata": {
        "id": "2YLKtnaFXqsg"
      },
      "execution_count": 46,
      "outputs": []
    },
    {
      "cell_type": "code",
      "source": [
        "score_name = '購入スコア'\n",
        "score_recipe = {\n",
        "    '世帯総数スコア': 0.5,\n",
        "    '持ち家割合スコア': 1,\n",
        "    '賃貸割合スコア': -0.5,\n",
        "    '団地割合スコア': -0.7,\n",
        "}\n",
        "output_score_list.append(score_name)\n",
        "get_score(df_town_score, score_name, score_recipe)"
      ],
      "metadata": {
        "id": "cmunK304YQGe"
      },
      "execution_count": 47,
      "outputs": []
    },
    {
      "cell_type": "code",
      "source": [
        "# df_town_score[basic_cols + [score_name] + list(score_recipe.keys())].sort_values(score_name, ascending=False).head(10)"
      ],
      "metadata": {
        "id": "bhe3z8AMVXsl"
      },
      "execution_count": 48,
      "outputs": []
    },
    {
      "cell_type": "markdown",
      "source": [
        "### 保存"
      ],
      "metadata": {
        "id": "Ir4gWbNyaD9C"
      }
    },
    {
      "cell_type": "code",
      "source": [
        "df_town_score[output_score_list].to_csv(os.path.join(DIR_NAME, 'town_feature.csv'), index=True, encoding='utf_8_sig')"
      ],
      "metadata": {
        "id": "nlizFFQPVZHI"
      },
      "execution_count": 49,
      "outputs": []
    },
    {
      "cell_type": "code",
      "source": [],
      "metadata": {
        "id": "Kjonxr8eZ4h-"
      },
      "execution_count": 49,
      "outputs": []
    }
  ]
}