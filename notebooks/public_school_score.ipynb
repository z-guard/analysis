{
  "nbformat": 4,
  "nbformat_minor": 0,
  "metadata": {
    "colab": {
      "provenance": [],
      "authorship_tag": "ABX9TyPVQsNnQ3T6cBBtZJp1S8Gc",
      "include_colab_link": true
    },
    "kernelspec": {
      "name": "python3",
      "display_name": "Python 3"
    },
    "language_info": {
      "name": "python"
    }
  },
  "cells": [
    {
      "cell_type": "markdown",
      "metadata": {
        "id": "view-in-github",
        "colab_type": "text"
      },
      "source": [
        "<a href=\"https://colab.research.google.com/github/z-guard/analysis/blob/main/notebooks/public_school_score.ipynb\" target=\"_parent\"><img src=\"https://colab.research.google.com/assets/colab-badge.svg\" alt=\"Open In Colab\"/></a>"
      ]
    },
    {
      "cell_type": "markdown",
      "source": [
        "# 公立学校スコア\n",
        "- input\n",
        "    - public_school_master.csv\n",
        "        - 小学校の位置とレーティング\n",
        "        - 中学校の位置とレーティング\n",
        "        - 中学校の位置とレーティング\n",
        "    - private_school_master.csv\n",
        "        - 塾の位置\n",
        "- output\n",
        "    - public_school_score.csv\n",
        "        - 小学校スコア\n",
        "        - 中学校スコア\n",
        "        - 幼稚園スコア\n",
        "        - 塾スコア"
      ],
      "metadata": {
        "id": "kP0WeYTi3sb3"
      }
    },
    {
      "cell_type": "code",
      "source": [
        "!pip install -q japanize-matplotlib"
      ],
      "metadata": {
        "id": "E9YHHF2F37-N"
      },
      "execution_count": 1,
      "outputs": []
    },
    {
      "cell_type": "code",
      "execution_count": 2,
      "metadata": {
        "colab": {
          "base_uri": "https://localhost:8080/"
        },
        "id": "w4KT6mck3nOo",
        "outputId": "1e2f94fc-6e3b-435f-ad10-c819bb92f3d6"
      },
      "outputs": [
        {
          "output_type": "stream",
          "name": "stdout",
          "text": [
            "Drive already mounted at /content/drive; to attempt to forcibly remount, call drive.mount(\"/content/drive\", force_remount=True).\n"
          ]
        }
      ],
      "source": [
        "from google.colab import drive\n",
        "drive.mount('/content/drive')"
      ]
    },
    {
      "cell_type": "code",
      "source": [
        "DIR_NAME = '/content/drive/MyDrive/z-gard/data'"
      ],
      "metadata": {
        "id": "ScoGtQsV3sA0"
      },
      "execution_count": 3,
      "outputs": []
    },
    {
      "cell_type": "code",
      "source": [
        "import os\n",
        "import requests\n",
        "import json\n",
        "import pandas as pd\n",
        "from urllib.parse import urlparse, quote\n",
        "import io\n",
        "import math\n",
        "import numpy as np\n",
        "import matplotlib.pyplot as plt\n",
        "import japanize_matplotlib\n",
        "import seaborn as sns\n",
        "\n",
        "pd.set_option('display.max_columns', 50)\n",
        "pd.set_option('display.max_rows', 100)"
      ],
      "metadata": {
        "id": "1ef9tlAW3zxE"
      },
      "execution_count": 4,
      "outputs": []
    },
    {
      "cell_type": "code",
      "source": [
        "output_score_file = 'public_school_score.csv'"
      ],
      "metadata": {
        "id": "yRV4HuouJ1TX"
      },
      "execution_count": 5,
      "outputs": []
    },
    {
      "cell_type": "markdown",
      "source": [
        "### 地理マスタ"
      ],
      "metadata": {
        "id": "XRO-NFWf4Gnn"
      }
    },
    {
      "cell_type": "code",
      "source": [
        "df_geo_master = pd.read_csv(os.path.join(DIR_NAME, 'geocoding.csv'))[['town_id', '市区町村名', '町名', '町丁目', '緯度', '経度']]\n",
        "print(df_geo_master.shape)\n",
        "geo_master_len = len(df_geo_master)"
      ],
      "metadata": {
        "colab": {
          "base_uri": "https://localhost:8080/"
        },
        "id": "hD-7wSVN4BH0",
        "outputId": "6ee48f19-3c47-42ce-f2d4-7d4186e86419"
      },
      "execution_count": 6,
      "outputs": [
        {
          "output_type": "stream",
          "name": "stdout",
          "text": [
            "(3145, 6)\n"
          ]
        }
      ]
    },
    {
      "cell_type": "markdown",
      "source": [
        "### 学校"
      ],
      "metadata": {
        "id": "2-pBdXmw4Ktq"
      }
    },
    {
      "cell_type": "code",
      "source": [
        "df_school_master = pd.read_csv(os.path.join(DIR_NAME, 'public_school_master.csv'))[['学校番号', '施設分類', '市区町村名', '名称', '緯度', '経度', 'rating']]\n",
        "df_school_master['学校番号'] = df_school_master['学校番号'].astype(str)\n",
        "print(df_school_master.shape)"
      ],
      "metadata": {
        "colab": {
          "base_uri": "https://localhost:8080/"
        },
        "id": "bZ7JBlaa4JtN",
        "outputId": "6ea38ab9-deff-4a52-a033-c3f9f49b1ac2"
      },
      "execution_count": 7,
      "outputs": [
        {
          "output_type": "stream",
          "name": "stdout",
          "text": [
            "(1363, 7)\n"
          ]
        }
      ]
    },
    {
      "cell_type": "code",
      "source": [
        "# レーティングが0.0 の学校は、NaNにする\n",
        "df_school_master.loc[df_school_master['rating'] == 0, 'rating'] = np.NaN\n",
        "print(len(df_school_master[df_school_master['rating'].isna()]))"
      ],
      "metadata": {
        "id": "QDXw302IR-4K",
        "outputId": "650026e5-d59e-4975-da65-69b92fde7d4f",
        "colab": {
          "base_uri": "https://localhost:8080/"
        }
      },
      "execution_count": 8,
      "outputs": [
        {
          "output_type": "stream",
          "name": "stdout",
          "text": [
            "83\n"
          ]
        }
      ]
    },
    {
      "cell_type": "code",
      "source": [
        "df_school_master['施設分類'].value_counts()"
      ],
      "metadata": {
        "id": "yF_1xSiBHjAh",
        "outputId": "b7316123-fb07-483e-e79a-ec11f04f5efb",
        "colab": {
          "base_uri": "https://localhost:8080/"
        }
      },
      "execution_count": 9,
      "outputs": [
        {
          "output_type": "execute_result",
          "data": {
            "text/plain": [
              "小学校    822\n",
              "中学校    377\n",
              "幼稚園    164\n",
              "Name: 施設分類, dtype: int64"
            ]
          },
          "metadata": {},
          "execution_count": 9
        }
      ]
    },
    {
      "cell_type": "code",
      "source": [
        "df_school_master.head()"
      ],
      "metadata": {
        "colab": {
          "base_uri": "https://localhost:8080/",
          "height": 206
        },
        "id": "4l7rTSqAT231",
        "outputId": "2ac32085-de61-4fdd-dffc-c6a68bd279b0"
      },
      "execution_count": 10,
      "outputs": [
        {
          "output_type": "execute_result",
          "data": {
            "text/plain": [
              "     学校番号 施設分類 市区町村名            名称         緯度          経度  rating\n",
              "0  101150  幼稚園  千代田区    千代田区立麹町幼稚園  35.685691  139.740164     NaN\n",
              "1  101160  幼稚園  千代田区    千代田区立九段幼稚園  35.690666  139.741195     NaN\n",
              "2  101170  幼稚園  千代田区    千代田区立番町幼稚園  35.687629  139.733426     5.0\n",
              "3  101190  幼稚園  千代田区  千代田区立お茶の水幼稚園  35.697445  139.748569     4.0\n",
              "4  101200  幼稚園  千代田区   千代田区立千代田幼稚園  35.693169  139.768274     NaN"
            ],
            "text/html": [
              "\n",
              "  <div id=\"df-47335638-4026-4d74-9ce3-648f5e0cb243\">\n",
              "    <div class=\"colab-df-container\">\n",
              "      <div>\n",
              "<style scoped>\n",
              "    .dataframe tbody tr th:only-of-type {\n",
              "        vertical-align: middle;\n",
              "    }\n",
              "\n",
              "    .dataframe tbody tr th {\n",
              "        vertical-align: top;\n",
              "    }\n",
              "\n",
              "    .dataframe thead th {\n",
              "        text-align: right;\n",
              "    }\n",
              "</style>\n",
              "<table border=\"1\" class=\"dataframe\">\n",
              "  <thead>\n",
              "    <tr style=\"text-align: right;\">\n",
              "      <th></th>\n",
              "      <th>学校番号</th>\n",
              "      <th>施設分類</th>\n",
              "      <th>市区町村名</th>\n",
              "      <th>名称</th>\n",
              "      <th>緯度</th>\n",
              "      <th>経度</th>\n",
              "      <th>rating</th>\n",
              "    </tr>\n",
              "  </thead>\n",
              "  <tbody>\n",
              "    <tr>\n",
              "      <th>0</th>\n",
              "      <td>101150</td>\n",
              "      <td>幼稚園</td>\n",
              "      <td>千代田区</td>\n",
              "      <td>千代田区立麹町幼稚園</td>\n",
              "      <td>35.685691</td>\n",
              "      <td>139.740164</td>\n",
              "      <td>NaN</td>\n",
              "    </tr>\n",
              "    <tr>\n",
              "      <th>1</th>\n",
              "      <td>101160</td>\n",
              "      <td>幼稚園</td>\n",
              "      <td>千代田区</td>\n",
              "      <td>千代田区立九段幼稚園</td>\n",
              "      <td>35.690666</td>\n",
              "      <td>139.741195</td>\n",
              "      <td>NaN</td>\n",
              "    </tr>\n",
              "    <tr>\n",
              "      <th>2</th>\n",
              "      <td>101170</td>\n",
              "      <td>幼稚園</td>\n",
              "      <td>千代田区</td>\n",
              "      <td>千代田区立番町幼稚園</td>\n",
              "      <td>35.687629</td>\n",
              "      <td>139.733426</td>\n",
              "      <td>5.0</td>\n",
              "    </tr>\n",
              "    <tr>\n",
              "      <th>3</th>\n",
              "      <td>101190</td>\n",
              "      <td>幼稚園</td>\n",
              "      <td>千代田区</td>\n",
              "      <td>千代田区立お茶の水幼稚園</td>\n",
              "      <td>35.697445</td>\n",
              "      <td>139.748569</td>\n",
              "      <td>4.0</td>\n",
              "    </tr>\n",
              "    <tr>\n",
              "      <th>4</th>\n",
              "      <td>101200</td>\n",
              "      <td>幼稚園</td>\n",
              "      <td>千代田区</td>\n",
              "      <td>千代田区立千代田幼稚園</td>\n",
              "      <td>35.693169</td>\n",
              "      <td>139.768274</td>\n",
              "      <td>NaN</td>\n",
              "    </tr>\n",
              "  </tbody>\n",
              "</table>\n",
              "</div>\n",
              "      <button class=\"colab-df-convert\" onclick=\"convertToInteractive('df-47335638-4026-4d74-9ce3-648f5e0cb243')\"\n",
              "              title=\"Convert this dataframe to an interactive table.\"\n",
              "              style=\"display:none;\">\n",
              "        \n",
              "  <svg xmlns=\"http://www.w3.org/2000/svg\" height=\"24px\"viewBox=\"0 0 24 24\"\n",
              "       width=\"24px\">\n",
              "    <path d=\"M0 0h24v24H0V0z\" fill=\"none\"/>\n",
              "    <path d=\"M18.56 5.44l.94 2.06.94-2.06 2.06-.94-2.06-.94-.94-2.06-.94 2.06-2.06.94zm-11 1L8.5 8.5l.94-2.06 2.06-.94-2.06-.94L8.5 2.5l-.94 2.06-2.06.94zm10 10l.94 2.06.94-2.06 2.06-.94-2.06-.94-.94-2.06-.94 2.06-2.06.94z\"/><path d=\"M17.41 7.96l-1.37-1.37c-.4-.4-.92-.59-1.43-.59-.52 0-1.04.2-1.43.59L10.3 9.45l-7.72 7.72c-.78.78-.78 2.05 0 2.83L4 21.41c.39.39.9.59 1.41.59.51 0 1.02-.2 1.41-.59l7.78-7.78 2.81-2.81c.8-.78.8-2.07 0-2.86zM5.41 20L4 18.59l7.72-7.72 1.47 1.35L5.41 20z\"/>\n",
              "  </svg>\n",
              "      </button>\n",
              "      \n",
              "  <style>\n",
              "    .colab-df-container {\n",
              "      display:flex;\n",
              "      flex-wrap:wrap;\n",
              "      gap: 12px;\n",
              "    }\n",
              "\n",
              "    .colab-df-convert {\n",
              "      background-color: #E8F0FE;\n",
              "      border: none;\n",
              "      border-radius: 50%;\n",
              "      cursor: pointer;\n",
              "      display: none;\n",
              "      fill: #1967D2;\n",
              "      height: 32px;\n",
              "      padding: 0 0 0 0;\n",
              "      width: 32px;\n",
              "    }\n",
              "\n",
              "    .colab-df-convert:hover {\n",
              "      background-color: #E2EBFA;\n",
              "      box-shadow: 0px 1px 2px rgba(60, 64, 67, 0.3), 0px 1px 3px 1px rgba(60, 64, 67, 0.15);\n",
              "      fill: #174EA6;\n",
              "    }\n",
              "\n",
              "    [theme=dark] .colab-df-convert {\n",
              "      background-color: #3B4455;\n",
              "      fill: #D2E3FC;\n",
              "    }\n",
              "\n",
              "    [theme=dark] .colab-df-convert:hover {\n",
              "      background-color: #434B5C;\n",
              "      box-shadow: 0px 1px 3px 1px rgba(0, 0, 0, 0.15);\n",
              "      filter: drop-shadow(0px 1px 2px rgba(0, 0, 0, 0.3));\n",
              "      fill: #FFFFFF;\n",
              "    }\n",
              "  </style>\n",
              "\n",
              "      <script>\n",
              "        const buttonEl =\n",
              "          document.querySelector('#df-47335638-4026-4d74-9ce3-648f5e0cb243 button.colab-df-convert');\n",
              "        buttonEl.style.display =\n",
              "          google.colab.kernel.accessAllowed ? 'block' : 'none';\n",
              "\n",
              "        async function convertToInteractive(key) {\n",
              "          const element = document.querySelector('#df-47335638-4026-4d74-9ce3-648f5e0cb243');\n",
              "          const dataTable =\n",
              "            await google.colab.kernel.invokeFunction('convertToInteractive',\n",
              "                                                     [key], {});\n",
              "          if (!dataTable) return;\n",
              "\n",
              "          const docLinkHtml = 'Like what you see? Visit the ' +\n",
              "            '<a target=\"_blank\" href=https://colab.research.google.com/notebooks/data_table.ipynb>data table notebook</a>'\n",
              "            + ' to learn more about interactive tables.';\n",
              "          element.innerHTML = '';\n",
              "          dataTable['output_type'] = 'display_data';\n",
              "          await google.colab.output.renderOutput(dataTable, element);\n",
              "          const docLink = document.createElement('div');\n",
              "          docLink.innerHTML = docLinkHtml;\n",
              "          element.appendChild(docLink);\n",
              "        }\n",
              "      </script>\n",
              "    </div>\n",
              "  </div>\n",
              "  "
            ]
          },
          "metadata": {},
          "execution_count": 10
        }
      ]
    },
    {
      "cell_type": "markdown",
      "source": [
        "### 学習塾"
      ],
      "metadata": {
        "id": "wJO_SjdQ0xLQ"
      }
    },
    {
      "cell_type": "code",
      "source": [
        "df_private_master = pd.read_csv(os.path.join(DIR_NAME, 'private_school_master.csv'))[['名称', '緯度', '経度', '施設分類', 'rating']]\n",
        "print(df_private_master.shape)"
      ],
      "metadata": {
        "id": "qJJWXsSdqZ8g",
        "outputId": "1b00314c-9c8d-4190-d3e6-aaf019c9e86b",
        "colab": {
          "base_uri": "https://localhost:8080/"
        }
      },
      "execution_count": 11,
      "outputs": [
        {
          "output_type": "stream",
          "name": "stdout",
          "text": [
            "(7307, 5)\n"
          ]
        }
      ]
    },
    {
      "cell_type": "code",
      "source": [
        "df_private_master['施設分類'].value_counts()"
      ],
      "metadata": {
        "id": "haQLDI-KqpMm",
        "outputId": "4e11e8aa-cbd0-49f2-8766-18540a88e5f7",
        "colab": {
          "base_uri": "https://localhost:8080/"
        }
      },
      "execution_count": 12,
      "outputs": [
        {
          "output_type": "execute_result",
          "data": {
            "text/plain": [
              "学習塾        2306\n",
              "保育園        2093\n",
              "小学校         694\n",
              "幼稚園         449\n",
              "音楽教室        426\n",
              "中学校         319\n",
              "幼児教室        286\n",
              "高等学校        212\n",
              "大学          177\n",
              "英語教室        111\n",
              "プログラミング      91\n",
              "学童保育         50\n",
              "専門学校         39\n",
              "囲碁将棋         31\n",
              "ダンス          23\n",
              "Name: 施設分類, dtype: int64"
            ]
          },
          "metadata": {},
          "execution_count": 12
        }
      ]
    },
    {
      "cell_type": "code",
      "source": [
        "df_cram_school = df_private_master[df_private_master['施設分類'] == '学習塾'].reset_index(drop=True)\n",
        "print(df_cram_school.shape)"
      ],
      "metadata": {
        "id": "0eAl5dCFjSFz",
        "outputId": "8654ba86-9283-4655-f5f2-b3629c71befb",
        "colab": {
          "base_uri": "https://localhost:8080/"
        }
      },
      "execution_count": 13,
      "outputs": [
        {
          "output_type": "stream",
          "name": "stdout",
          "text": [
            "(2306, 5)\n"
          ]
        }
      ]
    },
    {
      "cell_type": "code",
      "source": [
        "df_kindergarten = df_private_master[df_private_master['施設分類'] == '幼稚園'].reset_index(drop=True).reset_index()\n",
        "print(df_kindergarten.shape)"
      ],
      "metadata": {
        "id": "4-eMvLZDHHxC",
        "outputId": "a24e565e-14b8-4fc7-ed00-524c6d2db982",
        "colab": {
          "base_uri": "https://localhost:8080/"
        }
      },
      "execution_count": 14,
      "outputs": [
        {
          "output_type": "stream",
          "name": "stdout",
          "text": [
            "(449, 6)\n"
          ]
        }
      ]
    },
    {
      "cell_type": "code",
      "source": [
        "df_kindergarten['学校番号'] = df_kindergarten['index'].apply(lambda x: f'K{x:05}')\n",
        "df_kindergarten['区立'] = df_kindergarten['名称'].str.extract('(.+)区立', expand=False)\n",
        "\n",
        "df_kindergarten = df_kindergarten[df_kindergarten['区立'].isna()].drop(columns=['index', '区立'])\n",
        "print(df_kindergarten.shape)"
      ],
      "metadata": {
        "id": "QmaBqbxKIN2h",
        "outputId": "43e2d60a-22e2-45da-c3fd-e9c15e6dc0c1",
        "colab": {
          "base_uri": "https://localhost:8080/"
        }
      },
      "execution_count": 15,
      "outputs": [
        {
          "output_type": "stream",
          "name": "stdout",
          "text": [
            "(396, 6)\n"
          ]
        }
      ]
    },
    {
      "cell_type": "code",
      "source": [
        "df_kindergarten.head()"
      ],
      "metadata": {
        "id": "3B1uwSqkN5H_",
        "outputId": "bdf79c8b-4e09-4ced-9288-43ef13fc8e63",
        "colab": {
          "base_uri": "https://localhost:8080/",
          "height": 206
        }
      },
      "execution_count": 16,
      "outputs": [
        {
          "output_type": "execute_result",
          "data": {
            "text/plain": [
              "         名称         緯度          経度 施設分類  rating    学校番号\n",
              "0  玉川幼稚園 別館  35.624935  139.614287  幼稚園     NaN  K00000\n",
              "1     新井幼稚園  35.777931  139.778675  幼稚園     NaN  K00001\n",
              "2   ちえようちえん  35.791165  139.791125  幼稚園     NaN  K00002\n",
              "3    ゆたか幼稚園  35.800628  139.866879  幼稚園     4.5  K00003\n",
              "4     栄光幼稚園  35.789507  139.883900  幼稚園     4.0  K00004"
            ],
            "text/html": [
              "\n",
              "  <div id=\"df-3a6bbad5-02ed-4974-90f3-c732b604cbcf\">\n",
              "    <div class=\"colab-df-container\">\n",
              "      <div>\n",
              "<style scoped>\n",
              "    .dataframe tbody tr th:only-of-type {\n",
              "        vertical-align: middle;\n",
              "    }\n",
              "\n",
              "    .dataframe tbody tr th {\n",
              "        vertical-align: top;\n",
              "    }\n",
              "\n",
              "    .dataframe thead th {\n",
              "        text-align: right;\n",
              "    }\n",
              "</style>\n",
              "<table border=\"1\" class=\"dataframe\">\n",
              "  <thead>\n",
              "    <tr style=\"text-align: right;\">\n",
              "      <th></th>\n",
              "      <th>名称</th>\n",
              "      <th>緯度</th>\n",
              "      <th>経度</th>\n",
              "      <th>施設分類</th>\n",
              "      <th>rating</th>\n",
              "      <th>学校番号</th>\n",
              "    </tr>\n",
              "  </thead>\n",
              "  <tbody>\n",
              "    <tr>\n",
              "      <th>0</th>\n",
              "      <td>玉川幼稚園 別館</td>\n",
              "      <td>35.624935</td>\n",
              "      <td>139.614287</td>\n",
              "      <td>幼稚園</td>\n",
              "      <td>NaN</td>\n",
              "      <td>K00000</td>\n",
              "    </tr>\n",
              "    <tr>\n",
              "      <th>1</th>\n",
              "      <td>新井幼稚園</td>\n",
              "      <td>35.777931</td>\n",
              "      <td>139.778675</td>\n",
              "      <td>幼稚園</td>\n",
              "      <td>NaN</td>\n",
              "      <td>K00001</td>\n",
              "    </tr>\n",
              "    <tr>\n",
              "      <th>2</th>\n",
              "      <td>ちえようちえん</td>\n",
              "      <td>35.791165</td>\n",
              "      <td>139.791125</td>\n",
              "      <td>幼稚園</td>\n",
              "      <td>NaN</td>\n",
              "      <td>K00002</td>\n",
              "    </tr>\n",
              "    <tr>\n",
              "      <th>3</th>\n",
              "      <td>ゆたか幼稚園</td>\n",
              "      <td>35.800628</td>\n",
              "      <td>139.866879</td>\n",
              "      <td>幼稚園</td>\n",
              "      <td>4.5</td>\n",
              "      <td>K00003</td>\n",
              "    </tr>\n",
              "    <tr>\n",
              "      <th>4</th>\n",
              "      <td>栄光幼稚園</td>\n",
              "      <td>35.789507</td>\n",
              "      <td>139.883900</td>\n",
              "      <td>幼稚園</td>\n",
              "      <td>4.0</td>\n",
              "      <td>K00004</td>\n",
              "    </tr>\n",
              "  </tbody>\n",
              "</table>\n",
              "</div>\n",
              "      <button class=\"colab-df-convert\" onclick=\"convertToInteractive('df-3a6bbad5-02ed-4974-90f3-c732b604cbcf')\"\n",
              "              title=\"Convert this dataframe to an interactive table.\"\n",
              "              style=\"display:none;\">\n",
              "        \n",
              "  <svg xmlns=\"http://www.w3.org/2000/svg\" height=\"24px\"viewBox=\"0 0 24 24\"\n",
              "       width=\"24px\">\n",
              "    <path d=\"M0 0h24v24H0V0z\" fill=\"none\"/>\n",
              "    <path d=\"M18.56 5.44l.94 2.06.94-2.06 2.06-.94-2.06-.94-.94-2.06-.94 2.06-2.06.94zm-11 1L8.5 8.5l.94-2.06 2.06-.94-2.06-.94L8.5 2.5l-.94 2.06-2.06.94zm10 10l.94 2.06.94-2.06 2.06-.94-2.06-.94-.94-2.06-.94 2.06-2.06.94z\"/><path d=\"M17.41 7.96l-1.37-1.37c-.4-.4-.92-.59-1.43-.59-.52 0-1.04.2-1.43.59L10.3 9.45l-7.72 7.72c-.78.78-.78 2.05 0 2.83L4 21.41c.39.39.9.59 1.41.59.51 0 1.02-.2 1.41-.59l7.78-7.78 2.81-2.81c.8-.78.8-2.07 0-2.86zM5.41 20L4 18.59l7.72-7.72 1.47 1.35L5.41 20z\"/>\n",
              "  </svg>\n",
              "      </button>\n",
              "      \n",
              "  <style>\n",
              "    .colab-df-container {\n",
              "      display:flex;\n",
              "      flex-wrap:wrap;\n",
              "      gap: 12px;\n",
              "    }\n",
              "\n",
              "    .colab-df-convert {\n",
              "      background-color: #E8F0FE;\n",
              "      border: none;\n",
              "      border-radius: 50%;\n",
              "      cursor: pointer;\n",
              "      display: none;\n",
              "      fill: #1967D2;\n",
              "      height: 32px;\n",
              "      padding: 0 0 0 0;\n",
              "      width: 32px;\n",
              "    }\n",
              "\n",
              "    .colab-df-convert:hover {\n",
              "      background-color: #E2EBFA;\n",
              "      box-shadow: 0px 1px 2px rgba(60, 64, 67, 0.3), 0px 1px 3px 1px rgba(60, 64, 67, 0.15);\n",
              "      fill: #174EA6;\n",
              "    }\n",
              "\n",
              "    [theme=dark] .colab-df-convert {\n",
              "      background-color: #3B4455;\n",
              "      fill: #D2E3FC;\n",
              "    }\n",
              "\n",
              "    [theme=dark] .colab-df-convert:hover {\n",
              "      background-color: #434B5C;\n",
              "      box-shadow: 0px 1px 3px 1px rgba(0, 0, 0, 0.15);\n",
              "      filter: drop-shadow(0px 1px 2px rgba(0, 0, 0, 0.3));\n",
              "      fill: #FFFFFF;\n",
              "    }\n",
              "  </style>\n",
              "\n",
              "      <script>\n",
              "        const buttonEl =\n",
              "          document.querySelector('#df-3a6bbad5-02ed-4974-90f3-c732b604cbcf button.colab-df-convert');\n",
              "        buttonEl.style.display =\n",
              "          google.colab.kernel.accessAllowed ? 'block' : 'none';\n",
              "\n",
              "        async function convertToInteractive(key) {\n",
              "          const element = document.querySelector('#df-3a6bbad5-02ed-4974-90f3-c732b604cbcf');\n",
              "          const dataTable =\n",
              "            await google.colab.kernel.invokeFunction('convertToInteractive',\n",
              "                                                     [key], {});\n",
              "          if (!dataTable) return;\n",
              "\n",
              "          const docLinkHtml = 'Like what you see? Visit the ' +\n",
              "            '<a target=\"_blank\" href=https://colab.research.google.com/notebooks/data_table.ipynb>data table notebook</a>'\n",
              "            + ' to learn more about interactive tables.';\n",
              "          element.innerHTML = '';\n",
              "          dataTable['output_type'] = 'display_data';\n",
              "          await google.colab.output.renderOutput(dataTable, element);\n",
              "          const docLink = document.createElement('div');\n",
              "          docLink.innerHTML = docLinkHtml;\n",
              "          element.appendChild(docLink);\n",
              "        }\n",
              "      </script>\n",
              "    </div>\n",
              "  </div>\n",
              "  "
            ]
          },
          "metadata": {},
          "execution_count": 16
        }
      ]
    },
    {
      "cell_type": "code",
      "source": [
        "df_school_master = pd.concat([\n",
        "    df_school_master,\n",
        "    df_cram_school,\n",
        "    df_kindergarten\n",
        "]).reset_index(drop=True)\n",
        "print(df_school_master.shape)"
      ],
      "metadata": {
        "id": "lepqsh1X0jck",
        "outputId": "a4c11fb6-ea3c-49f1-83d4-cd1d44e50d1b",
        "colab": {
          "base_uri": "https://localhost:8080/"
        }
      },
      "execution_count": 17,
      "outputs": [
        {
          "output_type": "stream",
          "name": "stdout",
          "text": [
            "(4065, 7)\n"
          ]
        }
      ]
    },
    {
      "cell_type": "code",
      "source": [
        "# 距離計算\n",
        "def get_distance(lat1, lon1, lat2, lon2):\n",
        "    _lat1 = lat1 * math.pi / 180\n",
        "    _lon1 = lon1 * math.pi / 180\n",
        "    _lat2 = lat2 * math.pi / 180\n",
        "    _lon2 = lon2 * math.pi / 180\n",
        "    _tmp = math.cos(_lat1) * math.cos(_lat2) * math.cos(_lon2 - _lon1) + math.sin(_lat1) * math.sin(_lat2)\n",
        "    _tmp = 1 if _tmp > 1 else -1 if _tmp < -1 else _tmp\n",
        "    return 6371 * math.acos(_tmp)\n",
        "\n",
        "# 最寄り施設までの距離\n",
        "def get_value_of_nearest_facility(df_master, df_facility, category, method='min', param=3):\n",
        "    _df_cat = df_facility[df_facility['施設分類'] == category].copy()\n",
        "    cat_values = []\n",
        "    for i, (lat, lon) in enumerate(zip(df_master['緯度'].values, df_master['経度'].values)):\n",
        "        dist = _df_cat[\n",
        "            ((_df_cat['緯度'] - lat).abs() < 0.04) &    # 約4km以内\n",
        "            ((_df_cat['経度'] - lon).abs() < 0.04)      # 約4km以内\n",
        "        ].apply(lambda x: get_distance(x['緯度'], x['経度'], lat, lon), axis=1)\n",
        "        val = np.NaN\n",
        "        if len(dist) > 0:\n",
        "            if method == 'min':\n",
        "                # 最小の距離\n",
        "                val = dist.min()\n",
        "            elif method == 'count':\n",
        "                # {param}km以内の施設の数をカウント\n",
        "                val = len(dist[dist <= param])\n",
        "            elif method == 'mean':\n",
        "                # 近い{param}件の距離の平均\n",
        "                val = dist.sort_values()[:param].mean()\n",
        "        else:\n",
        "            print(f'{category} not found {i}')\n",
        "        cat_values.append(val)\n",
        "    return cat_values\n",
        "\n",
        "# 最寄り施設までの距離\n",
        "def get_value_of_nearest_facility_2(df_master, df_facility, category, method='min', param=3):\n",
        "    _df_cat = df_facility[df_facility['施設分類'] == category].reset_index(drop=True)\n",
        "    cat_values = []\n",
        "    for i, row in df_master.iterrows():\n",
        "        dist = _df_cat.apply(lambda x: get_distance(x['緯度'], x['経度'], row['緯度'], row['経度']), axis=1)\n",
        "        val = None\n",
        "        if method == 'min_param':\n",
        "            # 最小の距離の時の他のパラメータを返す\n",
        "            min_idx = dist.idxmin()\n",
        "            if np.isnan(min_idx):\n",
        "                val = np.NaN\n",
        "            else:\n",
        "                val = _df_cat.iloc[min_idx][param]\n",
        "        cat_values.append(val)\n",
        "    return cat_values"
      ],
      "metadata": {
        "id": "_zuCoLhg48ZN"
      },
      "execution_count": 18,
      "outputs": []
    },
    {
      "cell_type": "markdown",
      "source": [
        "### スコア"
      ],
      "metadata": {
        "id": "IILAQB3vA02_"
      }
    },
    {
      "cell_type": "code",
      "source": [
        "school_types = ['小学校', '中学校', '幼稚園']"
      ],
      "metadata": {
        "id": "f9fC4DEc6_NL"
      },
      "execution_count": 19,
      "outputs": []
    },
    {
      "cell_type": "code",
      "source": [
        "%%time\n",
        "for school in school_types:\n",
        "    # 一番近い施設の距離\n",
        "    df_geo_master[f'{school}(最近傍距離)'] = get_value_of_nearest_facility(df_geo_master, df_school_master, school, 'min')\n",
        "    # 最寄りの学校\n",
        "    df_geo_master[f'{school}(学校番号)'] = get_value_of_nearest_facility_2(df_geo_master, df_school_master, school, 'min_param', '学校番号')\n",
        "\n",
        "radius = 1    # 1km以内の数\n",
        "df_geo_master['学習塾(数)'] = get_value_of_nearest_facility(df_geo_master, df_school_master, '学習塾', 'count', radius)\n",
        "\n",
        "print(df_geo_master.shape)"
      ],
      "metadata": {
        "id": "ByPFzFHP7zpb",
        "outputId": "c342bcd8-e17f-49d9-907a-dccff50ff15a",
        "colab": {
          "base_uri": "https://localhost:8080/"
        }
      },
      "execution_count": 20,
      "outputs": [
        {
          "output_type": "stream",
          "name": "stdout",
          "text": [
            "小学校 not found 1050\n",
            "小学校 not found 1301\n",
            "小学校 not found 1354\n",
            "小学校 not found 1357\n",
            "小学校 not found 2830\n",
            "中学校 not found 1050\n",
            "中学校 not found 1354\n",
            "中学校 not found 1357\n",
            "中学校 not found 2830\n",
            "幼稚園 not found 1050\n",
            "幼稚園 not found 1301\n",
            "幼稚園 not found 1354\n",
            "幼稚園 not found 1357\n",
            "幼稚園 not found 2830\n",
            "学習塾 not found 1050\n",
            "学習塾 not found 1354\n",
            "学習塾 not found 1357\n",
            "学習塾 not found 2830\n",
            "(3145, 13)\n",
            "CPU times: user 3min 7s, sys: 1.09 s, total: 3min 8s\n",
            "Wall time: 3min 19s\n"
          ]
        }
      ]
    },
    {
      "cell_type": "code",
      "source": [
        "for school in school_types:\n",
        "    df_geo_master[f'{school}(最近傍距離)'] = df_geo_master[f'{school}(最近傍距離)'].fillna(df_geo_master[f'{school}(最近傍距離)'].max())\n",
        "    df_geo_master[f'{school}(学校番号)'] = df_geo_master[f'{school}(学校番号)'].fillna('None')"
      ],
      "metadata": {
        "id": "HRsHRbpQ66hN"
      },
      "execution_count": 21,
      "outputs": []
    },
    {
      "cell_type": "code",
      "source": [
        "for school in school_types:\n",
        "    df_geo_master = pd.merge(\n",
        "        df_geo_master, \n",
        "        df_school_master[df_school_master['施設分類'] == school][['学校番号', '名称', 'rating']].rename(columns={\n",
        "            '学校番号': f'{school}(学校番号)', \n",
        "            '名称':f'最寄りの{school}', \n",
        "            'rating':f'{school}のレーティング'\n",
        "        }), \n",
        "        on=f'{school}(学校番号)', how='left'\n",
        "    ).drop(columns=[f'{school}(学校番号)'])\n",
        "    print(school, df_geo_master.shape)"
      ],
      "metadata": {
        "id": "AuS-uIqS8IN5",
        "outputId": "58ff11b6-42a9-44e7-bf30-283ad8b2e636",
        "colab": {
          "base_uri": "https://localhost:8080/"
        }
      },
      "execution_count": 22,
      "outputs": [
        {
          "output_type": "stream",
          "name": "stdout",
          "text": [
            "小学校 (3145, 14)\n",
            "中学校 (3145, 15)\n",
            "幼稚園 (3145, 16)\n"
          ]
        }
      ]
    },
    {
      "cell_type": "code",
      "source": [],
      "metadata": {
        "id": "4nG-K8R0jJW_"
      },
      "execution_count": 22,
      "outputs": []
    },
    {
      "cell_type": "code",
      "source": [
        "df_geo_master"
      ],
      "metadata": {
        "id": "v907v_MaGzXl",
        "outputId": "093525d3-8f6f-4a87-bf98-699e9eee7594",
        "colab": {
          "base_uri": "https://localhost:8080/",
          "height": 850
        }
      },
      "execution_count": 23,
      "outputs": [
        {
          "output_type": "execute_result",
          "data": {
            "text/plain": [
              "      town_id 市区町村名   町名     町丁目         緯度          経度  小学校(最近傍距離)  \\\n",
              "0      101003  千代田区  丸の内  丸の内１丁目  35.681560  139.767201    0.353926   \n",
              "1      101004  千代田区  丸の内  丸の内２丁目  35.680022  139.763447    0.567168   \n",
              "2      101005  千代田区  丸の内  丸の内３丁目  35.676952  139.763476    0.550874   \n",
              "3      101007  千代田区  大手町  大手町１丁目  35.688069  139.763929    0.594157   \n",
              "4      101008  千代田区  大手町  大手町２丁目  35.686301  139.768087    0.295715   \n",
              "...       ...   ...  ...     ...        ...         ...         ...   \n",
              "3140   123235  江戸川区  臨海町  臨海町２丁目  35.650740  139.860552    0.128314   \n",
              "3141   123236  江戸川区  臨海町  臨海町３丁目  35.648913  139.865349    0.563739   \n",
              "3142   123237  江戸川区  臨海町  臨海町４丁目  35.646048  139.864216    0.646624   \n",
              "3143   123238  江戸川区  臨海町  臨海町５丁目  35.644551  139.869685    0.139458   \n",
              "3144   123239  江戸川区  臨海町  臨海町６丁目  35.642617  139.859944    0.979939   \n",
              "\n",
              "      中学校(最近傍距離)  幼稚園(最近傍距離)  学習塾(数)        最寄りの小学校  小学校のレーティング  \\\n",
              "0       1.689894    0.311683    10.0      中央区立城東小学校         4.1   \n",
              "1       1.628253    0.549758     8.0      中央区立城東小学校         4.1   \n",
              "2       1.287908    0.550874     9.0      中央区立泰明小学校         3.4   \n",
              "3       0.935392    0.594010     5.0      中央区立常盤小学校         4.2   \n",
              "4       1.342216    0.292816     6.0      中央区立常盤小学校         4.2   \n",
              "...          ...         ...     ...            ...         ...   \n",
              "3140    0.979961    1.189861     3.0     江戸川区立臨海小学校         3.8   \n",
              "3141    0.698372    0.831154     5.0     江戸川区立臨海小学校         3.8   \n",
              "3142    0.648016    1.006648     3.0  江戸川区立南葛西第三小学校         4.0   \n",
              "3143    0.143346    0.701663     4.0  江戸川区立南葛西第三小学校         4.0   \n",
              "3144    1.049421    1.522700     0.0  江戸川区立南葛西第三小学校         4.0   \n",
              "\n",
              "            最寄りの中学校  中学校のレーティング    最寄りの幼稚園  幼稚園のレーティング  \n",
              "0      千代田区立神田一橋中学校         3.5  中央区立昭和幼稚園         NaN  \n",
              "1         中央区立銀座中学校         3.5  中央区立昭和幼稚園         NaN  \n",
              "2         中央区立銀座中学校         3.5  中央区立泰明幼稚園         3.4  \n",
              "3      千代田区立神田一橋中学校         3.5  中央区立常盤幼稚園         3.0  \n",
              "4      千代田区立神田一橋中学校         3.5  中央区立常盤幼稚園         3.0  \n",
              "...             ...         ...        ...         ...  \n",
              "3140   江戸川区立清新第二中学校         3.2     江戸川幼稚園         3.4  \n",
              "3141  江戸川区立南葛西第二中学校         3.3    聖いずみ幼稚園         2.8  \n",
              "3142  江戸川区立南葛西第二中学校         3.3    聖いずみ幼稚園         2.8  \n",
              "3143  江戸川区立南葛西第二中学校         3.3    聖いずみ幼稚園         2.8  \n",
              "3144  江戸川区立南葛西第二中学校         3.3    聖いずみ幼稚園         2.8  \n",
              "\n",
              "[3145 rows x 16 columns]"
            ],
            "text/html": [
              "\n",
              "  <div id=\"df-e8f57172-7bbc-4e05-99ea-d8d90ab6eab3\">\n",
              "    <div class=\"colab-df-container\">\n",
              "      <div>\n",
              "<style scoped>\n",
              "    .dataframe tbody tr th:only-of-type {\n",
              "        vertical-align: middle;\n",
              "    }\n",
              "\n",
              "    .dataframe tbody tr th {\n",
              "        vertical-align: top;\n",
              "    }\n",
              "\n",
              "    .dataframe thead th {\n",
              "        text-align: right;\n",
              "    }\n",
              "</style>\n",
              "<table border=\"1\" class=\"dataframe\">\n",
              "  <thead>\n",
              "    <tr style=\"text-align: right;\">\n",
              "      <th></th>\n",
              "      <th>town_id</th>\n",
              "      <th>市区町村名</th>\n",
              "      <th>町名</th>\n",
              "      <th>町丁目</th>\n",
              "      <th>緯度</th>\n",
              "      <th>経度</th>\n",
              "      <th>小学校(最近傍距離)</th>\n",
              "      <th>中学校(最近傍距離)</th>\n",
              "      <th>幼稚園(最近傍距離)</th>\n",
              "      <th>学習塾(数)</th>\n",
              "      <th>最寄りの小学校</th>\n",
              "      <th>小学校のレーティング</th>\n",
              "      <th>最寄りの中学校</th>\n",
              "      <th>中学校のレーティング</th>\n",
              "      <th>最寄りの幼稚園</th>\n",
              "      <th>幼稚園のレーティング</th>\n",
              "    </tr>\n",
              "  </thead>\n",
              "  <tbody>\n",
              "    <tr>\n",
              "      <th>0</th>\n",
              "      <td>101003</td>\n",
              "      <td>千代田区</td>\n",
              "      <td>丸の内</td>\n",
              "      <td>丸の内１丁目</td>\n",
              "      <td>35.681560</td>\n",
              "      <td>139.767201</td>\n",
              "      <td>0.353926</td>\n",
              "      <td>1.689894</td>\n",
              "      <td>0.311683</td>\n",
              "      <td>10.0</td>\n",
              "      <td>中央区立城東小学校</td>\n",
              "      <td>4.1</td>\n",
              "      <td>千代田区立神田一橋中学校</td>\n",
              "      <td>3.5</td>\n",
              "      <td>中央区立昭和幼稚園</td>\n",
              "      <td>NaN</td>\n",
              "    </tr>\n",
              "    <tr>\n",
              "      <th>1</th>\n",
              "      <td>101004</td>\n",
              "      <td>千代田区</td>\n",
              "      <td>丸の内</td>\n",
              "      <td>丸の内２丁目</td>\n",
              "      <td>35.680022</td>\n",
              "      <td>139.763447</td>\n",
              "      <td>0.567168</td>\n",
              "      <td>1.628253</td>\n",
              "      <td>0.549758</td>\n",
              "      <td>8.0</td>\n",
              "      <td>中央区立城東小学校</td>\n",
              "      <td>4.1</td>\n",
              "      <td>中央区立銀座中学校</td>\n",
              "      <td>3.5</td>\n",
              "      <td>中央区立昭和幼稚園</td>\n",
              "      <td>NaN</td>\n",
              "    </tr>\n",
              "    <tr>\n",
              "      <th>2</th>\n",
              "      <td>101005</td>\n",
              "      <td>千代田区</td>\n",
              "      <td>丸の内</td>\n",
              "      <td>丸の内３丁目</td>\n",
              "      <td>35.676952</td>\n",
              "      <td>139.763476</td>\n",
              "      <td>0.550874</td>\n",
              "      <td>1.287908</td>\n",
              "      <td>0.550874</td>\n",
              "      <td>9.0</td>\n",
              "      <td>中央区立泰明小学校</td>\n",
              "      <td>3.4</td>\n",
              "      <td>中央区立銀座中学校</td>\n",
              "      <td>3.5</td>\n",
              "      <td>中央区立泰明幼稚園</td>\n",
              "      <td>3.4</td>\n",
              "    </tr>\n",
              "    <tr>\n",
              "      <th>3</th>\n",
              "      <td>101007</td>\n",
              "      <td>千代田区</td>\n",
              "      <td>大手町</td>\n",
              "      <td>大手町１丁目</td>\n",
              "      <td>35.688069</td>\n",
              "      <td>139.763929</td>\n",
              "      <td>0.594157</td>\n",
              "      <td>0.935392</td>\n",
              "      <td>0.594010</td>\n",
              "      <td>5.0</td>\n",
              "      <td>中央区立常盤小学校</td>\n",
              "      <td>4.2</td>\n",
              "      <td>千代田区立神田一橋中学校</td>\n",
              "      <td>3.5</td>\n",
              "      <td>中央区立常盤幼稚園</td>\n",
              "      <td>3.0</td>\n",
              "    </tr>\n",
              "    <tr>\n",
              "      <th>4</th>\n",
              "      <td>101008</td>\n",
              "      <td>千代田区</td>\n",
              "      <td>大手町</td>\n",
              "      <td>大手町２丁目</td>\n",
              "      <td>35.686301</td>\n",
              "      <td>139.768087</td>\n",
              "      <td>0.295715</td>\n",
              "      <td>1.342216</td>\n",
              "      <td>0.292816</td>\n",
              "      <td>6.0</td>\n",
              "      <td>中央区立常盤小学校</td>\n",
              "      <td>4.2</td>\n",
              "      <td>千代田区立神田一橋中学校</td>\n",
              "      <td>3.5</td>\n",
              "      <td>中央区立常盤幼稚園</td>\n",
              "      <td>3.0</td>\n",
              "    </tr>\n",
              "    <tr>\n",
              "      <th>...</th>\n",
              "      <td>...</td>\n",
              "      <td>...</td>\n",
              "      <td>...</td>\n",
              "      <td>...</td>\n",
              "      <td>...</td>\n",
              "      <td>...</td>\n",
              "      <td>...</td>\n",
              "      <td>...</td>\n",
              "      <td>...</td>\n",
              "      <td>...</td>\n",
              "      <td>...</td>\n",
              "      <td>...</td>\n",
              "      <td>...</td>\n",
              "      <td>...</td>\n",
              "      <td>...</td>\n",
              "      <td>...</td>\n",
              "    </tr>\n",
              "    <tr>\n",
              "      <th>3140</th>\n",
              "      <td>123235</td>\n",
              "      <td>江戸川区</td>\n",
              "      <td>臨海町</td>\n",
              "      <td>臨海町２丁目</td>\n",
              "      <td>35.650740</td>\n",
              "      <td>139.860552</td>\n",
              "      <td>0.128314</td>\n",
              "      <td>0.979961</td>\n",
              "      <td>1.189861</td>\n",
              "      <td>3.0</td>\n",
              "      <td>江戸川区立臨海小学校</td>\n",
              "      <td>3.8</td>\n",
              "      <td>江戸川区立清新第二中学校</td>\n",
              "      <td>3.2</td>\n",
              "      <td>江戸川幼稚園</td>\n",
              "      <td>3.4</td>\n",
              "    </tr>\n",
              "    <tr>\n",
              "      <th>3141</th>\n",
              "      <td>123236</td>\n",
              "      <td>江戸川区</td>\n",
              "      <td>臨海町</td>\n",
              "      <td>臨海町３丁目</td>\n",
              "      <td>35.648913</td>\n",
              "      <td>139.865349</td>\n",
              "      <td>0.563739</td>\n",
              "      <td>0.698372</td>\n",
              "      <td>0.831154</td>\n",
              "      <td>5.0</td>\n",
              "      <td>江戸川区立臨海小学校</td>\n",
              "      <td>3.8</td>\n",
              "      <td>江戸川区立南葛西第二中学校</td>\n",
              "      <td>3.3</td>\n",
              "      <td>聖いずみ幼稚園</td>\n",
              "      <td>2.8</td>\n",
              "    </tr>\n",
              "    <tr>\n",
              "      <th>3142</th>\n",
              "      <td>123237</td>\n",
              "      <td>江戸川区</td>\n",
              "      <td>臨海町</td>\n",
              "      <td>臨海町４丁目</td>\n",
              "      <td>35.646048</td>\n",
              "      <td>139.864216</td>\n",
              "      <td>0.646624</td>\n",
              "      <td>0.648016</td>\n",
              "      <td>1.006648</td>\n",
              "      <td>3.0</td>\n",
              "      <td>江戸川区立南葛西第三小学校</td>\n",
              "      <td>4.0</td>\n",
              "      <td>江戸川区立南葛西第二中学校</td>\n",
              "      <td>3.3</td>\n",
              "      <td>聖いずみ幼稚園</td>\n",
              "      <td>2.8</td>\n",
              "    </tr>\n",
              "    <tr>\n",
              "      <th>3143</th>\n",
              "      <td>123238</td>\n",
              "      <td>江戸川区</td>\n",
              "      <td>臨海町</td>\n",
              "      <td>臨海町５丁目</td>\n",
              "      <td>35.644551</td>\n",
              "      <td>139.869685</td>\n",
              "      <td>0.139458</td>\n",
              "      <td>0.143346</td>\n",
              "      <td>0.701663</td>\n",
              "      <td>4.0</td>\n",
              "      <td>江戸川区立南葛西第三小学校</td>\n",
              "      <td>4.0</td>\n",
              "      <td>江戸川区立南葛西第二中学校</td>\n",
              "      <td>3.3</td>\n",
              "      <td>聖いずみ幼稚園</td>\n",
              "      <td>2.8</td>\n",
              "    </tr>\n",
              "    <tr>\n",
              "      <th>3144</th>\n",
              "      <td>123239</td>\n",
              "      <td>江戸川区</td>\n",
              "      <td>臨海町</td>\n",
              "      <td>臨海町６丁目</td>\n",
              "      <td>35.642617</td>\n",
              "      <td>139.859944</td>\n",
              "      <td>0.979939</td>\n",
              "      <td>1.049421</td>\n",
              "      <td>1.522700</td>\n",
              "      <td>0.0</td>\n",
              "      <td>江戸川区立南葛西第三小学校</td>\n",
              "      <td>4.0</td>\n",
              "      <td>江戸川区立南葛西第二中学校</td>\n",
              "      <td>3.3</td>\n",
              "      <td>聖いずみ幼稚園</td>\n",
              "      <td>2.8</td>\n",
              "    </tr>\n",
              "  </tbody>\n",
              "</table>\n",
              "<p>3145 rows × 16 columns</p>\n",
              "</div>\n",
              "      <button class=\"colab-df-convert\" onclick=\"convertToInteractive('df-e8f57172-7bbc-4e05-99ea-d8d90ab6eab3')\"\n",
              "              title=\"Convert this dataframe to an interactive table.\"\n",
              "              style=\"display:none;\">\n",
              "        \n",
              "  <svg xmlns=\"http://www.w3.org/2000/svg\" height=\"24px\"viewBox=\"0 0 24 24\"\n",
              "       width=\"24px\">\n",
              "    <path d=\"M0 0h24v24H0V0z\" fill=\"none\"/>\n",
              "    <path d=\"M18.56 5.44l.94 2.06.94-2.06 2.06-.94-2.06-.94-.94-2.06-.94 2.06-2.06.94zm-11 1L8.5 8.5l.94-2.06 2.06-.94-2.06-.94L8.5 2.5l-.94 2.06-2.06.94zm10 10l.94 2.06.94-2.06 2.06-.94-2.06-.94-.94-2.06-.94 2.06-2.06.94z\"/><path d=\"M17.41 7.96l-1.37-1.37c-.4-.4-.92-.59-1.43-.59-.52 0-1.04.2-1.43.59L10.3 9.45l-7.72 7.72c-.78.78-.78 2.05 0 2.83L4 21.41c.39.39.9.59 1.41.59.51 0 1.02-.2 1.41-.59l7.78-7.78 2.81-2.81c.8-.78.8-2.07 0-2.86zM5.41 20L4 18.59l7.72-7.72 1.47 1.35L5.41 20z\"/>\n",
              "  </svg>\n",
              "      </button>\n",
              "      \n",
              "  <style>\n",
              "    .colab-df-container {\n",
              "      display:flex;\n",
              "      flex-wrap:wrap;\n",
              "      gap: 12px;\n",
              "    }\n",
              "\n",
              "    .colab-df-convert {\n",
              "      background-color: #E8F0FE;\n",
              "      border: none;\n",
              "      border-radius: 50%;\n",
              "      cursor: pointer;\n",
              "      display: none;\n",
              "      fill: #1967D2;\n",
              "      height: 32px;\n",
              "      padding: 0 0 0 0;\n",
              "      width: 32px;\n",
              "    }\n",
              "\n",
              "    .colab-df-convert:hover {\n",
              "      background-color: #E2EBFA;\n",
              "      box-shadow: 0px 1px 2px rgba(60, 64, 67, 0.3), 0px 1px 3px 1px rgba(60, 64, 67, 0.15);\n",
              "      fill: #174EA6;\n",
              "    }\n",
              "\n",
              "    [theme=dark] .colab-df-convert {\n",
              "      background-color: #3B4455;\n",
              "      fill: #D2E3FC;\n",
              "    }\n",
              "\n",
              "    [theme=dark] .colab-df-convert:hover {\n",
              "      background-color: #434B5C;\n",
              "      box-shadow: 0px 1px 3px 1px rgba(0, 0, 0, 0.15);\n",
              "      filter: drop-shadow(0px 1px 2px rgba(0, 0, 0, 0.3));\n",
              "      fill: #FFFFFF;\n",
              "    }\n",
              "  </style>\n",
              "\n",
              "      <script>\n",
              "        const buttonEl =\n",
              "          document.querySelector('#df-e8f57172-7bbc-4e05-99ea-d8d90ab6eab3 button.colab-df-convert');\n",
              "        buttonEl.style.display =\n",
              "          google.colab.kernel.accessAllowed ? 'block' : 'none';\n",
              "\n",
              "        async function convertToInteractive(key) {\n",
              "          const element = document.querySelector('#df-e8f57172-7bbc-4e05-99ea-d8d90ab6eab3');\n",
              "          const dataTable =\n",
              "            await google.colab.kernel.invokeFunction('convertToInteractive',\n",
              "                                                     [key], {});\n",
              "          if (!dataTable) return;\n",
              "\n",
              "          const docLinkHtml = 'Like what you see? Visit the ' +\n",
              "            '<a target=\"_blank\" href=https://colab.research.google.com/notebooks/data_table.ipynb>data table notebook</a>'\n",
              "            + ' to learn more about interactive tables.';\n",
              "          element.innerHTML = '';\n",
              "          dataTable['output_type'] = 'display_data';\n",
              "          await google.colab.output.renderOutput(dataTable, element);\n",
              "          const docLink = document.createElement('div');\n",
              "          docLink.innerHTML = docLinkHtml;\n",
              "          element.appendChild(docLink);\n",
              "        }\n",
              "      </script>\n",
              "    </div>\n",
              "  </div>\n",
              "  "
            ]
          },
          "metadata": {},
          "execution_count": 23
        }
      ]
    },
    {
      "cell_type": "code",
      "source": [
        "# レーティングがNaNの場合は、平均レーティングで埋める\n",
        "for target in school_types:\n",
        "    # 同じ町の平均レーティング\n",
        "    mean_rating = df_geo_master.groupby(['市区町村名', '町名'])[f'{target}のレーティング'].transform('mean').round(2)\n",
        "    df_geo_master[f'{target}のレーティング'] = df_geo_master[f'{target}のレーティング'].fillna(mean_rating)\n",
        "    # それでもNaNの場合は、同じ区の平均レーティング\n",
        "    mean_rating = df_geo_master.groupby(['市区町村名'])[f'{target}のレーティング'].transform('mean').round(2)\n",
        "    df_geo_master[f'{target}のレーティング'] = df_geo_master[f'{target}のレーティング'].fillna(mean_rating)"
      ],
      "metadata": {
        "id": "cDWyUS9AvtsQ"
      },
      "execution_count": 24,
      "outputs": []
    },
    {
      "cell_type": "code",
      "source": [
        "assert len(df_geo_master) == geo_master_len"
      ],
      "metadata": {
        "id": "rAXQrX6FUnNF"
      },
      "execution_count": 25,
      "outputs": []
    },
    {
      "cell_type": "code",
      "source": [
        "print(df_geo_master.shape)\n",
        "df_geo_master.head()"
      ],
      "metadata": {
        "colab": {
          "base_uri": "https://localhost:8080/",
          "height": 372
        },
        "id": "GbdMQ-rc7G9B",
        "outputId": "b9236389-a791-4852-ff5b-6600158ab6b8"
      },
      "execution_count": 26,
      "outputs": [
        {
          "output_type": "stream",
          "name": "stdout",
          "text": [
            "(3145, 16)\n"
          ]
        },
        {
          "output_type": "execute_result",
          "data": {
            "text/plain": [
              "   town_id 市区町村名   町名     町丁目         緯度          経度  小学校(最近傍距離)  中学校(最近傍距離)  \\\n",
              "0   101003  千代田区  丸の内  丸の内１丁目  35.681560  139.767201    0.353926    1.689894   \n",
              "1   101004  千代田区  丸の内  丸の内２丁目  35.680022  139.763447    0.567168    1.628253   \n",
              "2   101005  千代田区  丸の内  丸の内３丁目  35.676952  139.763476    0.550874    1.287908   \n",
              "3   101007  千代田区  大手町  大手町１丁目  35.688069  139.763929    0.594157    0.935392   \n",
              "4   101008  千代田区  大手町  大手町２丁目  35.686301  139.768087    0.295715    1.342216   \n",
              "\n",
              "   幼稚園(最近傍距離)  学習塾(数)    最寄りの小学校  小学校のレーティング       最寄りの中学校  中学校のレーティング  \\\n",
              "0    0.311683    10.0  中央区立城東小学校         4.1  千代田区立神田一橋中学校         3.5   \n",
              "1    0.549758     8.0  中央区立城東小学校         4.1     中央区立銀座中学校         3.5   \n",
              "2    0.550874     9.0  中央区立泰明小学校         3.4     中央区立銀座中学校         3.5   \n",
              "3    0.594010     5.0  中央区立常盤小学校         4.2  千代田区立神田一橋中学校         3.5   \n",
              "4    0.292816     6.0  中央区立常盤小学校         4.2  千代田区立神田一橋中学校         3.5   \n",
              "\n",
              "     最寄りの幼稚園  幼稚園のレーティング  \n",
              "0  中央区立昭和幼稚園         3.4  \n",
              "1  中央区立昭和幼稚園         3.4  \n",
              "2  中央区立泰明幼稚園         3.4  \n",
              "3  中央区立常盤幼稚園         3.0  \n",
              "4  中央区立常盤幼稚園         3.0  "
            ],
            "text/html": [
              "\n",
              "  <div id=\"df-be90810d-a227-4bcc-82c5-f580d12b6561\">\n",
              "    <div class=\"colab-df-container\">\n",
              "      <div>\n",
              "<style scoped>\n",
              "    .dataframe tbody tr th:only-of-type {\n",
              "        vertical-align: middle;\n",
              "    }\n",
              "\n",
              "    .dataframe tbody tr th {\n",
              "        vertical-align: top;\n",
              "    }\n",
              "\n",
              "    .dataframe thead th {\n",
              "        text-align: right;\n",
              "    }\n",
              "</style>\n",
              "<table border=\"1\" class=\"dataframe\">\n",
              "  <thead>\n",
              "    <tr style=\"text-align: right;\">\n",
              "      <th></th>\n",
              "      <th>town_id</th>\n",
              "      <th>市区町村名</th>\n",
              "      <th>町名</th>\n",
              "      <th>町丁目</th>\n",
              "      <th>緯度</th>\n",
              "      <th>経度</th>\n",
              "      <th>小学校(最近傍距離)</th>\n",
              "      <th>中学校(最近傍距離)</th>\n",
              "      <th>幼稚園(最近傍距離)</th>\n",
              "      <th>学習塾(数)</th>\n",
              "      <th>最寄りの小学校</th>\n",
              "      <th>小学校のレーティング</th>\n",
              "      <th>最寄りの中学校</th>\n",
              "      <th>中学校のレーティング</th>\n",
              "      <th>最寄りの幼稚園</th>\n",
              "      <th>幼稚園のレーティング</th>\n",
              "    </tr>\n",
              "  </thead>\n",
              "  <tbody>\n",
              "    <tr>\n",
              "      <th>0</th>\n",
              "      <td>101003</td>\n",
              "      <td>千代田区</td>\n",
              "      <td>丸の内</td>\n",
              "      <td>丸の内１丁目</td>\n",
              "      <td>35.681560</td>\n",
              "      <td>139.767201</td>\n",
              "      <td>0.353926</td>\n",
              "      <td>1.689894</td>\n",
              "      <td>0.311683</td>\n",
              "      <td>10.0</td>\n",
              "      <td>中央区立城東小学校</td>\n",
              "      <td>4.1</td>\n",
              "      <td>千代田区立神田一橋中学校</td>\n",
              "      <td>3.5</td>\n",
              "      <td>中央区立昭和幼稚園</td>\n",
              "      <td>3.4</td>\n",
              "    </tr>\n",
              "    <tr>\n",
              "      <th>1</th>\n",
              "      <td>101004</td>\n",
              "      <td>千代田区</td>\n",
              "      <td>丸の内</td>\n",
              "      <td>丸の内２丁目</td>\n",
              "      <td>35.680022</td>\n",
              "      <td>139.763447</td>\n",
              "      <td>0.567168</td>\n",
              "      <td>1.628253</td>\n",
              "      <td>0.549758</td>\n",
              "      <td>8.0</td>\n",
              "      <td>中央区立城東小学校</td>\n",
              "      <td>4.1</td>\n",
              "      <td>中央区立銀座中学校</td>\n",
              "      <td>3.5</td>\n",
              "      <td>中央区立昭和幼稚園</td>\n",
              "      <td>3.4</td>\n",
              "    </tr>\n",
              "    <tr>\n",
              "      <th>2</th>\n",
              "      <td>101005</td>\n",
              "      <td>千代田区</td>\n",
              "      <td>丸の内</td>\n",
              "      <td>丸の内３丁目</td>\n",
              "      <td>35.676952</td>\n",
              "      <td>139.763476</td>\n",
              "      <td>0.550874</td>\n",
              "      <td>1.287908</td>\n",
              "      <td>0.550874</td>\n",
              "      <td>9.0</td>\n",
              "      <td>中央区立泰明小学校</td>\n",
              "      <td>3.4</td>\n",
              "      <td>中央区立銀座中学校</td>\n",
              "      <td>3.5</td>\n",
              "      <td>中央区立泰明幼稚園</td>\n",
              "      <td>3.4</td>\n",
              "    </tr>\n",
              "    <tr>\n",
              "      <th>3</th>\n",
              "      <td>101007</td>\n",
              "      <td>千代田区</td>\n",
              "      <td>大手町</td>\n",
              "      <td>大手町１丁目</td>\n",
              "      <td>35.688069</td>\n",
              "      <td>139.763929</td>\n",
              "      <td>0.594157</td>\n",
              "      <td>0.935392</td>\n",
              "      <td>0.594010</td>\n",
              "      <td>5.0</td>\n",
              "      <td>中央区立常盤小学校</td>\n",
              "      <td>4.2</td>\n",
              "      <td>千代田区立神田一橋中学校</td>\n",
              "      <td>3.5</td>\n",
              "      <td>中央区立常盤幼稚園</td>\n",
              "      <td>3.0</td>\n",
              "    </tr>\n",
              "    <tr>\n",
              "      <th>4</th>\n",
              "      <td>101008</td>\n",
              "      <td>千代田区</td>\n",
              "      <td>大手町</td>\n",
              "      <td>大手町２丁目</td>\n",
              "      <td>35.686301</td>\n",
              "      <td>139.768087</td>\n",
              "      <td>0.295715</td>\n",
              "      <td>1.342216</td>\n",
              "      <td>0.292816</td>\n",
              "      <td>6.0</td>\n",
              "      <td>中央区立常盤小学校</td>\n",
              "      <td>4.2</td>\n",
              "      <td>千代田区立神田一橋中学校</td>\n",
              "      <td>3.5</td>\n",
              "      <td>中央区立常盤幼稚園</td>\n",
              "      <td>3.0</td>\n",
              "    </tr>\n",
              "  </tbody>\n",
              "</table>\n",
              "</div>\n",
              "      <button class=\"colab-df-convert\" onclick=\"convertToInteractive('df-be90810d-a227-4bcc-82c5-f580d12b6561')\"\n",
              "              title=\"Convert this dataframe to an interactive table.\"\n",
              "              style=\"display:none;\">\n",
              "        \n",
              "  <svg xmlns=\"http://www.w3.org/2000/svg\" height=\"24px\"viewBox=\"0 0 24 24\"\n",
              "       width=\"24px\">\n",
              "    <path d=\"M0 0h24v24H0V0z\" fill=\"none\"/>\n",
              "    <path d=\"M18.56 5.44l.94 2.06.94-2.06 2.06-.94-2.06-.94-.94-2.06-.94 2.06-2.06.94zm-11 1L8.5 8.5l.94-2.06 2.06-.94-2.06-.94L8.5 2.5l-.94 2.06-2.06.94zm10 10l.94 2.06.94-2.06 2.06-.94-2.06-.94-.94-2.06-.94 2.06-2.06.94z\"/><path d=\"M17.41 7.96l-1.37-1.37c-.4-.4-.92-.59-1.43-.59-.52 0-1.04.2-1.43.59L10.3 9.45l-7.72 7.72c-.78.78-.78 2.05 0 2.83L4 21.41c.39.39.9.59 1.41.59.51 0 1.02-.2 1.41-.59l7.78-7.78 2.81-2.81c.8-.78.8-2.07 0-2.86zM5.41 20L4 18.59l7.72-7.72 1.47 1.35L5.41 20z\"/>\n",
              "  </svg>\n",
              "      </button>\n",
              "      \n",
              "  <style>\n",
              "    .colab-df-container {\n",
              "      display:flex;\n",
              "      flex-wrap:wrap;\n",
              "      gap: 12px;\n",
              "    }\n",
              "\n",
              "    .colab-df-convert {\n",
              "      background-color: #E8F0FE;\n",
              "      border: none;\n",
              "      border-radius: 50%;\n",
              "      cursor: pointer;\n",
              "      display: none;\n",
              "      fill: #1967D2;\n",
              "      height: 32px;\n",
              "      padding: 0 0 0 0;\n",
              "      width: 32px;\n",
              "    }\n",
              "\n",
              "    .colab-df-convert:hover {\n",
              "      background-color: #E2EBFA;\n",
              "      box-shadow: 0px 1px 2px rgba(60, 64, 67, 0.3), 0px 1px 3px 1px rgba(60, 64, 67, 0.15);\n",
              "      fill: #174EA6;\n",
              "    }\n",
              "\n",
              "    [theme=dark] .colab-df-convert {\n",
              "      background-color: #3B4455;\n",
              "      fill: #D2E3FC;\n",
              "    }\n",
              "\n",
              "    [theme=dark] .colab-df-convert:hover {\n",
              "      background-color: #434B5C;\n",
              "      box-shadow: 0px 1px 3px 1px rgba(0, 0, 0, 0.15);\n",
              "      filter: drop-shadow(0px 1px 2px rgba(0, 0, 0, 0.3));\n",
              "      fill: #FFFFFF;\n",
              "    }\n",
              "  </style>\n",
              "\n",
              "      <script>\n",
              "        const buttonEl =\n",
              "          document.querySelector('#df-be90810d-a227-4bcc-82c5-f580d12b6561 button.colab-df-convert');\n",
              "        buttonEl.style.display =\n",
              "          google.colab.kernel.accessAllowed ? 'block' : 'none';\n",
              "\n",
              "        async function convertToInteractive(key) {\n",
              "          const element = document.querySelector('#df-be90810d-a227-4bcc-82c5-f580d12b6561');\n",
              "          const dataTable =\n",
              "            await google.colab.kernel.invokeFunction('convertToInteractive',\n",
              "                                                     [key], {});\n",
              "          if (!dataTable) return;\n",
              "\n",
              "          const docLinkHtml = 'Like what you see? Visit the ' +\n",
              "            '<a target=\"_blank\" href=https://colab.research.google.com/notebooks/data_table.ipynb>data table notebook</a>'\n",
              "            + ' to learn more about interactive tables.';\n",
              "          element.innerHTML = '';\n",
              "          dataTable['output_type'] = 'display_data';\n",
              "          await google.colab.output.renderOutput(dataTable, element);\n",
              "          const docLink = document.createElement('div');\n",
              "          docLink.innerHTML = docLinkHtml;\n",
              "          element.appendChild(docLink);\n",
              "        }\n",
              "      </script>\n",
              "    </div>\n",
              "  </div>\n",
              "  "
            ]
          },
          "metadata": {},
          "execution_count": 26
        }
      ]
    },
    {
      "cell_type": "markdown",
      "source": [
        "### 区ごとの中学受験進学率"
      ],
      "metadata": {
        "id": "qO9YQ7IzYWrR"
      }
    },
    {
      "cell_type": "code",
      "source": [
        "shingaku_rate = {\n",
        "    '文京区': 0.4944,\n",
        "    '港区': 0.4469,\n",
        "    '中央区': 0.4245,\n",
        "    '目黒区': 0.404,\n",
        "    '千代田区': 0.4012,\n",
        "    '世田谷区': 0.3577,\n",
        "    '新宿区': 0.3552,\n",
        "    '渋谷区': 0.3498,\n",
        "    '豊島区': 0.3369,\n",
        "    '品川区': 0.3311,\n",
        "    '台東区': 0.3194,\n",
        "    '杉並区': 0.3138,\n",
        "    '江東区': 0.2916,\n",
        "    '中野区': 0.2734,\n",
        "    '北区': 0.2374,\n",
        "    '大田区': 0.2299,\n",
        "    '荒川区': 0.1999,\n",
        "    '練馬区': 0.1768,\n",
        "    '墨田区': 0.1697,\n",
        "    '板橋区': 0.1633,\n",
        "    '葛飾区': 0.141,\n",
        "    '足立区': 0.1289,\n",
        "    '江戸川区': 0.1027,\n",
        "}\n",
        "df_geo_master['中学受験進学率'] = df_geo_master['市区町村名'].map(shingaku_rate)"
      ],
      "metadata": {
        "id": "aYunTFKYYT-X"
      },
      "execution_count": 27,
      "outputs": []
    },
    {
      "cell_type": "markdown",
      "source": [
        "### 名門小学校"
      ],
      "metadata": {
        "id": "U1TRYCwSjAOp"
      }
    },
    {
      "cell_type": "code",
      "source": [
        "df_elementary_school = pd.read_csv(os.path.join(DIR_NAME, 'famous_elementary_school.csv'))\\\n",
        "    .rename(columns={'小学校名': '名門小学校名'})\\\n",
        "    .drop_duplicates(subset=['市区町村名', '町丁目'])\n",
        "print(df_elementary_school.shape)"
      ],
      "metadata": {
        "id": "pEI6G_qnkXDv",
        "outputId": "d0d2b19a-e0d8-49af-e109-2917e4b255ed",
        "colab": {
          "base_uri": "https://localhost:8080/"
        }
      },
      "execution_count": 28,
      "outputs": [
        {
          "output_type": "stream",
          "name": "stdout",
          "text": [
            "(151, 3)\n"
          ]
        }
      ]
    },
    {
      "cell_type": "code",
      "source": [
        "df_geo_master = pd.merge(\n",
        "    df_geo_master,\n",
        "    df_elementary_school,\n",
        "    on=['市区町村名', '町丁目'], how='left'\n",
        ")\n",
        "df_geo_master['名門小学校'] = 0\n",
        "df_geo_master.loc[df_geo_master['名門小学校名'].notna(), '名門小学校'] = 1\n",
        "print(df_geo_master.shape)"
      ],
      "metadata": {
        "id": "lamwCdSGkhpD",
        "outputId": "c29f7545-6463-4c41-c274-4ffd8d23f067",
        "colab": {
          "base_uri": "https://localhost:8080/"
        }
      },
      "execution_count": 29,
      "outputs": [
        {
          "output_type": "stream",
          "name": "stdout",
          "text": [
            "(3145, 19)\n"
          ]
        }
      ]
    },
    {
      "cell_type": "code",
      "source": [
        "def rank_score(sr_data):\n",
        "    rank = sr_data.rank()\n",
        "    rmax = rank.max()\n",
        "    rmin = rank.min()\n",
        "    max_val = 5\n",
        "    x = (rank - rmin)/(rmax - rmin) * max_val\n",
        "    return np.clip(x, 0, max_val)"
      ],
      "metadata": {
        "id": "LdClGOPa7YS5"
      },
      "execution_count": 30,
      "outputs": []
    },
    {
      "cell_type": "markdown",
      "source": [
        "## 小学校スコア"
      ],
      "metadata": {
        "id": "fLroPQUWJHGv"
      }
    },
    {
      "cell_type": "code",
      "source": [
        "all_feature_list = []\n",
        "all_score_list = []"
      ],
      "metadata": {
        "id": "ZOQkcdylNJ6K"
      },
      "execution_count": 110,
      "outputs": []
    },
    {
      "cell_type": "code",
      "source": [
        "score_name = '小学校スコア'\n",
        "feature_list = {\n",
        "    '小学校(最近傍距離)': {'sort': -1, 'weight': 0.5}, \n",
        "    '小学校のレーティング': {'sort': 1, 'weight': 1},\n",
        "    '中学受験進学率': {'sort': 1, 'weight': 0.5},\n",
        "    '名門小学校': {'sort': 1, 'weight': 0.3},\n",
        "}\n",
        "all_feature_list += ['小学校(最近傍距離)', '名門小学校']\n",
        "all_score_list.append(score_name)"
      ],
      "metadata": {
        "id": "U7duaODMWsas"
      },
      "execution_count": 111,
      "outputs": []
    },
    {
      "cell_type": "code",
      "source": [
        "for feature_name in feature_list.keys():\n",
        "    print(feature_name)\n",
        "    sns.histplot(df_geo_master[feature_name], bins=20)\n",
        "    plt.show()"
      ],
      "metadata": {
        "colab": {
          "base_uri": "https://localhost:8080/",
          "height": 1000
        },
        "id": "omSbyVRv7Jjj",
        "outputId": "4dafe704-25f9-4b68-c932-fe70ca81a56c"
      },
      "execution_count": 112,
      "outputs": [
        {
          "output_type": "stream",
          "name": "stdout",
          "text": [
            "小学校(最近傍距離)\n"
          ]
        },
        {
          "output_type": "display_data",
          "data": {
            "text/plain": [
              "<Figure size 432x288 with 1 Axes>"
            ],
            "image/png": "[encoded data removed]"
          },
          "metadata": {
            "needs_background": "light"
          }
        },
        {
          "output_type": "stream",
          "name": "stdout",
          "text": [
            "小学校のレーティング\n"
          ]
        },
        {
          "output_type": "display_data",
          "data": {
            "text/plain": [
              "<Figure size 432x288 with 1 Axes>"
            ],
            "image/png": "[encoded data removed]"
          },
          "metadata": {
            "needs_background": "light"
          }
        },
        {
          "output_type": "stream",
          "name": "stdout",
          "text": [
            "中学受験進学率\n"
          ]
        },
        {
          "output_type": "display_data",
          "data": {
            "text/plain": [
              "<Figure size 432x288 with 1 Axes>"
            ],
            "image/png": "[encoded data removed]"
          },
          "metadata": {
            "needs_background": "light"
          }
        },
        {
          "output_type": "stream",
          "name": "stdout",
          "text": [
            "名門小学校\n"
          ]
        },
        {
          "output_type": "display_data",
          "data": {
            "text/plain": [
              "<Figure size 432x288 with 1 Axes>"
            ],
            "image/png": "[encoded data removed]"
          },
          "metadata": {
            "needs_background": "light"
          }
        }
      ]
    },
    {
      "cell_type": "code",
      "source": [
        "score_list = []\n",
        "for key, value in feature_list.items():\n",
        "    df_geo_master[f'{key}レベル'] = rank_score(df_geo_master[key] * value['sort'])\n",
        "    score_list.append(df_geo_master[f'{key}レベル'] * value['weight'])\n",
        "\n",
        "_tmp_score = pd.concat(score_list, axis=1).sum(axis=1, skipna=False)\n",
        "df_geo_master[score_name] = rank_score(_tmp_score)"
      ],
      "metadata": {
        "id": "NX28XbUB9b2C"
      },
      "execution_count": 113,
      "outputs": []
    },
    {
      "cell_type": "code",
      "source": [
        "sns.histplot(_tmp_score, bins=20)\n",
        "plt.show()"
      ],
      "metadata": {
        "id": "zR8rp6QOJr8g",
        "outputId": "dcda21a6-b358-477c-91c5-543646fcf2dd",
        "colab": {
          "base_uri": "https://localhost:8080/",
          "height": 264
        }
      },
      "execution_count": 114,
      "outputs": [
        {
          "output_type": "display_data",
          "data": {
            "text/plain": [
              "<Figure size 432x288 with 1 Axes>"
            ],
            "image/png": "[encoded data removed]"
          },
          "metadata": {
            "needs_background": "light"
          }
        }
      ]
    },
    {
      "cell_type": "code",
      "source": [
        "sns.histplot(df_geo_master[score_name], bins=20)\n",
        "plt.show()"
      ],
      "metadata": {
        "id": "58qh3xRSJpJR",
        "outputId": "ada2a551-0b43-4e26-dd2c-da65cc90fc2a",
        "colab": {
          "base_uri": "https://localhost:8080/",
          "height": 278
        }
      },
      "execution_count": 115,
      "outputs": [
        {
          "output_type": "display_data",
          "data": {
            "text/plain": [
              "<Figure size 432x288 with 1 Axes>"
            ],
            "image/png": "[encoded data removed]"
          },
          "metadata": {
            "needs_background": "light"
          }
        }
      ]
    },
    {
      "cell_type": "code",
      "source": [
        "df_geo_master[score_name].describe()"
      ],
      "metadata": {
        "id": "go8nBgQoE_rr",
        "outputId": "55dd7cc3-76f9-4d5f-86d2-4814713e331e",
        "colab": {
          "base_uri": "https://localhost:8080/"
        }
      },
      "execution_count": 116,
      "outputs": [
        {
          "output_type": "execute_result",
          "data": {
            "text/plain": [
              "count    3145.000000\n",
              "mean        2.500000\n",
              "std         1.444064\n",
              "min         0.000000\n",
              "25%         1.250000\n",
              "50%         2.500000\n",
              "75%         3.750000\n",
              "max         5.000000\n",
              "Name: 小学校スコア, dtype: float64"
            ]
          },
          "metadata": {},
          "execution_count": 116
        }
      ]
    },
    {
      "cell_type": "markdown",
      "source": [
        "## 中学校スコア"
      ],
      "metadata": {
        "id": "-ba5q_IlLvlS"
      }
    },
    {
      "cell_type": "code",
      "source": [
        "score_name = '中学校スコア'\n",
        "feature_list = {\n",
        "    '中学校(最近傍距離)': {'sort': -1, 'weight': 0.5}, \n",
        "    '中学校のレーティング': {'sort': 1, 'weight': 1},\n",
        "    '名門小学校': {'sort': 1, 'weight': 0.3},\n",
        "    '中学受験進学率': {'sort': 1, 'weight': 0.3},\n",
        "}\n",
        "all_feature_list += ['中学校(最近傍距離)']\n",
        "all_score_list.append(score_name)"
      ],
      "metadata": {
        "id": "n1RCUfWjLyFI"
      },
      "execution_count": 117,
      "outputs": []
    },
    {
      "cell_type": "code",
      "source": [
        "for feature_name in feature_list.keys():\n",
        "    sns.histplot(df_geo_master[feature_name], bins=20)\n",
        "    plt.show()"
      ],
      "metadata": {
        "colab": {
          "base_uri": "https://localhost:8080/",
          "height": 1000
        },
        "id": "RNef6VnRL6U1",
        "outputId": "022a3fa5-8636-4391-c3d9-b3cdc485f923"
      },
      "execution_count": 118,
      "outputs": [
        {
          "output_type": "display_data",
          "data": {
            "text/plain": [
              "<Figure size 432x288 with 1 Axes>"
            ],
            "image/png": "[encoded data removed]"
          },
          "metadata": {
            "needs_background": "light"
          }
        },
        {
          "output_type": "display_data",
          "data": {
            "text/plain": [
              "<Figure size 432x288 with 1 Axes>"
            ],
            "image/png": "[encoded data removed]"
          },
          "metadata": {
            "needs_background": "light"
          }
        },
        {
          "output_type": "display_data",
          "data": {
            "text/plain": [
              "<Figure size 432x288 with 1 Axes>"
            ],
            "image/png": "[encoded data removed]"
          },
          "metadata": {
            "needs_background": "light"
          }
        },
        {
          "output_type": "display_data",
          "data": {
            "text/plain": [
              "<Figure size 432x288 with 1 Axes>"
            ],
            "image/png": "[encoded data removed]"
          },
          "metadata": {
            "needs_background": "light"
          }
        }
      ]
    },
    {
      "cell_type": "code",
      "source": [
        "score_list = []\n",
        "for key, value in feature_list.items():\n",
        "    df_geo_master[f'{key}レベル'] = rank_score(df_geo_master[key] * value['sort'])\n",
        "    score_list.append(df_geo_master[f'{key}レベル'] * value['weight'])\n",
        "\n",
        "_temp_score = pd.concat(score_list, axis=1).sum(axis=1, skipna=False)\n",
        "df_geo_master[score_name] = rank_score(_temp_score)"
      ],
      "metadata": {
        "id": "jeX9EB_FMRh7"
      },
      "execution_count": 119,
      "outputs": []
    },
    {
      "cell_type": "code",
      "source": [
        "sns.histplot(_temp_score, bins=20)\n",
        "plt.show()"
      ],
      "metadata": {
        "id": "o4ws4lTGLo1i",
        "outputId": "36240098-04da-4228-ccc5-ed27f7989bfa",
        "colab": {
          "base_uri": "https://localhost:8080/",
          "height": 264
        }
      },
      "execution_count": 120,
      "outputs": [
        {
          "output_type": "display_data",
          "data": {
            "text/plain": [
              "<Figure size 432x288 with 1 Axes>"
            ],
            "image/png": "[encoded data removed]"
          },
          "metadata": {
            "needs_background": "light"
          }
        }
      ]
    },
    {
      "cell_type": "code",
      "source": [
        "sns.histplot(df_geo_master[score_name], bins=20)\n",
        "plt.show()"
      ],
      "metadata": {
        "id": "Gn9HukpHLk_q",
        "outputId": "2b057284-758c-4875-d5b5-5761e2136a38",
        "colab": {
          "base_uri": "https://localhost:8080/",
          "height": 278
        }
      },
      "execution_count": 121,
      "outputs": [
        {
          "output_type": "display_data",
          "data": {
            "text/plain": [
              "<Figure size 432x288 with 1 Axes>"
            ],
            "image/png": "[encoded data removed]"
          },
          "metadata": {
            "needs_background": "light"
          }
        }
      ]
    },
    {
      "cell_type": "code",
      "source": [
        "df_geo_master[score_name].describe()"
      ],
      "metadata": {
        "id": "U34BsFHNFDFD",
        "outputId": "c449e1f4-1342-476e-fcaa-177092a4cf22",
        "colab": {
          "base_uri": "https://localhost:8080/"
        }
      },
      "execution_count": 122,
      "outputs": [
        {
          "output_type": "execute_result",
          "data": {
            "text/plain": [
              "count    3145.000000\n",
              "mean        2.500000\n",
              "std         1.444064\n",
              "min         0.000000\n",
              "25%         1.250000\n",
              "50%         2.500000\n",
              "75%         3.750000\n",
              "max         5.000000\n",
              "Name: 中学校スコア, dtype: float64"
            ]
          },
          "metadata": {},
          "execution_count": 122
        }
      ]
    },
    {
      "cell_type": "markdown",
      "source": [
        "## 幼稚園スコア"
      ],
      "metadata": {
        "id": "dbAslLpbMcTF"
      }
    },
    {
      "cell_type": "code",
      "source": [
        "score_name = '幼稚園スコア'\n",
        "feature_list = {\n",
        "    '幼稚園(最近傍距離)': {'sort': -1, 'weight': 0.5}, \n",
        "    '幼稚園のレーティング': {'sort': 1, 'weight': 1},\n",
        "    '名門小学校': {'sort': 1, 'weight': 0.5},\n",
        "    '中学受験進学率': {'sort': 1, 'weight': 0.5},\n",
        "}\n",
        "all_feature_list += ['幼稚園(最近傍距離)']\n",
        "all_score_list.append(score_name)"
      ],
      "metadata": {
        "id": "8OxOvtLeMfa4"
      },
      "execution_count": 123,
      "outputs": []
    },
    {
      "cell_type": "code",
      "source": [
        "for feature_name in feature_list.keys():\n",
        "    sns.histplot(df_geo_master[feature_name], bins=20)\n",
        "    plt.show()"
      ],
      "metadata": {
        "colab": {
          "base_uri": "https://localhost:8080/",
          "height": 1000
        },
        "id": "n575E41YMruy",
        "outputId": "748bbf76-b17b-4b2e-c516-120b69d4a9e7"
      },
      "execution_count": 124,
      "outputs": [
        {
          "output_type": "display_data",
          "data": {
            "text/plain": [
              "<Figure size 432x288 with 1 Axes>"
            ],
            "image/png": "[encoded data removed]"
          },
          "metadata": {
            "needs_background": "light"
          }
        },
        {
          "output_type": "display_data",
          "data": {
            "text/plain": [
              "<Figure size 432x288 with 1 Axes>"
            ],
            "image/png": "[encoded data removed]"
          },
          "metadata": {
            "needs_background": "light"
          }
        },
        {
          "output_type": "display_data",
          "data": {
            "text/plain": [
              "<Figure size 432x288 with 1 Axes>"
            ],
            "image/png": "[encoded data removed]"
          },
          "metadata": {
            "needs_background": "light"
          }
        },
        {
          "output_type": "display_data",
          "data": {
            "text/plain": [
              "<Figure size 432x288 with 1 Axes>"
            ],
            "image/png": "[encoded data removed]"
          },
          "metadata": {
            "needs_background": "light"
          }
        }
      ]
    },
    {
      "cell_type": "code",
      "source": [
        "score_list = []\n",
        "for key, value in feature_list.items():\n",
        "    df_geo_master[f'{key}レベル'] = rank_score(df_geo_master[key] * value['sort'])\n",
        "    score_list.append(df_geo_master[f'{key}レベル'] * value['weight'])\n",
        "\n",
        "_tmp_score = pd.concat(score_list, axis=1).sum(axis=1, skipna=False)\n",
        "df_geo_master[score_name] = rank_score(_tmp_score)"
      ],
      "metadata": {
        "id": "FH8tG056M9sQ"
      },
      "execution_count": 125,
      "outputs": []
    },
    {
      "cell_type": "code",
      "source": [
        "sns.histplot(_temp_score, bins=20)\n",
        "plt.show()"
      ],
      "metadata": {
        "id": "opPG3bZqMFu-",
        "outputId": "c2cd747b-b0e1-47c9-dc91-dbf83aab75d8",
        "colab": {
          "base_uri": "https://localhost:8080/",
          "height": 264
        }
      },
      "execution_count": 126,
      "outputs": [
        {
          "output_type": "display_data",
          "data": {
            "text/plain": [
              "<Figure size 432x288 with 1 Axes>"
            ],
            "image/png": "[encoded data removed]"
          },
          "metadata": {
            "needs_background": "light"
          }
        }
      ]
    },
    {
      "cell_type": "code",
      "source": [
        "sns.histplot(df_geo_master[score_name], bins=20)\n",
        "plt.show()"
      ],
      "metadata": {
        "id": "hXEfF8FjMJcs",
        "outputId": "c54f3bbf-e9a8-492c-d8f8-345bcc55014c",
        "colab": {
          "base_uri": "https://localhost:8080/",
          "height": 278
        }
      },
      "execution_count": 127,
      "outputs": [
        {
          "output_type": "display_data",
          "data": {
            "text/plain": [
              "<Figure size 432x288 with 1 Axes>"
            ],
            "image/png": "[encoded data removed]"
          },
          "metadata": {
            "needs_background": "light"
          }
        }
      ]
    },
    {
      "cell_type": "markdown",
      "source": [
        "### 学習塾スコア"
      ],
      "metadata": {
        "id": "YtREiZFEoq4M"
      }
    },
    {
      "cell_type": "code",
      "source": [
        "score_name = '学習塾スコア'\n",
        "all_score_list.append(score_name)\n",
        "\n",
        "feature_name = '学習塾(数)'\n",
        "all_feature_list += [feature_name]\n",
        "\n",
        "df_geo_master[score_name] = rank_score(df_geo_master[feature_name])"
      ],
      "metadata": {
        "id": "q6gaC9IOFEVN"
      },
      "execution_count": 128,
      "outputs": []
    },
    {
      "cell_type": "code",
      "source": [
        "sns.histplot(df_geo_master[feature_name], bins=20)\n",
        "plt.show()"
      ],
      "metadata": {
        "id": "kHLsvG-jsFsM",
        "outputId": "683ed950-fd4a-4ab5-b7dd-e7f648e9c051",
        "colab": {
          "base_uri": "https://localhost:8080/",
          "height": 278
        }
      },
      "execution_count": 129,
      "outputs": [
        {
          "output_type": "display_data",
          "data": {
            "text/plain": [
              "<Figure size 432x288 with 1 Axes>"
            ],
            "image/png": "[encoded data removed]"
          },
          "metadata": {
            "needs_background": "light"
          }
        }
      ]
    },
    {
      "cell_type": "markdown",
      "source": [
        "## 保存"
      ],
      "metadata": {
        "id": "bRlK-CaYJ7Yj"
      }
    },
    {
      "cell_type": "code",
      "source": [
        "all_feature_list"
      ],
      "metadata": {
        "colab": {
          "base_uri": "https://localhost:8080/"
        },
        "id": "-kMb95bfOIbh",
        "outputId": "0f707aec-4bf8-4d93-b1f2-09ee1ef570cb"
      },
      "execution_count": 130,
      "outputs": [
        {
          "output_type": "execute_result",
          "data": {
            "text/plain": [
              "['小学校(最近傍距離)', '名門小学校', '中学校(最近傍距離)', '幼稚園(最近傍距離)', '学習塾(数)']"
            ]
          },
          "metadata": {},
          "execution_count": 130
        }
      ]
    },
    {
      "cell_type": "code",
      "source": [
        "all_score_list"
      ],
      "metadata": {
        "colab": {
          "base_uri": "https://localhost:8080/"
        },
        "id": "CUuxJ9EwOHC2",
        "outputId": "308de144-cdc0-47d4-c7eb-3ea2a5fb468a"
      },
      "execution_count": 131,
      "outputs": [
        {
          "output_type": "execute_result",
          "data": {
            "text/plain": [
              "['小学校スコア', '中学校スコア', '幼稚園スコア', '学習塾スコア']"
            ]
          },
          "metadata": {},
          "execution_count": 131
        }
      ]
    },
    {
      "cell_type": "code",
      "source": [
        "for school in school_types:\n",
        "    df_geo_master[f'{school}(最近傍距離)'] = df_geo_master[f'{school}(最近傍距離)'].round(3)\n",
        "\n",
        "for col in all_score_list:\n",
        "    df_geo_master[col] = df_geo_master[col].round(2)"
      ],
      "metadata": {
        "id": "BFLtYOWoMaLv"
      },
      "execution_count": 132,
      "outputs": []
    },
    {
      "cell_type": "markdown",
      "source": [
        "### 保存"
      ],
      "metadata": {
        "id": "R73PMWPIVNBZ"
      }
    },
    {
      "cell_type": "code",
      "source": [
        "df_geo_master[\n",
        "    ['town_id'] + all_feature_list + all_score_list\n",
        "].to_csv(os.path.join(DIR_NAME, output_score_file), index=False)"
      ],
      "metadata": {
        "id": "mGvdhIyy9-kN"
      },
      "execution_count": 133,
      "outputs": []
    },
    {
      "cell_type": "markdown",
      "source": [
        "## 区ごとのスコア確認"
      ],
      "metadata": {
        "id": "uPUEdJZ3PNmx"
      }
    },
    {
      "cell_type": "code",
      "source": [
        "for _score in all_score_list:\n",
        "    plt.figure(figsize=(15, 5))\n",
        "    sns.barplot(x='市区町村名', y=_score, data=df_geo_master)\n",
        "    plt.show()"
      ],
      "metadata": {
        "colab": {
          "base_uri": "https://localhost:8080/",
          "height": 1000
        },
        "id": "ufGDZQX3-lnp",
        "outputId": "6758ef55-9e97-4f24-af4f-c27277c5f8a4"
      },
      "execution_count": 134,
      "outputs": [
        {
          "output_type": "display_data",
          "data": {
            "text/plain": [
              "<Figure size 1080x360 with 1 Axes>"
            ],
            "image/png": "[encoded data removed]"
          },
          "metadata": {
            "needs_background": "light"
          }
        },
        {
          "output_type": "display_data",
          "data": {
            "text/plain": [
              "<Figure size 1080x360 with 1 Axes>"
            ],
            "image/png": "[encoded data removed]"
          },
          "metadata": {
            "needs_background": "light"
          }
        },
        {
          "output_type": "display_data",
          "data": {
            "text/plain": [
              "<Figure size 1080x360 with 1 Axes>"
            ],
            "image/png": "[encoded data removed]"
          },
          "metadata": {
            "needs_background": "light"
          }
        },
        {
          "output_type": "display_data",
          "data": {
            "text/plain": [
              "<Figure size 1080x360 with 1 Axes>"
            ],
            "image/png": "[encoded data removed]"
          },
          "metadata": {
            "needs_background": "light"
          }
        }
      ]
    },
    {
      "cell_type": "code",
      "source": [
        "def get_score_top(df_data, target):\n",
        "    df_level = df_data.copy()\n",
        "    score_name = f'{target}スコア'\n",
        "    df_level['rank'] = df_level.groupby('町名')[score_name].transform('rank', ascending=False)\n",
        "    df_level = df_level[df_level['rank'] == 1].sort_values(score_name, ascending=False)[\n",
        "        ['市区町村名', '町名', '町丁目'] + [f'最寄りの{target}', f'{target}(最近傍距離)', f'{target}のレーティング', score_name]\n",
        "    ].reset_index(drop=True)\n",
        "    return df_level"
      ],
      "metadata": {
        "id": "KwfMlqDrBmKa"
      },
      "execution_count": 135,
      "outputs": []
    },
    {
      "cell_type": "code",
      "source": [
        "df_level = get_score_top(df_geo_master, '小学校')\n",
        "print(df_level.shape)\n",
        "df_level.head(10)"
      ],
      "metadata": {
        "id": "twmfPEadWDVX",
        "outputId": "9c944a70-e62f-4c4d-f678-f44dc8026e0b",
        "colab": {
          "base_uri": "https://localhost:8080/",
          "height": 380
        }
      },
      "execution_count": 136,
      "outputs": [
        {
          "output_type": "stream",
          "name": "stdout",
          "text": [
            "(905, 7)\n"
          ]
        },
        {
          "output_type": "execute_result",
          "data": {
            "text/plain": [
              "  市区町村名      町名        町丁目      最寄りの小学校  小学校(最近傍距離)  小学校のレーティング  小学校スコア\n",
              "0  世田谷区  玉川田園調布  玉川田園調布２丁目   世田谷区立八幡小学校       0.150         4.7    5.00\n",
              "1    港区      三田      三田１丁目     港区立赤羽小学校       0.100         4.3    5.00\n",
              "2  千代田区     六番町        六番町   千代田区立番町小学校       0.105         4.3    5.00\n",
              "3  千代田区     五番町        五番町   千代田区立番町小学校       0.161         4.3    5.00\n",
              "4   文京区      白山      白山１丁目    文京区立誠之小学校       0.132         4.1    4.99\n",
              "5   目黒区      八雲      八雲２丁目    目黒区立八雲小学校       0.074         4.6    4.99\n",
              "6   文京区      千石      千石２丁目    文京区立林町小学校       0.119         4.6    4.99\n",
              "7  千代田区    神田司町    神田司町２丁目  千代田区立千代田小学校       0.076         4.8    4.99\n",
              "8    港区     北青山     北青山２丁目     港区立青山小学校       0.238         4.3    4.99\n",
              "9    港区     元麻布     元麻布３丁目     港区立南山小学校       0.080         4.1    4.99"
            ],
            "text/html": [
              "\n",
              "  <div id=\"df-8becb135-69bc-4f1f-a621-2c72d2e49ba9\">\n",
              "    <div class=\"colab-df-container\">\n",
              "      <div>\n",
              "<style scoped>\n",
              "    .dataframe tbody tr th:only-of-type {\n",
              "        vertical-align: middle;\n",
              "    }\n",
              "\n",
              "    .dataframe tbody tr th {\n",
              "        vertical-align: top;\n",
              "    }\n",
              "\n",
              "    .dataframe thead th {\n",
              "        text-align: right;\n",
              "    }\n",
              "</style>\n",
              "<table border=\"1\" class=\"dataframe\">\n",
              "  <thead>\n",
              "    <tr style=\"text-align: right;\">\n",
              "      <th></th>\n",
              "      <th>市区町村名</th>\n",
              "      <th>町名</th>\n",
              "      <th>町丁目</th>\n",
              "      <th>最寄りの小学校</th>\n",
              "      <th>小学校(最近傍距離)</th>\n",
              "      <th>小学校のレーティング</th>\n",
              "      <th>小学校スコア</th>\n",
              "    </tr>\n",
              "  </thead>\n",
              "  <tbody>\n",
              "    <tr>\n",
              "      <th>0</th>\n",
              "      <td>世田谷区</td>\n",
              "      <td>玉川田園調布</td>\n",
              "      <td>玉川田園調布２丁目</td>\n",
              "      <td>世田谷区立八幡小学校</td>\n",
              "      <td>0.150</td>\n",
              "      <td>4.7</td>\n",
              "      <td>5.00</td>\n",
              "    </tr>\n",
              "    <tr>\n",
              "      <th>1</th>\n",
              "      <td>港区</td>\n",
              "      <td>三田</td>\n",
              "      <td>三田１丁目</td>\n",
              "      <td>港区立赤羽小学校</td>\n",
              "      <td>0.100</td>\n",
              "      <td>4.3</td>\n",
              "      <td>5.00</td>\n",
              "    </tr>\n",
              "    <tr>\n",
              "      <th>2</th>\n",
              "      <td>千代田区</td>\n",
              "      <td>六番町</td>\n",
              "      <td>六番町</td>\n",
              "      <td>千代田区立番町小学校</td>\n",
              "      <td>0.105</td>\n",
              "      <td>4.3</td>\n",
              "      <td>5.00</td>\n",
              "    </tr>\n",
              "    <tr>\n",
              "      <th>3</th>\n",
              "      <td>千代田区</td>\n",
              "      <td>五番町</td>\n",
              "      <td>五番町</td>\n",
              "      <td>千代田区立番町小学校</td>\n",
              "      <td>0.161</td>\n",
              "      <td>4.3</td>\n",
              "      <td>5.00</td>\n",
              "    </tr>\n",
              "    <tr>\n",
              "      <th>4</th>\n",
              "      <td>文京区</td>\n",
              "      <td>白山</td>\n",
              "      <td>白山１丁目</td>\n",
              "      <td>文京区立誠之小学校</td>\n",
              "      <td>0.132</td>\n",
              "      <td>4.1</td>\n",
              "      <td>4.99</td>\n",
              "    </tr>\n",
              "    <tr>\n",
              "      <th>5</th>\n",
              "      <td>目黒区</td>\n",
              "      <td>八雲</td>\n",
              "      <td>八雲２丁目</td>\n",
              "      <td>目黒区立八雲小学校</td>\n",
              "      <td>0.074</td>\n",
              "      <td>4.6</td>\n",
              "      <td>4.99</td>\n",
              "    </tr>\n",
              "    <tr>\n",
              "      <th>6</th>\n",
              "      <td>文京区</td>\n",
              "      <td>千石</td>\n",
              "      <td>千石２丁目</td>\n",
              "      <td>文京区立林町小学校</td>\n",
              "      <td>0.119</td>\n",
              "      <td>4.6</td>\n",
              "      <td>4.99</td>\n",
              "    </tr>\n",
              "    <tr>\n",
              "      <th>7</th>\n",
              "      <td>千代田区</td>\n",
              "      <td>神田司町</td>\n",
              "      <td>神田司町２丁目</td>\n",
              "      <td>千代田区立千代田小学校</td>\n",
              "      <td>0.076</td>\n",
              "      <td>4.8</td>\n",
              "      <td>4.99</td>\n",
              "    </tr>\n",
              "    <tr>\n",
              "      <th>8</th>\n",
              "      <td>港区</td>\n",
              "      <td>北青山</td>\n",
              "      <td>北青山２丁目</td>\n",
              "      <td>港区立青山小学校</td>\n",
              "      <td>0.238</td>\n",
              "      <td>4.3</td>\n",
              "      <td>4.99</td>\n",
              "    </tr>\n",
              "    <tr>\n",
              "      <th>9</th>\n",
              "      <td>港区</td>\n",
              "      <td>元麻布</td>\n",
              "      <td>元麻布３丁目</td>\n",
              "      <td>港区立南山小学校</td>\n",
              "      <td>0.080</td>\n",
              "      <td>4.1</td>\n",
              "      <td>4.99</td>\n",
              "    </tr>\n",
              "  </tbody>\n",
              "</table>\n",
              "</div>\n",
              "      <button class=\"colab-df-convert\" onclick=\"convertToInteractive('df-8becb135-69bc-4f1f-a621-2c72d2e49ba9')\"\n",
              "              title=\"Convert this dataframe to an interactive table.\"\n",
              "              style=\"display:none;\">\n",
              "        \n",
              "  <svg xmlns=\"http://www.w3.org/2000/svg\" height=\"24px\"viewBox=\"0 0 24 24\"\n",
              "       width=\"24px\">\n",
              "    <path d=\"M0 0h24v24H0V0z\" fill=\"none\"/>\n",
              "    <path d=\"M18.56 5.44l.94 2.06.94-2.06 2.06-.94-2.06-.94-.94-2.06-.94 2.06-2.06.94zm-11 1L8.5 8.5l.94-2.06 2.06-.94-2.06-.94L8.5 2.5l-.94 2.06-2.06.94zm10 10l.94 2.06.94-2.06 2.06-.94-2.06-.94-.94-2.06-.94 2.06-2.06.94z\"/><path d=\"M17.41 7.96l-1.37-1.37c-.4-.4-.92-.59-1.43-.59-.52 0-1.04.2-1.43.59L10.3 9.45l-7.72 7.72c-.78.78-.78 2.05 0 2.83L4 21.41c.39.39.9.59 1.41.59.51 0 1.02-.2 1.41-.59l7.78-7.78 2.81-2.81c.8-.78.8-2.07 0-2.86zM5.41 20L4 18.59l7.72-7.72 1.47 1.35L5.41 20z\"/>\n",
              "  </svg>\n",
              "      </button>\n",
              "      \n",
              "  <style>\n",
              "    .colab-df-container {\n",
              "      display:flex;\n",
              "      flex-wrap:wrap;\n",
              "      gap: 12px;\n",
              "    }\n",
              "\n",
              "    .colab-df-convert {\n",
              "      background-color: #E8F0FE;\n",
              "      border: none;\n",
              "      border-radius: 50%;\n",
              "      cursor: pointer;\n",
              "      display: none;\n",
              "      fill: #1967D2;\n",
              "      height: 32px;\n",
              "      padding: 0 0 0 0;\n",
              "      width: 32px;\n",
              "    }\n",
              "\n",
              "    .colab-df-convert:hover {\n",
              "      background-color: #E2EBFA;\n",
              "      box-shadow: 0px 1px 2px rgba(60, 64, 67, 0.3), 0px 1px 3px 1px rgba(60, 64, 67, 0.15);\n",
              "      fill: #174EA6;\n",
              "    }\n",
              "\n",
              "    [theme=dark] .colab-df-convert {\n",
              "      background-color: #3B4455;\n",
              "      fill: #D2E3FC;\n",
              "    }\n",
              "\n",
              "    [theme=dark] .colab-df-convert:hover {\n",
              "      background-color: #434B5C;\n",
              "      box-shadow: 0px 1px 3px 1px rgba(0, 0, 0, 0.15);\n",
              "      filter: drop-shadow(0px 1px 2px rgba(0, 0, 0, 0.3));\n",
              "      fill: #FFFFFF;\n",
              "    }\n",
              "  </style>\n",
              "\n",
              "      <script>\n",
              "        const buttonEl =\n",
              "          document.querySelector('#df-8becb135-69bc-4f1f-a621-2c72d2e49ba9 button.colab-df-convert');\n",
              "        buttonEl.style.display =\n",
              "          google.colab.kernel.accessAllowed ? 'block' : 'none';\n",
              "\n",
              "        async function convertToInteractive(key) {\n",
              "          const element = document.querySelector('#df-8becb135-69bc-4f1f-a621-2c72d2e49ba9');\n",
              "          const dataTable =\n",
              "            await google.colab.kernel.invokeFunction('convertToInteractive',\n",
              "                                                     [key], {});\n",
              "          if (!dataTable) return;\n",
              "\n",
              "          const docLinkHtml = 'Like what you see? Visit the ' +\n",
              "            '<a target=\"_blank\" href=https://colab.research.google.com/notebooks/data_table.ipynb>data table notebook</a>'\n",
              "            + ' to learn more about interactive tables.';\n",
              "          element.innerHTML = '';\n",
              "          dataTable['output_type'] = 'display_data';\n",
              "          await google.colab.output.renderOutput(dataTable, element);\n",
              "          const docLink = document.createElement('div');\n",
              "          docLink.innerHTML = docLinkHtml;\n",
              "          element.appendChild(docLink);\n",
              "        }\n",
              "      </script>\n",
              "    </div>\n",
              "  </div>\n",
              "  "
            ]
          },
          "metadata": {},
          "execution_count": 136
        }
      ]
    },
    {
      "cell_type": "code",
      "source": [
        "df_level.tail(10)"
      ],
      "metadata": {
        "id": "vv-k3ImGNrz8",
        "outputId": "562d71c2-8079-4425-ea1e-feb67c4a6698",
        "colab": {
          "base_uri": "https://localhost:8080/",
          "height": 363
        }
      },
      "execution_count": 137,
      "outputs": [
        {
          "output_type": "execute_result",
          "data": {
            "text/plain": [
              "    市区町村名      町名     町丁目        最寄りの小学校  小学校(最近傍距離)  小学校のレーティング  小学校スコア\n",
              "895   板橋区     清水町     清水町    板橋区立志村第三小学校       0.324         2.7    0.30\n",
              "896  江戸川区      松本   松本２丁目     江戸川区立鹿本小学校       0.327         3.0    0.22\n",
              "897   大田区     平和島  平和島４丁目    大田区立大森第五小学校       0.471         2.8    0.21\n",
              "898   板橋区     蓮沼町     蓮沼町    板橋区立志村第三小学校       0.402         2.7    0.16\n",
              "899   葛飾区    水元公園    水元公園     葛飾区立東水元小学校       0.372         2.4    0.13\n",
              "900   練馬区  上石神井南町  上石神井南町    杉並区立桃井第四小学校       0.710         3.1    0.13\n",
              "901  江戸川区    二之江町    二之江町  江戸川区立二之江第二小学校       0.396         3.0    0.12\n",
              "902   練馬区    西大泉町    西大泉町     練馬区立大泉西小学校       0.479         2.6    0.11\n",
              "903  江戸川区     興宮町     興宮町  江戸川区立下小岩第二小学校       0.380         1.5    0.04\n",
              "904  江戸川区    一之江町    一之江町   江戸川区立船堀第二小学校       0.481         3.0    0.04"
            ],
            "text/html": [
              "\n",
              "  <div id=\"df-04f07381-0c05-459e-affd-824f35a6f5e0\">\n",
              "    <div class=\"colab-df-container\">\n",
              "      <div>\n",
              "<style scoped>\n",
              "    .dataframe tbody tr th:only-of-type {\n",
              "        vertical-align: middle;\n",
              "    }\n",
              "\n",
              "    .dataframe tbody tr th {\n",
              "        vertical-align: top;\n",
              "    }\n",
              "\n",
              "    .dataframe thead th {\n",
              "        text-align: right;\n",
              "    }\n",
              "</style>\n",
              "<table border=\"1\" class=\"dataframe\">\n",
              "  <thead>\n",
              "    <tr style=\"text-align: right;\">\n",
              "      <th></th>\n",
              "      <th>市区町村名</th>\n",
              "      <th>町名</th>\n",
              "      <th>町丁目</th>\n",
              "      <th>最寄りの小学校</th>\n",
              "      <th>小学校(最近傍距離)</th>\n",
              "      <th>小学校のレーティング</th>\n",
              "      <th>小学校スコア</th>\n",
              "    </tr>\n",
              "  </thead>\n",
              "  <tbody>\n",
              "    <tr>\n",
              "      <th>895</th>\n",
              "      <td>板橋区</td>\n",
              "      <td>清水町</td>\n",
              "      <td>清水町</td>\n",
              "      <td>板橋区立志村第三小学校</td>\n",
              "      <td>0.324</td>\n",
              "      <td>2.7</td>\n",
              "      <td>0.30</td>\n",
              "    </tr>\n",
              "    <tr>\n",
              "      <th>896</th>\n",
              "      <td>江戸川区</td>\n",
              "      <td>松本</td>\n",
              "      <td>松本２丁目</td>\n",
              "      <td>江戸川区立鹿本小学校</td>\n",
              "      <td>0.327</td>\n",
              "      <td>3.0</td>\n",
              "      <td>0.22</td>\n",
              "    </tr>\n",
              "    <tr>\n",
              "      <th>897</th>\n",
              "      <td>大田区</td>\n",
              "      <td>平和島</td>\n",
              "      <td>平和島４丁目</td>\n",
              "      <td>大田区立大森第五小学校</td>\n",
              "      <td>0.471</td>\n",
              "      <td>2.8</td>\n",
              "      <td>0.21</td>\n",
              "    </tr>\n",
              "    <tr>\n",
              "      <th>898</th>\n",
              "      <td>板橋区</td>\n",
              "      <td>蓮沼町</td>\n",
              "      <td>蓮沼町</td>\n",
              "      <td>板橋区立志村第三小学校</td>\n",
              "      <td>0.402</td>\n",
              "      <td>2.7</td>\n",
              "      <td>0.16</td>\n",
              "    </tr>\n",
              "    <tr>\n",
              "      <th>899</th>\n",
              "      <td>葛飾区</td>\n",
              "      <td>水元公園</td>\n",
              "      <td>水元公園</td>\n",
              "      <td>葛飾区立東水元小学校</td>\n",
              "      <td>0.372</td>\n",
              "      <td>2.4</td>\n",
              "      <td>0.13</td>\n",
              "    </tr>\n",
              "    <tr>\n",
              "      <th>900</th>\n",
              "      <td>練馬区</td>\n",
              "      <td>上石神井南町</td>\n",
              "      <td>上石神井南町</td>\n",
              "      <td>杉並区立桃井第四小学校</td>\n",
              "      <td>0.710</td>\n",
              "      <td>3.1</td>\n",
              "      <td>0.13</td>\n",
              "    </tr>\n",
              "    <tr>\n",
              "      <th>901</th>\n",
              "      <td>江戸川区</td>\n",
              "      <td>二之江町</td>\n",
              "      <td>二之江町</td>\n",
              "      <td>江戸川区立二之江第二小学校</td>\n",
              "      <td>0.396</td>\n",
              "      <td>3.0</td>\n",
              "      <td>0.12</td>\n",
              "    </tr>\n",
              "    <tr>\n",
              "      <th>902</th>\n",
              "      <td>練馬区</td>\n",
              "      <td>西大泉町</td>\n",
              "      <td>西大泉町</td>\n",
              "      <td>練馬区立大泉西小学校</td>\n",
              "      <td>0.479</td>\n",
              "      <td>2.6</td>\n",
              "      <td>0.11</td>\n",
              "    </tr>\n",
              "    <tr>\n",
              "      <th>903</th>\n",
              "      <td>江戸川区</td>\n",
              "      <td>興宮町</td>\n",
              "      <td>興宮町</td>\n",
              "      <td>江戸川区立下小岩第二小学校</td>\n",
              "      <td>0.380</td>\n",
              "      <td>1.5</td>\n",
              "      <td>0.04</td>\n",
              "    </tr>\n",
              "    <tr>\n",
              "      <th>904</th>\n",
              "      <td>江戸川区</td>\n",
              "      <td>一之江町</td>\n",
              "      <td>一之江町</td>\n",
              "      <td>江戸川区立船堀第二小学校</td>\n",
              "      <td>0.481</td>\n",
              "      <td>3.0</td>\n",
              "      <td>0.04</td>\n",
              "    </tr>\n",
              "  </tbody>\n",
              "</table>\n",
              "</div>\n",
              "      <button class=\"colab-df-convert\" onclick=\"convertToInteractive('df-04f07381-0c05-459e-affd-824f35a6f5e0')\"\n",
              "              title=\"Convert this dataframe to an interactive table.\"\n",
              "              style=\"display:none;\">\n",
              "        \n",
              "  <svg xmlns=\"http://www.w3.org/2000/svg\" height=\"24px\"viewBox=\"0 0 24 24\"\n",
              "       width=\"24px\">\n",
              "    <path d=\"M0 0h24v24H0V0z\" fill=\"none\"/>\n",
              "    <path d=\"M18.56 5.44l.94 2.06.94-2.06 2.06-.94-2.06-.94-.94-2.06-.94 2.06-2.06.94zm-11 1L8.5 8.5l.94-2.06 2.06-.94-2.06-.94L8.5 2.5l-.94 2.06-2.06.94zm10 10l.94 2.06.94-2.06 2.06-.94-2.06-.94-.94-2.06-.94 2.06-2.06.94z\"/><path d=\"M17.41 7.96l-1.37-1.37c-.4-.4-.92-.59-1.43-.59-.52 0-1.04.2-1.43.59L10.3 9.45l-7.72 7.72c-.78.78-.78 2.05 0 2.83L4 21.41c.39.39.9.59 1.41.59.51 0 1.02-.2 1.41-.59l7.78-7.78 2.81-2.81c.8-.78.8-2.07 0-2.86zM5.41 20L4 18.59l7.72-7.72 1.47 1.35L5.41 20z\"/>\n",
              "  </svg>\n",
              "      </button>\n",
              "      \n",
              "  <style>\n",
              "    .colab-df-container {\n",
              "      display:flex;\n",
              "      flex-wrap:wrap;\n",
              "      gap: 12px;\n",
              "    }\n",
              "\n",
              "    .colab-df-convert {\n",
              "      background-color: #E8F0FE;\n",
              "      border: none;\n",
              "      border-radius: 50%;\n",
              "      cursor: pointer;\n",
              "      display: none;\n",
              "      fill: #1967D2;\n",
              "      height: 32px;\n",
              "      padding: 0 0 0 0;\n",
              "      width: 32px;\n",
              "    }\n",
              "\n",
              "    .colab-df-convert:hover {\n",
              "      background-color: #E2EBFA;\n",
              "      box-shadow: 0px 1px 2px rgba(60, 64, 67, 0.3), 0px 1px 3px 1px rgba(60, 64, 67, 0.15);\n",
              "      fill: #174EA6;\n",
              "    }\n",
              "\n",
              "    [theme=dark] .colab-df-convert {\n",
              "      background-color: #3B4455;\n",
              "      fill: #D2E3FC;\n",
              "    }\n",
              "\n",
              "    [theme=dark] .colab-df-convert:hover {\n",
              "      background-color: #434B5C;\n",
              "      box-shadow: 0px 1px 3px 1px rgba(0, 0, 0, 0.15);\n",
              "      filter: drop-shadow(0px 1px 2px rgba(0, 0, 0, 0.3));\n",
              "      fill: #FFFFFF;\n",
              "    }\n",
              "  </style>\n",
              "\n",
              "      <script>\n",
              "        const buttonEl =\n",
              "          document.querySelector('#df-04f07381-0c05-459e-affd-824f35a6f5e0 button.colab-df-convert');\n",
              "        buttonEl.style.display =\n",
              "          google.colab.kernel.accessAllowed ? 'block' : 'none';\n",
              "\n",
              "        async function convertToInteractive(key) {\n",
              "          const element = document.querySelector('#df-04f07381-0c05-459e-affd-824f35a6f5e0');\n",
              "          const dataTable =\n",
              "            await google.colab.kernel.invokeFunction('convertToInteractive',\n",
              "                                                     [key], {});\n",
              "          if (!dataTable) return;\n",
              "\n",
              "          const docLinkHtml = 'Like what you see? Visit the ' +\n",
              "            '<a target=\"_blank\" href=https://colab.research.google.com/notebooks/data_table.ipynb>data table notebook</a>'\n",
              "            + ' to learn more about interactive tables.';\n",
              "          element.innerHTML = '';\n",
              "          dataTable['output_type'] = 'display_data';\n",
              "          await google.colab.output.renderOutput(dataTable, element);\n",
              "          const docLink = document.createElement('div');\n",
              "          docLink.innerHTML = docLinkHtml;\n",
              "          element.appendChild(docLink);\n",
              "        }\n",
              "      </script>\n",
              "    </div>\n",
              "  </div>\n",
              "  "
            ]
          },
          "metadata": {},
          "execution_count": 137
        }
      ]
    },
    {
      "cell_type": "code",
      "source": [
        "df_level = get_score_top(df_geo_master, '中学校')\n",
        "print(df_level.shape)\n",
        "df_level.head(10)"
      ],
      "metadata": {
        "id": "ypC5Qyu8ODH7",
        "outputId": "21e98215-f4a6-4819-a1ce-d0fdbea75a20",
        "colab": {
          "base_uri": "https://localhost:8080/",
          "height": 380
        }
      },
      "execution_count": 138,
      "outputs": [
        {
          "output_type": "stream",
          "name": "stdout",
          "text": [
            "(907, 7)\n"
          ]
        },
        {
          "output_type": "execute_result",
          "data": {
            "text/plain": [
              "  市区町村名   町名     町丁目     最寄りの中学校  中学校(最近傍距離)  中学校のレーティング  中学校スコア\n",
              "0  千代田区  平河町  平河町２丁目  千代田区立麹町中学校       0.139         4.1    5.00\n",
              "1   文京区  小石川  小石川４丁目   文京区立茗台中学校       0.224         4.3    5.00\n",
              "2   文京区   白山   白山３丁目   文京区立第十中学校       0.379         4.2    4.99\n",
              "3    港区  芝公園  芝公園３丁目   港区立御成門中学校       0.224         4.0    4.99\n",
              "4   文京区  千駄木  千駄木５丁目   文京区立文林中学校       0.057         3.8    4.99\n",
              "5    港区   愛宕   愛宕２丁目   港区立御成門中学校       0.204         4.0    4.99\n",
              "6    港区  西新橋  西新橋３丁目   港区立御成門中学校       0.228         4.0    4.99\n",
              "7    港区   新橋   新橋６丁目   港区立御成門中学校       0.385         4.0    4.98\n",
              "8   文京区  本駒込  本駒込３丁目   文京区立第九中学校       0.289         3.9    4.98\n",
              "9  千代田区   麹町   麹町４丁目  千代田区立麹町中学校       0.387         4.1    4.98"
            ],
            "text/html": [
              "\n",
              "  <div id=\"df-7707c818-3421-4530-a3bc-8c6530de263c\">\n",
              "    <div class=\"colab-df-container\">\n",
              "      <div>\n",
              "<style scoped>\n",
              "    .dataframe tbody tr th:only-of-type {\n",
              "        vertical-align: middle;\n",
              "    }\n",
              "\n",
              "    .dataframe tbody tr th {\n",
              "        vertical-align: top;\n",
              "    }\n",
              "\n",
              "    .dataframe thead th {\n",
              "        text-align: right;\n",
              "    }\n",
              "</style>\n",
              "<table border=\"1\" class=\"dataframe\">\n",
              "  <thead>\n",
              "    <tr style=\"text-align: right;\">\n",
              "      <th></th>\n",
              "      <th>市区町村名</th>\n",
              "      <th>町名</th>\n",
              "      <th>町丁目</th>\n",
              "      <th>最寄りの中学校</th>\n",
              "      <th>中学校(最近傍距離)</th>\n",
              "      <th>中学校のレーティング</th>\n",
              "      <th>中学校スコア</th>\n",
              "    </tr>\n",
              "  </thead>\n",
              "  <tbody>\n",
              "    <tr>\n",
              "      <th>0</th>\n",
              "      <td>千代田区</td>\n",
              "      <td>平河町</td>\n",
              "      <td>平河町２丁目</td>\n",
              "      <td>千代田区立麹町中学校</td>\n",
              "      <td>0.139</td>\n",
              "      <td>4.1</td>\n",
              "      <td>5.00</td>\n",
              "    </tr>\n",
              "    <tr>\n",
              "      <th>1</th>\n",
              "      <td>文京区</td>\n",
              "      <td>小石川</td>\n",
              "      <td>小石川４丁目</td>\n",
              "      <td>文京区立茗台中学校</td>\n",
              "      <td>0.224</td>\n",
              "      <td>4.3</td>\n",
              "      <td>5.00</td>\n",
              "    </tr>\n",
              "    <tr>\n",
              "      <th>2</th>\n",
              "      <td>文京区</td>\n",
              "      <td>白山</td>\n",
              "      <td>白山３丁目</td>\n",
              "      <td>文京区立第十中学校</td>\n",
              "      <td>0.379</td>\n",
              "      <td>4.2</td>\n",
              "      <td>4.99</td>\n",
              "    </tr>\n",
              "    <tr>\n",
              "      <th>3</th>\n",
              "      <td>港区</td>\n",
              "      <td>芝公園</td>\n",
              "      <td>芝公園３丁目</td>\n",
              "      <td>港区立御成門中学校</td>\n",
              "      <td>0.224</td>\n",
              "      <td>4.0</td>\n",
              "      <td>4.99</td>\n",
              "    </tr>\n",
              "    <tr>\n",
              "      <th>4</th>\n",
              "      <td>文京区</td>\n",
              "      <td>千駄木</td>\n",
              "      <td>千駄木５丁目</td>\n",
              "      <td>文京区立文林中学校</td>\n",
              "      <td>0.057</td>\n",
              "      <td>3.8</td>\n",
              "      <td>4.99</td>\n",
              "    </tr>\n",
              "    <tr>\n",
              "      <th>5</th>\n",
              "      <td>港区</td>\n",
              "      <td>愛宕</td>\n",
              "      <td>愛宕２丁目</td>\n",
              "      <td>港区立御成門中学校</td>\n",
              "      <td>0.204</td>\n",
              "      <td>4.0</td>\n",
              "      <td>4.99</td>\n",
              "    </tr>\n",
              "    <tr>\n",
              "      <th>6</th>\n",
              "      <td>港区</td>\n",
              "      <td>西新橋</td>\n",
              "      <td>西新橋３丁目</td>\n",
              "      <td>港区立御成門中学校</td>\n",
              "      <td>0.228</td>\n",
              "      <td>4.0</td>\n",
              "      <td>4.99</td>\n",
              "    </tr>\n",
              "    <tr>\n",
              "      <th>7</th>\n",
              "      <td>港区</td>\n",
              "      <td>新橋</td>\n",
              "      <td>新橋６丁目</td>\n",
              "      <td>港区立御成門中学校</td>\n",
              "      <td>0.385</td>\n",
              "      <td>4.0</td>\n",
              "      <td>4.98</td>\n",
              "    </tr>\n",
              "    <tr>\n",
              "      <th>8</th>\n",
              "      <td>文京区</td>\n",
              "      <td>本駒込</td>\n",
              "      <td>本駒込３丁目</td>\n",
              "      <td>文京区立第九中学校</td>\n",
              "      <td>0.289</td>\n",
              "      <td>3.9</td>\n",
              "      <td>4.98</td>\n",
              "    </tr>\n",
              "    <tr>\n",
              "      <th>9</th>\n",
              "      <td>千代田区</td>\n",
              "      <td>麹町</td>\n",
              "      <td>麹町４丁目</td>\n",
              "      <td>千代田区立麹町中学校</td>\n",
              "      <td>0.387</td>\n",
              "      <td>4.1</td>\n",
              "      <td>4.98</td>\n",
              "    </tr>\n",
              "  </tbody>\n",
              "</table>\n",
              "</div>\n",
              "      <button class=\"colab-df-convert\" onclick=\"convertToInteractive('df-7707c818-3421-4530-a3bc-8c6530de263c')\"\n",
              "              title=\"Convert this dataframe to an interactive table.\"\n",
              "              style=\"display:none;\">\n",
              "        \n",
              "  <svg xmlns=\"http://www.w3.org/2000/svg\" height=\"24px\"viewBox=\"0 0 24 24\"\n",
              "       width=\"24px\">\n",
              "    <path d=\"M0 0h24v24H0V0z\" fill=\"none\"/>\n",
              "    <path d=\"M18.56 5.44l.94 2.06.94-2.06 2.06-.94-2.06-.94-.94-2.06-.94 2.06-2.06.94zm-11 1L8.5 8.5l.94-2.06 2.06-.94-2.06-.94L8.5 2.5l-.94 2.06-2.06.94zm10 10l.94 2.06.94-2.06 2.06-.94-2.06-.94-.94-2.06-.94 2.06-2.06.94z\"/><path d=\"M17.41 7.96l-1.37-1.37c-.4-.4-.92-.59-1.43-.59-.52 0-1.04.2-1.43.59L10.3 9.45l-7.72 7.72c-.78.78-.78 2.05 0 2.83L4 21.41c.39.39.9.59 1.41.59.51 0 1.02-.2 1.41-.59l7.78-7.78 2.81-2.81c.8-.78.8-2.07 0-2.86zM5.41 20L4 18.59l7.72-7.72 1.47 1.35L5.41 20z\"/>\n",
              "  </svg>\n",
              "      </button>\n",
              "      \n",
              "  <style>\n",
              "    .colab-df-container {\n",
              "      display:flex;\n",
              "      flex-wrap:wrap;\n",
              "      gap: 12px;\n",
              "    }\n",
              "\n",
              "    .colab-df-convert {\n",
              "      background-color: #E8F0FE;\n",
              "      border: none;\n",
              "      border-radius: 50%;\n",
              "      cursor: pointer;\n",
              "      display: none;\n",
              "      fill: #1967D2;\n",
              "      height: 32px;\n",
              "      padding: 0 0 0 0;\n",
              "      width: 32px;\n",
              "    }\n",
              "\n",
              "    .colab-df-convert:hover {\n",
              "      background-color: #E2EBFA;\n",
              "      box-shadow: 0px 1px 2px rgba(60, 64, 67, 0.3), 0px 1px 3px 1px rgba(60, 64, 67, 0.15);\n",
              "      fill: #174EA6;\n",
              "    }\n",
              "\n",
              "    [theme=dark] .colab-df-convert {\n",
              "      background-color: #3B4455;\n",
              "      fill: #D2E3FC;\n",
              "    }\n",
              "\n",
              "    [theme=dark] .colab-df-convert:hover {\n",
              "      background-color: #434B5C;\n",
              "      box-shadow: 0px 1px 3px 1px rgba(0, 0, 0, 0.15);\n",
              "      filter: drop-shadow(0px 1px 2px rgba(0, 0, 0, 0.3));\n",
              "      fill: #FFFFFF;\n",
              "    }\n",
              "  </style>\n",
              "\n",
              "      <script>\n",
              "        const buttonEl =\n",
              "          document.querySelector('#df-7707c818-3421-4530-a3bc-8c6530de263c button.colab-df-convert');\n",
              "        buttonEl.style.display =\n",
              "          google.colab.kernel.accessAllowed ? 'block' : 'none';\n",
              "\n",
              "        async function convertToInteractive(key) {\n",
              "          const element = document.querySelector('#df-7707c818-3421-4530-a3bc-8c6530de263c');\n",
              "          const dataTable =\n",
              "            await google.colab.kernel.invokeFunction('convertToInteractive',\n",
              "                                                     [key], {});\n",
              "          if (!dataTable) return;\n",
              "\n",
              "          const docLinkHtml = 'Like what you see? Visit the ' +\n",
              "            '<a target=\"_blank\" href=https://colab.research.google.com/notebooks/data_table.ipynb>data table notebook</a>'\n",
              "            + ' to learn more about interactive tables.';\n",
              "          element.innerHTML = '';\n",
              "          dataTable['output_type'] = 'display_data';\n",
              "          await google.colab.output.renderOutput(dataTable, element);\n",
              "          const docLink = document.createElement('div');\n",
              "          docLink.innerHTML = docLinkHtml;\n",
              "          element.appendChild(docLink);\n",
              "        }\n",
              "      </script>\n",
              "    </div>\n",
              "  </div>\n",
              "  "
            ]
          },
          "metadata": {},
          "execution_count": 138
        }
      ]
    },
    {
      "cell_type": "code",
      "source": [
        "df_level.tail(10)"
      ],
      "metadata": {
        "id": "bkXq3oryWUHR",
        "outputId": "4a8ea5b5-cc16-4247-b83f-7bd2dca13784",
        "colab": {
          "base_uri": "https://localhost:8080/",
          "height": 363
        }
      },
      "execution_count": 139,
      "outputs": [
        {
          "output_type": "execute_result",
          "data": {
            "text/plain": [
              "    市区町村名     町名    町丁目       最寄りの中学校  中学校(最近傍距離)  中学校のレーティング  中学校スコア\n",
              "897   練馬区      錦   錦２丁目     練馬区立北町中学校       0.943         2.8    0.21\n",
              "898   足立区     六木  六木１丁目    足立区立第十三中学校       0.902         2.9    0.20\n",
              "899   新宿区    荒木町    荒木町     新宿区立四谷中学校       0.856         2.0    0.17\n",
              "900   大田区  雪谷大塚町  雪谷大塚町    大田区立石川台中学校       0.833         2.5    0.15\n",
              "901   足立区   西伊興町   西伊興町     足立区立伊興中学校       1.023         2.9    0.15\n",
              "902  江戸川区     大杉  大杉２丁目  江戸川区立松江第四中学校       0.701         2.7    0.14\n",
              "903   新宿区     舟町     舟町     新宿区立四谷中学校       0.928         2.0    0.14\n",
              "904   新宿区    大京町    大京町     新宿区立四谷中学校       1.041         2.0    0.11\n",
              "905  江戸川区   東篠崎町   東篠崎町  江戸川区立篠崎第二中学校       0.547         2.0    0.08\n",
              "906   葛飾区   水元公園   水元公園     葛飾区立水元中学校       0.726         2.3    0.07"
            ],
            "text/html": [
              "\n",
              "  <div id=\"df-a8ee6f82-ae56-440b-a0e2-bee15aa6d7db\">\n",
              "    <div class=\"colab-df-container\">\n",
              "      <div>\n",
              "<style scoped>\n",
              "    .dataframe tbody tr th:only-of-type {\n",
              "        vertical-align: middle;\n",
              "    }\n",
              "\n",
              "    .dataframe tbody tr th {\n",
              "        vertical-align: top;\n",
              "    }\n",
              "\n",
              "    .dataframe thead th {\n",
              "        text-align: right;\n",
              "    }\n",
              "</style>\n",
              "<table border=\"1\" class=\"dataframe\">\n",
              "  <thead>\n",
              "    <tr style=\"text-align: right;\">\n",
              "      <th></th>\n",
              "      <th>市区町村名</th>\n",
              "      <th>町名</th>\n",
              "      <th>町丁目</th>\n",
              "      <th>最寄りの中学校</th>\n",
              "      <th>中学校(最近傍距離)</th>\n",
              "      <th>中学校のレーティング</th>\n",
              "      <th>中学校スコア</th>\n",
              "    </tr>\n",
              "  </thead>\n",
              "  <tbody>\n",
              "    <tr>\n",
              "      <th>897</th>\n",
              "      <td>練馬区</td>\n",
              "      <td>錦</td>\n",
              "      <td>錦２丁目</td>\n",
              "      <td>練馬区立北町中学校</td>\n",
              "      <td>0.943</td>\n",
              "      <td>2.8</td>\n",
              "      <td>0.21</td>\n",
              "    </tr>\n",
              "    <tr>\n",
              "      <th>898</th>\n",
              "      <td>足立区</td>\n",
              "      <td>六木</td>\n",
              "      <td>六木１丁目</td>\n",
              "      <td>足立区立第十三中学校</td>\n",
              "      <td>0.902</td>\n",
              "      <td>2.9</td>\n",
              "      <td>0.20</td>\n",
              "    </tr>\n",
              "    <tr>\n",
              "      <th>899</th>\n",
              "      <td>新宿区</td>\n",
              "      <td>荒木町</td>\n",
              "      <td>荒木町</td>\n",
              "      <td>新宿区立四谷中学校</td>\n",
              "      <td>0.856</td>\n",
              "      <td>2.0</td>\n",
              "      <td>0.17</td>\n",
              "    </tr>\n",
              "    <tr>\n",
              "      <th>900</th>\n",
              "      <td>大田区</td>\n",
              "      <td>雪谷大塚町</td>\n",
              "      <td>雪谷大塚町</td>\n",
              "      <td>大田区立石川台中学校</td>\n",
              "      <td>0.833</td>\n",
              "      <td>2.5</td>\n",
              "      <td>0.15</td>\n",
              "    </tr>\n",
              "    <tr>\n",
              "      <th>901</th>\n",
              "      <td>足立区</td>\n",
              "      <td>西伊興町</td>\n",
              "      <td>西伊興町</td>\n",
              "      <td>足立区立伊興中学校</td>\n",
              "      <td>1.023</td>\n",
              "      <td>2.9</td>\n",
              "      <td>0.15</td>\n",
              "    </tr>\n",
              "    <tr>\n",
              "      <th>902</th>\n",
              "      <td>江戸川区</td>\n",
              "      <td>大杉</td>\n",
              "      <td>大杉２丁目</td>\n",
              "      <td>江戸川区立松江第四中学校</td>\n",
              "      <td>0.701</td>\n",
              "      <td>2.7</td>\n",
              "      <td>0.14</td>\n",
              "    </tr>\n",
              "    <tr>\n",
              "      <th>903</th>\n",
              "      <td>新宿区</td>\n",
              "      <td>舟町</td>\n",
              "      <td>舟町</td>\n",
              "      <td>新宿区立四谷中学校</td>\n",
              "      <td>0.928</td>\n",
              "      <td>2.0</td>\n",
              "      <td>0.14</td>\n",
              "    </tr>\n",
              "    <tr>\n",
              "      <th>904</th>\n",
              "      <td>新宿区</td>\n",
              "      <td>大京町</td>\n",
              "      <td>大京町</td>\n",
              "      <td>新宿区立四谷中学校</td>\n",
              "      <td>1.041</td>\n",
              "      <td>2.0</td>\n",
              "      <td>0.11</td>\n",
              "    </tr>\n",
              "    <tr>\n",
              "      <th>905</th>\n",
              "      <td>江戸川区</td>\n",
              "      <td>東篠崎町</td>\n",
              "      <td>東篠崎町</td>\n",
              "      <td>江戸川区立篠崎第二中学校</td>\n",
              "      <td>0.547</td>\n",
              "      <td>2.0</td>\n",
              "      <td>0.08</td>\n",
              "    </tr>\n",
              "    <tr>\n",
              "      <th>906</th>\n",
              "      <td>葛飾区</td>\n",
              "      <td>水元公園</td>\n",
              "      <td>水元公園</td>\n",
              "      <td>葛飾区立水元中学校</td>\n",
              "      <td>0.726</td>\n",
              "      <td>2.3</td>\n",
              "      <td>0.07</td>\n",
              "    </tr>\n",
              "  </tbody>\n",
              "</table>\n",
              "</div>\n",
              "      <button class=\"colab-df-convert\" onclick=\"convertToInteractive('df-a8ee6f82-ae56-440b-a0e2-bee15aa6d7db')\"\n",
              "              title=\"Convert this dataframe to an interactive table.\"\n",
              "              style=\"display:none;\">\n",
              "        \n",
              "  <svg xmlns=\"http://www.w3.org/2000/svg\" height=\"24px\"viewBox=\"0 0 24 24\"\n",
              "       width=\"24px\">\n",
              "    <path d=\"M0 0h24v24H0V0z\" fill=\"none\"/>\n",
              "    <path d=\"M18.56 5.44l.94 2.06.94-2.06 2.06-.94-2.06-.94-.94-2.06-.94 2.06-2.06.94zm-11 1L8.5 8.5l.94-2.06 2.06-.94-2.06-.94L8.5 2.5l-.94 2.06-2.06.94zm10 10l.94 2.06.94-2.06 2.06-.94-2.06-.94-.94-2.06-.94 2.06-2.06.94z\"/><path d=\"M17.41 7.96l-1.37-1.37c-.4-.4-.92-.59-1.43-.59-.52 0-1.04.2-1.43.59L10.3 9.45l-7.72 7.72c-.78.78-.78 2.05 0 2.83L4 21.41c.39.39.9.59 1.41.59.51 0 1.02-.2 1.41-.59l7.78-7.78 2.81-2.81c.8-.78.8-2.07 0-2.86zM5.41 20L4 18.59l7.72-7.72 1.47 1.35L5.41 20z\"/>\n",
              "  </svg>\n",
              "      </button>\n",
              "      \n",
              "  <style>\n",
              "    .colab-df-container {\n",
              "      display:flex;\n",
              "      flex-wrap:wrap;\n",
              "      gap: 12px;\n",
              "    }\n",
              "\n",
              "    .colab-df-convert {\n",
              "      background-color: #E8F0FE;\n",
              "      border: none;\n",
              "      border-radius: 50%;\n",
              "      cursor: pointer;\n",
              "      display: none;\n",
              "      fill: #1967D2;\n",
              "      height: 32px;\n",
              "      padding: 0 0 0 0;\n",
              "      width: 32px;\n",
              "    }\n",
              "\n",
              "    .colab-df-convert:hover {\n",
              "      background-color: #E2EBFA;\n",
              "      box-shadow: 0px 1px 2px rgba(60, 64, 67, 0.3), 0px 1px 3px 1px rgba(60, 64, 67, 0.15);\n",
              "      fill: #174EA6;\n",
              "    }\n",
              "\n",
              "    [theme=dark] .colab-df-convert {\n",
              "      background-color: #3B4455;\n",
              "      fill: #D2E3FC;\n",
              "    }\n",
              "\n",
              "    [theme=dark] .colab-df-convert:hover {\n",
              "      background-color: #434B5C;\n",
              "      box-shadow: 0px 1px 3px 1px rgba(0, 0, 0, 0.15);\n",
              "      filter: drop-shadow(0px 1px 2px rgba(0, 0, 0, 0.3));\n",
              "      fill: #FFFFFF;\n",
              "    }\n",
              "  </style>\n",
              "\n",
              "      <script>\n",
              "        const buttonEl =\n",
              "          document.querySelector('#df-a8ee6f82-ae56-440b-a0e2-bee15aa6d7db button.colab-df-convert');\n",
              "        buttonEl.style.display =\n",
              "          google.colab.kernel.accessAllowed ? 'block' : 'none';\n",
              "\n",
              "        async function convertToInteractive(key) {\n",
              "          const element = document.querySelector('#df-a8ee6f82-ae56-440b-a0e2-bee15aa6d7db');\n",
              "          const dataTable =\n",
              "            await google.colab.kernel.invokeFunction('convertToInteractive',\n",
              "                                                     [key], {});\n",
              "          if (!dataTable) return;\n",
              "\n",
              "          const docLinkHtml = 'Like what you see? Visit the ' +\n",
              "            '<a target=\"_blank\" href=https://colab.research.google.com/notebooks/data_table.ipynb>data table notebook</a>'\n",
              "            + ' to learn more about interactive tables.';\n",
              "          element.innerHTML = '';\n",
              "          dataTable['output_type'] = 'display_data';\n",
              "          await google.colab.output.renderOutput(dataTable, element);\n",
              "          const docLink = document.createElement('div');\n",
              "          docLink.innerHTML = docLinkHtml;\n",
              "          element.appendChild(docLink);\n",
              "        }\n",
              "      </script>\n",
              "    </div>\n",
              "  </div>\n",
              "  "
            ]
          },
          "metadata": {},
          "execution_count": 139
        }
      ]
    },
    {
      "cell_type": "code",
      "source": [
        "df_level = get_score_top(df_geo_master, '幼稚園')\n",
        "print(df_level.shape)\n",
        "df_level.head(10)"
      ],
      "metadata": {
        "id": "8qmUYLieWXyj",
        "outputId": "14103310-65a3-463a-dfa6-b36125ba03ba",
        "colab": {
          "base_uri": "https://localhost:8080/",
          "height": 380
        }
      },
      "execution_count": 140,
      "outputs": [
        {
          "output_type": "stream",
          "name": "stdout",
          "text": [
            "(905, 7)\n"
          ]
        },
        {
          "output_type": "execute_result",
          "data": {
            "text/plain": [
              "  市区町村名   町名     町丁目     最寄りの幼稚園  幼稚園(最近傍距離)  幼稚園のレーティング  幼稚園スコア\n",
              "0    港区   三田   三田１丁目    港区立赤羽幼稚園       0.094         5.0    5.00\n",
              "1    港区  南麻布  南麻布３丁目    港区立本村幼稚園       0.068         5.0    5.00\n",
              "2   文京区  千駄木  千駄木５丁目  文京区立千駄木幼稚園       0.145         5.0    5.00\n",
              "3    港区  元麻布  元麻布３丁目    港区立南山幼稚園       0.064         5.0    5.00\n",
              "4  千代田区  六番町     六番町  千代田区立番町幼稚園       0.015         5.0    4.99\n",
              "5  千代田区   麹町   麹町２丁目  千代田区立麹町幼稚園       0.137         5.0    4.99\n",
              "6    港区   白金   白金３丁目    港区立三光幼稚園       0.133         5.0    4.99\n",
              "7    港区   高輪   高輪２丁目    港区立高輪幼稚園       0.277         5.0    4.98\n",
              "8  千代田区  五番町     五番町  千代田区立番町幼稚園       0.234         5.0    4.98\n",
              "9    港区    芝    芝３丁目      みなと幼稚園       0.378         5.0    4.97"
            ],
            "text/html": [
              "\n",
              "  <div id=\"df-03d28984-a1d1-49cc-91f0-a2ff16bd8a01\">\n",
              "    <div class=\"colab-df-container\">\n",
              "      <div>\n",
              "<style scoped>\n",
              "    .dataframe tbody tr th:only-of-type {\n",
              "        vertical-align: middle;\n",
              "    }\n",
              "\n",
              "    .dataframe tbody tr th {\n",
              "        vertical-align: top;\n",
              "    }\n",
              "\n",
              "    .dataframe thead th {\n",
              "        text-align: right;\n",
              "    }\n",
              "</style>\n",
              "<table border=\"1\" class=\"dataframe\">\n",
              "  <thead>\n",
              "    <tr style=\"text-align: right;\">\n",
              "      <th></th>\n",
              "      <th>市区町村名</th>\n",
              "      <th>町名</th>\n",
              "      <th>町丁目</th>\n",
              "      <th>最寄りの幼稚園</th>\n",
              "      <th>幼稚園(最近傍距離)</th>\n",
              "      <th>幼稚園のレーティング</th>\n",
              "      <th>幼稚園スコア</th>\n",
              "    </tr>\n",
              "  </thead>\n",
              "  <tbody>\n",
              "    <tr>\n",
              "      <th>0</th>\n",
              "      <td>港区</td>\n",
              "      <td>三田</td>\n",
              "      <td>三田１丁目</td>\n",
              "      <td>港区立赤羽幼稚園</td>\n",
              "      <td>0.094</td>\n",
              "      <td>5.0</td>\n",
              "      <td>5.00</td>\n",
              "    </tr>\n",
              "    <tr>\n",
              "      <th>1</th>\n",
              "      <td>港区</td>\n",
              "      <td>南麻布</td>\n",
              "      <td>南麻布３丁目</td>\n",
              "      <td>港区立本村幼稚園</td>\n",
              "      <td>0.068</td>\n",
              "      <td>5.0</td>\n",
              "      <td>5.00</td>\n",
              "    </tr>\n",
              "    <tr>\n",
              "      <th>2</th>\n",
              "      <td>文京区</td>\n",
              "      <td>千駄木</td>\n",
              "      <td>千駄木５丁目</td>\n",
              "      <td>文京区立千駄木幼稚園</td>\n",
              "      <td>0.145</td>\n",
              "      <td>5.0</td>\n",
              "      <td>5.00</td>\n",
              "    </tr>\n",
              "    <tr>\n",
              "      <th>3</th>\n",
              "      <td>港区</td>\n",
              "      <td>元麻布</td>\n",
              "      <td>元麻布３丁目</td>\n",
              "      <td>港区立南山幼稚園</td>\n",
              "      <td>0.064</td>\n",
              "      <td>5.0</td>\n",
              "      <td>5.00</td>\n",
              "    </tr>\n",
              "    <tr>\n",
              "      <th>4</th>\n",
              "      <td>千代田区</td>\n",
              "      <td>六番町</td>\n",
              "      <td>六番町</td>\n",
              "      <td>千代田区立番町幼稚園</td>\n",
              "      <td>0.015</td>\n",
              "      <td>5.0</td>\n",
              "      <td>4.99</td>\n",
              "    </tr>\n",
              "    <tr>\n",
              "      <th>5</th>\n",
              "      <td>千代田区</td>\n",
              "      <td>麹町</td>\n",
              "      <td>麹町２丁目</td>\n",
              "      <td>千代田区立麹町幼稚園</td>\n",
              "      <td>0.137</td>\n",
              "      <td>5.0</td>\n",
              "      <td>4.99</td>\n",
              "    </tr>\n",
              "    <tr>\n",
              "      <th>6</th>\n",
              "      <td>港区</td>\n",
              "      <td>白金</td>\n",
              "      <td>白金３丁目</td>\n",
              "      <td>港区立三光幼稚園</td>\n",
              "      <td>0.133</td>\n",
              "      <td>5.0</td>\n",
              "      <td>4.99</td>\n",
              "    </tr>\n",
              "    <tr>\n",
              "      <th>7</th>\n",
              "      <td>港区</td>\n",
              "      <td>高輪</td>\n",
              "      <td>高輪２丁目</td>\n",
              "      <td>港区立高輪幼稚園</td>\n",
              "      <td>0.277</td>\n",
              "      <td>5.0</td>\n",
              "      <td>4.98</td>\n",
              "    </tr>\n",
              "    <tr>\n",
              "      <th>8</th>\n",
              "      <td>千代田区</td>\n",
              "      <td>五番町</td>\n",
              "      <td>五番町</td>\n",
              "      <td>千代田区立番町幼稚園</td>\n",
              "      <td>0.234</td>\n",
              "      <td>5.0</td>\n",
              "      <td>4.98</td>\n",
              "    </tr>\n",
              "    <tr>\n",
              "      <th>9</th>\n",
              "      <td>港区</td>\n",
              "      <td>芝</td>\n",
              "      <td>芝３丁目</td>\n",
              "      <td>みなと幼稚園</td>\n",
              "      <td>0.378</td>\n",
              "      <td>5.0</td>\n",
              "      <td>4.97</td>\n",
              "    </tr>\n",
              "  </tbody>\n",
              "</table>\n",
              "</div>\n",
              "      <button class=\"colab-df-convert\" onclick=\"convertToInteractive('df-03d28984-a1d1-49cc-91f0-a2ff16bd8a01')\"\n",
              "              title=\"Convert this dataframe to an interactive table.\"\n",
              "              style=\"display:none;\">\n",
              "        \n",
              "  <svg xmlns=\"http://www.w3.org/2000/svg\" height=\"24px\"viewBox=\"0 0 24 24\"\n",
              "       width=\"24px\">\n",
              "    <path d=\"M0 0h24v24H0V0z\" fill=\"none\"/>\n",
              "    <path d=\"M18.56 5.44l.94 2.06.94-2.06 2.06-.94-2.06-.94-.94-2.06-.94 2.06-2.06.94zm-11 1L8.5 8.5l.94-2.06 2.06-.94-2.06-.94L8.5 2.5l-.94 2.06-2.06.94zm10 10l.94 2.06.94-2.06 2.06-.94-2.06-.94-.94-2.06-.94 2.06-2.06.94z\"/><path d=\"M17.41 7.96l-1.37-1.37c-.4-.4-.92-.59-1.43-.59-.52 0-1.04.2-1.43.59L10.3 9.45l-7.72 7.72c-.78.78-.78 2.05 0 2.83L4 21.41c.39.39.9.59 1.41.59.51 0 1.02-.2 1.41-.59l7.78-7.78 2.81-2.81c.8-.78.8-2.07 0-2.86zM5.41 20L4 18.59l7.72-7.72 1.47 1.35L5.41 20z\"/>\n",
              "  </svg>\n",
              "      </button>\n",
              "      \n",
              "  <style>\n",
              "    .colab-df-container {\n",
              "      display:flex;\n",
              "      flex-wrap:wrap;\n",
              "      gap: 12px;\n",
              "    }\n",
              "\n",
              "    .colab-df-convert {\n",
              "      background-color: #E8F0FE;\n",
              "      border: none;\n",
              "      border-radius: 50%;\n",
              "      cursor: pointer;\n",
              "      display: none;\n",
              "      fill: #1967D2;\n",
              "      height: 32px;\n",
              "      padding: 0 0 0 0;\n",
              "      width: 32px;\n",
              "    }\n",
              "\n",
              "    .colab-df-convert:hover {\n",
              "      background-color: #E2EBFA;\n",
              "      box-shadow: 0px 1px 2px rgba(60, 64, 67, 0.3), 0px 1px 3px 1px rgba(60, 64, 67, 0.15);\n",
              "      fill: #174EA6;\n",
              "    }\n",
              "\n",
              "    [theme=dark] .colab-df-convert {\n",
              "      background-color: #3B4455;\n",
              "      fill: #D2E3FC;\n",
              "    }\n",
              "\n",
              "    [theme=dark] .colab-df-convert:hover {\n",
              "      background-color: #434B5C;\n",
              "      box-shadow: 0px 1px 3px 1px rgba(0, 0, 0, 0.15);\n",
              "      filter: drop-shadow(0px 1px 2px rgba(0, 0, 0, 0.3));\n",
              "      fill: #FFFFFF;\n",
              "    }\n",
              "  </style>\n",
              "\n",
              "      <script>\n",
              "        const buttonEl =\n",
              "          document.querySelector('#df-03d28984-a1d1-49cc-91f0-a2ff16bd8a01 button.colab-df-convert');\n",
              "        buttonEl.style.display =\n",
              "          google.colab.kernel.accessAllowed ? 'block' : 'none';\n",
              "\n",
              "        async function convertToInteractive(key) {\n",
              "          const element = document.querySelector('#df-03d28984-a1d1-49cc-91f0-a2ff16bd8a01');\n",
              "          const dataTable =\n",
              "            await google.colab.kernel.invokeFunction('convertToInteractive',\n",
              "                                                     [key], {});\n",
              "          if (!dataTable) return;\n",
              "\n",
              "          const docLinkHtml = 'Like what you see? Visit the ' +\n",
              "            '<a target=\"_blank\" href=https://colab.research.google.com/notebooks/data_table.ipynb>data table notebook</a>'\n",
              "            + ' to learn more about interactive tables.';\n",
              "          element.innerHTML = '';\n",
              "          dataTable['output_type'] = 'display_data';\n",
              "          await google.colab.output.renderOutput(dataTable, element);\n",
              "          const docLink = document.createElement('div');\n",
              "          docLink.innerHTML = docLinkHtml;\n",
              "          element.appendChild(docLink);\n",
              "        }\n",
              "      </script>\n",
              "    </div>\n",
              "  </div>\n",
              "  "
            ]
          },
          "metadata": {},
          "execution_count": 140
        }
      ]
    },
    {
      "cell_type": "code",
      "source": [
        "df_level.tail(10)"
      ],
      "metadata": {
        "id": "Sd1E1O3QWhBt",
        "outputId": "017af16b-4409-4969-af90-0c54284a6d6a",
        "colab": {
          "base_uri": "https://localhost:8080/",
          "height": 363
        }
      },
      "execution_count": 141,
      "outputs": [
        {
          "output_type": "execute_result",
          "data": {
            "text/plain": [
              "    市区町村名     町名     町丁目 最寄りの幼稚園  幼稚園(最近傍距離)  幼稚園のレーティング  幼稚園スコア\n",
              "895   足立区  千住龍田町   千住龍田町   足立幼稚園       0.413         1.0    0.18\n",
              "896  江戸川区    臨海町  臨海町１丁目  江戸川幼稚園       0.868         3.4    0.18\n",
              "897  江戸川区    本一色  本一色２丁目   松本幼稚園       0.736         3.1    0.15\n",
              "898   足立区     皿沼   皿沼２丁目   佐藤幼稚園       0.595         2.8    0.13\n",
              "899  江戸川区   下篠崎町    下篠崎町    暁幼稚園       0.921         3.3    0.12\n",
              "900   大田区   羽田旭町    羽田旭町  北糀谷幼稚園       1.766         2.7    0.11\n",
              "901  江戸川区    興宮町     興宮町   松本幼稚園       0.934         3.1    0.09\n",
              "902   板橋区     幸町      幸町   要町幼稚園       0.860         1.0    0.03\n",
              "903   足立区  千住橋戸町   千住橋戸町   足立幼稚園       0.791         1.0    0.01\n",
              "904   板橋区   大山西町    大山西町   要町幼稚園       1.103         1.0    0.01"
            ],
            "text/html": [
              "\n",
              "  <div id=\"df-303af6cb-75be-4d50-bcde-e14c40c61114\">\n",
              "    <div class=\"colab-df-container\">\n",
              "      <div>\n",
              "<style scoped>\n",
              "    .dataframe tbody tr th:only-of-type {\n",
              "        vertical-align: middle;\n",
              "    }\n",
              "\n",
              "    .dataframe tbody tr th {\n",
              "        vertical-align: top;\n",
              "    }\n",
              "\n",
              "    .dataframe thead th {\n",
              "        text-align: right;\n",
              "    }\n",
              "</style>\n",
              "<table border=\"1\" class=\"dataframe\">\n",
              "  <thead>\n",
              "    <tr style=\"text-align: right;\">\n",
              "      <th></th>\n",
              "      <th>市区町村名</th>\n",
              "      <th>町名</th>\n",
              "      <th>町丁目</th>\n",
              "      <th>最寄りの幼稚園</th>\n",
              "      <th>幼稚園(最近傍距離)</th>\n",
              "      <th>幼稚園のレーティング</th>\n",
              "      <th>幼稚園スコア</th>\n",
              "    </tr>\n",
              "  </thead>\n",
              "  <tbody>\n",
              "    <tr>\n",
              "      <th>895</th>\n",
              "      <td>足立区</td>\n",
              "      <td>千住龍田町</td>\n",
              "      <td>千住龍田町</td>\n",
              "      <td>足立幼稚園</td>\n",
              "      <td>0.413</td>\n",
              "      <td>1.0</td>\n",
              "      <td>0.18</td>\n",
              "    </tr>\n",
              "    <tr>\n",
              "      <th>896</th>\n",
              "      <td>江戸川区</td>\n",
              "      <td>臨海町</td>\n",
              "      <td>臨海町１丁目</td>\n",
              "      <td>江戸川幼稚園</td>\n",
              "      <td>0.868</td>\n",
              "      <td>3.4</td>\n",
              "      <td>0.18</td>\n",
              "    </tr>\n",
              "    <tr>\n",
              "      <th>897</th>\n",
              "      <td>江戸川区</td>\n",
              "      <td>本一色</td>\n",
              "      <td>本一色２丁目</td>\n",
              "      <td>松本幼稚園</td>\n",
              "      <td>0.736</td>\n",
              "      <td>3.1</td>\n",
              "      <td>0.15</td>\n",
              "    </tr>\n",
              "    <tr>\n",
              "      <th>898</th>\n",
              "      <td>足立区</td>\n",
              "      <td>皿沼</td>\n",
              "      <td>皿沼２丁目</td>\n",
              "      <td>佐藤幼稚園</td>\n",
              "      <td>0.595</td>\n",
              "      <td>2.8</td>\n",
              "      <td>0.13</td>\n",
              "    </tr>\n",
              "    <tr>\n",
              "      <th>899</th>\n",
              "      <td>江戸川区</td>\n",
              "      <td>下篠崎町</td>\n",
              "      <td>下篠崎町</td>\n",
              "      <td>暁幼稚園</td>\n",
              "      <td>0.921</td>\n",
              "      <td>3.3</td>\n",
              "      <td>0.12</td>\n",
              "    </tr>\n",
              "    <tr>\n",
              "      <th>900</th>\n",
              "      <td>大田区</td>\n",
              "      <td>羽田旭町</td>\n",
              "      <td>羽田旭町</td>\n",
              "      <td>北糀谷幼稚園</td>\n",
              "      <td>1.766</td>\n",
              "      <td>2.7</td>\n",
              "      <td>0.11</td>\n",
              "    </tr>\n",
              "    <tr>\n",
              "      <th>901</th>\n",
              "      <td>江戸川区</td>\n",
              "      <td>興宮町</td>\n",
              "      <td>興宮町</td>\n",
              "      <td>松本幼稚園</td>\n",
              "      <td>0.934</td>\n",
              "      <td>3.1</td>\n",
              "      <td>0.09</td>\n",
              "    </tr>\n",
              "    <tr>\n",
              "      <th>902</th>\n",
              "      <td>板橋区</td>\n",
              "      <td>幸町</td>\n",
              "      <td>幸町</td>\n",
              "      <td>要町幼稚園</td>\n",
              "      <td>0.860</td>\n",
              "      <td>1.0</td>\n",
              "      <td>0.03</td>\n",
              "    </tr>\n",
              "    <tr>\n",
              "      <th>903</th>\n",
              "      <td>足立区</td>\n",
              "      <td>千住橋戸町</td>\n",
              "      <td>千住橋戸町</td>\n",
              "      <td>足立幼稚園</td>\n",
              "      <td>0.791</td>\n",
              "      <td>1.0</td>\n",
              "      <td>0.01</td>\n",
              "    </tr>\n",
              "    <tr>\n",
              "      <th>904</th>\n",
              "      <td>板橋区</td>\n",
              "      <td>大山西町</td>\n",
              "      <td>大山西町</td>\n",
              "      <td>要町幼稚園</td>\n",
              "      <td>1.103</td>\n",
              "      <td>1.0</td>\n",
              "      <td>0.01</td>\n",
              "    </tr>\n",
              "  </tbody>\n",
              "</table>\n",
              "</div>\n",
              "      <button class=\"colab-df-convert\" onclick=\"convertToInteractive('df-303af6cb-75be-4d50-bcde-e14c40c61114')\"\n",
              "              title=\"Convert this dataframe to an interactive table.\"\n",
              "              style=\"display:none;\">\n",
              "        \n",
              "  <svg xmlns=\"http://www.w3.org/2000/svg\" height=\"24px\"viewBox=\"0 0 24 24\"\n",
              "       width=\"24px\">\n",
              "    <path d=\"M0 0h24v24H0V0z\" fill=\"none\"/>\n",
              "    <path d=\"M18.56 5.44l.94 2.06.94-2.06 2.06-.94-2.06-.94-.94-2.06-.94 2.06-2.06.94zm-11 1L8.5 8.5l.94-2.06 2.06-.94-2.06-.94L8.5 2.5l-.94 2.06-2.06.94zm10 10l.94 2.06.94-2.06 2.06-.94-2.06-.94-.94-2.06-.94 2.06-2.06.94z\"/><path d=\"M17.41 7.96l-1.37-1.37c-.4-.4-.92-.59-1.43-.59-.52 0-1.04.2-1.43.59L10.3 9.45l-7.72 7.72c-.78.78-.78 2.05 0 2.83L4 21.41c.39.39.9.59 1.41.59.51 0 1.02-.2 1.41-.59l7.78-7.78 2.81-2.81c.8-.78.8-2.07 0-2.86zM5.41 20L4 18.59l7.72-7.72 1.47 1.35L5.41 20z\"/>\n",
              "  </svg>\n",
              "      </button>\n",
              "      \n",
              "  <style>\n",
              "    .colab-df-container {\n",
              "      display:flex;\n",
              "      flex-wrap:wrap;\n",
              "      gap: 12px;\n",
              "    }\n",
              "\n",
              "    .colab-df-convert {\n",
              "      background-color: #E8F0FE;\n",
              "      border: none;\n",
              "      border-radius: 50%;\n",
              "      cursor: pointer;\n",
              "      display: none;\n",
              "      fill: #1967D2;\n",
              "      height: 32px;\n",
              "      padding: 0 0 0 0;\n",
              "      width: 32px;\n",
              "    }\n",
              "\n",
              "    .colab-df-convert:hover {\n",
              "      background-color: #E2EBFA;\n",
              "      box-shadow: 0px 1px 2px rgba(60, 64, 67, 0.3), 0px 1px 3px 1px rgba(60, 64, 67, 0.15);\n",
              "      fill: #174EA6;\n",
              "    }\n",
              "\n",
              "    [theme=dark] .colab-df-convert {\n",
              "      background-color: #3B4455;\n",
              "      fill: #D2E3FC;\n",
              "    }\n",
              "\n",
              "    [theme=dark] .colab-df-convert:hover {\n",
              "      background-color: #434B5C;\n",
              "      box-shadow: 0px 1px 3px 1px rgba(0, 0, 0, 0.15);\n",
              "      filter: drop-shadow(0px 1px 2px rgba(0, 0, 0, 0.3));\n",
              "      fill: #FFFFFF;\n",
              "    }\n",
              "  </style>\n",
              "\n",
              "      <script>\n",
              "        const buttonEl =\n",
              "          document.querySelector('#df-303af6cb-75be-4d50-bcde-e14c40c61114 button.colab-df-convert');\n",
              "        buttonEl.style.display =\n",
              "          google.colab.kernel.accessAllowed ? 'block' : 'none';\n",
              "\n",
              "        async function convertToInteractive(key) {\n",
              "          const element = document.querySelector('#df-303af6cb-75be-4d50-bcde-e14c40c61114');\n",
              "          const dataTable =\n",
              "            await google.colab.kernel.invokeFunction('convertToInteractive',\n",
              "                                                     [key], {});\n",
              "          if (!dataTable) return;\n",
              "\n",
              "          const docLinkHtml = 'Like what you see? Visit the ' +\n",
              "            '<a target=\"_blank\" href=https://colab.research.google.com/notebooks/data_table.ipynb>data table notebook</a>'\n",
              "            + ' to learn more about interactive tables.';\n",
              "          element.innerHTML = '';\n",
              "          dataTable['output_type'] = 'display_data';\n",
              "          await google.colab.output.renderOutput(dataTable, element);\n",
              "          const docLink = document.createElement('div');\n",
              "          docLink.innerHTML = docLinkHtml;\n",
              "          element.appendChild(docLink);\n",
              "        }\n",
              "      </script>\n",
              "    </div>\n",
              "  </div>\n",
              "  "
            ]
          },
          "metadata": {},
          "execution_count": 141
        }
      ]
    },
    {
      "cell_type": "code",
      "source": [
        "df_geo_master.sort_values('学習塾スコア', ascending=False)[['市区町村名', '町名', '町丁目', '学習塾(数)', '学習塾スコア']].head(10)"
      ],
      "metadata": {
        "id": "9EityBHhWi57",
        "outputId": "911343f8-7e23-408e-ef5b-58fcbcf04ac6",
        "colab": {
          "base_uri": "https://localhost:8080/",
          "height": 363
        }
      },
      "execution_count": 142,
      "outputs": [
        {
          "output_type": "execute_result",
          "data": {
            "text/plain": [
              "     市区町村名     町名       町丁目  学習塾(数)  学習塾スコア\n",
              "2986  江戸川区   一之江町      一之江町    36.0    5.00\n",
              "1506  世田谷区     用賀     用賀２丁目    31.0    5.00\n",
              "2970  江戸川区     松江     松江６丁目    32.0    5.00\n",
              "2795   葛飾区     立石     立石５丁目    31.0    5.00\n",
              "2567   足立区     梅田     梅田８丁目    29.0    4.99\n",
              "879    江東区     大島     大島５丁目    29.0    4.99\n",
              "2702   足立区  西新井栄町  西新井栄町１丁目    29.0    4.99\n",
              "2092    北区    赤羽南    赤羽南２丁目    29.0    4.99\n",
              "1283   大田区    西糀谷    西糀谷１丁目    27.0    4.98\n",
              "1524  世田谷区    桜新町    桜新町１丁目    27.0    4.98"
            ],
            "text/html": [
              "\n",
              "  <div id=\"df-df5ad92b-3eac-4ddc-9bbb-7613e33ee5f0\">\n",
              "    <div class=\"colab-df-container\">\n",
              "      <div>\n",
              "<style scoped>\n",
              "    .dataframe tbody tr th:only-of-type {\n",
              "        vertical-align: middle;\n",
              "    }\n",
              "\n",
              "    .dataframe tbody tr th {\n",
              "        vertical-align: top;\n",
              "    }\n",
              "\n",
              "    .dataframe thead th {\n",
              "        text-align: right;\n",
              "    }\n",
              "</style>\n",
              "<table border=\"1\" class=\"dataframe\">\n",
              "  <thead>\n",
              "    <tr style=\"text-align: right;\">\n",
              "      <th></th>\n",
              "      <th>市区町村名</th>\n",
              "      <th>町名</th>\n",
              "      <th>町丁目</th>\n",
              "      <th>学習塾(数)</th>\n",
              "      <th>学習塾スコア</th>\n",
              "    </tr>\n",
              "  </thead>\n",
              "  <tbody>\n",
              "    <tr>\n",
              "      <th>2986</th>\n",
              "      <td>江戸川区</td>\n",
              "      <td>一之江町</td>\n",
              "      <td>一之江町</td>\n",
              "      <td>36.0</td>\n",
              "      <td>5.00</td>\n",
              "    </tr>\n",
              "    <tr>\n",
              "      <th>1506</th>\n",
              "      <td>世田谷区</td>\n",
              "      <td>用賀</td>\n",
              "      <td>用賀２丁目</td>\n",
              "      <td>31.0</td>\n",
              "      <td>5.00</td>\n",
              "    </tr>\n",
              "    <tr>\n",
              "      <th>2970</th>\n",
              "      <td>江戸川区</td>\n",
              "      <td>松江</td>\n",
              "      <td>松江６丁目</td>\n",
              "      <td>32.0</td>\n",
              "      <td>5.00</td>\n",
              "    </tr>\n",
              "    <tr>\n",
              "      <th>2795</th>\n",
              "      <td>葛飾区</td>\n",
              "      <td>立石</td>\n",
              "      <td>立石５丁目</td>\n",
              "      <td>31.0</td>\n",
              "      <td>5.00</td>\n",
              "    </tr>\n",
              "    <tr>\n",
              "      <th>2567</th>\n",
              "      <td>足立区</td>\n",
              "      <td>梅田</td>\n",
              "      <td>梅田８丁目</td>\n",
              "      <td>29.0</td>\n",
              "      <td>4.99</td>\n",
              "    </tr>\n",
              "    <tr>\n",
              "      <th>879</th>\n",
              "      <td>江東区</td>\n",
              "      <td>大島</td>\n",
              "      <td>大島５丁目</td>\n",
              "      <td>29.0</td>\n",
              "      <td>4.99</td>\n",
              "    </tr>\n",
              "    <tr>\n",
              "      <th>2702</th>\n",
              "      <td>足立区</td>\n",
              "      <td>西新井栄町</td>\n",
              "      <td>西新井栄町１丁目</td>\n",
              "      <td>29.0</td>\n",
              "      <td>4.99</td>\n",
              "    </tr>\n",
              "    <tr>\n",
              "      <th>2092</th>\n",
              "      <td>北区</td>\n",
              "      <td>赤羽南</td>\n",
              "      <td>赤羽南２丁目</td>\n",
              "      <td>29.0</td>\n",
              "      <td>4.99</td>\n",
              "    </tr>\n",
              "    <tr>\n",
              "      <th>1283</th>\n",
              "      <td>大田区</td>\n",
              "      <td>西糀谷</td>\n",
              "      <td>西糀谷１丁目</td>\n",
              "      <td>27.0</td>\n",
              "      <td>4.98</td>\n",
              "    </tr>\n",
              "    <tr>\n",
              "      <th>1524</th>\n",
              "      <td>世田谷区</td>\n",
              "      <td>桜新町</td>\n",
              "      <td>桜新町１丁目</td>\n",
              "      <td>27.0</td>\n",
              "      <td>4.98</td>\n",
              "    </tr>\n",
              "  </tbody>\n",
              "</table>\n",
              "</div>\n",
              "      <button class=\"colab-df-convert\" onclick=\"convertToInteractive('df-df5ad92b-3eac-4ddc-9bbb-7613e33ee5f0')\"\n",
              "              title=\"Convert this dataframe to an interactive table.\"\n",
              "              style=\"display:none;\">\n",
              "        \n",
              "  <svg xmlns=\"http://www.w3.org/2000/svg\" height=\"24px\"viewBox=\"0 0 24 24\"\n",
              "       width=\"24px\">\n",
              "    <path d=\"M0 0h24v24H0V0z\" fill=\"none\"/>\n",
              "    <path d=\"M18.56 5.44l.94 2.06.94-2.06 2.06-.94-2.06-.94-.94-2.06-.94 2.06-2.06.94zm-11 1L8.5 8.5l.94-2.06 2.06-.94-2.06-.94L8.5 2.5l-.94 2.06-2.06.94zm10 10l.94 2.06.94-2.06 2.06-.94-2.06-.94-.94-2.06-.94 2.06-2.06.94z\"/><path d=\"M17.41 7.96l-1.37-1.37c-.4-.4-.92-.59-1.43-.59-.52 0-1.04.2-1.43.59L10.3 9.45l-7.72 7.72c-.78.78-.78 2.05 0 2.83L4 21.41c.39.39.9.59 1.41.59.51 0 1.02-.2 1.41-.59l7.78-7.78 2.81-2.81c.8-.78.8-2.07 0-2.86zM5.41 20L4 18.59l7.72-7.72 1.47 1.35L5.41 20z\"/>\n",
              "  </svg>\n",
              "      </button>\n",
              "      \n",
              "  <style>\n",
              "    .colab-df-container {\n",
              "      display:flex;\n",
              "      flex-wrap:wrap;\n",
              "      gap: 12px;\n",
              "    }\n",
              "\n",
              "    .colab-df-convert {\n",
              "      background-color: #E8F0FE;\n",
              "      border: none;\n",
              "      border-radius: 50%;\n",
              "      cursor: pointer;\n",
              "      display: none;\n",
              "      fill: #1967D2;\n",
              "      height: 32px;\n",
              "      padding: 0 0 0 0;\n",
              "      width: 32px;\n",
              "    }\n",
              "\n",
              "    .colab-df-convert:hover {\n",
              "      background-color: #E2EBFA;\n",
              "      box-shadow: 0px 1px 2px rgba(60, 64, 67, 0.3), 0px 1px 3px 1px rgba(60, 64, 67, 0.15);\n",
              "      fill: #174EA6;\n",
              "    }\n",
              "\n",
              "    [theme=dark] .colab-df-convert {\n",
              "      background-color: #3B4455;\n",
              "      fill: #D2E3FC;\n",
              "    }\n",
              "\n",
              "    [theme=dark] .colab-df-convert:hover {\n",
              "      background-color: #434B5C;\n",
              "      box-shadow: 0px 1px 3px 1px rgba(0, 0, 0, 0.15);\n",
              "      filter: drop-shadow(0px 1px 2px rgba(0, 0, 0, 0.3));\n",
              "      fill: #FFFFFF;\n",
              "    }\n",
              "  </style>\n",
              "\n",
              "      <script>\n",
              "        const buttonEl =\n",
              "          document.querySelector('#df-df5ad92b-3eac-4ddc-9bbb-7613e33ee5f0 button.colab-df-convert');\n",
              "        buttonEl.style.display =\n",
              "          google.colab.kernel.accessAllowed ? 'block' : 'none';\n",
              "\n",
              "        async function convertToInteractive(key) {\n",
              "          const element = document.querySelector('#df-df5ad92b-3eac-4ddc-9bbb-7613e33ee5f0');\n",
              "          const dataTable =\n",
              "            await google.colab.kernel.invokeFunction('convertToInteractive',\n",
              "                                                     [key], {});\n",
              "          if (!dataTable) return;\n",
              "\n",
              "          const docLinkHtml = 'Like what you see? Visit the ' +\n",
              "            '<a target=\"_blank\" href=https://colab.research.google.com/notebooks/data_table.ipynb>data table notebook</a>'\n",
              "            + ' to learn more about interactive tables.';\n",
              "          element.innerHTML = '';\n",
              "          dataTable['output_type'] = 'display_data';\n",
              "          await google.colab.output.renderOutput(dataTable, element);\n",
              "          const docLink = document.createElement('div');\n",
              "          docLink.innerHTML = docLinkHtml;\n",
              "          element.appendChild(docLink);\n",
              "        }\n",
              "      </script>\n",
              "    </div>\n",
              "  </div>\n",
              "  "
            ]
          },
          "metadata": {},
          "execution_count": 142
        }
      ]
    },
    {
      "cell_type": "code",
      "source": [],
      "metadata": {
        "id": "6-XUfIXdtucz"
      },
      "execution_count": 142,
      "outputs": []
    }
  ]
}