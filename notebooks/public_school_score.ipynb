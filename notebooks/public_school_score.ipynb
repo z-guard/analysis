{
  "nbformat": 4,
  "nbformat_minor": 0,
  "metadata": {
    "colab": {
      "provenance": [],
      "authorship_tag": "ABX9TyMWa3KmjbHe4coRubZjVwF0",
      "include_colab_link": true
    },
    "kernelspec": {
      "name": "python3",
      "display_name": "Python 3"
    },
    "language_info": {
      "name": "python"
    }
  },
  "cells": [
    {
      "cell_type": "markdown",
      "metadata": {
        "id": "view-in-github",
        "colab_type": "text"
      },
      "source": [
        "<a href=\"https://colab.research.google.com/github/z-guard/analysis/blob/main/notebooks/public_school_score.ipynb\" target=\"_parent\"><img src=\"https://colab.research.google.com/assets/colab-badge.svg\" alt=\"Open In Colab\"/></a>"
      ]
    },
    {
      "cell_type": "markdown",
      "source": [
        "# 公立学校スコア\n",
        "- input\n",
        "    - public_school_master.csv\n",
        "        - 小学校の位置とレーティング\n",
        "        - 中学校の位置とレーティング\n",
        "        - 区立幼稚園の位置とレーティング\n",
        "    - private_school_master.csv\n",
        "        - 私立幼稚園の位置とレーティング\n",
        "        - 大学の位置\n",
        "        - 学習塾の位置\n",
        "- output\n",
        "    - public_school_score.csv\n",
        "        - 小学校スコア\n",
        "        - 中学校スコア\n",
        "        - 幼稚園スコア\n",
        "        - 大学スコア\n",
        "        - 学習塾スコア"
      ],
      "metadata": {
        "id": "kP0WeYTi3sb3"
      }
    },
    {
      "cell_type": "code",
      "source": [
        "!pip install -q japanize-matplotlib"
      ],
      "metadata": {
        "id": "E9YHHF2F37-N"
      },
      "execution_count": 70,
      "outputs": []
    },
    {
      "cell_type": "code",
      "execution_count": 71,
      "metadata": {
        "colab": {
          "base_uri": "https://localhost:8080/"
        },
        "id": "w4KT6mck3nOo",
        "outputId": "e3352467-a490-4230-c36e-342248a1c8a6"
      },
      "outputs": [
        {
          "output_type": "stream",
          "name": "stdout",
          "text": [
            "Drive already mounted at /content/drive; to attempt to forcibly remount, call drive.mount(\"/content/drive\", force_remount=True).\n"
          ]
        }
      ],
      "source": [
        "from google.colab import drive\n",
        "drive.mount('/content/drive')"
      ]
    },
    {
      "cell_type": "code",
      "source": [
        "DIR_NAME = '/content/drive/MyDrive/z-gard/data'"
      ],
      "metadata": {
        "id": "ScoGtQsV3sA0"
      },
      "execution_count": 72,
      "outputs": []
    },
    {
      "cell_type": "code",
      "source": [
        "import os\n",
        "import requests\n",
        "import json\n",
        "import pandas as pd\n",
        "from urllib.parse import urlparse, quote\n",
        "import io\n",
        "import math\n",
        "import numpy as np\n",
        "import matplotlib.pyplot as plt\n",
        "import japanize_matplotlib\n",
        "import seaborn as sns\n",
        "\n",
        "pd.set_option('display.max_columns', 50)\n",
        "pd.set_option('display.max_rows', 100)"
      ],
      "metadata": {
        "id": "1ef9tlAW3zxE"
      },
      "execution_count": 73,
      "outputs": []
    },
    {
      "cell_type": "code",
      "source": [
        "output_score_file = 'public_school_score.csv'"
      ],
      "metadata": {
        "id": "yRV4HuouJ1TX"
      },
      "execution_count": 74,
      "outputs": []
    },
    {
      "cell_type": "markdown",
      "source": [
        "### 地理マスタ"
      ],
      "metadata": {
        "id": "XRO-NFWf4Gnn"
      }
    },
    {
      "cell_type": "code",
      "source": [
        "df_geo_master = pd.read_csv(os.path.join(DIR_NAME, 'geocoding.csv'))[['town_id', '市区町村名', '町名', '町丁目', '緯度', '経度']]\n",
        "print(df_geo_master.shape)\n",
        "geo_master_len = len(df_geo_master)"
      ],
      "metadata": {
        "colab": {
          "base_uri": "https://localhost:8080/"
        },
        "id": "hD-7wSVN4BH0",
        "outputId": "821539c5-166d-4ee3-efb8-dfa4ea7e1727"
      },
      "execution_count": 75,
      "outputs": [
        {
          "output_type": "stream",
          "name": "stdout",
          "text": [
            "(3145, 6)\n"
          ]
        }
      ]
    },
    {
      "cell_type": "markdown",
      "source": [
        "### 学校"
      ],
      "metadata": {
        "id": "2-pBdXmw4Ktq"
      }
    },
    {
      "cell_type": "code",
      "source": [
        "df_school_master = pd.read_csv(os.path.join(DIR_NAME, 'public_school_master.csv'))[['学校番号', '施設分類', '市区町村名', '名称', '緯度', '経度', 'rating']]\n",
        "df_school_master['学校番号'] = df_school_master['学校番号'].astype(str)\n",
        "print(df_school_master.shape)"
      ],
      "metadata": {
        "colab": {
          "base_uri": "https://localhost:8080/"
        },
        "id": "bZ7JBlaa4JtN",
        "outputId": "a6a60c66-35ab-4d93-9be0-d98061ad6d1b"
      },
      "execution_count": 76,
      "outputs": [
        {
          "output_type": "stream",
          "name": "stdout",
          "text": [
            "(1363, 7)\n"
          ]
        }
      ]
    },
    {
      "cell_type": "code",
      "source": [
        "# レーティングが0.0 の学校は、NaNにする\n",
        "df_school_master.loc[df_school_master['rating'] == 0, 'rating'] = np.NaN\n",
        "print(len(df_school_master[df_school_master['rating'].isna()]))"
      ],
      "metadata": {
        "id": "QDXw302IR-4K",
        "outputId": "6e5c6258-b123-48ea-c751-c3e689ccbd17",
        "colab": {
          "base_uri": "https://localhost:8080/"
        }
      },
      "execution_count": 77,
      "outputs": [
        {
          "output_type": "stream",
          "name": "stdout",
          "text": [
            "83\n"
          ]
        }
      ]
    },
    {
      "cell_type": "code",
      "source": [
        "df_school_master['施設分類'].value_counts()"
      ],
      "metadata": {
        "id": "yF_1xSiBHjAh",
        "outputId": "86235b0b-038a-40aa-9393-53d61fbc2b1d",
        "colab": {
          "base_uri": "https://localhost:8080/"
        }
      },
      "execution_count": 78,
      "outputs": [
        {
          "output_type": "execute_result",
          "data": {
            "text/plain": [
              "小学校    822\n",
              "中学校    377\n",
              "幼稚園    164\n",
              "Name: 施設分類, dtype: int64"
            ]
          },
          "metadata": {},
          "execution_count": 78
        }
      ]
    },
    {
      "cell_type": "code",
      "source": [
        "df_school_master.head()"
      ],
      "metadata": {
        "colab": {
          "base_uri": "https://localhost:8080/",
          "height": 206
        },
        "id": "4l7rTSqAT231",
        "outputId": "ab0af1e4-5858-4781-a5ff-4ffffaaaa71c"
      },
      "execution_count": 79,
      "outputs": [
        {
          "output_type": "execute_result",
          "data": {
            "text/plain": [
              "     学校番号 施設分類 市区町村名            名称         緯度          経度  rating\n",
              "0  101150  幼稚園  千代田区    千代田区立麹町幼稚園  35.685691  139.740164     NaN\n",
              "1  101160  幼稚園  千代田区    千代田区立九段幼稚園  35.690666  139.741195     NaN\n",
              "2  101170  幼稚園  千代田区    千代田区立番町幼稚園  35.687629  139.733426     5.0\n",
              "3  101190  幼稚園  千代田区  千代田区立お茶の水幼稚園  35.697445  139.748569     4.0\n",
              "4  101200  幼稚園  千代田区   千代田区立千代田幼稚園  35.693169  139.768274     NaN"
            ],
            "text/html": [
              "\n",
              "  <div id=\"df-3d30be64-f0c7-434e-ba1c-18a346c28df3\">\n",
              "    <div class=\"colab-df-container\">\n",
              "      <div>\n",
              "<style scoped>\n",
              "    .dataframe tbody tr th:only-of-type {\n",
              "        vertical-align: middle;\n",
              "    }\n",
              "\n",
              "    .dataframe tbody tr th {\n",
              "        vertical-align: top;\n",
              "    }\n",
              "\n",
              "    .dataframe thead th {\n",
              "        text-align: right;\n",
              "    }\n",
              "</style>\n",
              "<table border=\"1\" class=\"dataframe\">\n",
              "  <thead>\n",
              "    <tr style=\"text-align: right;\">\n",
              "      <th></th>\n",
              "      <th>学校番号</th>\n",
              "      <th>施設分類</th>\n",
              "      <th>市区町村名</th>\n",
              "      <th>名称</th>\n",
              "      <th>緯度</th>\n",
              "      <th>経度</th>\n",
              "      <th>rating</th>\n",
              "    </tr>\n",
              "  </thead>\n",
              "  <tbody>\n",
              "    <tr>\n",
              "      <th>0</th>\n",
              "      <td>101150</td>\n",
              "      <td>幼稚園</td>\n",
              "      <td>千代田区</td>\n",
              "      <td>千代田区立麹町幼稚園</td>\n",
              "      <td>35.685691</td>\n",
              "      <td>139.740164</td>\n",
              "      <td>NaN</td>\n",
              "    </tr>\n",
              "    <tr>\n",
              "      <th>1</th>\n",
              "      <td>101160</td>\n",
              "      <td>幼稚園</td>\n",
              "      <td>千代田区</td>\n",
              "      <td>千代田区立九段幼稚園</td>\n",
              "      <td>35.690666</td>\n",
              "      <td>139.741195</td>\n",
              "      <td>NaN</td>\n",
              "    </tr>\n",
              "    <tr>\n",
              "      <th>2</th>\n",
              "      <td>101170</td>\n",
              "      <td>幼稚園</td>\n",
              "      <td>千代田区</td>\n",
              "      <td>千代田区立番町幼稚園</td>\n",
              "      <td>35.687629</td>\n",
              "      <td>139.733426</td>\n",
              "      <td>5.0</td>\n",
              "    </tr>\n",
              "    <tr>\n",
              "      <th>3</th>\n",
              "      <td>101190</td>\n",
              "      <td>幼稚園</td>\n",
              "      <td>千代田区</td>\n",
              "      <td>千代田区立お茶の水幼稚園</td>\n",
              "      <td>35.697445</td>\n",
              "      <td>139.748569</td>\n",
              "      <td>4.0</td>\n",
              "    </tr>\n",
              "    <tr>\n",
              "      <th>4</th>\n",
              "      <td>101200</td>\n",
              "      <td>幼稚園</td>\n",
              "      <td>千代田区</td>\n",
              "      <td>千代田区立千代田幼稚園</td>\n",
              "      <td>35.693169</td>\n",
              "      <td>139.768274</td>\n",
              "      <td>NaN</td>\n",
              "    </tr>\n",
              "  </tbody>\n",
              "</table>\n",
              "</div>\n",
              "      <button class=\"colab-df-convert\" onclick=\"convertToInteractive('df-3d30be64-f0c7-434e-ba1c-18a346c28df3')\"\n",
              "              title=\"Convert this dataframe to an interactive table.\"\n",
              "              style=\"display:none;\">\n",
              "        \n",
              "  <svg xmlns=\"http://www.w3.org/2000/svg\" height=\"24px\"viewBox=\"0 0 24 24\"\n",
              "       width=\"24px\">\n",
              "    <path d=\"M0 0h24v24H0V0z\" fill=\"none\"/>\n",
              "    <path d=\"M18.56 5.44l.94 2.06.94-2.06 2.06-.94-2.06-.94-.94-2.06-.94 2.06-2.06.94zm-11 1L8.5 8.5l.94-2.06 2.06-.94-2.06-.94L8.5 2.5l-.94 2.06-2.06.94zm10 10l.94 2.06.94-2.06 2.06-.94-2.06-.94-.94-2.06-.94 2.06-2.06.94z\"/><path d=\"M17.41 7.96l-1.37-1.37c-.4-.4-.92-.59-1.43-.59-.52 0-1.04.2-1.43.59L10.3 9.45l-7.72 7.72c-.78.78-.78 2.05 0 2.83L4 21.41c.39.39.9.59 1.41.59.51 0 1.02-.2 1.41-.59l7.78-7.78 2.81-2.81c.8-.78.8-2.07 0-2.86zM5.41 20L4 18.59l7.72-7.72 1.47 1.35L5.41 20z\"/>\n",
              "  </svg>\n",
              "      </button>\n",
              "      \n",
              "  <style>\n",
              "    .colab-df-container {\n",
              "      display:flex;\n",
              "      flex-wrap:wrap;\n",
              "      gap: 12px;\n",
              "    }\n",
              "\n",
              "    .colab-df-convert {\n",
              "      background-color: #E8F0FE;\n",
              "      border: none;\n",
              "      border-radius: 50%;\n",
              "      cursor: pointer;\n",
              "      display: none;\n",
              "      fill: #1967D2;\n",
              "      height: 32px;\n",
              "      padding: 0 0 0 0;\n",
              "      width: 32px;\n",
              "    }\n",
              "\n",
              "    .colab-df-convert:hover {\n",
              "      background-color: #E2EBFA;\n",
              "      box-shadow: 0px 1px 2px rgba(60, 64, 67, 0.3), 0px 1px 3px 1px rgba(60, 64, 67, 0.15);\n",
              "      fill: #174EA6;\n",
              "    }\n",
              "\n",
              "    [theme=dark] .colab-df-convert {\n",
              "      background-color: #3B4455;\n",
              "      fill: #D2E3FC;\n",
              "    }\n",
              "\n",
              "    [theme=dark] .colab-df-convert:hover {\n",
              "      background-color: #434B5C;\n",
              "      box-shadow: 0px 1px 3px 1px rgba(0, 0, 0, 0.15);\n",
              "      filter: drop-shadow(0px 1px 2px rgba(0, 0, 0, 0.3));\n",
              "      fill: #FFFFFF;\n",
              "    }\n",
              "  </style>\n",
              "\n",
              "      <script>\n",
              "        const buttonEl =\n",
              "          document.querySelector('#df-3d30be64-f0c7-434e-ba1c-18a346c28df3 button.colab-df-convert');\n",
              "        buttonEl.style.display =\n",
              "          google.colab.kernel.accessAllowed ? 'block' : 'none';\n",
              "\n",
              "        async function convertToInteractive(key) {\n",
              "          const element = document.querySelector('#df-3d30be64-f0c7-434e-ba1c-18a346c28df3');\n",
              "          const dataTable =\n",
              "            await google.colab.kernel.invokeFunction('convertToInteractive',\n",
              "                                                     [key], {});\n",
              "          if (!dataTable) return;\n",
              "\n",
              "          const docLinkHtml = 'Like what you see? Visit the ' +\n",
              "            '<a target=\"_blank\" href=https://colab.research.google.com/notebooks/data_table.ipynb>data table notebook</a>'\n",
              "            + ' to learn more about interactive tables.';\n",
              "          element.innerHTML = '';\n",
              "          dataTable['output_type'] = 'display_data';\n",
              "          await google.colab.output.renderOutput(dataTable, element);\n",
              "          const docLink = document.createElement('div');\n",
              "          docLink.innerHTML = docLinkHtml;\n",
              "          element.appendChild(docLink);\n",
              "        }\n",
              "      </script>\n",
              "    </div>\n",
              "  </div>\n",
              "  "
            ]
          },
          "metadata": {},
          "execution_count": 79
        }
      ]
    },
    {
      "cell_type": "markdown",
      "source": [
        "### 学習塾"
      ],
      "metadata": {
        "id": "wJO_SjdQ0xLQ"
      }
    },
    {
      "cell_type": "code",
      "source": [
        "df_private_master = pd.read_csv(os.path.join(DIR_NAME, 'private_school_master.csv'))[['名称', '緯度', '経度', '施設分類', 'rating']]\n",
        "print(df_private_master.shape)"
      ],
      "metadata": {
        "id": "qJJWXsSdqZ8g",
        "outputId": "e5ae8d0a-d849-4007-ae2f-fba5fcd5542a",
        "colab": {
          "base_uri": "https://localhost:8080/"
        }
      },
      "execution_count": 80,
      "outputs": [
        {
          "output_type": "stream",
          "name": "stdout",
          "text": [
            "(7307, 5)\n"
          ]
        }
      ]
    },
    {
      "cell_type": "code",
      "source": [
        "df_private_master['施設分類'].value_counts()"
      ],
      "metadata": {
        "id": "haQLDI-KqpMm",
        "outputId": "6a5a309a-e681-45c5-aef0-fd71e5307048",
        "colab": {
          "base_uri": "https://localhost:8080/"
        }
      },
      "execution_count": 81,
      "outputs": [
        {
          "output_type": "execute_result",
          "data": {
            "text/plain": [
              "学習塾        2306\n",
              "保育園        2093\n",
              "小学校         694\n",
              "幼稚園         449\n",
              "音楽教室        426\n",
              "中学校         319\n",
              "幼児教室        286\n",
              "高等学校        212\n",
              "大学          177\n",
              "英語教室        111\n",
              "プログラミング      91\n",
              "学童保育         50\n",
              "専門学校         39\n",
              "囲碁将棋         31\n",
              "ダンス          23\n",
              "Name: 施設分類, dtype: int64"
            ]
          },
          "metadata": {},
          "execution_count": 81
        }
      ]
    },
    {
      "cell_type": "code",
      "source": [
        "df_university = df_private_master[df_private_master['施設分類'] == '大学'].reset_index(drop=True)\n",
        "print(df_university.shape)"
      ],
      "metadata": {
        "id": "rv6K77RwECCL",
        "outputId": "f7efbf1f-2ca5-4b6f-fccf-1de2e47e4af8",
        "colab": {
          "base_uri": "https://localhost:8080/"
        }
      },
      "execution_count": 82,
      "outputs": [
        {
          "output_type": "stream",
          "name": "stdout",
          "text": [
            "(177, 5)\n"
          ]
        }
      ]
    },
    {
      "cell_type": "code",
      "source": [
        "df_cram_school = df_private_master[df_private_master['施設分類'] == '学習塾'].reset_index(drop=True)\n",
        "print(df_cram_school.shape)"
      ],
      "metadata": {
        "id": "0eAl5dCFjSFz",
        "outputId": "7f51ee71-438a-4f4a-dc07-5171b0d675cb",
        "colab": {
          "base_uri": "https://localhost:8080/"
        }
      },
      "execution_count": 83,
      "outputs": [
        {
          "output_type": "stream",
          "name": "stdout",
          "text": [
            "(2306, 5)\n"
          ]
        }
      ]
    },
    {
      "cell_type": "code",
      "source": [
        "df_kindergarten = df_private_master[df_private_master['施設分類'] == '幼稚園'].reset_index(drop=True).reset_index()\n",
        "print(df_kindergarten.shape)"
      ],
      "metadata": {
        "id": "4-eMvLZDHHxC",
        "outputId": "a81acbd3-5fc4-4adc-85f2-f14655a77390",
        "colab": {
          "base_uri": "https://localhost:8080/"
        }
      },
      "execution_count": 84,
      "outputs": [
        {
          "output_type": "stream",
          "name": "stdout",
          "text": [
            "(449, 6)\n"
          ]
        }
      ]
    },
    {
      "cell_type": "code",
      "source": [
        "df_kindergarten['学校番号'] = df_kindergarten['index'].apply(lambda x: f'K{x:05}')\n",
        "df_kindergarten['区立'] = df_kindergarten['名称'].str.extract('(.+)区立', expand=False)\n",
        "\n",
        "df_kindergarten = df_kindergarten[df_kindergarten['区立'].isna()].drop(columns=['index', '区立'])\n",
        "print(df_kindergarten.shape)"
      ],
      "metadata": {
        "id": "QmaBqbxKIN2h",
        "outputId": "7b64c5d3-e60e-4164-f5be-803ef0f266b5",
        "colab": {
          "base_uri": "https://localhost:8080/"
        }
      },
      "execution_count": 85,
      "outputs": [
        {
          "output_type": "stream",
          "name": "stdout",
          "text": [
            "(396, 6)\n"
          ]
        }
      ]
    },
    {
      "cell_type": "code",
      "source": [
        "df_kindergarten.head()"
      ],
      "metadata": {
        "id": "3B1uwSqkN5H_",
        "outputId": "bd2509f2-4be4-4fc4-946b-87fd99d529c7",
        "colab": {
          "base_uri": "https://localhost:8080/",
          "height": 206
        }
      },
      "execution_count": 86,
      "outputs": [
        {
          "output_type": "execute_result",
          "data": {
            "text/plain": [
              "         名称         緯度          経度 施設分類  rating    学校番号\n",
              "0  玉川幼稚園 別館  35.624935  139.614287  幼稚園     NaN  K00000\n",
              "1     新井幼稚園  35.777931  139.778675  幼稚園     NaN  K00001\n",
              "2   ちえようちえん  35.791165  139.791125  幼稚園     NaN  K00002\n",
              "3    ゆたか幼稚園  35.800628  139.866879  幼稚園     4.5  K00003\n",
              "4     栄光幼稚園  35.789507  139.883900  幼稚園     4.0  K00004"
            ],
            "text/html": [
              "\n",
              "  <div id=\"df-6ebcb547-9660-4e2c-8c28-b6732137703d\">\n",
              "    <div class=\"colab-df-container\">\n",
              "      <div>\n",
              "<style scoped>\n",
              "    .dataframe tbody tr th:only-of-type {\n",
              "        vertical-align: middle;\n",
              "    }\n",
              "\n",
              "    .dataframe tbody tr th {\n",
              "        vertical-align: top;\n",
              "    }\n",
              "\n",
              "    .dataframe thead th {\n",
              "        text-align: right;\n",
              "    }\n",
              "</style>\n",
              "<table border=\"1\" class=\"dataframe\">\n",
              "  <thead>\n",
              "    <tr style=\"text-align: right;\">\n",
              "      <th></th>\n",
              "      <th>名称</th>\n",
              "      <th>緯度</th>\n",
              "      <th>経度</th>\n",
              "      <th>施設分類</th>\n",
              "      <th>rating</th>\n",
              "      <th>学校番号</th>\n",
              "    </tr>\n",
              "  </thead>\n",
              "  <tbody>\n",
              "    <tr>\n",
              "      <th>0</th>\n",
              "      <td>玉川幼稚園 別館</td>\n",
              "      <td>35.624935</td>\n",
              "      <td>139.614287</td>\n",
              "      <td>幼稚園</td>\n",
              "      <td>NaN</td>\n",
              "      <td>K00000</td>\n",
              "    </tr>\n",
              "    <tr>\n",
              "      <th>1</th>\n",
              "      <td>新井幼稚園</td>\n",
              "      <td>35.777931</td>\n",
              "      <td>139.778675</td>\n",
              "      <td>幼稚園</td>\n",
              "      <td>NaN</td>\n",
              "      <td>K00001</td>\n",
              "    </tr>\n",
              "    <tr>\n",
              "      <th>2</th>\n",
              "      <td>ちえようちえん</td>\n",
              "      <td>35.791165</td>\n",
              "      <td>139.791125</td>\n",
              "      <td>幼稚園</td>\n",
              "      <td>NaN</td>\n",
              "      <td>K00002</td>\n",
              "    </tr>\n",
              "    <tr>\n",
              "      <th>3</th>\n",
              "      <td>ゆたか幼稚園</td>\n",
              "      <td>35.800628</td>\n",
              "      <td>139.866879</td>\n",
              "      <td>幼稚園</td>\n",
              "      <td>4.5</td>\n",
              "      <td>K00003</td>\n",
              "    </tr>\n",
              "    <tr>\n",
              "      <th>4</th>\n",
              "      <td>栄光幼稚園</td>\n",
              "      <td>35.789507</td>\n",
              "      <td>139.883900</td>\n",
              "      <td>幼稚園</td>\n",
              "      <td>4.0</td>\n",
              "      <td>K00004</td>\n",
              "    </tr>\n",
              "  </tbody>\n",
              "</table>\n",
              "</div>\n",
              "      <button class=\"colab-df-convert\" onclick=\"convertToInteractive('df-6ebcb547-9660-4e2c-8c28-b6732137703d')\"\n",
              "              title=\"Convert this dataframe to an interactive table.\"\n",
              "              style=\"display:none;\">\n",
              "        \n",
              "  <svg xmlns=\"http://www.w3.org/2000/svg\" height=\"24px\"viewBox=\"0 0 24 24\"\n",
              "       width=\"24px\">\n",
              "    <path d=\"M0 0h24v24H0V0z\" fill=\"none\"/>\n",
              "    <path d=\"M18.56 5.44l.94 2.06.94-2.06 2.06-.94-2.06-.94-.94-2.06-.94 2.06-2.06.94zm-11 1L8.5 8.5l.94-2.06 2.06-.94-2.06-.94L8.5 2.5l-.94 2.06-2.06.94zm10 10l.94 2.06.94-2.06 2.06-.94-2.06-.94-.94-2.06-.94 2.06-2.06.94z\"/><path d=\"M17.41 7.96l-1.37-1.37c-.4-.4-.92-.59-1.43-.59-.52 0-1.04.2-1.43.59L10.3 9.45l-7.72 7.72c-.78.78-.78 2.05 0 2.83L4 21.41c.39.39.9.59 1.41.59.51 0 1.02-.2 1.41-.59l7.78-7.78 2.81-2.81c.8-.78.8-2.07 0-2.86zM5.41 20L4 18.59l7.72-7.72 1.47 1.35L5.41 20z\"/>\n",
              "  </svg>\n",
              "      </button>\n",
              "      \n",
              "  <style>\n",
              "    .colab-df-container {\n",
              "      display:flex;\n",
              "      flex-wrap:wrap;\n",
              "      gap: 12px;\n",
              "    }\n",
              "\n",
              "    .colab-df-convert {\n",
              "      background-color: #E8F0FE;\n",
              "      border: none;\n",
              "      border-radius: 50%;\n",
              "      cursor: pointer;\n",
              "      display: none;\n",
              "      fill: #1967D2;\n",
              "      height: 32px;\n",
              "      padding: 0 0 0 0;\n",
              "      width: 32px;\n",
              "    }\n",
              "\n",
              "    .colab-df-convert:hover {\n",
              "      background-color: #E2EBFA;\n",
              "      box-shadow: 0px 1px 2px rgba(60, 64, 67, 0.3), 0px 1px 3px 1px rgba(60, 64, 67, 0.15);\n",
              "      fill: #174EA6;\n",
              "    }\n",
              "\n",
              "    [theme=dark] .colab-df-convert {\n",
              "      background-color: #3B4455;\n",
              "      fill: #D2E3FC;\n",
              "    }\n",
              "\n",
              "    [theme=dark] .colab-df-convert:hover {\n",
              "      background-color: #434B5C;\n",
              "      box-shadow: 0px 1px 3px 1px rgba(0, 0, 0, 0.15);\n",
              "      filter: drop-shadow(0px 1px 2px rgba(0, 0, 0, 0.3));\n",
              "      fill: #FFFFFF;\n",
              "    }\n",
              "  </style>\n",
              "\n",
              "      <script>\n",
              "        const buttonEl =\n",
              "          document.querySelector('#df-6ebcb547-9660-4e2c-8c28-b6732137703d button.colab-df-convert');\n",
              "        buttonEl.style.display =\n",
              "          google.colab.kernel.accessAllowed ? 'block' : 'none';\n",
              "\n",
              "        async function convertToInteractive(key) {\n",
              "          const element = document.querySelector('#df-6ebcb547-9660-4e2c-8c28-b6732137703d');\n",
              "          const dataTable =\n",
              "            await google.colab.kernel.invokeFunction('convertToInteractive',\n",
              "                                                     [key], {});\n",
              "          if (!dataTable) return;\n",
              "\n",
              "          const docLinkHtml = 'Like what you see? Visit the ' +\n",
              "            '<a target=\"_blank\" href=https://colab.research.google.com/notebooks/data_table.ipynb>data table notebook</a>'\n",
              "            + ' to learn more about interactive tables.';\n",
              "          element.innerHTML = '';\n",
              "          dataTable['output_type'] = 'display_data';\n",
              "          await google.colab.output.renderOutput(dataTable, element);\n",
              "          const docLink = document.createElement('div');\n",
              "          docLink.innerHTML = docLinkHtml;\n",
              "          element.appendChild(docLink);\n",
              "        }\n",
              "      </script>\n",
              "    </div>\n",
              "  </div>\n",
              "  "
            ]
          },
          "metadata": {},
          "execution_count": 86
        }
      ]
    },
    {
      "cell_type": "code",
      "source": [
        "df_school_master = pd.concat([\n",
        "    df_school_master,\n",
        "    df_cram_school,\n",
        "    df_kindergarten,\n",
        "    df_university\n",
        "]).reset_index(drop=True)\n",
        "print(df_school_master.shape)"
      ],
      "metadata": {
        "id": "lepqsh1X0jck",
        "outputId": "c05a1e92-6ff8-42c3-f988-8b803a4a3d4e",
        "colab": {
          "base_uri": "https://localhost:8080/"
        }
      },
      "execution_count": 87,
      "outputs": [
        {
          "output_type": "stream",
          "name": "stdout",
          "text": [
            "(4242, 7)\n"
          ]
        }
      ]
    },
    {
      "cell_type": "code",
      "source": [
        "# 距離計算\n",
        "def get_distance(lat1, lon1, lat2, lon2):\n",
        "    _lat1 = lat1 * math.pi / 180\n",
        "    _lon1 = lon1 * math.pi / 180\n",
        "    _lat2 = lat2 * math.pi / 180\n",
        "    _lon2 = lon2 * math.pi / 180\n",
        "    _tmp = math.cos(_lat1) * math.cos(_lat2) * math.cos(_lon2 - _lon1) + math.sin(_lat1) * math.sin(_lat2)\n",
        "    _tmp = 1 if _tmp > 1 else -1 if _tmp < -1 else _tmp\n",
        "    return 6371 * math.acos(_tmp)\n",
        "\n",
        "# 最寄り施設までの距離\n",
        "def get_value_of_nearest_facility(df_master, df_facility, category, method='min', param=3):\n",
        "    _df_cat = df_facility[df_facility['施設分類'] == category].copy()\n",
        "    cat_values = []\n",
        "    for i, (lat, lon) in enumerate(zip(df_master['緯度'].values, df_master['経度'].values)):\n",
        "        dist = _df_cat[\n",
        "            ((_df_cat['緯度'] - lat).abs() < 0.04) &    # 約4km以内\n",
        "            ((_df_cat['経度'] - lon).abs() < 0.04)      # 約4km以内\n",
        "        ].apply(lambda x: get_distance(x['緯度'], x['経度'], lat, lon), axis=1)\n",
        "        val = np.NaN\n",
        "        if len(dist) > 0:\n",
        "            if method == 'min':\n",
        "                # 最小の距離\n",
        "                val = dist.min()\n",
        "            elif method == 'count':\n",
        "                # {param}km以内の施設の数をカウント\n",
        "                val = len(dist[dist <= param])\n",
        "            elif method == 'mean':\n",
        "                # 近い{param}件の距離の平均\n",
        "                val = dist.sort_values()[:param].mean()\n",
        "        else:\n",
        "            print(f'{category} not found {i}')\n",
        "        cat_values.append(val)\n",
        "    return cat_values\n",
        "\n",
        "# 最寄り施設までの距離\n",
        "def get_value_of_nearest_facility_2(df_master, df_facility, category, method='min', param=3):\n",
        "    _df_cat = df_facility[df_facility['施設分類'] == category].reset_index(drop=True)\n",
        "    cat_values = []\n",
        "    for i, row in df_master.iterrows():\n",
        "        dist = _df_cat.apply(lambda x: get_distance(x['緯度'], x['経度'], row['緯度'], row['経度']), axis=1)\n",
        "        val = None\n",
        "        if method == 'min_param':\n",
        "            # 最小の距離の時の他のパラメータを返す\n",
        "            min_idx = dist.idxmin()\n",
        "            if np.isnan(min_idx):\n",
        "                val = np.NaN\n",
        "            else:\n",
        "                val = _df_cat.iloc[min_idx][param]\n",
        "        cat_values.append(val)\n",
        "    return cat_values"
      ],
      "metadata": {
        "id": "_zuCoLhg48ZN"
      },
      "execution_count": 88,
      "outputs": []
    },
    {
      "cell_type": "markdown",
      "source": [
        "### スコア"
      ],
      "metadata": {
        "id": "IILAQB3vA02_"
      }
    },
    {
      "cell_type": "code",
      "source": [
        "school_types = ['小学校', '中学校', '幼稚園']"
      ],
      "metadata": {
        "id": "f9fC4DEc6_NL"
      },
      "execution_count": 89,
      "outputs": []
    },
    {
      "cell_type": "code",
      "source": [
        "%%time\n",
        "for school in school_types:\n",
        "    # 一番近い施設の距離\n",
        "    df_geo_master[f'{school}(最近傍距離)'] = get_value_of_nearest_facility(df_geo_master, df_school_master, school, 'min')\n",
        "    # 最寄りの学校\n",
        "    df_geo_master[f'{school}(学校番号)'] = get_value_of_nearest_facility_2(df_geo_master, df_school_master, school, 'min_param', '学校番号')\n",
        "\n",
        "radius = 1    # 1km以内の数\n",
        "df_geo_master['学習塾(数)'] = get_value_of_nearest_facility(df_geo_master, df_school_master, '学習塾', 'count', radius)\n",
        "df_geo_master['大学(数)'] = get_value_of_nearest_facility(df_geo_master, df_school_master, '大学', 'count', radius)\n",
        "\n",
        "print(df_geo_master.shape)"
      ],
      "metadata": {
        "id": "ByPFzFHP7zpb",
        "outputId": "410d8178-5f2a-400f-8097-7f4100a7b431",
        "colab": {
          "base_uri": "https://localhost:8080/"
        }
      },
      "execution_count": 90,
      "outputs": [
        {
          "output_type": "stream",
          "name": "stdout",
          "text": [
            "小学校 not found 1050\n",
            "小学校 not found 1301\n",
            "小学校 not found 1354\n",
            "小学校 not found 1357\n",
            "小学校 not found 2830\n",
            "中学校 not found 1050\n",
            "中学校 not found 1354\n",
            "中学校 not found 1357\n",
            "中学校 not found 2830\n",
            "幼稚園 not found 1050\n",
            "幼稚園 not found 1301\n",
            "幼稚園 not found 1354\n",
            "幼稚園 not found 1357\n",
            "幼稚園 not found 2830\n",
            "学習塾 not found 1050\n",
            "学習塾 not found 1354\n",
            "学習塾 not found 1357\n",
            "学習塾 not found 2830\n",
            "大学 not found 1050\n",
            "大学 not found 1216\n",
            "大学 not found 1219\n",
            "大学 not found 1221\n",
            "大学 not found 1224\n",
            "大学 not found 1225\n",
            "大学 not found 1354\n",
            "大学 not found 1357\n",
            "大学 not found 2549\n",
            "大学 not found 2555\n",
            "大学 not found 2830\n",
            "大学 not found 3005\n",
            "大学 not found 3011\n",
            "大学 not found 3012\n",
            "大学 not found 3018\n",
            "大学 not found 3067\n",
            "大学 not found 3069\n",
            "大学 not found 3072\n",
            "大学 not found 3073\n",
            "大学 not found 3074\n",
            "大学 not found 3077\n",
            "大学 not found 3078\n",
            "大学 not found 3079\n",
            "大学 not found 3080\n",
            "大学 not found 3081\n",
            "大学 not found 3088\n",
            "(3145, 14)\n",
            "CPU times: user 3min 5s, sys: 1.28 s, total: 3min 6s\n",
            "Wall time: 3min 17s\n"
          ]
        }
      ]
    },
    {
      "cell_type": "code",
      "source": [
        "for school in school_types:\n",
        "    df_geo_master[f'{school}(最近傍距離)'] = df_geo_master[f'{school}(最近傍距離)'].fillna(df_geo_master[f'{school}(最近傍距離)'].max())\n",
        "    df_geo_master[f'{school}(学校番号)'] = df_geo_master[f'{school}(学校番号)'].fillna('None')\n",
        "\n",
        "df_geo_master['学習塾(数)'] = df_geo_master['学習塾(数)'].fillna(0).astype(int)\n",
        "df_geo_master['大学(数)'] = df_geo_master['大学(数)'].fillna(0).astype(int)"
      ],
      "metadata": {
        "id": "HRsHRbpQ66hN"
      },
      "execution_count": 91,
      "outputs": []
    },
    {
      "cell_type": "code",
      "source": [
        "for school in school_types:\n",
        "    df_geo_master = pd.merge(\n",
        "        df_geo_master, \n",
        "        df_school_master[df_school_master['施設分類'] == school][['学校番号', '名称', 'rating']].rename(columns={\n",
        "            '学校番号': f'{school}(学校番号)', \n",
        "            '名称':f'最寄りの{school}', \n",
        "            'rating':f'{school}のレーティング'\n",
        "        }), \n",
        "        on=f'{school}(学校番号)', how='left'\n",
        "    ).drop(columns=[f'{school}(学校番号)'])\n",
        "    print(school, df_geo_master.shape)"
      ],
      "metadata": {
        "id": "AuS-uIqS8IN5",
        "outputId": "3ec2352a-bb8f-44f2-d1b8-78a24f74d553",
        "colab": {
          "base_uri": "https://localhost:8080/"
        }
      },
      "execution_count": 92,
      "outputs": [
        {
          "output_type": "stream",
          "name": "stdout",
          "text": [
            "小学校 (3145, 15)\n",
            "中学校 (3145, 16)\n",
            "幼稚園 (3145, 17)\n"
          ]
        }
      ]
    },
    {
      "cell_type": "code",
      "source": [
        "df_geo_master.head()"
      ],
      "metadata": {
        "id": "v907v_MaGzXl",
        "outputId": "8fcc0ded-47d7-48e7-ee4f-4dcc88e9d359",
        "colab": {
          "base_uri": "https://localhost:8080/",
          "height": 458
        }
      },
      "execution_count": 93,
      "outputs": [
        {
          "output_type": "execute_result",
          "data": {
            "text/plain": [
              "   town_id 市区町村名   町名     町丁目         緯度          経度  小学校(最近傍距離)  中学校(最近傍距離)  \\\n",
              "0   101003  千代田区  丸の内  丸の内１丁目  35.681560  139.767201    0.353926    1.689894   \n",
              "1   101004  千代田区  丸の内  丸の内２丁目  35.680022  139.763447    0.567168    1.628253   \n",
              "2   101005  千代田区  丸の内  丸の内３丁目  35.676952  139.763476    0.550874    1.287908   \n",
              "3   101007  千代田区  大手町  大手町１丁目  35.688069  139.763929    0.594157    0.935392   \n",
              "4   101008  千代田区  大手町  大手町２丁目  35.686301  139.768087    0.295715    1.342216   \n",
              "\n",
              "   幼稚園(最近傍距離)  学習塾(数)  大学(数)    最寄りの小学校  小学校のレーティング       最寄りの中学校  中学校のレーティング  \\\n",
              "0    0.311683      10      1  中央区立城東小学校         4.1  千代田区立神田一橋中学校         3.5   \n",
              "1    0.549758       8      1  中央区立城東小学校         4.1     中央区立銀座中学校         3.5   \n",
              "2    0.550874       9      0  中央区立泰明小学校         3.4     中央区立銀座中学校         3.5   \n",
              "3    0.594010       5      2  中央区立常盤小学校         4.2  千代田区立神田一橋中学校         3.5   \n",
              "4    0.292816       6      2  中央区立常盤小学校         4.2  千代田区立神田一橋中学校         3.5   \n",
              "\n",
              "     最寄りの幼稚園  幼稚園のレーティング  \n",
              "0  中央区立昭和幼稚園         NaN  \n",
              "1  中央区立昭和幼稚園         NaN  \n",
              "2  中央区立泰明幼稚園         3.4  \n",
              "3  中央区立常盤幼稚園         3.0  \n",
              "4  中央区立常盤幼稚園         3.0  "
            ],
            "text/html": [
              "\n",
              "  <div id=\"df-b1b2b78b-8d91-4e05-9f93-519b1c22e167\">\n",
              "    <div class=\"colab-df-container\">\n",
              "      <div>\n",
              "<style scoped>\n",
              "    .dataframe tbody tr th:only-of-type {\n",
              "        vertical-align: middle;\n",
              "    }\n",
              "\n",
              "    .dataframe tbody tr th {\n",
              "        vertical-align: top;\n",
              "    }\n",
              "\n",
              "    .dataframe thead th {\n",
              "        text-align: right;\n",
              "    }\n",
              "</style>\n",
              "<table border=\"1\" class=\"dataframe\">\n",
              "  <thead>\n",
              "    <tr style=\"text-align: right;\">\n",
              "      <th></th>\n",
              "      <th>town_id</th>\n",
              "      <th>市区町村名</th>\n",
              "      <th>町名</th>\n",
              "      <th>町丁目</th>\n",
              "      <th>緯度</th>\n",
              "      <th>経度</th>\n",
              "      <th>小学校(最近傍距離)</th>\n",
              "      <th>中学校(最近傍距離)</th>\n",
              "      <th>幼稚園(最近傍距離)</th>\n",
              "      <th>学習塾(数)</th>\n",
              "      <th>大学(数)</th>\n",
              "      <th>最寄りの小学校</th>\n",
              "      <th>小学校のレーティング</th>\n",
              "      <th>最寄りの中学校</th>\n",
              "      <th>中学校のレーティング</th>\n",
              "      <th>最寄りの幼稚園</th>\n",
              "      <th>幼稚園のレーティング</th>\n",
              "    </tr>\n",
              "  </thead>\n",
              "  <tbody>\n",
              "    <tr>\n",
              "      <th>0</th>\n",
              "      <td>101003</td>\n",
              "      <td>千代田区</td>\n",
              "      <td>丸の内</td>\n",
              "      <td>丸の内１丁目</td>\n",
              "      <td>35.681560</td>\n",
              "      <td>139.767201</td>\n",
              "      <td>0.353926</td>\n",
              "      <td>1.689894</td>\n",
              "      <td>0.311683</td>\n",
              "      <td>10</td>\n",
              "      <td>1</td>\n",
              "      <td>中央区立城東小学校</td>\n",
              "      <td>4.1</td>\n",
              "      <td>千代田区立神田一橋中学校</td>\n",
              "      <td>3.5</td>\n",
              "      <td>中央区立昭和幼稚園</td>\n",
              "      <td>NaN</td>\n",
              "    </tr>\n",
              "    <tr>\n",
              "      <th>1</th>\n",
              "      <td>101004</td>\n",
              "      <td>千代田区</td>\n",
              "      <td>丸の内</td>\n",
              "      <td>丸の内２丁目</td>\n",
              "      <td>35.680022</td>\n",
              "      <td>139.763447</td>\n",
              "      <td>0.567168</td>\n",
              "      <td>1.628253</td>\n",
              "      <td>0.549758</td>\n",
              "      <td>8</td>\n",
              "      <td>1</td>\n",
              "      <td>中央区立城東小学校</td>\n",
              "      <td>4.1</td>\n",
              "      <td>中央区立銀座中学校</td>\n",
              "      <td>3.5</td>\n",
              "      <td>中央区立昭和幼稚園</td>\n",
              "      <td>NaN</td>\n",
              "    </tr>\n",
              "    <tr>\n",
              "      <th>2</th>\n",
              "      <td>101005</td>\n",
              "      <td>千代田区</td>\n",
              "      <td>丸の内</td>\n",
              "      <td>丸の内３丁目</td>\n",
              "      <td>35.676952</td>\n",
              "      <td>139.763476</td>\n",
              "      <td>0.550874</td>\n",
              "      <td>1.287908</td>\n",
              "      <td>0.550874</td>\n",
              "      <td>9</td>\n",
              "      <td>0</td>\n",
              "      <td>中央区立泰明小学校</td>\n",
              "      <td>3.4</td>\n",
              "      <td>中央区立銀座中学校</td>\n",
              "      <td>3.5</td>\n",
              "      <td>中央区立泰明幼稚園</td>\n",
              "      <td>3.4</td>\n",
              "    </tr>\n",
              "    <tr>\n",
              "      <th>3</th>\n",
              "      <td>101007</td>\n",
              "      <td>千代田区</td>\n",
              "      <td>大手町</td>\n",
              "      <td>大手町１丁目</td>\n",
              "      <td>35.688069</td>\n",
              "      <td>139.763929</td>\n",
              "      <td>0.594157</td>\n",
              "      <td>0.935392</td>\n",
              "      <td>0.594010</td>\n",
              "      <td>5</td>\n",
              "      <td>2</td>\n",
              "      <td>中央区立常盤小学校</td>\n",
              "      <td>4.2</td>\n",
              "      <td>千代田区立神田一橋中学校</td>\n",
              "      <td>3.5</td>\n",
              "      <td>中央区立常盤幼稚園</td>\n",
              "      <td>3.0</td>\n",
              "    </tr>\n",
              "    <tr>\n",
              "      <th>4</th>\n",
              "      <td>101008</td>\n",
              "      <td>千代田区</td>\n",
              "      <td>大手町</td>\n",
              "      <td>大手町２丁目</td>\n",
              "      <td>35.686301</td>\n",
              "      <td>139.768087</td>\n",
              "      <td>0.295715</td>\n",
              "      <td>1.342216</td>\n",
              "      <td>0.292816</td>\n",
              "      <td>6</td>\n",
              "      <td>2</td>\n",
              "      <td>中央区立常盤小学校</td>\n",
              "      <td>4.2</td>\n",
              "      <td>千代田区立神田一橋中学校</td>\n",
              "      <td>3.5</td>\n",
              "      <td>中央区立常盤幼稚園</td>\n",
              "      <td>3.0</td>\n",
              "    </tr>\n",
              "  </tbody>\n",
              "</table>\n",
              "</div>\n",
              "      <button class=\"colab-df-convert\" onclick=\"convertToInteractive('df-b1b2b78b-8d91-4e05-9f93-519b1c22e167')\"\n",
              "              title=\"Convert this dataframe to an interactive table.\"\n",
              "              style=\"display:none;\">\n",
              "        \n",
              "  <svg xmlns=\"http://www.w3.org/2000/svg\" height=\"24px\"viewBox=\"0 0 24 24\"\n",
              "       width=\"24px\">\n",
              "    <path d=\"M0 0h24v24H0V0z\" fill=\"none\"/>\n",
              "    <path d=\"M18.56 5.44l.94 2.06.94-2.06 2.06-.94-2.06-.94-.94-2.06-.94 2.06-2.06.94zm-11 1L8.5 8.5l.94-2.06 2.06-.94-2.06-.94L8.5 2.5l-.94 2.06-2.06.94zm10 10l.94 2.06.94-2.06 2.06-.94-2.06-.94-.94-2.06-.94 2.06-2.06.94z\"/><path d=\"M17.41 7.96l-1.37-1.37c-.4-.4-.92-.59-1.43-.59-.52 0-1.04.2-1.43.59L10.3 9.45l-7.72 7.72c-.78.78-.78 2.05 0 2.83L4 21.41c.39.39.9.59 1.41.59.51 0 1.02-.2 1.41-.59l7.78-7.78 2.81-2.81c.8-.78.8-2.07 0-2.86zM5.41 20L4 18.59l7.72-7.72 1.47 1.35L5.41 20z\"/>\n",
              "  </svg>\n",
              "      </button>\n",
              "      \n",
              "  <style>\n",
              "    .colab-df-container {\n",
              "      display:flex;\n",
              "      flex-wrap:wrap;\n",
              "      gap: 12px;\n",
              "    }\n",
              "\n",
              "    .colab-df-convert {\n",
              "      background-color: #E8F0FE;\n",
              "      border: none;\n",
              "      border-radius: 50%;\n",
              "      cursor: pointer;\n",
              "      display: none;\n",
              "      fill: #1967D2;\n",
              "      height: 32px;\n",
              "      padding: 0 0 0 0;\n",
              "      width: 32px;\n",
              "    }\n",
              "\n",
              "    .colab-df-convert:hover {\n",
              "      background-color: #E2EBFA;\n",
              "      box-shadow: 0px 1px 2px rgba(60, 64, 67, 0.3), 0px 1px 3px 1px rgba(60, 64, 67, 0.15);\n",
              "      fill: #174EA6;\n",
              "    }\n",
              "\n",
              "    [theme=dark] .colab-df-convert {\n",
              "      background-color: #3B4455;\n",
              "      fill: #D2E3FC;\n",
              "    }\n",
              "\n",
              "    [theme=dark] .colab-df-convert:hover {\n",
              "      background-color: #434B5C;\n",
              "      box-shadow: 0px 1px 3px 1px rgba(0, 0, 0, 0.15);\n",
              "      filter: drop-shadow(0px 1px 2px rgba(0, 0, 0, 0.3));\n",
              "      fill: #FFFFFF;\n",
              "    }\n",
              "  </style>\n",
              "\n",
              "      <script>\n",
              "        const buttonEl =\n",
              "          document.querySelector('#df-b1b2b78b-8d91-4e05-9f93-519b1c22e167 button.colab-df-convert');\n",
              "        buttonEl.style.display =\n",
              "          google.colab.kernel.accessAllowed ? 'block' : 'none';\n",
              "\n",
              "        async function convertToInteractive(key) {\n",
              "          const element = document.querySelector('#df-b1b2b78b-8d91-4e05-9f93-519b1c22e167');\n",
              "          const dataTable =\n",
              "            await google.colab.kernel.invokeFunction('convertToInteractive',\n",
              "                                                     [key], {});\n",
              "          if (!dataTable) return;\n",
              "\n",
              "          const docLinkHtml = 'Like what you see? Visit the ' +\n",
              "            '<a target=\"_blank\" href=https://colab.research.google.com/notebooks/data_table.ipynb>data table notebook</a>'\n",
              "            + ' to learn more about interactive tables.';\n",
              "          element.innerHTML = '';\n",
              "          dataTable['output_type'] = 'display_data';\n",
              "          await google.colab.output.renderOutput(dataTable, element);\n",
              "          const docLink = document.createElement('div');\n",
              "          docLink.innerHTML = docLinkHtml;\n",
              "          element.appendChild(docLink);\n",
              "        }\n",
              "      </script>\n",
              "    </div>\n",
              "  </div>\n",
              "  "
            ]
          },
          "metadata": {},
          "execution_count": 93
        }
      ]
    },
    {
      "cell_type": "code",
      "source": [
        "# レーティングがNaNの場合は、平均レーティングで埋める\n",
        "for target in school_types:\n",
        "    # 同じ町の平均レーティング\n",
        "    mean_rating = df_geo_master.groupby(['市区町村名', '町名'])[f'{target}のレーティング'].transform('mean').round(2)\n",
        "    df_geo_master[f'{target}のレーティング'] = df_geo_master[f'{target}のレーティング'].fillna(mean_rating)\n",
        "    # それでもNaNの場合は、同じ区の平均レーティング\n",
        "    mean_rating = df_geo_master.groupby(['市区町村名'])[f'{target}のレーティング'].transform('mean').round(2)\n",
        "    df_geo_master[f'{target}のレーティング'] = df_geo_master[f'{target}のレーティング'].fillna(mean_rating)"
      ],
      "metadata": {
        "id": "cDWyUS9AvtsQ"
      },
      "execution_count": 94,
      "outputs": []
    },
    {
      "cell_type": "code",
      "source": [
        "assert len(df_geo_master) == geo_master_len"
      ],
      "metadata": {
        "id": "rAXQrX6FUnNF"
      },
      "execution_count": 95,
      "outputs": []
    },
    {
      "cell_type": "code",
      "source": [
        "print(df_geo_master.shape)\n",
        "df_geo_master.head()"
      ],
      "metadata": {
        "colab": {
          "base_uri": "https://localhost:8080/",
          "height": 476
        },
        "id": "GbdMQ-rc7G9B",
        "outputId": "6c899db6-408b-4ed7-cfd7-d3bac814d2c2"
      },
      "execution_count": 96,
      "outputs": [
        {
          "output_type": "stream",
          "name": "stdout",
          "text": [
            "(3145, 17)\n"
          ]
        },
        {
          "output_type": "execute_result",
          "data": {
            "text/plain": [
              "   town_id 市区町村名   町名     町丁目         緯度          経度  小学校(最近傍距離)  中学校(最近傍距離)  \\\n",
              "0   101003  千代田区  丸の内  丸の内１丁目  35.681560  139.767201    0.353926    1.689894   \n",
              "1   101004  千代田区  丸の内  丸の内２丁目  35.680022  139.763447    0.567168    1.628253   \n",
              "2   101005  千代田区  丸の内  丸の内３丁目  35.676952  139.763476    0.550874    1.287908   \n",
              "3   101007  千代田区  大手町  大手町１丁目  35.688069  139.763929    0.594157    0.935392   \n",
              "4   101008  千代田区  大手町  大手町２丁目  35.686301  139.768087    0.295715    1.342216   \n",
              "\n",
              "   幼稚園(最近傍距離)  学習塾(数)  大学(数)    最寄りの小学校  小学校のレーティング       最寄りの中学校  中学校のレーティング  \\\n",
              "0    0.311683      10      1  中央区立城東小学校         4.1  千代田区立神田一橋中学校         3.5   \n",
              "1    0.549758       8      1  中央区立城東小学校         4.1     中央区立銀座中学校         3.5   \n",
              "2    0.550874       9      0  中央区立泰明小学校         3.4     中央区立銀座中学校         3.5   \n",
              "3    0.594010       5      2  中央区立常盤小学校         4.2  千代田区立神田一橋中学校         3.5   \n",
              "4    0.292816       6      2  中央区立常盤小学校         4.2  千代田区立神田一橋中学校         3.5   \n",
              "\n",
              "     最寄りの幼稚園  幼稚園のレーティング  \n",
              "0  中央区立昭和幼稚園         3.4  \n",
              "1  中央区立昭和幼稚園         3.4  \n",
              "2  中央区立泰明幼稚園         3.4  \n",
              "3  中央区立常盤幼稚園         3.0  \n",
              "4  中央区立常盤幼稚園         3.0  "
            ],
            "text/html": [
              "\n",
              "  <div id=\"df-d08cd1a3-331f-4562-8401-cf4ca2fa1d24\">\n",
              "    <div class=\"colab-df-container\">\n",
              "      <div>\n",
              "<style scoped>\n",
              "    .dataframe tbody tr th:only-of-type {\n",
              "        vertical-align: middle;\n",
              "    }\n",
              "\n",
              "    .dataframe tbody tr th {\n",
              "        vertical-align: top;\n",
              "    }\n",
              "\n",
              "    .dataframe thead th {\n",
              "        text-align: right;\n",
              "    }\n",
              "</style>\n",
              "<table border=\"1\" class=\"dataframe\">\n",
              "  <thead>\n",
              "    <tr style=\"text-align: right;\">\n",
              "      <th></th>\n",
              "      <th>town_id</th>\n",
              "      <th>市区町村名</th>\n",
              "      <th>町名</th>\n",
              "      <th>町丁目</th>\n",
              "      <th>緯度</th>\n",
              "      <th>経度</th>\n",
              "      <th>小学校(最近傍距離)</th>\n",
              "      <th>中学校(最近傍距離)</th>\n",
              "      <th>幼稚園(最近傍距離)</th>\n",
              "      <th>学習塾(数)</th>\n",
              "      <th>大学(数)</th>\n",
              "      <th>最寄りの小学校</th>\n",
              "      <th>小学校のレーティング</th>\n",
              "      <th>最寄りの中学校</th>\n",
              "      <th>中学校のレーティング</th>\n",
              "      <th>最寄りの幼稚園</th>\n",
              "      <th>幼稚園のレーティング</th>\n",
              "    </tr>\n",
              "  </thead>\n",
              "  <tbody>\n",
              "    <tr>\n",
              "      <th>0</th>\n",
              "      <td>101003</td>\n",
              "      <td>千代田区</td>\n",
              "      <td>丸の内</td>\n",
              "      <td>丸の内１丁目</td>\n",
              "      <td>35.681560</td>\n",
              "      <td>139.767201</td>\n",
              "      <td>0.353926</td>\n",
              "      <td>1.689894</td>\n",
              "      <td>0.311683</td>\n",
              "      <td>10</td>\n",
              "      <td>1</td>\n",
              "      <td>中央区立城東小学校</td>\n",
              "      <td>4.1</td>\n",
              "      <td>千代田区立神田一橋中学校</td>\n",
              "      <td>3.5</td>\n",
              "      <td>中央区立昭和幼稚園</td>\n",
              "      <td>3.4</td>\n",
              "    </tr>\n",
              "    <tr>\n",
              "      <th>1</th>\n",
              "      <td>101004</td>\n",
              "      <td>千代田区</td>\n",
              "      <td>丸の内</td>\n",
              "      <td>丸の内２丁目</td>\n",
              "      <td>35.680022</td>\n",
              "      <td>139.763447</td>\n",
              "      <td>0.567168</td>\n",
              "      <td>1.628253</td>\n",
              "      <td>0.549758</td>\n",
              "      <td>8</td>\n",
              "      <td>1</td>\n",
              "      <td>中央区立城東小学校</td>\n",
              "      <td>4.1</td>\n",
              "      <td>中央区立銀座中学校</td>\n",
              "      <td>3.5</td>\n",
              "      <td>中央区立昭和幼稚園</td>\n",
              "      <td>3.4</td>\n",
              "    </tr>\n",
              "    <tr>\n",
              "      <th>2</th>\n",
              "      <td>101005</td>\n",
              "      <td>千代田区</td>\n",
              "      <td>丸の内</td>\n",
              "      <td>丸の内３丁目</td>\n",
              "      <td>35.676952</td>\n",
              "      <td>139.763476</td>\n",
              "      <td>0.550874</td>\n",
              "      <td>1.287908</td>\n",
              "      <td>0.550874</td>\n",
              "      <td>9</td>\n",
              "      <td>0</td>\n",
              "      <td>中央区立泰明小学校</td>\n",
              "      <td>3.4</td>\n",
              "      <td>中央区立銀座中学校</td>\n",
              "      <td>3.5</td>\n",
              "      <td>中央区立泰明幼稚園</td>\n",
              "      <td>3.4</td>\n",
              "    </tr>\n",
              "    <tr>\n",
              "      <th>3</th>\n",
              "      <td>101007</td>\n",
              "      <td>千代田区</td>\n",
              "      <td>大手町</td>\n",
              "      <td>大手町１丁目</td>\n",
              "      <td>35.688069</td>\n",
              "      <td>139.763929</td>\n",
              "      <td>0.594157</td>\n",
              "      <td>0.935392</td>\n",
              "      <td>0.594010</td>\n",
              "      <td>5</td>\n",
              "      <td>2</td>\n",
              "      <td>中央区立常盤小学校</td>\n",
              "      <td>4.2</td>\n",
              "      <td>千代田区立神田一橋中学校</td>\n",
              "      <td>3.5</td>\n",
              "      <td>中央区立常盤幼稚園</td>\n",
              "      <td>3.0</td>\n",
              "    </tr>\n",
              "    <tr>\n",
              "      <th>4</th>\n",
              "      <td>101008</td>\n",
              "      <td>千代田区</td>\n",
              "      <td>大手町</td>\n",
              "      <td>大手町２丁目</td>\n",
              "      <td>35.686301</td>\n",
              "      <td>139.768087</td>\n",
              "      <td>0.295715</td>\n",
              "      <td>1.342216</td>\n",
              "      <td>0.292816</td>\n",
              "      <td>6</td>\n",
              "      <td>2</td>\n",
              "      <td>中央区立常盤小学校</td>\n",
              "      <td>4.2</td>\n",
              "      <td>千代田区立神田一橋中学校</td>\n",
              "      <td>3.5</td>\n",
              "      <td>中央区立常盤幼稚園</td>\n",
              "      <td>3.0</td>\n",
              "    </tr>\n",
              "  </tbody>\n",
              "</table>\n",
              "</div>\n",
              "      <button class=\"colab-df-convert\" onclick=\"convertToInteractive('df-d08cd1a3-331f-4562-8401-cf4ca2fa1d24')\"\n",
              "              title=\"Convert this dataframe to an interactive table.\"\n",
              "              style=\"display:none;\">\n",
              "        \n",
              "  <svg xmlns=\"http://www.w3.org/2000/svg\" height=\"24px\"viewBox=\"0 0 24 24\"\n",
              "       width=\"24px\">\n",
              "    <path d=\"M0 0h24v24H0V0z\" fill=\"none\"/>\n",
              "    <path d=\"M18.56 5.44l.94 2.06.94-2.06 2.06-.94-2.06-.94-.94-2.06-.94 2.06-2.06.94zm-11 1L8.5 8.5l.94-2.06 2.06-.94-2.06-.94L8.5 2.5l-.94 2.06-2.06.94zm10 10l.94 2.06.94-2.06 2.06-.94-2.06-.94-.94-2.06-.94 2.06-2.06.94z\"/><path d=\"M17.41 7.96l-1.37-1.37c-.4-.4-.92-.59-1.43-.59-.52 0-1.04.2-1.43.59L10.3 9.45l-7.72 7.72c-.78.78-.78 2.05 0 2.83L4 21.41c.39.39.9.59 1.41.59.51 0 1.02-.2 1.41-.59l7.78-7.78 2.81-2.81c.8-.78.8-2.07 0-2.86zM5.41 20L4 18.59l7.72-7.72 1.47 1.35L5.41 20z\"/>\n",
              "  </svg>\n",
              "      </button>\n",
              "      \n",
              "  <style>\n",
              "    .colab-df-container {\n",
              "      display:flex;\n",
              "      flex-wrap:wrap;\n",
              "      gap: 12px;\n",
              "    }\n",
              "\n",
              "    .colab-df-convert {\n",
              "      background-color: #E8F0FE;\n",
              "      border: none;\n",
              "      border-radius: 50%;\n",
              "      cursor: pointer;\n",
              "      display: none;\n",
              "      fill: #1967D2;\n",
              "      height: 32px;\n",
              "      padding: 0 0 0 0;\n",
              "      width: 32px;\n",
              "    }\n",
              "\n",
              "    .colab-df-convert:hover {\n",
              "      background-color: #E2EBFA;\n",
              "      box-shadow: 0px 1px 2px rgba(60, 64, 67, 0.3), 0px 1px 3px 1px rgba(60, 64, 67, 0.15);\n",
              "      fill: #174EA6;\n",
              "    }\n",
              "\n",
              "    [theme=dark] .colab-df-convert {\n",
              "      background-color: #3B4455;\n",
              "      fill: #D2E3FC;\n",
              "    }\n",
              "\n",
              "    [theme=dark] .colab-df-convert:hover {\n",
              "      background-color: #434B5C;\n",
              "      box-shadow: 0px 1px 3px 1px rgba(0, 0, 0, 0.15);\n",
              "      filter: drop-shadow(0px 1px 2px rgba(0, 0, 0, 0.3));\n",
              "      fill: #FFFFFF;\n",
              "    }\n",
              "  </style>\n",
              "\n",
              "      <script>\n",
              "        const buttonEl =\n",
              "          document.querySelector('#df-d08cd1a3-331f-4562-8401-cf4ca2fa1d24 button.colab-df-convert');\n",
              "        buttonEl.style.display =\n",
              "          google.colab.kernel.accessAllowed ? 'block' : 'none';\n",
              "\n",
              "        async function convertToInteractive(key) {\n",
              "          const element = document.querySelector('#df-d08cd1a3-331f-4562-8401-cf4ca2fa1d24');\n",
              "          const dataTable =\n",
              "            await google.colab.kernel.invokeFunction('convertToInteractive',\n",
              "                                                     [key], {});\n",
              "          if (!dataTable) return;\n",
              "\n",
              "          const docLinkHtml = 'Like what you see? Visit the ' +\n",
              "            '<a target=\"_blank\" href=https://colab.research.google.com/notebooks/data_table.ipynb>data table notebook</a>'\n",
              "            + ' to learn more about interactive tables.';\n",
              "          element.innerHTML = '';\n",
              "          dataTable['output_type'] = 'display_data';\n",
              "          await google.colab.output.renderOutput(dataTable, element);\n",
              "          const docLink = document.createElement('div');\n",
              "          docLink.innerHTML = docLinkHtml;\n",
              "          element.appendChild(docLink);\n",
              "        }\n",
              "      </script>\n",
              "    </div>\n",
              "  </div>\n",
              "  "
            ]
          },
          "metadata": {},
          "execution_count": 96
        }
      ]
    },
    {
      "cell_type": "markdown",
      "source": [
        "### 区ごとの中学受験進学率"
      ],
      "metadata": {
        "id": "qO9YQ7IzYWrR"
      }
    },
    {
      "cell_type": "code",
      "source": [
        "shingaku_rate = {\n",
        "    '文京区': 0.4944,\n",
        "    '港区': 0.4469,\n",
        "    '中央区': 0.4245,\n",
        "    '目黒区': 0.404,\n",
        "    '千代田区': 0.4012,\n",
        "    '世田谷区': 0.3577,\n",
        "    '新宿区': 0.3552,\n",
        "    '渋谷区': 0.3498,\n",
        "    '豊島区': 0.3369,\n",
        "    '品川区': 0.3311,\n",
        "    '台東区': 0.3194,\n",
        "    '杉並区': 0.3138,\n",
        "    '江東区': 0.2916,\n",
        "    '中野区': 0.2734,\n",
        "    '北区': 0.2374,\n",
        "    '大田区': 0.2299,\n",
        "    '荒川区': 0.1999,\n",
        "    '練馬区': 0.1768,\n",
        "    '墨田区': 0.1697,\n",
        "    '板橋区': 0.1633,\n",
        "    '葛飾区': 0.141,\n",
        "    '足立区': 0.1289,\n",
        "    '江戸川区': 0.1027,\n",
        "}\n",
        "df_geo_master['中学受験進学率'] = df_geo_master['市区町村名'].map(shingaku_rate)"
      ],
      "metadata": {
        "id": "aYunTFKYYT-X"
      },
      "execution_count": 97,
      "outputs": []
    },
    {
      "cell_type": "markdown",
      "source": [
        "### 名門小学校"
      ],
      "metadata": {
        "id": "U1TRYCwSjAOp"
      }
    },
    {
      "cell_type": "code",
      "source": [
        "df_elementary_school = pd.read_csv(os.path.join(DIR_NAME, 'famous_elementary_school.csv'))\\\n",
        "    .rename(columns={'小学校名': '名門小学校名'})\\\n",
        "    .drop_duplicates(subset=['市区町村名', '町丁目'])\n",
        "print(df_elementary_school.shape)"
      ],
      "metadata": {
        "id": "pEI6G_qnkXDv",
        "outputId": "cdd52054-060a-4bec-b078-da49e8797614",
        "colab": {
          "base_uri": "https://localhost:8080/"
        }
      },
      "execution_count": 98,
      "outputs": [
        {
          "output_type": "stream",
          "name": "stdout",
          "text": [
            "(151, 3)\n"
          ]
        }
      ]
    },
    {
      "cell_type": "code",
      "source": [
        "df_geo_master = pd.merge(\n",
        "    df_geo_master,\n",
        "    df_elementary_school,\n",
        "    on=['市区町村名', '町丁目'], how='left'\n",
        ")\n",
        "df_geo_master['名門小学校'] = 0\n",
        "df_geo_master.loc[df_geo_master['名門小学校名'].notna(), '名門小学校'] = 1\n",
        "print(df_geo_master.shape)"
      ],
      "metadata": {
        "id": "lamwCdSGkhpD",
        "outputId": "20f5e0d5-0b80-4ac2-bd4e-089f9b0155dc",
        "colab": {
          "base_uri": "https://localhost:8080/"
        }
      },
      "execution_count": 99,
      "outputs": [
        {
          "output_type": "stream",
          "name": "stdout",
          "text": [
            "(3145, 20)\n"
          ]
        }
      ]
    },
    {
      "cell_type": "code",
      "source": [
        "def rank_score(sr_data):\n",
        "    rank = sr_data.rank()\n",
        "    rmax = rank.max()\n",
        "    rmin = rank.min()\n",
        "    max_val = 5\n",
        "    x = (rank - rmin)/(rmax - rmin) * max_val\n",
        "    return np.clip(x, 0, max_val)"
      ],
      "metadata": {
        "id": "LdClGOPa7YS5"
      },
      "execution_count": 100,
      "outputs": []
    },
    {
      "cell_type": "markdown",
      "source": [
        "## 小学校スコア"
      ],
      "metadata": {
        "id": "fLroPQUWJHGv"
      }
    },
    {
      "cell_type": "code",
      "source": [
        "all_feature_list = []\n",
        "all_score_list = []"
      ],
      "metadata": {
        "id": "ZOQkcdylNJ6K"
      },
      "execution_count": 101,
      "outputs": []
    },
    {
      "cell_type": "code",
      "source": [
        "score_name = '小学校スコア'\n",
        "feature_list = {\n",
        "    '小学校(最近傍距離)': {'sort': -1, 'weight': 0.5}, \n",
        "    '小学校のレーティング': {'sort': 1, 'weight': 1},\n",
        "    '中学受験進学率': {'sort': 1, 'weight': 0.5},\n",
        "    '名門小学校': {'sort': 1, 'weight': 0.3},\n",
        "}\n",
        "all_feature_list += ['小学校(最近傍距離)', '名門小学校']\n",
        "all_score_list.append(score_name)"
      ],
      "metadata": {
        "id": "U7duaODMWsas"
      },
      "execution_count": 102,
      "outputs": []
    },
    {
      "cell_type": "code",
      "source": [
        "for feature_name in feature_list.keys():\n",
        "    print(feature_name)\n",
        "    sns.histplot(df_geo_master[feature_name], bins=20)\n",
        "    plt.show()"
      ],
      "metadata": {
        "colab": {
          "base_uri": "https://localhost:8080/",
          "height": 1000
        },
        "id": "omSbyVRv7Jjj",
        "outputId": "a8810bad-7879-4207-dcf7-3bfedfa13a94"
      },
      "execution_count": 103,
      "outputs": [
        {
          "output_type": "stream",
          "name": "stdout",
          "text": [
            "小学校(最近傍距離)\n"
          ]
        },
        {
          "output_type": "display_data",
          "data": {
            "text/plain": [
              "<Figure size 432x288 with 1 Axes>"
            ],
            "image/png": "[encoded data removed]"
          },
          "metadata": {
            "needs_background": "light"
          }
        },
        {
          "output_type": "stream",
          "name": "stdout",
          "text": [
            "小学校のレーティング\n"
          ]
        },
        {
          "output_type": "display_data",
          "data": {
            "text/plain": [
              "<Figure size 432x288 with 1 Axes>"
            ],
            "image/png": "[encoded data removed]"
          },
          "metadata": {
            "needs_background": "light"
          }
        },
        {
          "output_type": "stream",
          "name": "stdout",
          "text": [
            "中学受験進学率\n"
          ]
        },
        {
          "output_type": "display_data",
          "data": {
            "text/plain": [
              "<Figure size 432x288 with 1 Axes>"
            ],
            "image/png": "[encoded data removed]"
          },
          "metadata": {
            "needs_background": "light"
          }
        },
        {
          "output_type": "stream",
          "name": "stdout",
          "text": [
            "名門小学校\n"
          ]
        },
        {
          "output_type": "display_data",
          "data": {
            "text/plain": [
              "<Figure size 432x288 with 1 Axes>"
            ],
            "image/png": "[encoded data removed]"
          },
          "metadata": {
            "needs_background": "light"
          }
        }
      ]
    },
    {
      "cell_type": "code",
      "source": [
        "score_list = []\n",
        "for key, value in feature_list.items():\n",
        "    df_geo_master[f'{key}レベル'] = rank_score(df_geo_master[key] * value['sort'])\n",
        "    score_list.append(df_geo_master[f'{key}レベル'] * value['weight'])\n",
        "\n",
        "_tmp_score = pd.concat(score_list, axis=1).sum(axis=1, skipna=False)\n",
        "df_geo_master[score_name] = rank_score(_tmp_score)"
      ],
      "metadata": {
        "id": "NX28XbUB9b2C"
      },
      "execution_count": 104,
      "outputs": []
    },
    {
      "cell_type": "code",
      "source": [
        "sns.histplot(_tmp_score, bins=20)\n",
        "plt.show()"
      ],
      "metadata": {
        "id": "zR8rp6QOJr8g",
        "outputId": "7e7fd4bb-11c6-488f-d2cc-3bd5308d331f",
        "colab": {
          "base_uri": "https://localhost:8080/",
          "height": 264
        }
      },
      "execution_count": 105,
      "outputs": [
        {
          "output_type": "display_data",
          "data": {
            "text/plain": [
              "<Figure size 432x288 with 1 Axes>"
            ],
            "image/png": "[encoded data removed]"
          },
          "metadata": {
            "needs_background": "light"
          }
        }
      ]
    },
    {
      "cell_type": "code",
      "source": [
        "sns.histplot(df_geo_master[score_name], bins=20)\n",
        "plt.show()"
      ],
      "metadata": {
        "id": "58qh3xRSJpJR",
        "outputId": "c0c60f16-0f00-4427-e1bc-e48913092a8d",
        "colab": {
          "base_uri": "https://localhost:8080/",
          "height": 278
        }
      },
      "execution_count": 106,
      "outputs": [
        {
          "output_type": "display_data",
          "data": {
            "text/plain": [
              "<Figure size 432x288 with 1 Axes>"
            ],
            "image/png": "[encoded data removed]"
          },
          "metadata": {
            "needs_background": "light"
          }
        }
      ]
    },
    {
      "cell_type": "code",
      "source": [
        "df_geo_master[score_name].describe()"
      ],
      "metadata": {
        "id": "go8nBgQoE_rr",
        "outputId": "a6100059-bfc3-4e1b-bfa6-5c5de771c923",
        "colab": {
          "base_uri": "https://localhost:8080/"
        }
      },
      "execution_count": 107,
      "outputs": [
        {
          "output_type": "execute_result",
          "data": {
            "text/plain": [
              "count    3145.000000\n",
              "mean        2.500000\n",
              "std         1.444064\n",
              "min         0.000000\n",
              "25%         1.250000\n",
              "50%         2.500000\n",
              "75%         3.750000\n",
              "max         5.000000\n",
              "Name: 小学校スコア, dtype: float64"
            ]
          },
          "metadata": {},
          "execution_count": 107
        }
      ]
    },
    {
      "cell_type": "markdown",
      "source": [
        "## 中学校スコア"
      ],
      "metadata": {
        "id": "-ba5q_IlLvlS"
      }
    },
    {
      "cell_type": "code",
      "source": [
        "score_name = '中学校スコア'\n",
        "feature_list = {\n",
        "    '中学校(最近傍距離)': {'sort': -1, 'weight': 0.5}, \n",
        "    '中学校のレーティング': {'sort': 1, 'weight': 1},\n",
        "    '名門小学校': {'sort': 1, 'weight': 0.3},\n",
        "    '中学受験進学率': {'sort': 1, 'weight': 0.3},\n",
        "}\n",
        "all_feature_list += ['中学校(最近傍距離)']\n",
        "all_score_list.append(score_name)"
      ],
      "metadata": {
        "id": "n1RCUfWjLyFI"
      },
      "execution_count": 108,
      "outputs": []
    },
    {
      "cell_type": "code",
      "source": [
        "for feature_name in feature_list.keys():\n",
        "    sns.histplot(df_geo_master[feature_name], bins=20)\n",
        "    plt.show()"
      ],
      "metadata": {
        "colab": {
          "base_uri": "https://localhost:8080/",
          "height": 1000
        },
        "id": "RNef6VnRL6U1",
        "outputId": "a3a0ea90-0a5a-4481-9bdf-2d037ac7c421"
      },
      "execution_count": 109,
      "outputs": [
        {
          "output_type": "display_data",
          "data": {
            "text/plain": [
              "<Figure size 432x288 with 1 Axes>"
            ],
            "image/png": "[encoded data removed]"
          },
          "metadata": {
            "needs_background": "light"
          }
        },
        {
          "output_type": "display_data",
          "data": {
            "text/plain": [
              "<Figure size 432x288 with 1 Axes>"
            ],
            "image/png": "[encoded data removed]"
          },
          "metadata": {
            "needs_background": "light"
          }
        },
        {
          "output_type": "display_data",
          "data": {
            "text/plain": [
              "<Figure size 432x288 with 1 Axes>"
            ],
            "image/png": "[encoded data removed]"
          },
          "metadata": {
            "needs_background": "light"
          }
        },
        {
          "output_type": "display_data",
          "data": {
            "text/plain": [
              "<Figure size 432x288 with 1 Axes>"
            ],
            "image/png": "[encoded data removed]"
          },
          "metadata": {
            "needs_background": "light"
          }
        }
      ]
    },
    {
      "cell_type": "code",
      "source": [
        "score_list = []\n",
        "for key, value in feature_list.items():\n",
        "    df_geo_master[f'{key}レベル'] = rank_score(df_geo_master[key] * value['sort'])\n",
        "    score_list.append(df_geo_master[f'{key}レベル'] * value['weight'])\n",
        "\n",
        "_temp_score = pd.concat(score_list, axis=1).sum(axis=1, skipna=False)\n",
        "df_geo_master[score_name] = rank_score(_temp_score)"
      ],
      "metadata": {
        "id": "jeX9EB_FMRh7"
      },
      "execution_count": 110,
      "outputs": []
    },
    {
      "cell_type": "code",
      "source": [
        "sns.histplot(_temp_score, bins=20)\n",
        "plt.show()"
      ],
      "metadata": {
        "id": "o4ws4lTGLo1i",
        "outputId": "a2dc42fb-04f0-4c88-f1d1-b4ac5fef16c3",
        "colab": {
          "base_uri": "https://localhost:8080/",
          "height": 264
        }
      },
      "execution_count": 111,
      "outputs": [
        {
          "output_type": "display_data",
          "data": {
            "text/plain": [
              "<Figure size 432x288 with 1 Axes>"
            ],
            "image/png": "[encoded data removed]"
          },
          "metadata": {
            "needs_background": "light"
          }
        }
      ]
    },
    {
      "cell_type": "code",
      "source": [
        "sns.histplot(df_geo_master[score_name], bins=20)\n",
        "plt.show()"
      ],
      "metadata": {
        "id": "Gn9HukpHLk_q",
        "outputId": "0a0209ff-2059-48bc-af6d-a7fef4a47157",
        "colab": {
          "base_uri": "https://localhost:8080/",
          "height": 278
        }
      },
      "execution_count": 112,
      "outputs": [
        {
          "output_type": "display_data",
          "data": {
            "text/plain": [
              "<Figure size 432x288 with 1 Axes>"
            ],
            "image/png": "[encoded data removed]"
          },
          "metadata": {
            "needs_background": "light"
          }
        }
      ]
    },
    {
      "cell_type": "code",
      "source": [
        "df_geo_master[score_name].describe()"
      ],
      "metadata": {
        "id": "U34BsFHNFDFD",
        "outputId": "d7a5d77a-e596-4043-b82f-c0bc9dd8cf86",
        "colab": {
          "base_uri": "https://localhost:8080/"
        }
      },
      "execution_count": 113,
      "outputs": [
        {
          "output_type": "execute_result",
          "data": {
            "text/plain": [
              "count    3145.000000\n",
              "mean        2.500000\n",
              "std         1.444064\n",
              "min         0.000000\n",
              "25%         1.250000\n",
              "50%         2.500000\n",
              "75%         3.750000\n",
              "max         5.000000\n",
              "Name: 中学校スコア, dtype: float64"
            ]
          },
          "metadata": {},
          "execution_count": 113
        }
      ]
    },
    {
      "cell_type": "markdown",
      "source": [
        "## 幼稚園スコア"
      ],
      "metadata": {
        "id": "dbAslLpbMcTF"
      }
    },
    {
      "cell_type": "code",
      "source": [
        "score_name = '幼稚園スコア'\n",
        "feature_list = {\n",
        "    '幼稚園(最近傍距離)': {'sort': -1, 'weight': 0.5}, \n",
        "    '幼稚園のレーティング': {'sort': 1, 'weight': 1},\n",
        "    '名門小学校': {'sort': 1, 'weight': 0.5},\n",
        "    '中学受験進学率': {'sort': 1, 'weight': 0.5},\n",
        "}\n",
        "all_feature_list += ['幼稚園(最近傍距離)']\n",
        "all_score_list.append(score_name)"
      ],
      "metadata": {
        "id": "8OxOvtLeMfa4"
      },
      "execution_count": 114,
      "outputs": []
    },
    {
      "cell_type": "code",
      "source": [
        "for feature_name in feature_list.keys():\n",
        "    sns.histplot(df_geo_master[feature_name], bins=20)\n",
        "    plt.show()"
      ],
      "metadata": {
        "colab": {
          "base_uri": "https://localhost:8080/",
          "height": 1000
        },
        "id": "n575E41YMruy",
        "outputId": "2206c122-01c2-4e97-b12a-50b519d292b1"
      },
      "execution_count": 115,
      "outputs": [
        {
          "output_type": "display_data",
          "data": {
            "text/plain": [
              "<Figure size 432x288 with 1 Axes>"
            ],
            "image/png": "[encoded data removed]"
          },
          "metadata": {
            "needs_background": "light"
          }
        },
        {
          "output_type": "display_data",
          "data": {
            "text/plain": [
              "<Figure size 432x288 with 1 Axes>"
            ],
            "image/png": "[encoded data removed]"
          },
          "metadata": {
            "needs_background": "light"
          }
        },
        {
          "output_type": "display_data",
          "data": {
            "text/plain": [
              "<Figure size 432x288 with 1 Axes>"
            ],
            "image/png": "[encoded data removed]"
          },
          "metadata": {
            "needs_background": "light"
          }
        },
        {
          "output_type": "display_data",
          "data": {
            "text/plain": [
              "<Figure size 432x288 with 1 Axes>"
            ],
            "image/png": "[encoded data removed]"
          },
          "metadata": {
            "needs_background": "light"
          }
        }
      ]
    },
    {
      "cell_type": "code",
      "source": [
        "score_list = []\n",
        "for key, value in feature_list.items():\n",
        "    df_geo_master[f'{key}レベル'] = rank_score(df_geo_master[key] * value['sort'])\n",
        "    score_list.append(df_geo_master[f'{key}レベル'] * value['weight'])\n",
        "\n",
        "_tmp_score = pd.concat(score_list, axis=1).sum(axis=1, skipna=False)\n",
        "df_geo_master[score_name] = rank_score(_tmp_score)"
      ],
      "metadata": {
        "id": "FH8tG056M9sQ"
      },
      "execution_count": 116,
      "outputs": []
    },
    {
      "cell_type": "code",
      "source": [
        "sns.histplot(_temp_score, bins=20)\n",
        "plt.show()"
      ],
      "metadata": {
        "id": "opPG3bZqMFu-",
        "outputId": "20b9a737-8214-4329-d089-e53d34859585",
        "colab": {
          "base_uri": "https://localhost:8080/",
          "height": 264
        }
      },
      "execution_count": 117,
      "outputs": [
        {
          "output_type": "display_data",
          "data": {
            "text/plain": [
              "<Figure size 432x288 with 1 Axes>"
            ],
            "image/png": "[encoded data removed]"
          },
          "metadata": {
            "needs_background": "light"
          }
        }
      ]
    },
    {
      "cell_type": "code",
      "source": [
        "sns.histplot(df_geo_master[score_name], bins=20)\n",
        "plt.show()"
      ],
      "metadata": {
        "id": "hXEfF8FjMJcs",
        "outputId": "a7c756b7-06af-4325-eb9a-a4e08faf1cea",
        "colab": {
          "base_uri": "https://localhost:8080/",
          "height": 278
        }
      },
      "execution_count": 118,
      "outputs": [
        {
          "output_type": "display_data",
          "data": {
            "text/plain": [
              "<Figure size 432x288 with 1 Axes>"
            ],
            "image/png": "[encoded data removed]"
          },
          "metadata": {
            "needs_background": "light"
          }
        }
      ]
    },
    {
      "cell_type": "markdown",
      "source": [
        "### 学習塾スコア"
      ],
      "metadata": {
        "id": "YtREiZFEoq4M"
      }
    },
    {
      "cell_type": "code",
      "source": [
        "score_name = '学習塾スコア'\n",
        "all_score_list.append(score_name)\n",
        "\n",
        "feature_name = '学習塾(数)'\n",
        "all_feature_list += [feature_name]\n",
        "\n",
        "df_geo_master[score_name] = rank_score(df_geo_master[feature_name])"
      ],
      "metadata": {
        "id": "q6gaC9IOFEVN"
      },
      "execution_count": 119,
      "outputs": []
    },
    {
      "cell_type": "code",
      "source": [
        "sns.histplot(df_geo_master[feature_name], bins=20)\n",
        "plt.show()"
      ],
      "metadata": {
        "id": "kHLsvG-jsFsM",
        "outputId": "36f9a6b7-5517-4c91-f0cd-4723ca0b89e6",
        "colab": {
          "base_uri": "https://localhost:8080/",
          "height": 278
        }
      },
      "execution_count": 120,
      "outputs": [
        {
          "output_type": "display_data",
          "data": {
            "text/plain": [
              "<Figure size 432x288 with 1 Axes>"
            ],
            "image/png": "[encoded data removed]"
          },
          "metadata": {
            "needs_background": "light"
          }
        }
      ]
    },
    {
      "cell_type": "code",
      "source": [
        "score_name = '大学スコア'\n",
        "all_score_list.append(score_name)\n",
        "\n",
        "feature_name = '大学(数)'\n",
        "all_feature_list += [feature_name]\n",
        "\n",
        "df_geo_master[score_name] = rank_score(df_geo_master[feature_name])"
      ],
      "metadata": {
        "id": "bLEeVBzCEb_5"
      },
      "execution_count": 121,
      "outputs": []
    },
    {
      "cell_type": "markdown",
      "source": [
        "## 保存"
      ],
      "metadata": {
        "id": "bRlK-CaYJ7Yj"
      }
    },
    {
      "cell_type": "code",
      "source": [
        "all_feature_list"
      ],
      "metadata": {
        "colab": {
          "base_uri": "https://localhost:8080/"
        },
        "id": "-kMb95bfOIbh",
        "outputId": "4d276818-2c76-4933-e5e9-ffe3b6f46472"
      },
      "execution_count": 123,
      "outputs": [
        {
          "output_type": "execute_result",
          "data": {
            "text/plain": [
              "['小学校(最近傍距離)', '名門小学校', '中学校(最近傍距離)', '幼稚園(最近傍距離)', '学習塾(数)', '大学(数)']"
            ]
          },
          "metadata": {},
          "execution_count": 123
        }
      ]
    },
    {
      "cell_type": "code",
      "source": [
        "all_score_list"
      ],
      "metadata": {
        "colab": {
          "base_uri": "https://localhost:8080/"
        },
        "id": "CUuxJ9EwOHC2",
        "outputId": "7ddfd2d7-3891-4036-8a4b-e23821dcc508"
      },
      "execution_count": 124,
      "outputs": [
        {
          "output_type": "execute_result",
          "data": {
            "text/plain": [
              "['小学校スコア', '中学校スコア', '幼稚園スコア', '学習塾スコア', '大学スコア']"
            ]
          },
          "metadata": {},
          "execution_count": 124
        }
      ]
    },
    {
      "cell_type": "code",
      "source": [
        "for school in school_types:\n",
        "    df_geo_master[f'{school}(最近傍距離)'] = df_geo_master[f'{school}(最近傍距離)'].round(3)\n",
        "\n",
        "for col in all_score_list:\n",
        "    df_geo_master[col] = df_geo_master[col].round(2)"
      ],
      "metadata": {
        "id": "BFLtYOWoMaLv"
      },
      "execution_count": 125,
      "outputs": []
    },
    {
      "cell_type": "markdown",
      "source": [
        "### 保存"
      ],
      "metadata": {
        "id": "R73PMWPIVNBZ"
      }
    },
    {
      "cell_type": "code",
      "source": [
        "df_geo_master[\n",
        "    ['town_id'] + all_feature_list + all_score_list\n",
        "].to_csv(os.path.join(DIR_NAME, output_score_file), index=False)"
      ],
      "metadata": {
        "id": "mGvdhIyy9-kN"
      },
      "execution_count": 126,
      "outputs": []
    },
    {
      "cell_type": "markdown",
      "source": [
        "## 区ごとのスコア確認"
      ],
      "metadata": {
        "id": "uPUEdJZ3PNmx"
      }
    },
    {
      "cell_type": "code",
      "source": [
        "for _score in all_score_list:\n",
        "    plt.figure(figsize=(15, 5))\n",
        "    sns.barplot(x='市区町村名', y=_score, data=df_geo_master)\n",
        "    plt.show()"
      ],
      "metadata": {
        "colab": {
          "base_uri": "https://localhost:8080/",
          "height": 1000
        },
        "id": "ufGDZQX3-lnp",
        "outputId": "d7998005-1d78-4a88-bdb6-00f1fe3571a0"
      },
      "execution_count": 127,
      "outputs": [
        {
          "output_type": "display_data",
          "data": {
            "text/plain": [
              "<Figure size 1080x360 with 1 Axes>"
            ],
            "image/png": "[encoded data removed]"
          },
          "metadata": {
            "needs_background": "light"
          }
        },
        {
          "output_type": "display_data",
          "data": {
            "text/plain": [
              "<Figure size 1080x360 with 1 Axes>"
            ],
            "image/png": "[encoded data removed]"
          },
          "metadata": {
            "needs_background": "light"
          }
        },
        {
          "output_type": "display_data",
          "data": {
            "text/plain": [
              "<Figure size 1080x360 with 1 Axes>"
            ],
            "image/png": "[encoded data removed]"
          },
          "metadata": {
            "needs_background": "light"
          }
        },
        {
          "output_type": "display_data",
          "data": {
            "text/plain": [
              "<Figure size 1080x360 with 1 Axes>"
            ],
            "image/png": "[encoded data removed]"
          },
          "metadata": {
            "needs_background": "light"
          }
        },
        {
          "output_type": "display_data",
          "data": {
            "text/plain": [
              "<Figure size 1080x360 with 1 Axes>"
            ],
            "image/png": "[encoded data removed]"
          },
          "metadata": {
            "needs_background": "light"
          }
        }
      ]
    },
    {
      "cell_type": "code",
      "source": [
        "def get_score_top(df_data, target):\n",
        "    df_level = df_data.copy()\n",
        "    score_name = f'{target}スコア'\n",
        "    df_level['rank'] = df_level.groupby('町名')[score_name].transform('rank', ascending=False)\n",
        "    df_level = df_level[df_level['rank'] == 1].sort_values(score_name, ascending=False)[\n",
        "        ['市区町村名', '町名', '町丁目'] + [f'最寄りの{target}', f'{target}(最近傍距離)', f'{target}のレーティング', score_name]\n",
        "    ].reset_index(drop=True)\n",
        "    return df_level"
      ],
      "metadata": {
        "id": "KwfMlqDrBmKa"
      },
      "execution_count": 128,
      "outputs": []
    },
    {
      "cell_type": "code",
      "source": [
        "df_level = get_score_top(df_geo_master, '小学校')\n",
        "print(df_level.shape)\n",
        "df_level.head(10)"
      ],
      "metadata": {
        "id": "twmfPEadWDVX",
        "outputId": "1cd65dbe-0090-43c2-88bf-915c7c9dc460",
        "colab": {
          "base_uri": "https://localhost:8080/",
          "height": 380
        }
      },
      "execution_count": 129,
      "outputs": [
        {
          "output_type": "stream",
          "name": "stdout",
          "text": [
            "(904, 7)\n"
          ]
        },
        {
          "output_type": "execute_result",
          "data": {
            "text/plain": [
              "  市区町村名      町名        町丁目      最寄りの小学校  小学校(最近傍距離)  小学校のレーティング  小学校スコア\n",
              "0  千代田区     五番町        五番町   千代田区立番町小学校       0.161         4.3    5.00\n",
              "1    港区      三田      三田１丁目     港区立赤羽小学校       0.100         4.3    5.00\n",
              "2  世田谷区  玉川田園調布  玉川田園調布２丁目   世田谷区立八幡小学校       0.150         4.7    5.00\n",
              "3  千代田区     六番町        六番町   千代田区立番町小学校       0.105         4.3    5.00\n",
              "4    港区     北青山     北青山２丁目     港区立青山小学校       0.238         4.3    4.99\n",
              "5   文京区      白山      白山１丁目    文京区立誠之小学校       0.132         4.1    4.99\n",
              "6   文京区      千石      千石２丁目    文京区立林町小学校       0.119         4.6    4.99\n",
              "7    港区     元麻布     元麻布３丁目     港区立南山小学校       0.080         4.1    4.99\n",
              "8   目黒区      八雲      八雲２丁目    目黒区立八雲小学校       0.074         4.6    4.99\n",
              "9  千代田区    神田司町    神田司町２丁目  千代田区立千代田小学校       0.076         4.8    4.99"
            ],
            "text/html": [
              "\n",
              "  <div id=\"df-172170d2-f94f-4798-81ec-cb4b7b1ff2a9\">\n",
              "    <div class=\"colab-df-container\">\n",
              "      <div>\n",
              "<style scoped>\n",
              "    .dataframe tbody tr th:only-of-type {\n",
              "        vertical-align: middle;\n",
              "    }\n",
              "\n",
              "    .dataframe tbody tr th {\n",
              "        vertical-align: top;\n",
              "    }\n",
              "\n",
              "    .dataframe thead th {\n",
              "        text-align: right;\n",
              "    }\n",
              "</style>\n",
              "<table border=\"1\" class=\"dataframe\">\n",
              "  <thead>\n",
              "    <tr style=\"text-align: right;\">\n",
              "      <th></th>\n",
              "      <th>市区町村名</th>\n",
              "      <th>町名</th>\n",
              "      <th>町丁目</th>\n",
              "      <th>最寄りの小学校</th>\n",
              "      <th>小学校(最近傍距離)</th>\n",
              "      <th>小学校のレーティング</th>\n",
              "      <th>小学校スコア</th>\n",
              "    </tr>\n",
              "  </thead>\n",
              "  <tbody>\n",
              "    <tr>\n",
              "      <th>0</th>\n",
              "      <td>千代田区</td>\n",
              "      <td>五番町</td>\n",
              "      <td>五番町</td>\n",
              "      <td>千代田区立番町小学校</td>\n",
              "      <td>0.161</td>\n",
              "      <td>4.3</td>\n",
              "      <td>5.00</td>\n",
              "    </tr>\n",
              "    <tr>\n",
              "      <th>1</th>\n",
              "      <td>港区</td>\n",
              "      <td>三田</td>\n",
              "      <td>三田１丁目</td>\n",
              "      <td>港区立赤羽小学校</td>\n",
              "      <td>0.100</td>\n",
              "      <td>4.3</td>\n",
              "      <td>5.00</td>\n",
              "    </tr>\n",
              "    <tr>\n",
              "      <th>2</th>\n",
              "      <td>世田谷区</td>\n",
              "      <td>玉川田園調布</td>\n",
              "      <td>玉川田園調布２丁目</td>\n",
              "      <td>世田谷区立八幡小学校</td>\n",
              "      <td>0.150</td>\n",
              "      <td>4.7</td>\n",
              "      <td>5.00</td>\n",
              "    </tr>\n",
              "    <tr>\n",
              "      <th>3</th>\n",
              "      <td>千代田区</td>\n",
              "      <td>六番町</td>\n",
              "      <td>六番町</td>\n",
              "      <td>千代田区立番町小学校</td>\n",
              "      <td>0.105</td>\n",
              "      <td>4.3</td>\n",
              "      <td>5.00</td>\n",
              "    </tr>\n",
              "    <tr>\n",
              "      <th>4</th>\n",
              "      <td>港区</td>\n",
              "      <td>北青山</td>\n",
              "      <td>北青山２丁目</td>\n",
              "      <td>港区立青山小学校</td>\n",
              "      <td>0.238</td>\n",
              "      <td>4.3</td>\n",
              "      <td>4.99</td>\n",
              "    </tr>\n",
              "    <tr>\n",
              "      <th>5</th>\n",
              "      <td>文京区</td>\n",
              "      <td>白山</td>\n",
              "      <td>白山１丁目</td>\n",
              "      <td>文京区立誠之小学校</td>\n",
              "      <td>0.132</td>\n",
              "      <td>4.1</td>\n",
              "      <td>4.99</td>\n",
              "    </tr>\n",
              "    <tr>\n",
              "      <th>6</th>\n",
              "      <td>文京区</td>\n",
              "      <td>千石</td>\n",
              "      <td>千石２丁目</td>\n",
              "      <td>文京区立林町小学校</td>\n",
              "      <td>0.119</td>\n",
              "      <td>4.6</td>\n",
              "      <td>4.99</td>\n",
              "    </tr>\n",
              "    <tr>\n",
              "      <th>7</th>\n",
              "      <td>港区</td>\n",
              "      <td>元麻布</td>\n",
              "      <td>元麻布３丁目</td>\n",
              "      <td>港区立南山小学校</td>\n",
              "      <td>0.080</td>\n",
              "      <td>4.1</td>\n",
              "      <td>4.99</td>\n",
              "    </tr>\n",
              "    <tr>\n",
              "      <th>8</th>\n",
              "      <td>目黒区</td>\n",
              "      <td>八雲</td>\n",
              "      <td>八雲２丁目</td>\n",
              "      <td>目黒区立八雲小学校</td>\n",
              "      <td>0.074</td>\n",
              "      <td>4.6</td>\n",
              "      <td>4.99</td>\n",
              "    </tr>\n",
              "    <tr>\n",
              "      <th>9</th>\n",
              "      <td>千代田区</td>\n",
              "      <td>神田司町</td>\n",
              "      <td>神田司町２丁目</td>\n",
              "      <td>千代田区立千代田小学校</td>\n",
              "      <td>0.076</td>\n",
              "      <td>4.8</td>\n",
              "      <td>4.99</td>\n",
              "    </tr>\n",
              "  </tbody>\n",
              "</table>\n",
              "</div>\n",
              "      <button class=\"colab-df-convert\" onclick=\"convertToInteractive('df-172170d2-f94f-4798-81ec-cb4b7b1ff2a9')\"\n",
              "              title=\"Convert this dataframe to an interactive table.\"\n",
              "              style=\"display:none;\">\n",
              "        \n",
              "  <svg xmlns=\"http://www.w3.org/2000/svg\" height=\"24px\"viewBox=\"0 0 24 24\"\n",
              "       width=\"24px\">\n",
              "    <path d=\"M0 0h24v24H0V0z\" fill=\"none\"/>\n",
              "    <path d=\"M18.56 5.44l.94 2.06.94-2.06 2.06-.94-2.06-.94-.94-2.06-.94 2.06-2.06.94zm-11 1L8.5 8.5l.94-2.06 2.06-.94-2.06-.94L8.5 2.5l-.94 2.06-2.06.94zm10 10l.94 2.06.94-2.06 2.06-.94-2.06-.94-.94-2.06-.94 2.06-2.06.94z\"/><path d=\"M17.41 7.96l-1.37-1.37c-.4-.4-.92-.59-1.43-.59-.52 0-1.04.2-1.43.59L10.3 9.45l-7.72 7.72c-.78.78-.78 2.05 0 2.83L4 21.41c.39.39.9.59 1.41.59.51 0 1.02-.2 1.41-.59l7.78-7.78 2.81-2.81c.8-.78.8-2.07 0-2.86zM5.41 20L4 18.59l7.72-7.72 1.47 1.35L5.41 20z\"/>\n",
              "  </svg>\n",
              "      </button>\n",
              "      \n",
              "  <style>\n",
              "    .colab-df-container {\n",
              "      display:flex;\n",
              "      flex-wrap:wrap;\n",
              "      gap: 12px;\n",
              "    }\n",
              "\n",
              "    .colab-df-convert {\n",
              "      background-color: #E8F0FE;\n",
              "      border: none;\n",
              "      border-radius: 50%;\n",
              "      cursor: pointer;\n",
              "      display: none;\n",
              "      fill: #1967D2;\n",
              "      height: 32px;\n",
              "      padding: 0 0 0 0;\n",
              "      width: 32px;\n",
              "    }\n",
              "\n",
              "    .colab-df-convert:hover {\n",
              "      background-color: #E2EBFA;\n",
              "      box-shadow: 0px 1px 2px rgba(60, 64, 67, 0.3), 0px 1px 3px 1px rgba(60, 64, 67, 0.15);\n",
              "      fill: #174EA6;\n",
              "    }\n",
              "\n",
              "    [theme=dark] .colab-df-convert {\n",
              "      background-color: #3B4455;\n",
              "      fill: #D2E3FC;\n",
              "    }\n",
              "\n",
              "    [theme=dark] .colab-df-convert:hover {\n",
              "      background-color: #434B5C;\n",
              "      box-shadow: 0px 1px 3px 1px rgba(0, 0, 0, 0.15);\n",
              "      filter: drop-shadow(0px 1px 2px rgba(0, 0, 0, 0.3));\n",
              "      fill: #FFFFFF;\n",
              "    }\n",
              "  </style>\n",
              "\n",
              "      <script>\n",
              "        const buttonEl =\n",
              "          document.querySelector('#df-172170d2-f94f-4798-81ec-cb4b7b1ff2a9 button.colab-df-convert');\n",
              "        buttonEl.style.display =\n",
              "          google.colab.kernel.accessAllowed ? 'block' : 'none';\n",
              "\n",
              "        async function convertToInteractive(key) {\n",
              "          const element = document.querySelector('#df-172170d2-f94f-4798-81ec-cb4b7b1ff2a9');\n",
              "          const dataTable =\n",
              "            await google.colab.kernel.invokeFunction('convertToInteractive',\n",
              "                                                     [key], {});\n",
              "          if (!dataTable) return;\n",
              "\n",
              "          const docLinkHtml = 'Like what you see? Visit the ' +\n",
              "            '<a target=\"_blank\" href=https://colab.research.google.com/notebooks/data_table.ipynb>data table notebook</a>'\n",
              "            + ' to learn more about interactive tables.';\n",
              "          element.innerHTML = '';\n",
              "          dataTable['output_type'] = 'display_data';\n",
              "          await google.colab.output.renderOutput(dataTable, element);\n",
              "          const docLink = document.createElement('div');\n",
              "          docLink.innerHTML = docLinkHtml;\n",
              "          element.appendChild(docLink);\n",
              "        }\n",
              "      </script>\n",
              "    </div>\n",
              "  </div>\n",
              "  "
            ]
          },
          "metadata": {},
          "execution_count": 129
        }
      ]
    },
    {
      "cell_type": "code",
      "source": [
        "df_level.tail(10)"
      ],
      "metadata": {
        "id": "vv-k3ImGNrz8",
        "outputId": "16d7c7cd-d1dd-46c7-e0b3-e7ef1fa8b464",
        "colab": {
          "base_uri": "https://localhost:8080/",
          "height": 363
        }
      },
      "execution_count": 130,
      "outputs": [
        {
          "output_type": "execute_result",
          "data": {
            "text/plain": [
              "    市区町村名      町名     町丁目        最寄りの小学校  小学校(最近傍距離)  小学校のレーティング  小学校スコア\n",
              "894   板橋区     清水町     清水町    板橋区立志村第三小学校       0.324         2.7    0.30\n",
              "895  江戸川区      松本   松本２丁目     江戸川区立鹿本小学校       0.327         3.0    0.22\n",
              "896   大田区     平和島  平和島４丁目    大田区立大森第五小学校       0.471         2.8    0.21\n",
              "897   板橋区     蓮沼町     蓮沼町    板橋区立志村第三小学校       0.402         2.7    0.16\n",
              "898   葛飾区    水元公園    水元公園     葛飾区立東水元小学校       0.372         2.4    0.13\n",
              "899   練馬区  上石神井南町  上石神井南町    杉並区立桃井第四小学校       0.710         3.1    0.13\n",
              "900  江戸川区    二之江町    二之江町  江戸川区立二之江第二小学校       0.396         3.0    0.12\n",
              "901   練馬区    西大泉町    西大泉町     練馬区立大泉西小学校       0.479         2.6    0.11\n",
              "902  江戸川区     興宮町     興宮町  江戸川区立下小岩第二小学校       0.380         1.5    0.04\n",
              "903  江戸川区    一之江町    一之江町   江戸川区立船堀第二小学校       0.481         3.0    0.04"
            ],
            "text/html": [
              "\n",
              "  <div id=\"df-d536931c-569c-4195-8ad4-4551e87889cc\">\n",
              "    <div class=\"colab-df-container\">\n",
              "      <div>\n",
              "<style scoped>\n",
              "    .dataframe tbody tr th:only-of-type {\n",
              "        vertical-align: middle;\n",
              "    }\n",
              "\n",
              "    .dataframe tbody tr th {\n",
              "        vertical-align: top;\n",
              "    }\n",
              "\n",
              "    .dataframe thead th {\n",
              "        text-align: right;\n",
              "    }\n",
              "</style>\n",
              "<table border=\"1\" class=\"dataframe\">\n",
              "  <thead>\n",
              "    <tr style=\"text-align: right;\">\n",
              "      <th></th>\n",
              "      <th>市区町村名</th>\n",
              "      <th>町名</th>\n",
              "      <th>町丁目</th>\n",
              "      <th>最寄りの小学校</th>\n",
              "      <th>小学校(最近傍距離)</th>\n",
              "      <th>小学校のレーティング</th>\n",
              "      <th>小学校スコア</th>\n",
              "    </tr>\n",
              "  </thead>\n",
              "  <tbody>\n",
              "    <tr>\n",
              "      <th>894</th>\n",
              "      <td>板橋区</td>\n",
              "      <td>清水町</td>\n",
              "      <td>清水町</td>\n",
              "      <td>板橋区立志村第三小学校</td>\n",
              "      <td>0.324</td>\n",
              "      <td>2.7</td>\n",
              "      <td>0.30</td>\n",
              "    </tr>\n",
              "    <tr>\n",
              "      <th>895</th>\n",
              "      <td>江戸川区</td>\n",
              "      <td>松本</td>\n",
              "      <td>松本２丁目</td>\n",
              "      <td>江戸川区立鹿本小学校</td>\n",
              "      <td>0.327</td>\n",
              "      <td>3.0</td>\n",
              "      <td>0.22</td>\n",
              "    </tr>\n",
              "    <tr>\n",
              "      <th>896</th>\n",
              "      <td>大田区</td>\n",
              "      <td>平和島</td>\n",
              "      <td>平和島４丁目</td>\n",
              "      <td>大田区立大森第五小学校</td>\n",
              "      <td>0.471</td>\n",
              "      <td>2.8</td>\n",
              "      <td>0.21</td>\n",
              "    </tr>\n",
              "    <tr>\n",
              "      <th>897</th>\n",
              "      <td>板橋区</td>\n",
              "      <td>蓮沼町</td>\n",
              "      <td>蓮沼町</td>\n",
              "      <td>板橋区立志村第三小学校</td>\n",
              "      <td>0.402</td>\n",
              "      <td>2.7</td>\n",
              "      <td>0.16</td>\n",
              "    </tr>\n",
              "    <tr>\n",
              "      <th>898</th>\n",
              "      <td>葛飾区</td>\n",
              "      <td>水元公園</td>\n",
              "      <td>水元公園</td>\n",
              "      <td>葛飾区立東水元小学校</td>\n",
              "      <td>0.372</td>\n",
              "      <td>2.4</td>\n",
              "      <td>0.13</td>\n",
              "    </tr>\n",
              "    <tr>\n",
              "      <th>899</th>\n",
              "      <td>練馬区</td>\n",
              "      <td>上石神井南町</td>\n",
              "      <td>上石神井南町</td>\n",
              "      <td>杉並区立桃井第四小学校</td>\n",
              "      <td>0.710</td>\n",
              "      <td>3.1</td>\n",
              "      <td>0.13</td>\n",
              "    </tr>\n",
              "    <tr>\n",
              "      <th>900</th>\n",
              "      <td>江戸川区</td>\n",
              "      <td>二之江町</td>\n",
              "      <td>二之江町</td>\n",
              "      <td>江戸川区立二之江第二小学校</td>\n",
              "      <td>0.396</td>\n",
              "      <td>3.0</td>\n",
              "      <td>0.12</td>\n",
              "    </tr>\n",
              "    <tr>\n",
              "      <th>901</th>\n",
              "      <td>練馬区</td>\n",
              "      <td>西大泉町</td>\n",
              "      <td>西大泉町</td>\n",
              "      <td>練馬区立大泉西小学校</td>\n",
              "      <td>0.479</td>\n",
              "      <td>2.6</td>\n",
              "      <td>0.11</td>\n",
              "    </tr>\n",
              "    <tr>\n",
              "      <th>902</th>\n",
              "      <td>江戸川区</td>\n",
              "      <td>興宮町</td>\n",
              "      <td>興宮町</td>\n",
              "      <td>江戸川区立下小岩第二小学校</td>\n",
              "      <td>0.380</td>\n",
              "      <td>1.5</td>\n",
              "      <td>0.04</td>\n",
              "    </tr>\n",
              "    <tr>\n",
              "      <th>903</th>\n",
              "      <td>江戸川区</td>\n",
              "      <td>一之江町</td>\n",
              "      <td>一之江町</td>\n",
              "      <td>江戸川区立船堀第二小学校</td>\n",
              "      <td>0.481</td>\n",
              "      <td>3.0</td>\n",
              "      <td>0.04</td>\n",
              "    </tr>\n",
              "  </tbody>\n",
              "</table>\n",
              "</div>\n",
              "      <button class=\"colab-df-convert\" onclick=\"convertToInteractive('df-d536931c-569c-4195-8ad4-4551e87889cc')\"\n",
              "              title=\"Convert this dataframe to an interactive table.\"\n",
              "              style=\"display:none;\">\n",
              "        \n",
              "  <svg xmlns=\"http://www.w3.org/2000/svg\" height=\"24px\"viewBox=\"0 0 24 24\"\n",
              "       width=\"24px\">\n",
              "    <path d=\"M0 0h24v24H0V0z\" fill=\"none\"/>\n",
              "    <path d=\"M18.56 5.44l.94 2.06.94-2.06 2.06-.94-2.06-.94-.94-2.06-.94 2.06-2.06.94zm-11 1L8.5 8.5l.94-2.06 2.06-.94-2.06-.94L8.5 2.5l-.94 2.06-2.06.94zm10 10l.94 2.06.94-2.06 2.06-.94-2.06-.94-.94-2.06-.94 2.06-2.06.94z\"/><path d=\"M17.41 7.96l-1.37-1.37c-.4-.4-.92-.59-1.43-.59-.52 0-1.04.2-1.43.59L10.3 9.45l-7.72 7.72c-.78.78-.78 2.05 0 2.83L4 21.41c.39.39.9.59 1.41.59.51 0 1.02-.2 1.41-.59l7.78-7.78 2.81-2.81c.8-.78.8-2.07 0-2.86zM5.41 20L4 18.59l7.72-7.72 1.47 1.35L5.41 20z\"/>\n",
              "  </svg>\n",
              "      </button>\n",
              "      \n",
              "  <style>\n",
              "    .colab-df-container {\n",
              "      display:flex;\n",
              "      flex-wrap:wrap;\n",
              "      gap: 12px;\n",
              "    }\n",
              "\n",
              "    .colab-df-convert {\n",
              "      background-color: #E8F0FE;\n",
              "      border: none;\n",
              "      border-radius: 50%;\n",
              "      cursor: pointer;\n",
              "      display: none;\n",
              "      fill: #1967D2;\n",
              "      height: 32px;\n",
              "      padding: 0 0 0 0;\n",
              "      width: 32px;\n",
              "    }\n",
              "\n",
              "    .colab-df-convert:hover {\n",
              "      background-color: #E2EBFA;\n",
              "      box-shadow: 0px 1px 2px rgba(60, 64, 67, 0.3), 0px 1px 3px 1px rgba(60, 64, 67, 0.15);\n",
              "      fill: #174EA6;\n",
              "    }\n",
              "\n",
              "    [theme=dark] .colab-df-convert {\n",
              "      background-color: #3B4455;\n",
              "      fill: #D2E3FC;\n",
              "    }\n",
              "\n",
              "    [theme=dark] .colab-df-convert:hover {\n",
              "      background-color: #434B5C;\n",
              "      box-shadow: 0px 1px 3px 1px rgba(0, 0, 0, 0.15);\n",
              "      filter: drop-shadow(0px 1px 2px rgba(0, 0, 0, 0.3));\n",
              "      fill: #FFFFFF;\n",
              "    }\n",
              "  </style>\n",
              "\n",
              "      <script>\n",
              "        const buttonEl =\n",
              "          document.querySelector('#df-d536931c-569c-4195-8ad4-4551e87889cc button.colab-df-convert');\n",
              "        buttonEl.style.display =\n",
              "          google.colab.kernel.accessAllowed ? 'block' : 'none';\n",
              "\n",
              "        async function convertToInteractive(key) {\n",
              "          const element = document.querySelector('#df-d536931c-569c-4195-8ad4-4551e87889cc');\n",
              "          const dataTable =\n",
              "            await google.colab.kernel.invokeFunction('convertToInteractive',\n",
              "                                                     [key], {});\n",
              "          if (!dataTable) return;\n",
              "\n",
              "          const docLinkHtml = 'Like what you see? Visit the ' +\n",
              "            '<a target=\"_blank\" href=https://colab.research.google.com/notebooks/data_table.ipynb>data table notebook</a>'\n",
              "            + ' to learn more about interactive tables.';\n",
              "          element.innerHTML = '';\n",
              "          dataTable['output_type'] = 'display_data';\n",
              "          await google.colab.output.renderOutput(dataTable, element);\n",
              "          const docLink = document.createElement('div');\n",
              "          docLink.innerHTML = docLinkHtml;\n",
              "          element.appendChild(docLink);\n",
              "        }\n",
              "      </script>\n",
              "    </div>\n",
              "  </div>\n",
              "  "
            ]
          },
          "metadata": {},
          "execution_count": 130
        }
      ]
    },
    {
      "cell_type": "code",
      "source": [
        "df_level = get_score_top(df_geo_master, '中学校')\n",
        "print(df_level.shape)\n",
        "df_level.head(10)"
      ],
      "metadata": {
        "id": "ypC5Qyu8ODH7",
        "outputId": "a11c247e-1d89-42d4-d534-3198c051741d",
        "colab": {
          "base_uri": "https://localhost:8080/",
          "height": 380
        }
      },
      "execution_count": 131,
      "outputs": [
        {
          "output_type": "stream",
          "name": "stdout",
          "text": [
            "(906, 7)\n"
          ]
        },
        {
          "output_type": "execute_result",
          "data": {
            "text/plain": [
              "  市区町村名   町名     町丁目     最寄りの中学校  中学校(最近傍距離)  中学校のレーティング  中学校スコア\n",
              "0   文京区  小石川  小石川４丁目   文京区立茗台中学校       0.224         4.3    5.00\n",
              "1  千代田区  平河町  平河町２丁目  千代田区立麹町中学校       0.139         4.1    5.00\n",
              "2   文京区   白山   白山３丁目   文京区立第十中学校       0.379         4.2    4.99\n",
              "3    港区  西新橋  西新橋３丁目   港区立御成門中学校       0.228         4.0    4.99\n",
              "4   文京区  千駄木  千駄木５丁目   文京区立文林中学校       0.057         3.8    4.99\n",
              "5    港区  芝公園  芝公園３丁目   港区立御成門中学校       0.224         4.0    4.99\n",
              "6    港区   愛宕   愛宕２丁目   港区立御成門中学校       0.204         4.0    4.99\n",
              "7  千代田区   麹町   麹町４丁目  千代田区立麹町中学校       0.387         4.1    4.98\n",
              "8   文京区  本駒込  本駒込３丁目   文京区立第九中学校       0.289         3.9    4.98\n",
              "9    港区  虎ノ門  虎ノ門３丁目   港区立御成門中学校       0.396         4.0    4.98"
            ],
            "text/html": [
              "\n",
              "  <div id=\"df-292319f9-5d67-4928-a8a4-2ae8a3e05ef5\">\n",
              "    <div class=\"colab-df-container\">\n",
              "      <div>\n",
              "<style scoped>\n",
              "    .dataframe tbody tr th:only-of-type {\n",
              "        vertical-align: middle;\n",
              "    }\n",
              "\n",
              "    .dataframe tbody tr th {\n",
              "        vertical-align: top;\n",
              "    }\n",
              "\n",
              "    .dataframe thead th {\n",
              "        text-align: right;\n",
              "    }\n",
              "</style>\n",
              "<table border=\"1\" class=\"dataframe\">\n",
              "  <thead>\n",
              "    <tr style=\"text-align: right;\">\n",
              "      <th></th>\n",
              "      <th>市区町村名</th>\n",
              "      <th>町名</th>\n",
              "      <th>町丁目</th>\n",
              "      <th>最寄りの中学校</th>\n",
              "      <th>中学校(最近傍距離)</th>\n",
              "      <th>中学校のレーティング</th>\n",
              "      <th>中学校スコア</th>\n",
              "    </tr>\n",
              "  </thead>\n",
              "  <tbody>\n",
              "    <tr>\n",
              "      <th>0</th>\n",
              "      <td>文京区</td>\n",
              "      <td>小石川</td>\n",
              "      <td>小石川４丁目</td>\n",
              "      <td>文京区立茗台中学校</td>\n",
              "      <td>0.224</td>\n",
              "      <td>4.3</td>\n",
              "      <td>5.00</td>\n",
              "    </tr>\n",
              "    <tr>\n",
              "      <th>1</th>\n",
              "      <td>千代田区</td>\n",
              "      <td>平河町</td>\n",
              "      <td>平河町２丁目</td>\n",
              "      <td>千代田区立麹町中学校</td>\n",
              "      <td>0.139</td>\n",
              "      <td>4.1</td>\n",
              "      <td>5.00</td>\n",
              "    </tr>\n",
              "    <tr>\n",
              "      <th>2</th>\n",
              "      <td>文京区</td>\n",
              "      <td>白山</td>\n",
              "      <td>白山３丁目</td>\n",
              "      <td>文京区立第十中学校</td>\n",
              "      <td>0.379</td>\n",
              "      <td>4.2</td>\n",
              "      <td>4.99</td>\n",
              "    </tr>\n",
              "    <tr>\n",
              "      <th>3</th>\n",
              "      <td>港区</td>\n",
              "      <td>西新橋</td>\n",
              "      <td>西新橋３丁目</td>\n",
              "      <td>港区立御成門中学校</td>\n",
              "      <td>0.228</td>\n",
              "      <td>4.0</td>\n",
              "      <td>4.99</td>\n",
              "    </tr>\n",
              "    <tr>\n",
              "      <th>4</th>\n",
              "      <td>文京区</td>\n",
              "      <td>千駄木</td>\n",
              "      <td>千駄木５丁目</td>\n",
              "      <td>文京区立文林中学校</td>\n",
              "      <td>0.057</td>\n",
              "      <td>3.8</td>\n",
              "      <td>4.99</td>\n",
              "    </tr>\n",
              "    <tr>\n",
              "      <th>5</th>\n",
              "      <td>港区</td>\n",
              "      <td>芝公園</td>\n",
              "      <td>芝公園３丁目</td>\n",
              "      <td>港区立御成門中学校</td>\n",
              "      <td>0.224</td>\n",
              "      <td>4.0</td>\n",
              "      <td>4.99</td>\n",
              "    </tr>\n",
              "    <tr>\n",
              "      <th>6</th>\n",
              "      <td>港区</td>\n",
              "      <td>愛宕</td>\n",
              "      <td>愛宕２丁目</td>\n",
              "      <td>港区立御成門中学校</td>\n",
              "      <td>0.204</td>\n",
              "      <td>4.0</td>\n",
              "      <td>4.99</td>\n",
              "    </tr>\n",
              "    <tr>\n",
              "      <th>7</th>\n",
              "      <td>千代田区</td>\n",
              "      <td>麹町</td>\n",
              "      <td>麹町４丁目</td>\n",
              "      <td>千代田区立麹町中学校</td>\n",
              "      <td>0.387</td>\n",
              "      <td>4.1</td>\n",
              "      <td>4.98</td>\n",
              "    </tr>\n",
              "    <tr>\n",
              "      <th>8</th>\n",
              "      <td>文京区</td>\n",
              "      <td>本駒込</td>\n",
              "      <td>本駒込３丁目</td>\n",
              "      <td>文京区立第九中学校</td>\n",
              "      <td>0.289</td>\n",
              "      <td>3.9</td>\n",
              "      <td>4.98</td>\n",
              "    </tr>\n",
              "    <tr>\n",
              "      <th>9</th>\n",
              "      <td>港区</td>\n",
              "      <td>虎ノ門</td>\n",
              "      <td>虎ノ門３丁目</td>\n",
              "      <td>港区立御成門中学校</td>\n",
              "      <td>0.396</td>\n",
              "      <td>4.0</td>\n",
              "      <td>4.98</td>\n",
              "    </tr>\n",
              "  </tbody>\n",
              "</table>\n",
              "</div>\n",
              "      <button class=\"colab-df-convert\" onclick=\"convertToInteractive('df-292319f9-5d67-4928-a8a4-2ae8a3e05ef5')\"\n",
              "              title=\"Convert this dataframe to an interactive table.\"\n",
              "              style=\"display:none;\">\n",
              "        \n",
              "  <svg xmlns=\"http://www.w3.org/2000/svg\" height=\"24px\"viewBox=\"0 0 24 24\"\n",
              "       width=\"24px\">\n",
              "    <path d=\"M0 0h24v24H0V0z\" fill=\"none\"/>\n",
              "    <path d=\"M18.56 5.44l.94 2.06.94-2.06 2.06-.94-2.06-.94-.94-2.06-.94 2.06-2.06.94zm-11 1L8.5 8.5l.94-2.06 2.06-.94-2.06-.94L8.5 2.5l-.94 2.06-2.06.94zm10 10l.94 2.06.94-2.06 2.06-.94-2.06-.94-.94-2.06-.94 2.06-2.06.94z\"/><path d=\"M17.41 7.96l-1.37-1.37c-.4-.4-.92-.59-1.43-.59-.52 0-1.04.2-1.43.59L10.3 9.45l-7.72 7.72c-.78.78-.78 2.05 0 2.83L4 21.41c.39.39.9.59 1.41.59.51 0 1.02-.2 1.41-.59l7.78-7.78 2.81-2.81c.8-.78.8-2.07 0-2.86zM5.41 20L4 18.59l7.72-7.72 1.47 1.35L5.41 20z\"/>\n",
              "  </svg>\n",
              "      </button>\n",
              "      \n",
              "  <style>\n",
              "    .colab-df-container {\n",
              "      display:flex;\n",
              "      flex-wrap:wrap;\n",
              "      gap: 12px;\n",
              "    }\n",
              "\n",
              "    .colab-df-convert {\n",
              "      background-color: #E8F0FE;\n",
              "      border: none;\n",
              "      border-radius: 50%;\n",
              "      cursor: pointer;\n",
              "      display: none;\n",
              "      fill: #1967D2;\n",
              "      height: 32px;\n",
              "      padding: 0 0 0 0;\n",
              "      width: 32px;\n",
              "    }\n",
              "\n",
              "    .colab-df-convert:hover {\n",
              "      background-color: #E2EBFA;\n",
              "      box-shadow: 0px 1px 2px rgba(60, 64, 67, 0.3), 0px 1px 3px 1px rgba(60, 64, 67, 0.15);\n",
              "      fill: #174EA6;\n",
              "    }\n",
              "\n",
              "    [theme=dark] .colab-df-convert {\n",
              "      background-color: #3B4455;\n",
              "      fill: #D2E3FC;\n",
              "    }\n",
              "\n",
              "    [theme=dark] .colab-df-convert:hover {\n",
              "      background-color: #434B5C;\n",
              "      box-shadow: 0px 1px 3px 1px rgba(0, 0, 0, 0.15);\n",
              "      filter: drop-shadow(0px 1px 2px rgba(0, 0, 0, 0.3));\n",
              "      fill: #FFFFFF;\n",
              "    }\n",
              "  </style>\n",
              "\n",
              "      <script>\n",
              "        const buttonEl =\n",
              "          document.querySelector('#df-292319f9-5d67-4928-a8a4-2ae8a3e05ef5 button.colab-df-convert');\n",
              "        buttonEl.style.display =\n",
              "          google.colab.kernel.accessAllowed ? 'block' : 'none';\n",
              "\n",
              "        async function convertToInteractive(key) {\n",
              "          const element = document.querySelector('#df-292319f9-5d67-4928-a8a4-2ae8a3e05ef5');\n",
              "          const dataTable =\n",
              "            await google.colab.kernel.invokeFunction('convertToInteractive',\n",
              "                                                     [key], {});\n",
              "          if (!dataTable) return;\n",
              "\n",
              "          const docLinkHtml = 'Like what you see? Visit the ' +\n",
              "            '<a target=\"_blank\" href=https://colab.research.google.com/notebooks/data_table.ipynb>data table notebook</a>'\n",
              "            + ' to learn more about interactive tables.';\n",
              "          element.innerHTML = '';\n",
              "          dataTable['output_type'] = 'display_data';\n",
              "          await google.colab.output.renderOutput(dataTable, element);\n",
              "          const docLink = document.createElement('div');\n",
              "          docLink.innerHTML = docLinkHtml;\n",
              "          element.appendChild(docLink);\n",
              "        }\n",
              "      </script>\n",
              "    </div>\n",
              "  </div>\n",
              "  "
            ]
          },
          "metadata": {},
          "execution_count": 131
        }
      ]
    },
    {
      "cell_type": "code",
      "source": [
        "df_level.tail(10)"
      ],
      "metadata": {
        "id": "bkXq3oryWUHR",
        "outputId": "9c7c3be7-ca6a-45d2-88e0-f7de2b467e64",
        "colab": {
          "base_uri": "https://localhost:8080/",
          "height": 363
        }
      },
      "execution_count": 132,
      "outputs": [
        {
          "output_type": "execute_result",
          "data": {
            "text/plain": [
              "    市区町村名     町名    町丁目       最寄りの中学校  中学校(最近傍距離)  中学校のレーティング  中学校スコア\n",
              "896   練馬区      錦   錦２丁目     練馬区立北町中学校       0.943         2.8    0.21\n",
              "897   足立区     六木  六木１丁目    足立区立第十三中学校       0.902         2.9    0.20\n",
              "898   新宿区    荒木町    荒木町     新宿区立四谷中学校       0.856         2.0    0.17\n",
              "899   大田区  雪谷大塚町  雪谷大塚町    大田区立石川台中学校       0.833         2.5    0.15\n",
              "900   足立区   西伊興町   西伊興町     足立区立伊興中学校       1.023         2.9    0.15\n",
              "901   新宿区     舟町     舟町     新宿区立四谷中学校       0.928         2.0    0.14\n",
              "902  江戸川区     大杉  大杉２丁目  江戸川区立松江第四中学校       0.701         2.7    0.14\n",
              "903   新宿区    大京町    大京町     新宿区立四谷中学校       1.041         2.0    0.11\n",
              "904  江戸川区   東篠崎町   東篠崎町  江戸川区立篠崎第二中学校       0.547         2.0    0.08\n",
              "905   葛飾区   水元公園   水元公園     葛飾区立水元中学校       0.726         2.3    0.07"
            ],
            "text/html": [
              "\n",
              "  <div id=\"df-03a97220-34f5-4206-be26-1a316474cb5d\">\n",
              "    <div class=\"colab-df-container\">\n",
              "      <div>\n",
              "<style scoped>\n",
              "    .dataframe tbody tr th:only-of-type {\n",
              "        vertical-align: middle;\n",
              "    }\n",
              "\n",
              "    .dataframe tbody tr th {\n",
              "        vertical-align: top;\n",
              "    }\n",
              "\n",
              "    .dataframe thead th {\n",
              "        text-align: right;\n",
              "    }\n",
              "</style>\n",
              "<table border=\"1\" class=\"dataframe\">\n",
              "  <thead>\n",
              "    <tr style=\"text-align: right;\">\n",
              "      <th></th>\n",
              "      <th>市区町村名</th>\n",
              "      <th>町名</th>\n",
              "      <th>町丁目</th>\n",
              "      <th>最寄りの中学校</th>\n",
              "      <th>中学校(最近傍距離)</th>\n",
              "      <th>中学校のレーティング</th>\n",
              "      <th>中学校スコア</th>\n",
              "    </tr>\n",
              "  </thead>\n",
              "  <tbody>\n",
              "    <tr>\n",
              "      <th>896</th>\n",
              "      <td>練馬区</td>\n",
              "      <td>錦</td>\n",
              "      <td>錦２丁目</td>\n",
              "      <td>練馬区立北町中学校</td>\n",
              "      <td>0.943</td>\n",
              "      <td>2.8</td>\n",
              "      <td>0.21</td>\n",
              "    </tr>\n",
              "    <tr>\n",
              "      <th>897</th>\n",
              "      <td>足立区</td>\n",
              "      <td>六木</td>\n",
              "      <td>六木１丁目</td>\n",
              "      <td>足立区立第十三中学校</td>\n",
              "      <td>0.902</td>\n",
              "      <td>2.9</td>\n",
              "      <td>0.20</td>\n",
              "    </tr>\n",
              "    <tr>\n",
              "      <th>898</th>\n",
              "      <td>新宿区</td>\n",
              "      <td>荒木町</td>\n",
              "      <td>荒木町</td>\n",
              "      <td>新宿区立四谷中学校</td>\n",
              "      <td>0.856</td>\n",
              "      <td>2.0</td>\n",
              "      <td>0.17</td>\n",
              "    </tr>\n",
              "    <tr>\n",
              "      <th>899</th>\n",
              "      <td>大田区</td>\n",
              "      <td>雪谷大塚町</td>\n",
              "      <td>雪谷大塚町</td>\n",
              "      <td>大田区立石川台中学校</td>\n",
              "      <td>0.833</td>\n",
              "      <td>2.5</td>\n",
              "      <td>0.15</td>\n",
              "    </tr>\n",
              "    <tr>\n",
              "      <th>900</th>\n",
              "      <td>足立区</td>\n",
              "      <td>西伊興町</td>\n",
              "      <td>西伊興町</td>\n",
              "      <td>足立区立伊興中学校</td>\n",
              "      <td>1.023</td>\n",
              "      <td>2.9</td>\n",
              "      <td>0.15</td>\n",
              "    </tr>\n",
              "    <tr>\n",
              "      <th>901</th>\n",
              "      <td>新宿区</td>\n",
              "      <td>舟町</td>\n",
              "      <td>舟町</td>\n",
              "      <td>新宿区立四谷中学校</td>\n",
              "      <td>0.928</td>\n",
              "      <td>2.0</td>\n",
              "      <td>0.14</td>\n",
              "    </tr>\n",
              "    <tr>\n",
              "      <th>902</th>\n",
              "      <td>江戸川区</td>\n",
              "      <td>大杉</td>\n",
              "      <td>大杉２丁目</td>\n",
              "      <td>江戸川区立松江第四中学校</td>\n",
              "      <td>0.701</td>\n",
              "      <td>2.7</td>\n",
              "      <td>0.14</td>\n",
              "    </tr>\n",
              "    <tr>\n",
              "      <th>903</th>\n",
              "      <td>新宿区</td>\n",
              "      <td>大京町</td>\n",
              "      <td>大京町</td>\n",
              "      <td>新宿区立四谷中学校</td>\n",
              "      <td>1.041</td>\n",
              "      <td>2.0</td>\n",
              "      <td>0.11</td>\n",
              "    </tr>\n",
              "    <tr>\n",
              "      <th>904</th>\n",
              "      <td>江戸川区</td>\n",
              "      <td>東篠崎町</td>\n",
              "      <td>東篠崎町</td>\n",
              "      <td>江戸川区立篠崎第二中学校</td>\n",
              "      <td>0.547</td>\n",
              "      <td>2.0</td>\n",
              "      <td>0.08</td>\n",
              "    </tr>\n",
              "    <tr>\n",
              "      <th>905</th>\n",
              "      <td>葛飾区</td>\n",
              "      <td>水元公園</td>\n",
              "      <td>水元公園</td>\n",
              "      <td>葛飾区立水元中学校</td>\n",
              "      <td>0.726</td>\n",
              "      <td>2.3</td>\n",
              "      <td>0.07</td>\n",
              "    </tr>\n",
              "  </tbody>\n",
              "</table>\n",
              "</div>\n",
              "      <button class=\"colab-df-convert\" onclick=\"convertToInteractive('df-03a97220-34f5-4206-be26-1a316474cb5d')\"\n",
              "              title=\"Convert this dataframe to an interactive table.\"\n",
              "              style=\"display:none;\">\n",
              "        \n",
              "  <svg xmlns=\"http://www.w3.org/2000/svg\" height=\"24px\"viewBox=\"0 0 24 24\"\n",
              "       width=\"24px\">\n",
              "    <path d=\"M0 0h24v24H0V0z\" fill=\"none\"/>\n",
              "    <path d=\"M18.56 5.44l.94 2.06.94-2.06 2.06-.94-2.06-.94-.94-2.06-.94 2.06-2.06.94zm-11 1L8.5 8.5l.94-2.06 2.06-.94-2.06-.94L8.5 2.5l-.94 2.06-2.06.94zm10 10l.94 2.06.94-2.06 2.06-.94-2.06-.94-.94-2.06-.94 2.06-2.06.94z\"/><path d=\"M17.41 7.96l-1.37-1.37c-.4-.4-.92-.59-1.43-.59-.52 0-1.04.2-1.43.59L10.3 9.45l-7.72 7.72c-.78.78-.78 2.05 0 2.83L4 21.41c.39.39.9.59 1.41.59.51 0 1.02-.2 1.41-.59l7.78-7.78 2.81-2.81c.8-.78.8-2.07 0-2.86zM5.41 20L4 18.59l7.72-7.72 1.47 1.35L5.41 20z\"/>\n",
              "  </svg>\n",
              "      </button>\n",
              "      \n",
              "  <style>\n",
              "    .colab-df-container {\n",
              "      display:flex;\n",
              "      flex-wrap:wrap;\n",
              "      gap: 12px;\n",
              "    }\n",
              "\n",
              "    .colab-df-convert {\n",
              "      background-color: #E8F0FE;\n",
              "      border: none;\n",
              "      border-radius: 50%;\n",
              "      cursor: pointer;\n",
              "      display: none;\n",
              "      fill: #1967D2;\n",
              "      height: 32px;\n",
              "      padding: 0 0 0 0;\n",
              "      width: 32px;\n",
              "    }\n",
              "\n",
              "    .colab-df-convert:hover {\n",
              "      background-color: #E2EBFA;\n",
              "      box-shadow: 0px 1px 2px rgba(60, 64, 67, 0.3), 0px 1px 3px 1px rgba(60, 64, 67, 0.15);\n",
              "      fill: #174EA6;\n",
              "    }\n",
              "\n",
              "    [theme=dark] .colab-df-convert {\n",
              "      background-color: #3B4455;\n",
              "      fill: #D2E3FC;\n",
              "    }\n",
              "\n",
              "    [theme=dark] .colab-df-convert:hover {\n",
              "      background-color: #434B5C;\n",
              "      box-shadow: 0px 1px 3px 1px rgba(0, 0, 0, 0.15);\n",
              "      filter: drop-shadow(0px 1px 2px rgba(0, 0, 0, 0.3));\n",
              "      fill: #FFFFFF;\n",
              "    }\n",
              "  </style>\n",
              "\n",
              "      <script>\n",
              "        const buttonEl =\n",
              "          document.querySelector('#df-03a97220-34f5-4206-be26-1a316474cb5d button.colab-df-convert');\n",
              "        buttonEl.style.display =\n",
              "          google.colab.kernel.accessAllowed ? 'block' : 'none';\n",
              "\n",
              "        async function convertToInteractive(key) {\n",
              "          const element = document.querySelector('#df-03a97220-34f5-4206-be26-1a316474cb5d');\n",
              "          const dataTable =\n",
              "            await google.colab.kernel.invokeFunction('convertToInteractive',\n",
              "                                                     [key], {});\n",
              "          if (!dataTable) return;\n",
              "\n",
              "          const docLinkHtml = 'Like what you see? Visit the ' +\n",
              "            '<a target=\"_blank\" href=https://colab.research.google.com/notebooks/data_table.ipynb>data table notebook</a>'\n",
              "            + ' to learn more about interactive tables.';\n",
              "          element.innerHTML = '';\n",
              "          dataTable['output_type'] = 'display_data';\n",
              "          await google.colab.output.renderOutput(dataTable, element);\n",
              "          const docLink = document.createElement('div');\n",
              "          docLink.innerHTML = docLinkHtml;\n",
              "          element.appendChild(docLink);\n",
              "        }\n",
              "      </script>\n",
              "    </div>\n",
              "  </div>\n",
              "  "
            ]
          },
          "metadata": {},
          "execution_count": 132
        }
      ]
    },
    {
      "cell_type": "code",
      "source": [
        "df_level = get_score_top(df_geo_master, '幼稚園')\n",
        "print(df_level.shape)\n",
        "df_level.head(10)"
      ],
      "metadata": {
        "id": "8qmUYLieWXyj",
        "outputId": "0e28caba-d543-4a1a-fdf1-89727a6bd184",
        "colab": {
          "base_uri": "https://localhost:8080/",
          "height": 380
        }
      },
      "execution_count": 133,
      "outputs": [
        {
          "output_type": "stream",
          "name": "stdout",
          "text": [
            "(902, 7)\n"
          ]
        },
        {
          "output_type": "execute_result",
          "data": {
            "text/plain": [
              "  市区町村名   町名     町丁目     最寄りの幼稚園  幼稚園(最近傍距離)  幼稚園のレーティング  幼稚園スコア\n",
              "0    港区  南麻布  南麻布３丁目    港区立本村幼稚園       0.068         5.0    5.00\n",
              "1    港区  元麻布  元麻布３丁目    港区立南山幼稚園       0.064         5.0    5.00\n",
              "2   文京区  千駄木  千駄木５丁目  文京区立千駄木幼稚園       0.145         5.0    5.00\n",
              "3    港区   三田   三田１丁目    港区立赤羽幼稚園       0.094         5.0    5.00\n",
              "4  千代田区   麹町   麹町２丁目  千代田区立麹町幼稚園       0.137         5.0    4.99\n",
              "5    港区   白金   白金３丁目    港区立三光幼稚園       0.133         5.0    4.99\n",
              "6  千代田区  六番町     六番町  千代田区立番町幼稚園       0.015         5.0    4.99\n",
              "7  千代田区  五番町     五番町  千代田区立番町幼稚園       0.234         5.0    4.98\n",
              "8    港区   高輪   高輪２丁目    港区立高輪幼稚園       0.277         5.0    4.98\n",
              "9    港区  西麻布  西麻布２丁目    港区立青南幼稚園       0.374         5.0    4.97"
            ],
            "text/html": [
              "\n",
              "  <div id=\"df-0498443a-ef24-4223-a2e9-ac06be6d3bc2\">\n",
              "    <div class=\"colab-df-container\">\n",
              "      <div>\n",
              "<style scoped>\n",
              "    .dataframe tbody tr th:only-of-type {\n",
              "        vertical-align: middle;\n",
              "    }\n",
              "\n",
              "    .dataframe tbody tr th {\n",
              "        vertical-align: top;\n",
              "    }\n",
              "\n",
              "    .dataframe thead th {\n",
              "        text-align: right;\n",
              "    }\n",
              "</style>\n",
              "<table border=\"1\" class=\"dataframe\">\n",
              "  <thead>\n",
              "    <tr style=\"text-align: right;\">\n",
              "      <th></th>\n",
              "      <th>市区町村名</th>\n",
              "      <th>町名</th>\n",
              "      <th>町丁目</th>\n",
              "      <th>最寄りの幼稚園</th>\n",
              "      <th>幼稚園(最近傍距離)</th>\n",
              "      <th>幼稚園のレーティング</th>\n",
              "      <th>幼稚園スコア</th>\n",
              "    </tr>\n",
              "  </thead>\n",
              "  <tbody>\n",
              "    <tr>\n",
              "      <th>0</th>\n",
              "      <td>港区</td>\n",
              "      <td>南麻布</td>\n",
              "      <td>南麻布３丁目</td>\n",
              "      <td>港区立本村幼稚園</td>\n",
              "      <td>0.068</td>\n",
              "      <td>5.0</td>\n",
              "      <td>5.00</td>\n",
              "    </tr>\n",
              "    <tr>\n",
              "      <th>1</th>\n",
              "      <td>港区</td>\n",
              "      <td>元麻布</td>\n",
              "      <td>元麻布３丁目</td>\n",
              "      <td>港区立南山幼稚園</td>\n",
              "      <td>0.064</td>\n",
              "      <td>5.0</td>\n",
              "      <td>5.00</td>\n",
              "    </tr>\n",
              "    <tr>\n",
              "      <th>2</th>\n",
              "      <td>文京区</td>\n",
              "      <td>千駄木</td>\n",
              "      <td>千駄木５丁目</td>\n",
              "      <td>文京区立千駄木幼稚園</td>\n",
              "      <td>0.145</td>\n",
              "      <td>5.0</td>\n",
              "      <td>5.00</td>\n",
              "    </tr>\n",
              "    <tr>\n",
              "      <th>3</th>\n",
              "      <td>港区</td>\n",
              "      <td>三田</td>\n",
              "      <td>三田１丁目</td>\n",
              "      <td>港区立赤羽幼稚園</td>\n",
              "      <td>0.094</td>\n",
              "      <td>5.0</td>\n",
              "      <td>5.00</td>\n",
              "    </tr>\n",
              "    <tr>\n",
              "      <th>4</th>\n",
              "      <td>千代田区</td>\n",
              "      <td>麹町</td>\n",
              "      <td>麹町２丁目</td>\n",
              "      <td>千代田区立麹町幼稚園</td>\n",
              "      <td>0.137</td>\n",
              "      <td>5.0</td>\n",
              "      <td>4.99</td>\n",
              "    </tr>\n",
              "    <tr>\n",
              "      <th>5</th>\n",
              "      <td>港区</td>\n",
              "      <td>白金</td>\n",
              "      <td>白金３丁目</td>\n",
              "      <td>港区立三光幼稚園</td>\n",
              "      <td>0.133</td>\n",
              "      <td>5.0</td>\n",
              "      <td>4.99</td>\n",
              "    </tr>\n",
              "    <tr>\n",
              "      <th>6</th>\n",
              "      <td>千代田区</td>\n",
              "      <td>六番町</td>\n",
              "      <td>六番町</td>\n",
              "      <td>千代田区立番町幼稚園</td>\n",
              "      <td>0.015</td>\n",
              "      <td>5.0</td>\n",
              "      <td>4.99</td>\n",
              "    </tr>\n",
              "    <tr>\n",
              "      <th>7</th>\n",
              "      <td>千代田区</td>\n",
              "      <td>五番町</td>\n",
              "      <td>五番町</td>\n",
              "      <td>千代田区立番町幼稚園</td>\n",
              "      <td>0.234</td>\n",
              "      <td>5.0</td>\n",
              "      <td>4.98</td>\n",
              "    </tr>\n",
              "    <tr>\n",
              "      <th>8</th>\n",
              "      <td>港区</td>\n",
              "      <td>高輪</td>\n",
              "      <td>高輪２丁目</td>\n",
              "      <td>港区立高輪幼稚園</td>\n",
              "      <td>0.277</td>\n",
              "      <td>5.0</td>\n",
              "      <td>4.98</td>\n",
              "    </tr>\n",
              "    <tr>\n",
              "      <th>9</th>\n",
              "      <td>港区</td>\n",
              "      <td>西麻布</td>\n",
              "      <td>西麻布２丁目</td>\n",
              "      <td>港区立青南幼稚園</td>\n",
              "      <td>0.374</td>\n",
              "      <td>5.0</td>\n",
              "      <td>4.97</td>\n",
              "    </tr>\n",
              "  </tbody>\n",
              "</table>\n",
              "</div>\n",
              "      <button class=\"colab-df-convert\" onclick=\"convertToInteractive('df-0498443a-ef24-4223-a2e9-ac06be6d3bc2')\"\n",
              "              title=\"Convert this dataframe to an interactive table.\"\n",
              "              style=\"display:none;\">\n",
              "        \n",
              "  <svg xmlns=\"http://www.w3.org/2000/svg\" height=\"24px\"viewBox=\"0 0 24 24\"\n",
              "       width=\"24px\">\n",
              "    <path d=\"M0 0h24v24H0V0z\" fill=\"none\"/>\n",
              "    <path d=\"M18.56 5.44l.94 2.06.94-2.06 2.06-.94-2.06-.94-.94-2.06-.94 2.06-2.06.94zm-11 1L8.5 8.5l.94-2.06 2.06-.94-2.06-.94L8.5 2.5l-.94 2.06-2.06.94zm10 10l.94 2.06.94-2.06 2.06-.94-2.06-.94-.94-2.06-.94 2.06-2.06.94z\"/><path d=\"M17.41 7.96l-1.37-1.37c-.4-.4-.92-.59-1.43-.59-.52 0-1.04.2-1.43.59L10.3 9.45l-7.72 7.72c-.78.78-.78 2.05 0 2.83L4 21.41c.39.39.9.59 1.41.59.51 0 1.02-.2 1.41-.59l7.78-7.78 2.81-2.81c.8-.78.8-2.07 0-2.86zM5.41 20L4 18.59l7.72-7.72 1.47 1.35L5.41 20z\"/>\n",
              "  </svg>\n",
              "      </button>\n",
              "      \n",
              "  <style>\n",
              "    .colab-df-container {\n",
              "      display:flex;\n",
              "      flex-wrap:wrap;\n",
              "      gap: 12px;\n",
              "    }\n",
              "\n",
              "    .colab-df-convert {\n",
              "      background-color: #E8F0FE;\n",
              "      border: none;\n",
              "      border-radius: 50%;\n",
              "      cursor: pointer;\n",
              "      display: none;\n",
              "      fill: #1967D2;\n",
              "      height: 32px;\n",
              "      padding: 0 0 0 0;\n",
              "      width: 32px;\n",
              "    }\n",
              "\n",
              "    .colab-df-convert:hover {\n",
              "      background-color: #E2EBFA;\n",
              "      box-shadow: 0px 1px 2px rgba(60, 64, 67, 0.3), 0px 1px 3px 1px rgba(60, 64, 67, 0.15);\n",
              "      fill: #174EA6;\n",
              "    }\n",
              "\n",
              "    [theme=dark] .colab-df-convert {\n",
              "      background-color: #3B4455;\n",
              "      fill: #D2E3FC;\n",
              "    }\n",
              "\n",
              "    [theme=dark] .colab-df-convert:hover {\n",
              "      background-color: #434B5C;\n",
              "      box-shadow: 0px 1px 3px 1px rgba(0, 0, 0, 0.15);\n",
              "      filter: drop-shadow(0px 1px 2px rgba(0, 0, 0, 0.3));\n",
              "      fill: #FFFFFF;\n",
              "    }\n",
              "  </style>\n",
              "\n",
              "      <script>\n",
              "        const buttonEl =\n",
              "          document.querySelector('#df-0498443a-ef24-4223-a2e9-ac06be6d3bc2 button.colab-df-convert');\n",
              "        buttonEl.style.display =\n",
              "          google.colab.kernel.accessAllowed ? 'block' : 'none';\n",
              "\n",
              "        async function convertToInteractive(key) {\n",
              "          const element = document.querySelector('#df-0498443a-ef24-4223-a2e9-ac06be6d3bc2');\n",
              "          const dataTable =\n",
              "            await google.colab.kernel.invokeFunction('convertToInteractive',\n",
              "                                                     [key], {});\n",
              "          if (!dataTable) return;\n",
              "\n",
              "          const docLinkHtml = 'Like what you see? Visit the ' +\n",
              "            '<a target=\"_blank\" href=https://colab.research.google.com/notebooks/data_table.ipynb>data table notebook</a>'\n",
              "            + ' to learn more about interactive tables.';\n",
              "          element.innerHTML = '';\n",
              "          dataTable['output_type'] = 'display_data';\n",
              "          await google.colab.output.renderOutput(dataTable, element);\n",
              "          const docLink = document.createElement('div');\n",
              "          docLink.innerHTML = docLinkHtml;\n",
              "          element.appendChild(docLink);\n",
              "        }\n",
              "      </script>\n",
              "    </div>\n",
              "  </div>\n",
              "  "
            ]
          },
          "metadata": {},
          "execution_count": 133
        }
      ]
    },
    {
      "cell_type": "code",
      "source": [
        "df_level.tail(10)"
      ],
      "metadata": {
        "id": "Sd1E1O3QWhBt",
        "outputId": "9b997ce3-8dc1-42dc-b56d-c86444e024d9",
        "colab": {
          "base_uri": "https://localhost:8080/",
          "height": 363
        }
      },
      "execution_count": 134,
      "outputs": [
        {
          "output_type": "execute_result",
          "data": {
            "text/plain": [
              "    市区町村名     町名     町丁目 最寄りの幼稚園  幼稚園(最近傍距離)  幼稚園のレーティング  幼稚園スコア\n",
              "892   足立区  千住龍田町   千住龍田町   足立幼稚園       0.413         1.0    0.18\n",
              "893  江戸川区    臨海町  臨海町１丁目  江戸川幼稚園       0.868         3.4    0.18\n",
              "894  江戸川区    本一色  本一色２丁目   松本幼稚園       0.736         3.1    0.15\n",
              "895   足立区     皿沼   皿沼２丁目   佐藤幼稚園       0.595         2.8    0.13\n",
              "896  江戸川区   下篠崎町    下篠崎町    暁幼稚園       0.921         3.3    0.12\n",
              "897   大田区   羽田旭町    羽田旭町  北糀谷幼稚園       1.766         2.7    0.11\n",
              "898  江戸川区    興宮町     興宮町   松本幼稚園       0.934         3.1    0.09\n",
              "899   板橋区     幸町      幸町   要町幼稚園       0.860         1.0    0.03\n",
              "900   足立区  千住橋戸町   千住橋戸町   足立幼稚園       0.791         1.0    0.01\n",
              "901   板橋区   大山西町    大山西町   要町幼稚園       1.103         1.0    0.01"
            ],
            "text/html": [
              "\n",
              "  <div id=\"df-e6b7b8db-3c1d-413d-ab8f-6ba9874106b1\">\n",
              "    <div class=\"colab-df-container\">\n",
              "      <div>\n",
              "<style scoped>\n",
              "    .dataframe tbody tr th:only-of-type {\n",
              "        vertical-align: middle;\n",
              "    }\n",
              "\n",
              "    .dataframe tbody tr th {\n",
              "        vertical-align: top;\n",
              "    }\n",
              "\n",
              "    .dataframe thead th {\n",
              "        text-align: right;\n",
              "    }\n",
              "</style>\n",
              "<table border=\"1\" class=\"dataframe\">\n",
              "  <thead>\n",
              "    <tr style=\"text-align: right;\">\n",
              "      <th></th>\n",
              "      <th>市区町村名</th>\n",
              "      <th>町名</th>\n",
              "      <th>町丁目</th>\n",
              "      <th>最寄りの幼稚園</th>\n",
              "      <th>幼稚園(最近傍距離)</th>\n",
              "      <th>幼稚園のレーティング</th>\n",
              "      <th>幼稚園スコア</th>\n",
              "    </tr>\n",
              "  </thead>\n",
              "  <tbody>\n",
              "    <tr>\n",
              "      <th>892</th>\n",
              "      <td>足立区</td>\n",
              "      <td>千住龍田町</td>\n",
              "      <td>千住龍田町</td>\n",
              "      <td>足立幼稚園</td>\n",
              "      <td>0.413</td>\n",
              "      <td>1.0</td>\n",
              "      <td>0.18</td>\n",
              "    </tr>\n",
              "    <tr>\n",
              "      <th>893</th>\n",
              "      <td>江戸川区</td>\n",
              "      <td>臨海町</td>\n",
              "      <td>臨海町１丁目</td>\n",
              "      <td>江戸川幼稚園</td>\n",
              "      <td>0.868</td>\n",
              "      <td>3.4</td>\n",
              "      <td>0.18</td>\n",
              "    </tr>\n",
              "    <tr>\n",
              "      <th>894</th>\n",
              "      <td>江戸川区</td>\n",
              "      <td>本一色</td>\n",
              "      <td>本一色２丁目</td>\n",
              "      <td>松本幼稚園</td>\n",
              "      <td>0.736</td>\n",
              "      <td>3.1</td>\n",
              "      <td>0.15</td>\n",
              "    </tr>\n",
              "    <tr>\n",
              "      <th>895</th>\n",
              "      <td>足立区</td>\n",
              "      <td>皿沼</td>\n",
              "      <td>皿沼２丁目</td>\n",
              "      <td>佐藤幼稚園</td>\n",
              "      <td>0.595</td>\n",
              "      <td>2.8</td>\n",
              "      <td>0.13</td>\n",
              "    </tr>\n",
              "    <tr>\n",
              "      <th>896</th>\n",
              "      <td>江戸川区</td>\n",
              "      <td>下篠崎町</td>\n",
              "      <td>下篠崎町</td>\n",
              "      <td>暁幼稚園</td>\n",
              "      <td>0.921</td>\n",
              "      <td>3.3</td>\n",
              "      <td>0.12</td>\n",
              "    </tr>\n",
              "    <tr>\n",
              "      <th>897</th>\n",
              "      <td>大田区</td>\n",
              "      <td>羽田旭町</td>\n",
              "      <td>羽田旭町</td>\n",
              "      <td>北糀谷幼稚園</td>\n",
              "      <td>1.766</td>\n",
              "      <td>2.7</td>\n",
              "      <td>0.11</td>\n",
              "    </tr>\n",
              "    <tr>\n",
              "      <th>898</th>\n",
              "      <td>江戸川区</td>\n",
              "      <td>興宮町</td>\n",
              "      <td>興宮町</td>\n",
              "      <td>松本幼稚園</td>\n",
              "      <td>0.934</td>\n",
              "      <td>3.1</td>\n",
              "      <td>0.09</td>\n",
              "    </tr>\n",
              "    <tr>\n",
              "      <th>899</th>\n",
              "      <td>板橋区</td>\n",
              "      <td>幸町</td>\n",
              "      <td>幸町</td>\n",
              "      <td>要町幼稚園</td>\n",
              "      <td>0.860</td>\n",
              "      <td>1.0</td>\n",
              "      <td>0.03</td>\n",
              "    </tr>\n",
              "    <tr>\n",
              "      <th>900</th>\n",
              "      <td>足立区</td>\n",
              "      <td>千住橋戸町</td>\n",
              "      <td>千住橋戸町</td>\n",
              "      <td>足立幼稚園</td>\n",
              "      <td>0.791</td>\n",
              "      <td>1.0</td>\n",
              "      <td>0.01</td>\n",
              "    </tr>\n",
              "    <tr>\n",
              "      <th>901</th>\n",
              "      <td>板橋区</td>\n",
              "      <td>大山西町</td>\n",
              "      <td>大山西町</td>\n",
              "      <td>要町幼稚園</td>\n",
              "      <td>1.103</td>\n",
              "      <td>1.0</td>\n",
              "      <td>0.01</td>\n",
              "    </tr>\n",
              "  </tbody>\n",
              "</table>\n",
              "</div>\n",
              "      <button class=\"colab-df-convert\" onclick=\"convertToInteractive('df-e6b7b8db-3c1d-413d-ab8f-6ba9874106b1')\"\n",
              "              title=\"Convert this dataframe to an interactive table.\"\n",
              "              style=\"display:none;\">\n",
              "        \n",
              "  <svg xmlns=\"http://www.w3.org/2000/svg\" height=\"24px\"viewBox=\"0 0 24 24\"\n",
              "       width=\"24px\">\n",
              "    <path d=\"M0 0h24v24H0V0z\" fill=\"none\"/>\n",
              "    <path d=\"M18.56 5.44l.94 2.06.94-2.06 2.06-.94-2.06-.94-.94-2.06-.94 2.06-2.06.94zm-11 1L8.5 8.5l.94-2.06 2.06-.94-2.06-.94L8.5 2.5l-.94 2.06-2.06.94zm10 10l.94 2.06.94-2.06 2.06-.94-2.06-.94-.94-2.06-.94 2.06-2.06.94z\"/><path d=\"M17.41 7.96l-1.37-1.37c-.4-.4-.92-.59-1.43-.59-.52 0-1.04.2-1.43.59L10.3 9.45l-7.72 7.72c-.78.78-.78 2.05 0 2.83L4 21.41c.39.39.9.59 1.41.59.51 0 1.02-.2 1.41-.59l7.78-7.78 2.81-2.81c.8-.78.8-2.07 0-2.86zM5.41 20L4 18.59l7.72-7.72 1.47 1.35L5.41 20z\"/>\n",
              "  </svg>\n",
              "      </button>\n",
              "      \n",
              "  <style>\n",
              "    .colab-df-container {\n",
              "      display:flex;\n",
              "      flex-wrap:wrap;\n",
              "      gap: 12px;\n",
              "    }\n",
              "\n",
              "    .colab-df-convert {\n",
              "      background-color: #E8F0FE;\n",
              "      border: none;\n",
              "      border-radius: 50%;\n",
              "      cursor: pointer;\n",
              "      display: none;\n",
              "      fill: #1967D2;\n",
              "      height: 32px;\n",
              "      padding: 0 0 0 0;\n",
              "      width: 32px;\n",
              "    }\n",
              "\n",
              "    .colab-df-convert:hover {\n",
              "      background-color: #E2EBFA;\n",
              "      box-shadow: 0px 1px 2px rgba(60, 64, 67, 0.3), 0px 1px 3px 1px rgba(60, 64, 67, 0.15);\n",
              "      fill: #174EA6;\n",
              "    }\n",
              "\n",
              "    [theme=dark] .colab-df-convert {\n",
              "      background-color: #3B4455;\n",
              "      fill: #D2E3FC;\n",
              "    }\n",
              "\n",
              "    [theme=dark] .colab-df-convert:hover {\n",
              "      background-color: #434B5C;\n",
              "      box-shadow: 0px 1px 3px 1px rgba(0, 0, 0, 0.15);\n",
              "      filter: drop-shadow(0px 1px 2px rgba(0, 0, 0, 0.3));\n",
              "      fill: #FFFFFF;\n",
              "    }\n",
              "  </style>\n",
              "\n",
              "      <script>\n",
              "        const buttonEl =\n",
              "          document.querySelector('#df-e6b7b8db-3c1d-413d-ab8f-6ba9874106b1 button.colab-df-convert');\n",
              "        buttonEl.style.display =\n",
              "          google.colab.kernel.accessAllowed ? 'block' : 'none';\n",
              "\n",
              "        async function convertToInteractive(key) {\n",
              "          const element = document.querySelector('#df-e6b7b8db-3c1d-413d-ab8f-6ba9874106b1');\n",
              "          const dataTable =\n",
              "            await google.colab.kernel.invokeFunction('convertToInteractive',\n",
              "                                                     [key], {});\n",
              "          if (!dataTable) return;\n",
              "\n",
              "          const docLinkHtml = 'Like what you see? Visit the ' +\n",
              "            '<a target=\"_blank\" href=https://colab.research.google.com/notebooks/data_table.ipynb>data table notebook</a>'\n",
              "            + ' to learn more about interactive tables.';\n",
              "          element.innerHTML = '';\n",
              "          dataTable['output_type'] = 'display_data';\n",
              "          await google.colab.output.renderOutput(dataTable, element);\n",
              "          const docLink = document.createElement('div');\n",
              "          docLink.innerHTML = docLinkHtml;\n",
              "          element.appendChild(docLink);\n",
              "        }\n",
              "      </script>\n",
              "    </div>\n",
              "  </div>\n",
              "  "
            ]
          },
          "metadata": {},
          "execution_count": 134
        }
      ]
    },
    {
      "cell_type": "code",
      "source": [
        "df_geo_master.sort_values('学習塾スコア', ascending=False)[['市区町村名', '町名', '町丁目', '学習塾(数)', '学習塾スコア']].head(10)"
      ],
      "metadata": {
        "id": "9EityBHhWi57",
        "outputId": "f0fa1562-f639-4d74-b127-d665bf9369db",
        "colab": {
          "base_uri": "https://localhost:8080/",
          "height": 363
        }
      },
      "execution_count": 135,
      "outputs": [
        {
          "output_type": "execute_result",
          "data": {
            "text/plain": [
              "     市区町村名     町名       町丁目  学習塾(数)  学習塾スコア\n",
              "1506  世田谷区     用賀     用賀２丁目      31    5.00\n",
              "2986  江戸川区   一之江町      一之江町      36    5.00\n",
              "2795   葛飾区     立石     立石５丁目      31    5.00\n",
              "2970  江戸川区     松江     松江６丁目      32    5.00\n",
              "2092    北区    赤羽南    赤羽南２丁目      29    4.99\n",
              "2567   足立区     梅田     梅田８丁目      29    4.99\n",
              "879    江東区     大島     大島５丁目      29    4.99\n",
              "2702   足立区  西新井栄町  西新井栄町１丁目      29    4.99\n",
              "880    江東区     大島     大島６丁目      28    4.98\n",
              "1505  世田谷区     用賀     用賀１丁目      28    4.98"
            ],
            "text/html": [
              "\n",
              "  <div id=\"df-f74b7912-0921-4e39-a9d7-dcefab0aaa43\">\n",
              "    <div class=\"colab-df-container\">\n",
              "      <div>\n",
              "<style scoped>\n",
              "    .dataframe tbody tr th:only-of-type {\n",
              "        vertical-align: middle;\n",
              "    }\n",
              "\n",
              "    .dataframe tbody tr th {\n",
              "        vertical-align: top;\n",
              "    }\n",
              "\n",
              "    .dataframe thead th {\n",
              "        text-align: right;\n",
              "    }\n",
              "</style>\n",
              "<table border=\"1\" class=\"dataframe\">\n",
              "  <thead>\n",
              "    <tr style=\"text-align: right;\">\n",
              "      <th></th>\n",
              "      <th>市区町村名</th>\n",
              "      <th>町名</th>\n",
              "      <th>町丁目</th>\n",
              "      <th>学習塾(数)</th>\n",
              "      <th>学習塾スコア</th>\n",
              "    </tr>\n",
              "  </thead>\n",
              "  <tbody>\n",
              "    <tr>\n",
              "      <th>1506</th>\n",
              "      <td>世田谷区</td>\n",
              "      <td>用賀</td>\n",
              "      <td>用賀２丁目</td>\n",
              "      <td>31</td>\n",
              "      <td>5.00</td>\n",
              "    </tr>\n",
              "    <tr>\n",
              "      <th>2986</th>\n",
              "      <td>江戸川区</td>\n",
              "      <td>一之江町</td>\n",
              "      <td>一之江町</td>\n",
              "      <td>36</td>\n",
              "      <td>5.00</td>\n",
              "    </tr>\n",
              "    <tr>\n",
              "      <th>2795</th>\n",
              "      <td>葛飾区</td>\n",
              "      <td>立石</td>\n",
              "      <td>立石５丁目</td>\n",
              "      <td>31</td>\n",
              "      <td>5.00</td>\n",
              "    </tr>\n",
              "    <tr>\n",
              "      <th>2970</th>\n",
              "      <td>江戸川区</td>\n",
              "      <td>松江</td>\n",
              "      <td>松江６丁目</td>\n",
              "      <td>32</td>\n",
              "      <td>5.00</td>\n",
              "    </tr>\n",
              "    <tr>\n",
              "      <th>2092</th>\n",
              "      <td>北区</td>\n",
              "      <td>赤羽南</td>\n",
              "      <td>赤羽南２丁目</td>\n",
              "      <td>29</td>\n",
              "      <td>4.99</td>\n",
              "    </tr>\n",
              "    <tr>\n",
              "      <th>2567</th>\n",
              "      <td>足立区</td>\n",
              "      <td>梅田</td>\n",
              "      <td>梅田８丁目</td>\n",
              "      <td>29</td>\n",
              "      <td>4.99</td>\n",
              "    </tr>\n",
              "    <tr>\n",
              "      <th>879</th>\n",
              "      <td>江東区</td>\n",
              "      <td>大島</td>\n",
              "      <td>大島５丁目</td>\n",
              "      <td>29</td>\n",
              "      <td>4.99</td>\n",
              "    </tr>\n",
              "    <tr>\n",
              "      <th>2702</th>\n",
              "      <td>足立区</td>\n",
              "      <td>西新井栄町</td>\n",
              "      <td>西新井栄町１丁目</td>\n",
              "      <td>29</td>\n",
              "      <td>4.99</td>\n",
              "    </tr>\n",
              "    <tr>\n",
              "      <th>880</th>\n",
              "      <td>江東区</td>\n",
              "      <td>大島</td>\n",
              "      <td>大島６丁目</td>\n",
              "      <td>28</td>\n",
              "      <td>4.98</td>\n",
              "    </tr>\n",
              "    <tr>\n",
              "      <th>1505</th>\n",
              "      <td>世田谷区</td>\n",
              "      <td>用賀</td>\n",
              "      <td>用賀１丁目</td>\n",
              "      <td>28</td>\n",
              "      <td>4.98</td>\n",
              "    </tr>\n",
              "  </tbody>\n",
              "</table>\n",
              "</div>\n",
              "      <button class=\"colab-df-convert\" onclick=\"convertToInteractive('df-f74b7912-0921-4e39-a9d7-dcefab0aaa43')\"\n",
              "              title=\"Convert this dataframe to an interactive table.\"\n",
              "              style=\"display:none;\">\n",
              "        \n",
              "  <svg xmlns=\"http://www.w3.org/2000/svg\" height=\"24px\"viewBox=\"0 0 24 24\"\n",
              "       width=\"24px\">\n",
              "    <path d=\"M0 0h24v24H0V0z\" fill=\"none\"/>\n",
              "    <path d=\"M18.56 5.44l.94 2.06.94-2.06 2.06-.94-2.06-.94-.94-2.06-.94 2.06-2.06.94zm-11 1L8.5 8.5l.94-2.06 2.06-.94-2.06-.94L8.5 2.5l-.94 2.06-2.06.94zm10 10l.94 2.06.94-2.06 2.06-.94-2.06-.94-.94-2.06-.94 2.06-2.06.94z\"/><path d=\"M17.41 7.96l-1.37-1.37c-.4-.4-.92-.59-1.43-.59-.52 0-1.04.2-1.43.59L10.3 9.45l-7.72 7.72c-.78.78-.78 2.05 0 2.83L4 21.41c.39.39.9.59 1.41.59.51 0 1.02-.2 1.41-.59l7.78-7.78 2.81-2.81c.8-.78.8-2.07 0-2.86zM5.41 20L4 18.59l7.72-7.72 1.47 1.35L5.41 20z\"/>\n",
              "  </svg>\n",
              "      </button>\n",
              "      \n",
              "  <style>\n",
              "    .colab-df-container {\n",
              "      display:flex;\n",
              "      flex-wrap:wrap;\n",
              "      gap: 12px;\n",
              "    }\n",
              "\n",
              "    .colab-df-convert {\n",
              "      background-color: #E8F0FE;\n",
              "      border: none;\n",
              "      border-radius: 50%;\n",
              "      cursor: pointer;\n",
              "      display: none;\n",
              "      fill: #1967D2;\n",
              "      height: 32px;\n",
              "      padding: 0 0 0 0;\n",
              "      width: 32px;\n",
              "    }\n",
              "\n",
              "    .colab-df-convert:hover {\n",
              "      background-color: #E2EBFA;\n",
              "      box-shadow: 0px 1px 2px rgba(60, 64, 67, 0.3), 0px 1px 3px 1px rgba(60, 64, 67, 0.15);\n",
              "      fill: #174EA6;\n",
              "    }\n",
              "\n",
              "    [theme=dark] .colab-df-convert {\n",
              "      background-color: #3B4455;\n",
              "      fill: #D2E3FC;\n",
              "    }\n",
              "\n",
              "    [theme=dark] .colab-df-convert:hover {\n",
              "      background-color: #434B5C;\n",
              "      box-shadow: 0px 1px 3px 1px rgba(0, 0, 0, 0.15);\n",
              "      filter: drop-shadow(0px 1px 2px rgba(0, 0, 0, 0.3));\n",
              "      fill: #FFFFFF;\n",
              "    }\n",
              "  </style>\n",
              "\n",
              "      <script>\n",
              "        const buttonEl =\n",
              "          document.querySelector('#df-f74b7912-0921-4e39-a9d7-dcefab0aaa43 button.colab-df-convert');\n",
              "        buttonEl.style.display =\n",
              "          google.colab.kernel.accessAllowed ? 'block' : 'none';\n",
              "\n",
              "        async function convertToInteractive(key) {\n",
              "          const element = document.querySelector('#df-f74b7912-0921-4e39-a9d7-dcefab0aaa43');\n",
              "          const dataTable =\n",
              "            await google.colab.kernel.invokeFunction('convertToInteractive',\n",
              "                                                     [key], {});\n",
              "          if (!dataTable) return;\n",
              "\n",
              "          const docLinkHtml = 'Like what you see? Visit the ' +\n",
              "            '<a target=\"_blank\" href=https://colab.research.google.com/notebooks/data_table.ipynb>data table notebook</a>'\n",
              "            + ' to learn more about interactive tables.';\n",
              "          element.innerHTML = '';\n",
              "          dataTable['output_type'] = 'display_data';\n",
              "          await google.colab.output.renderOutput(dataTable, element);\n",
              "          const docLink = document.createElement('div');\n",
              "          docLink.innerHTML = docLinkHtml;\n",
              "          element.appendChild(docLink);\n",
              "        }\n",
              "      </script>\n",
              "    </div>\n",
              "  </div>\n",
              "  "
            ]
          },
          "metadata": {},
          "execution_count": 135
        }
      ]
    },
    {
      "cell_type": "code",
      "source": [
        "df_geo_master.sort_values('大学スコア', ascending=False)[['市区町村名', '町名', '町丁目', '大学(数)', '大学スコア']].head(10)"
      ],
      "metadata": {
        "id": "6-XUfIXdtucz",
        "outputId": "abb0a192-bd19-4f77-a978-68d68a01da37",
        "colab": {
          "base_uri": "https://localhost:8080/",
          "height": 363
        }
      },
      "execution_count": 136,
      "outputs": [
        {
          "output_type": "execute_result",
          "data": {
            "text/plain": [
              "     市区町村名     町名       町丁目  大学(数)  大学スコア\n",
              "1051   目黒区     駒場     駒場１丁目     10   5.00\n",
              "1678   渋谷区    富ケ谷    富ケ谷２丁目     10   5.00\n",
              "67    千代田区   神田錦町   神田錦町３丁目     10   5.00\n",
              "62    千代田区  神田駿河台  神田駿河台２丁目     10   5.00\n",
              "1667   渋谷区     松涛     松涛１丁目      9   4.96\n",
              "1675   渋谷区     上原     上原２丁目      9   4.96\n",
              "1666   渋谷区    神泉町       神泉町      9   4.96\n",
              "1093   目黒区    中央町    中央町１丁目      9   4.96\n",
              "49    千代田区    一ツ橋    一ツ橋２丁目      9   4.96\n",
              "61    千代田区  神田駿河台  神田駿河台１丁目      9   4.96"
            ],
            "text/html": [
              "\n",
              "  <div id=\"df-4ec81194-9a4b-4905-91d3-18a1449d9f08\">\n",
              "    <div class=\"colab-df-container\">\n",
              "      <div>\n",
              "<style scoped>\n",
              "    .dataframe tbody tr th:only-of-type {\n",
              "        vertical-align: middle;\n",
              "    }\n",
              "\n",
              "    .dataframe tbody tr th {\n",
              "        vertical-align: top;\n",
              "    }\n",
              "\n",
              "    .dataframe thead th {\n",
              "        text-align: right;\n",
              "    }\n",
              "</style>\n",
              "<table border=\"1\" class=\"dataframe\">\n",
              "  <thead>\n",
              "    <tr style=\"text-align: right;\">\n",
              "      <th></th>\n",
              "      <th>市区町村名</th>\n",
              "      <th>町名</th>\n",
              "      <th>町丁目</th>\n",
              "      <th>大学(数)</th>\n",
              "      <th>大学スコア</th>\n",
              "    </tr>\n",
              "  </thead>\n",
              "  <tbody>\n",
              "    <tr>\n",
              "      <th>1051</th>\n",
              "      <td>目黒区</td>\n",
              "      <td>駒場</td>\n",
              "      <td>駒場１丁目</td>\n",
              "      <td>10</td>\n",
              "      <td>5.00</td>\n",
              "    </tr>\n",
              "    <tr>\n",
              "      <th>1678</th>\n",
              "      <td>渋谷区</td>\n",
              "      <td>富ケ谷</td>\n",
              "      <td>富ケ谷２丁目</td>\n",
              "      <td>10</td>\n",
              "      <td>5.00</td>\n",
              "    </tr>\n",
              "    <tr>\n",
              "      <th>67</th>\n",
              "      <td>千代田区</td>\n",
              "      <td>神田錦町</td>\n",
              "      <td>神田錦町３丁目</td>\n",
              "      <td>10</td>\n",
              "      <td>5.00</td>\n",
              "    </tr>\n",
              "    <tr>\n",
              "      <th>62</th>\n",
              "      <td>千代田区</td>\n",
              "      <td>神田駿河台</td>\n",
              "      <td>神田駿河台２丁目</td>\n",
              "      <td>10</td>\n",
              "      <td>5.00</td>\n",
              "    </tr>\n",
              "    <tr>\n",
              "      <th>1667</th>\n",
              "      <td>渋谷区</td>\n",
              "      <td>松涛</td>\n",
              "      <td>松涛１丁目</td>\n",
              "      <td>9</td>\n",
              "      <td>4.96</td>\n",
              "    </tr>\n",
              "    <tr>\n",
              "      <th>1675</th>\n",
              "      <td>渋谷区</td>\n",
              "      <td>上原</td>\n",
              "      <td>上原２丁目</td>\n",
              "      <td>9</td>\n",
              "      <td>4.96</td>\n",
              "    </tr>\n",
              "    <tr>\n",
              "      <th>1666</th>\n",
              "      <td>渋谷区</td>\n",
              "      <td>神泉町</td>\n",
              "      <td>神泉町</td>\n",
              "      <td>9</td>\n",
              "      <td>4.96</td>\n",
              "    </tr>\n",
              "    <tr>\n",
              "      <th>1093</th>\n",
              "      <td>目黒区</td>\n",
              "      <td>中央町</td>\n",
              "      <td>中央町１丁目</td>\n",
              "      <td>9</td>\n",
              "      <td>4.96</td>\n",
              "    </tr>\n",
              "    <tr>\n",
              "      <th>49</th>\n",
              "      <td>千代田区</td>\n",
              "      <td>一ツ橋</td>\n",
              "      <td>一ツ橋２丁目</td>\n",
              "      <td>9</td>\n",
              "      <td>4.96</td>\n",
              "    </tr>\n",
              "    <tr>\n",
              "      <th>61</th>\n",
              "      <td>千代田区</td>\n",
              "      <td>神田駿河台</td>\n",
              "      <td>神田駿河台１丁目</td>\n",
              "      <td>9</td>\n",
              "      <td>4.96</td>\n",
              "    </tr>\n",
              "  </tbody>\n",
              "</table>\n",
              "</div>\n",
              "      <button class=\"colab-df-convert\" onclick=\"convertToInteractive('df-4ec81194-9a4b-4905-91d3-18a1449d9f08')\"\n",
              "              title=\"Convert this dataframe to an interactive table.\"\n",
              "              style=\"display:none;\">\n",
              "        \n",
              "  <svg xmlns=\"http://www.w3.org/2000/svg\" height=\"24px\"viewBox=\"0 0 24 24\"\n",
              "       width=\"24px\">\n",
              "    <path d=\"M0 0h24v24H0V0z\" fill=\"none\"/>\n",
              "    <path d=\"M18.56 5.44l.94 2.06.94-2.06 2.06-.94-2.06-.94-.94-2.06-.94 2.06-2.06.94zm-11 1L8.5 8.5l.94-2.06 2.06-.94-2.06-.94L8.5 2.5l-.94 2.06-2.06.94zm10 10l.94 2.06.94-2.06 2.06-.94-2.06-.94-.94-2.06-.94 2.06-2.06.94z\"/><path d=\"M17.41 7.96l-1.37-1.37c-.4-.4-.92-.59-1.43-.59-.52 0-1.04.2-1.43.59L10.3 9.45l-7.72 7.72c-.78.78-.78 2.05 0 2.83L4 21.41c.39.39.9.59 1.41.59.51 0 1.02-.2 1.41-.59l7.78-7.78 2.81-2.81c.8-.78.8-2.07 0-2.86zM5.41 20L4 18.59l7.72-7.72 1.47 1.35L5.41 20z\"/>\n",
              "  </svg>\n",
              "      </button>\n",
              "      \n",
              "  <style>\n",
              "    .colab-df-container {\n",
              "      display:flex;\n",
              "      flex-wrap:wrap;\n",
              "      gap: 12px;\n",
              "    }\n",
              "\n",
              "    .colab-df-convert {\n",
              "      background-color: #E8F0FE;\n",
              "      border: none;\n",
              "      border-radius: 50%;\n",
              "      cursor: pointer;\n",
              "      display: none;\n",
              "      fill: #1967D2;\n",
              "      height: 32px;\n",
              "      padding: 0 0 0 0;\n",
              "      width: 32px;\n",
              "    }\n",
              "\n",
              "    .colab-df-convert:hover {\n",
              "      background-color: #E2EBFA;\n",
              "      box-shadow: 0px 1px 2px rgba(60, 64, 67, 0.3), 0px 1px 3px 1px rgba(60, 64, 67, 0.15);\n",
              "      fill: #174EA6;\n",
              "    }\n",
              "\n",
              "    [theme=dark] .colab-df-convert {\n",
              "      background-color: #3B4455;\n",
              "      fill: #D2E3FC;\n",
              "    }\n",
              "\n",
              "    [theme=dark] .colab-df-convert:hover {\n",
              "      background-color: #434B5C;\n",
              "      box-shadow: 0px 1px 3px 1px rgba(0, 0, 0, 0.15);\n",
              "      filter: drop-shadow(0px 1px 2px rgba(0, 0, 0, 0.3));\n",
              "      fill: #FFFFFF;\n",
              "    }\n",
              "  </style>\n",
              "\n",
              "      <script>\n",
              "        const buttonEl =\n",
              "          document.querySelector('#df-4ec81194-9a4b-4905-91d3-18a1449d9f08 button.colab-df-convert');\n",
              "        buttonEl.style.display =\n",
              "          google.colab.kernel.accessAllowed ? 'block' : 'none';\n",
              "\n",
              "        async function convertToInteractive(key) {\n",
              "          const element = document.querySelector('#df-4ec81194-9a4b-4905-91d3-18a1449d9f08');\n",
              "          const dataTable =\n",
              "            await google.colab.kernel.invokeFunction('convertToInteractive',\n",
              "                                                     [key], {});\n",
              "          if (!dataTable) return;\n",
              "\n",
              "          const docLinkHtml = 'Like what you see? Visit the ' +\n",
              "            '<a target=\"_blank\" href=https://colab.research.google.com/notebooks/data_table.ipynb>data table notebook</a>'\n",
              "            + ' to learn more about interactive tables.';\n",
              "          element.innerHTML = '';\n",
              "          dataTable['output_type'] = 'display_data';\n",
              "          await google.colab.output.renderOutput(dataTable, element);\n",
              "          const docLink = document.createElement('div');\n",
              "          docLink.innerHTML = docLinkHtml;\n",
              "          element.appendChild(docLink);\n",
              "        }\n",
              "      </script>\n",
              "    </div>\n",
              "  </div>\n",
              "  "
            ]
          },
          "metadata": {},
          "execution_count": 136
        }
      ]
    }
  ]
}