{
  "nbformat": 4,
  "nbformat_minor": 0,
  "metadata": {
    "colab": {
      "provenance": [],
      "authorship_tag": "ABX9TyO1qZiGaZHCbxGiHQ1lr3cT",
      "include_colab_link": true
    },
    "kernelspec": {
      "name": "python3",
      "display_name": "Python 3"
    },
    "language_info": {
      "name": "python"
    }
  },
  "cells": [
    {
      "cell_type": "markdown",
      "metadata": {
        "id": "view-in-github",
        "colab_type": "text"
      },
      "source": [
        "<a href=\"https://colab.research.google.com/github/z-guard/analysis/blob/main/notebooks/famous_place_master.ipynb\" target=\"_parent\"><img src=\"https://colab.research.google.com/assets/colab-badge.svg\" alt=\"Open In Colab\"/></a>"
      ]
    },
    {
      "cell_type": "markdown",
      "source": [
        "## 名所・旧跡"
      ],
      "metadata": {
        "id": "S-4q8QYTX_vp"
      }
    },
    {
      "cell_type": "code",
      "source": [
        "!pip install -q japanize-matplotlib"
      ],
      "metadata": {
        "id": "FDcSXr132SdO"
      },
      "execution_count": 1,
      "outputs": []
    },
    {
      "cell_type": "code",
      "execution_count": 2,
      "metadata": {
        "colab": {
          "base_uri": "https://localhost:8080/"
        },
        "id": "ikI4HlF06LHB",
        "outputId": "2354144f-e215-4d63-852e-b2c8f961f2c6"
      },
      "outputs": [
        {
          "output_type": "stream",
          "name": "stdout",
          "text": [
            "Drive already mounted at /content/drive; to attempt to forcibly remount, call drive.mount(\"/content/drive\", force_remount=True).\n"
          ]
        }
      ],
      "source": [
        "from google.colab import drive\n",
        "drive.mount('/content/drive')"
      ]
    },
    {
      "cell_type": "code",
      "source": [
        "import os\n",
        "import pandas as pd\n",
        "import numpy as np\n",
        "import math\n",
        "import matplotlib.pyplot as plt\n",
        "import japanize_matplotlib\n",
        "import seaborn as sns\n",
        "\n",
        "pd.set_option('display.max_columns', 50)\n",
        "pd.set_option('display.max_rows', 100)"
      ],
      "metadata": {
        "id": "V6CZkBEQ6aLy"
      },
      "execution_count": 3,
      "outputs": []
    },
    {
      "cell_type": "code",
      "source": [
        "DIR_NAME = '/content/drive/MyDrive/z-gard/data'"
      ],
      "metadata": {
        "id": "NPSIAue86c4S"
      },
      "execution_count": 4,
      "outputs": []
    },
    {
      "cell_type": "code",
      "source": [
        "df_tourist_org = pd.read_csv(os.path.join(DIR_NAME, 'tourist_worship_nearby.csv'))\n",
        "print(df_tourist_org.shape)"
      ],
      "metadata": {
        "colab": {
          "base_uri": "https://localhost:8080/"
        },
        "id": "1Ebj8di66hBY",
        "outputId": "e658c60c-1d6a-49ce-b1ed-94f6a10ec3ea"
      },
      "execution_count": 5,
      "outputs": [
        {
          "output_type": "stream",
          "name": "stdout",
          "text": [
            "(14983, 7)\n"
          ]
        }
      ]
    },
    {
      "cell_type": "code",
      "source": [
        "df_tourist_org['types_list'] = df_tourist_org['types'].apply(lambda x: x.replace('\"', '').replace('[', '').replace(']', '').replace(\"'\", '').replace(' ', '').split(','))\n",
        "types_list = df_tourist_org['types_list'].explode()"
      ],
      "metadata": {
        "id": "YOghW7Ww6owS"
      },
      "execution_count": 6,
      "outputs": []
    },
    {
      "cell_type": "code",
      "source": [
        "types_list.value_counts().head(25)"
      ],
      "metadata": {
        "colab": {
          "base_uri": "https://localhost:8080/"
        },
        "id": "Fo3dSduF6vW9",
        "outputId": "0c50a9e9-6532-44c1-c224-8316692188fd"
      },
      "execution_count": 7,
      "outputs": [
        {
          "output_type": "execute_result",
          "data": {
            "text/plain": [
              "point_of_interest     14983\n",
              "establishment         14983\n",
              "tourist_attraction     4880\n",
              "park                   2753\n",
              "store                   840\n",
              "food                    672\n",
              "place_of_worship        625\n",
              "health                  584\n",
              "parking                 464\n",
              "restaurant              365\n",
              "museum                  304\n",
              "general_contractor      222\n",
              "transit_station         208\n",
              "school                  170\n",
              "finance                 168\n",
              "hair_care               152\n",
              "atm                     119\n",
              "real_estate_agency      118\n",
              "storage                 113\n",
              "home_goods_store        109\n",
              "cafe                     77\n",
              "laundry                  68\n",
              "doctor                   64\n",
              "beauty_salon             64\n",
              "clothing_store           63\n",
              "Name: types_list, dtype: int64"
            ]
          },
          "metadata": {},
          "execution_count": 7
        }
      ]
    },
    {
      "cell_type": "code",
      "source": [
        "df_tourist_org['施設分類'] = None"
      ],
      "metadata": {
        "id": "RZtfBXGR7iQT"
      },
      "execution_count": 8,
      "outputs": []
    },
    {
      "cell_type": "code",
      "source": [
        "df_tourist_org.loc[df_tourist_org['types_list'].apply(lambda x: 'park' in x), '施設分類'] = '公園'\n",
        "for place in ['公園', '広場', '遊園', '遊園地', '緑地']:\n",
        "    df_tourist_org.loc[df_tourist_org['name'].str.endswith(place), '施設分類'] = '公園'"
      ],
      "metadata": {
        "id": "t4_tamK67lkp"
      },
      "execution_count": 9,
      "outputs": []
    },
    {
      "cell_type": "code",
      "source": [
        "conv_worship_place = {\n",
        "    '寺': '寺',\n",
        "    '院': '寺',\n",
        "    '地蔵': '寺',\n",
        "    '観音': '寺',\n",
        "    '不動尊': '寺',\n",
        "    '仏': '寺',\n",
        "    '天': '寺',\n",
        "    '堂': '寺',\n",
        "    '神社': '神社',\n",
        "    '社': '神社',\n",
        "    '宮': '神社',\n",
        "    '稲荷': '神社',\n",
        "    '教会': '教会',\n",
        "}"
      ],
      "metadata": {
        "id": "8dpKf3qb98Wf"
      },
      "execution_count": 10,
      "outputs": []
    },
    {
      "cell_type": "code",
      "source": [
        "for worship_place in ['寺', '神社', '院', '社', '宮', '教会', '地蔵', '観音', '稲荷', '不動尊', '仏', '天', '堂']:\n",
        "    df_tourist_org.loc[\n",
        "        (df_tourist_org['施設分類'].isna()) &\n",
        "        (df_tourist_org['types_list'].apply(lambda x: 'place_of_worship' in x)) &\n",
        "        (df_tourist_org['name'].str.contains(worship_place)), '施設分類'\n",
        "    ] = conv_worship_place[worship_place]"
      ],
      "metadata": {
        "id": "0gVF9smX9Qrk"
      },
      "execution_count": 11,
      "outputs": []
    },
    {
      "cell_type": "code",
      "source": [
        "df_tourist_org.loc[\n",
        "    (df_tourist_org['施設分類'].isna()) &\n",
        "    ((df_tourist_org['types_list'].apply(lambda x: 'cemetery' in x)) |\n",
        "     (df_tourist_org['name'].str.endswith('墓')) |\n",
        "     (df_tourist_org['name'].str.endswith('墓地')) |\n",
        "     (df_tourist_org['name'].str.endswith('墓所'))\n",
        "     ), '施設分類'\n",
        "] = '墓地'"
      ],
      "metadata": {
        "id": "Ns2xUqUKCAs6"
      },
      "execution_count": 12,
      "outputs": []
    },
    {
      "cell_type": "code",
      "source": [
        "df_tourist_org.loc[\n",
        "    (df_tourist_org['施設分類'].isna()) &\n",
        "    (df_tourist_org['types_list'].apply(lambda x: 'museum' in x)), '施設分類'\n",
        "] = '美術館・博物館'"
      ],
      "metadata": {
        "id": "ikHwHbqLClzf"
      },
      "execution_count": 13,
      "outputs": []
    },
    {
      "cell_type": "code",
      "source": [
        "df_tourist_org.loc[\n",
        "    (df_tourist_org['施設分類'].isna()) &\n",
        "    (df_tourist_org['types_list'].apply(lambda x: 'tourist_attraction' in x)) &\n",
        "    ((df_tourist_org['name'].str.endswith('跡')) |\n",
        "     (df_tourist_org['name'].str.startswith('旧')) |\n",
        "     (df_tourist_org['name'].str.endswith('の地')) |\n",
        "     (df_tourist_org['name'].str.endswith('跡地')) |\n",
        "     (df_tourist_org['name'].str.endswith('屋敷')) |\n",
        "     (df_tourist_org['name'].str.contains('史跡')) |\n",
        "     (df_tourist_org['name'].str.contains('旧跡'))\n",
        "     ), '施設分類'\n",
        "] = '旧跡'"
      ],
      "metadata": {
        "id": "7Jrx4S_3DgS-"
      },
      "execution_count": 14,
      "outputs": []
    },
    {
      "cell_type": "code",
      "source": [
        "df_tourist_org.loc[\n",
        "    (df_tourist_org['施設分類'].isna()) &\n",
        "    ((df_tourist_org['name'].str.endswith('街')) |\n",
        "     (df_tourist_org['name'].str.endswith('横丁')) |\n",
        "     (df_tourist_org['name'].str.endswith('通り')) |\n",
        "     (df_tourist_org['name'].str.endswith('新道'))\n",
        "     ), '施設分類'\n",
        "] = '通り'"
      ],
      "metadata": {
        "id": "ezQXzQcIFp2B"
      },
      "execution_count": 15,
      "outputs": []
    },
    {
      "cell_type": "code",
      "source": [
        "for place in ['並木', '道', '桜']:\n",
        "    df_tourist_org.loc[\n",
        "        (df_tourist_org['施設分類'].isna()) &\n",
        "        (df_tourist_org['types_list'].apply(lambda x: 'tourist_attraction' in x)) &\n",
        "        (df_tourist_org['name'].str.endswith(place)), '施設分類'\n",
        "    ] = '並木道'"
      ],
      "metadata": {
        "id": "jHOblmYNOVdE"
      },
      "execution_count": 16,
      "outputs": []
    },
    {
      "cell_type": "code",
      "source": [
        "for place in ['坂', '橋', '古墳', '碑', '像', '湯', '池', '川']:\n",
        "    df_tourist_org.loc[\n",
        "        (df_tourist_org['施設分類'].isna()) &\n",
        "        (df_tourist_org['types_list'].apply(lambda x: 'tourist_attraction' in x)) &\n",
        "        (df_tourist_org['name'].str.endswith(place)), '施設分類'\n",
        "    ] = place"
      ],
      "metadata": {
        "id": "cN6QS3A2EY69"
      },
      "execution_count": 17,
      "outputs": []
    },
    {
      "cell_type": "code",
      "source": [
        "df_tourist_org['施設分類'].value_counts()"
      ],
      "metadata": {
        "colab": {
          "base_uri": "https://localhost:8080/"
        },
        "id": "z2g2hW_nFVOV",
        "outputId": "4dc0f696-2d45-49ee-9d38-29b4208e8fcd"
      },
      "execution_count": 18,
      "outputs": [
        {
          "output_type": "execute_result",
          "data": {
            "text/plain": [
              "公園         2866\n",
              "寺           365\n",
              "美術館・博物館     303\n",
              "旧跡          253\n",
              "神社          194\n",
              "坂           161\n",
              "橋           156\n",
              "碑           112\n",
              "通り           58\n",
              "墓地           57\n",
              "並木道          45\n",
              "像            41\n",
              "教会           24\n",
              "湯            18\n",
              "池            18\n",
              "古墳            7\n",
              "川             5\n",
              "Name: 施設分類, dtype: int64"
            ]
          },
          "metadata": {},
          "execution_count": 18
        }
      ]
    },
    {
      "cell_type": "code",
      "source": [
        "df_place_master = df_tourist_org[\n",
        "    (df_tourist_org['施設分類'].isin(['寺', '神社', '旧跡', '並木道', '橋', '墓地']))\n",
        "].rename(columns={\n",
        "    'name': '名称',\n",
        "    'vicinity': '住所',\n",
        "    'lat': '緯度',\n",
        "    'lng': '経度',\n",
        "})[[\n",
        "    '名称', '住所', '緯度', '経度', '施設分類', 'rating'\n",
        "]].reset_index(drop=True)\n",
        "print(df_place_master.shape)"
      ],
      "metadata": {
        "colab": {
          "base_uri": "https://localhost:8080/"
        },
        "id": "wHIU6zIg7BLw",
        "outputId": "3faa821a-fc4d-4327-b1ab-f607c0944378"
      },
      "execution_count": 19,
      "outputs": [
        {
          "output_type": "stream",
          "name": "stdout",
          "text": [
            "(1070, 6)\n"
          ]
        }
      ]
    },
    {
      "cell_type": "code",
      "source": [
        "df_place_master.to_csv(os.path.join(DIR_NAME, 'famous_place_master.csv'), index=False, encoding='utf-8_sig')"
      ],
      "metadata": {
        "id": "9JwvhuDA7ZOi"
      },
      "execution_count": 20,
      "outputs": []
    },
    {
      "cell_type": "markdown",
      "source": [
        "### 地理マスタ"
      ],
      "metadata": {
        "id": "j-StafYpzpiS"
      }
    },
    {
      "cell_type": "code",
      "source": [
        "df_geo_master = pd.read_csv(os.path.join(DIR_NAME, 'geocoding.csv'))[['town_id', '市区町村名', '町名', '町丁目', '緯度', '経度']]\n",
        "print(df_geo_master.shape)"
      ],
      "metadata": {
        "id": "n9SAqwRbz9XP",
        "outputId": "2dd72af5-3b97-49d9-a297-d5a44066741e",
        "colab": {
          "base_uri": "https://localhost:8080/"
        }
      },
      "execution_count": 21,
      "outputs": [
        {
          "output_type": "stream",
          "name": "stdout",
          "text": [
            "(3145, 6)\n"
          ]
        }
      ]
    },
    {
      "cell_type": "code",
      "source": [
        "# 距離計算\n",
        "def get_distance(lat1, lon1, lat2, lon2):\n",
        "    _lat1 = lat1 * math.pi / 180\n",
        "    _lon1 = lon1 * math.pi / 180\n",
        "    _lat2 = lat2 * math.pi / 180\n",
        "    _lon2 = lon2 * math.pi / 180\n",
        "    _tmp = math.cos(_lat1) * math.cos(_lat2) * math.cos(_lon2 - _lon1) + math.sin(_lat1) * math.sin(_lat2)\n",
        "    _tmp = 1 if _tmp > 1 else -1 if _tmp < -1 else _tmp\n",
        "    return 6371 * math.acos(_tmp)\n",
        "\n",
        "# 最寄り施設までの距離\n",
        "def get_value_of_nearest_facility(df_master, df_facility, category, method='min', param=3):\n",
        "    _df_cat = df_facility[df_facility['施設分類'] == category].copy()\n",
        "    cat_values = []\n",
        "    for i, (lat, lon) in enumerate(zip(df_master['緯度'].values, df_master['経度'].values)):\n",
        "        dist = _df_cat[\n",
        "            ((_df_cat['緯度'] - lat).abs() < 0.04) &    # 約4km以内\n",
        "            ((_df_cat['経度'] - lon).abs() < 0.04)      # 約4km以内\n",
        "        ].apply(lambda x: get_distance(x['緯度'], x['経度'], lat, lon), axis=1)\n",
        "        val = np.NaN\n",
        "        if len(dist) > 0:\n",
        "            if method == 'min':\n",
        "                # 最小の距離\n",
        "                val = dist.min()\n",
        "            elif method == 'count':\n",
        "                # {param}km以内の施設の数をカウント\n",
        "                val = len(dist[dist <= param])\n",
        "            elif method == 'mean':\n",
        "                # 近い{param}件の距離の平均\n",
        "                val = dist.sort_values()[:param].mean()\n",
        "        else:\n",
        "            pass # print(f'{category} not found {i}')\n",
        "        cat_values.append(val)\n",
        "    return cat_values"
      ],
      "metadata": {
        "id": "4vRGnVMDXesb"
      },
      "execution_count": 22,
      "outputs": []
    },
    {
      "cell_type": "code",
      "source": [
        "place_types = ['寺', '神社', '旧跡', '並木道', '橋', '墓地']"
      ],
      "metadata": {
        "id": "VnCpbZmz0LLi"
      },
      "execution_count": 23,
      "outputs": []
    },
    {
      "cell_type": "code",
      "source": [
        "%%time\n",
        "for place in place_types:\n",
        "    radius = 0.5\n",
        "    # 0.5km以内の施設の数\n",
        "    df_geo_master[f'{place}(数)'] = get_value_of_nearest_facility(df_geo_master, df_place_master, place, 'count', radius)"
      ],
      "metadata": {
        "id": "F9GXuAFezyC7",
        "outputId": "042fc5c3-6bce-4bc8-b35e-bfa329bdb20b",
        "colab": {
          "base_uri": "https://localhost:8080/"
        }
      },
      "execution_count": 24,
      "outputs": [
        {
          "output_type": "stream",
          "name": "stdout",
          "text": [
            "CPU times: user 46.5 s, sys: 595 ms, total: 47.1 s\n",
            "Wall time: 54 s\n"
          ]
        }
      ]
    },
    {
      "cell_type": "code",
      "source": [
        "for place in place_types:\n",
        "    df_geo_master[f'{place}(数)'] = df_geo_master[f'{place}(数)'].fillna(0).astype(int)"
      ],
      "metadata": {
        "id": "QJhMar5E1QU6"
      },
      "execution_count": 25,
      "outputs": []
    },
    {
      "cell_type": "code",
      "source": [
        "df_geo_master.head()"
      ],
      "metadata": {
        "id": "FIQfOnF11bjh",
        "outputId": "ce7d30aa-d063-43ff-e9a2-f7c39391a76f",
        "colab": {
          "base_uri": "https://localhost:8080/",
          "height": 206
        }
      },
      "execution_count": 26,
      "outputs": [
        {
          "output_type": "execute_result",
          "data": {
            "text/plain": [
              "   town_id 市区町村名   町名     町丁目         緯度          経度  寺(数)  神社(数)  旧跡(数)  \\\n",
              "0   101003  千代田区  丸の内  丸の内１丁目  35.681560  139.767201     0      0      4   \n",
              "1   101004  千代田区  丸の内  丸の内２丁目  35.680022  139.763447     0      0      5   \n",
              "2   101005  千代田区  丸の内  丸の内３丁目  35.676952  139.763476     0      0      7   \n",
              "3   101007  千代田区  大手町  大手町１丁目  35.688069  139.763929     1      0      4   \n",
              "4   101008  千代田区  大手町  大手町２丁目  35.686301  139.768087     1      0      3   \n",
              "\n",
              "   並木道(数)  橋(数)  墓地(数)  \n",
              "0       0     0      0  \n",
              "1       0     0      0  \n",
              "2       0     0      0  \n",
              "3       0     2      0  \n",
              "4       0     2      0  "
            ],
            "text/html": [
              "\n",
              "  <div id=\"df-15a934e8-8236-4275-8df7-24d2a9de97dc\">\n",
              "    <div class=\"colab-df-container\">\n",
              "      <div>\n",
              "<style scoped>\n",
              "    .dataframe tbody tr th:only-of-type {\n",
              "        vertical-align: middle;\n",
              "    }\n",
              "\n",
              "    .dataframe tbody tr th {\n",
              "        vertical-align: top;\n",
              "    }\n",
              "\n",
              "    .dataframe thead th {\n",
              "        text-align: right;\n",
              "    }\n",
              "</style>\n",
              "<table border=\"1\" class=\"dataframe\">\n",
              "  <thead>\n",
              "    <tr style=\"text-align: right;\">\n",
              "      <th></th>\n",
              "      <th>town_id</th>\n",
              "      <th>市区町村名</th>\n",
              "      <th>町名</th>\n",
              "      <th>町丁目</th>\n",
              "      <th>緯度</th>\n",
              "      <th>経度</th>\n",
              "      <th>寺(数)</th>\n",
              "      <th>神社(数)</th>\n",
              "      <th>旧跡(数)</th>\n",
              "      <th>並木道(数)</th>\n",
              "      <th>橋(数)</th>\n",
              "      <th>墓地(数)</th>\n",
              "    </tr>\n",
              "  </thead>\n",
              "  <tbody>\n",
              "    <tr>\n",
              "      <th>0</th>\n",
              "      <td>101003</td>\n",
              "      <td>千代田区</td>\n",
              "      <td>丸の内</td>\n",
              "      <td>丸の内１丁目</td>\n",
              "      <td>35.681560</td>\n",
              "      <td>139.767201</td>\n",
              "      <td>0</td>\n",
              "      <td>0</td>\n",
              "      <td>4</td>\n",
              "      <td>0</td>\n",
              "      <td>0</td>\n",
              "      <td>0</td>\n",
              "    </tr>\n",
              "    <tr>\n",
              "      <th>1</th>\n",
              "      <td>101004</td>\n",
              "      <td>千代田区</td>\n",
              "      <td>丸の内</td>\n",
              "      <td>丸の内２丁目</td>\n",
              "      <td>35.680022</td>\n",
              "      <td>139.763447</td>\n",
              "      <td>0</td>\n",
              "      <td>0</td>\n",
              "      <td>5</td>\n",
              "      <td>0</td>\n",
              "      <td>0</td>\n",
              "      <td>0</td>\n",
              "    </tr>\n",
              "    <tr>\n",
              "      <th>2</th>\n",
              "      <td>101005</td>\n",
              "      <td>千代田区</td>\n",
              "      <td>丸の内</td>\n",
              "      <td>丸の内３丁目</td>\n",
              "      <td>35.676952</td>\n",
              "      <td>139.763476</td>\n",
              "      <td>0</td>\n",
              "      <td>0</td>\n",
              "      <td>7</td>\n",
              "      <td>0</td>\n",
              "      <td>0</td>\n",
              "      <td>0</td>\n",
              "    </tr>\n",
              "    <tr>\n",
              "      <th>3</th>\n",
              "      <td>101007</td>\n",
              "      <td>千代田区</td>\n",
              "      <td>大手町</td>\n",
              "      <td>大手町１丁目</td>\n",
              "      <td>35.688069</td>\n",
              "      <td>139.763929</td>\n",
              "      <td>1</td>\n",
              "      <td>0</td>\n",
              "      <td>4</td>\n",
              "      <td>0</td>\n",
              "      <td>2</td>\n",
              "      <td>0</td>\n",
              "    </tr>\n",
              "    <tr>\n",
              "      <th>4</th>\n",
              "      <td>101008</td>\n",
              "      <td>千代田区</td>\n",
              "      <td>大手町</td>\n",
              "      <td>大手町２丁目</td>\n",
              "      <td>35.686301</td>\n",
              "      <td>139.768087</td>\n",
              "      <td>1</td>\n",
              "      <td>0</td>\n",
              "      <td>3</td>\n",
              "      <td>0</td>\n",
              "      <td>2</td>\n",
              "      <td>0</td>\n",
              "    </tr>\n",
              "  </tbody>\n",
              "</table>\n",
              "</div>\n",
              "      <button class=\"colab-df-convert\" onclick=\"convertToInteractive('df-15a934e8-8236-4275-8df7-24d2a9de97dc')\"\n",
              "              title=\"Convert this dataframe to an interactive table.\"\n",
              "              style=\"display:none;\">\n",
              "        \n",
              "  <svg xmlns=\"http://www.w3.org/2000/svg\" height=\"24px\"viewBox=\"0 0 24 24\"\n",
              "       width=\"24px\">\n",
              "    <path d=\"M0 0h24v24H0V0z\" fill=\"none\"/>\n",
              "    <path d=\"M18.56 5.44l.94 2.06.94-2.06 2.06-.94-2.06-.94-.94-2.06-.94 2.06-2.06.94zm-11 1L8.5 8.5l.94-2.06 2.06-.94-2.06-.94L8.5 2.5l-.94 2.06-2.06.94zm10 10l.94 2.06.94-2.06 2.06-.94-2.06-.94-.94-2.06-.94 2.06-2.06.94z\"/><path d=\"M17.41 7.96l-1.37-1.37c-.4-.4-.92-.59-1.43-.59-.52 0-1.04.2-1.43.59L10.3 9.45l-7.72 7.72c-.78.78-.78 2.05 0 2.83L4 21.41c.39.39.9.59 1.41.59.51 0 1.02-.2 1.41-.59l7.78-7.78 2.81-2.81c.8-.78.8-2.07 0-2.86zM5.41 20L4 18.59l7.72-7.72 1.47 1.35L5.41 20z\"/>\n",
              "  </svg>\n",
              "      </button>\n",
              "      \n",
              "  <style>\n",
              "    .colab-df-container {\n",
              "      display:flex;\n",
              "      flex-wrap:wrap;\n",
              "      gap: 12px;\n",
              "    }\n",
              "\n",
              "    .colab-df-convert {\n",
              "      background-color: #E8F0FE;\n",
              "      border: none;\n",
              "      border-radius: 50%;\n",
              "      cursor: pointer;\n",
              "      display: none;\n",
              "      fill: #1967D2;\n",
              "      height: 32px;\n",
              "      padding: 0 0 0 0;\n",
              "      width: 32px;\n",
              "    }\n",
              "\n",
              "    .colab-df-convert:hover {\n",
              "      background-color: #E2EBFA;\n",
              "      box-shadow: 0px 1px 2px rgba(60, 64, 67, 0.3), 0px 1px 3px 1px rgba(60, 64, 67, 0.15);\n",
              "      fill: #174EA6;\n",
              "    }\n",
              "\n",
              "    [theme=dark] .colab-df-convert {\n",
              "      background-color: #3B4455;\n",
              "      fill: #D2E3FC;\n",
              "    }\n",
              "\n",
              "    [theme=dark] .colab-df-convert:hover {\n",
              "      background-color: #434B5C;\n",
              "      box-shadow: 0px 1px 3px 1px rgba(0, 0, 0, 0.15);\n",
              "      filter: drop-shadow(0px 1px 2px rgba(0, 0, 0, 0.3));\n",
              "      fill: #FFFFFF;\n",
              "    }\n",
              "  </style>\n",
              "\n",
              "      <script>\n",
              "        const buttonEl =\n",
              "          document.querySelector('#df-15a934e8-8236-4275-8df7-24d2a9de97dc button.colab-df-convert');\n",
              "        buttonEl.style.display =\n",
              "          google.colab.kernel.accessAllowed ? 'block' : 'none';\n",
              "\n",
              "        async function convertToInteractive(key) {\n",
              "          const element = document.querySelector('#df-15a934e8-8236-4275-8df7-24d2a9de97dc');\n",
              "          const dataTable =\n",
              "            await google.colab.kernel.invokeFunction('convertToInteractive',\n",
              "                                                     [key], {});\n",
              "          if (!dataTable) return;\n",
              "\n",
              "          const docLinkHtml = 'Like what you see? Visit the ' +\n",
              "            '<a target=\"_blank\" href=https://colab.research.google.com/notebooks/data_table.ipynb>data table notebook</a>'\n",
              "            + ' to learn more about interactive tables.';\n",
              "          element.innerHTML = '';\n",
              "          dataTable['output_type'] = 'display_data';\n",
              "          await google.colab.output.renderOutput(dataTable, element);\n",
              "          const docLink = document.createElement('div');\n",
              "          docLink.innerHTML = docLinkHtml;\n",
              "          element.appendChild(docLink);\n",
              "        }\n",
              "      </script>\n",
              "    </div>\n",
              "  </div>\n",
              "  "
            ]
          },
          "metadata": {},
          "execution_count": 26
        }
      ]
    },
    {
      "cell_type": "code",
      "source": [
        "feature_list = [col for col in df_geo_master.columns if col.endswith(')')]"
      ],
      "metadata": {
        "id": "Sq1JnTuW3met"
      },
      "execution_count": 27,
      "outputs": []
    },
    {
      "cell_type": "code",
      "source": [
        "for feature in feature_list:\n",
        "    sns.histplot(df_geo_master[feature], bins=20)\n",
        "    plt.show()"
      ],
      "metadata": {
        "id": "9nHPPAYA1dmf",
        "outputId": "2ec7a572-377b-4e3e-e178-43d9fb3f0db7",
        "colab": {
          "base_uri": "https://localhost:8080/",
          "height": 1000
        }
      },
      "execution_count": 28,
      "outputs": [
        {
          "output_type": "display_data",
          "data": {
            "text/plain": [
              "<Figure size 432x288 with 1 Axes>"
            ],
            "image/png": "[encoded data removed]"
          },
          "metadata": {
            "needs_background": "light"
          }
        },
        {
          "output_type": "display_data",
          "data": {
            "text/plain": [
              "<Figure size 432x288 with 1 Axes>"
            ],
            "image/png": "[encoded data removed]"
          },
          "metadata": {
            "needs_background": "light"
          }
        },
        {
          "output_type": "display_data",
          "data": {
            "text/plain": [
              "<Figure size 432x288 with 1 Axes>"
            ],
            "image/png": "[encoded data removed]"
          },
          "metadata": {
            "needs_background": "light"
          }
        },
        {
          "output_type": "display_data",
          "data": {
            "text/plain": [
              "<Figure size 432x288 with 1 Axes>"
            ],
            "image/png": "[encoded data removed]"
          },
          "metadata": {
            "needs_background": "light"
          }
        },
        {
          "output_type": "display_data",
          "data": {
            "text/plain": [
              "<Figure size 432x288 with 1 Axes>"
            ],
            "image/png": "[encoded data removed]"
          },
          "metadata": {
            "needs_background": "light"
          }
        },
        {
          "output_type": "display_data",
          "data": {
            "text/plain": [
              "<Figure size 432x288 with 1 Axes>"
            ],
            "image/png": "[encoded data removed]"
          },
          "metadata": {
            "needs_background": "light"
          }
        }
      ]
    },
    {
      "cell_type": "code",
      "source": [
        "df_geo_master[['town_id'] + feature_list].to_csv(os.path.join(DIR_NAME, 'famous_place_score.csv'), index=False, encoding='utf-8_sig')"
      ],
      "metadata": {
        "id": "_Ix486d42pU2"
      },
      "execution_count": 29,
      "outputs": []
    },
    {
      "cell_type": "code",
      "source": [],
      "metadata": {
        "id": "NrFsq4vZ4AyR"
      },
      "execution_count": 29,
      "outputs": []
    }
  ]
}