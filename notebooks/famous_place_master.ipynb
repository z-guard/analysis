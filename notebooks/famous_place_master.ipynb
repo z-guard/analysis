{
  "nbformat": 4,
  "nbformat_minor": 0,
  "metadata": {
    "colab": {
      "provenance": [],
      "authorship_tag": "ABX9TyMUYPQi8K6juKgwGleUVc/5",
      "include_colab_link": true
    },
    "kernelspec": {
      "name": "python3",
      "display_name": "Python 3"
    },
    "language_info": {
      "name": "python"
    }
  },
  "cells": [
    {
      "cell_type": "markdown",
      "metadata": {
        "id": "view-in-github",
        "colab_type": "text"
      },
      "source": [
        "<a href=\"https://colab.research.google.com/github/z-guard/analysis/blob/main/notebooks/famous_place_master.ipynb\" target=\"_parent\"><img src=\"https://colab.research.google.com/assets/colab-badge.svg\" alt=\"Open In Colab\"/></a>"
      ]
    },
    {
      "cell_type": "markdown",
      "source": [
        "## 名所・旧跡"
      ],
      "metadata": {
        "id": "S-4q8QYTX_vp"
      }
    },
    {
      "cell_type": "code",
      "execution_count": 1,
      "metadata": {
        "colab": {
          "base_uri": "https://localhost:8080/"
        },
        "id": "ikI4HlF06LHB",
        "outputId": "a5564635-0914-4e35-ebeb-b27e7ef86836"
      },
      "outputs": [
        {
          "output_type": "stream",
          "name": "stdout",
          "text": [
            "Drive already mounted at /content/drive; to attempt to forcibly remount, call drive.mount(\"/content/drive\", force_remount=True).\n"
          ]
        }
      ],
      "source": [
        "from google.colab import drive\n",
        "drive.mount('/content/drive')"
      ]
    },
    {
      "cell_type": "code",
      "source": [
        "import os\n",
        "import pandas as pd\n",
        "import numpy as np\n",
        "\n",
        "pd.set_option('display.max_columns', 50)\n",
        "pd.set_option('display.max_rows', 100)"
      ],
      "metadata": {
        "id": "V6CZkBEQ6aLy"
      },
      "execution_count": 2,
      "outputs": []
    },
    {
      "cell_type": "code",
      "source": [
        "DIR_NAME = '/content/drive/MyDrive/z-gard/data'"
      ],
      "metadata": {
        "id": "NPSIAue86c4S"
      },
      "execution_count": 3,
      "outputs": []
    },
    {
      "cell_type": "code",
      "source": [
        "df_tourist_org = pd.read_csv(os.path.join(DIR_NAME, 'tourist_worship_nearby.csv'))\n",
        "print(df_tourist_org.shape)"
      ],
      "metadata": {
        "colab": {
          "base_uri": "https://localhost:8080/"
        },
        "id": "1Ebj8di66hBY",
        "outputId": "0538e6da-b2f8-4f6b-e0a6-d9f78f76bb36"
      },
      "execution_count": 4,
      "outputs": [
        {
          "output_type": "stream",
          "name": "stdout",
          "text": [
            "(14983, 7)\n"
          ]
        }
      ]
    },
    {
      "cell_type": "code",
      "source": [
        "df_tourist_org['types_list'] = df_tourist_org['types'].apply(lambda x: x.replace('\"', '').replace('[', '').replace(']', '').replace(\"'\", '').replace(' ', '').split(','))\n",
        "types_list = df_tourist_org['types_list'].explode()"
      ],
      "metadata": {
        "id": "YOghW7Ww6owS"
      },
      "execution_count": 5,
      "outputs": []
    },
    {
      "cell_type": "code",
      "source": [
        "types_list.value_counts().head(25)"
      ],
      "metadata": {
        "colab": {
          "base_uri": "https://localhost:8080/"
        },
        "id": "Fo3dSduF6vW9",
        "outputId": "95964cdb-aac1-4371-9100-1394580c742b"
      },
      "execution_count": 6,
      "outputs": [
        {
          "output_type": "execute_result",
          "data": {
            "text/plain": [
              "point_of_interest     14983\n",
              "establishment         14983\n",
              "tourist_attraction     4880\n",
              "park                   2753\n",
              "store                   840\n",
              "food                    672\n",
              "place_of_worship        625\n",
              "health                  584\n",
              "parking                 464\n",
              "restaurant              365\n",
              "museum                  304\n",
              "general_contractor      222\n",
              "transit_station         208\n",
              "school                  170\n",
              "finance                 168\n",
              "hair_care               152\n",
              "atm                     119\n",
              "real_estate_agency      118\n",
              "storage                 113\n",
              "home_goods_store        109\n",
              "cafe                     77\n",
              "laundry                  68\n",
              "doctor                   64\n",
              "beauty_salon             64\n",
              "clothing_store           63\n",
              "Name: types_list, dtype: int64"
            ]
          },
          "metadata": {},
          "execution_count": 6
        }
      ]
    },
    {
      "cell_type": "code",
      "source": [
        "df_tourist_org['施設分類'] = None"
      ],
      "metadata": {
        "id": "RZtfBXGR7iQT"
      },
      "execution_count": 7,
      "outputs": []
    },
    {
      "cell_type": "code",
      "source": [
        "df_tourist_org.loc[df_tourist_org['types_list'].apply(lambda x: 'park' in x), '施設分類'] = '公園'\n",
        "for place in ['公園', '広場', '遊園', '遊園地', '緑地']:\n",
        "    df_tourist_org.loc[df_tourist_org['name'].str.endswith(place), '施設分類'] = '公園'"
      ],
      "metadata": {
        "id": "t4_tamK67lkp"
      },
      "execution_count": 8,
      "outputs": []
    },
    {
      "cell_type": "code",
      "source": [
        "conv_worship_place = {\n",
        "    '寺': '寺',\n",
        "    '院': '寺',\n",
        "    '地蔵': '寺',\n",
        "    '観音': '寺',\n",
        "    '不動尊': '寺',\n",
        "    '仏': '寺',\n",
        "    '天': '寺',\n",
        "    '堂': '寺',\n",
        "    '神社': '神社',\n",
        "    '社': '神社',\n",
        "    '宮': '神社',\n",
        "    '稲荷': '神社',\n",
        "    '教会': '教会',\n",
        "}"
      ],
      "metadata": {
        "id": "8dpKf3qb98Wf"
      },
      "execution_count": 9,
      "outputs": []
    },
    {
      "cell_type": "code",
      "source": [
        "for worship_place in ['寺', '神社', '院', '社', '宮', '教会', '地蔵', '観音', '稲荷', '不動尊', '仏', '天', '堂']:\n",
        "    df_tourist_org.loc[\n",
        "        (df_tourist_org['施設分類'].isna()) &\n",
        "        (df_tourist_org['types_list'].apply(lambda x: 'place_of_worship' in x)) &\n",
        "        (df_tourist_org['name'].str.contains(worship_place)), '施設分類'\n",
        "    ] = conv_worship_place[worship_place]"
      ],
      "metadata": {
        "id": "0gVF9smX9Qrk"
      },
      "execution_count": 10,
      "outputs": []
    },
    {
      "cell_type": "code",
      "source": [
        "df_tourist_org.loc[\n",
        "    (df_tourist_org['施設分類'].isna()) &\n",
        "    ((df_tourist_org['types_list'].apply(lambda x: 'cemetery' in x)) |\n",
        "     (df_tourist_org['name'].str.endswith('墓')) |\n",
        "     (df_tourist_org['name'].str.endswith('墓地')) |\n",
        "     (df_tourist_org['name'].str.endswith('墓所'))\n",
        "     ), '施設分類'\n",
        "] = '墓地'"
      ],
      "metadata": {
        "id": "Ns2xUqUKCAs6"
      },
      "execution_count": 11,
      "outputs": []
    },
    {
      "cell_type": "code",
      "source": [
        "df_tourist_org.loc[\n",
        "    (df_tourist_org['施設分類'].isna()) &\n",
        "    (df_tourist_org['types_list'].apply(lambda x: 'museum' in x)), '施設分類'\n",
        "] = '美術館・博物館'"
      ],
      "metadata": {
        "id": "ikHwHbqLClzf"
      },
      "execution_count": 12,
      "outputs": []
    },
    {
      "cell_type": "code",
      "source": [
        "df_tourist_org.loc[\n",
        "    (df_tourist_org['施設分類'].isna()) &\n",
        "    (df_tourist_org['types_list'].apply(lambda x: 'tourist_attraction' in x)) &\n",
        "    ((df_tourist_org['name'].str.endswith('跡')) |\n",
        "     (df_tourist_org['name'].str.startswith('旧')) |\n",
        "     (df_tourist_org['name'].str.endswith('の地')) |\n",
        "     (df_tourist_org['name'].str.endswith('跡地')) |\n",
        "     (df_tourist_org['name'].str.endswith('屋敷')) |\n",
        "     (df_tourist_org['name'].str.contains('史跡')) |\n",
        "     (df_tourist_org['name'].str.contains('旧跡'))\n",
        "     ), '施設分類'\n",
        "] = '旧跡'"
      ],
      "metadata": {
        "id": "7Jrx4S_3DgS-"
      },
      "execution_count": 13,
      "outputs": []
    },
    {
      "cell_type": "code",
      "source": [
        "df_tourist_org.loc[\n",
        "    (df_tourist_org['施設分類'].isna()) &\n",
        "    ((df_tourist_org['name'].str.endswith('街')) |\n",
        "     (df_tourist_org['name'].str.endswith('横丁')) |\n",
        "     (df_tourist_org['name'].str.endswith('通り')) |\n",
        "     (df_tourist_org['name'].str.endswith('新道'))\n",
        "     ), '施設分類'\n",
        "] = '通り'"
      ],
      "metadata": {
        "id": "ezQXzQcIFp2B"
      },
      "execution_count": 14,
      "outputs": []
    },
    {
      "cell_type": "code",
      "source": [
        "for place in ['並木', '道', '桜']:\n",
        "    df_tourist_org.loc[\n",
        "        (df_tourist_org['施設分類'].isna()) &\n",
        "        (df_tourist_org['types_list'].apply(lambda x: 'tourist_attraction' in x)) &\n",
        "        (df_tourist_org['name'].str.endswith(place)), '施設分類'\n",
        "    ] = '並木道'"
      ],
      "metadata": {
        "id": "jHOblmYNOVdE"
      },
      "execution_count": 15,
      "outputs": []
    },
    {
      "cell_type": "code",
      "source": [
        "for place in ['坂', '橋', '古墳', '碑', '像', '湯', '池', '川']:\n",
        "    df_tourist_org.loc[\n",
        "        (df_tourist_org['施設分類'].isna()) &\n",
        "        (df_tourist_org['types_list'].apply(lambda x: 'tourist_attraction' in x)) &\n",
        "        (df_tourist_org['name'].str.endswith(place)), '施設分類'\n",
        "    ] = place"
      ],
      "metadata": {
        "id": "cN6QS3A2EY69"
      },
      "execution_count": 16,
      "outputs": []
    },
    {
      "cell_type": "code",
      "source": [
        "df_tourist_org['施設分類'].value_counts()"
      ],
      "metadata": {
        "colab": {
          "base_uri": "https://localhost:8080/"
        },
        "id": "z2g2hW_nFVOV",
        "outputId": "76dd7a7b-f404-4870-dec2-e5cd2d2b590c"
      },
      "execution_count": 17,
      "outputs": [
        {
          "output_type": "execute_result",
          "data": {
            "text/plain": [
              "公園         2866\n",
              "寺           365\n",
              "美術館・博物館     303\n",
              "旧跡          253\n",
              "神社          194\n",
              "坂           161\n",
              "橋           156\n",
              "碑           112\n",
              "通り           58\n",
              "墓地           57\n",
              "並木道          45\n",
              "像            41\n",
              "教会           24\n",
              "湯            18\n",
              "池            18\n",
              "古墳            7\n",
              "川             5\n",
              "Name: 施設分類, dtype: int64"
            ]
          },
          "metadata": {},
          "execution_count": 17
        }
      ]
    },
    {
      "cell_type": "code",
      "source": [
        "df_place_master = df_tourist_org[\n",
        "    (df_tourist_org['施設分類'].isin(['寺', '神社', '旧跡', '並木道', '橋', '墓地']))\n",
        "].rename(columns={\n",
        "    'name': '名称',\n",
        "    'vicinity': '住所',\n",
        "    'lat': '緯度',\n",
        "    'lng': '経度',\n",
        "})[[\n",
        "    '名称', '住所', '緯度', '経度', '施設分類', 'rating'\n",
        "]].reset_index(drop=True)\n",
        "print(df_place_master.shape)"
      ],
      "metadata": {
        "colab": {
          "base_uri": "https://localhost:8080/"
        },
        "id": "wHIU6zIg7BLw",
        "outputId": "0fb4864f-30b7-4a8b-f563-e1f31a4077a4"
      },
      "execution_count": 18,
      "outputs": [
        {
          "output_type": "stream",
          "name": "stdout",
          "text": [
            "(1070, 6)\n"
          ]
        }
      ]
    },
    {
      "cell_type": "code",
      "source": [
        "df_place_master.to_csv(os.path.join(DIR_NAME, 'famous_place_master.csv'), index=False, encoding='utf-8_sig')"
      ],
      "metadata": {
        "id": "9JwvhuDA7ZOi"
      },
      "execution_count": 19,
      "outputs": []
    },
    {
      "cell_type": "code",
      "source": [],
      "metadata": {
        "id": "4vRGnVMDXesb"
      },
      "execution_count": 19,
      "outputs": []
    }
  ]
}