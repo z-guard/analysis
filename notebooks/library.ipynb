{
  "nbformat": 4,
  "nbformat_minor": 0,
  "metadata": {
    "colab": {
      "provenance": [],
      "authorship_tag": "ABX9TyNtKl3n7TQRbFjCBHY8/+h/",
      "include_colab_link": true
    },
    "kernelspec": {
      "name": "python3",
      "display_name": "Python 3"
    },
    "language_info": {
      "name": "python"
    }
  },
  "cells": [
    {
      "cell_type": "markdown",
      "metadata": {
        "id": "view-in-github",
        "colab_type": "text"
      },
      "source": [
        "<a href=\"https://colab.research.google.com/github/z-guard/analysis/blob/main/notebooks/library.ipynb\" target=\"_parent\"><img src=\"https://colab.research.google.com/assets/colab-badge.svg\" alt=\"Open In Colab\"/></a>"
      ]
    },
    {
      "cell_type": "markdown",
      "source": [
        "# 図書館・書店\n",
        "- input:\n",
        "    - [図書館](https://catalog.data.metro.tokyo.lg.jp/dataset/t000021d2000000003/resource/7108f0a3-0257-424a-9722-e84999a01392)\n",
        "        - 図書館の位置\n",
        "    - various_shops_master\n",
        "        - 書店の位置\n",
        "- output:\n",
        "    - library_score.csv\n",
        "        - 図書館スコア"
      ],
      "metadata": {
        "id": "zBy6ZmZPOhfq"
      }
    },
    {
      "cell_type": "code",
      "execution_count": 1,
      "metadata": {
        "id": "cDOcy7pFOdsC"
      },
      "outputs": [],
      "source": [
        "!pip install -q japanize-matplotlib"
      ]
    },
    {
      "cell_type": "code",
      "source": [
        "from google.colab import drive\n",
        "drive.mount('/content/drive')"
      ],
      "metadata": {
        "colab": {
          "base_uri": "https://localhost:8080/"
        },
        "id": "rYTHrEAdOlBC",
        "outputId": "e0a9981e-8589-4b16-cca3-630f910c1edd"
      },
      "execution_count": 2,
      "outputs": [
        {
          "output_type": "stream",
          "name": "stdout",
          "text": [
            "Drive already mounted at /content/drive; to attempt to forcibly remount, call drive.mount(\"/content/drive\", force_remount=True).\n"
          ]
        }
      ]
    },
    {
      "cell_type": "code",
      "source": [
        "DIR_NAME = '/content/drive/MyDrive/z-gard/data'"
      ],
      "metadata": {
        "id": "mKIhoL-BOtAE"
      },
      "execution_count": 3,
      "outputs": []
    },
    {
      "cell_type": "code",
      "source": [
        "output_master_file = 'library_master.csv'\n",
        "output_score_file = 'library_score.csv'"
      ],
      "metadata": {
        "id": "mNyg0hNuJWtJ"
      },
      "execution_count": 4,
      "outputs": []
    },
    {
      "cell_type": "code",
      "source": [
        "import os\n",
        "import requests\n",
        "import json\n",
        "import pandas as pd\n",
        "import numpy as np\n",
        "from urllib.parse import urlparse\n",
        "import math\n",
        "import io\n",
        "import matplotlib.pyplot as plt\n",
        "import japanize_matplotlib\n",
        "import seaborn as sns\n",
        "\n",
        "pd.set_option('display.max_columns', 50)\n",
        "pd.set_option('display.max_rows', 100)"
      ],
      "metadata": {
        "id": "2xgbJOobOvsP"
      },
      "execution_count": 5,
      "outputs": []
    },
    {
      "cell_type": "code",
      "source": [
        "def get_data_csv_url(url, encoding='utf-8', excel=False):\n",
        "    res = requests.get(url)\n",
        "    if res.status_code == 200:\n",
        "        if not excel:\n",
        "            return pd.read_csv(io.BytesIO(res.content), encoding=encoding)\n",
        "        else:\n",
        "            return pd.read_excel(io.BytesIO(res.content))\n",
        "    else:\n",
        "        raise Exception(f'status_code: {res.status_code} ({url})')\n",
        "\n",
        "# 距離計算\n",
        "def get_distance(lat1, lon1, lat2, lon2):\n",
        "    _lat1 = lat1 * math.pi / 180\n",
        "    _lon1 = lon1 * math.pi / 180\n",
        "    _lat2 = lat2 * math.pi / 180\n",
        "    _lon2 = lon2 * math.pi / 180\n",
        "    _tmp = math.cos(_lat1) * math.cos(_lat2) * math.cos(_lon2 - _lon1) + math.sin(_lat1) * math.sin(_lat2)\n",
        "    _tmp = 1 if _tmp > 1 else -1 if _tmp < -1 else _tmp\n",
        "    return 6371 * math.acos(_tmp)\n",
        "\n",
        "# 最寄り施設までの距離\n",
        "def get_value_of_nearest_facility(df_master, df_facility, category, method='min', param=3):\n",
        "    _df_cat = df_facility[df_facility['施設分類'] == category].copy()\n",
        "    cat_values = []\n",
        "    for i, (lat, lon) in enumerate(zip(df_master['緯度'].values, df_master['経度'].values)):\n",
        "        dist = _df_cat[\n",
        "            ((_df_cat['緯度'] - lat).abs() < 0.04) &    # 約4km以内\n",
        "            ((_df_cat['経度'] - lon).abs() < 0.04)      # 約4km以内\n",
        "        ].apply(lambda x: get_distance(x['緯度'], x['経度'], lat, lon), axis=1)\n",
        "        val = np.NaN\n",
        "        if len(dist) > 0:\n",
        "            if method == 'min':\n",
        "                # 最小の距離\n",
        "                val = dist.min()\n",
        "            elif method == 'count':\n",
        "                # {param}km以内の施設の数をカウント\n",
        "                val = len(dist[dist <= param])\n",
        "            elif method == 'mean':\n",
        "                # 近い{param}件の距離の平均\n",
        "                val = dist.sort_values()[:param].mean()\n",
        "        else:\n",
        "            print(f'{category} not found {i}')\n",
        "        cat_values.append(val)\n",
        "    return cat_values"
      ],
      "metadata": {
        "id": "Q9yoYFmNRk8e"
      },
      "execution_count": 6,
      "outputs": []
    },
    {
      "cell_type": "code",
      "source": [
        "def get_distance_from_facility(longitude, latitude, df_facility):\n",
        "    return df_facility.apply(lambda x: get_distance(x['緯度'], x['経度'], longitude, latitude), axis=1)"
      ],
      "metadata": {
        "id": "DFuOYrJzc8xv"
      },
      "execution_count": 7,
      "outputs": []
    },
    {
      "cell_type": "code",
      "source": [
        "extract_columns = ['施設分類', '名称', '市区町村名', '所在地', '緯度', '経度']"
      ],
      "metadata": {
        "id": "IrPBUzhvReBs"
      },
      "execution_count": 8,
      "outputs": []
    },
    {
      "cell_type": "code",
      "source": [
        "tokyo_library_url = 'https://www.opendata.metro.tokyo.lg.jp/kyouiku/R3/skshubetu_4.csv'\n",
        "df_tokyo_library = get_data_csv_url(tokyo_library_url, encoding='shift-jis')\n",
        "print(df_tokyo_library.shape)\n",
        "\n",
        "df_tokyo_library = df_tokyo_library[df_tokyo_library['施設名'].notna()]\n",
        "df_tokyo_library = df_tokyo_library[(~df_tokyo_library['施設名'].str.contains('閉館'))&(df_tokyo_library['区市町村名'].str.endswith('区'))]\n",
        "df_tokyo_library['施設名'] = df_tokyo_library['施設名'].str.replace('＊\\?', '', regex=True).str.replace('\\?\\?', '', regex=True)\n",
        "df_tokyo_library = df_tokyo_library.rename(columns={'施設区分':'施設分類', '施設名':'名称', '区市町村名':'市区町村名'})[extract_columns].reset_index(drop=True)\n",
        "print(df_tokyo_library.shape)"
      ],
      "metadata": {
        "id": "527RgvGCDOBu",
        "outputId": "43ce2f51-2eb9-4a9c-bb49-f67965a3d698",
        "colab": {
          "base_uri": "https://localhost:8080/"
        }
      },
      "execution_count": 9,
      "outputs": [
        {
          "output_type": "stream",
          "name": "stdout",
          "text": [
            "(418, 9)\n",
            "(233, 6)\n"
          ]
        }
      ]
    },
    {
      "cell_type": "code",
      "source": [
        "plt.figure(figsize=(15, 5))\n",
        "sns.histplot(x='市区町村名', data=df_tokyo_library)\n",
        "plt.show()"
      ],
      "metadata": {
        "id": "7ElN2oPGIxhR",
        "outputId": "85b99d06-8f18-4656-b0ac-05522e7e718e",
        "colab": {
          "base_uri": "https://localhost:8080/",
          "height": 333
        }
      },
      "execution_count": 10,
      "outputs": [
        {
          "output_type": "display_data",
          "data": {
            "text/plain": [
              "<Figure size 1080x360 with 1 Axes>"
            ],
            "image/png": "[encoded data removed]"
          },
          "metadata": {
            "needs_background": "light"
          }
        }
      ]
    },
    {
      "cell_type": "markdown",
      "source": [
        "### 図書館マスタ"
      ],
      "metadata": {
        "id": "9x6VJEBUSGeh"
      }
    },
    {
      "cell_type": "code",
      "source": [
        "df_library_master = df_tokyo_library\n",
        "print(df_library_master.shape)\n",
        "df_library_master.head()"
      ],
      "metadata": {
        "id": "81JjNDiASF-3",
        "outputId": "84325cef-460d-4c49-df07-df0b59632033",
        "colab": {
          "base_uri": "https://localhost:8080/",
          "height": 224
        }
      },
      "execution_count": 11,
      "outputs": [
        {
          "output_type": "stream",
          "name": "stdout",
          "text": [
            "(233, 6)\n"
          ]
        },
        {
          "output_type": "execute_result",
          "data": {
            "text/plain": [
              "  施設分類         名称 市区町村名                      所在地         緯度          経度\n",
              "0  図書館  昌平まちかど図書館  千代田区             千代田区外神田3-4-7  35.701223  139.769873\n",
              "1  図書館  神田まちかど図書館  千代田区             千代田区神田司町2-16  35.693357  139.768304\n",
              "2  図書館     四番町図書館  千代田区                 千代田区四番町1  35.690453  139.741601\n",
              "3  図書館     千代田図書館  千代田区  千代田区九段南1-2-1千代田区役所9･10階  35.693997  139.753585\n",
              "4  図書館   日比谷図書文化館  千代田区             千代田区日比谷公園1-4  35.671872  139.754602"
            ],
            "text/html": [
              "\n",
              "  <div id=\"df-e50c6093-74f9-4e84-9ca8-f29b714f43db\">\n",
              "    <div class=\"colab-df-container\">\n",
              "      <div>\n",
              "<style scoped>\n",
              "    .dataframe tbody tr th:only-of-type {\n",
              "        vertical-align: middle;\n",
              "    }\n",
              "\n",
              "    .dataframe tbody tr th {\n",
              "        vertical-align: top;\n",
              "    }\n",
              "\n",
              "    .dataframe thead th {\n",
              "        text-align: right;\n",
              "    }\n",
              "</style>\n",
              "<table border=\"1\" class=\"dataframe\">\n",
              "  <thead>\n",
              "    <tr style=\"text-align: right;\">\n",
              "      <th></th>\n",
              "      <th>施設分類</th>\n",
              "      <th>名称</th>\n",
              "      <th>市区町村名</th>\n",
              "      <th>所在地</th>\n",
              "      <th>緯度</th>\n",
              "      <th>経度</th>\n",
              "    </tr>\n",
              "  </thead>\n",
              "  <tbody>\n",
              "    <tr>\n",
              "      <th>0</th>\n",
              "      <td>図書館</td>\n",
              "      <td>昌平まちかど図書館</td>\n",
              "      <td>千代田区</td>\n",
              "      <td>千代田区外神田3-4-7</td>\n",
              "      <td>35.701223</td>\n",
              "      <td>139.769873</td>\n",
              "    </tr>\n",
              "    <tr>\n",
              "      <th>1</th>\n",
              "      <td>図書館</td>\n",
              "      <td>神田まちかど図書館</td>\n",
              "      <td>千代田区</td>\n",
              "      <td>千代田区神田司町2-16</td>\n",
              "      <td>35.693357</td>\n",
              "      <td>139.768304</td>\n",
              "    </tr>\n",
              "    <tr>\n",
              "      <th>2</th>\n",
              "      <td>図書館</td>\n",
              "      <td>四番町図書館</td>\n",
              "      <td>千代田区</td>\n",
              "      <td>千代田区四番町1</td>\n",
              "      <td>35.690453</td>\n",
              "      <td>139.741601</td>\n",
              "    </tr>\n",
              "    <tr>\n",
              "      <th>3</th>\n",
              "      <td>図書館</td>\n",
              "      <td>千代田図書館</td>\n",
              "      <td>千代田区</td>\n",
              "      <td>千代田区九段南1-2-1千代田区役所9･10階</td>\n",
              "      <td>35.693997</td>\n",
              "      <td>139.753585</td>\n",
              "    </tr>\n",
              "    <tr>\n",
              "      <th>4</th>\n",
              "      <td>図書館</td>\n",
              "      <td>日比谷図書文化館</td>\n",
              "      <td>千代田区</td>\n",
              "      <td>千代田区日比谷公園1-4</td>\n",
              "      <td>35.671872</td>\n",
              "      <td>139.754602</td>\n",
              "    </tr>\n",
              "  </tbody>\n",
              "</table>\n",
              "</div>\n",
              "      <button class=\"colab-df-convert\" onclick=\"convertToInteractive('df-e50c6093-74f9-4e84-9ca8-f29b714f43db')\"\n",
              "              title=\"Convert this dataframe to an interactive table.\"\n",
              "              style=\"display:none;\">\n",
              "        \n",
              "  <svg xmlns=\"http://www.w3.org/2000/svg\" height=\"24px\"viewBox=\"0 0 24 24\"\n",
              "       width=\"24px\">\n",
              "    <path d=\"M0 0h24v24H0V0z\" fill=\"none\"/>\n",
              "    <path d=\"M18.56 5.44l.94 2.06.94-2.06 2.06-.94-2.06-.94-.94-2.06-.94 2.06-2.06.94zm-11 1L8.5 8.5l.94-2.06 2.06-.94-2.06-.94L8.5 2.5l-.94 2.06-2.06.94zm10 10l.94 2.06.94-2.06 2.06-.94-2.06-.94-.94-2.06-.94 2.06-2.06.94z\"/><path d=\"M17.41 7.96l-1.37-1.37c-.4-.4-.92-.59-1.43-.59-.52 0-1.04.2-1.43.59L10.3 9.45l-7.72 7.72c-.78.78-.78 2.05 0 2.83L4 21.41c.39.39.9.59 1.41.59.51 0 1.02-.2 1.41-.59l7.78-7.78 2.81-2.81c.8-.78.8-2.07 0-2.86zM5.41 20L4 18.59l7.72-7.72 1.47 1.35L5.41 20z\"/>\n",
              "  </svg>\n",
              "      </button>\n",
              "      \n",
              "  <style>\n",
              "    .colab-df-container {\n",
              "      display:flex;\n",
              "      flex-wrap:wrap;\n",
              "      gap: 12px;\n",
              "    }\n",
              "\n",
              "    .colab-df-convert {\n",
              "      background-color: #E8F0FE;\n",
              "      border: none;\n",
              "      border-radius: 50%;\n",
              "      cursor: pointer;\n",
              "      display: none;\n",
              "      fill: #1967D2;\n",
              "      height: 32px;\n",
              "      padding: 0 0 0 0;\n",
              "      width: 32px;\n",
              "    }\n",
              "\n",
              "    .colab-df-convert:hover {\n",
              "      background-color: #E2EBFA;\n",
              "      box-shadow: 0px 1px 2px rgba(60, 64, 67, 0.3), 0px 1px 3px 1px rgba(60, 64, 67, 0.15);\n",
              "      fill: #174EA6;\n",
              "    }\n",
              "\n",
              "    [theme=dark] .colab-df-convert {\n",
              "      background-color: #3B4455;\n",
              "      fill: #D2E3FC;\n",
              "    }\n",
              "\n",
              "    [theme=dark] .colab-df-convert:hover {\n",
              "      background-color: #434B5C;\n",
              "      box-shadow: 0px 1px 3px 1px rgba(0, 0, 0, 0.15);\n",
              "      filter: drop-shadow(0px 1px 2px rgba(0, 0, 0, 0.3));\n",
              "      fill: #FFFFFF;\n",
              "    }\n",
              "  </style>\n",
              "\n",
              "      <script>\n",
              "        const buttonEl =\n",
              "          document.querySelector('#df-e50c6093-74f9-4e84-9ca8-f29b714f43db button.colab-df-convert');\n",
              "        buttonEl.style.display =\n",
              "          google.colab.kernel.accessAllowed ? 'block' : 'none';\n",
              "\n",
              "        async function convertToInteractive(key) {\n",
              "          const element = document.querySelector('#df-e50c6093-74f9-4e84-9ca8-f29b714f43db');\n",
              "          const dataTable =\n",
              "            await google.colab.kernel.invokeFunction('convertToInteractive',\n",
              "                                                     [key], {});\n",
              "          if (!dataTable) return;\n",
              "\n",
              "          const docLinkHtml = 'Like what you see? Visit the ' +\n",
              "            '<a target=\"_blank\" href=https://colab.research.google.com/notebooks/data_table.ipynb>data table notebook</a>'\n",
              "            + ' to learn more about interactive tables.';\n",
              "          element.innerHTML = '';\n",
              "          dataTable['output_type'] = 'display_data';\n",
              "          await google.colab.output.renderOutput(dataTable, element);\n",
              "          const docLink = document.createElement('div');\n",
              "          docLink.innerHTML = docLinkHtml;\n",
              "          element.appendChild(docLink);\n",
              "        }\n",
              "      </script>\n",
              "    </div>\n",
              "  </div>\n",
              "  "
            ]
          },
          "metadata": {},
          "execution_count": 11
        }
      ]
    },
    {
      "cell_type": "code",
      "source": [
        "df_library_master.to_csv(os.path.join(DIR_NAME, output_master_file), index=False)"
      ],
      "metadata": {
        "id": "6fVMjfovBOVc"
      },
      "execution_count": 12,
      "outputs": []
    },
    {
      "cell_type": "markdown",
      "source": [
        "### 書店"
      ],
      "metadata": {
        "id": "7wox4iww2R-P"
      }
    },
    {
      "cell_type": "code",
      "source": [
        "df_various_store = pd.read_csv(os.path.join(DIR_NAME, 'various_shops_master.csv')).drop(columns=['住所', 'rating'])\n",
        "df_book_store = df_various_store[df_various_store['施設分類'] == '本DVD'].reset_index(drop=True)\n",
        "print(df_book_store.shape)"
      ],
      "metadata": {
        "id": "S1xQYGo-2WFr",
        "outputId": "ddc4b3a7-b2e4-421d-9333-df16e44f2dde",
        "colab": {
          "base_uri": "https://localhost:8080/"
        }
      },
      "execution_count": 13,
      "outputs": [
        {
          "output_type": "stream",
          "name": "stdout",
          "text": [
            "(913, 4)\n"
          ]
        }
      ]
    },
    {
      "cell_type": "code",
      "source": [
        "df_library_book = pd.concat([\n",
        "    df_library_master,\n",
        "    df_book_store\n",
        "]).reset_index(drop=True)\n",
        "print(df_library_book.shape)"
      ],
      "metadata": {
        "id": "N8DjVlug2j8v",
        "outputId": "f51a5b6e-5e46-4dab-ef3a-33a09d2a4d9e",
        "colab": {
          "base_uri": "https://localhost:8080/"
        }
      },
      "execution_count": 14,
      "outputs": [
        {
          "output_type": "stream",
          "name": "stdout",
          "text": [
            "(1146, 6)\n"
          ]
        }
      ]
    },
    {
      "cell_type": "markdown",
      "source": [
        "### 地理マスタ"
      ],
      "metadata": {
        "id": "jdT3_lplSwOo"
      }
    },
    {
      "cell_type": "code",
      "source": [
        "df_geo_master = pd.read_csv(os.path.join(DIR_NAME, 'geocoding.csv'))[['town_id', '市区町村名', '町名', '町丁目', '緯度', '経度']]\n",
        "print(df_geo_master.shape)"
      ],
      "metadata": {
        "colab": {
          "base_uri": "https://localhost:8080/"
        },
        "id": "mmH8g81kP2Cb",
        "outputId": "43a49e3d-0a83-453c-c721-8939bf7f92a7"
      },
      "execution_count": 15,
      "outputs": [
        {
          "output_type": "stream",
          "name": "stdout",
          "text": [
            "(3145, 6)\n"
          ]
        }
      ]
    },
    {
      "cell_type": "code",
      "source": [
        "%%time\n",
        "# 一番近い図書館の距離\n",
        "df_geo_master['図書館(最近傍距離)'] = get_value_of_nearest_facility(df_geo_master, df_library_book, '図書館', 'min')\n",
        "# 1km以内の図書館の数\n",
        "df_geo_master['図書館(数)'] = get_value_of_nearest_facility(df_geo_master, df_library_book, '図書館', 'count', 1)\n",
        "# 一番近い書店の距離\n",
        "df_geo_master['書店(最近傍距離)'] = get_value_of_nearest_facility(df_geo_master, df_library_book, '本DVD', 'min')\n",
        "# 1km以内の書店の数\n",
        "df_geo_master['書店(数)'] = get_value_of_nearest_facility(df_geo_master, df_library_book, '本DVD', 'count', 1)"
      ],
      "metadata": {
        "colab": {
          "base_uri": "https://localhost:8080/"
        },
        "id": "sn7VhpDmQJsi",
        "outputId": "49eb052b-54dc-4ab1-d4ad-de97351d2a88"
      },
      "execution_count": 16,
      "outputs": [
        {
          "output_type": "stream",
          "name": "stdout",
          "text": [
            "図書館 not found 1050\n",
            "図書館 not found 1301\n",
            "図書館 not found 1354\n",
            "図書館 not found 1357\n",
            "図書館 not found 2830\n",
            "図書館 not found 1050\n",
            "図書館 not found 1301\n",
            "図書館 not found 1354\n",
            "図書館 not found 1357\n",
            "図書館 not found 2830\n",
            "本DVD not found 1050\n",
            "本DVD not found 1354\n",
            "本DVD not found 1357\n",
            "本DVD not found 2830\n",
            "本DVD not found 1050\n",
            "本DVD not found 1354\n",
            "本DVD not found 1357\n",
            "本DVD not found 2830\n",
            "CPU times: user 48.4 s, sys: 471 ms, total: 48.9 s\n",
            "Wall time: 58 s\n"
          ]
        }
      ]
    },
    {
      "cell_type": "code",
      "source": [
        "print(df_geo_master.shape)\n",
        "df_geo_master.head()"
      ],
      "metadata": {
        "colab": {
          "base_uri": "https://localhost:8080/",
          "height": 224
        },
        "id": "pNI5D7LZTJE3",
        "outputId": "95383f1a-93a7-47ce-8105-40fc4f4460f3"
      },
      "execution_count": 17,
      "outputs": [
        {
          "output_type": "stream",
          "name": "stdout",
          "text": [
            "(3145, 10)\n"
          ]
        },
        {
          "output_type": "execute_result",
          "data": {
            "text/plain": [
              "   town_id 市区町村名   町名     町丁目         緯度          経度  図書館(最近傍距離)  図書館(数)  \\\n",
              "0   101003  千代田区  丸の内  丸の内１丁目  35.681560  139.767201    1.290350     0.0   \n",
              "1   101004  千代田区  丸の内  丸の内２丁目  35.680022  139.763447    1.208129     0.0   \n",
              "2   101005  千代田区  丸の内  丸の内３丁目  35.676952  139.763476    0.980613     1.0   \n",
              "3   101007  千代田区  大手町  大手町１丁目  35.688069  139.763929    0.708415     1.0   \n",
              "4   101008  千代田区  大手町  大手町２丁目  35.686301  139.768087    0.784836     1.0   \n",
              "\n",
              "   書店(最近傍距離)  書店(数)  \n",
              "0   0.102313    9.0  \n",
              "1   0.278058    6.0  \n",
              "2   0.238214   11.0  \n",
              "3   0.182094   20.0  \n",
              "4   0.379331   14.0  "
            ],
            "text/html": [
              "\n",
              "  <div id=\"df-5b520f43-7b85-4e95-a6b7-b2f8709c1d91\">\n",
              "    <div class=\"colab-df-container\">\n",
              "      <div>\n",
              "<style scoped>\n",
              "    .dataframe tbody tr th:only-of-type {\n",
              "        vertical-align: middle;\n",
              "    }\n",
              "\n",
              "    .dataframe tbody tr th {\n",
              "        vertical-align: top;\n",
              "    }\n",
              "\n",
              "    .dataframe thead th {\n",
              "        text-align: right;\n",
              "    }\n",
              "</style>\n",
              "<table border=\"1\" class=\"dataframe\">\n",
              "  <thead>\n",
              "    <tr style=\"text-align: right;\">\n",
              "      <th></th>\n",
              "      <th>town_id</th>\n",
              "      <th>市区町村名</th>\n",
              "      <th>町名</th>\n",
              "      <th>町丁目</th>\n",
              "      <th>緯度</th>\n",
              "      <th>経度</th>\n",
              "      <th>図書館(最近傍距離)</th>\n",
              "      <th>図書館(数)</th>\n",
              "      <th>書店(最近傍距離)</th>\n",
              "      <th>書店(数)</th>\n",
              "    </tr>\n",
              "  </thead>\n",
              "  <tbody>\n",
              "    <tr>\n",
              "      <th>0</th>\n",
              "      <td>101003</td>\n",
              "      <td>千代田区</td>\n",
              "      <td>丸の内</td>\n",
              "      <td>丸の内１丁目</td>\n",
              "      <td>35.681560</td>\n",
              "      <td>139.767201</td>\n",
              "      <td>1.290350</td>\n",
              "      <td>0.0</td>\n",
              "      <td>0.102313</td>\n",
              "      <td>9.0</td>\n",
              "    </tr>\n",
              "    <tr>\n",
              "      <th>1</th>\n",
              "      <td>101004</td>\n",
              "      <td>千代田区</td>\n",
              "      <td>丸の内</td>\n",
              "      <td>丸の内２丁目</td>\n",
              "      <td>35.680022</td>\n",
              "      <td>139.763447</td>\n",
              "      <td>1.208129</td>\n",
              "      <td>0.0</td>\n",
              "      <td>0.278058</td>\n",
              "      <td>6.0</td>\n",
              "    </tr>\n",
              "    <tr>\n",
              "      <th>2</th>\n",
              "      <td>101005</td>\n",
              "      <td>千代田区</td>\n",
              "      <td>丸の内</td>\n",
              "      <td>丸の内３丁目</td>\n",
              "      <td>35.676952</td>\n",
              "      <td>139.763476</td>\n",
              "      <td>0.980613</td>\n",
              "      <td>1.0</td>\n",
              "      <td>0.238214</td>\n",
              "      <td>11.0</td>\n",
              "    </tr>\n",
              "    <tr>\n",
              "      <th>3</th>\n",
              "      <td>101007</td>\n",
              "      <td>千代田区</td>\n",
              "      <td>大手町</td>\n",
              "      <td>大手町１丁目</td>\n",
              "      <td>35.688069</td>\n",
              "      <td>139.763929</td>\n",
              "      <td>0.708415</td>\n",
              "      <td>1.0</td>\n",
              "      <td>0.182094</td>\n",
              "      <td>20.0</td>\n",
              "    </tr>\n",
              "    <tr>\n",
              "      <th>4</th>\n",
              "      <td>101008</td>\n",
              "      <td>千代田区</td>\n",
              "      <td>大手町</td>\n",
              "      <td>大手町２丁目</td>\n",
              "      <td>35.686301</td>\n",
              "      <td>139.768087</td>\n",
              "      <td>0.784836</td>\n",
              "      <td>1.0</td>\n",
              "      <td>0.379331</td>\n",
              "      <td>14.0</td>\n",
              "    </tr>\n",
              "  </tbody>\n",
              "</table>\n",
              "</div>\n",
              "      <button class=\"colab-df-convert\" onclick=\"convertToInteractive('df-5b520f43-7b85-4e95-a6b7-b2f8709c1d91')\"\n",
              "              title=\"Convert this dataframe to an interactive table.\"\n",
              "              style=\"display:none;\">\n",
              "        \n",
              "  <svg xmlns=\"http://www.w3.org/2000/svg\" height=\"24px\"viewBox=\"0 0 24 24\"\n",
              "       width=\"24px\">\n",
              "    <path d=\"M0 0h24v24H0V0z\" fill=\"none\"/>\n",
              "    <path d=\"M18.56 5.44l.94 2.06.94-2.06 2.06-.94-2.06-.94-.94-2.06-.94 2.06-2.06.94zm-11 1L8.5 8.5l.94-2.06 2.06-.94-2.06-.94L8.5 2.5l-.94 2.06-2.06.94zm10 10l.94 2.06.94-2.06 2.06-.94-2.06-.94-.94-2.06-.94 2.06-2.06.94z\"/><path d=\"M17.41 7.96l-1.37-1.37c-.4-.4-.92-.59-1.43-.59-.52 0-1.04.2-1.43.59L10.3 9.45l-7.72 7.72c-.78.78-.78 2.05 0 2.83L4 21.41c.39.39.9.59 1.41.59.51 0 1.02-.2 1.41-.59l7.78-7.78 2.81-2.81c.8-.78.8-2.07 0-2.86zM5.41 20L4 18.59l7.72-7.72 1.47 1.35L5.41 20z\"/>\n",
              "  </svg>\n",
              "      </button>\n",
              "      \n",
              "  <style>\n",
              "    .colab-df-container {\n",
              "      display:flex;\n",
              "      flex-wrap:wrap;\n",
              "      gap: 12px;\n",
              "    }\n",
              "\n",
              "    .colab-df-convert {\n",
              "      background-color: #E8F0FE;\n",
              "      border: none;\n",
              "      border-radius: 50%;\n",
              "      cursor: pointer;\n",
              "      display: none;\n",
              "      fill: #1967D2;\n",
              "      height: 32px;\n",
              "      padding: 0 0 0 0;\n",
              "      width: 32px;\n",
              "    }\n",
              "\n",
              "    .colab-df-convert:hover {\n",
              "      background-color: #E2EBFA;\n",
              "      box-shadow: 0px 1px 2px rgba(60, 64, 67, 0.3), 0px 1px 3px 1px rgba(60, 64, 67, 0.15);\n",
              "      fill: #174EA6;\n",
              "    }\n",
              "\n",
              "    [theme=dark] .colab-df-convert {\n",
              "      background-color: #3B4455;\n",
              "      fill: #D2E3FC;\n",
              "    }\n",
              "\n",
              "    [theme=dark] .colab-df-convert:hover {\n",
              "      background-color: #434B5C;\n",
              "      box-shadow: 0px 1px 3px 1px rgba(0, 0, 0, 0.15);\n",
              "      filter: drop-shadow(0px 1px 2px rgba(0, 0, 0, 0.3));\n",
              "      fill: #FFFFFF;\n",
              "    }\n",
              "  </style>\n",
              "\n",
              "      <script>\n",
              "        const buttonEl =\n",
              "          document.querySelector('#df-5b520f43-7b85-4e95-a6b7-b2f8709c1d91 button.colab-df-convert');\n",
              "        buttonEl.style.display =\n",
              "          google.colab.kernel.accessAllowed ? 'block' : 'none';\n",
              "\n",
              "        async function convertToInteractive(key) {\n",
              "          const element = document.querySelector('#df-5b520f43-7b85-4e95-a6b7-b2f8709c1d91');\n",
              "          const dataTable =\n",
              "            await google.colab.kernel.invokeFunction('convertToInteractive',\n",
              "                                                     [key], {});\n",
              "          if (!dataTable) return;\n",
              "\n",
              "          const docLinkHtml = 'Like what you see? Visit the ' +\n",
              "            '<a target=\"_blank\" href=https://colab.research.google.com/notebooks/data_table.ipynb>data table notebook</a>'\n",
              "            + ' to learn more about interactive tables.';\n",
              "          element.innerHTML = '';\n",
              "          dataTable['output_type'] = 'display_data';\n",
              "          await google.colab.output.renderOutput(dataTable, element);\n",
              "          const docLink = document.createElement('div');\n",
              "          docLink.innerHTML = docLinkHtml;\n",
              "          element.appendChild(docLink);\n",
              "        }\n",
              "      </script>\n",
              "    </div>\n",
              "  </div>\n",
              "  "
            ]
          },
          "metadata": {},
          "execution_count": 17
        }
      ]
    },
    {
      "cell_type": "markdown",
      "source": [
        "### 図書館スコア"
      ],
      "metadata": {
        "id": "u1Pk3lQV38gQ"
      }
    },
    {
      "cell_type": "code",
      "source": [
        "all_feature_list = []\n",
        "all_score_list = []"
      ],
      "metadata": {
        "id": "mSs2GXMn4Q_3"
      },
      "execution_count": 18,
      "outputs": []
    },
    {
      "cell_type": "code",
      "source": [
        "score_name = '図書館スコア'\n",
        "all_score_list.append(score_name)\n",
        "feature_list = {\n",
        "    '図書館(最近傍距離)':   {'sort': -1, 'weight': 1}, \n",
        "    '図書館(数)':           {'sort': 1, 'weight': 0.5}, \n",
        "}\n",
        "all_feature_list += list(feature_list.keys())"
      ],
      "metadata": {
        "id": "IWVvktILzYs8"
      },
      "execution_count": 19,
      "outputs": []
    },
    {
      "cell_type": "code",
      "source": [
        "for feature_name in feature_list.keys():\n",
        "    sns.histplot(df_geo_master[feature_name], bins=20)\n",
        "    plt.show()"
      ],
      "metadata": {
        "id": "JNx9I9YI02Or",
        "outputId": "e80c1a6b-598c-4a44-a7d2-40c4eb042011",
        "colab": {
          "base_uri": "https://localhost:8080/",
          "height": 539
        }
      },
      "execution_count": 20,
      "outputs": [
        {
          "output_type": "display_data",
          "data": {
            "text/plain": [
              "<Figure size 432x288 with 1 Axes>"
            ],
            "image/png": "[encoded data removed]"
          },
          "metadata": {
            "needs_background": "light"
          }
        },
        {
          "output_type": "display_data",
          "data": {
            "text/plain": [
              "<Figure size 432x288 with 1 Axes>"
            ],
            "image/png": "[encoded data removed]"
          },
          "metadata": {
            "needs_background": "light"
          }
        }
      ]
    },
    {
      "cell_type": "code",
      "source": [
        "def rank_score(sr_data):\n",
        "    rank = sr_data.rank()\n",
        "    rmax = rank.max()\n",
        "    rmin = rank.min()\n",
        "    max_val = 5\n",
        "    x = (rank - rmin)/(rmax - rmin) * max_val\n",
        "    return np.clip(x, 0, max_val)"
      ],
      "metadata": {
        "id": "qsPRvvbUTnlK"
      },
      "execution_count": 21,
      "outputs": []
    },
    {
      "cell_type": "code",
      "source": [
        "score_list = []\n",
        "for key, value in feature_list.items():\n",
        "    df_geo_master[f'{key}レベル'] = rank_score(df_geo_master[key] * value['sort'])\n",
        "    score_list.append(df_geo_master[f'{key}レベル'] * value['weight'])\n",
        "\n",
        "_tmp_score = pd.concat(score_list, axis=1).sum(axis=1, skipna=False)\n",
        "df_geo_master[score_name] = rank_score(_tmp_score)"
      ],
      "metadata": {
        "id": "_sjdQnHMVX4b"
      },
      "execution_count": 22,
      "outputs": []
    },
    {
      "cell_type": "code",
      "source": [
        "sns.histplot(_tmp_score, bins=20)\n",
        "plt.show()"
      ],
      "metadata": {
        "colab": {
          "base_uri": "https://localhost:8080/",
          "height": 264
        },
        "id": "3yn6iVneV45R",
        "outputId": "d33612b1-ddff-4ee5-e672-645c01ee46de"
      },
      "execution_count": 23,
      "outputs": [
        {
          "output_type": "display_data",
          "data": {
            "text/plain": [
              "<Figure size 432x288 with 1 Axes>"
            ],
            "image/png": "[encoded data removed]"
          },
          "metadata": {
            "needs_background": "light"
          }
        }
      ]
    },
    {
      "cell_type": "code",
      "source": [
        "sns.histplot(df_geo_master[score_name], bins=20)\n",
        "plt.show()"
      ],
      "metadata": {
        "colab": {
          "base_uri": "https://localhost:8080/",
          "height": 277
        },
        "id": "Rr-ML1oEWcCQ",
        "outputId": "eae0f930-858c-4185-a192-d5c31f00e1a7"
      },
      "execution_count": 24,
      "outputs": [
        {
          "output_type": "display_data",
          "data": {
            "text/plain": [
              "<Figure size 432x288 with 1 Axes>"
            ],
            "image/png": "[encoded data removed]"
          },
          "metadata": {
            "needs_background": "light"
          }
        }
      ]
    },
    {
      "cell_type": "code",
      "source": [
        "df_geo_master[score_name].describe()"
      ],
      "metadata": {
        "id": "jJu9nFgg_RiD",
        "outputId": "af8c67c1-4ebf-432f-c74e-a22f424cac46",
        "colab": {
          "base_uri": "https://localhost:8080/"
        }
      },
      "execution_count": 25,
      "outputs": [
        {
          "output_type": "execute_result",
          "data": {
            "text/plain": [
              "count    3140.000000\n",
              "mean        2.500000\n",
              "std         1.444065\n",
              "min         0.000000\n",
              "25%         1.250000\n",
              "50%         2.500000\n",
              "75%         3.750000\n",
              "max         5.000000\n",
              "Name: 図書館スコア, dtype: float64"
            ]
          },
          "metadata": {},
          "execution_count": 25
        }
      ]
    },
    {
      "cell_type": "markdown",
      "source": [
        "### 書店スコア"
      ],
      "metadata": {
        "id": "JhLA_FMm3__v"
      }
    },
    {
      "cell_type": "code",
      "source": [
        "score_name = '書店スコア'\n",
        "all_score_list.append(score_name)\n",
        "feature_list = {\n",
        "    '書店(最近傍距離)':   {'sort': -1, 'weight': 0.5}, \n",
        "    '書店(数)':           {'sort': 1, 'weight': 1}, \n",
        "}\n",
        "all_feature_list += list(feature_list.keys())"
      ],
      "metadata": {
        "id": "5jv0CWK-31KQ"
      },
      "execution_count": 26,
      "outputs": []
    },
    {
      "cell_type": "code",
      "source": [
        "for feature_name in feature_list.keys():\n",
        "    sns.histplot(df_geo_master[feature_name], bins=20)\n",
        "    plt.show()"
      ],
      "metadata": {
        "id": "0JTtJ0qR40vH",
        "outputId": "7dac786f-5606-4f55-cfbe-8d8712f2e809",
        "colab": {
          "base_uri": "https://localhost:8080/",
          "height": 539
        }
      },
      "execution_count": 27,
      "outputs": [
        {
          "output_type": "display_data",
          "data": {
            "text/plain": [
              "<Figure size 432x288 with 1 Axes>"
            ],
            "image/png": "[encoded data removed]"
          },
          "metadata": {
            "needs_background": "light"
          }
        },
        {
          "output_type": "display_data",
          "data": {
            "text/plain": [
              "<Figure size 432x288 with 1 Axes>"
            ],
            "image/png": "[encoded data removed]"
          },
          "metadata": {
            "needs_background": "light"
          }
        }
      ]
    },
    {
      "cell_type": "code",
      "source": [
        "score_list = []\n",
        "for key, value in feature_list.items():\n",
        "    df_geo_master[f'{key}レベル'] = rank_score(df_geo_master[key] * value['sort'])\n",
        "    score_list.append(df_geo_master[f'{key}レベル'] * value['weight'])\n",
        "\n",
        "_tmp_score = pd.concat(score_list, axis=1).sum(axis=1, skipna=False)\n",
        "df_geo_master[score_name] = rank_score(_tmp_score)"
      ],
      "metadata": {
        "id": "BSFce8td46LF"
      },
      "execution_count": 28,
      "outputs": []
    },
    {
      "cell_type": "code",
      "source": [
        "sns.histplot(_tmp_score, bins=20)\n",
        "plt.show()"
      ],
      "metadata": {
        "id": "ETg6pJV248fb",
        "outputId": "40b5469e-15d0-4fee-a7e3-6a3203f84e65",
        "colab": {
          "base_uri": "https://localhost:8080/",
          "height": 264
        }
      },
      "execution_count": 29,
      "outputs": [
        {
          "output_type": "display_data",
          "data": {
            "text/plain": [
              "<Figure size 432x288 with 1 Axes>"
            ],
            "image/png": "[encoded data removed]"
          },
          "metadata": {
            "needs_background": "light"
          }
        }
      ]
    },
    {
      "cell_type": "code",
      "source": [
        "sns.histplot(df_geo_master[score_name], bins=20)\n",
        "plt.show()"
      ],
      "metadata": {
        "id": "wppvDFQs46yJ",
        "outputId": "69514c36-d8b3-43ea-eb09-20f66a3e262a",
        "colab": {
          "base_uri": "https://localhost:8080/",
          "height": 277
        }
      },
      "execution_count": 30,
      "outputs": [
        {
          "output_type": "display_data",
          "data": {
            "text/plain": [
              "<Figure size 432x288 with 1 Axes>"
            ],
            "image/png": "[encoded data removed]"
          },
          "metadata": {
            "needs_background": "light"
          }
        }
      ]
    },
    {
      "cell_type": "code",
      "source": [
        "all_score_list"
      ],
      "metadata": {
        "id": "svnUtqpi6pk3",
        "outputId": "487b652d-ce49-4e8a-c5c7-b8e2d7949ff2",
        "colab": {
          "base_uri": "https://localhost:8080/"
        }
      },
      "execution_count": 31,
      "outputs": [
        {
          "output_type": "execute_result",
          "data": {
            "text/plain": [
              "['図書館スコア', '書店スコア']"
            ]
          },
          "metadata": {},
          "execution_count": 31
        }
      ]
    },
    {
      "cell_type": "code",
      "source": [
        "all_feature_list"
      ],
      "metadata": {
        "id": "0Kg1KbFwWrHx",
        "outputId": "7f9d015f-2e22-431a-94ed-03d7e359daf3",
        "colab": {
          "base_uri": "https://localhost:8080/"
        }
      },
      "execution_count": 32,
      "outputs": [
        {
          "output_type": "execute_result",
          "data": {
            "text/plain": [
              "['図書館(最近傍距離)', '図書館(数)', '書店(最近傍距離)', '書店(数)']"
            ]
          },
          "metadata": {},
          "execution_count": 32
        }
      ]
    },
    {
      "cell_type": "code",
      "source": [
        "for score_name in all_score_list:\n",
        "    df_geo_master[score_name] = df_geo_master[score_name].round(2)\n",
        "for col in ['図書館(最近傍距離)', '書店(最近傍距離)']:\n",
        "    df_geo_master[col] = df_geo_master[col].round(3)"
      ],
      "metadata": {
        "id": "xFz9xD_N1YxQ"
      },
      "execution_count": 33,
      "outputs": []
    },
    {
      "cell_type": "markdown",
      "source": [
        "### 保存"
      ],
      "metadata": {
        "id": "G9eINM6P0jRi"
      }
    },
    {
      "cell_type": "code",
      "source": [
        "df_geo_master[\n",
        "    ['town_id'] + all_feature_list + all_score_list\n",
        "].to_csv(os.path.join(DIR_NAME, output_score_file), index=False, encoding='utf-8_sig')"
      ],
      "metadata": {
        "id": "sSfVVuQla7Os"
      },
      "execution_count": 34,
      "outputs": []
    },
    {
      "cell_type": "code",
      "source": [
        "for score_name in all_score_list:\n",
        "    plt.figure(figsize=(15, 5))\n",
        "    sns.barplot(x='市区町村名', y=score_name, data=df_geo_master)\n",
        "    plt.show()"
      ],
      "metadata": {
        "colab": {
          "base_uri": "https://localhost:8080/",
          "height": 649
        },
        "id": "3tJjlj0keD_-",
        "outputId": "bdc23837-9090-470f-99ae-1c514491819d"
      },
      "execution_count": 35,
      "outputs": [
        {
          "output_type": "display_data",
          "data": {
            "text/plain": [
              "<Figure size 1080x360 with 1 Axes>"
            ],
            "image/png": "[encoded data removed]"
          },
          "metadata": {
            "needs_background": "light"
          }
        },
        {
          "output_type": "display_data",
          "data": {
            "text/plain": [
              "<Figure size 1080x360 with 1 Axes>"
            ],
            "image/png": "[encoded data removed]"
          },
          "metadata": {
            "needs_background": "light"
          }
        }
      ]
    },
    {
      "cell_type": "code",
      "source": [
        "def get_score_top(df_data, target):\n",
        "    df_level = df_data.copy()\n",
        "    score_name = f'{target}スコア'\n",
        "    feature_cols = [col for col in all_feature_list if col.startswith(target)]\n",
        "    df_level['rank'] = df_level.groupby('町名')[score_name].transform('rank', ascending=False)\n",
        "    df_level = df_level[df_level['rank'] == 1].sort_values(score_name, ascending=False)[\n",
        "        ['市区町村名', '町名', '町丁目'] + feature_cols + [score_name]\n",
        "    ].reset_index(drop=True)\n",
        "    return df_level"
      ],
      "metadata": {
        "id": "LIMZMXsm188k"
      },
      "execution_count": 36,
      "outputs": []
    },
    {
      "cell_type": "code",
      "source": [
        "df_level = get_score_top(df_geo_master, '図書館')\n",
        "print(df_level.shape)\n",
        "df_level.head(10)"
      ],
      "metadata": {
        "id": "XcJn2J2r2Aws",
        "outputId": "9d531c8f-20f7-485d-938d-3c1f57fc6070",
        "colab": {
          "base_uri": "https://localhost:8080/",
          "height": 380
        }
      },
      "execution_count": 37,
      "outputs": [
        {
          "output_type": "stream",
          "name": "stdout",
          "text": [
            "(905, 6)\n"
          ]
        },
        {
          "output_type": "execute_result",
          "data": {
            "text/plain": [
              "  市区町村名   町名     町丁目  図書館(最近傍距離)  図書館(数)  図書館スコア\n",
              "0   板橋区   本町      本町       0.018     5.0    5.00\n",
              "1  千代田区  外神田  外神田３丁目       0.057     3.0    5.00\n",
              "2    北区  東十条  東十条３丁目       0.026     3.0    5.00\n",
              "3   豊島区   駒込   駒込２丁目       0.075     4.0    5.00\n",
              "4   板橋区  小豆沢  小豆沢１丁目       0.080     3.0    4.99\n",
              "5    北区  昭和町  昭和町３丁目       0.093     3.0    4.99\n",
              "6    北区  上十条  上十条３丁目       0.082     3.0    4.99\n",
              "7   文京区  本駒込  本駒込４丁目       0.145     4.0    4.99\n",
              "8   新宿区  大久保  大久保２丁目       0.149     4.0    4.99\n",
              "9   渋谷区   笹塚   笹塚３丁目       0.156     5.0    4.99"
            ],
            "text/html": [
              "\n",
              "  <div id=\"df-2b129c8a-5707-4b67-822d-54ce535eb23c\">\n",
              "    <div class=\"colab-df-container\">\n",
              "      <div>\n",
              "<style scoped>\n",
              "    .dataframe tbody tr th:only-of-type {\n",
              "        vertical-align: middle;\n",
              "    }\n",
              "\n",
              "    .dataframe tbody tr th {\n",
              "        vertical-align: top;\n",
              "    }\n",
              "\n",
              "    .dataframe thead th {\n",
              "        text-align: right;\n",
              "    }\n",
              "</style>\n",
              "<table border=\"1\" class=\"dataframe\">\n",
              "  <thead>\n",
              "    <tr style=\"text-align: right;\">\n",
              "      <th></th>\n",
              "      <th>市区町村名</th>\n",
              "      <th>町名</th>\n",
              "      <th>町丁目</th>\n",
              "      <th>図書館(最近傍距離)</th>\n",
              "      <th>図書館(数)</th>\n",
              "      <th>図書館スコア</th>\n",
              "    </tr>\n",
              "  </thead>\n",
              "  <tbody>\n",
              "    <tr>\n",
              "      <th>0</th>\n",
              "      <td>板橋区</td>\n",
              "      <td>本町</td>\n",
              "      <td>本町</td>\n",
              "      <td>0.018</td>\n",
              "      <td>5.0</td>\n",
              "      <td>5.00</td>\n",
              "    </tr>\n",
              "    <tr>\n",
              "      <th>1</th>\n",
              "      <td>千代田区</td>\n",
              "      <td>外神田</td>\n",
              "      <td>外神田３丁目</td>\n",
              "      <td>0.057</td>\n",
              "      <td>3.0</td>\n",
              "      <td>5.00</td>\n",
              "    </tr>\n",
              "    <tr>\n",
              "      <th>2</th>\n",
              "      <td>北区</td>\n",
              "      <td>東十条</td>\n",
              "      <td>東十条３丁目</td>\n",
              "      <td>0.026</td>\n",
              "      <td>3.0</td>\n",
              "      <td>5.00</td>\n",
              "    </tr>\n",
              "    <tr>\n",
              "      <th>3</th>\n",
              "      <td>豊島区</td>\n",
              "      <td>駒込</td>\n",
              "      <td>駒込２丁目</td>\n",
              "      <td>0.075</td>\n",
              "      <td>4.0</td>\n",
              "      <td>5.00</td>\n",
              "    </tr>\n",
              "    <tr>\n",
              "      <th>4</th>\n",
              "      <td>板橋区</td>\n",
              "      <td>小豆沢</td>\n",
              "      <td>小豆沢１丁目</td>\n",
              "      <td>0.080</td>\n",
              "      <td>3.0</td>\n",
              "      <td>4.99</td>\n",
              "    </tr>\n",
              "    <tr>\n",
              "      <th>5</th>\n",
              "      <td>北区</td>\n",
              "      <td>昭和町</td>\n",
              "      <td>昭和町３丁目</td>\n",
              "      <td>0.093</td>\n",
              "      <td>3.0</td>\n",
              "      <td>4.99</td>\n",
              "    </tr>\n",
              "    <tr>\n",
              "      <th>6</th>\n",
              "      <td>北区</td>\n",
              "      <td>上十条</td>\n",
              "      <td>上十条３丁目</td>\n",
              "      <td>0.082</td>\n",
              "      <td>3.0</td>\n",
              "      <td>4.99</td>\n",
              "    </tr>\n",
              "    <tr>\n",
              "      <th>7</th>\n",
              "      <td>文京区</td>\n",
              "      <td>本駒込</td>\n",
              "      <td>本駒込４丁目</td>\n",
              "      <td>0.145</td>\n",
              "      <td>4.0</td>\n",
              "      <td>4.99</td>\n",
              "    </tr>\n",
              "    <tr>\n",
              "      <th>8</th>\n",
              "      <td>新宿区</td>\n",
              "      <td>大久保</td>\n",
              "      <td>大久保２丁目</td>\n",
              "      <td>0.149</td>\n",
              "      <td>4.0</td>\n",
              "      <td>4.99</td>\n",
              "    </tr>\n",
              "    <tr>\n",
              "      <th>9</th>\n",
              "      <td>渋谷区</td>\n",
              "      <td>笹塚</td>\n",
              "      <td>笹塚３丁目</td>\n",
              "      <td>0.156</td>\n",
              "      <td>5.0</td>\n",
              "      <td>4.99</td>\n",
              "    </tr>\n",
              "  </tbody>\n",
              "</table>\n",
              "</div>\n",
              "      <button class=\"colab-df-convert\" onclick=\"convertToInteractive('df-2b129c8a-5707-4b67-822d-54ce535eb23c')\"\n",
              "              title=\"Convert this dataframe to an interactive table.\"\n",
              "              style=\"display:none;\">\n",
              "        \n",
              "  <svg xmlns=\"http://www.w3.org/2000/svg\" height=\"24px\"viewBox=\"0 0 24 24\"\n",
              "       width=\"24px\">\n",
              "    <path d=\"M0 0h24v24H0V0z\" fill=\"none\"/>\n",
              "    <path d=\"M18.56 5.44l.94 2.06.94-2.06 2.06-.94-2.06-.94-.94-2.06-.94 2.06-2.06.94zm-11 1L8.5 8.5l.94-2.06 2.06-.94-2.06-.94L8.5 2.5l-.94 2.06-2.06.94zm10 10l.94 2.06.94-2.06 2.06-.94-2.06-.94-.94-2.06-.94 2.06-2.06.94z\"/><path d=\"M17.41 7.96l-1.37-1.37c-.4-.4-.92-.59-1.43-.59-.52 0-1.04.2-1.43.59L10.3 9.45l-7.72 7.72c-.78.78-.78 2.05 0 2.83L4 21.41c.39.39.9.59 1.41.59.51 0 1.02-.2 1.41-.59l7.78-7.78 2.81-2.81c.8-.78.8-2.07 0-2.86zM5.41 20L4 18.59l7.72-7.72 1.47 1.35L5.41 20z\"/>\n",
              "  </svg>\n",
              "      </button>\n",
              "      \n",
              "  <style>\n",
              "    .colab-df-container {\n",
              "      display:flex;\n",
              "      flex-wrap:wrap;\n",
              "      gap: 12px;\n",
              "    }\n",
              "\n",
              "    .colab-df-convert {\n",
              "      background-color: #E8F0FE;\n",
              "      border: none;\n",
              "      border-radius: 50%;\n",
              "      cursor: pointer;\n",
              "      display: none;\n",
              "      fill: #1967D2;\n",
              "      height: 32px;\n",
              "      padding: 0 0 0 0;\n",
              "      width: 32px;\n",
              "    }\n",
              "\n",
              "    .colab-df-convert:hover {\n",
              "      background-color: #E2EBFA;\n",
              "      box-shadow: 0px 1px 2px rgba(60, 64, 67, 0.3), 0px 1px 3px 1px rgba(60, 64, 67, 0.15);\n",
              "      fill: #174EA6;\n",
              "    }\n",
              "\n",
              "    [theme=dark] .colab-df-convert {\n",
              "      background-color: #3B4455;\n",
              "      fill: #D2E3FC;\n",
              "    }\n",
              "\n",
              "    [theme=dark] .colab-df-convert:hover {\n",
              "      background-color: #434B5C;\n",
              "      box-shadow: 0px 1px 3px 1px rgba(0, 0, 0, 0.15);\n",
              "      filter: drop-shadow(0px 1px 2px rgba(0, 0, 0, 0.3));\n",
              "      fill: #FFFFFF;\n",
              "    }\n",
              "  </style>\n",
              "\n",
              "      <script>\n",
              "        const buttonEl =\n",
              "          document.querySelector('#df-2b129c8a-5707-4b67-822d-54ce535eb23c button.colab-df-convert');\n",
              "        buttonEl.style.display =\n",
              "          google.colab.kernel.accessAllowed ? 'block' : 'none';\n",
              "\n",
              "        async function convertToInteractive(key) {\n",
              "          const element = document.querySelector('#df-2b129c8a-5707-4b67-822d-54ce535eb23c');\n",
              "          const dataTable =\n",
              "            await google.colab.kernel.invokeFunction('convertToInteractive',\n",
              "                                                     [key], {});\n",
              "          if (!dataTable) return;\n",
              "\n",
              "          const docLinkHtml = 'Like what you see? Visit the ' +\n",
              "            '<a target=\"_blank\" href=https://colab.research.google.com/notebooks/data_table.ipynb>data table notebook</a>'\n",
              "            + ' to learn more about interactive tables.';\n",
              "          element.innerHTML = '';\n",
              "          dataTable['output_type'] = 'display_data';\n",
              "          await google.colab.output.renderOutput(dataTable, element);\n",
              "          const docLink = document.createElement('div');\n",
              "          docLink.innerHTML = docLinkHtml;\n",
              "          element.appendChild(docLink);\n",
              "        }\n",
              "      </script>\n",
              "    </div>\n",
              "  </div>\n",
              "  "
            ]
          },
          "metadata": {},
          "execution_count": 37
        }
      ]
    },
    {
      "cell_type": "code",
      "source": [
        "df_level.tail(10)"
      ],
      "metadata": {
        "colab": {
          "base_uri": "https://localhost:8080/",
          "height": 363
        },
        "id": "qAA-c_8MaoIQ",
        "outputId": "4b3fbdf5-daa6-4007-c060-828df738f096"
      },
      "execution_count": 38,
      "outputs": [
        {
          "output_type": "execute_result",
          "data": {
            "text/plain": [
              "    市区町村名    町名     町丁目  図書館(最近傍距離)  図書館(数)  図書館スコア\n",
              "895   江東区    有明   有明１丁目       1.457     0.0    0.12\n",
              "896   大田区    東海   東海２丁目       1.477     0.0    0.11\n",
              "897   中央区   豊海町     豊海町       1.516     0.0    0.09\n",
              "898   江東区   夢の島  夢の島１丁目       1.753     0.0    0.06\n",
              "899   練馬区  西大泉町    西大泉町       1.844     0.0    0.05\n",
              "900   大田区   京浜島  京浜島１丁目       1.860     0.0    0.05\n",
              "901   江東区   新木場  新木場１丁目       1.910     0.0    0.05\n",
              "902   品川区   東八潮     東八潮       2.176     0.0    0.04\n",
              "903   江東区    若洲   若洲１丁目       2.816     0.0    0.02\n",
              "904   江東区    青海   青海１丁目       2.779     0.0    0.02"
            ],
            "text/html": [
              "\n",
              "  <div id=\"df-a323282a-06ef-46f6-af5d-37a4ab2dfc7b\">\n",
              "    <div class=\"colab-df-container\">\n",
              "      <div>\n",
              "<style scoped>\n",
              "    .dataframe tbody tr th:only-of-type {\n",
              "        vertical-align: middle;\n",
              "    }\n",
              "\n",
              "    .dataframe tbody tr th {\n",
              "        vertical-align: top;\n",
              "    }\n",
              "\n",
              "    .dataframe thead th {\n",
              "        text-align: right;\n",
              "    }\n",
              "</style>\n",
              "<table border=\"1\" class=\"dataframe\">\n",
              "  <thead>\n",
              "    <tr style=\"text-align: right;\">\n",
              "      <th></th>\n",
              "      <th>市区町村名</th>\n",
              "      <th>町名</th>\n",
              "      <th>町丁目</th>\n",
              "      <th>図書館(最近傍距離)</th>\n",
              "      <th>図書館(数)</th>\n",
              "      <th>図書館スコア</th>\n",
              "    </tr>\n",
              "  </thead>\n",
              "  <tbody>\n",
              "    <tr>\n",
              "      <th>895</th>\n",
              "      <td>江東区</td>\n",
              "      <td>有明</td>\n",
              "      <td>有明１丁目</td>\n",
              "      <td>1.457</td>\n",
              "      <td>0.0</td>\n",
              "      <td>0.12</td>\n",
              "    </tr>\n",
              "    <tr>\n",
              "      <th>896</th>\n",
              "      <td>大田区</td>\n",
              "      <td>東海</td>\n",
              "      <td>東海２丁目</td>\n",
              "      <td>1.477</td>\n",
              "      <td>0.0</td>\n",
              "      <td>0.11</td>\n",
              "    </tr>\n",
              "    <tr>\n",
              "      <th>897</th>\n",
              "      <td>中央区</td>\n",
              "      <td>豊海町</td>\n",
              "      <td>豊海町</td>\n",
              "      <td>1.516</td>\n",
              "      <td>0.0</td>\n",
              "      <td>0.09</td>\n",
              "    </tr>\n",
              "    <tr>\n",
              "      <th>898</th>\n",
              "      <td>江東区</td>\n",
              "      <td>夢の島</td>\n",
              "      <td>夢の島１丁目</td>\n",
              "      <td>1.753</td>\n",
              "      <td>0.0</td>\n",
              "      <td>0.06</td>\n",
              "    </tr>\n",
              "    <tr>\n",
              "      <th>899</th>\n",
              "      <td>練馬区</td>\n",
              "      <td>西大泉町</td>\n",
              "      <td>西大泉町</td>\n",
              "      <td>1.844</td>\n",
              "      <td>0.0</td>\n",
              "      <td>0.05</td>\n",
              "    </tr>\n",
              "    <tr>\n",
              "      <th>900</th>\n",
              "      <td>大田区</td>\n",
              "      <td>京浜島</td>\n",
              "      <td>京浜島１丁目</td>\n",
              "      <td>1.860</td>\n",
              "      <td>0.0</td>\n",
              "      <td>0.05</td>\n",
              "    </tr>\n",
              "    <tr>\n",
              "      <th>901</th>\n",
              "      <td>江東区</td>\n",
              "      <td>新木場</td>\n",
              "      <td>新木場１丁目</td>\n",
              "      <td>1.910</td>\n",
              "      <td>0.0</td>\n",
              "      <td>0.05</td>\n",
              "    </tr>\n",
              "    <tr>\n",
              "      <th>902</th>\n",
              "      <td>品川区</td>\n",
              "      <td>東八潮</td>\n",
              "      <td>東八潮</td>\n",
              "      <td>2.176</td>\n",
              "      <td>0.0</td>\n",
              "      <td>0.04</td>\n",
              "    </tr>\n",
              "    <tr>\n",
              "      <th>903</th>\n",
              "      <td>江東区</td>\n",
              "      <td>若洲</td>\n",
              "      <td>若洲１丁目</td>\n",
              "      <td>2.816</td>\n",
              "      <td>0.0</td>\n",
              "      <td>0.02</td>\n",
              "    </tr>\n",
              "    <tr>\n",
              "      <th>904</th>\n",
              "      <td>江東区</td>\n",
              "      <td>青海</td>\n",
              "      <td>青海１丁目</td>\n",
              "      <td>2.779</td>\n",
              "      <td>0.0</td>\n",
              "      <td>0.02</td>\n",
              "    </tr>\n",
              "  </tbody>\n",
              "</table>\n",
              "</div>\n",
              "      <button class=\"colab-df-convert\" onclick=\"convertToInteractive('df-a323282a-06ef-46f6-af5d-37a4ab2dfc7b')\"\n",
              "              title=\"Convert this dataframe to an interactive table.\"\n",
              "              style=\"display:none;\">\n",
              "        \n",
              "  <svg xmlns=\"http://www.w3.org/2000/svg\" height=\"24px\"viewBox=\"0 0 24 24\"\n",
              "       width=\"24px\">\n",
              "    <path d=\"M0 0h24v24H0V0z\" fill=\"none\"/>\n",
              "    <path d=\"M18.56 5.44l.94 2.06.94-2.06 2.06-.94-2.06-.94-.94-2.06-.94 2.06-2.06.94zm-11 1L8.5 8.5l.94-2.06 2.06-.94-2.06-.94L8.5 2.5l-.94 2.06-2.06.94zm10 10l.94 2.06.94-2.06 2.06-.94-2.06-.94-.94-2.06-.94 2.06-2.06.94z\"/><path d=\"M17.41 7.96l-1.37-1.37c-.4-.4-.92-.59-1.43-.59-.52 0-1.04.2-1.43.59L10.3 9.45l-7.72 7.72c-.78.78-.78 2.05 0 2.83L4 21.41c.39.39.9.59 1.41.59.51 0 1.02-.2 1.41-.59l7.78-7.78 2.81-2.81c.8-.78.8-2.07 0-2.86zM5.41 20L4 18.59l7.72-7.72 1.47 1.35L5.41 20z\"/>\n",
              "  </svg>\n",
              "      </button>\n",
              "      \n",
              "  <style>\n",
              "    .colab-df-container {\n",
              "      display:flex;\n",
              "      flex-wrap:wrap;\n",
              "      gap: 12px;\n",
              "    }\n",
              "\n",
              "    .colab-df-convert {\n",
              "      background-color: #E8F0FE;\n",
              "      border: none;\n",
              "      border-radius: 50%;\n",
              "      cursor: pointer;\n",
              "      display: none;\n",
              "      fill: #1967D2;\n",
              "      height: 32px;\n",
              "      padding: 0 0 0 0;\n",
              "      width: 32px;\n",
              "    }\n",
              "\n",
              "    .colab-df-convert:hover {\n",
              "      background-color: #E2EBFA;\n",
              "      box-shadow: 0px 1px 2px rgba(60, 64, 67, 0.3), 0px 1px 3px 1px rgba(60, 64, 67, 0.15);\n",
              "      fill: #174EA6;\n",
              "    }\n",
              "\n",
              "    [theme=dark] .colab-df-convert {\n",
              "      background-color: #3B4455;\n",
              "      fill: #D2E3FC;\n",
              "    }\n",
              "\n",
              "    [theme=dark] .colab-df-convert:hover {\n",
              "      background-color: #434B5C;\n",
              "      box-shadow: 0px 1px 3px 1px rgba(0, 0, 0, 0.15);\n",
              "      filter: drop-shadow(0px 1px 2px rgba(0, 0, 0, 0.3));\n",
              "      fill: #FFFFFF;\n",
              "    }\n",
              "  </style>\n",
              "\n",
              "      <script>\n",
              "        const buttonEl =\n",
              "          document.querySelector('#df-a323282a-06ef-46f6-af5d-37a4ab2dfc7b button.colab-df-convert');\n",
              "        buttonEl.style.display =\n",
              "          google.colab.kernel.accessAllowed ? 'block' : 'none';\n",
              "\n",
              "        async function convertToInteractive(key) {\n",
              "          const element = document.querySelector('#df-a323282a-06ef-46f6-af5d-37a4ab2dfc7b');\n",
              "          const dataTable =\n",
              "            await google.colab.kernel.invokeFunction('convertToInteractive',\n",
              "                                                     [key], {});\n",
              "          if (!dataTable) return;\n",
              "\n",
              "          const docLinkHtml = 'Like what you see? Visit the ' +\n",
              "            '<a target=\"_blank\" href=https://colab.research.google.com/notebooks/data_table.ipynb>data table notebook</a>'\n",
              "            + ' to learn more about interactive tables.';\n",
              "          element.innerHTML = '';\n",
              "          dataTable['output_type'] = 'display_data';\n",
              "          await google.colab.output.renderOutput(dataTable, element);\n",
              "          const docLink = document.createElement('div');\n",
              "          docLink.innerHTML = docLinkHtml;\n",
              "          element.appendChild(docLink);\n",
              "        }\n",
              "      </script>\n",
              "    </div>\n",
              "  </div>\n",
              "  "
            ]
          },
          "metadata": {},
          "execution_count": 38
        }
      ]
    },
    {
      "cell_type": "code",
      "source": [
        "df_level = get_score_top(df_geo_master, '書店')\n",
        "print(df_level.shape)\n",
        "df_level.head(10)"
      ],
      "metadata": {
        "id": "Lk6O8Y3Dd5di",
        "outputId": "734e2029-da25-42ae-dbf9-12419542bd68",
        "colab": {
          "base_uri": "https://localhost:8080/",
          "height": 380
        }
      },
      "execution_count": 39,
      "outputs": [
        {
          "output_type": "stream",
          "name": "stdout",
          "text": [
            "(898, 6)\n"
          ]
        },
        {
          "output_type": "execute_result",
          "data": {
            "text/plain": [
              "  市区町村名      町名       町丁目  書店(最近傍距離)  書店(数)  書店スコア\n",
              "0  千代田区    神田錦町   神田錦町２丁目      0.066   39.0   5.00\n",
              "1  千代田区   神田駿河台  神田駿河台１丁目      0.040   52.0   5.00\n",
              "2   豊島区     西池袋    西池袋１丁目      0.051   30.0   4.99\n",
              "3  千代田区     九段南    九段南１丁目      0.054   36.0   4.99\n",
              "4  千代田区     内神田    内神田３丁目      0.025   25.0   4.98\n",
              "5  千代田区  神田美土代町    神田美土代町      0.109   39.0   4.98\n",
              "6  千代田区   神田鍛冶町  神田鍛冶町３丁目      0.027   25.0   4.98\n",
              "7   豊島区     南池袋    南池袋１丁目      0.057   30.0   4.98\n",
              "8   豊島区     東池袋    東池袋１丁目      0.075   26.0   4.97\n",
              "9  千代田区     外神田    外神田１丁目      0.047   23.0   4.97"
            ],
            "text/html": [
              "\n",
              "  <div id=\"df-97a17f02-a0ca-450f-81e7-f47090990d1f\">\n",
              "    <div class=\"colab-df-container\">\n",
              "      <div>\n",
              "<style scoped>\n",
              "    .dataframe tbody tr th:only-of-type {\n",
              "        vertical-align: middle;\n",
              "    }\n",
              "\n",
              "    .dataframe tbody tr th {\n",
              "        vertical-align: top;\n",
              "    }\n",
              "\n",
              "    .dataframe thead th {\n",
              "        text-align: right;\n",
              "    }\n",
              "</style>\n",
              "<table border=\"1\" class=\"dataframe\">\n",
              "  <thead>\n",
              "    <tr style=\"text-align: right;\">\n",
              "      <th></th>\n",
              "      <th>市区町村名</th>\n",
              "      <th>町名</th>\n",
              "      <th>町丁目</th>\n",
              "      <th>書店(最近傍距離)</th>\n",
              "      <th>書店(数)</th>\n",
              "      <th>書店スコア</th>\n",
              "    </tr>\n",
              "  </thead>\n",
              "  <tbody>\n",
              "    <tr>\n",
              "      <th>0</th>\n",
              "      <td>千代田区</td>\n",
              "      <td>神田錦町</td>\n",
              "      <td>神田錦町２丁目</td>\n",
              "      <td>0.066</td>\n",
              "      <td>39.0</td>\n",
              "      <td>5.00</td>\n",
              "    </tr>\n",
              "    <tr>\n",
              "      <th>1</th>\n",
              "      <td>千代田区</td>\n",
              "      <td>神田駿河台</td>\n",
              "      <td>神田駿河台１丁目</td>\n",
              "      <td>0.040</td>\n",
              "      <td>52.0</td>\n",
              "      <td>5.00</td>\n",
              "    </tr>\n",
              "    <tr>\n",
              "      <th>2</th>\n",
              "      <td>豊島区</td>\n",
              "      <td>西池袋</td>\n",
              "      <td>西池袋１丁目</td>\n",
              "      <td>0.051</td>\n",
              "      <td>30.0</td>\n",
              "      <td>4.99</td>\n",
              "    </tr>\n",
              "    <tr>\n",
              "      <th>3</th>\n",
              "      <td>千代田区</td>\n",
              "      <td>九段南</td>\n",
              "      <td>九段南１丁目</td>\n",
              "      <td>0.054</td>\n",
              "      <td>36.0</td>\n",
              "      <td>4.99</td>\n",
              "    </tr>\n",
              "    <tr>\n",
              "      <th>4</th>\n",
              "      <td>千代田区</td>\n",
              "      <td>内神田</td>\n",
              "      <td>内神田３丁目</td>\n",
              "      <td>0.025</td>\n",
              "      <td>25.0</td>\n",
              "      <td>4.98</td>\n",
              "    </tr>\n",
              "    <tr>\n",
              "      <th>5</th>\n",
              "      <td>千代田区</td>\n",
              "      <td>神田美土代町</td>\n",
              "      <td>神田美土代町</td>\n",
              "      <td>0.109</td>\n",
              "      <td>39.0</td>\n",
              "      <td>4.98</td>\n",
              "    </tr>\n",
              "    <tr>\n",
              "      <th>6</th>\n",
              "      <td>千代田区</td>\n",
              "      <td>神田鍛冶町</td>\n",
              "      <td>神田鍛冶町３丁目</td>\n",
              "      <td>0.027</td>\n",
              "      <td>25.0</td>\n",
              "      <td>4.98</td>\n",
              "    </tr>\n",
              "    <tr>\n",
              "      <th>7</th>\n",
              "      <td>豊島区</td>\n",
              "      <td>南池袋</td>\n",
              "      <td>南池袋１丁目</td>\n",
              "      <td>0.057</td>\n",
              "      <td>30.0</td>\n",
              "      <td>4.98</td>\n",
              "    </tr>\n",
              "    <tr>\n",
              "      <th>8</th>\n",
              "      <td>豊島区</td>\n",
              "      <td>東池袋</td>\n",
              "      <td>東池袋１丁目</td>\n",
              "      <td>0.075</td>\n",
              "      <td>26.0</td>\n",
              "      <td>4.97</td>\n",
              "    </tr>\n",
              "    <tr>\n",
              "      <th>9</th>\n",
              "      <td>千代田区</td>\n",
              "      <td>外神田</td>\n",
              "      <td>外神田１丁目</td>\n",
              "      <td>0.047</td>\n",
              "      <td>23.0</td>\n",
              "      <td>4.97</td>\n",
              "    </tr>\n",
              "  </tbody>\n",
              "</table>\n",
              "</div>\n",
              "      <button class=\"colab-df-convert\" onclick=\"convertToInteractive('df-97a17f02-a0ca-450f-81e7-f47090990d1f')\"\n",
              "              title=\"Convert this dataframe to an interactive table.\"\n",
              "              style=\"display:none;\">\n",
              "        \n",
              "  <svg xmlns=\"http://www.w3.org/2000/svg\" height=\"24px\"viewBox=\"0 0 24 24\"\n",
              "       width=\"24px\">\n",
              "    <path d=\"M0 0h24v24H0V0z\" fill=\"none\"/>\n",
              "    <path d=\"M18.56 5.44l.94 2.06.94-2.06 2.06-.94-2.06-.94-.94-2.06-.94 2.06-2.06.94zm-11 1L8.5 8.5l.94-2.06 2.06-.94-2.06-.94L8.5 2.5l-.94 2.06-2.06.94zm10 10l.94 2.06.94-2.06 2.06-.94-2.06-.94-.94-2.06-.94 2.06-2.06.94z\"/><path d=\"M17.41 7.96l-1.37-1.37c-.4-.4-.92-.59-1.43-.59-.52 0-1.04.2-1.43.59L10.3 9.45l-7.72 7.72c-.78.78-.78 2.05 0 2.83L4 21.41c.39.39.9.59 1.41.59.51 0 1.02-.2 1.41-.59l7.78-7.78 2.81-2.81c.8-.78.8-2.07 0-2.86zM5.41 20L4 18.59l7.72-7.72 1.47 1.35L5.41 20z\"/>\n",
              "  </svg>\n",
              "      </button>\n",
              "      \n",
              "  <style>\n",
              "    .colab-df-container {\n",
              "      display:flex;\n",
              "      flex-wrap:wrap;\n",
              "      gap: 12px;\n",
              "    }\n",
              "\n",
              "    .colab-df-convert {\n",
              "      background-color: #E8F0FE;\n",
              "      border: none;\n",
              "      border-radius: 50%;\n",
              "      cursor: pointer;\n",
              "      display: none;\n",
              "      fill: #1967D2;\n",
              "      height: 32px;\n",
              "      padding: 0 0 0 0;\n",
              "      width: 32px;\n",
              "    }\n",
              "\n",
              "    .colab-df-convert:hover {\n",
              "      background-color: #E2EBFA;\n",
              "      box-shadow: 0px 1px 2px rgba(60, 64, 67, 0.3), 0px 1px 3px 1px rgba(60, 64, 67, 0.15);\n",
              "      fill: #174EA6;\n",
              "    }\n",
              "\n",
              "    [theme=dark] .colab-df-convert {\n",
              "      background-color: #3B4455;\n",
              "      fill: #D2E3FC;\n",
              "    }\n",
              "\n",
              "    [theme=dark] .colab-df-convert:hover {\n",
              "      background-color: #434B5C;\n",
              "      box-shadow: 0px 1px 3px 1px rgba(0, 0, 0, 0.15);\n",
              "      filter: drop-shadow(0px 1px 2px rgba(0, 0, 0, 0.3));\n",
              "      fill: #FFFFFF;\n",
              "    }\n",
              "  </style>\n",
              "\n",
              "      <script>\n",
              "        const buttonEl =\n",
              "          document.querySelector('#df-97a17f02-a0ca-450f-81e7-f47090990d1f button.colab-df-convert');\n",
              "        buttonEl.style.display =\n",
              "          google.colab.kernel.accessAllowed ? 'block' : 'none';\n",
              "\n",
              "        async function convertToInteractive(key) {\n",
              "          const element = document.querySelector('#df-97a17f02-a0ca-450f-81e7-f47090990d1f');\n",
              "          const dataTable =\n",
              "            await google.colab.kernel.invokeFunction('convertToInteractive',\n",
              "                                                     [key], {});\n",
              "          if (!dataTable) return;\n",
              "\n",
              "          const docLinkHtml = 'Like what you see? Visit the ' +\n",
              "            '<a target=\"_blank\" href=https://colab.research.google.com/notebooks/data_table.ipynb>data table notebook</a>'\n",
              "            + ' to learn more about interactive tables.';\n",
              "          element.innerHTML = '';\n",
              "          dataTable['output_type'] = 'display_data';\n",
              "          await google.colab.output.renderOutput(dataTable, element);\n",
              "          const docLink = document.createElement('div');\n",
              "          docLink.innerHTML = docLinkHtml;\n",
              "          element.appendChild(docLink);\n",
              "        }\n",
              "      </script>\n",
              "    </div>\n",
              "  </div>\n",
              "  "
            ]
          },
          "metadata": {},
          "execution_count": 39
        }
      ]
    },
    {
      "cell_type": "code",
      "source": [
        "df_level.tail(10)"
      ],
      "metadata": {
        "id": "_gGnRAhM5GWG",
        "outputId": "9cef149d-d358-4508-9dd8-ea42449d07e8",
        "colab": {
          "base_uri": "https://localhost:8080/",
          "height": 363
        }
      },
      "execution_count": 40,
      "outputs": [
        {
          "output_type": "execute_result",
          "data": {
            "text/plain": [
              "    市区町村名       町名      町丁目  書店(最近傍距離)  書店(数)  書店スコア\n",
              "888   荒川区      西尾久   西尾久４丁目      1.330    0.0   0.18\n",
              "889   足立区       六木    六木３丁目      1.357    0.0   0.17\n",
              "890   板橋区       三園    三園１丁目      1.477    0.0   0.12\n",
              "891   板橋区       大門       大門      1.539    0.0   0.10\n",
              "892   葛飾区     水元公園     水元公園      1.640    0.0   0.07\n",
              "893   足立区  入谷町，舎人町  入谷町，舎人町      1.688    0.0   0.06\n",
              "894   大田区       東海    東海１丁目      1.811    0.0   0.05\n",
              "895   江東区      新木場   新木場１丁目      2.098    0.0   0.04\n",
              "896   江東区      夢の島   夢の島１丁目      1.991    0.0   0.04\n",
              "897   江東区       若洲    若洲１丁目      2.852    0.0   0.02"
            ],
            "text/html": [
              "\n",
              "  <div id=\"df-8b89017a-ec34-4930-b4ce-73f33fc1be4f\">\n",
              "    <div class=\"colab-df-container\">\n",
              "      <div>\n",
              "<style scoped>\n",
              "    .dataframe tbody tr th:only-of-type {\n",
              "        vertical-align: middle;\n",
              "    }\n",
              "\n",
              "    .dataframe tbody tr th {\n",
              "        vertical-align: top;\n",
              "    }\n",
              "\n",
              "    .dataframe thead th {\n",
              "        text-align: right;\n",
              "    }\n",
              "</style>\n",
              "<table border=\"1\" class=\"dataframe\">\n",
              "  <thead>\n",
              "    <tr style=\"text-align: right;\">\n",
              "      <th></th>\n",
              "      <th>市区町村名</th>\n",
              "      <th>町名</th>\n",
              "      <th>町丁目</th>\n",
              "      <th>書店(最近傍距離)</th>\n",
              "      <th>書店(数)</th>\n",
              "      <th>書店スコア</th>\n",
              "    </tr>\n",
              "  </thead>\n",
              "  <tbody>\n",
              "    <tr>\n",
              "      <th>888</th>\n",
              "      <td>荒川区</td>\n",
              "      <td>西尾久</td>\n",
              "      <td>西尾久４丁目</td>\n",
              "      <td>1.330</td>\n",
              "      <td>0.0</td>\n",
              "      <td>0.18</td>\n",
              "    </tr>\n",
              "    <tr>\n",
              "      <th>889</th>\n",
              "      <td>足立区</td>\n",
              "      <td>六木</td>\n",
              "      <td>六木３丁目</td>\n",
              "      <td>1.357</td>\n",
              "      <td>0.0</td>\n",
              "      <td>0.17</td>\n",
              "    </tr>\n",
              "    <tr>\n",
              "      <th>890</th>\n",
              "      <td>板橋区</td>\n",
              "      <td>三園</td>\n",
              "      <td>三園１丁目</td>\n",
              "      <td>1.477</td>\n",
              "      <td>0.0</td>\n",
              "      <td>0.12</td>\n",
              "    </tr>\n",
              "    <tr>\n",
              "      <th>891</th>\n",
              "      <td>板橋区</td>\n",
              "      <td>大門</td>\n",
              "      <td>大門</td>\n",
              "      <td>1.539</td>\n",
              "      <td>0.0</td>\n",
              "      <td>0.10</td>\n",
              "    </tr>\n",
              "    <tr>\n",
              "      <th>892</th>\n",
              "      <td>葛飾区</td>\n",
              "      <td>水元公園</td>\n",
              "      <td>水元公園</td>\n",
              "      <td>1.640</td>\n",
              "      <td>0.0</td>\n",
              "      <td>0.07</td>\n",
              "    </tr>\n",
              "    <tr>\n",
              "      <th>893</th>\n",
              "      <td>足立区</td>\n",
              "      <td>入谷町，舎人町</td>\n",
              "      <td>入谷町，舎人町</td>\n",
              "      <td>1.688</td>\n",
              "      <td>0.0</td>\n",
              "      <td>0.06</td>\n",
              "    </tr>\n",
              "    <tr>\n",
              "      <th>894</th>\n",
              "      <td>大田区</td>\n",
              "      <td>東海</td>\n",
              "      <td>東海１丁目</td>\n",
              "      <td>1.811</td>\n",
              "      <td>0.0</td>\n",
              "      <td>0.05</td>\n",
              "    </tr>\n",
              "    <tr>\n",
              "      <th>895</th>\n",
              "      <td>江東区</td>\n",
              "      <td>新木場</td>\n",
              "      <td>新木場１丁目</td>\n",
              "      <td>2.098</td>\n",
              "      <td>0.0</td>\n",
              "      <td>0.04</td>\n",
              "    </tr>\n",
              "    <tr>\n",
              "      <th>896</th>\n",
              "      <td>江東区</td>\n",
              "      <td>夢の島</td>\n",
              "      <td>夢の島１丁目</td>\n",
              "      <td>1.991</td>\n",
              "      <td>0.0</td>\n",
              "      <td>0.04</td>\n",
              "    </tr>\n",
              "    <tr>\n",
              "      <th>897</th>\n",
              "      <td>江東区</td>\n",
              "      <td>若洲</td>\n",
              "      <td>若洲１丁目</td>\n",
              "      <td>2.852</td>\n",
              "      <td>0.0</td>\n",
              "      <td>0.02</td>\n",
              "    </tr>\n",
              "  </tbody>\n",
              "</table>\n",
              "</div>\n",
              "      <button class=\"colab-df-convert\" onclick=\"convertToInteractive('df-8b89017a-ec34-4930-b4ce-73f33fc1be4f')\"\n",
              "              title=\"Convert this dataframe to an interactive table.\"\n",
              "              style=\"display:none;\">\n",
              "        \n",
              "  <svg xmlns=\"http://www.w3.org/2000/svg\" height=\"24px\"viewBox=\"0 0 24 24\"\n",
              "       width=\"24px\">\n",
              "    <path d=\"M0 0h24v24H0V0z\" fill=\"none\"/>\n",
              "    <path d=\"M18.56 5.44l.94 2.06.94-2.06 2.06-.94-2.06-.94-.94-2.06-.94 2.06-2.06.94zm-11 1L8.5 8.5l.94-2.06 2.06-.94-2.06-.94L8.5 2.5l-.94 2.06-2.06.94zm10 10l.94 2.06.94-2.06 2.06-.94-2.06-.94-.94-2.06-.94 2.06-2.06.94z\"/><path d=\"M17.41 7.96l-1.37-1.37c-.4-.4-.92-.59-1.43-.59-.52 0-1.04.2-1.43.59L10.3 9.45l-7.72 7.72c-.78.78-.78 2.05 0 2.83L4 21.41c.39.39.9.59 1.41.59.51 0 1.02-.2 1.41-.59l7.78-7.78 2.81-2.81c.8-.78.8-2.07 0-2.86zM5.41 20L4 18.59l7.72-7.72 1.47 1.35L5.41 20z\"/>\n",
              "  </svg>\n",
              "      </button>\n",
              "      \n",
              "  <style>\n",
              "    .colab-df-container {\n",
              "      display:flex;\n",
              "      flex-wrap:wrap;\n",
              "      gap: 12px;\n",
              "    }\n",
              "\n",
              "    .colab-df-convert {\n",
              "      background-color: #E8F0FE;\n",
              "      border: none;\n",
              "      border-radius: 50%;\n",
              "      cursor: pointer;\n",
              "      display: none;\n",
              "      fill: #1967D2;\n",
              "      height: 32px;\n",
              "      padding: 0 0 0 0;\n",
              "      width: 32px;\n",
              "    }\n",
              "\n",
              "    .colab-df-convert:hover {\n",
              "      background-color: #E2EBFA;\n",
              "      box-shadow: 0px 1px 2px rgba(60, 64, 67, 0.3), 0px 1px 3px 1px rgba(60, 64, 67, 0.15);\n",
              "      fill: #174EA6;\n",
              "    }\n",
              "\n",
              "    [theme=dark] .colab-df-convert {\n",
              "      background-color: #3B4455;\n",
              "      fill: #D2E3FC;\n",
              "    }\n",
              "\n",
              "    [theme=dark] .colab-df-convert:hover {\n",
              "      background-color: #434B5C;\n",
              "      box-shadow: 0px 1px 3px 1px rgba(0, 0, 0, 0.15);\n",
              "      filter: drop-shadow(0px 1px 2px rgba(0, 0, 0, 0.3));\n",
              "      fill: #FFFFFF;\n",
              "    }\n",
              "  </style>\n",
              "\n",
              "      <script>\n",
              "        const buttonEl =\n",
              "          document.querySelector('#df-8b89017a-ec34-4930-b4ce-73f33fc1be4f button.colab-df-convert');\n",
              "        buttonEl.style.display =\n",
              "          google.colab.kernel.accessAllowed ? 'block' : 'none';\n",
              "\n",
              "        async function convertToInteractive(key) {\n",
              "          const element = document.querySelector('#df-8b89017a-ec34-4930-b4ce-73f33fc1be4f');\n",
              "          const dataTable =\n",
              "            await google.colab.kernel.invokeFunction('convertToInteractive',\n",
              "                                                     [key], {});\n",
              "          if (!dataTable) return;\n",
              "\n",
              "          const docLinkHtml = 'Like what you see? Visit the ' +\n",
              "            '<a target=\"_blank\" href=https://colab.research.google.com/notebooks/data_table.ipynb>data table notebook</a>'\n",
              "            + ' to learn more about interactive tables.';\n",
              "          element.innerHTML = '';\n",
              "          dataTable['output_type'] = 'display_data';\n",
              "          await google.colab.output.renderOutput(dataTable, element);\n",
              "          const docLink = document.createElement('div');\n",
              "          docLink.innerHTML = docLinkHtml;\n",
              "          element.appendChild(docLink);\n",
              "        }\n",
              "      </script>\n",
              "    </div>\n",
              "  </div>\n",
              "  "
            ]
          },
          "metadata": {},
          "execution_count": 40
        }
      ]
    }
  ]
}