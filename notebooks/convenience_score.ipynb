{
  "nbformat": 4,
  "nbformat_minor": 0,
  "metadata": {
    "colab": {
      "provenance": [],
      "authorship_tag": "ABX9TyN7IHza+weZar9CEEj9u1m2",
      "include_colab_link": true
    },
    "kernelspec": {
      "name": "python3",
      "display_name": "Python 3"
    },
    "language_info": {
      "name": "python"
    }
  },
  "cells": [
    {
      "cell_type": "markdown",
      "metadata": {
        "id": "view-in-github",
        "colab_type": "text"
      },
      "source": [
        "<a href=\"https://colab.research.google.com/github/z-guard/analysis/blob/main/notebooks/convenience_score.ipynb\" target=\"_parent\"><img src=\"https://colab.research.google.com/assets/colab-badge.svg\" alt=\"Open In Colab\"/></a>"
      ]
    },
    {
      "cell_type": "markdown",
      "source": [
        "# 利便性\n",
        "- input:\n",
        "    - convenience_store.csv\n",
        "        - コンビニ店舗位置\n",
        "    - supermarket.csv\n",
        "        - スーパー店舗位置\n",
        "    - train_station.csv\n",
        "        - 最寄り駅の位置\n",
        "    - train_station_route.csv\n",
        "        - 主要駅までの平均所要時間\n",
        "    - navitime_master.csv\n",
        "        - 各種店舗の位置\n",
        "    - eat_drink_master.csv\n",
        "        - 飲食店の位置\n",
        "    - various_shops_master.csv\n",
        "        - 各種店舗の位置\n",
        "- output:\n",
        "    - convenience_score.csv\n",
        "        - 買い物スコア\n",
        "        - 駅スコア\n",
        "        - 飲食店スコア\n",
        "        - 利便性スコア"
      ],
      "metadata": {
        "id": "kP0WeYTi3sb3"
      }
    },
    {
      "cell_type": "code",
      "source": [
        "!pip install -q japanize-matplotlib"
      ],
      "metadata": {
        "id": "E9YHHF2F37-N"
      },
      "execution_count": 1,
      "outputs": []
    },
    {
      "cell_type": "code",
      "execution_count": 2,
      "metadata": {
        "colab": {
          "base_uri": "https://localhost:8080/"
        },
        "id": "w4KT6mck3nOo",
        "outputId": "59d08c9a-6539-4e8f-9017-375d9d4e896a"
      },
      "outputs": [
        {
          "output_type": "stream",
          "name": "stdout",
          "text": [
            "Drive already mounted at /content/drive; to attempt to forcibly remount, call drive.mount(\"/content/drive\", force_remount=True).\n"
          ]
        }
      ],
      "source": [
        "from google.colab import drive\n",
        "drive.mount('/content/drive')"
      ]
    },
    {
      "cell_type": "code",
      "source": [
        "DIR_NAME = '/content/drive/MyDrive/z-gard/data'"
      ],
      "metadata": {
        "id": "ScoGtQsV3sA0"
      },
      "execution_count": 3,
      "outputs": []
    },
    {
      "cell_type": "code",
      "source": [
        "import os\n",
        "import pandas as pd\n",
        "import numpy as np\n",
        "import math\n",
        "import matplotlib.pyplot as plt\n",
        "import japanize_matplotlib\n",
        "import seaborn as sns\n",
        "\n",
        "pd.set_option('display.max_columns', 50)\n",
        "pd.set_option('display.max_rows', 100)"
      ],
      "metadata": {
        "id": "1ef9tlAW3zxE"
      },
      "execution_count": 4,
      "outputs": []
    },
    {
      "cell_type": "markdown",
      "source": [
        "### 地理マスタ"
      ],
      "metadata": {
        "id": "XRO-NFWf4Gnn"
      }
    },
    {
      "cell_type": "code",
      "source": [
        "df_geo_master = pd.read_csv(os.path.join(DIR_NAME, 'geocoding.csv'))[['town_id', '市区町村名', '町名', '町丁目', '緯度', '経度']]\n",
        "print(df_geo_master.shape)"
      ],
      "metadata": {
        "colab": {
          "base_uri": "https://localhost:8080/"
        },
        "id": "hD-7wSVN4BH0",
        "outputId": "8281ab5d-c4f2-4876-c3fb-3afb101ff17b"
      },
      "execution_count": 5,
      "outputs": [
        {
          "output_type": "stream",
          "name": "stdout",
          "text": [
            "(3145, 6)\n"
          ]
        }
      ]
    },
    {
      "cell_type": "code",
      "source": [
        "store_type_list = []"
      ],
      "metadata": {
        "id": "tYVsTD2wZQ-O"
      },
      "execution_count": 6,
      "outputs": []
    },
    {
      "cell_type": "markdown",
      "source": [
        "### コンビニ"
      ],
      "metadata": {
        "id": "2-pBdXmw4Ktq"
      }
    },
    {
      "cell_type": "code",
      "source": [
        "df_convini_master = pd.read_csv(os.path.join(DIR_NAME, 'convenience_store.csv'))[['name', 'lat', 'lng']]\n",
        "df_convini_master['施設分類'] = 'コンビニ'\n",
        "df_convini_master = df_convini_master.rename(columns={'name':'名称', 'lat':'緯度', 'lng':'経度'})\n",
        "print(df_convini_master.shape)\n",
        "store_type_list.append('コンビニ')"
      ],
      "metadata": {
        "colab": {
          "base_uri": "https://localhost:8080/"
        },
        "id": "bZ7JBlaa4JtN",
        "outputId": "49f3f425-e000-46c3-f95e-3adf3ef3265b"
      },
      "execution_count": 7,
      "outputs": [
        {
          "output_type": "stream",
          "name": "stdout",
          "text": [
            "(6405, 4)\n"
          ]
        }
      ]
    },
    {
      "cell_type": "markdown",
      "source": [
        "### スーパー"
      ],
      "metadata": {
        "id": "FJCTnQNHEoPF"
      }
    },
    {
      "cell_type": "code",
      "source": [
        "df_super_master = pd.read_csv(os.path.join(DIR_NAME, 'supermarket.csv'))[['name', 'lat', 'lng']]\n",
        "df_super_master['施設分類'] = 'スーパー'\n",
        "df_super_master = df_super_master.rename(columns={'name':'名称', 'lat':'緯度', 'lng':'経度'})\n",
        "print(df_super_master.shape)\n",
        "store_type_list.append('スーパー')"
      ],
      "metadata": {
        "colab": {
          "base_uri": "https://localhost:8080/"
        },
        "id": "VeBcuQyn4aee",
        "outputId": "b4fd597a-f326-4358-8d39-6306457dd435"
      },
      "execution_count": 8,
      "outputs": [
        {
          "output_type": "stream",
          "name": "stdout",
          "text": [
            "(2060, 4)\n"
          ]
        }
      ]
    },
    {
      "cell_type": "markdown",
      "source": [
        "### 最寄駅"
      ],
      "metadata": {
        "id": "lN64Jn4B4zTc"
      }
    },
    {
      "cell_type": "code",
      "source": [
        "df_station_master = pd.read_csv(os.path.join(DIR_NAME, 'train_station.csv'))[['no', 'name', 'lat', 'lng']]\n",
        "df_station_master = df_station_master.rename(columns={'no':'town_id', 'name':'最寄駅'})\n",
        "print(df_station_master.shape)"
      ],
      "metadata": {
        "colab": {
          "base_uri": "https://localhost:8080/"
        },
        "id": "o-k260vj4gVe",
        "outputId": "2c4beb43-e53b-46c6-e285-2ca686a17efb"
      },
      "execution_count": 9,
      "outputs": [
        {
          "output_type": "stream",
          "name": "stdout",
          "text": [
            "(3141, 4)\n"
          ]
        }
      ]
    },
    {
      "cell_type": "markdown",
      "source": [
        "### 主要駅までの平均所要時間"
      ],
      "metadata": {
        "id": "SGy2yp0xAPoc"
      }
    },
    {
      "cell_type": "code",
      "source": [
        "major_station = ['東京駅', '上野駅', '池袋駅', '新宿駅', '渋谷駅', '品川駅']\n",
        "df_station_route = pd.read_csv(os.path.join(DIR_NAME, 'train_station_route.csv'))[['no'] + major_station].rename(columns={'no': 'town_id'})\n",
        "print(df_station_route.shape)"
      ],
      "metadata": {
        "id": "a8RbbyPA_TxV",
        "outputId": "e57d5409-ac3c-4013-d730-79481018ed99",
        "colab": {
          "base_uri": "https://localhost:8080/"
        }
      },
      "execution_count": 10,
      "outputs": [
        {
          "output_type": "stream",
          "name": "stdout",
          "text": [
            "(3141, 7)\n"
          ]
        }
      ]
    },
    {
      "cell_type": "code",
      "source": [
        "df_station_route['平均所要(時間)'] = df_station_route[major_station].mean(axis=1).round(0)\n",
        "df_station_route = df_station_route[['town_id', '平均所要(時間)']]"
      ],
      "metadata": {
        "id": "Ss1gVHX3_wVv"
      },
      "execution_count": 11,
      "outputs": []
    },
    {
      "cell_type": "markdown",
      "source": [
        "### 各種店舗(1)\n",
        "- '商店街', '銭湯', 'カラオケ', 'ネットカフェ', 'クリーニング'"
      ],
      "metadata": {
        "id": "qgXPC8jGIKyn"
      }
    },
    {
      "cell_type": "code",
      "source": [
        "df_navitime_org = pd.read_csv(os.path.join(DIR_NAME, 'navitime_master.csv'))[['名称', 'データ元', '緯度', '経度']]\n",
        "print(df_navitime_org.shape)\n",
        "\n",
        "df_store = df_navitime_org[\n",
        "    df_navitime_org['データ元'].isin(['商店街', '銭湯', 'カラオケ', 'ネットカフェ', 'クリーニング'])\n",
        "].rename(columns={'データ元': '施設分類'}).reset_index(drop=True)\n",
        "print(df_store.shape)\n",
        "\n",
        "store_type_list += list(df_store['施設分類'].unique())"
      ],
      "metadata": {
        "id": "3GJ8G72BIKOT",
        "outputId": "fd4d16d6-4d78-4b07-aa07-4f2802b98997",
        "colab": {
          "base_uri": "https://localhost:8080/"
        }
      },
      "execution_count": 12,
      "outputs": [
        {
          "output_type": "stream",
          "name": "stdout",
          "text": [
            "(7854, 4)\n",
            "(2355, 4)\n"
          ]
        }
      ]
    },
    {
      "cell_type": "markdown",
      "source": [
        "### 各種店舗(2)\n",
        "- '本DVD', '衣料品', 'ビューティーサロン', '100円ショップ'"
      ],
      "metadata": {
        "id": "kkxcnWcR8mQ7"
      }
    },
    {
      "cell_type": "code",
      "source": [
        "df_various_shops = pd.read_csv(os.path.join(DIR_NAME, 'various_shops_master.csv'))\n",
        "print(df_various_shops.shape)\n",
        "\n",
        "store_type_list += list(df_various_shops['施設分類'].unique())"
      ],
      "metadata": {
        "id": "ts_EnA1C8Nhv",
        "outputId": "a2e64d66-8300-4081-c691-04adcf6ede68",
        "colab": {
          "base_uri": "https://localhost:8080/"
        }
      },
      "execution_count": 13,
      "outputs": [
        {
          "output_type": "stream",
          "name": "stdout",
          "text": [
            "(21519, 6)\n"
          ]
        }
      ]
    },
    {
      "cell_type": "markdown",
      "source": [
        "### 飲食店\n",
        "- 'カフェ', 'カフェ(チェーン店)', 'ファストフード', 'レストラン', 'レストラン(チェーン店)', '飲み屋'"
      ],
      "metadata": {
        "id": "J0W0RVIYXfzs"
      }
    },
    {
      "cell_type": "code",
      "source": [
        "df_eat_drink_org = pd.read_csv(os.path.join(DIR_NAME, 'eat_drink_master.csv'))[['名称', '施設分類', '緯度', '経度']]\n",
        "df_eat_drink_org = df_eat_drink_org[\n",
        "    df_eat_drink_org['施設分類'] != 'ネットカフェ'\n",
        "].reset_index(drop=True)\n",
        "print(df_eat_drink_org.shape)\n",
        "\n",
        "store_type_list += list(df_eat_drink_org['施設分類'].unique())"
      ],
      "metadata": {
        "id": "qRp-CYukXfRP",
        "outputId": "bafd666e-426e-48ec-ea2b-79efd88a2e43",
        "colab": {
          "base_uri": "https://localhost:8080/"
        }
      },
      "execution_count": 14,
      "outputs": [
        {
          "output_type": "stream",
          "name": "stdout",
          "text": [
            "(24260, 4)\n"
          ]
        }
      ]
    },
    {
      "cell_type": "code",
      "source": [
        "df_store_master = pd.concat([\n",
        "    df_convini_master,\n",
        "    df_super_master,\n",
        "    df_store,\n",
        "    df_various_shops,\n",
        "    df_eat_drink_org\n",
        "]).reset_index(drop=True)\n",
        "print(df_store_master.shape)"
      ],
      "metadata": {
        "id": "oVtdwr5gJr-c",
        "outputId": "411cd651-0dcc-4b18-9cdb-dc6db1e5af9f",
        "colab": {
          "base_uri": "https://localhost:8080/"
        }
      },
      "execution_count": 15,
      "outputs": [
        {
          "output_type": "stream",
          "name": "stdout",
          "text": [
            "(56599, 6)\n"
          ]
        }
      ]
    },
    {
      "cell_type": "code",
      "source": [
        "# 距離計算\n",
        "def get_distance(lat1, lon1, lat2, lon2):\n",
        "    _lat1 = lat1 * math.pi / 180\n",
        "    _lon1 = lon1 * math.pi / 180\n",
        "    _lat2 = lat2 * math.pi / 180\n",
        "    _lon2 = lon2 * math.pi / 180\n",
        "    _tmp = math.cos(_lat1) * math.cos(_lat2) * math.cos(_lon2 - _lon1) + math.sin(_lat1) * math.sin(_lat2)\n",
        "    _tmp = 1 if _tmp > 1 else -1 if _tmp < -1 else _tmp\n",
        "    return 6371 * math.acos(_tmp)\n",
        "\n",
        "# 最寄り施設までの距離\n",
        "def get_value_of_nearest_facility(df_master, df_facility, category, method='min', param=3):\n",
        "    _df_cat = df_facility[df_facility['施設分類'] == category].copy()\n",
        "    cat_values = []\n",
        "    for i, (lat, lon) in enumerate(zip(df_master['緯度'].values, df_master['経度'].values)):\n",
        "        dist = _df_cat[\n",
        "            ((_df_cat['緯度'] - lat).abs() < 0.02) &    # 約2km以内\n",
        "            ((_df_cat['経度'] - lon).abs() < 0.02)      # 約2km以内\n",
        "        ].apply(lambda x: get_distance(x['緯度'], x['経度'], lat, lon), axis=1)\n",
        "        val = None\n",
        "        if method == 'min':\n",
        "            # 最小の距離\n",
        "            val = dist.min()\n",
        "        elif method == 'count':\n",
        "            # {param}km以内の施設の数をカウント\n",
        "            val = len(dist[dist <= param])\n",
        "        elif method == 'mean':\n",
        "            # 近い{param}件の距離の平均\n",
        "            val = dist.sort_values()[:param].mean()\n",
        "        cat_values.append(val)\n",
        "    return cat_values"
      ],
      "metadata": {
        "id": "_zuCoLhg48ZN"
      },
      "execution_count": 16,
      "outputs": []
    },
    {
      "cell_type": "markdown",
      "source": [
        "### スコア"
      ],
      "metadata": {
        "id": "IILAQB3vA02_"
      }
    },
    {
      "cell_type": "code",
      "source": [
        "%%time\n",
        "radius = 0.5    # 0.5km以内の施設の数\n",
        "for store in store_type_list:\n",
        "    df_geo_master[f'{store}(数)'] = get_value_of_nearest_facility(df_geo_master, df_store_master, store, 'count', radius)\n",
        "    print(store)"
      ],
      "metadata": {
        "colab": {
          "base_uri": "https://localhost:8080/"
        },
        "id": "GOWzRaqi5JH2",
        "outputId": "06060207-49ef-405b-80bd-283c2807678b"
      },
      "execution_count": 17,
      "outputs": [
        {
          "output_type": "stream",
          "name": "stdout",
          "text": [
            "コンビニ\n",
            "スーパー\n",
            "商店街\n",
            "銭湯\n",
            "カラオケ\n",
            "ネットカフェ\n",
            "クリーニング\n",
            "本DVD\n",
            "衣料品\n",
            "ビューティーサロン\n",
            "100円ショップ\n",
            "カフェ\n",
            "カフェ(チェーン店)\n",
            "ファストフード\n",
            "レストラン\n",
            "レストラン(チェーン店)\n",
            "飲み屋\n",
            "CPU times: user 3min 25s, sys: 2.14 s, total: 3min 27s\n",
            "Wall time: 3min 35s\n"
          ]
        }
      ]
    },
    {
      "cell_type": "code",
      "source": [
        "# 最寄駅からの距離\n",
        "geo_master_len = len(df_geo_master)\n",
        "df_geo_master = pd.merge(df_geo_master, df_station_master, on='town_id', how='left')\n",
        "assert len(df_geo_master) == geo_master_len\n",
        "\n",
        "df_geo_master['最寄駅(距離)'] = df_geo_master.apply(lambda x: get_distance(x['緯度'], x['経度'], x['lat'], x['lng']), axis=1)\n",
        "df_geo_master = df_geo_master.drop(columns=['lat', 'lng'])"
      ],
      "metadata": {
        "id": "Gccf1DW-7cgo"
      },
      "execution_count": 18,
      "outputs": []
    },
    {
      "cell_type": "code",
      "source": [
        "# 主要駅までの平均所要時間\n",
        "df_geo_master = pd.merge(df_geo_master, df_station_route, on='town_id', how='left')\n",
        "assert len(df_geo_master) == geo_master_len\n",
        "\n",
        "max_time = df_geo_master['平均所要(時間)'].max() + 5\n",
        "df_geo_master['平均所要(時間)'] = df_geo_master['平均所要(時間)'].fillna(max_time).astype(int)"
      ],
      "metadata": {
        "id": "8LMgiFTKCMA7"
      },
      "execution_count": 19,
      "outputs": []
    },
    {
      "cell_type": "code",
      "source": [
        "print(df_geo_master.shape)\n",
        "df_geo_master.head()"
      ],
      "metadata": {
        "colab": {
          "base_uri": "https://localhost:8080/",
          "height": 545
        },
        "id": "GbdMQ-rc7G9B",
        "outputId": "43a00d1d-8cf9-4287-eba8-092f122c68ea"
      },
      "execution_count": 20,
      "outputs": [
        {
          "output_type": "stream",
          "name": "stdout",
          "text": [
            "(3145, 26)\n"
          ]
        },
        {
          "output_type": "execute_result",
          "data": {
            "text/plain": [
              "   town_id 市区町村名   町名     町丁目         緯度          経度  コンビニ(数)  スーパー(数)  \\\n",
              "0   101003  千代田区  丸の内  丸の内１丁目  35.681560  139.767201       72        3   \n",
              "1   101004  千代田区  丸の内  丸の内２丁目  35.680022  139.763447       54        1   \n",
              "2   101005  千代田区  丸の内  丸の内３丁目  35.676952  139.763476       46        1   \n",
              "3   101007  千代田区  大手町  大手町１丁目  35.688069  139.763929       37        1   \n",
              "4   101008  千代田区  大手町  大手町２丁目  35.686301  139.768087       45        3   \n",
              "\n",
              "   商店街(数)  銭湯(数)  カラオケ(数)  ネットカフェ(数)  クリーニング(数)  本DVD(数)  衣料品(数)  \\\n",
              "0       0      0        2          0          0        3      24   \n",
              "1       0      0        0          0          0        3      33   \n",
              "2       0      1        2          0          0        2      38   \n",
              "3       0      1        0          0          1        3      14   \n",
              "4       0      0        0          0          2        3      11   \n",
              "\n",
              "   ビューティーサロン(数)  100円ショップ(数)  カフェ(数)  カフェ(チェーン店)(数)  ファストフード(数)  レストラン(数)  \\\n",
              "0            31            1       8              4           1        22   \n",
              "1            22            1      11              5           2        23   \n",
              "2            38            1      14              5           2        24   \n",
              "3            23            0       8              8           1        18   \n",
              "4            21            0       7              7           1        18   \n",
              "\n",
              "   レストラン(チェーン店)(数)  飲み屋(数)   最寄駅   最寄駅(距離)  平均所要(時間)  \n",
              "0                0      31   東京駅  0.036657        16  \n",
              "1                0      36   東京駅  0.358574        16  \n",
              "2                0      39  有楽町駅  0.219467        20  \n",
              "3                0      30  大手町駅  0.308061        20  \n",
              "4                0      25  大手町駅  0.446996        20  "
            ],
            "text/html": [
              "\n",
              "  <div id=\"df-7331734b-c061-45bd-a99b-934282f359b5\">\n",
              "    <div class=\"colab-df-container\">\n",
              "      <div>\n",
              "<style scoped>\n",
              "    .dataframe tbody tr th:only-of-type {\n",
              "        vertical-align: middle;\n",
              "    }\n",
              "\n",
              "    .dataframe tbody tr th {\n",
              "        vertical-align: top;\n",
              "    }\n",
              "\n",
              "    .dataframe thead th {\n",
              "        text-align: right;\n",
              "    }\n",
              "</style>\n",
              "<table border=\"1\" class=\"dataframe\">\n",
              "  <thead>\n",
              "    <tr style=\"text-align: right;\">\n",
              "      <th></th>\n",
              "      <th>town_id</th>\n",
              "      <th>市区町村名</th>\n",
              "      <th>町名</th>\n",
              "      <th>町丁目</th>\n",
              "      <th>緯度</th>\n",
              "      <th>経度</th>\n",
              "      <th>コンビニ(数)</th>\n",
              "      <th>スーパー(数)</th>\n",
              "      <th>商店街(数)</th>\n",
              "      <th>銭湯(数)</th>\n",
              "      <th>カラオケ(数)</th>\n",
              "      <th>ネットカフェ(数)</th>\n",
              "      <th>クリーニング(数)</th>\n",
              "      <th>本DVD(数)</th>\n",
              "      <th>衣料品(数)</th>\n",
              "      <th>ビューティーサロン(数)</th>\n",
              "      <th>100円ショップ(数)</th>\n",
              "      <th>カフェ(数)</th>\n",
              "      <th>カフェ(チェーン店)(数)</th>\n",
              "      <th>ファストフード(数)</th>\n",
              "      <th>レストラン(数)</th>\n",
              "      <th>レストラン(チェーン店)(数)</th>\n",
              "      <th>飲み屋(数)</th>\n",
              "      <th>最寄駅</th>\n",
              "      <th>最寄駅(距離)</th>\n",
              "      <th>平均所要(時間)</th>\n",
              "    </tr>\n",
              "  </thead>\n",
              "  <tbody>\n",
              "    <tr>\n",
              "      <th>0</th>\n",
              "      <td>101003</td>\n",
              "      <td>千代田区</td>\n",
              "      <td>丸の内</td>\n",
              "      <td>丸の内１丁目</td>\n",
              "      <td>35.681560</td>\n",
              "      <td>139.767201</td>\n",
              "      <td>72</td>\n",
              "      <td>3</td>\n",
              "      <td>0</td>\n",
              "      <td>0</td>\n",
              "      <td>2</td>\n",
              "      <td>0</td>\n",
              "      <td>0</td>\n",
              "      <td>3</td>\n",
              "      <td>24</td>\n",
              "      <td>31</td>\n",
              "      <td>1</td>\n",
              "      <td>8</td>\n",
              "      <td>4</td>\n",
              "      <td>1</td>\n",
              "      <td>22</td>\n",
              "      <td>0</td>\n",
              "      <td>31</td>\n",
              "      <td>東京駅</td>\n",
              "      <td>0.036657</td>\n",
              "      <td>16</td>\n",
              "    </tr>\n",
              "    <tr>\n",
              "      <th>1</th>\n",
              "      <td>101004</td>\n",
              "      <td>千代田区</td>\n",
              "      <td>丸の内</td>\n",
              "      <td>丸の内２丁目</td>\n",
              "      <td>35.680022</td>\n",
              "      <td>139.763447</td>\n",
              "      <td>54</td>\n",
              "      <td>1</td>\n",
              "      <td>0</td>\n",
              "      <td>0</td>\n",
              "      <td>0</td>\n",
              "      <td>0</td>\n",
              "      <td>0</td>\n",
              "      <td>3</td>\n",
              "      <td>33</td>\n",
              "      <td>22</td>\n",
              "      <td>1</td>\n",
              "      <td>11</td>\n",
              "      <td>5</td>\n",
              "      <td>2</td>\n",
              "      <td>23</td>\n",
              "      <td>0</td>\n",
              "      <td>36</td>\n",
              "      <td>東京駅</td>\n",
              "      <td>0.358574</td>\n",
              "      <td>16</td>\n",
              "    </tr>\n",
              "    <tr>\n",
              "      <th>2</th>\n",
              "      <td>101005</td>\n",
              "      <td>千代田区</td>\n",
              "      <td>丸の内</td>\n",
              "      <td>丸の内３丁目</td>\n",
              "      <td>35.676952</td>\n",
              "      <td>139.763476</td>\n",
              "      <td>46</td>\n",
              "      <td>1</td>\n",
              "      <td>0</td>\n",
              "      <td>1</td>\n",
              "      <td>2</td>\n",
              "      <td>0</td>\n",
              "      <td>0</td>\n",
              "      <td>2</td>\n",
              "      <td>38</td>\n",
              "      <td>38</td>\n",
              "      <td>1</td>\n",
              "      <td>14</td>\n",
              "      <td>5</td>\n",
              "      <td>2</td>\n",
              "      <td>24</td>\n",
              "      <td>0</td>\n",
              "      <td>39</td>\n",
              "      <td>有楽町駅</td>\n",
              "      <td>0.219467</td>\n",
              "      <td>20</td>\n",
              "    </tr>\n",
              "    <tr>\n",
              "      <th>3</th>\n",
              "      <td>101007</td>\n",
              "      <td>千代田区</td>\n",
              "      <td>大手町</td>\n",
              "      <td>大手町１丁目</td>\n",
              "      <td>35.688069</td>\n",
              "      <td>139.763929</td>\n",
              "      <td>37</td>\n",
              "      <td>1</td>\n",
              "      <td>0</td>\n",
              "      <td>1</td>\n",
              "      <td>0</td>\n",
              "      <td>0</td>\n",
              "      <td>1</td>\n",
              "      <td>3</td>\n",
              "      <td>14</td>\n",
              "      <td>23</td>\n",
              "      <td>0</td>\n",
              "      <td>8</td>\n",
              "      <td>8</td>\n",
              "      <td>1</td>\n",
              "      <td>18</td>\n",
              "      <td>0</td>\n",
              "      <td>30</td>\n",
              "      <td>大手町駅</td>\n",
              "      <td>0.308061</td>\n",
              "      <td>20</td>\n",
              "    </tr>\n",
              "    <tr>\n",
              "      <th>4</th>\n",
              "      <td>101008</td>\n",
              "      <td>千代田区</td>\n",
              "      <td>大手町</td>\n",
              "      <td>大手町２丁目</td>\n",
              "      <td>35.686301</td>\n",
              "      <td>139.768087</td>\n",
              "      <td>45</td>\n",
              "      <td>3</td>\n",
              "      <td>0</td>\n",
              "      <td>0</td>\n",
              "      <td>0</td>\n",
              "      <td>0</td>\n",
              "      <td>2</td>\n",
              "      <td>3</td>\n",
              "      <td>11</td>\n",
              "      <td>21</td>\n",
              "      <td>0</td>\n",
              "      <td>7</td>\n",
              "      <td>7</td>\n",
              "      <td>1</td>\n",
              "      <td>18</td>\n",
              "      <td>0</td>\n",
              "      <td>25</td>\n",
              "      <td>大手町駅</td>\n",
              "      <td>0.446996</td>\n",
              "      <td>20</td>\n",
              "    </tr>\n",
              "  </tbody>\n",
              "</table>\n",
              "</div>\n",
              "      <button class=\"colab-df-convert\" onclick=\"convertToInteractive('df-7331734b-c061-45bd-a99b-934282f359b5')\"\n",
              "              title=\"Convert this dataframe to an interactive table.\"\n",
              "              style=\"display:none;\">\n",
              "        \n",
              "  <svg xmlns=\"http://www.w3.org/2000/svg\" height=\"24px\"viewBox=\"0 0 24 24\"\n",
              "       width=\"24px\">\n",
              "    <path d=\"M0 0h24v24H0V0z\" fill=\"none\"/>\n",
              "    <path d=\"M18.56 5.44l.94 2.06.94-2.06 2.06-.94-2.06-.94-.94-2.06-.94 2.06-2.06.94zm-11 1L8.5 8.5l.94-2.06 2.06-.94-2.06-.94L8.5 2.5l-.94 2.06-2.06.94zm10 10l.94 2.06.94-2.06 2.06-.94-2.06-.94-.94-2.06-.94 2.06-2.06.94z\"/><path d=\"M17.41 7.96l-1.37-1.37c-.4-.4-.92-.59-1.43-.59-.52 0-1.04.2-1.43.59L10.3 9.45l-7.72 7.72c-.78.78-.78 2.05 0 2.83L4 21.41c.39.39.9.59 1.41.59.51 0 1.02-.2 1.41-.59l7.78-7.78 2.81-2.81c.8-.78.8-2.07 0-2.86zM5.41 20L4 18.59l7.72-7.72 1.47 1.35L5.41 20z\"/>\n",
              "  </svg>\n",
              "      </button>\n",
              "      \n",
              "  <style>\n",
              "    .colab-df-container {\n",
              "      display:flex;\n",
              "      flex-wrap:wrap;\n",
              "      gap: 12px;\n",
              "    }\n",
              "\n",
              "    .colab-df-convert {\n",
              "      background-color: #E8F0FE;\n",
              "      border: none;\n",
              "      border-radius: 50%;\n",
              "      cursor: pointer;\n",
              "      display: none;\n",
              "      fill: #1967D2;\n",
              "      height: 32px;\n",
              "      padding: 0 0 0 0;\n",
              "      width: 32px;\n",
              "    }\n",
              "\n",
              "    .colab-df-convert:hover {\n",
              "      background-color: #E2EBFA;\n",
              "      box-shadow: 0px 1px 2px rgba(60, 64, 67, 0.3), 0px 1px 3px 1px rgba(60, 64, 67, 0.15);\n",
              "      fill: #174EA6;\n",
              "    }\n",
              "\n",
              "    [theme=dark] .colab-df-convert {\n",
              "      background-color: #3B4455;\n",
              "      fill: #D2E3FC;\n",
              "    }\n",
              "\n",
              "    [theme=dark] .colab-df-convert:hover {\n",
              "      background-color: #434B5C;\n",
              "      box-shadow: 0px 1px 3px 1px rgba(0, 0, 0, 0.15);\n",
              "      filter: drop-shadow(0px 1px 2px rgba(0, 0, 0, 0.3));\n",
              "      fill: #FFFFFF;\n",
              "    }\n",
              "  </style>\n",
              "\n",
              "      <script>\n",
              "        const buttonEl =\n",
              "          document.querySelector('#df-7331734b-c061-45bd-a99b-934282f359b5 button.colab-df-convert');\n",
              "        buttonEl.style.display =\n",
              "          google.colab.kernel.accessAllowed ? 'block' : 'none';\n",
              "\n",
              "        async function convertToInteractive(key) {\n",
              "          const element = document.querySelector('#df-7331734b-c061-45bd-a99b-934282f359b5');\n",
              "          const dataTable =\n",
              "            await google.colab.kernel.invokeFunction('convertToInteractive',\n",
              "                                                     [key], {});\n",
              "          if (!dataTable) return;\n",
              "\n",
              "          const docLinkHtml = 'Like what you see? Visit the ' +\n",
              "            '<a target=\"_blank\" href=https://colab.research.google.com/notebooks/data_table.ipynb>data table notebook</a>'\n",
              "            + ' to learn more about interactive tables.';\n",
              "          element.innerHTML = '';\n",
              "          dataTable['output_type'] = 'display_data';\n",
              "          await google.colab.output.renderOutput(dataTable, element);\n",
              "          const docLink = document.createElement('div');\n",
              "          docLink.innerHTML = docLinkHtml;\n",
              "          element.appendChild(docLink);\n",
              "        }\n",
              "      </script>\n",
              "    </div>\n",
              "  </div>\n",
              "  "
            ]
          },
          "metadata": {},
          "execution_count": 20
        }
      ]
    },
    {
      "cell_type": "code",
      "source": [
        "feature_list = [col for col in df_geo_master.columns if col.endswith(')')]"
      ],
      "metadata": {
        "id": "HeqZLsOyUljA"
      },
      "execution_count": 21,
      "outputs": []
    },
    {
      "cell_type": "code",
      "source": [
        "for feature in feature_list:\n",
        "    print(feature)\n",
        "    sns.histplot(df_geo_master[feature], bins=10)\n",
        "    plt.show()"
      ],
      "metadata": {
        "colab": {
          "base_uri": "https://localhost:8080/",
          "height": 1000
        },
        "id": "omSbyVRv7Jjj",
        "outputId": "e0799956-c736-42ce-c014-9f3c8976a868"
      },
      "execution_count": 22,
      "outputs": [
        {
          "output_type": "stream",
          "name": "stdout",
          "text": [
            "コンビニ(数)\n"
          ]
        },
        {
          "output_type": "display_data",
          "data": {
            "text/plain": [
              "<Figure size 432x288 with 1 Axes>"
            ],
            "image/png": "[encoded data removed]"
          },
          "metadata": {
            "needs_background": "light"
          }
        },
        {
          "output_type": "stream",
          "name": "stdout",
          "text": [
            "スーパー(数)\n"
          ]
        },
        {
          "output_type": "display_data",
          "data": {
            "text/plain": [
              "<Figure size 432x288 with 1 Axes>"
            ],
            "image/png": "[encoded data removed]"
          },
          "metadata": {
            "needs_background": "light"
          }
        },
        {
          "output_type": "stream",
          "name": "stdout",
          "text": [
            "商店街(数)\n"
          ]
        },
        {
          "output_type": "display_data",
          "data": {
            "text/plain": [
              "<Figure size 432x288 with 1 Axes>"
            ],
            "image/png": "[encoded data removed]"
          },
          "metadata": {
            "needs_background": "light"
          }
        },
        {
          "output_type": "stream",
          "name": "stdout",
          "text": [
            "銭湯(数)\n"
          ]
        },
        {
          "output_type": "display_data",
          "data": {
            "text/plain": [
              "<Figure size 432x288 with 1 Axes>"
            ],
            "image/png": "[encoded data removed]"
          },
          "metadata": {
            "needs_background": "light"
          }
        },
        {
          "output_type": "stream",
          "name": "stdout",
          "text": [
            "カラオケ(数)\n"
          ]
        },
        {
          "output_type": "display_data",
          "data": {
            "text/plain": [
              "<Figure size 432x288 with 1 Axes>"
            ],
            "image/png": "[encoded data removed]"
          },
          "metadata": {
            "needs_background": "light"
          }
        },
        {
          "output_type": "stream",
          "name": "stdout",
          "text": [
            "ネットカフェ(数)\n"
          ]
        },
        {
          "output_type": "display_data",
          "data": {
            "text/plain": [
              "<Figure size 432x288 with 1 Axes>"
            ],
            "image/png": "[encoded data removed]"
          },
          "metadata": {
            "needs_background": "light"
          }
        },
        {
          "output_type": "stream",
          "name": "stdout",
          "text": [
            "クリーニング(数)\n"
          ]
        },
        {
          "output_type": "display_data",
          "data": {
            "text/plain": [
              "<Figure size 432x288 with 1 Axes>"
            ],
            "image/png": "[encoded data removed]"
          },
          "metadata": {
            "needs_background": "light"
          }
        },
        {
          "output_type": "stream",
          "name": "stdout",
          "text": [
            "本DVD(数)\n"
          ]
        },
        {
          "output_type": "display_data",
          "data": {
            "text/plain": [
              "<Figure size 432x288 with 1 Axes>"
            ],
            "image/png": "[encoded data removed]"
          },
          "metadata": {
            "needs_background": "light"
          }
        },
        {
          "output_type": "stream",
          "name": "stdout",
          "text": [
            "衣料品(数)\n"
          ]
        },
        {
          "output_type": "display_data",
          "data": {
            "text/plain": [
              "<Figure size 432x288 with 1 Axes>"
            ],
            "image/png": "[encoded data removed]"
          },
          "metadata": {
            "needs_background": "light"
          }
        },
        {
          "output_type": "stream",
          "name": "stdout",
          "text": [
            "ビューティーサロン(数)\n"
          ]
        },
        {
          "output_type": "display_data",
          "data": {
            "text/plain": [
              "<Figure size 432x288 with 1 Axes>"
            ],
            "image/png": "[encoded data removed]"
          },
          "metadata": {
            "needs_background": "light"
          }
        },
        {
          "output_type": "stream",
          "name": "stdout",
          "text": [
            "100円ショップ(数)\n"
          ]
        },
        {
          "output_type": "display_data",
          "data": {
            "text/plain": [
              "<Figure size 432x288 with 1 Axes>"
            ],
            "image/png": "[encoded data removed]"
          },
          "metadata": {
            "needs_background": "light"
          }
        },
        {
          "output_type": "stream",
          "name": "stdout",
          "text": [
            "カフェ(数)\n"
          ]
        },
        {
          "output_type": "display_data",
          "data": {
            "text/plain": [
              "<Figure size 432x288 with 1 Axes>"
            ],
            "image/png": "[encoded data removed]"
          },
          "metadata": {
            "needs_background": "light"
          }
        },
        {
          "output_type": "stream",
          "name": "stdout",
          "text": [
            "カフェ(チェーン店)(数)\n"
          ]
        },
        {
          "output_type": "display_data",
          "data": {
            "text/plain": [
              "<Figure size 432x288 with 1 Axes>"
            ],
            "image/png": "[encoded data removed]"
          },
          "metadata": {
            "needs_background": "light"
          }
        },
        {
          "output_type": "stream",
          "name": "stdout",
          "text": [
            "ファストフード(数)\n"
          ]
        },
        {
          "output_type": "display_data",
          "data": {
            "text/plain": [
              "<Figure size 432x288 with 1 Axes>"
            ],
            "image/png": "[encoded data removed]"
          },
          "metadata": {
            "needs_background": "light"
          }
        },
        {
          "output_type": "stream",
          "name": "stdout",
          "text": [
            "レストラン(数)\n"
          ]
        },
        {
          "output_type": "display_data",
          "data": {
            "text/plain": [
              "<Figure size 432x288 with 1 Axes>"
            ],
            "image/png": "[encoded data removed]"
          },
          "metadata": {
            "needs_background": "light"
          }
        },
        {
          "output_type": "stream",
          "name": "stdout",
          "text": [
            "レストラン(チェーン店)(数)\n"
          ]
        },
        {
          "output_type": "display_data",
          "data": {
            "text/plain": [
              "<Figure size 432x288 with 1 Axes>"
            ],
            "image/png": "[encoded data removed]"
          },
          "metadata": {
            "needs_background": "light"
          }
        },
        {
          "output_type": "stream",
          "name": "stdout",
          "text": [
            "飲み屋(数)\n"
          ]
        },
        {
          "output_type": "display_data",
          "data": {
            "text/plain": [
              "<Figure size 432x288 with 1 Axes>"
            ],
            "image/png": "[encoded data removed]"
          },
          "metadata": {
            "needs_background": "light"
          }
        },
        {
          "output_type": "stream",
          "name": "stdout",
          "text": [
            "最寄駅(距離)\n"
          ]
        },
        {
          "output_type": "display_data",
          "data": {
            "text/plain": [
              "<Figure size 432x288 with 1 Axes>"
            ],
            "image/png": "[encoded data removed]"
          },
          "metadata": {
            "needs_background": "light"
          }
        },
        {
          "output_type": "stream",
          "name": "stdout",
          "text": [
            "平均所要(時間)\n"
          ]
        },
        {
          "output_type": "display_data",
          "data": {
            "text/plain": [
              "<Figure size 432x288 with 1 Axes>"
            ],
            "image/png": "[encoded data removed]"
          },
          "metadata": {
            "needs_background": "light"
          }
        }
      ]
    },
    {
      "cell_type": "code",
      "source": [
        "def rank_score(sr_data):\n",
        "    rank = sr_data.rank()\n",
        "    rmax = rank.max()\n",
        "    rmin = rank.min()\n",
        "    max_val = 5\n",
        "    x = (rank - rmin)/(rmax - rmin) * max_val\n",
        "    return np.clip(x, 0, max_val)"
      ],
      "metadata": {
        "id": "LdClGOPa7YS5"
      },
      "execution_count": 23,
      "outputs": []
    },
    {
      "cell_type": "code",
      "source": [
        "def plot_score(df_master, score_name, sr_source=None):\n",
        "    if sr_source is not None:\n",
        "        sns.histplot(sr_source, bins=20)\n",
        "        plt.show()\n",
        "    sns.histplot(df_master[score_name], bins=20)\n",
        "    plt.show()\n",
        "    print(df_master[score_name].describe())"
      ],
      "metadata": {
        "id": "WWPEvsy3ptBz"
      },
      "execution_count": 24,
      "outputs": []
    },
    {
      "cell_type": "code",
      "source": [
        "for feature in feature_list:\n",
        "    if feature.endswith('(距離)') or feature.endswith('(時間)'):\n",
        "        df_geo_master[f'{feature}レベル'] = rank_score(df_geo_master[feature]*(-1)).round(2)\n",
        "    else:\n",
        "        df_geo_master[f'{feature}レベル'] = rank_score(df_geo_master[feature]).round(2)"
      ],
      "metadata": {
        "id": "Uwx_g9_f82WM"
      },
      "execution_count": 25,
      "outputs": []
    },
    {
      "cell_type": "code",
      "source": [
        "feature_list"
      ],
      "metadata": {
        "id": "2kCeoivvozJj",
        "outputId": "0dd58203-7ef8-40c1-bb7d-2c0687c31b0d",
        "colab": {
          "base_uri": "https://localhost:8080/"
        }
      },
      "execution_count": 26,
      "outputs": [
        {
          "output_type": "execute_result",
          "data": {
            "text/plain": [
              "['コンビニ(数)',\n",
              " 'スーパー(数)',\n",
              " '商店街(数)',\n",
              " '銭湯(数)',\n",
              " 'カラオケ(数)',\n",
              " 'ネットカフェ(数)',\n",
              " 'クリーニング(数)',\n",
              " '本DVD(数)',\n",
              " '衣料品(数)',\n",
              " 'ビューティーサロン(数)',\n",
              " '100円ショップ(数)',\n",
              " 'カフェ(数)',\n",
              " 'カフェ(チェーン店)(数)',\n",
              " 'ファストフード(数)',\n",
              " 'レストラン(数)',\n",
              " 'レストラン(チェーン店)(数)',\n",
              " '飲み屋(数)',\n",
              " '最寄駅(距離)',\n",
              " '平均所要(時間)']"
            ]
          },
          "metadata": {},
          "execution_count": 26
        }
      ]
    },
    {
      "cell_type": "markdown",
      "source": [
        "### 買い物スコア"
      ],
      "metadata": {
        "id": "ac6pAZDGq16N"
      }
    },
    {
      "cell_type": "code",
      "source": [
        "score_name_list = []\n",
        "score_name = '買い物スコア'\n",
        "score_name_list.append(score_name)\n",
        "\n",
        "score_list = [\n",
        "    df_geo_master['コンビニ(数)レベル'] * 0.5,\n",
        "    df_geo_master['スーパー(数)レベル'] * 1.0,\n",
        "    df_geo_master['商店街(数)レベル'] * 0.7,\n",
        "]\n",
        "_tmp_score = pd.concat(score_list, axis=1).sum(axis=1, skipna=False)\n",
        "df_geo_master[score_name] = rank_score(_tmp_score).round(2)"
      ],
      "metadata": {
        "id": "NX28XbUB9b2C"
      },
      "execution_count": 27,
      "outputs": []
    },
    {
      "cell_type": "code",
      "source": [
        "plot_score(df_geo_master, score_name, _tmp_score)"
      ],
      "metadata": {
        "id": "Cy_i9KIdqVYl",
        "outputId": "72be6fbc-b45c-4b21-8fcc-ec1a7ba6ab34",
        "colab": {
          "base_uri": "https://localhost:8080/",
          "height": 681
        }
      },
      "execution_count": 28,
      "outputs": [
        {
          "output_type": "display_data",
          "data": {
            "text/plain": [
              "<Figure size 432x288 with 1 Axes>"
            ],
            "image/png": "[encoded data removed]"
          },
          "metadata": {
            "needs_background": "light"
          }
        },
        {
          "output_type": "display_data",
          "data": {
            "text/plain": [
              "<Figure size 432x288 with 1 Axes>"
            ],
            "image/png": "[encoded data removed]"
          },
          "metadata": {
            "needs_background": "light"
          }
        },
        {
          "output_type": "stream",
          "name": "stdout",
          "text": [
            "count    3145.000000\n",
            "mean        2.481975\n",
            "std         1.454528\n",
            "min         0.000000\n",
            "25%         1.250000\n",
            "50%         2.480000\n",
            "75%         3.740000\n",
            "max         5.000000\n",
            "Name: 買い物スコア, dtype: float64\n"
          ]
        }
      ]
    },
    {
      "cell_type": "markdown",
      "source": [
        "### 駅スコア"
      ],
      "metadata": {
        "id": "Kzbyd5s-q5XW"
      }
    },
    {
      "cell_type": "code",
      "source": [
        "score_name = '駅スコア'\n",
        "score_name_list.append(score_name)\n",
        "\n",
        "score_list = [\n",
        "    df_geo_master['最寄駅(距離)レベル'] * 0.7,\n",
        "    df_geo_master['平均所要(時間)レベル'] * 1.0,\n",
        "]\n",
        "_tmp_score = pd.concat(score_list, axis=1).sum(axis=1, skipna=False)\n",
        "df_geo_master[score_name] = rank_score(_tmp_score).round(2)"
      ],
      "metadata": {
        "id": "JafH1lHS-MZK"
      },
      "execution_count": 29,
      "outputs": []
    },
    {
      "cell_type": "code",
      "source": [
        "plot_score(df_geo_master, score_name, _tmp_score)"
      ],
      "metadata": {
        "id": "ve1zMCOcqvgJ",
        "outputId": "488ce606-21ae-442c-cf1e-d47546e058e0",
        "colab": {
          "base_uri": "https://localhost:8080/",
          "height": 680
        }
      },
      "execution_count": 30,
      "outputs": [
        {
          "output_type": "display_data",
          "data": {
            "text/plain": [
              "<Figure size 432x288 with 1 Axes>"
            ],
            "image/png": "[encoded data removed]"
          },
          "metadata": {
            "needs_background": "light"
          }
        },
        {
          "output_type": "display_data",
          "data": {
            "text/plain": [
              "<Figure size 432x288 with 1 Axes>"
            ],
            "image/png": "[encoded data removed]"
          },
          "metadata": {
            "needs_background": "light"
          }
        },
        {
          "output_type": "stream",
          "name": "stdout",
          "text": [
            "count    3141.000000\n",
            "mean        2.499602\n",
            "std         1.444327\n",
            "min         0.000000\n",
            "25%         1.250000\n",
            "50%         2.500000\n",
            "75%         3.750000\n",
            "max         5.000000\n",
            "Name: 駅スコア, dtype: float64\n"
          ]
        }
      ]
    },
    {
      "cell_type": "markdown",
      "source": [
        "### 飲食店スコア\n",
        "'カフェ(数)',\n",
        " 'カフェ(チェーン店)(数)',\n",
        " 'ファストフード(数)',\n",
        " 'レストラン(数)',\n",
        " 'レストラン(チェーン店)(数)',\n",
        " '飲み屋(数)',"
      ],
      "metadata": {
        "id": "DCsQ7rFgq996"
      }
    },
    {
      "cell_type": "code",
      "source": [
        "score_name = '飲食店スコア'\n",
        "score_name_list.append(score_name)\n",
        "\n",
        "score_list = [\n",
        "    df_geo_master['カフェ(数)レベル'] * 0.7,\n",
        "    df_geo_master['カフェ(チェーン店)(数)レベル'] * 0.7,\n",
        "    df_geo_master['ファストフード(数)レベル'] * 0.5,\n",
        "    df_geo_master['レストラン(数)レベル'] * 1.0,\n",
        "    df_geo_master['レストラン(チェーン店)(数)レベル'] * 0.7,\n",
        "    df_geo_master['飲み屋(数)レベル'] * 0.5,\n",
        "]\n",
        "_tmp_score = pd.concat(score_list, axis=1).sum(axis=1, skipna=False)\n",
        "df_geo_master[score_name] = rank_score(_tmp_score).round(2)"
      ],
      "metadata": {
        "id": "ovw7rnyFq8Ay"
      },
      "execution_count": 31,
      "outputs": []
    },
    {
      "cell_type": "code",
      "source": [
        "plot_score(df_geo_master, score_name, _tmp_score)"
      ],
      "metadata": {
        "id": "9bCRADTGpp7i",
        "outputId": "1ba32652-3aec-46a7-f6d5-b548fd957464",
        "colab": {
          "base_uri": "https://localhost:8080/",
          "height": 681
        }
      },
      "execution_count": 32,
      "outputs": [
        {
          "output_type": "display_data",
          "data": {
            "text/plain": [
              "<Figure size 432x288 with 1 Axes>"
            ],
            "image/png": "[encoded data removed]"
          },
          "metadata": {
            "needs_background": "light"
          }
        },
        {
          "output_type": "display_data",
          "data": {
            "text/plain": [
              "<Figure size 432x288 with 1 Axes>"
            ],
            "image/png": "[encoded data removed]"
          },
          "metadata": {
            "needs_background": "light"
          }
        },
        {
          "output_type": "stream",
          "name": "stdout",
          "text": [
            "count    3145.000000\n",
            "mean        2.488779\n",
            "std         1.450477\n",
            "min         0.000000\n",
            "25%         1.230000\n",
            "50%         2.490000\n",
            "75%         3.740000\n",
            "max         5.000000\n",
            "Name: 飲食店スコア, dtype: float64\n"
          ]
        }
      ]
    },
    {
      "cell_type": "code",
      "source": [
        "score_name = '利便性スコア'\n",
        "score_name_list.append(score_name)\n",
        "\n",
        "score_list = [\n",
        "    df_geo_master['買い物スコア'] * 1.0,\n",
        "    df_geo_master['駅スコア'] * 1.0,\n",
        "    df_geo_master['飲食店スコア'] * 1.0,\n",
        "]\n",
        "_tmp_score = pd.concat(score_list, axis=1).sum(axis=1, skipna=False)\n",
        "df_geo_master[score_name] = rank_score(_tmp_score).round(2)"
      ],
      "metadata": {
        "id": "EmWlIcNzB0v2"
      },
      "execution_count": 33,
      "outputs": []
    },
    {
      "cell_type": "code",
      "source": [
        "plot_score(df_geo_master, score_name, _tmp_score)"
      ],
      "metadata": {
        "id": "QO8Y8wQ3DKL4",
        "outputId": "7096490b-20e6-4985-b91b-eeecc8db3cc6",
        "colab": {
          "base_uri": "https://localhost:8080/",
          "height": 681
        }
      },
      "execution_count": 34,
      "outputs": [
        {
          "output_type": "display_data",
          "data": {
            "text/plain": [
              "<Figure size 432x288 with 1 Axes>"
            ],
            "image/png": "[encoded data removed]"
          },
          "metadata": {
            "needs_background": "light"
          }
        },
        {
          "output_type": "display_data",
          "data": {
            "text/plain": [
              "<Figure size 432x288 with 1 Axes>"
            ],
            "image/png": "[encoded data removed]"
          },
          "metadata": {
            "needs_background": "light"
          }
        },
        {
          "output_type": "stream",
          "name": "stdout",
          "text": [
            "count    3141.000000\n",
            "mean        2.499952\n",
            "std         1.444042\n",
            "min         0.000000\n",
            "25%         1.250000\n",
            "50%         2.500000\n",
            "75%         3.750000\n",
            "max         5.000000\n",
            "Name: 利便性スコア, dtype: float64\n"
          ]
        }
      ]
    },
    {
      "cell_type": "code",
      "source": [
        "df_geo_master['最寄駅(距離)'] = df_geo_master['最寄駅(距離)'].round(3)"
      ],
      "metadata": {
        "id": "Pc9KoSAy_Pht"
      },
      "execution_count": 35,
      "outputs": []
    },
    {
      "cell_type": "code",
      "source": [
        "df_geo_master.head()"
      ],
      "metadata": {
        "id": "iJUTMLnxt6Jo",
        "outputId": "0e58c1cc-7cb9-4dce-ca6f-46aa37fab259",
        "colab": {
          "base_uri": "https://localhost:8080/",
          "height": 860
        }
      },
      "execution_count": 36,
      "outputs": [
        {
          "output_type": "execute_result",
          "data": {
            "text/plain": [
              "   town_id 市区町村名   町名     町丁目         緯度          経度  コンビニ(数)  スーパー(数)  \\\n",
              "0   101003  千代田区  丸の内  丸の内１丁目  35.681560  139.767201       72        3   \n",
              "1   101004  千代田区  丸の内  丸の内２丁目  35.680022  139.763447       54        1   \n",
              "2   101005  千代田区  丸の内  丸の内３丁目  35.676952  139.763476       46        1   \n",
              "3   101007  千代田区  大手町  大手町１丁目  35.688069  139.763929       37        1   \n",
              "4   101008  千代田区  大手町  大手町２丁目  35.686301  139.768087       45        3   \n",
              "\n",
              "   商店街(数)  銭湯(数)  カラオケ(数)  ネットカフェ(数)  クリーニング(数)  本DVD(数)  衣料品(数)  \\\n",
              "0       0      0        2          0          0        3      24   \n",
              "1       0      0        0          0          0        3      33   \n",
              "2       0      1        2          0          0        2      38   \n",
              "3       0      1        0          0          1        3      14   \n",
              "4       0      0        0          0          2        3      11   \n",
              "\n",
              "   ビューティーサロン(数)  100円ショップ(数)  カフェ(数)  カフェ(チェーン店)(数)  ファストフード(数)  レストラン(数)  \\\n",
              "0            31            1       8              4           1        22   \n",
              "1            22            1      11              5           2        23   \n",
              "2            38            1      14              5           2        24   \n",
              "3            23            0       8              8           1        18   \n",
              "4            21            0       7              7           1        18   \n",
              "\n",
              "   レストラン(チェーン店)(数)  飲み屋(数)   最寄駅  最寄駅(距離)  平均所要(時間)  コンビニ(数)レベル  スーパー(数)レベル  \\\n",
              "0                0      31   東京駅    0.037        16        5.00        2.90   \n",
              "1                0      36   東京駅    0.359        16        4.99        0.89   \n",
              "2                0      39  有楽町駅    0.219        20        4.97        0.89   \n",
              "3                0      30  大手町駅    0.308        20        4.86        0.89   \n",
              "4                0      25  大手町駅    0.447        20        4.96        2.90   \n",
              "\n",
              "   商店街(数)レベル  銭湯(数)レベル  カラオケ(数)レベル  ネットカフェ(数)レベル  クリーニング(数)レベル  本DVD(数)レベル  \\\n",
              "0        0.0      0.00        3.83           0.0          0.00        4.24   \n",
              "1        0.0      0.00        0.00           0.0          0.00        4.24   \n",
              "2        0.0      2.75        3.83           0.0          0.00        3.58   \n",
              "3        0.0      2.75        0.00           0.0          2.52        4.24   \n",
              "4        0.0      0.00        0.00           0.0          3.75        4.24   \n",
              "\n",
              "   衣料品(数)レベル  ビューティーサロン(数)レベル  100円ショップ(数)レベル  カフェ(数)レベル  カフェ(チェーン店)(数)レベル  \\\n",
              "0       4.79             3.80            4.01       3.16              4.52   \n",
              "1       4.97             2.87            4.01       3.92              4.72   \n",
              "2       4.99             4.38            4.01       4.50              4.72   \n",
              "3       3.93             2.99            0.00       3.16              4.97   \n",
              "4       3.44             2.74            0.00       2.86              4.92   \n",
              "\n",
              "   ファストフード(数)レベル  レストラン(数)レベル  レストラン(チェーン店)(数)レベル  飲み屋(数)レベル  最寄駅(距離)レベル  \\\n",
              "0           2.71         4.58                 0.0       4.35        4.99   \n",
              "1           4.10         4.68                 0.0       4.51        3.90   \n",
              "2           4.10         4.76                 0.0       4.61        4.66   \n",
              "3           2.71         3.63                 0.0       4.32        4.21   \n",
              "4           2.71         3.63                 0.0       4.05        3.42   \n",
              "\n",
              "   平均所要(時間)レベル  買い物スコア  駅スコア  飲食店スコア  利便性スコア  \n",
              "0         5.00    3.58  5.00    4.49    4.77  \n",
              "1         5.00    2.29  4.88    4.77    4.42  \n",
              "2         4.65    2.29  4.92    4.84    4.46  \n",
              "3         4.65    2.28  4.85    4.29    4.18  \n",
              "4         4.65    3.54  4.66    4.18    4.57  "
            ],
            "text/html": [
              "\n",
              "  <div id=\"df-5d51ea94-743f-4ca7-be07-af3bc44688f9\">\n",
              "    <div class=\"colab-df-container\">\n",
              "      <div>\n",
              "<style scoped>\n",
              "    .dataframe tbody tr th:only-of-type {\n",
              "        vertical-align: middle;\n",
              "    }\n",
              "\n",
              "    .dataframe tbody tr th {\n",
              "        vertical-align: top;\n",
              "    }\n",
              "\n",
              "    .dataframe thead th {\n",
              "        text-align: right;\n",
              "    }\n",
              "</style>\n",
              "<table border=\"1\" class=\"dataframe\">\n",
              "  <thead>\n",
              "    <tr style=\"text-align: right;\">\n",
              "      <th></th>\n",
              "      <th>town_id</th>\n",
              "      <th>市区町村名</th>\n",
              "      <th>町名</th>\n",
              "      <th>町丁目</th>\n",
              "      <th>緯度</th>\n",
              "      <th>経度</th>\n",
              "      <th>コンビニ(数)</th>\n",
              "      <th>スーパー(数)</th>\n",
              "      <th>商店街(数)</th>\n",
              "      <th>銭湯(数)</th>\n",
              "      <th>カラオケ(数)</th>\n",
              "      <th>ネットカフェ(数)</th>\n",
              "      <th>クリーニング(数)</th>\n",
              "      <th>本DVD(数)</th>\n",
              "      <th>衣料品(数)</th>\n",
              "      <th>ビューティーサロン(数)</th>\n",
              "      <th>100円ショップ(数)</th>\n",
              "      <th>カフェ(数)</th>\n",
              "      <th>カフェ(チェーン店)(数)</th>\n",
              "      <th>ファストフード(数)</th>\n",
              "      <th>レストラン(数)</th>\n",
              "      <th>レストラン(チェーン店)(数)</th>\n",
              "      <th>飲み屋(数)</th>\n",
              "      <th>最寄駅</th>\n",
              "      <th>最寄駅(距離)</th>\n",
              "      <th>平均所要(時間)</th>\n",
              "      <th>コンビニ(数)レベル</th>\n",
              "      <th>スーパー(数)レベル</th>\n",
              "      <th>商店街(数)レベル</th>\n",
              "      <th>銭湯(数)レベル</th>\n",
              "      <th>カラオケ(数)レベル</th>\n",
              "      <th>ネットカフェ(数)レベル</th>\n",
              "      <th>クリーニング(数)レベル</th>\n",
              "      <th>本DVD(数)レベル</th>\n",
              "      <th>衣料品(数)レベル</th>\n",
              "      <th>ビューティーサロン(数)レベル</th>\n",
              "      <th>100円ショップ(数)レベル</th>\n",
              "      <th>カフェ(数)レベル</th>\n",
              "      <th>カフェ(チェーン店)(数)レベル</th>\n",
              "      <th>ファストフード(数)レベル</th>\n",
              "      <th>レストラン(数)レベル</th>\n",
              "      <th>レストラン(チェーン店)(数)レベル</th>\n",
              "      <th>飲み屋(数)レベル</th>\n",
              "      <th>最寄駅(距離)レベル</th>\n",
              "      <th>平均所要(時間)レベル</th>\n",
              "      <th>買い物スコア</th>\n",
              "      <th>駅スコア</th>\n",
              "      <th>飲食店スコア</th>\n",
              "      <th>利便性スコア</th>\n",
              "    </tr>\n",
              "  </thead>\n",
              "  <tbody>\n",
              "    <tr>\n",
              "      <th>0</th>\n",
              "      <td>101003</td>\n",
              "      <td>千代田区</td>\n",
              "      <td>丸の内</td>\n",
              "      <td>丸の内１丁目</td>\n",
              "      <td>35.681560</td>\n",
              "      <td>139.767201</td>\n",
              "      <td>72</td>\n",
              "      <td>3</td>\n",
              "      <td>0</td>\n",
              "      <td>0</td>\n",
              "      <td>2</td>\n",
              "      <td>0</td>\n",
              "      <td>0</td>\n",
              "      <td>3</td>\n",
              "      <td>24</td>\n",
              "      <td>31</td>\n",
              "      <td>1</td>\n",
              "      <td>8</td>\n",
              "      <td>4</td>\n",
              "      <td>1</td>\n",
              "      <td>22</td>\n",
              "      <td>0</td>\n",
              "      <td>31</td>\n",
              "      <td>東京駅</td>\n",
              "      <td>0.037</td>\n",
              "      <td>16</td>\n",
              "      <td>5.00</td>\n",
              "      <td>2.90</td>\n",
              "      <td>0.0</td>\n",
              "      <td>0.00</td>\n",
              "      <td>3.83</td>\n",
              "      <td>0.0</td>\n",
              "      <td>0.00</td>\n",
              "      <td>4.24</td>\n",
              "      <td>4.79</td>\n",
              "      <td>3.80</td>\n",
              "      <td>4.01</td>\n",
              "      <td>3.16</td>\n",
              "      <td>4.52</td>\n",
              "      <td>2.71</td>\n",
              "      <td>4.58</td>\n",
              "      <td>0.0</td>\n",
              "      <td>4.35</td>\n",
              "      <td>4.99</td>\n",
              "      <td>5.00</td>\n",
              "      <td>3.58</td>\n",
              "      <td>5.00</td>\n",
              "      <td>4.49</td>\n",
              "      <td>4.77</td>\n",
              "    </tr>\n",
              "    <tr>\n",
              "      <th>1</th>\n",
              "      <td>101004</td>\n",
              "      <td>千代田区</td>\n",
              "      <td>丸の内</td>\n",
              "      <td>丸の内２丁目</td>\n",
              "      <td>35.680022</td>\n",
              "      <td>139.763447</td>\n",
              "      <td>54</td>\n",
              "      <td>1</td>\n",
              "      <td>0</td>\n",
              "      <td>0</td>\n",
              "      <td>0</td>\n",
              "      <td>0</td>\n",
              "      <td>0</td>\n",
              "      <td>3</td>\n",
              "      <td>33</td>\n",
              "      <td>22</td>\n",
              "      <td>1</td>\n",
              "      <td>11</td>\n",
              "      <td>5</td>\n",
              "      <td>2</td>\n",
              "      <td>23</td>\n",
              "      <td>0</td>\n",
              "      <td>36</td>\n",
              "      <td>東京駅</td>\n",
              "      <td>0.359</td>\n",
              "      <td>16</td>\n",
              "      <td>4.99</td>\n",
              "      <td>0.89</td>\n",
              "      <td>0.0</td>\n",
              "      <td>0.00</td>\n",
              "      <td>0.00</td>\n",
              "      <td>0.0</td>\n",
              "      <td>0.00</td>\n",
              "      <td>4.24</td>\n",
              "      <td>4.97</td>\n",
              "      <td>2.87</td>\n",
              "      <td>4.01</td>\n",
              "      <td>3.92</td>\n",
              "      <td>4.72</td>\n",
              "      <td>4.10</td>\n",
              "      <td>4.68</td>\n",
              "      <td>0.0</td>\n",
              "      <td>4.51</td>\n",
              "      <td>3.90</td>\n",
              "      <td>5.00</td>\n",
              "      <td>2.29</td>\n",
              "      <td>4.88</td>\n",
              "      <td>4.77</td>\n",
              "      <td>4.42</td>\n",
              "    </tr>\n",
              "    <tr>\n",
              "      <th>2</th>\n",
              "      <td>101005</td>\n",
              "      <td>千代田区</td>\n",
              "      <td>丸の内</td>\n",
              "      <td>丸の内３丁目</td>\n",
              "      <td>35.676952</td>\n",
              "      <td>139.763476</td>\n",
              "      <td>46</td>\n",
              "      <td>1</td>\n",
              "      <td>0</td>\n",
              "      <td>1</td>\n",
              "      <td>2</td>\n",
              "      <td>0</td>\n",
              "      <td>0</td>\n",
              "      <td>2</td>\n",
              "      <td>38</td>\n",
              "      <td>38</td>\n",
              "      <td>1</td>\n",
              "      <td>14</td>\n",
              "      <td>5</td>\n",
              "      <td>2</td>\n",
              "      <td>24</td>\n",
              "      <td>0</td>\n",
              "      <td>39</td>\n",
              "      <td>有楽町駅</td>\n",
              "      <td>0.219</td>\n",
              "      <td>20</td>\n",
              "      <td>4.97</td>\n",
              "      <td>0.89</td>\n",
              "      <td>0.0</td>\n",
              "      <td>2.75</td>\n",
              "      <td>3.83</td>\n",
              "      <td>0.0</td>\n",
              "      <td>0.00</td>\n",
              "      <td>3.58</td>\n",
              "      <td>4.99</td>\n",
              "      <td>4.38</td>\n",
              "      <td>4.01</td>\n",
              "      <td>4.50</td>\n",
              "      <td>4.72</td>\n",
              "      <td>4.10</td>\n",
              "      <td>4.76</td>\n",
              "      <td>0.0</td>\n",
              "      <td>4.61</td>\n",
              "      <td>4.66</td>\n",
              "      <td>4.65</td>\n",
              "      <td>2.29</td>\n",
              "      <td>4.92</td>\n",
              "      <td>4.84</td>\n",
              "      <td>4.46</td>\n",
              "    </tr>\n",
              "    <tr>\n",
              "      <th>3</th>\n",
              "      <td>101007</td>\n",
              "      <td>千代田区</td>\n",
              "      <td>大手町</td>\n",
              "      <td>大手町１丁目</td>\n",
              "      <td>35.688069</td>\n",
              "      <td>139.763929</td>\n",
              "      <td>37</td>\n",
              "      <td>1</td>\n",
              "      <td>0</td>\n",
              "      <td>1</td>\n",
              "      <td>0</td>\n",
              "      <td>0</td>\n",
              "      <td>1</td>\n",
              "      <td>3</td>\n",
              "      <td>14</td>\n",
              "      <td>23</td>\n",
              "      <td>0</td>\n",
              "      <td>8</td>\n",
              "      <td>8</td>\n",
              "      <td>1</td>\n",
              "      <td>18</td>\n",
              "      <td>0</td>\n",
              "      <td>30</td>\n",
              "      <td>大手町駅</td>\n",
              "      <td>0.308</td>\n",
              "      <td>20</td>\n",
              "      <td>4.86</td>\n",
              "      <td>0.89</td>\n",
              "      <td>0.0</td>\n",
              "      <td>2.75</td>\n",
              "      <td>0.00</td>\n",
              "      <td>0.0</td>\n",
              "      <td>2.52</td>\n",
              "      <td>4.24</td>\n",
              "      <td>3.93</td>\n",
              "      <td>2.99</td>\n",
              "      <td>0.00</td>\n",
              "      <td>3.16</td>\n",
              "      <td>4.97</td>\n",
              "      <td>2.71</td>\n",
              "      <td>3.63</td>\n",
              "      <td>0.0</td>\n",
              "      <td>4.32</td>\n",
              "      <td>4.21</td>\n",
              "      <td>4.65</td>\n",
              "      <td>2.28</td>\n",
              "      <td>4.85</td>\n",
              "      <td>4.29</td>\n",
              "      <td>4.18</td>\n",
              "    </tr>\n",
              "    <tr>\n",
              "      <th>4</th>\n",
              "      <td>101008</td>\n",
              "      <td>千代田区</td>\n",
              "      <td>大手町</td>\n",
              "      <td>大手町２丁目</td>\n",
              "      <td>35.686301</td>\n",
              "      <td>139.768087</td>\n",
              "      <td>45</td>\n",
              "      <td>3</td>\n",
              "      <td>0</td>\n",
              "      <td>0</td>\n",
              "      <td>0</td>\n",
              "      <td>0</td>\n",
              "      <td>2</td>\n",
              "      <td>3</td>\n",
              "      <td>11</td>\n",
              "      <td>21</td>\n",
              "      <td>0</td>\n",
              "      <td>7</td>\n",
              "      <td>7</td>\n",
              "      <td>1</td>\n",
              "      <td>18</td>\n",
              "      <td>0</td>\n",
              "      <td>25</td>\n",
              "      <td>大手町駅</td>\n",
              "      <td>0.447</td>\n",
              "      <td>20</td>\n",
              "      <td>4.96</td>\n",
              "      <td>2.90</td>\n",
              "      <td>0.0</td>\n",
              "      <td>0.00</td>\n",
              "      <td>0.00</td>\n",
              "      <td>0.0</td>\n",
              "      <td>3.75</td>\n",
              "      <td>4.24</td>\n",
              "      <td>3.44</td>\n",
              "      <td>2.74</td>\n",
              "      <td>0.00</td>\n",
              "      <td>2.86</td>\n",
              "      <td>4.92</td>\n",
              "      <td>2.71</td>\n",
              "      <td>3.63</td>\n",
              "      <td>0.0</td>\n",
              "      <td>4.05</td>\n",
              "      <td>3.42</td>\n",
              "      <td>4.65</td>\n",
              "      <td>3.54</td>\n",
              "      <td>4.66</td>\n",
              "      <td>4.18</td>\n",
              "      <td>4.57</td>\n",
              "    </tr>\n",
              "  </tbody>\n",
              "</table>\n",
              "</div>\n",
              "      <button class=\"colab-df-convert\" onclick=\"convertToInteractive('df-5d51ea94-743f-4ca7-be07-af3bc44688f9')\"\n",
              "              title=\"Convert this dataframe to an interactive table.\"\n",
              "              style=\"display:none;\">\n",
              "        \n",
              "  <svg xmlns=\"http://www.w3.org/2000/svg\" height=\"24px\"viewBox=\"0 0 24 24\"\n",
              "       width=\"24px\">\n",
              "    <path d=\"M0 0h24v24H0V0z\" fill=\"none\"/>\n",
              "    <path d=\"M18.56 5.44l.94 2.06.94-2.06 2.06-.94-2.06-.94-.94-2.06-.94 2.06-2.06.94zm-11 1L8.5 8.5l.94-2.06 2.06-.94-2.06-.94L8.5 2.5l-.94 2.06-2.06.94zm10 10l.94 2.06.94-2.06 2.06-.94-2.06-.94-.94-2.06-.94 2.06-2.06.94z\"/><path d=\"M17.41 7.96l-1.37-1.37c-.4-.4-.92-.59-1.43-.59-.52 0-1.04.2-1.43.59L10.3 9.45l-7.72 7.72c-.78.78-.78 2.05 0 2.83L4 21.41c.39.39.9.59 1.41.59.51 0 1.02-.2 1.41-.59l7.78-7.78 2.81-2.81c.8-.78.8-2.07 0-2.86zM5.41 20L4 18.59l7.72-7.72 1.47 1.35L5.41 20z\"/>\n",
              "  </svg>\n",
              "      </button>\n",
              "      \n",
              "  <style>\n",
              "    .colab-df-container {\n",
              "      display:flex;\n",
              "      flex-wrap:wrap;\n",
              "      gap: 12px;\n",
              "    }\n",
              "\n",
              "    .colab-df-convert {\n",
              "      background-color: #E8F0FE;\n",
              "      border: none;\n",
              "      border-radius: 50%;\n",
              "      cursor: pointer;\n",
              "      display: none;\n",
              "      fill: #1967D2;\n",
              "      height: 32px;\n",
              "      padding: 0 0 0 0;\n",
              "      width: 32px;\n",
              "    }\n",
              "\n",
              "    .colab-df-convert:hover {\n",
              "      background-color: #E2EBFA;\n",
              "      box-shadow: 0px 1px 2px rgba(60, 64, 67, 0.3), 0px 1px 3px 1px rgba(60, 64, 67, 0.15);\n",
              "      fill: #174EA6;\n",
              "    }\n",
              "\n",
              "    [theme=dark] .colab-df-convert {\n",
              "      background-color: #3B4455;\n",
              "      fill: #D2E3FC;\n",
              "    }\n",
              "\n",
              "    [theme=dark] .colab-df-convert:hover {\n",
              "      background-color: #434B5C;\n",
              "      box-shadow: 0px 1px 3px 1px rgba(0, 0, 0, 0.15);\n",
              "      filter: drop-shadow(0px 1px 2px rgba(0, 0, 0, 0.3));\n",
              "      fill: #FFFFFF;\n",
              "    }\n",
              "  </style>\n",
              "\n",
              "      <script>\n",
              "        const buttonEl =\n",
              "          document.querySelector('#df-5d51ea94-743f-4ca7-be07-af3bc44688f9 button.colab-df-convert');\n",
              "        buttonEl.style.display =\n",
              "          google.colab.kernel.accessAllowed ? 'block' : 'none';\n",
              "\n",
              "        async function convertToInteractive(key) {\n",
              "          const element = document.querySelector('#df-5d51ea94-743f-4ca7-be07-af3bc44688f9');\n",
              "          const dataTable =\n",
              "            await google.colab.kernel.invokeFunction('convertToInteractive',\n",
              "                                                     [key], {});\n",
              "          if (!dataTable) return;\n",
              "\n",
              "          const docLinkHtml = 'Like what you see? Visit the ' +\n",
              "            '<a target=\"_blank\" href=https://colab.research.google.com/notebooks/data_table.ipynb>data table notebook</a>'\n",
              "            + ' to learn more about interactive tables.';\n",
              "          element.innerHTML = '';\n",
              "          dataTable['output_type'] = 'display_data';\n",
              "          await google.colab.output.renderOutput(dataTable, element);\n",
              "          const docLink = document.createElement('div');\n",
              "          docLink.innerHTML = docLinkHtml;\n",
              "          element.appendChild(docLink);\n",
              "        }\n",
              "      </script>\n",
              "    </div>\n",
              "  </div>\n",
              "  "
            ]
          },
          "metadata": {},
          "execution_count": 36
        }
      ]
    },
    {
      "cell_type": "code",
      "source": [
        "output_score_file = 'convenience_score.csv'"
      ],
      "metadata": {
        "id": "3D8OiBGRBsPy"
      },
      "execution_count": 37,
      "outputs": []
    },
    {
      "cell_type": "code",
      "source": [
        "df_geo_master[\n",
        "    ['town_id'] + feature_list + score_name_list\n",
        "].to_csv(os.path.join(DIR_NAME, output_score_file), index=False, encoding='utf-8_sig')"
      ],
      "metadata": {
        "id": "mGvdhIyy9-kN"
      },
      "execution_count": 45,
      "outputs": []
    },
    {
      "cell_type": "code",
      "source": [
        "for score in score_name_list:\n",
        "    plt.figure(figsize=(15, 5))\n",
        "    sns.barplot(x='市区町村名', y=score, data=df_geo_master)\n",
        "    plt.show()"
      ],
      "metadata": {
        "colab": {
          "base_uri": "https://localhost:8080/",
          "height": 1000
        },
        "id": "ufGDZQX3-lnp",
        "outputId": "5a3c6701-5574-43ca-8d80-7a97fc12e6a0"
      },
      "execution_count": 39,
      "outputs": [
        {
          "output_type": "display_data",
          "data": {
            "text/plain": [
              "<Figure size 1080x360 with 1 Axes>"
            ],
            "image/png": "[encoded data removed]"
          },
          "metadata": {
            "needs_background": "light"
          }
        },
        {
          "output_type": "display_data",
          "data": {
            "text/plain": [
              "<Figure size 1080x360 with 1 Axes>"
            ],
            "image/png": "[encoded data removed]"
          },
          "metadata": {
            "needs_background": "light"
          }
        },
        {
          "output_type": "display_data",
          "data": {
            "text/plain": [
              "<Figure size 1080x360 with 1 Axes>"
            ],
            "image/png": "[encoded data removed]"
          },
          "metadata": {
            "needs_background": "light"
          }
        },
        {
          "output_type": "display_data",
          "data": {
            "text/plain": [
              "<Figure size 1080x360 with 1 Axes>"
            ],
            "image/png": "[encoded data removed]"
          },
          "metadata": {
            "needs_background": "light"
          }
        }
      ]
    },
    {
      "cell_type": "code",
      "source": [
        "def get_score_rank(score_name):\n",
        "    df_level = df_geo_master.copy()\n",
        "    df_level['rank'] = df_level.groupby('町名')[score_name].transform('rank', ascending=False)\n",
        "    df_level = df_level[df_level['rank'] == 1].sort_values(score_name, ascending=False)[\n",
        "        ['市区町村名', '町名', '町丁目', '最寄駅'] + feature_list + score_name_list\n",
        "    ].reset_index(drop=True)\n",
        "    return df_level"
      ],
      "metadata": {
        "id": "PQcg6iA0-peB"
      },
      "execution_count": 46,
      "outputs": []
    },
    {
      "cell_type": "code",
      "source": [
        "df_level = get_score_rank('利便性スコア')\n",
        "df_level.head(10)"
      ],
      "metadata": {
        "colab": {
          "base_uri": "https://localhost:8080/",
          "height": 876
        },
        "id": "wnuF1x9Z_mPS",
        "outputId": "479f575c-89c2-434f-c2fb-a81ab8c37c1c"
      },
      "execution_count": 47,
      "outputs": [
        {
          "output_type": "execute_result",
          "data": {
            "text/plain": [
              "  市区町村名    町名      町丁目    最寄駅  コンビニ(数)  スーパー(数)  商店街(数)  銭湯(数)  カラオケ(数)  \\\n",
              "0   新宿区   揚場町      揚場町   飯田橋駅       31        5       2      2        7   \n",
              "1   新宿区  神楽河岸     神楽河岸   飯田橋駅       33        4       2      1        7   \n",
              "2   新宿区  下宮比町     下宮比町   飯田橋駅       29        4       1      1        7   \n",
              "3   新宿区   神楽坂   神楽坂３丁目   飯田橋駅       27        8       1      2        5   \n",
              "4   新宿区  津久戸町     津久戸町   飯田橋駅       26        7       1      2        5   \n",
              "5   新宿区   大久保   大久保１丁目  新大久保駅       30        8       1      2        8   \n",
              "6   台東区    上野    上野６丁目   御徒町駅       51       12       2      2       11   \n",
              "7   荒川区  西日暮里  西日暮里３丁目  西日暮里駅       19        8       2      2        3   \n",
              "8   新宿区  高田馬場  高田馬場１丁目  高田馬場駅       28        7       0      0        3   \n",
              "9   中野区    中野    中野４丁目    中野駅       24        5       1      0        1   \n",
              "\n",
              "   ネットカフェ(数)  クリーニング(数)  本DVD(数)  衣料品(数)  ビューティーサロン(数)  100円ショップ(数)  カフェ(数)  \\\n",
              "0          2          3        2      19            49            0      14   \n",
              "1          2          1        4      19            50            0      14   \n",
              "2          2          1        2      18            50            0      17   \n",
              "3          1          3        2      24            47            0      14   \n",
              "4          1          3        3      20            43            0      18   \n",
              "5          3          1        1      11            36            1      12   \n",
              "6         10          3        4      21            49            1      12   \n",
              "7          0          1        5      25            37            0      25   \n",
              "8          1          4        8      29            56            1      19   \n",
              "9          0          0        4      19            17            0       7   \n",
              "\n",
              "   カフェ(チェーン店)(数)  ファストフード(数)  レストラン(数)  レストラン(チェーン店)(数)  飲み屋(数)  最寄駅(距離)  \\\n",
              "0              7           0        27                2      55    0.176   \n",
              "1              7           0        17                2      52    0.184   \n",
              "2              6           0        28                2      51    0.167   \n",
              "3              7           0        27                2      59    0.373   \n",
              "4              2           0        26                1      59    0.357   \n",
              "5              2           2        20                0      44    0.489   \n",
              "6              7           1        19                0      50    0.208   \n",
              "7              3           0        20                0      58    0.247   \n",
              "8              5           2        20                1      69    0.333   \n",
              "9              4           1        23                1      42    0.389   \n",
              "\n",
              "   平均所要(時間)  買い物スコア  駅スコア  飲食店スコア  利便性スコア  \n",
              "0        20    4.89  4.95    4.96    5.00  \n",
              "1        20    4.80  4.94    4.85    5.00  \n",
              "2        20    4.71  4.95    4.97    5.00  \n",
              "3        20    4.92  4.77    4.96    5.00  \n",
              "4        20    4.90  4.79    4.88    4.99  \n",
              "5        18    4.93  4.73    4.64    4.99  \n",
              "6        21    5.00  4.88    4.63    4.99  \n",
              "7        21    4.98  4.85    4.38    4.98  \n",
              "8        18    4.40  4.89    4.99    4.98  \n",
              "9        24    4.79  4.47    4.90    4.97  "
            ],
            "text/html": [
              "\n",
              "  <div id=\"df-431c867d-ebd5-4e15-b993-5d3430fe67ae\">\n",
              "    <div class=\"colab-df-container\">\n",
              "      <div>\n",
              "<style scoped>\n",
              "    .dataframe tbody tr th:only-of-type {\n",
              "        vertical-align: middle;\n",
              "    }\n",
              "\n",
              "    .dataframe tbody tr th {\n",
              "        vertical-align: top;\n",
              "    }\n",
              "\n",
              "    .dataframe thead th {\n",
              "        text-align: right;\n",
              "    }\n",
              "</style>\n",
              "<table border=\"1\" class=\"dataframe\">\n",
              "  <thead>\n",
              "    <tr style=\"text-align: right;\">\n",
              "      <th></th>\n",
              "      <th>市区町村名</th>\n",
              "      <th>町名</th>\n",
              "      <th>町丁目</th>\n",
              "      <th>最寄駅</th>\n",
              "      <th>コンビニ(数)</th>\n",
              "      <th>スーパー(数)</th>\n",
              "      <th>商店街(数)</th>\n",
              "      <th>銭湯(数)</th>\n",
              "      <th>カラオケ(数)</th>\n",
              "      <th>ネットカフェ(数)</th>\n",
              "      <th>クリーニング(数)</th>\n",
              "      <th>本DVD(数)</th>\n",
              "      <th>衣料品(数)</th>\n",
              "      <th>ビューティーサロン(数)</th>\n",
              "      <th>100円ショップ(数)</th>\n",
              "      <th>カフェ(数)</th>\n",
              "      <th>カフェ(チェーン店)(数)</th>\n",
              "      <th>ファストフード(数)</th>\n",
              "      <th>レストラン(数)</th>\n",
              "      <th>レストラン(チェーン店)(数)</th>\n",
              "      <th>飲み屋(数)</th>\n",
              "      <th>最寄駅(距離)</th>\n",
              "      <th>平均所要(時間)</th>\n",
              "      <th>買い物スコア</th>\n",
              "      <th>駅スコア</th>\n",
              "      <th>飲食店スコア</th>\n",
              "      <th>利便性スコア</th>\n",
              "    </tr>\n",
              "  </thead>\n",
              "  <tbody>\n",
              "    <tr>\n",
              "      <th>0</th>\n",
              "      <td>新宿区</td>\n",
              "      <td>揚場町</td>\n",
              "      <td>揚場町</td>\n",
              "      <td>飯田橋駅</td>\n",
              "      <td>31</td>\n",
              "      <td>5</td>\n",
              "      <td>2</td>\n",
              "      <td>2</td>\n",
              "      <td>7</td>\n",
              "      <td>2</td>\n",
              "      <td>3</td>\n",
              "      <td>2</td>\n",
              "      <td>19</td>\n",
              "      <td>49</td>\n",
              "      <td>0</td>\n",
              "      <td>14</td>\n",
              "      <td>7</td>\n",
              "      <td>0</td>\n",
              "      <td>27</td>\n",
              "      <td>2</td>\n",
              "      <td>55</td>\n",
              "      <td>0.176</td>\n",
              "      <td>20</td>\n",
              "      <td>4.89</td>\n",
              "      <td>4.95</td>\n",
              "      <td>4.96</td>\n",
              "      <td>5.00</td>\n",
              "    </tr>\n",
              "    <tr>\n",
              "      <th>1</th>\n",
              "      <td>新宿区</td>\n",
              "      <td>神楽河岸</td>\n",
              "      <td>神楽河岸</td>\n",
              "      <td>飯田橋駅</td>\n",
              "      <td>33</td>\n",
              "      <td>4</td>\n",
              "      <td>2</td>\n",
              "      <td>1</td>\n",
              "      <td>7</td>\n",
              "      <td>2</td>\n",
              "      <td>1</td>\n",
              "      <td>4</td>\n",
              "      <td>19</td>\n",
              "      <td>50</td>\n",
              "      <td>0</td>\n",
              "      <td>14</td>\n",
              "      <td>7</td>\n",
              "      <td>0</td>\n",
              "      <td>17</td>\n",
              "      <td>2</td>\n",
              "      <td>52</td>\n",
              "      <td>0.184</td>\n",
              "      <td>20</td>\n",
              "      <td>4.80</td>\n",
              "      <td>4.94</td>\n",
              "      <td>4.85</td>\n",
              "      <td>5.00</td>\n",
              "    </tr>\n",
              "    <tr>\n",
              "      <th>2</th>\n",
              "      <td>新宿区</td>\n",
              "      <td>下宮比町</td>\n",
              "      <td>下宮比町</td>\n",
              "      <td>飯田橋駅</td>\n",
              "      <td>29</td>\n",
              "      <td>4</td>\n",
              "      <td>1</td>\n",
              "      <td>1</td>\n",
              "      <td>7</td>\n",
              "      <td>2</td>\n",
              "      <td>1</td>\n",
              "      <td>2</td>\n",
              "      <td>18</td>\n",
              "      <td>50</td>\n",
              "      <td>0</td>\n",
              "      <td>17</td>\n",
              "      <td>6</td>\n",
              "      <td>0</td>\n",
              "      <td>28</td>\n",
              "      <td>2</td>\n",
              "      <td>51</td>\n",
              "      <td>0.167</td>\n",
              "      <td>20</td>\n",
              "      <td>4.71</td>\n",
              "      <td>4.95</td>\n",
              "      <td>4.97</td>\n",
              "      <td>5.00</td>\n",
              "    </tr>\n",
              "    <tr>\n",
              "      <th>3</th>\n",
              "      <td>新宿区</td>\n",
              "      <td>神楽坂</td>\n",
              "      <td>神楽坂３丁目</td>\n",
              "      <td>飯田橋駅</td>\n",
              "      <td>27</td>\n",
              "      <td>8</td>\n",
              "      <td>1</td>\n",
              "      <td>2</td>\n",
              "      <td>5</td>\n",
              "      <td>1</td>\n",
              "      <td>3</td>\n",
              "      <td>2</td>\n",
              "      <td>24</td>\n",
              "      <td>47</td>\n",
              "      <td>0</td>\n",
              "      <td>14</td>\n",
              "      <td>7</td>\n",
              "      <td>0</td>\n",
              "      <td>27</td>\n",
              "      <td>2</td>\n",
              "      <td>59</td>\n",
              "      <td>0.373</td>\n",
              "      <td>20</td>\n",
              "      <td>4.92</td>\n",
              "      <td>4.77</td>\n",
              "      <td>4.96</td>\n",
              "      <td>5.00</td>\n",
              "    </tr>\n",
              "    <tr>\n",
              "      <th>4</th>\n",
              "      <td>新宿区</td>\n",
              "      <td>津久戸町</td>\n",
              "      <td>津久戸町</td>\n",
              "      <td>飯田橋駅</td>\n",
              "      <td>26</td>\n",
              "      <td>7</td>\n",
              "      <td>1</td>\n",
              "      <td>2</td>\n",
              "      <td>5</td>\n",
              "      <td>1</td>\n",
              "      <td>3</td>\n",
              "      <td>3</td>\n",
              "      <td>20</td>\n",
              "      <td>43</td>\n",
              "      <td>0</td>\n",
              "      <td>18</td>\n",
              "      <td>2</td>\n",
              "      <td>0</td>\n",
              "      <td>26</td>\n",
              "      <td>1</td>\n",
              "      <td>59</td>\n",
              "      <td>0.357</td>\n",
              "      <td>20</td>\n",
              "      <td>4.90</td>\n",
              "      <td>4.79</td>\n",
              "      <td>4.88</td>\n",
              "      <td>4.99</td>\n",
              "    </tr>\n",
              "    <tr>\n",
              "      <th>5</th>\n",
              "      <td>新宿区</td>\n",
              "      <td>大久保</td>\n",
              "      <td>大久保１丁目</td>\n",
              "      <td>新大久保駅</td>\n",
              "      <td>30</td>\n",
              "      <td>8</td>\n",
              "      <td>1</td>\n",
              "      <td>2</td>\n",
              "      <td>8</td>\n",
              "      <td>3</td>\n",
              "      <td>1</td>\n",
              "      <td>1</td>\n",
              "      <td>11</td>\n",
              "      <td>36</td>\n",
              "      <td>1</td>\n",
              "      <td>12</td>\n",
              "      <td>2</td>\n",
              "      <td>2</td>\n",
              "      <td>20</td>\n",
              "      <td>0</td>\n",
              "      <td>44</td>\n",
              "      <td>0.489</td>\n",
              "      <td>18</td>\n",
              "      <td>4.93</td>\n",
              "      <td>4.73</td>\n",
              "      <td>4.64</td>\n",
              "      <td>4.99</td>\n",
              "    </tr>\n",
              "    <tr>\n",
              "      <th>6</th>\n",
              "      <td>台東区</td>\n",
              "      <td>上野</td>\n",
              "      <td>上野６丁目</td>\n",
              "      <td>御徒町駅</td>\n",
              "      <td>51</td>\n",
              "      <td>12</td>\n",
              "      <td>2</td>\n",
              "      <td>2</td>\n",
              "      <td>11</td>\n",
              "      <td>10</td>\n",
              "      <td>3</td>\n",
              "      <td>4</td>\n",
              "      <td>21</td>\n",
              "      <td>49</td>\n",
              "      <td>1</td>\n",
              "      <td>12</td>\n",
              "      <td>7</td>\n",
              "      <td>1</td>\n",
              "      <td>19</td>\n",
              "      <td>0</td>\n",
              "      <td>50</td>\n",
              "      <td>0.208</td>\n",
              "      <td>21</td>\n",
              "      <td>5.00</td>\n",
              "      <td>4.88</td>\n",
              "      <td>4.63</td>\n",
              "      <td>4.99</td>\n",
              "    </tr>\n",
              "    <tr>\n",
              "      <th>7</th>\n",
              "      <td>荒川区</td>\n",
              "      <td>西日暮里</td>\n",
              "      <td>西日暮里３丁目</td>\n",
              "      <td>西日暮里駅</td>\n",
              "      <td>19</td>\n",
              "      <td>8</td>\n",
              "      <td>2</td>\n",
              "      <td>2</td>\n",
              "      <td>3</td>\n",
              "      <td>0</td>\n",
              "      <td>1</td>\n",
              "      <td>5</td>\n",
              "      <td>25</td>\n",
              "      <td>37</td>\n",
              "      <td>0</td>\n",
              "      <td>25</td>\n",
              "      <td>3</td>\n",
              "      <td>0</td>\n",
              "      <td>20</td>\n",
              "      <td>0</td>\n",
              "      <td>58</td>\n",
              "      <td>0.247</td>\n",
              "      <td>21</td>\n",
              "      <td>4.98</td>\n",
              "      <td>4.85</td>\n",
              "      <td>4.38</td>\n",
              "      <td>4.98</td>\n",
              "    </tr>\n",
              "    <tr>\n",
              "      <th>8</th>\n",
              "      <td>新宿区</td>\n",
              "      <td>高田馬場</td>\n",
              "      <td>高田馬場１丁目</td>\n",
              "      <td>高田馬場駅</td>\n",
              "      <td>28</td>\n",
              "      <td>7</td>\n",
              "      <td>0</td>\n",
              "      <td>0</td>\n",
              "      <td>3</td>\n",
              "      <td>1</td>\n",
              "      <td>4</td>\n",
              "      <td>8</td>\n",
              "      <td>29</td>\n",
              "      <td>56</td>\n",
              "      <td>1</td>\n",
              "      <td>19</td>\n",
              "      <td>5</td>\n",
              "      <td>2</td>\n",
              "      <td>20</td>\n",
              "      <td>1</td>\n",
              "      <td>69</td>\n",
              "      <td>0.333</td>\n",
              "      <td>18</td>\n",
              "      <td>4.40</td>\n",
              "      <td>4.89</td>\n",
              "      <td>4.99</td>\n",
              "      <td>4.98</td>\n",
              "    </tr>\n",
              "    <tr>\n",
              "      <th>9</th>\n",
              "      <td>中野区</td>\n",
              "      <td>中野</td>\n",
              "      <td>中野４丁目</td>\n",
              "      <td>中野駅</td>\n",
              "      <td>24</td>\n",
              "      <td>5</td>\n",
              "      <td>1</td>\n",
              "      <td>0</td>\n",
              "      <td>1</td>\n",
              "      <td>0</td>\n",
              "      <td>0</td>\n",
              "      <td>4</td>\n",
              "      <td>19</td>\n",
              "      <td>17</td>\n",
              "      <td>0</td>\n",
              "      <td>7</td>\n",
              "      <td>4</td>\n",
              "      <td>1</td>\n",
              "      <td>23</td>\n",
              "      <td>1</td>\n",
              "      <td>42</td>\n",
              "      <td>0.389</td>\n",
              "      <td>24</td>\n",
              "      <td>4.79</td>\n",
              "      <td>4.47</td>\n",
              "      <td>4.90</td>\n",
              "      <td>4.97</td>\n",
              "    </tr>\n",
              "  </tbody>\n",
              "</table>\n",
              "</div>\n",
              "      <button class=\"colab-df-convert\" onclick=\"convertToInteractive('df-431c867d-ebd5-4e15-b993-5d3430fe67ae')\"\n",
              "              title=\"Convert this dataframe to an interactive table.\"\n",
              "              style=\"display:none;\">\n",
              "        \n",
              "  <svg xmlns=\"http://www.w3.org/2000/svg\" height=\"24px\"viewBox=\"0 0 24 24\"\n",
              "       width=\"24px\">\n",
              "    <path d=\"M0 0h24v24H0V0z\" fill=\"none\"/>\n",
              "    <path d=\"M18.56 5.44l.94 2.06.94-2.06 2.06-.94-2.06-.94-.94-2.06-.94 2.06-2.06.94zm-11 1L8.5 8.5l.94-2.06 2.06-.94-2.06-.94L8.5 2.5l-.94 2.06-2.06.94zm10 10l.94 2.06.94-2.06 2.06-.94-2.06-.94-.94-2.06-.94 2.06-2.06.94z\"/><path d=\"M17.41 7.96l-1.37-1.37c-.4-.4-.92-.59-1.43-.59-.52 0-1.04.2-1.43.59L10.3 9.45l-7.72 7.72c-.78.78-.78 2.05 0 2.83L4 21.41c.39.39.9.59 1.41.59.51 0 1.02-.2 1.41-.59l7.78-7.78 2.81-2.81c.8-.78.8-2.07 0-2.86zM5.41 20L4 18.59l7.72-7.72 1.47 1.35L5.41 20z\"/>\n",
              "  </svg>\n",
              "      </button>\n",
              "      \n",
              "  <style>\n",
              "    .colab-df-container {\n",
              "      display:flex;\n",
              "      flex-wrap:wrap;\n",
              "      gap: 12px;\n",
              "    }\n",
              "\n",
              "    .colab-df-convert {\n",
              "      background-color: #E8F0FE;\n",
              "      border: none;\n",
              "      border-radius: 50%;\n",
              "      cursor: pointer;\n",
              "      display: none;\n",
              "      fill: #1967D2;\n",
              "      height: 32px;\n",
              "      padding: 0 0 0 0;\n",
              "      width: 32px;\n",
              "    }\n",
              "\n",
              "    .colab-df-convert:hover {\n",
              "      background-color: #E2EBFA;\n",
              "      box-shadow: 0px 1px 2px rgba(60, 64, 67, 0.3), 0px 1px 3px 1px rgba(60, 64, 67, 0.15);\n",
              "      fill: #174EA6;\n",
              "    }\n",
              "\n",
              "    [theme=dark] .colab-df-convert {\n",
              "      background-color: #3B4455;\n",
              "      fill: #D2E3FC;\n",
              "    }\n",
              "\n",
              "    [theme=dark] .colab-df-convert:hover {\n",
              "      background-color: #434B5C;\n",
              "      box-shadow: 0px 1px 3px 1px rgba(0, 0, 0, 0.15);\n",
              "      filter: drop-shadow(0px 1px 2px rgba(0, 0, 0, 0.3));\n",
              "      fill: #FFFFFF;\n",
              "    }\n",
              "  </style>\n",
              "\n",
              "      <script>\n",
              "        const buttonEl =\n",
              "          document.querySelector('#df-431c867d-ebd5-4e15-b993-5d3430fe67ae button.colab-df-convert');\n",
              "        buttonEl.style.display =\n",
              "          google.colab.kernel.accessAllowed ? 'block' : 'none';\n",
              "\n",
              "        async function convertToInteractive(key) {\n",
              "          const element = document.querySelector('#df-431c867d-ebd5-4e15-b993-5d3430fe67ae');\n",
              "          const dataTable =\n",
              "            await google.colab.kernel.invokeFunction('convertToInteractive',\n",
              "                                                     [key], {});\n",
              "          if (!dataTable) return;\n",
              "\n",
              "          const docLinkHtml = 'Like what you see? Visit the ' +\n",
              "            '<a target=\"_blank\" href=https://colab.research.google.com/notebooks/data_table.ipynb>data table notebook</a>'\n",
              "            + ' to learn more about interactive tables.';\n",
              "          element.innerHTML = '';\n",
              "          dataTable['output_type'] = 'display_data';\n",
              "          await google.colab.output.renderOutput(dataTable, element);\n",
              "          const docLink = document.createElement('div');\n",
              "          docLink.innerHTML = docLinkHtml;\n",
              "          element.appendChild(docLink);\n",
              "        }\n",
              "      </script>\n",
              "    </div>\n",
              "  </div>\n",
              "  "
            ]
          },
          "metadata": {},
          "execution_count": 47
        }
      ]
    },
    {
      "cell_type": "code",
      "source": [
        "df_level.tail(10)"
      ],
      "metadata": {
        "colab": {
          "base_uri": "https://localhost:8080/",
          "height": 962
        },
        "id": "YHYQi2qY_nIe",
        "outputId": "437c6429-76a5-423b-f1c2-69515e38aa02"
      },
      "execution_count": 48,
      "outputs": [
        {
          "output_type": "execute_result",
          "data": {
            "text/plain": [
              "    市区町村名     町名     町丁目                 最寄駅  コンビニ(数)  スーパー(数)  商店街(数)  銭湯(数)  \\\n",
              "891   足立区   北加平町    北加平町                 六町駅        2        1       0      0   \n",
              "892  世田谷区    宇奈根  宇奈根１丁目                 久地駅        2        1       0      0   \n",
              "893   板橋区    新河岸  新河岸２丁目               戸田公園駅        2        0       0      0   \n",
              "894  江戸川区    北篠崎  北篠崎１丁目                 市川駅        2        1       0      1   \n",
              "895  世田谷区    砧公園     砧公園                 用賀駅        0        0       0      0   \n",
              "896   練馬区    立野町     立野町                武蔵関駅        2        1       0      0   \n",
              "897  江戸川区    堀江町     堀江町  東京ディズニーランド・ステーション駅        2        1       0      0   \n",
              "898   葛飾区  金町浄水場   金町浄水場                 柴又駅        0        0       0      0   \n",
              "899   大田区    京浜島  京浜島１丁目                昭和島駅        0        0       0      0   \n",
              "900  江戸川区   東篠崎町    東篠崎町                本八幡駅        0        0       0      0   \n",
              "\n",
              "     カラオケ(数)  ネットカフェ(数)  クリーニング(数)  本DVD(数)  衣料品(数)  ビューティーサロン(数)  \\\n",
              "891        0          0          0        0       3             6   \n",
              "892        0          0          0        0       1             7   \n",
              "893        0          0          0        0       0             1   \n",
              "894        0          0          2        0       0             4   \n",
              "895        0          0          0        0       0             2   \n",
              "896        0          0          0        0       2             9   \n",
              "897        0          0          0        0       0             4   \n",
              "898        0          0          0        0       0             1   \n",
              "899        0          0          0        0       0             0   \n",
              "900        0          0          0        0       2             6   \n",
              "\n",
              "     100円ショップ(数)  カフェ(数)  カフェ(チェーン店)(数)  ファストフード(数)  レストラン(数)  \\\n",
              "891            0       1              0           0         2   \n",
              "892            1       0              1           0         6   \n",
              "893            0       0              0           0         1   \n",
              "894            0       0              0           0         5   \n",
              "895            0       1              0           0         4   \n",
              "896            0       3              0           0         5   \n",
              "897            0       2              0           0         0   \n",
              "898            0       2              0           0         2   \n",
              "899            0       1              0           0         0   \n",
              "900            0       2              0           0         6   \n",
              "\n",
              "     レストラン(チェーン店)(数)  飲み屋(数)  最寄駅(距離)  平均所要(時間)  買い物スコア  駅スコア  飲食店スコア  利便性スコア  \n",
              "891                0       0    0.620        47    0.68  0.76    0.11    0.20  \n",
              "892                0       1    1.561        48    0.68  0.06    0.76    0.19  \n",
              "893                0       0    1.915        34    0.17  1.18    0.04    0.16  \n",
              "894                0       0    1.418        40    0.68  0.54    0.17    0.16  \n",
              "895                0       0    1.318        36    0.00  1.16    0.19    0.14  \n",
              "896                0       2    1.339        48    0.68  0.09    0.54    0.13  \n",
              "897                0       1    0.951        54    0.68  0.25    0.18    0.10  \n",
              "898                0       0    0.698        54    0.00  0.51    0.18    0.06  \n",
              "899                0       0    0.789        46    0.00  0.53    0.08    0.05  \n",
              "900                0       0    3.027        43    0.00  0.12    0.33    0.03  "
            ],
            "text/html": [
              "\n",
              "  <div id=\"df-20c2ff66-3b23-49da-b634-e24e6f9d2f37\">\n",
              "    <div class=\"colab-df-container\">\n",
              "      <div>\n",
              "<style scoped>\n",
              "    .dataframe tbody tr th:only-of-type {\n",
              "        vertical-align: middle;\n",
              "    }\n",
              "\n",
              "    .dataframe tbody tr th {\n",
              "        vertical-align: top;\n",
              "    }\n",
              "\n",
              "    .dataframe thead th {\n",
              "        text-align: right;\n",
              "    }\n",
              "</style>\n",
              "<table border=\"1\" class=\"dataframe\">\n",
              "  <thead>\n",
              "    <tr style=\"text-align: right;\">\n",
              "      <th></th>\n",
              "      <th>市区町村名</th>\n",
              "      <th>町名</th>\n",
              "      <th>町丁目</th>\n",
              "      <th>最寄駅</th>\n",
              "      <th>コンビニ(数)</th>\n",
              "      <th>スーパー(数)</th>\n",
              "      <th>商店街(数)</th>\n",
              "      <th>銭湯(数)</th>\n",
              "      <th>カラオケ(数)</th>\n",
              "      <th>ネットカフェ(数)</th>\n",
              "      <th>クリーニング(数)</th>\n",
              "      <th>本DVD(数)</th>\n",
              "      <th>衣料品(数)</th>\n",
              "      <th>ビューティーサロン(数)</th>\n",
              "      <th>100円ショップ(数)</th>\n",
              "      <th>カフェ(数)</th>\n",
              "      <th>カフェ(チェーン店)(数)</th>\n",
              "      <th>ファストフード(数)</th>\n",
              "      <th>レストラン(数)</th>\n",
              "      <th>レストラン(チェーン店)(数)</th>\n",
              "      <th>飲み屋(数)</th>\n",
              "      <th>最寄駅(距離)</th>\n",
              "      <th>平均所要(時間)</th>\n",
              "      <th>買い物スコア</th>\n",
              "      <th>駅スコア</th>\n",
              "      <th>飲食店スコア</th>\n",
              "      <th>利便性スコア</th>\n",
              "    </tr>\n",
              "  </thead>\n",
              "  <tbody>\n",
              "    <tr>\n",
              "      <th>891</th>\n",
              "      <td>足立区</td>\n",
              "      <td>北加平町</td>\n",
              "      <td>北加平町</td>\n",
              "      <td>六町駅</td>\n",
              "      <td>2</td>\n",
              "      <td>1</td>\n",
              "      <td>0</td>\n",
              "      <td>0</td>\n",
              "      <td>0</td>\n",
              "      <td>0</td>\n",
              "      <td>0</td>\n",
              "      <td>0</td>\n",
              "      <td>3</td>\n",
              "      <td>6</td>\n",
              "      <td>0</td>\n",
              "      <td>1</td>\n",
              "      <td>0</td>\n",
              "      <td>0</td>\n",
              "      <td>2</td>\n",
              "      <td>0</td>\n",
              "      <td>0</td>\n",
              "      <td>0.620</td>\n",
              "      <td>47</td>\n",
              "      <td>0.68</td>\n",
              "      <td>0.76</td>\n",
              "      <td>0.11</td>\n",
              "      <td>0.20</td>\n",
              "    </tr>\n",
              "    <tr>\n",
              "      <th>892</th>\n",
              "      <td>世田谷区</td>\n",
              "      <td>宇奈根</td>\n",
              "      <td>宇奈根１丁目</td>\n",
              "      <td>久地駅</td>\n",
              "      <td>2</td>\n",
              "      <td>1</td>\n",
              "      <td>0</td>\n",
              "      <td>0</td>\n",
              "      <td>0</td>\n",
              "      <td>0</td>\n",
              "      <td>0</td>\n",
              "      <td>0</td>\n",
              "      <td>1</td>\n",
              "      <td>7</td>\n",
              "      <td>1</td>\n",
              "      <td>0</td>\n",
              "      <td>1</td>\n",
              "      <td>0</td>\n",
              "      <td>6</td>\n",
              "      <td>0</td>\n",
              "      <td>1</td>\n",
              "      <td>1.561</td>\n",
              "      <td>48</td>\n",
              "      <td>0.68</td>\n",
              "      <td>0.06</td>\n",
              "      <td>0.76</td>\n",
              "      <td>0.19</td>\n",
              "    </tr>\n",
              "    <tr>\n",
              "      <th>893</th>\n",
              "      <td>板橋区</td>\n",
              "      <td>新河岸</td>\n",
              "      <td>新河岸２丁目</td>\n",
              "      <td>戸田公園駅</td>\n",
              "      <td>2</td>\n",
              "      <td>0</td>\n",
              "      <td>0</td>\n",
              "      <td>0</td>\n",
              "      <td>0</td>\n",
              "      <td>0</td>\n",
              "      <td>0</td>\n",
              "      <td>0</td>\n",
              "      <td>0</td>\n",
              "      <td>1</td>\n",
              "      <td>0</td>\n",
              "      <td>0</td>\n",
              "      <td>0</td>\n",
              "      <td>0</td>\n",
              "      <td>1</td>\n",
              "      <td>0</td>\n",
              "      <td>0</td>\n",
              "      <td>1.915</td>\n",
              "      <td>34</td>\n",
              "      <td>0.17</td>\n",
              "      <td>1.18</td>\n",
              "      <td>0.04</td>\n",
              "      <td>0.16</td>\n",
              "    </tr>\n",
              "    <tr>\n",
              "      <th>894</th>\n",
              "      <td>江戸川区</td>\n",
              "      <td>北篠崎</td>\n",
              "      <td>北篠崎１丁目</td>\n",
              "      <td>市川駅</td>\n",
              "      <td>2</td>\n",
              "      <td>1</td>\n",
              "      <td>0</td>\n",
              "      <td>1</td>\n",
              "      <td>0</td>\n",
              "      <td>0</td>\n",
              "      <td>2</td>\n",
              "      <td>0</td>\n",
              "      <td>0</td>\n",
              "      <td>4</td>\n",
              "      <td>0</td>\n",
              "      <td>0</td>\n",
              "      <td>0</td>\n",
              "      <td>0</td>\n",
              "      <td>5</td>\n",
              "      <td>0</td>\n",
              "      <td>0</td>\n",
              "      <td>1.418</td>\n",
              "      <td>40</td>\n",
              "      <td>0.68</td>\n",
              "      <td>0.54</td>\n",
              "      <td>0.17</td>\n",
              "      <td>0.16</td>\n",
              "    </tr>\n",
              "    <tr>\n",
              "      <th>895</th>\n",
              "      <td>世田谷区</td>\n",
              "      <td>砧公園</td>\n",
              "      <td>砧公園</td>\n",
              "      <td>用賀駅</td>\n",
              "      <td>0</td>\n",
              "      <td>0</td>\n",
              "      <td>0</td>\n",
              "      <td>0</td>\n",
              "      <td>0</td>\n",
              "      <td>0</td>\n",
              "      <td>0</td>\n",
              "      <td>0</td>\n",
              "      <td>0</td>\n",
              "      <td>2</td>\n",
              "      <td>0</td>\n",
              "      <td>1</td>\n",
              "      <td>0</td>\n",
              "      <td>0</td>\n",
              "      <td>4</td>\n",
              "      <td>0</td>\n",
              "      <td>0</td>\n",
              "      <td>1.318</td>\n",
              "      <td>36</td>\n",
              "      <td>0.00</td>\n",
              "      <td>1.16</td>\n",
              "      <td>0.19</td>\n",
              "      <td>0.14</td>\n",
              "    </tr>\n",
              "    <tr>\n",
              "      <th>896</th>\n",
              "      <td>練馬区</td>\n",
              "      <td>立野町</td>\n",
              "      <td>立野町</td>\n",
              "      <td>武蔵関駅</td>\n",
              "      <td>2</td>\n",
              "      <td>1</td>\n",
              "      <td>0</td>\n",
              "      <td>0</td>\n",
              "      <td>0</td>\n",
              "      <td>0</td>\n",
              "      <td>0</td>\n",
              "      <td>0</td>\n",
              "      <td>2</td>\n",
              "      <td>9</td>\n",
              "      <td>0</td>\n",
              "      <td>3</td>\n",
              "      <td>0</td>\n",
              "      <td>0</td>\n",
              "      <td>5</td>\n",
              "      <td>0</td>\n",
              "      <td>2</td>\n",
              "      <td>1.339</td>\n",
              "      <td>48</td>\n",
              "      <td>0.68</td>\n",
              "      <td>0.09</td>\n",
              "      <td>0.54</td>\n",
              "      <td>0.13</td>\n",
              "    </tr>\n",
              "    <tr>\n",
              "      <th>897</th>\n",
              "      <td>江戸川区</td>\n",
              "      <td>堀江町</td>\n",
              "      <td>堀江町</td>\n",
              "      <td>東京ディズニーランド・ステーション駅</td>\n",
              "      <td>2</td>\n",
              "      <td>1</td>\n",
              "      <td>0</td>\n",
              "      <td>0</td>\n",
              "      <td>0</td>\n",
              "      <td>0</td>\n",
              "      <td>0</td>\n",
              "      <td>0</td>\n",
              "      <td>0</td>\n",
              "      <td>4</td>\n",
              "      <td>0</td>\n",
              "      <td>2</td>\n",
              "      <td>0</td>\n",
              "      <td>0</td>\n",
              "      <td>0</td>\n",
              "      <td>0</td>\n",
              "      <td>1</td>\n",
              "      <td>0.951</td>\n",
              "      <td>54</td>\n",
              "      <td>0.68</td>\n",
              "      <td>0.25</td>\n",
              "      <td>0.18</td>\n",
              "      <td>0.10</td>\n",
              "    </tr>\n",
              "    <tr>\n",
              "      <th>898</th>\n",
              "      <td>葛飾区</td>\n",
              "      <td>金町浄水場</td>\n",
              "      <td>金町浄水場</td>\n",
              "      <td>柴又駅</td>\n",
              "      <td>0</td>\n",
              "      <td>0</td>\n",
              "      <td>0</td>\n",
              "      <td>0</td>\n",
              "      <td>0</td>\n",
              "      <td>0</td>\n",
              "      <td>0</td>\n",
              "      <td>0</td>\n",
              "      <td>0</td>\n",
              "      <td>1</td>\n",
              "      <td>0</td>\n",
              "      <td>2</td>\n",
              "      <td>0</td>\n",
              "      <td>0</td>\n",
              "      <td>2</td>\n",
              "      <td>0</td>\n",
              "      <td>0</td>\n",
              "      <td>0.698</td>\n",
              "      <td>54</td>\n",
              "      <td>0.00</td>\n",
              "      <td>0.51</td>\n",
              "      <td>0.18</td>\n",
              "      <td>0.06</td>\n",
              "    </tr>\n",
              "    <tr>\n",
              "      <th>899</th>\n",
              "      <td>大田区</td>\n",
              "      <td>京浜島</td>\n",
              "      <td>京浜島１丁目</td>\n",
              "      <td>昭和島駅</td>\n",
              "      <td>0</td>\n",
              "      <td>0</td>\n",
              "      <td>0</td>\n",
              "      <td>0</td>\n",
              "      <td>0</td>\n",
              "      <td>0</td>\n",
              "      <td>0</td>\n",
              "      <td>0</td>\n",
              "      <td>0</td>\n",
              "      <td>0</td>\n",
              "      <td>0</td>\n",
              "      <td>1</td>\n",
              "      <td>0</td>\n",
              "      <td>0</td>\n",
              "      <td>0</td>\n",
              "      <td>0</td>\n",
              "      <td>0</td>\n",
              "      <td>0.789</td>\n",
              "      <td>46</td>\n",
              "      <td>0.00</td>\n",
              "      <td>0.53</td>\n",
              "      <td>0.08</td>\n",
              "      <td>0.05</td>\n",
              "    </tr>\n",
              "    <tr>\n",
              "      <th>900</th>\n",
              "      <td>江戸川区</td>\n",
              "      <td>東篠崎町</td>\n",
              "      <td>東篠崎町</td>\n",
              "      <td>本八幡駅</td>\n",
              "      <td>0</td>\n",
              "      <td>0</td>\n",
              "      <td>0</td>\n",
              "      <td>0</td>\n",
              "      <td>0</td>\n",
              "      <td>0</td>\n",
              "      <td>0</td>\n",
              "      <td>0</td>\n",
              "      <td>2</td>\n",
              "      <td>6</td>\n",
              "      <td>0</td>\n",
              "      <td>2</td>\n",
              "      <td>0</td>\n",
              "      <td>0</td>\n",
              "      <td>6</td>\n",
              "      <td>0</td>\n",
              "      <td>0</td>\n",
              "      <td>3.027</td>\n",
              "      <td>43</td>\n",
              "      <td>0.00</td>\n",
              "      <td>0.12</td>\n",
              "      <td>0.33</td>\n",
              "      <td>0.03</td>\n",
              "    </tr>\n",
              "  </tbody>\n",
              "</table>\n",
              "</div>\n",
              "      <button class=\"colab-df-convert\" onclick=\"convertToInteractive('df-20c2ff66-3b23-49da-b634-e24e6f9d2f37')\"\n",
              "              title=\"Convert this dataframe to an interactive table.\"\n",
              "              style=\"display:none;\">\n",
              "        \n",
              "  <svg xmlns=\"http://www.w3.org/2000/svg\" height=\"24px\"viewBox=\"0 0 24 24\"\n",
              "       width=\"24px\">\n",
              "    <path d=\"M0 0h24v24H0V0z\" fill=\"none\"/>\n",
              "    <path d=\"M18.56 5.44l.94 2.06.94-2.06 2.06-.94-2.06-.94-.94-2.06-.94 2.06-2.06.94zm-11 1L8.5 8.5l.94-2.06 2.06-.94-2.06-.94L8.5 2.5l-.94 2.06-2.06.94zm10 10l.94 2.06.94-2.06 2.06-.94-2.06-.94-.94-2.06-.94 2.06-2.06.94z\"/><path d=\"M17.41 7.96l-1.37-1.37c-.4-.4-.92-.59-1.43-.59-.52 0-1.04.2-1.43.59L10.3 9.45l-7.72 7.72c-.78.78-.78 2.05 0 2.83L4 21.41c.39.39.9.59 1.41.59.51 0 1.02-.2 1.41-.59l7.78-7.78 2.81-2.81c.8-.78.8-2.07 0-2.86zM5.41 20L4 18.59l7.72-7.72 1.47 1.35L5.41 20z\"/>\n",
              "  </svg>\n",
              "      </button>\n",
              "      \n",
              "  <style>\n",
              "    .colab-df-container {\n",
              "      display:flex;\n",
              "      flex-wrap:wrap;\n",
              "      gap: 12px;\n",
              "    }\n",
              "\n",
              "    .colab-df-convert {\n",
              "      background-color: #E8F0FE;\n",
              "      border: none;\n",
              "      border-radius: 50%;\n",
              "      cursor: pointer;\n",
              "      display: none;\n",
              "      fill: #1967D2;\n",
              "      height: 32px;\n",
              "      padding: 0 0 0 0;\n",
              "      width: 32px;\n",
              "    }\n",
              "\n",
              "    .colab-df-convert:hover {\n",
              "      background-color: #E2EBFA;\n",
              "      box-shadow: 0px 1px 2px rgba(60, 64, 67, 0.3), 0px 1px 3px 1px rgba(60, 64, 67, 0.15);\n",
              "      fill: #174EA6;\n",
              "    }\n",
              "\n",
              "    [theme=dark] .colab-df-convert {\n",
              "      background-color: #3B4455;\n",
              "      fill: #D2E3FC;\n",
              "    }\n",
              "\n",
              "    [theme=dark] .colab-df-convert:hover {\n",
              "      background-color: #434B5C;\n",
              "      box-shadow: 0px 1px 3px 1px rgba(0, 0, 0, 0.15);\n",
              "      filter: drop-shadow(0px 1px 2px rgba(0, 0, 0, 0.3));\n",
              "      fill: #FFFFFF;\n",
              "    }\n",
              "  </style>\n",
              "\n",
              "      <script>\n",
              "        const buttonEl =\n",
              "          document.querySelector('#df-20c2ff66-3b23-49da-b634-e24e6f9d2f37 button.colab-df-convert');\n",
              "        buttonEl.style.display =\n",
              "          google.colab.kernel.accessAllowed ? 'block' : 'none';\n",
              "\n",
              "        async function convertToInteractive(key) {\n",
              "          const element = document.querySelector('#df-20c2ff66-3b23-49da-b634-e24e6f9d2f37');\n",
              "          const dataTable =\n",
              "            await google.colab.kernel.invokeFunction('convertToInteractive',\n",
              "                                                     [key], {});\n",
              "          if (!dataTable) return;\n",
              "\n",
              "          const docLinkHtml = 'Like what you see? Visit the ' +\n",
              "            '<a target=\"_blank\" href=https://colab.research.google.com/notebooks/data_table.ipynb>data table notebook</a>'\n",
              "            + ' to learn more about interactive tables.';\n",
              "          element.innerHTML = '';\n",
              "          dataTable['output_type'] = 'display_data';\n",
              "          await google.colab.output.renderOutput(dataTable, element);\n",
              "          const docLink = document.createElement('div');\n",
              "          docLink.innerHTML = docLinkHtml;\n",
              "          element.appendChild(docLink);\n",
              "        }\n",
              "      </script>\n",
              "    </div>\n",
              "  </div>\n",
              "  "
            ]
          },
          "metadata": {},
          "execution_count": 48
        }
      ]
    },
    {
      "cell_type": "code",
      "source": [
        "get_score_rank('衣料品(数)').head(5)"
      ],
      "metadata": {
        "id": "KwfMlqDrBmKa",
        "outputId": "ea7f767f-3e77-4822-f450-994e9ed0bbaf",
        "colab": {
          "base_uri": "https://localhost:8080/",
          "height": 493
        }
      },
      "execution_count": 57,
      "outputs": [
        {
          "output_type": "execute_result",
          "data": {
            "text/plain": [
              "  市区町村名     町名       町丁目       最寄駅  コンビニ(数)  スーパー(数)  商店街(数)  銭湯(数)  カラオケ(数)  \\\n",
              "0    港区     台場     台場２丁目  東京テレポート駅       10        1       0      1        0   \n",
              "1   足立区     千住     千住２丁目      北千住駅       25       13       1      2        6   \n",
              "2   葛飾区     亀有     亀有３丁目       亀有駅       13        7       1      2        7   \n",
              "3   江東区     豊洲     豊洲２丁目       豊洲駅       20        4       0      1        0   \n",
              "4   足立区  西新井栄町  西新井栄町１丁目      西新井駅       10        4       1      2        2   \n",
              "\n",
              "   ネットカフェ(数)  クリーニング(数)  本DVD(数)  衣料品(数)  ビューティーサロン(数)  100円ショップ(数)  カフェ(数)  \\\n",
              "0          0          0        2      61             5            2      19   \n",
              "1          3          3        5      55            74            1      23   \n",
              "2          0          2        5      48            76            1      22   \n",
              "3          1          1        2      42            21            1      11   \n",
              "4          0          1        3      40            50            2       9   \n",
              "\n",
              "   カフェ(チェーン店)(数)  ファストフード(数)  レストラン(数)  レストラン(チェーン店)(数)  飲み屋(数)  最寄駅(距離)  \\\n",
              "0              4           2        52                0       9    0.225   \n",
              "1              5           5        30                0      97    0.282   \n",
              "2              5           5        22                0      73    0.292   \n",
              "3             10           6        28                0       8    0.294   \n",
              "4              6           4        18                2      15    0.363   \n",
              "\n",
              "   平均所要(時間)  買い物スコア  駅スコア  飲食店スコア  利便性スコア  \n",
              "0        35    1.64  3.59    4.75    3.51  \n",
              "1        31    4.95  4.01    4.93    4.94  \n",
              "2        39    4.84  2.59    4.92    4.56  \n",
              "3        32    3.80  3.83    4.74    4.57  \n",
              "4        42    4.60  1.88    4.94    4.18  "
            ],
            "text/html": [
              "\n",
              "  <div id=\"df-0e420c0e-9a6e-4278-8bb2-8a09ea248ba3\">\n",
              "    <div class=\"colab-df-container\">\n",
              "      <div>\n",
              "<style scoped>\n",
              "    .dataframe tbody tr th:only-of-type {\n",
              "        vertical-align: middle;\n",
              "    }\n",
              "\n",
              "    .dataframe tbody tr th {\n",
              "        vertical-align: top;\n",
              "    }\n",
              "\n",
              "    .dataframe thead th {\n",
              "        text-align: right;\n",
              "    }\n",
              "</style>\n",
              "<table border=\"1\" class=\"dataframe\">\n",
              "  <thead>\n",
              "    <tr style=\"text-align: right;\">\n",
              "      <th></th>\n",
              "      <th>市区町村名</th>\n",
              "      <th>町名</th>\n",
              "      <th>町丁目</th>\n",
              "      <th>最寄駅</th>\n",
              "      <th>コンビニ(数)</th>\n",
              "      <th>スーパー(数)</th>\n",
              "      <th>商店街(数)</th>\n",
              "      <th>銭湯(数)</th>\n",
              "      <th>カラオケ(数)</th>\n",
              "      <th>ネットカフェ(数)</th>\n",
              "      <th>クリーニング(数)</th>\n",
              "      <th>本DVD(数)</th>\n",
              "      <th>衣料品(数)</th>\n",
              "      <th>ビューティーサロン(数)</th>\n",
              "      <th>100円ショップ(数)</th>\n",
              "      <th>カフェ(数)</th>\n",
              "      <th>カフェ(チェーン店)(数)</th>\n",
              "      <th>ファストフード(数)</th>\n",
              "      <th>レストラン(数)</th>\n",
              "      <th>レストラン(チェーン店)(数)</th>\n",
              "      <th>飲み屋(数)</th>\n",
              "      <th>最寄駅(距離)</th>\n",
              "      <th>平均所要(時間)</th>\n",
              "      <th>買い物スコア</th>\n",
              "      <th>駅スコア</th>\n",
              "      <th>飲食店スコア</th>\n",
              "      <th>利便性スコア</th>\n",
              "    </tr>\n",
              "  </thead>\n",
              "  <tbody>\n",
              "    <tr>\n",
              "      <th>0</th>\n",
              "      <td>港区</td>\n",
              "      <td>台場</td>\n",
              "      <td>台場２丁目</td>\n",
              "      <td>東京テレポート駅</td>\n",
              "      <td>10</td>\n",
              "      <td>1</td>\n",
              "      <td>0</td>\n",
              "      <td>1</td>\n",
              "      <td>0</td>\n",
              "      <td>0</td>\n",
              "      <td>0</td>\n",
              "      <td>2</td>\n",
              "      <td>61</td>\n",
              "      <td>5</td>\n",
              "      <td>2</td>\n",
              "      <td>19</td>\n",
              "      <td>4</td>\n",
              "      <td>2</td>\n",
              "      <td>52</td>\n",
              "      <td>0</td>\n",
              "      <td>9</td>\n",
              "      <td>0.225</td>\n",
              "      <td>35</td>\n",
              "      <td>1.64</td>\n",
              "      <td>3.59</td>\n",
              "      <td>4.75</td>\n",
              "      <td>3.51</td>\n",
              "    </tr>\n",
              "    <tr>\n",
              "      <th>1</th>\n",
              "      <td>足立区</td>\n",
              "      <td>千住</td>\n",
              "      <td>千住２丁目</td>\n",
              "      <td>北千住駅</td>\n",
              "      <td>25</td>\n",
              "      <td>13</td>\n",
              "      <td>1</td>\n",
              "      <td>2</td>\n",
              "      <td>6</td>\n",
              "      <td>3</td>\n",
              "      <td>3</td>\n",
              "      <td>5</td>\n",
              "      <td>55</td>\n",
              "      <td>74</td>\n",
              "      <td>1</td>\n",
              "      <td>23</td>\n",
              "      <td>5</td>\n",
              "      <td>5</td>\n",
              "      <td>30</td>\n",
              "      <td>0</td>\n",
              "      <td>97</td>\n",
              "      <td>0.282</td>\n",
              "      <td>31</td>\n",
              "      <td>4.95</td>\n",
              "      <td>4.01</td>\n",
              "      <td>4.93</td>\n",
              "      <td>4.94</td>\n",
              "    </tr>\n",
              "    <tr>\n",
              "      <th>2</th>\n",
              "      <td>葛飾区</td>\n",
              "      <td>亀有</td>\n",
              "      <td>亀有３丁目</td>\n",
              "      <td>亀有駅</td>\n",
              "      <td>13</td>\n",
              "      <td>7</td>\n",
              "      <td>1</td>\n",
              "      <td>2</td>\n",
              "      <td>7</td>\n",
              "      <td>0</td>\n",
              "      <td>2</td>\n",
              "      <td>5</td>\n",
              "      <td>48</td>\n",
              "      <td>76</td>\n",
              "      <td>1</td>\n",
              "      <td>22</td>\n",
              "      <td>5</td>\n",
              "      <td>5</td>\n",
              "      <td>22</td>\n",
              "      <td>0</td>\n",
              "      <td>73</td>\n",
              "      <td>0.292</td>\n",
              "      <td>39</td>\n",
              "      <td>4.84</td>\n",
              "      <td>2.59</td>\n",
              "      <td>4.92</td>\n",
              "      <td>4.56</td>\n",
              "    </tr>\n",
              "    <tr>\n",
              "      <th>3</th>\n",
              "      <td>江東区</td>\n",
              "      <td>豊洲</td>\n",
              "      <td>豊洲２丁目</td>\n",
              "      <td>豊洲駅</td>\n",
              "      <td>20</td>\n",
              "      <td>4</td>\n",
              "      <td>0</td>\n",
              "      <td>1</td>\n",
              "      <td>0</td>\n",
              "      <td>1</td>\n",
              "      <td>1</td>\n",
              "      <td>2</td>\n",
              "      <td>42</td>\n",
              "      <td>21</td>\n",
              "      <td>1</td>\n",
              "      <td>11</td>\n",
              "      <td>10</td>\n",
              "      <td>6</td>\n",
              "      <td>28</td>\n",
              "      <td>0</td>\n",
              "      <td>8</td>\n",
              "      <td>0.294</td>\n",
              "      <td>32</td>\n",
              "      <td>3.80</td>\n",
              "      <td>3.83</td>\n",
              "      <td>4.74</td>\n",
              "      <td>4.57</td>\n",
              "    </tr>\n",
              "    <tr>\n",
              "      <th>4</th>\n",
              "      <td>足立区</td>\n",
              "      <td>西新井栄町</td>\n",
              "      <td>西新井栄町１丁目</td>\n",
              "      <td>西新井駅</td>\n",
              "      <td>10</td>\n",
              "      <td>4</td>\n",
              "      <td>1</td>\n",
              "      <td>2</td>\n",
              "      <td>2</td>\n",
              "      <td>0</td>\n",
              "      <td>1</td>\n",
              "      <td>3</td>\n",
              "      <td>40</td>\n",
              "      <td>50</td>\n",
              "      <td>2</td>\n",
              "      <td>9</td>\n",
              "      <td>6</td>\n",
              "      <td>4</td>\n",
              "      <td>18</td>\n",
              "      <td>2</td>\n",
              "      <td>15</td>\n",
              "      <td>0.363</td>\n",
              "      <td>42</td>\n",
              "      <td>4.60</td>\n",
              "      <td>1.88</td>\n",
              "      <td>4.94</td>\n",
              "      <td>4.18</td>\n",
              "    </tr>\n",
              "  </tbody>\n",
              "</table>\n",
              "</div>\n",
              "      <button class=\"colab-df-convert\" onclick=\"convertToInteractive('df-0e420c0e-9a6e-4278-8bb2-8a09ea248ba3')\"\n",
              "              title=\"Convert this dataframe to an interactive table.\"\n",
              "              style=\"display:none;\">\n",
              "        \n",
              "  <svg xmlns=\"http://www.w3.org/2000/svg\" height=\"24px\"viewBox=\"0 0 24 24\"\n",
              "       width=\"24px\">\n",
              "    <path d=\"M0 0h24v24H0V0z\" fill=\"none\"/>\n",
              "    <path d=\"M18.56 5.44l.94 2.06.94-2.06 2.06-.94-2.06-.94-.94-2.06-.94 2.06-2.06.94zm-11 1L8.5 8.5l.94-2.06 2.06-.94-2.06-.94L8.5 2.5l-.94 2.06-2.06.94zm10 10l.94 2.06.94-2.06 2.06-.94-2.06-.94-.94-2.06-.94 2.06-2.06.94z\"/><path d=\"M17.41 7.96l-1.37-1.37c-.4-.4-.92-.59-1.43-.59-.52 0-1.04.2-1.43.59L10.3 9.45l-7.72 7.72c-.78.78-.78 2.05 0 2.83L4 21.41c.39.39.9.59 1.41.59.51 0 1.02-.2 1.41-.59l7.78-7.78 2.81-2.81c.8-.78.8-2.07 0-2.86zM5.41 20L4 18.59l7.72-7.72 1.47 1.35L5.41 20z\"/>\n",
              "  </svg>\n",
              "      </button>\n",
              "      \n",
              "  <style>\n",
              "    .colab-df-container {\n",
              "      display:flex;\n",
              "      flex-wrap:wrap;\n",
              "      gap: 12px;\n",
              "    }\n",
              "\n",
              "    .colab-df-convert {\n",
              "      background-color: #E8F0FE;\n",
              "      border: none;\n",
              "      border-radius: 50%;\n",
              "      cursor: pointer;\n",
              "      display: none;\n",
              "      fill: #1967D2;\n",
              "      height: 32px;\n",
              "      padding: 0 0 0 0;\n",
              "      width: 32px;\n",
              "    }\n",
              "\n",
              "    .colab-df-convert:hover {\n",
              "      background-color: #E2EBFA;\n",
              "      box-shadow: 0px 1px 2px rgba(60, 64, 67, 0.3), 0px 1px 3px 1px rgba(60, 64, 67, 0.15);\n",
              "      fill: #174EA6;\n",
              "    }\n",
              "\n",
              "    [theme=dark] .colab-df-convert {\n",
              "      background-color: #3B4455;\n",
              "      fill: #D2E3FC;\n",
              "    }\n",
              "\n",
              "    [theme=dark] .colab-df-convert:hover {\n",
              "      background-color: #434B5C;\n",
              "      box-shadow: 0px 1px 3px 1px rgba(0, 0, 0, 0.15);\n",
              "      filter: drop-shadow(0px 1px 2px rgba(0, 0, 0, 0.3));\n",
              "      fill: #FFFFFF;\n",
              "    }\n",
              "  </style>\n",
              "\n",
              "      <script>\n",
              "        const buttonEl =\n",
              "          document.querySelector('#df-0e420c0e-9a6e-4278-8bb2-8a09ea248ba3 button.colab-df-convert');\n",
              "        buttonEl.style.display =\n",
              "          google.colab.kernel.accessAllowed ? 'block' : 'none';\n",
              "\n",
              "        async function convertToInteractive(key) {\n",
              "          const element = document.querySelector('#df-0e420c0e-9a6e-4278-8bb2-8a09ea248ba3');\n",
              "          const dataTable =\n",
              "            await google.colab.kernel.invokeFunction('convertToInteractive',\n",
              "                                                     [key], {});\n",
              "          if (!dataTable) return;\n",
              "\n",
              "          const docLinkHtml = 'Like what you see? Visit the ' +\n",
              "            '<a target=\"_blank\" href=https://colab.research.google.com/notebooks/data_table.ipynb>data table notebook</a>'\n",
              "            + ' to learn more about interactive tables.';\n",
              "          element.innerHTML = '';\n",
              "          dataTable['output_type'] = 'display_data';\n",
              "          await google.colab.output.renderOutput(dataTable, element);\n",
              "          const docLink = document.createElement('div');\n",
              "          docLink.innerHTML = docLinkHtml;\n",
              "          element.appendChild(docLink);\n",
              "        }\n",
              "      </script>\n",
              "    </div>\n",
              "  </div>\n",
              "  "
            ]
          },
          "metadata": {},
          "execution_count": 57
        }
      ]
    },
    {
      "cell_type": "code",
      "source": [
        "get_score_rank('ビューティーサロン(数)').head(5)"
      ],
      "metadata": {
        "id": "n8m7ffOEBiq5",
        "outputId": "f9d3e214-ba2d-4c10-9b57-140f31b68681",
        "colab": {
          "base_uri": "https://localhost:8080/",
          "height": 476
        }
      },
      "execution_count": 56,
      "outputs": [
        {
          "output_type": "execute_result",
          "data": {
            "text/plain": [
              "  市区町村名   町名     町丁目      最寄駅  コンビニ(数)  スーパー(数)  商店街(数)  銭湯(数)  カラオケ(数)  \\\n",
              "0  江戸川区  西葛西  西葛西５丁目  葛西臨海公園駅       19       11       0      0        3   \n",
              "1   大田区  大森北  大森北１丁目      大森駅       26        7       0      1        3   \n",
              "2   品川区   大井   大井１丁目     大井町駅       27        6       0      3        3   \n",
              "3   葛飾区   亀有   亀有３丁目      亀有駅       13        7       1      2        7   \n",
              "4   練馬区  豊玉北  豊玉北５丁目      練馬駅       17        8       0      0        5   \n",
              "\n",
              "   ネットカフェ(数)  クリーニング(数)  本DVD(数)  衣料品(数)  ビューティーサロン(数)  100円ショップ(数)  カフェ(数)  \\\n",
              "0          0          0        4      32            82            1       7   \n",
              "1          1          3        5      39            81            2      17   \n",
              "2          0          3        1      24            78            0      18   \n",
              "3          0          2        5      48            76            1      22   \n",
              "4          2          3        4      17            75            0      17   \n",
              "\n",
              "   カフェ(チェーン店)(数)  ファストフード(数)  レストラン(数)  レストラン(チェーン店)(数)  飲み屋(数)  最寄駅(距離)  \\\n",
              "0              2           5        23                1      49    2.406   \n",
              "1              9           8        23                1      88    0.214   \n",
              "2              3           2        29                0      65    0.250   \n",
              "3              5           5        22                0      73    0.292   \n",
              "4              4           3        28                0      50    0.301   \n",
              "\n",
              "   平均所要(時間)  買い物スコア  駅スコア  飲食店スコア  利便性スコア  \n",
              "0        43    4.44  0.15    4.94    3.29  \n",
              "1        28    4.40  4.50    5.00    4.95  \n",
              "2        22    4.32  4.80    4.86    4.96  \n",
              "3        39    4.84  2.59    4.92    4.56  \n",
              "4        36    4.38  3.20    4.89    4.60  "
            ],
            "text/html": [
              "\n",
              "  <div id=\"df-d45c29e3-e5ed-4b0e-865f-2d04739d7b96\">\n",
              "    <div class=\"colab-df-container\">\n",
              "      <div>\n",
              "<style scoped>\n",
              "    .dataframe tbody tr th:only-of-type {\n",
              "        vertical-align: middle;\n",
              "    }\n",
              "\n",
              "    .dataframe tbody tr th {\n",
              "        vertical-align: top;\n",
              "    }\n",
              "\n",
              "    .dataframe thead th {\n",
              "        text-align: right;\n",
              "    }\n",
              "</style>\n",
              "<table border=\"1\" class=\"dataframe\">\n",
              "  <thead>\n",
              "    <tr style=\"text-align: right;\">\n",
              "      <th></th>\n",
              "      <th>市区町村名</th>\n",
              "      <th>町名</th>\n",
              "      <th>町丁目</th>\n",
              "      <th>最寄駅</th>\n",
              "      <th>コンビニ(数)</th>\n",
              "      <th>スーパー(数)</th>\n",
              "      <th>商店街(数)</th>\n",
              "      <th>銭湯(数)</th>\n",
              "      <th>カラオケ(数)</th>\n",
              "      <th>ネットカフェ(数)</th>\n",
              "      <th>クリーニング(数)</th>\n",
              "      <th>本DVD(数)</th>\n",
              "      <th>衣料品(数)</th>\n",
              "      <th>ビューティーサロン(数)</th>\n",
              "      <th>100円ショップ(数)</th>\n",
              "      <th>カフェ(数)</th>\n",
              "      <th>カフェ(チェーン店)(数)</th>\n",
              "      <th>ファストフード(数)</th>\n",
              "      <th>レストラン(数)</th>\n",
              "      <th>レストラン(チェーン店)(数)</th>\n",
              "      <th>飲み屋(数)</th>\n",
              "      <th>最寄駅(距離)</th>\n",
              "      <th>平均所要(時間)</th>\n",
              "      <th>買い物スコア</th>\n",
              "      <th>駅スコア</th>\n",
              "      <th>飲食店スコア</th>\n",
              "      <th>利便性スコア</th>\n",
              "    </tr>\n",
              "  </thead>\n",
              "  <tbody>\n",
              "    <tr>\n",
              "      <th>0</th>\n",
              "      <td>江戸川区</td>\n",
              "      <td>西葛西</td>\n",
              "      <td>西葛西５丁目</td>\n",
              "      <td>葛西臨海公園駅</td>\n",
              "      <td>19</td>\n",
              "      <td>11</td>\n",
              "      <td>0</td>\n",
              "      <td>0</td>\n",
              "      <td>3</td>\n",
              "      <td>0</td>\n",
              "      <td>0</td>\n",
              "      <td>4</td>\n",
              "      <td>32</td>\n",
              "      <td>82</td>\n",
              "      <td>1</td>\n",
              "      <td>7</td>\n",
              "      <td>2</td>\n",
              "      <td>5</td>\n",
              "      <td>23</td>\n",
              "      <td>1</td>\n",
              "      <td>49</td>\n",
              "      <td>2.406</td>\n",
              "      <td>43</td>\n",
              "      <td>4.44</td>\n",
              "      <td>0.15</td>\n",
              "      <td>4.94</td>\n",
              "      <td>3.29</td>\n",
              "    </tr>\n",
              "    <tr>\n",
              "      <th>1</th>\n",
              "      <td>大田区</td>\n",
              "      <td>大森北</td>\n",
              "      <td>大森北１丁目</td>\n",
              "      <td>大森駅</td>\n",
              "      <td>26</td>\n",
              "      <td>7</td>\n",
              "      <td>0</td>\n",
              "      <td>1</td>\n",
              "      <td>3</td>\n",
              "      <td>1</td>\n",
              "      <td>3</td>\n",
              "      <td>5</td>\n",
              "      <td>39</td>\n",
              "      <td>81</td>\n",
              "      <td>2</td>\n",
              "      <td>17</td>\n",
              "      <td>9</td>\n",
              "      <td>8</td>\n",
              "      <td>23</td>\n",
              "      <td>1</td>\n",
              "      <td>88</td>\n",
              "      <td>0.214</td>\n",
              "      <td>28</td>\n",
              "      <td>4.40</td>\n",
              "      <td>4.50</td>\n",
              "      <td>5.00</td>\n",
              "      <td>4.95</td>\n",
              "    </tr>\n",
              "    <tr>\n",
              "      <th>2</th>\n",
              "      <td>品川区</td>\n",
              "      <td>大井</td>\n",
              "      <td>大井１丁目</td>\n",
              "      <td>大井町駅</td>\n",
              "      <td>27</td>\n",
              "      <td>6</td>\n",
              "      <td>0</td>\n",
              "      <td>3</td>\n",
              "      <td>3</td>\n",
              "      <td>0</td>\n",
              "      <td>3</td>\n",
              "      <td>1</td>\n",
              "      <td>24</td>\n",
              "      <td>78</td>\n",
              "      <td>0</td>\n",
              "      <td>18</td>\n",
              "      <td>3</td>\n",
              "      <td>2</td>\n",
              "      <td>29</td>\n",
              "      <td>0</td>\n",
              "      <td>65</td>\n",
              "      <td>0.250</td>\n",
              "      <td>22</td>\n",
              "      <td>4.32</td>\n",
              "      <td>4.80</td>\n",
              "      <td>4.86</td>\n",
              "      <td>4.96</td>\n",
              "    </tr>\n",
              "    <tr>\n",
              "      <th>3</th>\n",
              "      <td>葛飾区</td>\n",
              "      <td>亀有</td>\n",
              "      <td>亀有３丁目</td>\n",
              "      <td>亀有駅</td>\n",
              "      <td>13</td>\n",
              "      <td>7</td>\n",
              "      <td>1</td>\n",
              "      <td>2</td>\n",
              "      <td>7</td>\n",
              "      <td>0</td>\n",
              "      <td>2</td>\n",
              "      <td>5</td>\n",
              "      <td>48</td>\n",
              "      <td>76</td>\n",
              "      <td>1</td>\n",
              "      <td>22</td>\n",
              "      <td>5</td>\n",
              "      <td>5</td>\n",
              "      <td>22</td>\n",
              "      <td>0</td>\n",
              "      <td>73</td>\n",
              "      <td>0.292</td>\n",
              "      <td>39</td>\n",
              "      <td>4.84</td>\n",
              "      <td>2.59</td>\n",
              "      <td>4.92</td>\n",
              "      <td>4.56</td>\n",
              "    </tr>\n",
              "    <tr>\n",
              "      <th>4</th>\n",
              "      <td>練馬区</td>\n",
              "      <td>豊玉北</td>\n",
              "      <td>豊玉北５丁目</td>\n",
              "      <td>練馬駅</td>\n",
              "      <td>17</td>\n",
              "      <td>8</td>\n",
              "      <td>0</td>\n",
              "      <td>0</td>\n",
              "      <td>5</td>\n",
              "      <td>2</td>\n",
              "      <td>3</td>\n",
              "      <td>4</td>\n",
              "      <td>17</td>\n",
              "      <td>75</td>\n",
              "      <td>0</td>\n",
              "      <td>17</td>\n",
              "      <td>4</td>\n",
              "      <td>3</td>\n",
              "      <td>28</td>\n",
              "      <td>0</td>\n",
              "      <td>50</td>\n",
              "      <td>0.301</td>\n",
              "      <td>36</td>\n",
              "      <td>4.38</td>\n",
              "      <td>3.20</td>\n",
              "      <td>4.89</td>\n",
              "      <td>4.60</td>\n",
              "    </tr>\n",
              "  </tbody>\n",
              "</table>\n",
              "</div>\n",
              "      <button class=\"colab-df-convert\" onclick=\"convertToInteractive('df-d45c29e3-e5ed-4b0e-865f-2d04739d7b96')\"\n",
              "              title=\"Convert this dataframe to an interactive table.\"\n",
              "              style=\"display:none;\">\n",
              "        \n",
              "  <svg xmlns=\"http://www.w3.org/2000/svg\" height=\"24px\"viewBox=\"0 0 24 24\"\n",
              "       width=\"24px\">\n",
              "    <path d=\"M0 0h24v24H0V0z\" fill=\"none\"/>\n",
              "    <path d=\"M18.56 5.44l.94 2.06.94-2.06 2.06-.94-2.06-.94-.94-2.06-.94 2.06-2.06.94zm-11 1L8.5 8.5l.94-2.06 2.06-.94-2.06-.94L8.5 2.5l-.94 2.06-2.06.94zm10 10l.94 2.06.94-2.06 2.06-.94-2.06-.94-.94-2.06-.94 2.06-2.06.94z\"/><path d=\"M17.41 7.96l-1.37-1.37c-.4-.4-.92-.59-1.43-.59-.52 0-1.04.2-1.43.59L10.3 9.45l-7.72 7.72c-.78.78-.78 2.05 0 2.83L4 21.41c.39.39.9.59 1.41.59.51 0 1.02-.2 1.41-.59l7.78-7.78 2.81-2.81c.8-.78.8-2.07 0-2.86zM5.41 20L4 18.59l7.72-7.72 1.47 1.35L5.41 20z\"/>\n",
              "  </svg>\n",
              "      </button>\n",
              "      \n",
              "  <style>\n",
              "    .colab-df-container {\n",
              "      display:flex;\n",
              "      flex-wrap:wrap;\n",
              "      gap: 12px;\n",
              "    }\n",
              "\n",
              "    .colab-df-convert {\n",
              "      background-color: #E8F0FE;\n",
              "      border: none;\n",
              "      border-radius: 50%;\n",
              "      cursor: pointer;\n",
              "      display: none;\n",
              "      fill: #1967D2;\n",
              "      height: 32px;\n",
              "      padding: 0 0 0 0;\n",
              "      width: 32px;\n",
              "    }\n",
              "\n",
              "    .colab-df-convert:hover {\n",
              "      background-color: #E2EBFA;\n",
              "      box-shadow: 0px 1px 2px rgba(60, 64, 67, 0.3), 0px 1px 3px 1px rgba(60, 64, 67, 0.15);\n",
              "      fill: #174EA6;\n",
              "    }\n",
              "\n",
              "    [theme=dark] .colab-df-convert {\n",
              "      background-color: #3B4455;\n",
              "      fill: #D2E3FC;\n",
              "    }\n",
              "\n",
              "    [theme=dark] .colab-df-convert:hover {\n",
              "      background-color: #434B5C;\n",
              "      box-shadow: 0px 1px 3px 1px rgba(0, 0, 0, 0.15);\n",
              "      filter: drop-shadow(0px 1px 2px rgba(0, 0, 0, 0.3));\n",
              "      fill: #FFFFFF;\n",
              "    }\n",
              "  </style>\n",
              "\n",
              "      <script>\n",
              "        const buttonEl =\n",
              "          document.querySelector('#df-d45c29e3-e5ed-4b0e-865f-2d04739d7b96 button.colab-df-convert');\n",
              "        buttonEl.style.display =\n",
              "          google.colab.kernel.accessAllowed ? 'block' : 'none';\n",
              "\n",
              "        async function convertToInteractive(key) {\n",
              "          const element = document.querySelector('#df-d45c29e3-e5ed-4b0e-865f-2d04739d7b96');\n",
              "          const dataTable =\n",
              "            await google.colab.kernel.invokeFunction('convertToInteractive',\n",
              "                                                     [key], {});\n",
              "          if (!dataTable) return;\n",
              "\n",
              "          const docLinkHtml = 'Like what you see? Visit the ' +\n",
              "            '<a target=\"_blank\" href=https://colab.research.google.com/notebooks/data_table.ipynb>data table notebook</a>'\n",
              "            + ' to learn more about interactive tables.';\n",
              "          element.innerHTML = '';\n",
              "          dataTable['output_type'] = 'display_data';\n",
              "          await google.colab.output.renderOutput(dataTable, element);\n",
              "          const docLink = document.createElement('div');\n",
              "          docLink.innerHTML = docLinkHtml;\n",
              "          element.appendChild(docLink);\n",
              "        }\n",
              "      </script>\n",
              "    </div>\n",
              "  </div>\n",
              "  "
            ]
          },
          "metadata": {},
          "execution_count": 56
        }
      ]
    },
    {
      "cell_type": "code",
      "source": [
        "get_score_rank('カフェ(数)').head(5)"
      ],
      "metadata": {
        "id": "GjRM2U6uaFy0",
        "outputId": "9e2172a8-f190-4d8e-f281-adc107bfb74d",
        "colab": {
          "base_uri": "https://localhost:8080/",
          "height": 493
        }
      },
      "execution_count": 59,
      "outputs": [
        {
          "output_type": "execute_result",
          "data": {
            "text/plain": [
              "  市区町村名   町名     町丁目   最寄駅  コンビニ(数)  スーパー(数)  商店街(数)  銭湯(数)  カラオケ(数)  \\\n",
              "0    北区   赤羽   赤羽１丁目   赤羽駅       26        8       0      2       10   \n",
              "1   大田区  西蒲田  西蒲田７丁目   蒲田駅       28       11       0      1        6   \n",
              "2    北区  赤羽西  赤羽西１丁目   赤羽駅       25        4       0      0        9   \n",
              "3   足立区   千住   千住３丁目  北千住駅       22       12       1      2        6   \n",
              "4   杉並区  西荻北  西荻北３丁目  西荻窪駅       13        2       0      1        2   \n",
              "\n",
              "   ネットカフェ(数)  クリーニング(数)  本DVD(数)  衣料品(数)  ビューティーサロン(数)  100円ショップ(数)  カフェ(数)  \\\n",
              "0          2          0        9      39            72            0      31   \n",
              "1          4          0        3      25            64            1      26   \n",
              "2          2          1        7      29            65            1      26   \n",
              "3          3          3        5      49            52            1      25   \n",
              "4          0          1        5      32            62            0      25   \n",
              "\n",
              "   カフェ(チェーン店)(数)  ファストフード(数)  レストラン(数)  レストラン(チェーン店)(数)  飲み屋(数)  最寄駅(距離)  \\\n",
              "0              8           2        24                0     116    0.327   \n",
              "1              1           2        35                0      79    0.300   \n",
              "2              8           4        23                0      84    0.193   \n",
              "3              5           4        22                0      93    0.326   \n",
              "4              0           0        19                0      51    0.239   \n",
              "\n",
              "   平均所要(時間)  買い物スコア  駅スコア  飲食店スコア  利便性スコア  \n",
              "0        24    4.43  4.62    4.92    4.95  \n",
              "1        32    4.48  3.81    4.75    4.76  \n",
              "2        24    3.86  4.79    4.93    4.88  \n",
              "3        31    4.94  3.85    4.92    4.91  \n",
              "4        32    2.53  3.98    3.33    3.44  "
            ],
            "text/html": [
              "\n",
              "  <div id=\"df-7d6f0dac-adf2-44b1-ac1f-6e3c05b6e1b7\">\n",
              "    <div class=\"colab-df-container\">\n",
              "      <div>\n",
              "<style scoped>\n",
              "    .dataframe tbody tr th:only-of-type {\n",
              "        vertical-align: middle;\n",
              "    }\n",
              "\n",
              "    .dataframe tbody tr th {\n",
              "        vertical-align: top;\n",
              "    }\n",
              "\n",
              "    .dataframe thead th {\n",
              "        text-align: right;\n",
              "    }\n",
              "</style>\n",
              "<table border=\"1\" class=\"dataframe\">\n",
              "  <thead>\n",
              "    <tr style=\"text-align: right;\">\n",
              "      <th></th>\n",
              "      <th>市区町村名</th>\n",
              "      <th>町名</th>\n",
              "      <th>町丁目</th>\n",
              "      <th>最寄駅</th>\n",
              "      <th>コンビニ(数)</th>\n",
              "      <th>スーパー(数)</th>\n",
              "      <th>商店街(数)</th>\n",
              "      <th>銭湯(数)</th>\n",
              "      <th>カラオケ(数)</th>\n",
              "      <th>ネットカフェ(数)</th>\n",
              "      <th>クリーニング(数)</th>\n",
              "      <th>本DVD(数)</th>\n",
              "      <th>衣料品(数)</th>\n",
              "      <th>ビューティーサロン(数)</th>\n",
              "      <th>100円ショップ(数)</th>\n",
              "      <th>カフェ(数)</th>\n",
              "      <th>カフェ(チェーン店)(数)</th>\n",
              "      <th>ファストフード(数)</th>\n",
              "      <th>レストラン(数)</th>\n",
              "      <th>レストラン(チェーン店)(数)</th>\n",
              "      <th>飲み屋(数)</th>\n",
              "      <th>最寄駅(距離)</th>\n",
              "      <th>平均所要(時間)</th>\n",
              "      <th>買い物スコア</th>\n",
              "      <th>駅スコア</th>\n",
              "      <th>飲食店スコア</th>\n",
              "      <th>利便性スコア</th>\n",
              "    </tr>\n",
              "  </thead>\n",
              "  <tbody>\n",
              "    <tr>\n",
              "      <th>0</th>\n",
              "      <td>北区</td>\n",
              "      <td>赤羽</td>\n",
              "      <td>赤羽１丁目</td>\n",
              "      <td>赤羽駅</td>\n",
              "      <td>26</td>\n",
              "      <td>8</td>\n",
              "      <td>0</td>\n",
              "      <td>2</td>\n",
              "      <td>10</td>\n",
              "      <td>2</td>\n",
              "      <td>0</td>\n",
              "      <td>9</td>\n",
              "      <td>39</td>\n",
              "      <td>72</td>\n",
              "      <td>0</td>\n",
              "      <td>31</td>\n",
              "      <td>8</td>\n",
              "      <td>2</td>\n",
              "      <td>24</td>\n",
              "      <td>0</td>\n",
              "      <td>116</td>\n",
              "      <td>0.327</td>\n",
              "      <td>24</td>\n",
              "      <td>4.43</td>\n",
              "      <td>4.62</td>\n",
              "      <td>4.92</td>\n",
              "      <td>4.95</td>\n",
              "    </tr>\n",
              "    <tr>\n",
              "      <th>1</th>\n",
              "      <td>大田区</td>\n",
              "      <td>西蒲田</td>\n",
              "      <td>西蒲田７丁目</td>\n",
              "      <td>蒲田駅</td>\n",
              "      <td>28</td>\n",
              "      <td>11</td>\n",
              "      <td>0</td>\n",
              "      <td>1</td>\n",
              "      <td>6</td>\n",
              "      <td>4</td>\n",
              "      <td>0</td>\n",
              "      <td>3</td>\n",
              "      <td>25</td>\n",
              "      <td>64</td>\n",
              "      <td>1</td>\n",
              "      <td>26</td>\n",
              "      <td>1</td>\n",
              "      <td>2</td>\n",
              "      <td>35</td>\n",
              "      <td>0</td>\n",
              "      <td>79</td>\n",
              "      <td>0.300</td>\n",
              "      <td>32</td>\n",
              "      <td>4.48</td>\n",
              "      <td>3.81</td>\n",
              "      <td>4.75</td>\n",
              "      <td>4.76</td>\n",
              "    </tr>\n",
              "    <tr>\n",
              "      <th>2</th>\n",
              "      <td>北区</td>\n",
              "      <td>赤羽西</td>\n",
              "      <td>赤羽西１丁目</td>\n",
              "      <td>赤羽駅</td>\n",
              "      <td>25</td>\n",
              "      <td>4</td>\n",
              "      <td>0</td>\n",
              "      <td>0</td>\n",
              "      <td>9</td>\n",
              "      <td>2</td>\n",
              "      <td>1</td>\n",
              "      <td>7</td>\n",
              "      <td>29</td>\n",
              "      <td>65</td>\n",
              "      <td>1</td>\n",
              "      <td>26</td>\n",
              "      <td>8</td>\n",
              "      <td>4</td>\n",
              "      <td>23</td>\n",
              "      <td>0</td>\n",
              "      <td>84</td>\n",
              "      <td>0.193</td>\n",
              "      <td>24</td>\n",
              "      <td>3.86</td>\n",
              "      <td>4.79</td>\n",
              "      <td>4.93</td>\n",
              "      <td>4.88</td>\n",
              "    </tr>\n",
              "    <tr>\n",
              "      <th>3</th>\n",
              "      <td>足立区</td>\n",
              "      <td>千住</td>\n",
              "      <td>千住３丁目</td>\n",
              "      <td>北千住駅</td>\n",
              "      <td>22</td>\n",
              "      <td>12</td>\n",
              "      <td>1</td>\n",
              "      <td>2</td>\n",
              "      <td>6</td>\n",
              "      <td>3</td>\n",
              "      <td>3</td>\n",
              "      <td>5</td>\n",
              "      <td>49</td>\n",
              "      <td>52</td>\n",
              "      <td>1</td>\n",
              "      <td>25</td>\n",
              "      <td>5</td>\n",
              "      <td>4</td>\n",
              "      <td>22</td>\n",
              "      <td>0</td>\n",
              "      <td>93</td>\n",
              "      <td>0.326</td>\n",
              "      <td>31</td>\n",
              "      <td>4.94</td>\n",
              "      <td>3.85</td>\n",
              "      <td>4.92</td>\n",
              "      <td>4.91</td>\n",
              "    </tr>\n",
              "    <tr>\n",
              "      <th>4</th>\n",
              "      <td>杉並区</td>\n",
              "      <td>西荻北</td>\n",
              "      <td>西荻北３丁目</td>\n",
              "      <td>西荻窪駅</td>\n",
              "      <td>13</td>\n",
              "      <td>2</td>\n",
              "      <td>0</td>\n",
              "      <td>1</td>\n",
              "      <td>2</td>\n",
              "      <td>0</td>\n",
              "      <td>1</td>\n",
              "      <td>5</td>\n",
              "      <td>32</td>\n",
              "      <td>62</td>\n",
              "      <td>0</td>\n",
              "      <td>25</td>\n",
              "      <td>0</td>\n",
              "      <td>0</td>\n",
              "      <td>19</td>\n",
              "      <td>0</td>\n",
              "      <td>51</td>\n",
              "      <td>0.239</td>\n",
              "      <td>32</td>\n",
              "      <td>2.53</td>\n",
              "      <td>3.98</td>\n",
              "      <td>3.33</td>\n",
              "      <td>3.44</td>\n",
              "    </tr>\n",
              "  </tbody>\n",
              "</table>\n",
              "</div>\n",
              "      <button class=\"colab-df-convert\" onclick=\"convertToInteractive('df-7d6f0dac-adf2-44b1-ac1f-6e3c05b6e1b7')\"\n",
              "              title=\"Convert this dataframe to an interactive table.\"\n",
              "              style=\"display:none;\">\n",
              "        \n",
              "  <svg xmlns=\"http://www.w3.org/2000/svg\" height=\"24px\"viewBox=\"0 0 24 24\"\n",
              "       width=\"24px\">\n",
              "    <path d=\"M0 0h24v24H0V0z\" fill=\"none\"/>\n",
              "    <path d=\"M18.56 5.44l.94 2.06.94-2.06 2.06-.94-2.06-.94-.94-2.06-.94 2.06-2.06.94zm-11 1L8.5 8.5l.94-2.06 2.06-.94-2.06-.94L8.5 2.5l-.94 2.06-2.06.94zm10 10l.94 2.06.94-2.06 2.06-.94-2.06-.94-.94-2.06-.94 2.06-2.06.94z\"/><path d=\"M17.41 7.96l-1.37-1.37c-.4-.4-.92-.59-1.43-.59-.52 0-1.04.2-1.43.59L10.3 9.45l-7.72 7.72c-.78.78-.78 2.05 0 2.83L4 21.41c.39.39.9.59 1.41.59.51 0 1.02-.2 1.41-.59l7.78-7.78 2.81-2.81c.8-.78.8-2.07 0-2.86zM5.41 20L4 18.59l7.72-7.72 1.47 1.35L5.41 20z\"/>\n",
              "  </svg>\n",
              "      </button>\n",
              "      \n",
              "  <style>\n",
              "    .colab-df-container {\n",
              "      display:flex;\n",
              "      flex-wrap:wrap;\n",
              "      gap: 12px;\n",
              "    }\n",
              "\n",
              "    .colab-df-convert {\n",
              "      background-color: #E8F0FE;\n",
              "      border: none;\n",
              "      border-radius: 50%;\n",
              "      cursor: pointer;\n",
              "      display: none;\n",
              "      fill: #1967D2;\n",
              "      height: 32px;\n",
              "      padding: 0 0 0 0;\n",
              "      width: 32px;\n",
              "    }\n",
              "\n",
              "    .colab-df-convert:hover {\n",
              "      background-color: #E2EBFA;\n",
              "      box-shadow: 0px 1px 2px rgba(60, 64, 67, 0.3), 0px 1px 3px 1px rgba(60, 64, 67, 0.15);\n",
              "      fill: #174EA6;\n",
              "    }\n",
              "\n",
              "    [theme=dark] .colab-df-convert {\n",
              "      background-color: #3B4455;\n",
              "      fill: #D2E3FC;\n",
              "    }\n",
              "\n",
              "    [theme=dark] .colab-df-convert:hover {\n",
              "      background-color: #434B5C;\n",
              "      box-shadow: 0px 1px 3px 1px rgba(0, 0, 0, 0.15);\n",
              "      filter: drop-shadow(0px 1px 2px rgba(0, 0, 0, 0.3));\n",
              "      fill: #FFFFFF;\n",
              "    }\n",
              "  </style>\n",
              "\n",
              "      <script>\n",
              "        const buttonEl =\n",
              "          document.querySelector('#df-7d6f0dac-adf2-44b1-ac1f-6e3c05b6e1b7 button.colab-df-convert');\n",
              "        buttonEl.style.display =\n",
              "          google.colab.kernel.accessAllowed ? 'block' : 'none';\n",
              "\n",
              "        async function convertToInteractive(key) {\n",
              "          const element = document.querySelector('#df-7d6f0dac-adf2-44b1-ac1f-6e3c05b6e1b7');\n",
              "          const dataTable =\n",
              "            await google.colab.kernel.invokeFunction('convertToInteractive',\n",
              "                                                     [key], {});\n",
              "          if (!dataTable) return;\n",
              "\n",
              "          const docLinkHtml = 'Like what you see? Visit the ' +\n",
              "            '<a target=\"_blank\" href=https://colab.research.google.com/notebooks/data_table.ipynb>data table notebook</a>'\n",
              "            + ' to learn more about interactive tables.';\n",
              "          element.innerHTML = '';\n",
              "          dataTable['output_type'] = 'display_data';\n",
              "          await google.colab.output.renderOutput(dataTable, element);\n",
              "          const docLink = document.createElement('div');\n",
              "          docLink.innerHTML = docLinkHtml;\n",
              "          element.appendChild(docLink);\n",
              "        }\n",
              "      </script>\n",
              "    </div>\n",
              "  </div>\n",
              "  "
            ]
          },
          "metadata": {},
          "execution_count": 59
        }
      ]
    },
    {
      "cell_type": "code",
      "source": [],
      "metadata": {
        "id": "i0hRmtpPag-l"
      },
      "execution_count": null,
      "outputs": []
    }
  ]
}