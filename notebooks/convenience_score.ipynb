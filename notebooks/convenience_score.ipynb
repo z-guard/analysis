{
  "nbformat": 4,
  "nbformat_minor": 0,
  "metadata": {
    "colab": {
      "provenance": [],
      "authorship_tag": "ABX9TyPfVWSBx1LDE6+N9iu5DAVj",
      "include_colab_link": true
    },
    "kernelspec": {
      "name": "python3",
      "display_name": "Python 3"
    },
    "language_info": {
      "name": "python"
    }
  },
  "cells": [
    {
      "cell_type": "markdown",
      "metadata": {
        "id": "view-in-github",
        "colab_type": "text"
      },
      "source": [
        "<a href=\"https://colab.research.google.com/github/z-guard/analysis/blob/main/notebooks/convenience_score.ipynb\" target=\"_parent\"><img src=\"https://colab.research.google.com/assets/colab-badge.svg\" alt=\"Open In Colab\"/></a>"
      ]
    },
    {
      "cell_type": "markdown",
      "source": [
        "# 利便性\n",
        "- input:\n",
        "    - convenience_store.csv\n",
        "        - コンビニ店舗位置\n",
        "    - supermarket.csv\n",
        "        - スーパー店舗位置\n",
        "    - train_station.csv\n",
        "        - 最寄り駅の位置\n",
        "    - train_station_route.csv\n",
        "        - 主要駅までの平均所要時間\n",
        "    - navitime_master.csv\n",
        "        - 各種店舗の位置\n",
        "    - eat_drink_master.csv\n",
        "        - 飲食店の位置\n",
        "- output:\n",
        "    - convenience_score.csv\n",
        "        - 買い物スコア\n",
        "        - 駅スコア\n",
        "        - 飲食店スコア\n",
        "        - 利便性スコア"
      ],
      "metadata": {
        "id": "kP0WeYTi3sb3"
      }
    },
    {
      "cell_type": "code",
      "source": [
        "!pip install -q japanize-matplotlib"
      ],
      "metadata": {
        "id": "E9YHHF2F37-N"
      },
      "execution_count": 1,
      "outputs": []
    },
    {
      "cell_type": "code",
      "execution_count": 2,
      "metadata": {
        "colab": {
          "base_uri": "https://localhost:8080/"
        },
        "id": "w4KT6mck3nOo",
        "outputId": "858c72ab-aa5f-498f-e5d4-6a5dc3fe3223"
      },
      "outputs": [
        {
          "output_type": "stream",
          "name": "stdout",
          "text": [
            "Drive already mounted at /content/drive; to attempt to forcibly remount, call drive.mount(\"/content/drive\", force_remount=True).\n"
          ]
        }
      ],
      "source": [
        "from google.colab import drive\n",
        "drive.mount('/content/drive')"
      ]
    },
    {
      "cell_type": "code",
      "source": [
        "DIR_NAME = '/content/drive/MyDrive/z-gard/data'"
      ],
      "metadata": {
        "id": "ScoGtQsV3sA0"
      },
      "execution_count": 3,
      "outputs": []
    },
    {
      "cell_type": "code",
      "source": [
        "import os\n",
        "import pandas as pd\n",
        "import numpy as np\n",
        "import math\n",
        "import matplotlib.pyplot as plt\n",
        "import japanize_matplotlib\n",
        "import seaborn as sns\n",
        "\n",
        "pd.set_option('display.max_columns', 50)\n",
        "pd.set_option('display.max_rows', 100)"
      ],
      "metadata": {
        "id": "1ef9tlAW3zxE"
      },
      "execution_count": 4,
      "outputs": []
    },
    {
      "cell_type": "markdown",
      "source": [
        "### 地理マスタ"
      ],
      "metadata": {
        "id": "XRO-NFWf4Gnn"
      }
    },
    {
      "cell_type": "code",
      "source": [
        "df_geo_master = pd.read_csv(os.path.join(DIR_NAME, 'geocoding.csv'))[['town_id', '市区町村名', '町名', '町丁目', '緯度', '経度']]\n",
        "print(df_geo_master.shape)"
      ],
      "metadata": {
        "colab": {
          "base_uri": "https://localhost:8080/"
        },
        "id": "hD-7wSVN4BH0",
        "outputId": "e77cc3a4-dba3-4d5a-d101-e91bea75587b"
      },
      "execution_count": 5,
      "outputs": [
        {
          "output_type": "stream",
          "name": "stdout",
          "text": [
            "(3145, 6)\n"
          ]
        }
      ]
    },
    {
      "cell_type": "code",
      "source": [
        "store_type_list = []"
      ],
      "metadata": {
        "id": "tYVsTD2wZQ-O"
      },
      "execution_count": 6,
      "outputs": []
    },
    {
      "cell_type": "markdown",
      "source": [
        "### コンビニ"
      ],
      "metadata": {
        "id": "2-pBdXmw4Ktq"
      }
    },
    {
      "cell_type": "code",
      "source": [
        "df_convini_master = pd.read_csv(os.path.join(DIR_NAME, 'convenience_store.csv'))[['name', 'lat', 'lng']]\n",
        "df_convini_master['施設分類'] = 'コンビニ'\n",
        "df_convini_master = df_convini_master.rename(columns={'name':'名称', 'lat':'緯度', 'lng':'経度'})\n",
        "print(df_convini_master.shape)\n",
        "store_type_list.append('コンビニ')"
      ],
      "metadata": {
        "colab": {
          "base_uri": "https://localhost:8080/"
        },
        "id": "bZ7JBlaa4JtN",
        "outputId": "0dcd5b1b-a494-4845-e5b0-38319034b77b"
      },
      "execution_count": 7,
      "outputs": [
        {
          "output_type": "stream",
          "name": "stdout",
          "text": [
            "(6405, 4)\n"
          ]
        }
      ]
    },
    {
      "cell_type": "markdown",
      "source": [
        "### スーパー"
      ],
      "metadata": {
        "id": "FJCTnQNHEoPF"
      }
    },
    {
      "cell_type": "code",
      "source": [
        "df_super_master = pd.read_csv(os.path.join(DIR_NAME, 'supermarket.csv'))[['name', 'lat', 'lng']]\n",
        "df_super_master['施設分類'] = 'スーパー'\n",
        "df_super_master = df_super_master.rename(columns={'name':'名称', 'lat':'緯度', 'lng':'経度'})\n",
        "print(df_super_master.shape)\n",
        "store_type_list.append('スーパー')"
      ],
      "metadata": {
        "colab": {
          "base_uri": "https://localhost:8080/"
        },
        "id": "VeBcuQyn4aee",
        "outputId": "fce2c1ad-7748-4152-b858-c8f9e62e7028"
      },
      "execution_count": 8,
      "outputs": [
        {
          "output_type": "stream",
          "name": "stdout",
          "text": [
            "(2060, 4)\n"
          ]
        }
      ]
    },
    {
      "cell_type": "markdown",
      "source": [
        "### 最寄駅"
      ],
      "metadata": {
        "id": "lN64Jn4B4zTc"
      }
    },
    {
      "cell_type": "code",
      "source": [
        "df_station_master = pd.read_csv(os.path.join(DIR_NAME, 'train_station.csv'))[['no', 'name', 'lat', 'lng']]\n",
        "df_station_master = df_station_master.rename(columns={'no':'town_id', 'name':'最寄駅'})\n",
        "print(df_station_master.shape)"
      ],
      "metadata": {
        "colab": {
          "base_uri": "https://localhost:8080/"
        },
        "id": "o-k260vj4gVe",
        "outputId": "3d7e2351-0e2a-4e5c-b607-e9f6c04e51f7"
      },
      "execution_count": 9,
      "outputs": [
        {
          "output_type": "stream",
          "name": "stdout",
          "text": [
            "(3141, 4)\n"
          ]
        }
      ]
    },
    {
      "cell_type": "markdown",
      "source": [
        "### 主要駅までの平均所要時間"
      ],
      "metadata": {
        "id": "SGy2yp0xAPoc"
      }
    },
    {
      "cell_type": "code",
      "source": [
        "major_station = ['東京駅', '上野駅', '池袋駅', '新宿駅', '渋谷駅', '品川駅']\n",
        "df_station_route = pd.read_csv(os.path.join(DIR_NAME, 'train_station_route.csv'))[['no'] + major_station].rename(columns={'no': 'town_id'})\n",
        "print(df_station_route.shape)"
      ],
      "metadata": {
        "id": "a8RbbyPA_TxV",
        "outputId": "76aa94a7-9b66-4fc5-89d0-1bf788826a0f",
        "colab": {
          "base_uri": "https://localhost:8080/"
        }
      },
      "execution_count": 10,
      "outputs": [
        {
          "output_type": "stream",
          "name": "stdout",
          "text": [
            "(3141, 7)\n"
          ]
        }
      ]
    },
    {
      "cell_type": "code",
      "source": [
        "df_station_route['平均所要(時間)'] = df_station_route[major_station].mean(axis=1).round(0)\n",
        "df_station_route = df_station_route[['town_id', '平均所要(時間)']]"
      ],
      "metadata": {
        "id": "Ss1gVHX3_wVv"
      },
      "execution_count": 11,
      "outputs": []
    },
    {
      "cell_type": "markdown",
      "source": [
        "### 各種店舗\n",
        "- '商店街', '銭湯', 'カラオケ', 'ネットカフェ', 'クリーニング'"
      ],
      "metadata": {
        "id": "qgXPC8jGIKyn"
      }
    },
    {
      "cell_type": "code",
      "source": [
        "df_navitime_org = pd.read_csv(os.path.join(DIR_NAME, 'navitime_master.csv'))[['名称', 'データ元', '緯度', '経度']]\n",
        "print(df_navitime_org.shape)\n",
        "\n",
        "df_store = df_navitime_org[\n",
        "    df_navitime_org['データ元'].isin(['商店街', '銭湯', 'カラオケ', 'ネットカフェ', 'クリーニング'])\n",
        "].rename(columns={'データ元': '施設分類'}).reset_index(drop=True)\n",
        "print(df_store.shape)\n",
        "\n",
        "store_type_list += list(df_store['施設分類'].unique())"
      ],
      "metadata": {
        "id": "3GJ8G72BIKOT",
        "outputId": "3300a82c-6416-4e8c-bf62-57a5436a3c39",
        "colab": {
          "base_uri": "https://localhost:8080/"
        }
      },
      "execution_count": 12,
      "outputs": [
        {
          "output_type": "stream",
          "name": "stdout",
          "text": [
            "(7854, 4)\n",
            "(2355, 4)\n"
          ]
        }
      ]
    },
    {
      "cell_type": "markdown",
      "source": [
        "### 飲食店\n",
        "- 'カフェ', 'カフェ(チェーン店)', 'ファストフード', 'レストラン', 'レストラン(チェーン店)', '飲み屋'"
      ],
      "metadata": {
        "id": "J0W0RVIYXfzs"
      }
    },
    {
      "cell_type": "code",
      "source": [
        "df_eat_drink_org = pd.read_csv(os.path.join(DIR_NAME, 'eat_drink_master.csv'))[['名称', '施設分類', '緯度', '経度']]\n",
        "df_eat_drink_org = df_eat_drink_org[\n",
        "    df_eat_drink_org['施設分類'] != 'ネットカフェ'\n",
        "].reset_index(drop=True)\n",
        "print(df_eat_drink_org.shape)\n",
        "\n",
        "store_type_list += list(df_eat_drink_org['施設分類'].unique())"
      ],
      "metadata": {
        "id": "qRp-CYukXfRP",
        "outputId": "530495a3-a521-4bf0-cc48-dc81145f85be",
        "colab": {
          "base_uri": "https://localhost:8080/"
        }
      },
      "execution_count": 13,
      "outputs": [
        {
          "output_type": "stream",
          "name": "stdout",
          "text": [
            "(24260, 4)\n"
          ]
        }
      ]
    },
    {
      "cell_type": "code",
      "source": [
        "df_store_master = pd.concat([\n",
        "    df_convini_master,\n",
        "    df_super_master,\n",
        "    df_store,\n",
        "    df_eat_drink_org\n",
        "]).reset_index(drop=True)\n",
        "print(df_store_master.shape)"
      ],
      "metadata": {
        "id": "oVtdwr5gJr-c",
        "outputId": "8b9946d4-8aab-4e88-d959-2bfd1819c543",
        "colab": {
          "base_uri": "https://localhost:8080/"
        }
      },
      "execution_count": 14,
      "outputs": [
        {
          "output_type": "stream",
          "name": "stdout",
          "text": [
            "(35080, 4)\n"
          ]
        }
      ]
    },
    {
      "cell_type": "code",
      "source": [
        "# 距離計算\n",
        "def get_distance(lat1, lon1, lat2, lon2):\n",
        "    _lat1 = lat1 * math.pi / 180\n",
        "    _lon1 = lon1 * math.pi / 180\n",
        "    _lat2 = lat2 * math.pi / 180\n",
        "    _lon2 = lon2 * math.pi / 180\n",
        "    _tmp = math.cos(_lat1) * math.cos(_lat2) * math.cos(_lon2 - _lon1) + math.sin(_lat1) * math.sin(_lat2)\n",
        "    _tmp = 1 if _tmp > 1 else -1 if _tmp < -1 else _tmp\n",
        "    return 6371 * math.acos(_tmp)\n",
        "\n",
        "# 最寄り施設までの距離\n",
        "def get_value_of_nearest_facility(df_master, df_facility, category, method='min', param=3):\n",
        "    _df_cat = df_facility[df_facility['施設分類'] == category].copy()\n",
        "    cat_values = []\n",
        "    for i, (lat, lon) in enumerate(zip(df_master['緯度'].values, df_master['経度'].values)):\n",
        "        dist = _df_cat[\n",
        "            ((_df_cat['緯度'] - lat).abs() < 0.02) &    # 約2km以内\n",
        "            ((_df_cat['経度'] - lon).abs() < 0.02)      # 約2km以内\n",
        "        ].apply(lambda x: get_distance(x['緯度'], x['経度'], lat, lon), axis=1)\n",
        "        val = None\n",
        "        if method == 'min':\n",
        "            # 最小の距離\n",
        "            val = dist.min()\n",
        "        elif method == 'count':\n",
        "            # {param}km以内の施設の数をカウント\n",
        "            val = len(dist[dist <= param])\n",
        "        elif method == 'mean':\n",
        "            # 近い{param}件の距離の平均\n",
        "            val = dist.sort_values()[:param].mean()\n",
        "        cat_values.append(val)\n",
        "    return cat_values"
      ],
      "metadata": {
        "id": "_zuCoLhg48ZN"
      },
      "execution_count": 15,
      "outputs": []
    },
    {
      "cell_type": "markdown",
      "source": [
        "### スコア"
      ],
      "metadata": {
        "id": "IILAQB3vA02_"
      }
    },
    {
      "cell_type": "code",
      "source": [
        "%%time\n",
        "radius = 0.5    # 0.5km以内の施設の数\n",
        "for store in store_type_list:\n",
        "    df_geo_master[f'{store}(数)'] = get_value_of_nearest_facility(df_geo_master, df_store_master, store, 'count', radius)\n",
        "    print(store)"
      ],
      "metadata": {
        "colab": {
          "base_uri": "https://localhost:8080/"
        },
        "id": "GOWzRaqi5JH2",
        "outputId": "060807ec-6664-46cc-887e-ccc5fcf3388c"
      },
      "execution_count": 16,
      "outputs": [
        {
          "output_type": "stream",
          "name": "stdout",
          "text": [
            "コンビニ\n",
            "スーパー\n",
            "商店街\n",
            "銭湯\n",
            "カラオケ\n",
            "ネットカフェ\n",
            "クリーニング\n",
            "カフェ\n",
            "カフェ(チェーン店)\n",
            "ファストフード\n",
            "レストラン\n",
            "レストラン(チェーン店)\n",
            "飲み屋\n",
            "CPU times: user 2min 20s, sys: 1.75 s, total: 2min 22s\n",
            "Wall time: 2min 37s\n"
          ]
        }
      ]
    },
    {
      "cell_type": "code",
      "source": [
        "# 最寄駅からの距離\n",
        "geo_master_len = len(df_geo_master)\n",
        "df_geo_master = pd.merge(df_geo_master, df_station_master, on='town_id', how='left')\n",
        "assert len(df_geo_master) == geo_master_len\n",
        "\n",
        "df_geo_master['最寄駅(距離)'] = df_geo_master.apply(lambda x: get_distance(x['緯度'], x['経度'], x['lat'], x['lng']), axis=1)\n",
        "df_geo_master = df_geo_master.drop(columns=['lat', 'lng'])"
      ],
      "metadata": {
        "id": "Gccf1DW-7cgo"
      },
      "execution_count": 17,
      "outputs": []
    },
    {
      "cell_type": "code",
      "source": [
        "# 主要駅までの平均所要時間\n",
        "df_geo_master = pd.merge(df_geo_master, df_station_route, on='town_id', how='left')\n",
        "assert len(df_geo_master) == geo_master_len\n",
        "\n",
        "max_time = df_geo_master['平均所要(時間)'].max() + 5\n",
        "df_geo_master['平均所要(時間)'] = df_geo_master['平均所要(時間)'].fillna(max_time).astype(int)"
      ],
      "metadata": {
        "id": "8LMgiFTKCMA7"
      },
      "execution_count": 18,
      "outputs": []
    },
    {
      "cell_type": "code",
      "source": [
        "print(df_geo_master.shape)\n",
        "df_geo_master.head()"
      ],
      "metadata": {
        "colab": {
          "base_uri": "https://localhost:8080/",
          "height": 476
        },
        "id": "GbdMQ-rc7G9B",
        "outputId": "eebf9e4a-ce66-46f4-9d33-f7b57913a8da"
      },
      "execution_count": 19,
      "outputs": [
        {
          "output_type": "stream",
          "name": "stdout",
          "text": [
            "(3145, 22)\n"
          ]
        },
        {
          "output_type": "execute_result",
          "data": {
            "text/plain": [
              "   town_id 市区町村名   町名     町丁目         緯度          経度  コンビニ(数)  スーパー(数)  \\\n",
              "0   101003  千代田区  丸の内  丸の内１丁目  35.681560  139.767201       72        3   \n",
              "1   101004  千代田区  丸の内  丸の内２丁目  35.680022  139.763447       54        1   \n",
              "2   101005  千代田区  丸の内  丸の内３丁目  35.676952  139.763476       46        1   \n",
              "3   101007  千代田区  大手町  大手町１丁目  35.688069  139.763929       37        1   \n",
              "4   101008  千代田区  大手町  大手町２丁目  35.686301  139.768087       45        3   \n",
              "\n",
              "   商店街(数)  銭湯(数)  カラオケ(数)  ネットカフェ(数)  クリーニング(数)  カフェ(数)  カフェ(チェーン店)(数)  \\\n",
              "0       0      0        2          0          0       8              4   \n",
              "1       0      0        0          0          0      11              5   \n",
              "2       0      1        2          0          0      14              5   \n",
              "3       0      1        0          0          1       8              8   \n",
              "4       0      0        0          0          2       7              7   \n",
              "\n",
              "   ファストフード(数)  レストラン(数)  レストラン(チェーン店)(数)  飲み屋(数)   最寄駅   最寄駅(距離)  平均所要(時間)  \n",
              "0           1        22                0      31   東京駅  0.036657        16  \n",
              "1           2        23                0      36   東京駅  0.358574        16  \n",
              "2           2        24                0      39  有楽町駅  0.219467        20  \n",
              "3           1        18                0      30  大手町駅  0.308061        20  \n",
              "4           1        18                0      25  大手町駅  0.446996        20  "
            ],
            "text/html": [
              "\n",
              "  <div id=\"df-b4575af6-2992-468f-8311-1c853a16d6a2\">\n",
              "    <div class=\"colab-df-container\">\n",
              "      <div>\n",
              "<style scoped>\n",
              "    .dataframe tbody tr th:only-of-type {\n",
              "        vertical-align: middle;\n",
              "    }\n",
              "\n",
              "    .dataframe tbody tr th {\n",
              "        vertical-align: top;\n",
              "    }\n",
              "\n",
              "    .dataframe thead th {\n",
              "        text-align: right;\n",
              "    }\n",
              "</style>\n",
              "<table border=\"1\" class=\"dataframe\">\n",
              "  <thead>\n",
              "    <tr style=\"text-align: right;\">\n",
              "      <th></th>\n",
              "      <th>town_id</th>\n",
              "      <th>市区町村名</th>\n",
              "      <th>町名</th>\n",
              "      <th>町丁目</th>\n",
              "      <th>緯度</th>\n",
              "      <th>経度</th>\n",
              "      <th>コンビニ(数)</th>\n",
              "      <th>スーパー(数)</th>\n",
              "      <th>商店街(数)</th>\n",
              "      <th>銭湯(数)</th>\n",
              "      <th>カラオケ(数)</th>\n",
              "      <th>ネットカフェ(数)</th>\n",
              "      <th>クリーニング(数)</th>\n",
              "      <th>カフェ(数)</th>\n",
              "      <th>カフェ(チェーン店)(数)</th>\n",
              "      <th>ファストフード(数)</th>\n",
              "      <th>レストラン(数)</th>\n",
              "      <th>レストラン(チェーン店)(数)</th>\n",
              "      <th>飲み屋(数)</th>\n",
              "      <th>最寄駅</th>\n",
              "      <th>最寄駅(距離)</th>\n",
              "      <th>平均所要(時間)</th>\n",
              "    </tr>\n",
              "  </thead>\n",
              "  <tbody>\n",
              "    <tr>\n",
              "      <th>0</th>\n",
              "      <td>101003</td>\n",
              "      <td>千代田区</td>\n",
              "      <td>丸の内</td>\n",
              "      <td>丸の内１丁目</td>\n",
              "      <td>35.681560</td>\n",
              "      <td>139.767201</td>\n",
              "      <td>72</td>\n",
              "      <td>3</td>\n",
              "      <td>0</td>\n",
              "      <td>0</td>\n",
              "      <td>2</td>\n",
              "      <td>0</td>\n",
              "      <td>0</td>\n",
              "      <td>8</td>\n",
              "      <td>4</td>\n",
              "      <td>1</td>\n",
              "      <td>22</td>\n",
              "      <td>0</td>\n",
              "      <td>31</td>\n",
              "      <td>東京駅</td>\n",
              "      <td>0.036657</td>\n",
              "      <td>16</td>\n",
              "    </tr>\n",
              "    <tr>\n",
              "      <th>1</th>\n",
              "      <td>101004</td>\n",
              "      <td>千代田区</td>\n",
              "      <td>丸の内</td>\n",
              "      <td>丸の内２丁目</td>\n",
              "      <td>35.680022</td>\n",
              "      <td>139.763447</td>\n",
              "      <td>54</td>\n",
              "      <td>1</td>\n",
              "      <td>0</td>\n",
              "      <td>0</td>\n",
              "      <td>0</td>\n",
              "      <td>0</td>\n",
              "      <td>0</td>\n",
              "      <td>11</td>\n",
              "      <td>5</td>\n",
              "      <td>2</td>\n",
              "      <td>23</td>\n",
              "      <td>0</td>\n",
              "      <td>36</td>\n",
              "      <td>東京駅</td>\n",
              "      <td>0.358574</td>\n",
              "      <td>16</td>\n",
              "    </tr>\n",
              "    <tr>\n",
              "      <th>2</th>\n",
              "      <td>101005</td>\n",
              "      <td>千代田区</td>\n",
              "      <td>丸の内</td>\n",
              "      <td>丸の内３丁目</td>\n",
              "      <td>35.676952</td>\n",
              "      <td>139.763476</td>\n",
              "      <td>46</td>\n",
              "      <td>1</td>\n",
              "      <td>0</td>\n",
              "      <td>1</td>\n",
              "      <td>2</td>\n",
              "      <td>0</td>\n",
              "      <td>0</td>\n",
              "      <td>14</td>\n",
              "      <td>5</td>\n",
              "      <td>2</td>\n",
              "      <td>24</td>\n",
              "      <td>0</td>\n",
              "      <td>39</td>\n",
              "      <td>有楽町駅</td>\n",
              "      <td>0.219467</td>\n",
              "      <td>20</td>\n",
              "    </tr>\n",
              "    <tr>\n",
              "      <th>3</th>\n",
              "      <td>101007</td>\n",
              "      <td>千代田区</td>\n",
              "      <td>大手町</td>\n",
              "      <td>大手町１丁目</td>\n",
              "      <td>35.688069</td>\n",
              "      <td>139.763929</td>\n",
              "      <td>37</td>\n",
              "      <td>1</td>\n",
              "      <td>0</td>\n",
              "      <td>1</td>\n",
              "      <td>0</td>\n",
              "      <td>0</td>\n",
              "      <td>1</td>\n",
              "      <td>8</td>\n",
              "      <td>8</td>\n",
              "      <td>1</td>\n",
              "      <td>18</td>\n",
              "      <td>0</td>\n",
              "      <td>30</td>\n",
              "      <td>大手町駅</td>\n",
              "      <td>0.308061</td>\n",
              "      <td>20</td>\n",
              "    </tr>\n",
              "    <tr>\n",
              "      <th>4</th>\n",
              "      <td>101008</td>\n",
              "      <td>千代田区</td>\n",
              "      <td>大手町</td>\n",
              "      <td>大手町２丁目</td>\n",
              "      <td>35.686301</td>\n",
              "      <td>139.768087</td>\n",
              "      <td>45</td>\n",
              "      <td>3</td>\n",
              "      <td>0</td>\n",
              "      <td>0</td>\n",
              "      <td>0</td>\n",
              "      <td>0</td>\n",
              "      <td>2</td>\n",
              "      <td>7</td>\n",
              "      <td>7</td>\n",
              "      <td>1</td>\n",
              "      <td>18</td>\n",
              "      <td>0</td>\n",
              "      <td>25</td>\n",
              "      <td>大手町駅</td>\n",
              "      <td>0.446996</td>\n",
              "      <td>20</td>\n",
              "    </tr>\n",
              "  </tbody>\n",
              "</table>\n",
              "</div>\n",
              "      <button class=\"colab-df-convert\" onclick=\"convertToInteractive('df-b4575af6-2992-468f-8311-1c853a16d6a2')\"\n",
              "              title=\"Convert this dataframe to an interactive table.\"\n",
              "              style=\"display:none;\">\n",
              "        \n",
              "  <svg xmlns=\"http://www.w3.org/2000/svg\" height=\"24px\"viewBox=\"0 0 24 24\"\n",
              "       width=\"24px\">\n",
              "    <path d=\"M0 0h24v24H0V0z\" fill=\"none\"/>\n",
              "    <path d=\"M18.56 5.44l.94 2.06.94-2.06 2.06-.94-2.06-.94-.94-2.06-.94 2.06-2.06.94zm-11 1L8.5 8.5l.94-2.06 2.06-.94-2.06-.94L8.5 2.5l-.94 2.06-2.06.94zm10 10l.94 2.06.94-2.06 2.06-.94-2.06-.94-.94-2.06-.94 2.06-2.06.94z\"/><path d=\"M17.41 7.96l-1.37-1.37c-.4-.4-.92-.59-1.43-.59-.52 0-1.04.2-1.43.59L10.3 9.45l-7.72 7.72c-.78.78-.78 2.05 0 2.83L4 21.41c.39.39.9.59 1.41.59.51 0 1.02-.2 1.41-.59l7.78-7.78 2.81-2.81c.8-.78.8-2.07 0-2.86zM5.41 20L4 18.59l7.72-7.72 1.47 1.35L5.41 20z\"/>\n",
              "  </svg>\n",
              "      </button>\n",
              "      \n",
              "  <style>\n",
              "    .colab-df-container {\n",
              "      display:flex;\n",
              "      flex-wrap:wrap;\n",
              "      gap: 12px;\n",
              "    }\n",
              "\n",
              "    .colab-df-convert {\n",
              "      background-color: #E8F0FE;\n",
              "      border: none;\n",
              "      border-radius: 50%;\n",
              "      cursor: pointer;\n",
              "      display: none;\n",
              "      fill: #1967D2;\n",
              "      height: 32px;\n",
              "      padding: 0 0 0 0;\n",
              "      width: 32px;\n",
              "    }\n",
              "\n",
              "    .colab-df-convert:hover {\n",
              "      background-color: #E2EBFA;\n",
              "      box-shadow: 0px 1px 2px rgba(60, 64, 67, 0.3), 0px 1px 3px 1px rgba(60, 64, 67, 0.15);\n",
              "      fill: #174EA6;\n",
              "    }\n",
              "\n",
              "    [theme=dark] .colab-df-convert {\n",
              "      background-color: #3B4455;\n",
              "      fill: #D2E3FC;\n",
              "    }\n",
              "\n",
              "    [theme=dark] .colab-df-convert:hover {\n",
              "      background-color: #434B5C;\n",
              "      box-shadow: 0px 1px 3px 1px rgba(0, 0, 0, 0.15);\n",
              "      filter: drop-shadow(0px 1px 2px rgba(0, 0, 0, 0.3));\n",
              "      fill: #FFFFFF;\n",
              "    }\n",
              "  </style>\n",
              "\n",
              "      <script>\n",
              "        const buttonEl =\n",
              "          document.querySelector('#df-b4575af6-2992-468f-8311-1c853a16d6a2 button.colab-df-convert');\n",
              "        buttonEl.style.display =\n",
              "          google.colab.kernel.accessAllowed ? 'block' : 'none';\n",
              "\n",
              "        async function convertToInteractive(key) {\n",
              "          const element = document.querySelector('#df-b4575af6-2992-468f-8311-1c853a16d6a2');\n",
              "          const dataTable =\n",
              "            await google.colab.kernel.invokeFunction('convertToInteractive',\n",
              "                                                     [key], {});\n",
              "          if (!dataTable) return;\n",
              "\n",
              "          const docLinkHtml = 'Like what you see? Visit the ' +\n",
              "            '<a target=\"_blank\" href=https://colab.research.google.com/notebooks/data_table.ipynb>data table notebook</a>'\n",
              "            + ' to learn more about interactive tables.';\n",
              "          element.innerHTML = '';\n",
              "          dataTable['output_type'] = 'display_data';\n",
              "          await google.colab.output.renderOutput(dataTable, element);\n",
              "          const docLink = document.createElement('div');\n",
              "          docLink.innerHTML = docLinkHtml;\n",
              "          element.appendChild(docLink);\n",
              "        }\n",
              "      </script>\n",
              "    </div>\n",
              "  </div>\n",
              "  "
            ]
          },
          "metadata": {},
          "execution_count": 19
        }
      ]
    },
    {
      "cell_type": "code",
      "source": [
        "feature_list = [col for col in df_geo_master.columns if col.endswith(')')]"
      ],
      "metadata": {
        "id": "HeqZLsOyUljA"
      },
      "execution_count": 20,
      "outputs": []
    },
    {
      "cell_type": "code",
      "source": [
        "for feature in feature_list:\n",
        "    print(feature)\n",
        "    sns.histplot(df_geo_master[feature], bins=10)\n",
        "    plt.show()"
      ],
      "metadata": {
        "colab": {
          "base_uri": "https://localhost:8080/",
          "height": 1000
        },
        "id": "omSbyVRv7Jjj",
        "outputId": "ea68f887-30c9-4ec1-c1d2-e629bb6fc4cb"
      },
      "execution_count": 21,
      "outputs": [
        {
          "output_type": "stream",
          "name": "stdout",
          "text": [
            "コンビニ(数)\n"
          ]
        },
        {
          "output_type": "display_data",
          "data": {
            "text/plain": [
              "<Figure size 432x288 with 1 Axes>"
            ],
            "image/png": "[encoded data removed]"
          },
          "metadata": {
            "needs_background": "light"
          }
        },
        {
          "output_type": "stream",
          "name": "stdout",
          "text": [
            "スーパー(数)\n"
          ]
        },
        {
          "output_type": "display_data",
          "data": {
            "text/plain": [
              "<Figure size 432x288 with 1 Axes>"
            ],
            "image/png": "[encoded data removed]"
          },
          "metadata": {
            "needs_background": "light"
          }
        },
        {
          "output_type": "stream",
          "name": "stdout",
          "text": [
            "商店街(数)\n"
          ]
        },
        {
          "output_type": "display_data",
          "data": {
            "text/plain": [
              "<Figure size 432x288 with 1 Axes>"
            ],
            "image/png": "[encoded data removed]"
          },
          "metadata": {
            "needs_background": "light"
          }
        },
        {
          "output_type": "stream",
          "name": "stdout",
          "text": [
            "銭湯(数)\n"
          ]
        },
        {
          "output_type": "display_data",
          "data": {
            "text/plain": [
              "<Figure size 432x288 with 1 Axes>"
            ],
            "image/png": "[encoded data removed]"
          },
          "metadata": {
            "needs_background": "light"
          }
        },
        {
          "output_type": "stream",
          "name": "stdout",
          "text": [
            "カラオケ(数)\n"
          ]
        },
        {
          "output_type": "display_data",
          "data": {
            "text/plain": [
              "<Figure size 432x288 with 1 Axes>"
            ],
            "image/png": "[encoded data removed]"
          },
          "metadata": {
            "needs_background": "light"
          }
        },
        {
          "output_type": "stream",
          "name": "stdout",
          "text": [
            "ネットカフェ(数)\n"
          ]
        },
        {
          "output_type": "display_data",
          "data": {
            "text/plain": [
              "<Figure size 432x288 with 1 Axes>"
            ],
            "image/png": "[encoded data removed]"
          },
          "metadata": {
            "needs_background": "light"
          }
        },
        {
          "output_type": "stream",
          "name": "stdout",
          "text": [
            "クリーニング(数)\n"
          ]
        },
        {
          "output_type": "display_data",
          "data": {
            "text/plain": [
              "<Figure size 432x288 with 1 Axes>"
            ],
            "image/png": "[encoded data removed]"
          },
          "metadata": {
            "needs_background": "light"
          }
        },
        {
          "output_type": "stream",
          "name": "stdout",
          "text": [
            "カフェ(数)\n"
          ]
        },
        {
          "output_type": "display_data",
          "data": {
            "text/plain": [
              "<Figure size 432x288 with 1 Axes>"
            ],
            "image/png": "[encoded data removed]"
          },
          "metadata": {
            "needs_background": "light"
          }
        },
        {
          "output_type": "stream",
          "name": "stdout",
          "text": [
            "カフェ(チェーン店)(数)\n"
          ]
        },
        {
          "output_type": "display_data",
          "data": {
            "text/plain": [
              "<Figure size 432x288 with 1 Axes>"
            ],
            "image/png": "[encoded data removed]"
          },
          "metadata": {
            "needs_background": "light"
          }
        },
        {
          "output_type": "stream",
          "name": "stdout",
          "text": [
            "ファストフード(数)\n"
          ]
        },
        {
          "output_type": "display_data",
          "data": {
            "text/plain": [
              "<Figure size 432x288 with 1 Axes>"
            ],
            "image/png": "[encoded data removed]"
          },
          "metadata": {
            "needs_background": "light"
          }
        },
        {
          "output_type": "stream",
          "name": "stdout",
          "text": [
            "レストラン(数)\n"
          ]
        },
        {
          "output_type": "display_data",
          "data": {
            "text/plain": [
              "<Figure size 432x288 with 1 Axes>"
            ],
            "image/png": "[encoded data removed]"
          },
          "metadata": {
            "needs_background": "light"
          }
        },
        {
          "output_type": "stream",
          "name": "stdout",
          "text": [
            "レストラン(チェーン店)(数)\n"
          ]
        },
        {
          "output_type": "display_data",
          "data": {
            "text/plain": [
              "<Figure size 432x288 with 1 Axes>"
            ],
            "image/png": "[encoded data removed]"
          },
          "metadata": {
            "needs_background": "light"
          }
        },
        {
          "output_type": "stream",
          "name": "stdout",
          "text": [
            "飲み屋(数)\n"
          ]
        },
        {
          "output_type": "display_data",
          "data": {
            "text/plain": [
              "<Figure size 432x288 with 1 Axes>"
            ],
            "image/png": "[encoded data removed]"
          },
          "metadata": {
            "needs_background": "light"
          }
        },
        {
          "output_type": "stream",
          "name": "stdout",
          "text": [
            "最寄駅(距離)\n"
          ]
        },
        {
          "output_type": "display_data",
          "data": {
            "text/plain": [
              "<Figure size 432x288 with 1 Axes>"
            ],
            "image/png": "[encoded data removed]"
          },
          "metadata": {
            "needs_background": "light"
          }
        },
        {
          "output_type": "stream",
          "name": "stdout",
          "text": [
            "平均所要(時間)\n"
          ]
        },
        {
          "output_type": "display_data",
          "data": {
            "text/plain": [
              "<Figure size 432x288 with 1 Axes>"
            ],
            "image/png": "[encoded data removed]"
          },
          "metadata": {
            "needs_background": "light"
          }
        }
      ]
    },
    {
      "cell_type": "code",
      "source": [
        "def rank_score(sr_data):\n",
        "    rank = sr_data.rank()\n",
        "    rmax = rank.max()\n",
        "    rmin = rank.min()\n",
        "    max_val = 5\n",
        "    x = (rank - rmin)/(rmax - rmin) * max_val\n",
        "    return np.clip(x, 0, max_val)"
      ],
      "metadata": {
        "id": "LdClGOPa7YS5"
      },
      "execution_count": 22,
      "outputs": []
    },
    {
      "cell_type": "code",
      "source": [
        "def plot_score(df_master, score_name, sr_source=None):\n",
        "    if sr_source is not None:\n",
        "        sns.histplot(sr_source, bins=20)\n",
        "        plt.show()\n",
        "    sns.histplot(df_master[score_name], bins=20)\n",
        "    plt.show()\n",
        "    print(df_master[score_name].describe())"
      ],
      "metadata": {
        "id": "WWPEvsy3ptBz"
      },
      "execution_count": 23,
      "outputs": []
    },
    {
      "cell_type": "code",
      "source": [
        "for feature in feature_list:\n",
        "    if feature.endswith('(距離)') or feature.endswith('(時間)'):\n",
        "        df_geo_master[f'{feature}レベル'] = rank_score(df_geo_master[feature]*(-1)).round(2)\n",
        "    else:\n",
        "        df_geo_master[f'{feature}レベル'] = rank_score(df_geo_master[feature]).round(2)"
      ],
      "metadata": {
        "id": "Uwx_g9_f82WM"
      },
      "execution_count": 24,
      "outputs": []
    },
    {
      "cell_type": "code",
      "source": [
        "feature_list"
      ],
      "metadata": {
        "id": "2kCeoivvozJj",
        "outputId": "31822d0d-6d4f-4939-e88a-b652eb5b9117",
        "colab": {
          "base_uri": "https://localhost:8080/"
        }
      },
      "execution_count": 25,
      "outputs": [
        {
          "output_type": "execute_result",
          "data": {
            "text/plain": [
              "['コンビニ(数)',\n",
              " 'スーパー(数)',\n",
              " '商店街(数)',\n",
              " '銭湯(数)',\n",
              " 'カラオケ(数)',\n",
              " 'ネットカフェ(数)',\n",
              " 'クリーニング(数)',\n",
              " 'カフェ(数)',\n",
              " 'カフェ(チェーン店)(数)',\n",
              " 'ファストフード(数)',\n",
              " 'レストラン(数)',\n",
              " 'レストラン(チェーン店)(数)',\n",
              " '飲み屋(数)',\n",
              " '最寄駅(距離)',\n",
              " '平均所要(時間)']"
            ]
          },
          "metadata": {},
          "execution_count": 25
        }
      ]
    },
    {
      "cell_type": "markdown",
      "source": [
        "### 買い物スコア"
      ],
      "metadata": {
        "id": "ac6pAZDGq16N"
      }
    },
    {
      "cell_type": "code",
      "source": [
        "score_name_list = []\n",
        "score_name = '買い物スコア'\n",
        "score_name_list.append(score_name)\n",
        "\n",
        "score_list = [\n",
        "    df_geo_master['コンビニ(数)レベル'] * 0.5,\n",
        "    df_geo_master['スーパー(数)レベル'] * 1.0,\n",
        "    df_geo_master['商店街(数)レベル'] * 0.7,\n",
        "]\n",
        "_tmp_score = pd.concat(score_list, axis=1).sum(axis=1, skipna=False)\n",
        "df_geo_master[score_name] = rank_score(_tmp_score).round(2)"
      ],
      "metadata": {
        "id": "NX28XbUB9b2C"
      },
      "execution_count": 26,
      "outputs": []
    },
    {
      "cell_type": "code",
      "source": [
        "plot_score(df_geo_master, score_name, _tmp_score)"
      ],
      "metadata": {
        "id": "Cy_i9KIdqVYl",
        "outputId": "ef7b505a-379f-4126-a227-18bccf73c099",
        "colab": {
          "base_uri": "https://localhost:8080/",
          "height": 681
        }
      },
      "execution_count": 27,
      "outputs": [
        {
          "output_type": "display_data",
          "data": {
            "text/plain": [
              "<Figure size 432x288 with 1 Axes>"
            ],
            "image/png": "[encoded data removed]"
          },
          "metadata": {
            "needs_background": "light"
          }
        },
        {
          "output_type": "display_data",
          "data": {
            "text/plain": [
              "<Figure size 432x288 with 1 Axes>"
            ],
            "image/png": "[encoded data removed]"
          },
          "metadata": {
            "needs_background": "light"
          }
        },
        {
          "output_type": "stream",
          "name": "stdout",
          "text": [
            "count    3145.000000\n",
            "mean        2.481975\n",
            "std         1.454528\n",
            "min         0.000000\n",
            "25%         1.250000\n",
            "50%         2.480000\n",
            "75%         3.740000\n",
            "max         5.000000\n",
            "Name: 買い物スコア, dtype: float64\n"
          ]
        }
      ]
    },
    {
      "cell_type": "markdown",
      "source": [
        "### 駅スコア"
      ],
      "metadata": {
        "id": "Kzbyd5s-q5XW"
      }
    },
    {
      "cell_type": "code",
      "source": [
        "score_name = '駅スコア'\n",
        "score_name_list.append(score_name)\n",
        "\n",
        "score_list = [\n",
        "    df_geo_master['最寄駅(距離)レベル'] * 0.7,\n",
        "    df_geo_master['平均所要(時間)レベル'] * 1.0,\n",
        "]\n",
        "_tmp_score = pd.concat(score_list, axis=1).sum(axis=1, skipna=False)\n",
        "df_geo_master[score_name] = rank_score(_tmp_score).round(2)"
      ],
      "metadata": {
        "id": "JafH1lHS-MZK"
      },
      "execution_count": 28,
      "outputs": []
    },
    {
      "cell_type": "code",
      "source": [
        "plot_score(df_geo_master, score_name, _tmp_score)"
      ],
      "metadata": {
        "id": "ve1zMCOcqvgJ",
        "outputId": "3921f216-56d4-4a5a-dd0d-211790642814",
        "colab": {
          "base_uri": "https://localhost:8080/",
          "height": 680
        }
      },
      "execution_count": 29,
      "outputs": [
        {
          "output_type": "display_data",
          "data": {
            "text/plain": [
              "<Figure size 432x288 with 1 Axes>"
            ],
            "image/png": "[encoded data removed]"
          },
          "metadata": {
            "needs_background": "light"
          }
        },
        {
          "output_type": "display_data",
          "data": {
            "text/plain": [
              "<Figure size 432x288 with 1 Axes>"
            ],
            "image/png": "[encoded data removed]"
          },
          "metadata": {
            "needs_background": "light"
          }
        },
        {
          "output_type": "stream",
          "name": "stdout",
          "text": [
            "count    3141.000000\n",
            "mean        2.499602\n",
            "std         1.444327\n",
            "min         0.000000\n",
            "25%         1.250000\n",
            "50%         2.500000\n",
            "75%         3.750000\n",
            "max         5.000000\n",
            "Name: 駅スコア, dtype: float64\n"
          ]
        }
      ]
    },
    {
      "cell_type": "markdown",
      "source": [
        "### 飲食店スコア\n",
        "'カフェ(数)',\n",
        " 'カフェ(チェーン店)(数)',\n",
        " 'ファストフード(数)',\n",
        " 'レストラン(数)',\n",
        " 'レストラン(チェーン店)(数)',\n",
        " '飲み屋(数)',"
      ],
      "metadata": {
        "id": "DCsQ7rFgq996"
      }
    },
    {
      "cell_type": "code",
      "source": [
        "score_name = '飲食店スコア'\n",
        "score_name_list.append(score_name)\n",
        "\n",
        "score_list = [\n",
        "    df_geo_master['カフェ(数)レベル'] * 0.7,\n",
        "    df_geo_master['カフェ(チェーン店)(数)レベル'] * 0.7,\n",
        "    df_geo_master['ファストフード(数)レベル'] * 0.5,\n",
        "    df_geo_master['レストラン(数)レベル'] * 1.0,\n",
        "    df_geo_master['レストラン(チェーン店)(数)レベル'] * 0.7,\n",
        "    df_geo_master['飲み屋(数)レベル'] * 0.5,\n",
        "]\n",
        "_tmp_score = pd.concat(score_list, axis=1).sum(axis=1, skipna=False)\n",
        "df_geo_master[score_name] = rank_score(_tmp_score).round(2)"
      ],
      "metadata": {
        "id": "ovw7rnyFq8Ay"
      },
      "execution_count": 30,
      "outputs": []
    },
    {
      "cell_type": "code",
      "source": [
        "plot_score(df_geo_master, score_name, _tmp_score)"
      ],
      "metadata": {
        "id": "9bCRADTGpp7i",
        "outputId": "a2112ef8-6b75-4916-efa2-3c0930fc6c2f",
        "colab": {
          "base_uri": "https://localhost:8080/",
          "height": 681
        }
      },
      "execution_count": 31,
      "outputs": [
        {
          "output_type": "display_data",
          "data": {
            "text/plain": [
              "<Figure size 432x288 with 1 Axes>"
            ],
            "image/png": "[encoded data removed]"
          },
          "metadata": {
            "needs_background": "light"
          }
        },
        {
          "output_type": "display_data",
          "data": {
            "text/plain": [
              "<Figure size 432x288 with 1 Axes>"
            ],
            "image/png": "[encoded data removed]"
          },
          "metadata": {
            "needs_background": "light"
          }
        },
        {
          "output_type": "stream",
          "name": "stdout",
          "text": [
            "count    3145.000000\n",
            "mean        2.488779\n",
            "std         1.450477\n",
            "min         0.000000\n",
            "25%         1.230000\n",
            "50%         2.490000\n",
            "75%         3.740000\n",
            "max         5.000000\n",
            "Name: 飲食店スコア, dtype: float64\n"
          ]
        }
      ]
    },
    {
      "cell_type": "code",
      "source": [
        "score_name = '利便性スコア'\n",
        "score_name_list.append(score_name)\n",
        "\n",
        "score_list = [\n",
        "    df_geo_master['買い物スコア'] * 1.0,\n",
        "    df_geo_master['駅スコア'] * 1.0,\n",
        "    df_geo_master['飲食店スコア'] * 1.0,\n",
        "]\n",
        "_tmp_score = pd.concat(score_list, axis=1).sum(axis=1, skipna=False)\n",
        "df_geo_master[score_name] = rank_score(_tmp_score).round(2)"
      ],
      "metadata": {
        "id": "EmWlIcNzB0v2"
      },
      "execution_count": 32,
      "outputs": []
    },
    {
      "cell_type": "code",
      "source": [
        "plot_score(df_geo_master, score_name, _tmp_score)"
      ],
      "metadata": {
        "id": "QO8Y8wQ3DKL4",
        "outputId": "dc22b223-c717-4513-b790-751700e00e31",
        "colab": {
          "base_uri": "https://localhost:8080/",
          "height": 681
        }
      },
      "execution_count": 33,
      "outputs": [
        {
          "output_type": "display_data",
          "data": {
            "text/plain": [
              "<Figure size 432x288 with 1 Axes>"
            ],
            "image/png": "[encoded data removed]"
          },
          "metadata": {
            "needs_background": "light"
          }
        },
        {
          "output_type": "display_data",
          "data": {
            "text/plain": [
              "<Figure size 432x288 with 1 Axes>"
            ],
            "image/png": "[encoded data removed]"
          },
          "metadata": {
            "needs_background": "light"
          }
        },
        {
          "output_type": "stream",
          "name": "stdout",
          "text": [
            "count    3141.000000\n",
            "mean        2.499952\n",
            "std         1.444042\n",
            "min         0.000000\n",
            "25%         1.250000\n",
            "50%         2.500000\n",
            "75%         3.750000\n",
            "max         5.000000\n",
            "Name: 利便性スコア, dtype: float64\n"
          ]
        }
      ]
    },
    {
      "cell_type": "code",
      "source": [
        "df_geo_master['最寄駅(距離)'] = df_geo_master['最寄駅(距離)'].round(3)"
      ],
      "metadata": {
        "id": "Pc9KoSAy_Pht"
      },
      "execution_count": 34,
      "outputs": []
    },
    {
      "cell_type": "code",
      "source": [
        "df_geo_master.head()"
      ],
      "metadata": {
        "id": "iJUTMLnxt6Jo",
        "outputId": "d40b8b7a-463c-4d8c-f03d-86ff03a9d50e",
        "colab": {
          "base_uri": "https://localhost:8080/",
          "height": 860
        }
      },
      "execution_count": 35,
      "outputs": [
        {
          "output_type": "execute_result",
          "data": {
            "text/plain": [
              "   town_id 市区町村名   町名     町丁目         緯度          経度  コンビニ(数)  スーパー(数)  \\\n",
              "0   101003  千代田区  丸の内  丸の内１丁目  35.681560  139.767201       72        3   \n",
              "1   101004  千代田区  丸の内  丸の内２丁目  35.680022  139.763447       54        1   \n",
              "2   101005  千代田区  丸の内  丸の内３丁目  35.676952  139.763476       46        1   \n",
              "3   101007  千代田区  大手町  大手町１丁目  35.688069  139.763929       37        1   \n",
              "4   101008  千代田区  大手町  大手町２丁目  35.686301  139.768087       45        3   \n",
              "\n",
              "   商店街(数)  銭湯(数)  カラオケ(数)  ネットカフェ(数)  クリーニング(数)  カフェ(数)  カフェ(チェーン店)(数)  \\\n",
              "0       0      0        2          0          0       8              4   \n",
              "1       0      0        0          0          0      11              5   \n",
              "2       0      1        2          0          0      14              5   \n",
              "3       0      1        0          0          1       8              8   \n",
              "4       0      0        0          0          2       7              7   \n",
              "\n",
              "   ファストフード(数)  レストラン(数)  レストラン(チェーン店)(数)  飲み屋(数)   最寄駅  最寄駅(距離)  平均所要(時間)  \\\n",
              "0           1        22                0      31   東京駅    0.037        16   \n",
              "1           2        23                0      36   東京駅    0.359        16   \n",
              "2           2        24                0      39  有楽町駅    0.219        20   \n",
              "3           1        18                0      30  大手町駅    0.308        20   \n",
              "4           1        18                0      25  大手町駅    0.447        20   \n",
              "\n",
              "   コンビニ(数)レベル  スーパー(数)レベル  商店街(数)レベル  銭湯(数)レベル  カラオケ(数)レベル  ネットカフェ(数)レベル  \\\n",
              "0        5.00        2.90        0.0      0.00        3.83           0.0   \n",
              "1        4.99        0.89        0.0      0.00        0.00           0.0   \n",
              "2        4.97        0.89        0.0      2.75        3.83           0.0   \n",
              "3        4.86        0.89        0.0      2.75        0.00           0.0   \n",
              "4        4.96        2.90        0.0      0.00        0.00           0.0   \n",
              "\n",
              "   クリーニング(数)レベル  カフェ(数)レベル  カフェ(チェーン店)(数)レベル  ファストフード(数)レベル  レストラン(数)レベル  \\\n",
              "0          0.00       3.16              4.52           2.71         4.58   \n",
              "1          0.00       3.92              4.72           4.10         4.68   \n",
              "2          0.00       4.50              4.72           4.10         4.76   \n",
              "3          2.52       3.16              4.97           2.71         3.63   \n",
              "4          3.75       2.86              4.92           2.71         3.63   \n",
              "\n",
              "   レストラン(チェーン店)(数)レベル  飲み屋(数)レベル  最寄駅(距離)レベル  平均所要(時間)レベル  買い物スコア  駅スコア  \\\n",
              "0                 0.0       4.35        4.99         5.00    3.58  5.00   \n",
              "1                 0.0       4.51        3.90         5.00    2.29  4.88   \n",
              "2                 0.0       4.61        4.66         4.65    2.29  4.92   \n",
              "3                 0.0       4.32        4.21         4.65    2.28  4.85   \n",
              "4                 0.0       4.05        3.42         4.65    3.54  4.66   \n",
              "\n",
              "   飲食店スコア  利便性スコア  \n",
              "0    4.49    4.77  \n",
              "1    4.77    4.42  \n",
              "2    4.84    4.46  \n",
              "3    4.29    4.18  \n",
              "4    4.18    4.57  "
            ],
            "text/html": [
              "\n",
              "  <div id=\"df-60dfff9c-6687-4f76-9403-b8402a5519b0\">\n",
              "    <div class=\"colab-df-container\">\n",
              "      <div>\n",
              "<style scoped>\n",
              "    .dataframe tbody tr th:only-of-type {\n",
              "        vertical-align: middle;\n",
              "    }\n",
              "\n",
              "    .dataframe tbody tr th {\n",
              "        vertical-align: top;\n",
              "    }\n",
              "\n",
              "    .dataframe thead th {\n",
              "        text-align: right;\n",
              "    }\n",
              "</style>\n",
              "<table border=\"1\" class=\"dataframe\">\n",
              "  <thead>\n",
              "    <tr style=\"text-align: right;\">\n",
              "      <th></th>\n",
              "      <th>town_id</th>\n",
              "      <th>市区町村名</th>\n",
              "      <th>町名</th>\n",
              "      <th>町丁目</th>\n",
              "      <th>緯度</th>\n",
              "      <th>経度</th>\n",
              "      <th>コンビニ(数)</th>\n",
              "      <th>スーパー(数)</th>\n",
              "      <th>商店街(数)</th>\n",
              "      <th>銭湯(数)</th>\n",
              "      <th>カラオケ(数)</th>\n",
              "      <th>ネットカフェ(数)</th>\n",
              "      <th>クリーニング(数)</th>\n",
              "      <th>カフェ(数)</th>\n",
              "      <th>カフェ(チェーン店)(数)</th>\n",
              "      <th>ファストフード(数)</th>\n",
              "      <th>レストラン(数)</th>\n",
              "      <th>レストラン(チェーン店)(数)</th>\n",
              "      <th>飲み屋(数)</th>\n",
              "      <th>最寄駅</th>\n",
              "      <th>最寄駅(距離)</th>\n",
              "      <th>平均所要(時間)</th>\n",
              "      <th>コンビニ(数)レベル</th>\n",
              "      <th>スーパー(数)レベル</th>\n",
              "      <th>商店街(数)レベル</th>\n",
              "      <th>銭湯(数)レベル</th>\n",
              "      <th>カラオケ(数)レベル</th>\n",
              "      <th>ネットカフェ(数)レベル</th>\n",
              "      <th>クリーニング(数)レベル</th>\n",
              "      <th>カフェ(数)レベル</th>\n",
              "      <th>カフェ(チェーン店)(数)レベル</th>\n",
              "      <th>ファストフード(数)レベル</th>\n",
              "      <th>レストラン(数)レベル</th>\n",
              "      <th>レストラン(チェーン店)(数)レベル</th>\n",
              "      <th>飲み屋(数)レベル</th>\n",
              "      <th>最寄駅(距離)レベル</th>\n",
              "      <th>平均所要(時間)レベル</th>\n",
              "      <th>買い物スコア</th>\n",
              "      <th>駅スコア</th>\n",
              "      <th>飲食店スコア</th>\n",
              "      <th>利便性スコア</th>\n",
              "    </tr>\n",
              "  </thead>\n",
              "  <tbody>\n",
              "    <tr>\n",
              "      <th>0</th>\n",
              "      <td>101003</td>\n",
              "      <td>千代田区</td>\n",
              "      <td>丸の内</td>\n",
              "      <td>丸の内１丁目</td>\n",
              "      <td>35.681560</td>\n",
              "      <td>139.767201</td>\n",
              "      <td>72</td>\n",
              "      <td>3</td>\n",
              "      <td>0</td>\n",
              "      <td>0</td>\n",
              "      <td>2</td>\n",
              "      <td>0</td>\n",
              "      <td>0</td>\n",
              "      <td>8</td>\n",
              "      <td>4</td>\n",
              "      <td>1</td>\n",
              "      <td>22</td>\n",
              "      <td>0</td>\n",
              "      <td>31</td>\n",
              "      <td>東京駅</td>\n",
              "      <td>0.037</td>\n",
              "      <td>16</td>\n",
              "      <td>5.00</td>\n",
              "      <td>2.90</td>\n",
              "      <td>0.0</td>\n",
              "      <td>0.00</td>\n",
              "      <td>3.83</td>\n",
              "      <td>0.0</td>\n",
              "      <td>0.00</td>\n",
              "      <td>3.16</td>\n",
              "      <td>4.52</td>\n",
              "      <td>2.71</td>\n",
              "      <td>4.58</td>\n",
              "      <td>0.0</td>\n",
              "      <td>4.35</td>\n",
              "      <td>4.99</td>\n",
              "      <td>5.00</td>\n",
              "      <td>3.58</td>\n",
              "      <td>5.00</td>\n",
              "      <td>4.49</td>\n",
              "      <td>4.77</td>\n",
              "    </tr>\n",
              "    <tr>\n",
              "      <th>1</th>\n",
              "      <td>101004</td>\n",
              "      <td>千代田区</td>\n",
              "      <td>丸の内</td>\n",
              "      <td>丸の内２丁目</td>\n",
              "      <td>35.680022</td>\n",
              "      <td>139.763447</td>\n",
              "      <td>54</td>\n",
              "      <td>1</td>\n",
              "      <td>0</td>\n",
              "      <td>0</td>\n",
              "      <td>0</td>\n",
              "      <td>0</td>\n",
              "      <td>0</td>\n",
              "      <td>11</td>\n",
              "      <td>5</td>\n",
              "      <td>2</td>\n",
              "      <td>23</td>\n",
              "      <td>0</td>\n",
              "      <td>36</td>\n",
              "      <td>東京駅</td>\n",
              "      <td>0.359</td>\n",
              "      <td>16</td>\n",
              "      <td>4.99</td>\n",
              "      <td>0.89</td>\n",
              "      <td>0.0</td>\n",
              "      <td>0.00</td>\n",
              "      <td>0.00</td>\n",
              "      <td>0.0</td>\n",
              "      <td>0.00</td>\n",
              "      <td>3.92</td>\n",
              "      <td>4.72</td>\n",
              "      <td>4.10</td>\n",
              "      <td>4.68</td>\n",
              "      <td>0.0</td>\n",
              "      <td>4.51</td>\n",
              "      <td>3.90</td>\n",
              "      <td>5.00</td>\n",
              "      <td>2.29</td>\n",
              "      <td>4.88</td>\n",
              "      <td>4.77</td>\n",
              "      <td>4.42</td>\n",
              "    </tr>\n",
              "    <tr>\n",
              "      <th>2</th>\n",
              "      <td>101005</td>\n",
              "      <td>千代田区</td>\n",
              "      <td>丸の内</td>\n",
              "      <td>丸の内３丁目</td>\n",
              "      <td>35.676952</td>\n",
              "      <td>139.763476</td>\n",
              "      <td>46</td>\n",
              "      <td>1</td>\n",
              "      <td>0</td>\n",
              "      <td>1</td>\n",
              "      <td>2</td>\n",
              "      <td>0</td>\n",
              "      <td>0</td>\n",
              "      <td>14</td>\n",
              "      <td>5</td>\n",
              "      <td>2</td>\n",
              "      <td>24</td>\n",
              "      <td>0</td>\n",
              "      <td>39</td>\n",
              "      <td>有楽町駅</td>\n",
              "      <td>0.219</td>\n",
              "      <td>20</td>\n",
              "      <td>4.97</td>\n",
              "      <td>0.89</td>\n",
              "      <td>0.0</td>\n",
              "      <td>2.75</td>\n",
              "      <td>3.83</td>\n",
              "      <td>0.0</td>\n",
              "      <td>0.00</td>\n",
              "      <td>4.50</td>\n",
              "      <td>4.72</td>\n",
              "      <td>4.10</td>\n",
              "      <td>4.76</td>\n",
              "      <td>0.0</td>\n",
              "      <td>4.61</td>\n",
              "      <td>4.66</td>\n",
              "      <td>4.65</td>\n",
              "      <td>2.29</td>\n",
              "      <td>4.92</td>\n",
              "      <td>4.84</td>\n",
              "      <td>4.46</td>\n",
              "    </tr>\n",
              "    <tr>\n",
              "      <th>3</th>\n",
              "      <td>101007</td>\n",
              "      <td>千代田区</td>\n",
              "      <td>大手町</td>\n",
              "      <td>大手町１丁目</td>\n",
              "      <td>35.688069</td>\n",
              "      <td>139.763929</td>\n",
              "      <td>37</td>\n",
              "      <td>1</td>\n",
              "      <td>0</td>\n",
              "      <td>1</td>\n",
              "      <td>0</td>\n",
              "      <td>0</td>\n",
              "      <td>1</td>\n",
              "      <td>8</td>\n",
              "      <td>8</td>\n",
              "      <td>1</td>\n",
              "      <td>18</td>\n",
              "      <td>0</td>\n",
              "      <td>30</td>\n",
              "      <td>大手町駅</td>\n",
              "      <td>0.308</td>\n",
              "      <td>20</td>\n",
              "      <td>4.86</td>\n",
              "      <td>0.89</td>\n",
              "      <td>0.0</td>\n",
              "      <td>2.75</td>\n",
              "      <td>0.00</td>\n",
              "      <td>0.0</td>\n",
              "      <td>2.52</td>\n",
              "      <td>3.16</td>\n",
              "      <td>4.97</td>\n",
              "      <td>2.71</td>\n",
              "      <td>3.63</td>\n",
              "      <td>0.0</td>\n",
              "      <td>4.32</td>\n",
              "      <td>4.21</td>\n",
              "      <td>4.65</td>\n",
              "      <td>2.28</td>\n",
              "      <td>4.85</td>\n",
              "      <td>4.29</td>\n",
              "      <td>4.18</td>\n",
              "    </tr>\n",
              "    <tr>\n",
              "      <th>4</th>\n",
              "      <td>101008</td>\n",
              "      <td>千代田区</td>\n",
              "      <td>大手町</td>\n",
              "      <td>大手町２丁目</td>\n",
              "      <td>35.686301</td>\n",
              "      <td>139.768087</td>\n",
              "      <td>45</td>\n",
              "      <td>3</td>\n",
              "      <td>0</td>\n",
              "      <td>0</td>\n",
              "      <td>0</td>\n",
              "      <td>0</td>\n",
              "      <td>2</td>\n",
              "      <td>7</td>\n",
              "      <td>7</td>\n",
              "      <td>1</td>\n",
              "      <td>18</td>\n",
              "      <td>0</td>\n",
              "      <td>25</td>\n",
              "      <td>大手町駅</td>\n",
              "      <td>0.447</td>\n",
              "      <td>20</td>\n",
              "      <td>4.96</td>\n",
              "      <td>2.90</td>\n",
              "      <td>0.0</td>\n",
              "      <td>0.00</td>\n",
              "      <td>0.00</td>\n",
              "      <td>0.0</td>\n",
              "      <td>3.75</td>\n",
              "      <td>2.86</td>\n",
              "      <td>4.92</td>\n",
              "      <td>2.71</td>\n",
              "      <td>3.63</td>\n",
              "      <td>0.0</td>\n",
              "      <td>4.05</td>\n",
              "      <td>3.42</td>\n",
              "      <td>4.65</td>\n",
              "      <td>3.54</td>\n",
              "      <td>4.66</td>\n",
              "      <td>4.18</td>\n",
              "      <td>4.57</td>\n",
              "    </tr>\n",
              "  </tbody>\n",
              "</table>\n",
              "</div>\n",
              "      <button class=\"colab-df-convert\" onclick=\"convertToInteractive('df-60dfff9c-6687-4f76-9403-b8402a5519b0')\"\n",
              "              title=\"Convert this dataframe to an interactive table.\"\n",
              "              style=\"display:none;\">\n",
              "        \n",
              "  <svg xmlns=\"http://www.w3.org/2000/svg\" height=\"24px\"viewBox=\"0 0 24 24\"\n",
              "       width=\"24px\">\n",
              "    <path d=\"M0 0h24v24H0V0z\" fill=\"none\"/>\n",
              "    <path d=\"M18.56 5.44l.94 2.06.94-2.06 2.06-.94-2.06-.94-.94-2.06-.94 2.06-2.06.94zm-11 1L8.5 8.5l.94-2.06 2.06-.94-2.06-.94L8.5 2.5l-.94 2.06-2.06.94zm10 10l.94 2.06.94-2.06 2.06-.94-2.06-.94-.94-2.06-.94 2.06-2.06.94z\"/><path d=\"M17.41 7.96l-1.37-1.37c-.4-.4-.92-.59-1.43-.59-.52 0-1.04.2-1.43.59L10.3 9.45l-7.72 7.72c-.78.78-.78 2.05 0 2.83L4 21.41c.39.39.9.59 1.41.59.51 0 1.02-.2 1.41-.59l7.78-7.78 2.81-2.81c.8-.78.8-2.07 0-2.86zM5.41 20L4 18.59l7.72-7.72 1.47 1.35L5.41 20z\"/>\n",
              "  </svg>\n",
              "      </button>\n",
              "      \n",
              "  <style>\n",
              "    .colab-df-container {\n",
              "      display:flex;\n",
              "      flex-wrap:wrap;\n",
              "      gap: 12px;\n",
              "    }\n",
              "\n",
              "    .colab-df-convert {\n",
              "      background-color: #E8F0FE;\n",
              "      border: none;\n",
              "      border-radius: 50%;\n",
              "      cursor: pointer;\n",
              "      display: none;\n",
              "      fill: #1967D2;\n",
              "      height: 32px;\n",
              "      padding: 0 0 0 0;\n",
              "      width: 32px;\n",
              "    }\n",
              "\n",
              "    .colab-df-convert:hover {\n",
              "      background-color: #E2EBFA;\n",
              "      box-shadow: 0px 1px 2px rgba(60, 64, 67, 0.3), 0px 1px 3px 1px rgba(60, 64, 67, 0.15);\n",
              "      fill: #174EA6;\n",
              "    }\n",
              "\n",
              "    [theme=dark] .colab-df-convert {\n",
              "      background-color: #3B4455;\n",
              "      fill: #D2E3FC;\n",
              "    }\n",
              "\n",
              "    [theme=dark] .colab-df-convert:hover {\n",
              "      background-color: #434B5C;\n",
              "      box-shadow: 0px 1px 3px 1px rgba(0, 0, 0, 0.15);\n",
              "      filter: drop-shadow(0px 1px 2px rgba(0, 0, 0, 0.3));\n",
              "      fill: #FFFFFF;\n",
              "    }\n",
              "  </style>\n",
              "\n",
              "      <script>\n",
              "        const buttonEl =\n",
              "          document.querySelector('#df-60dfff9c-6687-4f76-9403-b8402a5519b0 button.colab-df-convert');\n",
              "        buttonEl.style.display =\n",
              "          google.colab.kernel.accessAllowed ? 'block' : 'none';\n",
              "\n",
              "        async function convertToInteractive(key) {\n",
              "          const element = document.querySelector('#df-60dfff9c-6687-4f76-9403-b8402a5519b0');\n",
              "          const dataTable =\n",
              "            await google.colab.kernel.invokeFunction('convertToInteractive',\n",
              "                                                     [key], {});\n",
              "          if (!dataTable) return;\n",
              "\n",
              "          const docLinkHtml = 'Like what you see? Visit the ' +\n",
              "            '<a target=\"_blank\" href=https://colab.research.google.com/notebooks/data_table.ipynb>data table notebook</a>'\n",
              "            + ' to learn more about interactive tables.';\n",
              "          element.innerHTML = '';\n",
              "          dataTable['output_type'] = 'display_data';\n",
              "          await google.colab.output.renderOutput(dataTable, element);\n",
              "          const docLink = document.createElement('div');\n",
              "          docLink.innerHTML = docLinkHtml;\n",
              "          element.appendChild(docLink);\n",
              "        }\n",
              "      </script>\n",
              "    </div>\n",
              "  </div>\n",
              "  "
            ]
          },
          "metadata": {},
          "execution_count": 35
        }
      ]
    },
    {
      "cell_type": "code",
      "source": [
        "output_score_file = 'convenience_score.csv'"
      ],
      "metadata": {
        "id": "3D8OiBGRBsPy"
      },
      "execution_count": 36,
      "outputs": []
    },
    {
      "cell_type": "code",
      "source": [
        "df_geo_master[\n",
        "    ['town_id'] + feature_list + score_name_list\n",
        "].to_csv(os.path.join(DIR_NAME, output_score_file), index=False, encoding='utf-8_sig')"
      ],
      "metadata": {
        "id": "mGvdhIyy9-kN"
      },
      "execution_count": 37,
      "outputs": []
    },
    {
      "cell_type": "code",
      "source": [
        "for score in score_name_list:\n",
        "    plt.figure(figsize=(15, 5))\n",
        "    sns.barplot(x='市区町村名', y=score, data=df_geo_master)\n",
        "    plt.show()"
      ],
      "metadata": {
        "colab": {
          "base_uri": "https://localhost:8080/",
          "height": 1000
        },
        "id": "ufGDZQX3-lnp",
        "outputId": "9d38680c-7924-4185-b608-507f2b25b059"
      },
      "execution_count": 38,
      "outputs": [
        {
          "output_type": "display_data",
          "data": {
            "text/plain": [
              "<Figure size 1080x360 with 1 Axes>"
            ],
            "image/png": "[encoded data removed]"
          },
          "metadata": {
            "needs_background": "light"
          }
        },
        {
          "output_type": "display_data",
          "data": {
            "text/plain": [
              "<Figure size 1080x360 with 1 Axes>"
            ],
            "image/png": "[encoded data removed]"
          },
          "metadata": {
            "needs_background": "light"
          }
        },
        {
          "output_type": "display_data",
          "data": {
            "text/plain": [
              "<Figure size 1080x360 with 1 Axes>"
            ],
            "image/png": "[encoded data removed]"
          },
          "metadata": {
            "needs_background": "light"
          }
        },
        {
          "output_type": "display_data",
          "data": {
            "text/plain": [
              "<Figure size 1080x360 with 1 Axes>"
            ],
            "image/png": "[encoded data removed]"
          },
          "metadata": {
            "needs_background": "light"
          }
        }
      ]
    },
    {
      "cell_type": "code",
      "source": [
        "df_level = df_geo_master.copy()\n",
        "df_level['rank'] = df_level.groupby('町名')[score_name].transform('rank', ascending=False)\n",
        "df_level = df_level[df_level['rank'] == 1].sort_values(score_name, ascending=False)[\n",
        "    ['市区町村名', '町名', '町丁目', '最寄駅'] + feature_list + score_name_list\n",
        "].reset_index(drop=True)\n",
        "print(df_level.shape)"
      ],
      "metadata": {
        "colab": {
          "base_uri": "https://localhost:8080/"
        },
        "id": "PQcg6iA0-peB",
        "outputId": "c4b2c238-131d-4a2f-824f-9a0d077a2cf7"
      },
      "execution_count": 39,
      "outputs": [
        {
          "output_type": "stream",
          "name": "stdout",
          "text": [
            "(901, 23)\n"
          ]
        }
      ]
    },
    {
      "cell_type": "code",
      "source": [
        "df_level.head(20)"
      ],
      "metadata": {
        "colab": {
          "base_uri": "https://localhost:8080/",
          "height": 1000
        },
        "id": "wnuF1x9Z_mPS",
        "outputId": "bb2ccd9d-c926-47f5-928a-d24feb546f14"
      },
      "execution_count": 40,
      "outputs": [
        {
          "output_type": "execute_result",
          "data": {
            "text/plain": [
              "   市区町村名     町名       町丁目    最寄駅  コンビニ(数)  スーパー(数)  商店街(数)  銭湯(数)  カラオケ(数)  \\\n",
              "0    新宿区    揚場町       揚場町   飯田橋駅       31        5       2      2        7   \n",
              "1    新宿区   神楽河岸      神楽河岸   飯田橋駅       33        4       2      1        7   \n",
              "2    新宿区   下宮比町      下宮比町   飯田橋駅       29        4       1      1        7   \n",
              "3    新宿区    神楽坂    神楽坂３丁目   飯田橋駅       27        8       1      2        5   \n",
              "4    新宿区   津久戸町      津久戸町   飯田橋駅       26        7       1      2        5   \n",
              "5    新宿区    大久保    大久保１丁目  新大久保駅       30        8       1      2        8   \n",
              "6    台東区     上野     上野６丁目   御徒町駅       51       12       2      2       11   \n",
              "7    荒川区   西日暮里   西日暮里３丁目  西日暮里駅       19        8       2      2        3   \n",
              "8    新宿区   高田馬場   高田馬場１丁目  高田馬場駅       28        7       0      0        3   \n",
              "9    中野区     中野     中野４丁目    中野駅       24        5       1      0        1   \n",
              "10   墨田区     錦糸     錦糸３丁目   錦糸町駅       32       14       0      5        7   \n",
              "11  千代田区    飯田橋    飯田橋４丁目   飯田橋駅       31        5       1      0        5   \n",
              "12   新宿区    若宮町       若宮町   飯田橋駅       18        9       1      2        4   \n",
              "13   豊島区    東池袋    東池袋１丁目    池袋駅       49        6       2      0        6   \n",
              "14   板橋区   大山東町      大山東町    大山駅       13        6       1      1        1   \n",
              "15   墨田区    江東橋    江東橋３丁目   錦糸町駅       35       11       0      4        6   \n",
              "16   中央区  日本橋本町  日本橋本町３丁目  新日本橋駅       38        5       1      1        1   \n",
              "17    北区    中十条    中十条３丁目   東十条駅       13        6       2      2        2   \n",
              "18   品川区     大井     大井１丁目   大井町駅       27        6       0      3        3   \n",
              "19   豊島区    西池袋    西池袋１丁目    池袋駅       58       13       3      3       20   \n",
              "\n",
              "    ネットカフェ(数)  クリーニング(数)  カフェ(数)  カフェ(チェーン店)(数)  ファストフード(数)  レストラン(数)  \\\n",
              "0           2          3      14              7           0        27   \n",
              "1           2          1      14              7           0        17   \n",
              "2           2          1      17              6           0        28   \n",
              "3           1          3      14              7           0        27   \n",
              "4           1          3      18              2           0        26   \n",
              "5           3          1      12              2           2        20   \n",
              "6          10          3      12              7           1        19   \n",
              "7           0          1      25              3           0        20   \n",
              "8           1          4      19              5           2        20   \n",
              "9           0          0       7              4           1        23   \n",
              "10          3          2       9              5           1        20   \n",
              "11          2          0       6              7           0        14   \n",
              "12          1          1      10              5           0        19   \n",
              "13          7          0      18              4           2        11   \n",
              "14          0          1      16              3           2        18   \n",
              "15          3          2      12              5           1        20   \n",
              "16          0          2      12              5           1        17   \n",
              "17          0          2      17              4           2        27   \n",
              "18          0          3      18              3           2        29   \n",
              "19          7          0      12              4           0        16   \n",
              "\n",
              "    レストラン(チェーン店)(数)  飲み屋(数)  最寄駅(距離)  平均所要(時間)  買い物スコア  駅スコア  飲食店スコア  利便性スコア  \n",
              "0                 2      55    0.176        20    4.89  4.95    4.96    5.00  \n",
              "1                 2      52    0.184        20    4.80  4.94    4.85    5.00  \n",
              "2                 2      51    0.167        20    4.71  4.95    4.97    5.00  \n",
              "3                 2      59    0.373        20    4.92  4.77    4.96    5.00  \n",
              "4                 1      59    0.357        20    4.90  4.79    4.88    4.99  \n",
              "5                 0      44    0.489        18    4.93  4.73    4.64    4.99  \n",
              "6                 0      50    0.208        21    5.00  4.88    4.63    4.99  \n",
              "7                 0      58    0.247        21    4.98  4.85    4.38    4.98  \n",
              "8                 1      69    0.333        18    4.40  4.89    4.99    4.98  \n",
              "9                 1      42    0.389        24    4.79  4.47    4.90    4.97  \n",
              "10                1      38    0.190        27    4.49  4.65    4.90    4.97  \n",
              "11                2      19    0.202        20    4.81  4.94    4.34    4.97  \n",
              "12                2      50    0.573        20    4.90  4.42    4.84    4.97  \n",
              "13                0      60    0.507        18    4.97  4.69    4.39    4.97  \n",
              "14                1      35    0.265        29    4.79  4.29    4.95    4.96  \n",
              "15                1      60    0.237        27    4.49  4.58    4.95    4.96  \n",
              "16                0      27    0.127        24    4.83  4.83    4.34    4.96  \n",
              "17                0      26    0.275        29    4.87  4.27    4.84    4.96  \n",
              "18                0      65    0.250        22    4.32  4.80    4.86    4.96  \n",
              "19                0      63    0.155        18    5.00  4.99    3.91    4.95  "
            ],
            "text/html": [
              "\n",
              "  <div id=\"df-a6437a78-d95d-4a01-b5d3-da5d4bafdf65\">\n",
              "    <div class=\"colab-df-container\">\n",
              "      <div>\n",
              "<style scoped>\n",
              "    .dataframe tbody tr th:only-of-type {\n",
              "        vertical-align: middle;\n",
              "    }\n",
              "\n",
              "    .dataframe tbody tr th {\n",
              "        vertical-align: top;\n",
              "    }\n",
              "\n",
              "    .dataframe thead th {\n",
              "        text-align: right;\n",
              "    }\n",
              "</style>\n",
              "<table border=\"1\" class=\"dataframe\">\n",
              "  <thead>\n",
              "    <tr style=\"text-align: right;\">\n",
              "      <th></th>\n",
              "      <th>市区町村名</th>\n",
              "      <th>町名</th>\n",
              "      <th>町丁目</th>\n",
              "      <th>最寄駅</th>\n",
              "      <th>コンビニ(数)</th>\n",
              "      <th>スーパー(数)</th>\n",
              "      <th>商店街(数)</th>\n",
              "      <th>銭湯(数)</th>\n",
              "      <th>カラオケ(数)</th>\n",
              "      <th>ネットカフェ(数)</th>\n",
              "      <th>クリーニング(数)</th>\n",
              "      <th>カフェ(数)</th>\n",
              "      <th>カフェ(チェーン店)(数)</th>\n",
              "      <th>ファストフード(数)</th>\n",
              "      <th>レストラン(数)</th>\n",
              "      <th>レストラン(チェーン店)(数)</th>\n",
              "      <th>飲み屋(数)</th>\n",
              "      <th>最寄駅(距離)</th>\n",
              "      <th>平均所要(時間)</th>\n",
              "      <th>買い物スコア</th>\n",
              "      <th>駅スコア</th>\n",
              "      <th>飲食店スコア</th>\n",
              "      <th>利便性スコア</th>\n",
              "    </tr>\n",
              "  </thead>\n",
              "  <tbody>\n",
              "    <tr>\n",
              "      <th>0</th>\n",
              "      <td>新宿区</td>\n",
              "      <td>揚場町</td>\n",
              "      <td>揚場町</td>\n",
              "      <td>飯田橋駅</td>\n",
              "      <td>31</td>\n",
              "      <td>5</td>\n",
              "      <td>2</td>\n",
              "      <td>2</td>\n",
              "      <td>7</td>\n",
              "      <td>2</td>\n",
              "      <td>3</td>\n",
              "      <td>14</td>\n",
              "      <td>7</td>\n",
              "      <td>0</td>\n",
              "      <td>27</td>\n",
              "      <td>2</td>\n",
              "      <td>55</td>\n",
              "      <td>0.176</td>\n",
              "      <td>20</td>\n",
              "      <td>4.89</td>\n",
              "      <td>4.95</td>\n",
              "      <td>4.96</td>\n",
              "      <td>5.00</td>\n",
              "    </tr>\n",
              "    <tr>\n",
              "      <th>1</th>\n",
              "      <td>新宿区</td>\n",
              "      <td>神楽河岸</td>\n",
              "      <td>神楽河岸</td>\n",
              "      <td>飯田橋駅</td>\n",
              "      <td>33</td>\n",
              "      <td>4</td>\n",
              "      <td>2</td>\n",
              "      <td>1</td>\n",
              "      <td>7</td>\n",
              "      <td>2</td>\n",
              "      <td>1</td>\n",
              "      <td>14</td>\n",
              "      <td>7</td>\n",
              "      <td>0</td>\n",
              "      <td>17</td>\n",
              "      <td>2</td>\n",
              "      <td>52</td>\n",
              "      <td>0.184</td>\n",
              "      <td>20</td>\n",
              "      <td>4.80</td>\n",
              "      <td>4.94</td>\n",
              "      <td>4.85</td>\n",
              "      <td>5.00</td>\n",
              "    </tr>\n",
              "    <tr>\n",
              "      <th>2</th>\n",
              "      <td>新宿区</td>\n",
              "      <td>下宮比町</td>\n",
              "      <td>下宮比町</td>\n",
              "      <td>飯田橋駅</td>\n",
              "      <td>29</td>\n",
              "      <td>4</td>\n",
              "      <td>1</td>\n",
              "      <td>1</td>\n",
              "      <td>7</td>\n",
              "      <td>2</td>\n",
              "      <td>1</td>\n",
              "      <td>17</td>\n",
              "      <td>6</td>\n",
              "      <td>0</td>\n",
              "      <td>28</td>\n",
              "      <td>2</td>\n",
              "      <td>51</td>\n",
              "      <td>0.167</td>\n",
              "      <td>20</td>\n",
              "      <td>4.71</td>\n",
              "      <td>4.95</td>\n",
              "      <td>4.97</td>\n",
              "      <td>5.00</td>\n",
              "    </tr>\n",
              "    <tr>\n",
              "      <th>3</th>\n",
              "      <td>新宿区</td>\n",
              "      <td>神楽坂</td>\n",
              "      <td>神楽坂３丁目</td>\n",
              "      <td>飯田橋駅</td>\n",
              "      <td>27</td>\n",
              "      <td>8</td>\n",
              "      <td>1</td>\n",
              "      <td>2</td>\n",
              "      <td>5</td>\n",
              "      <td>1</td>\n",
              "      <td>3</td>\n",
              "      <td>14</td>\n",
              "      <td>7</td>\n",
              "      <td>0</td>\n",
              "      <td>27</td>\n",
              "      <td>2</td>\n",
              "      <td>59</td>\n",
              "      <td>0.373</td>\n",
              "      <td>20</td>\n",
              "      <td>4.92</td>\n",
              "      <td>4.77</td>\n",
              "      <td>4.96</td>\n",
              "      <td>5.00</td>\n",
              "    </tr>\n",
              "    <tr>\n",
              "      <th>4</th>\n",
              "      <td>新宿区</td>\n",
              "      <td>津久戸町</td>\n",
              "      <td>津久戸町</td>\n",
              "      <td>飯田橋駅</td>\n",
              "      <td>26</td>\n",
              "      <td>7</td>\n",
              "      <td>1</td>\n",
              "      <td>2</td>\n",
              "      <td>5</td>\n",
              "      <td>1</td>\n",
              "      <td>3</td>\n",
              "      <td>18</td>\n",
              "      <td>2</td>\n",
              "      <td>0</td>\n",
              "      <td>26</td>\n",
              "      <td>1</td>\n",
              "      <td>59</td>\n",
              "      <td>0.357</td>\n",
              "      <td>20</td>\n",
              "      <td>4.90</td>\n",
              "      <td>4.79</td>\n",
              "      <td>4.88</td>\n",
              "      <td>4.99</td>\n",
              "    </tr>\n",
              "    <tr>\n",
              "      <th>5</th>\n",
              "      <td>新宿区</td>\n",
              "      <td>大久保</td>\n",
              "      <td>大久保１丁目</td>\n",
              "      <td>新大久保駅</td>\n",
              "      <td>30</td>\n",
              "      <td>8</td>\n",
              "      <td>1</td>\n",
              "      <td>2</td>\n",
              "      <td>8</td>\n",
              "      <td>3</td>\n",
              "      <td>1</td>\n",
              "      <td>12</td>\n",
              "      <td>2</td>\n",
              "      <td>2</td>\n",
              "      <td>20</td>\n",
              "      <td>0</td>\n",
              "      <td>44</td>\n",
              "      <td>0.489</td>\n",
              "      <td>18</td>\n",
              "      <td>4.93</td>\n",
              "      <td>4.73</td>\n",
              "      <td>4.64</td>\n",
              "      <td>4.99</td>\n",
              "    </tr>\n",
              "    <tr>\n",
              "      <th>6</th>\n",
              "      <td>台東区</td>\n",
              "      <td>上野</td>\n",
              "      <td>上野６丁目</td>\n",
              "      <td>御徒町駅</td>\n",
              "      <td>51</td>\n",
              "      <td>12</td>\n",
              "      <td>2</td>\n",
              "      <td>2</td>\n",
              "      <td>11</td>\n",
              "      <td>10</td>\n",
              "      <td>3</td>\n",
              "      <td>12</td>\n",
              "      <td>7</td>\n",
              "      <td>1</td>\n",
              "      <td>19</td>\n",
              "      <td>0</td>\n",
              "      <td>50</td>\n",
              "      <td>0.208</td>\n",
              "      <td>21</td>\n",
              "      <td>5.00</td>\n",
              "      <td>4.88</td>\n",
              "      <td>4.63</td>\n",
              "      <td>4.99</td>\n",
              "    </tr>\n",
              "    <tr>\n",
              "      <th>7</th>\n",
              "      <td>荒川区</td>\n",
              "      <td>西日暮里</td>\n",
              "      <td>西日暮里３丁目</td>\n",
              "      <td>西日暮里駅</td>\n",
              "      <td>19</td>\n",
              "      <td>8</td>\n",
              "      <td>2</td>\n",
              "      <td>2</td>\n",
              "      <td>3</td>\n",
              "      <td>0</td>\n",
              "      <td>1</td>\n",
              "      <td>25</td>\n",
              "      <td>3</td>\n",
              "      <td>0</td>\n",
              "      <td>20</td>\n",
              "      <td>0</td>\n",
              "      <td>58</td>\n",
              "      <td>0.247</td>\n",
              "      <td>21</td>\n",
              "      <td>4.98</td>\n",
              "      <td>4.85</td>\n",
              "      <td>4.38</td>\n",
              "      <td>4.98</td>\n",
              "    </tr>\n",
              "    <tr>\n",
              "      <th>8</th>\n",
              "      <td>新宿区</td>\n",
              "      <td>高田馬場</td>\n",
              "      <td>高田馬場１丁目</td>\n",
              "      <td>高田馬場駅</td>\n",
              "      <td>28</td>\n",
              "      <td>7</td>\n",
              "      <td>0</td>\n",
              "      <td>0</td>\n",
              "      <td>3</td>\n",
              "      <td>1</td>\n",
              "      <td>4</td>\n",
              "      <td>19</td>\n",
              "      <td>5</td>\n",
              "      <td>2</td>\n",
              "      <td>20</td>\n",
              "      <td>1</td>\n",
              "      <td>69</td>\n",
              "      <td>0.333</td>\n",
              "      <td>18</td>\n",
              "      <td>4.40</td>\n",
              "      <td>4.89</td>\n",
              "      <td>4.99</td>\n",
              "      <td>4.98</td>\n",
              "    </tr>\n",
              "    <tr>\n",
              "      <th>9</th>\n",
              "      <td>中野区</td>\n",
              "      <td>中野</td>\n",
              "      <td>中野４丁目</td>\n",
              "      <td>中野駅</td>\n",
              "      <td>24</td>\n",
              "      <td>5</td>\n",
              "      <td>1</td>\n",
              "      <td>0</td>\n",
              "      <td>1</td>\n",
              "      <td>0</td>\n",
              "      <td>0</td>\n",
              "      <td>7</td>\n",
              "      <td>4</td>\n",
              "      <td>1</td>\n",
              "      <td>23</td>\n",
              "      <td>1</td>\n",
              "      <td>42</td>\n",
              "      <td>0.389</td>\n",
              "      <td>24</td>\n",
              "      <td>4.79</td>\n",
              "      <td>4.47</td>\n",
              "      <td>4.90</td>\n",
              "      <td>4.97</td>\n",
              "    </tr>\n",
              "    <tr>\n",
              "      <th>10</th>\n",
              "      <td>墨田区</td>\n",
              "      <td>錦糸</td>\n",
              "      <td>錦糸３丁目</td>\n",
              "      <td>錦糸町駅</td>\n",
              "      <td>32</td>\n",
              "      <td>14</td>\n",
              "      <td>0</td>\n",
              "      <td>5</td>\n",
              "      <td>7</td>\n",
              "      <td>3</td>\n",
              "      <td>2</td>\n",
              "      <td>9</td>\n",
              "      <td>5</td>\n",
              "      <td>1</td>\n",
              "      <td>20</td>\n",
              "      <td>1</td>\n",
              "      <td>38</td>\n",
              "      <td>0.190</td>\n",
              "      <td>27</td>\n",
              "      <td>4.49</td>\n",
              "      <td>4.65</td>\n",
              "      <td>4.90</td>\n",
              "      <td>4.97</td>\n",
              "    </tr>\n",
              "    <tr>\n",
              "      <th>11</th>\n",
              "      <td>千代田区</td>\n",
              "      <td>飯田橋</td>\n",
              "      <td>飯田橋４丁目</td>\n",
              "      <td>飯田橋駅</td>\n",
              "      <td>31</td>\n",
              "      <td>5</td>\n",
              "      <td>1</td>\n",
              "      <td>0</td>\n",
              "      <td>5</td>\n",
              "      <td>2</td>\n",
              "      <td>0</td>\n",
              "      <td>6</td>\n",
              "      <td>7</td>\n",
              "      <td>0</td>\n",
              "      <td>14</td>\n",
              "      <td>2</td>\n",
              "      <td>19</td>\n",
              "      <td>0.202</td>\n",
              "      <td>20</td>\n",
              "      <td>4.81</td>\n",
              "      <td>4.94</td>\n",
              "      <td>4.34</td>\n",
              "      <td>4.97</td>\n",
              "    </tr>\n",
              "    <tr>\n",
              "      <th>12</th>\n",
              "      <td>新宿区</td>\n",
              "      <td>若宮町</td>\n",
              "      <td>若宮町</td>\n",
              "      <td>飯田橋駅</td>\n",
              "      <td>18</td>\n",
              "      <td>9</td>\n",
              "      <td>1</td>\n",
              "      <td>2</td>\n",
              "      <td>4</td>\n",
              "      <td>1</td>\n",
              "      <td>1</td>\n",
              "      <td>10</td>\n",
              "      <td>5</td>\n",
              "      <td>0</td>\n",
              "      <td>19</td>\n",
              "      <td>2</td>\n",
              "      <td>50</td>\n",
              "      <td>0.573</td>\n",
              "      <td>20</td>\n",
              "      <td>4.90</td>\n",
              "      <td>4.42</td>\n",
              "      <td>4.84</td>\n",
              "      <td>4.97</td>\n",
              "    </tr>\n",
              "    <tr>\n",
              "      <th>13</th>\n",
              "      <td>豊島区</td>\n",
              "      <td>東池袋</td>\n",
              "      <td>東池袋１丁目</td>\n",
              "      <td>池袋駅</td>\n",
              "      <td>49</td>\n",
              "      <td>6</td>\n",
              "      <td>2</td>\n",
              "      <td>0</td>\n",
              "      <td>6</td>\n",
              "      <td>7</td>\n",
              "      <td>0</td>\n",
              "      <td>18</td>\n",
              "      <td>4</td>\n",
              "      <td>2</td>\n",
              "      <td>11</td>\n",
              "      <td>0</td>\n",
              "      <td>60</td>\n",
              "      <td>0.507</td>\n",
              "      <td>18</td>\n",
              "      <td>4.97</td>\n",
              "      <td>4.69</td>\n",
              "      <td>4.39</td>\n",
              "      <td>4.97</td>\n",
              "    </tr>\n",
              "    <tr>\n",
              "      <th>14</th>\n",
              "      <td>板橋区</td>\n",
              "      <td>大山東町</td>\n",
              "      <td>大山東町</td>\n",
              "      <td>大山駅</td>\n",
              "      <td>13</td>\n",
              "      <td>6</td>\n",
              "      <td>1</td>\n",
              "      <td>1</td>\n",
              "      <td>1</td>\n",
              "      <td>0</td>\n",
              "      <td>1</td>\n",
              "      <td>16</td>\n",
              "      <td>3</td>\n",
              "      <td>2</td>\n",
              "      <td>18</td>\n",
              "      <td>1</td>\n",
              "      <td>35</td>\n",
              "      <td>0.265</td>\n",
              "      <td>29</td>\n",
              "      <td>4.79</td>\n",
              "      <td>4.29</td>\n",
              "      <td>4.95</td>\n",
              "      <td>4.96</td>\n",
              "    </tr>\n",
              "    <tr>\n",
              "      <th>15</th>\n",
              "      <td>墨田区</td>\n",
              "      <td>江東橋</td>\n",
              "      <td>江東橋３丁目</td>\n",
              "      <td>錦糸町駅</td>\n",
              "      <td>35</td>\n",
              "      <td>11</td>\n",
              "      <td>0</td>\n",
              "      <td>4</td>\n",
              "      <td>6</td>\n",
              "      <td>3</td>\n",
              "      <td>2</td>\n",
              "      <td>12</td>\n",
              "      <td>5</td>\n",
              "      <td>1</td>\n",
              "      <td>20</td>\n",
              "      <td>1</td>\n",
              "      <td>60</td>\n",
              "      <td>0.237</td>\n",
              "      <td>27</td>\n",
              "      <td>4.49</td>\n",
              "      <td>4.58</td>\n",
              "      <td>4.95</td>\n",
              "      <td>4.96</td>\n",
              "    </tr>\n",
              "    <tr>\n",
              "      <th>16</th>\n",
              "      <td>中央区</td>\n",
              "      <td>日本橋本町</td>\n",
              "      <td>日本橋本町３丁目</td>\n",
              "      <td>新日本橋駅</td>\n",
              "      <td>38</td>\n",
              "      <td>5</td>\n",
              "      <td>1</td>\n",
              "      <td>1</td>\n",
              "      <td>1</td>\n",
              "      <td>0</td>\n",
              "      <td>2</td>\n",
              "      <td>12</td>\n",
              "      <td>5</td>\n",
              "      <td>1</td>\n",
              "      <td>17</td>\n",
              "      <td>0</td>\n",
              "      <td>27</td>\n",
              "      <td>0.127</td>\n",
              "      <td>24</td>\n",
              "      <td>4.83</td>\n",
              "      <td>4.83</td>\n",
              "      <td>4.34</td>\n",
              "      <td>4.96</td>\n",
              "    </tr>\n",
              "    <tr>\n",
              "      <th>17</th>\n",
              "      <td>北区</td>\n",
              "      <td>中十条</td>\n",
              "      <td>中十条３丁目</td>\n",
              "      <td>東十条駅</td>\n",
              "      <td>13</td>\n",
              "      <td>6</td>\n",
              "      <td>2</td>\n",
              "      <td>2</td>\n",
              "      <td>2</td>\n",
              "      <td>0</td>\n",
              "      <td>2</td>\n",
              "      <td>17</td>\n",
              "      <td>4</td>\n",
              "      <td>2</td>\n",
              "      <td>27</td>\n",
              "      <td>0</td>\n",
              "      <td>26</td>\n",
              "      <td>0.275</td>\n",
              "      <td>29</td>\n",
              "      <td>4.87</td>\n",
              "      <td>4.27</td>\n",
              "      <td>4.84</td>\n",
              "      <td>4.96</td>\n",
              "    </tr>\n",
              "    <tr>\n",
              "      <th>18</th>\n",
              "      <td>品川区</td>\n",
              "      <td>大井</td>\n",
              "      <td>大井１丁目</td>\n",
              "      <td>大井町駅</td>\n",
              "      <td>27</td>\n",
              "      <td>6</td>\n",
              "      <td>0</td>\n",
              "      <td>3</td>\n",
              "      <td>3</td>\n",
              "      <td>0</td>\n",
              "      <td>3</td>\n",
              "      <td>18</td>\n",
              "      <td>3</td>\n",
              "      <td>2</td>\n",
              "      <td>29</td>\n",
              "      <td>0</td>\n",
              "      <td>65</td>\n",
              "      <td>0.250</td>\n",
              "      <td>22</td>\n",
              "      <td>4.32</td>\n",
              "      <td>4.80</td>\n",
              "      <td>4.86</td>\n",
              "      <td>4.96</td>\n",
              "    </tr>\n",
              "    <tr>\n",
              "      <th>19</th>\n",
              "      <td>豊島区</td>\n",
              "      <td>西池袋</td>\n",
              "      <td>西池袋１丁目</td>\n",
              "      <td>池袋駅</td>\n",
              "      <td>58</td>\n",
              "      <td>13</td>\n",
              "      <td>3</td>\n",
              "      <td>3</td>\n",
              "      <td>20</td>\n",
              "      <td>7</td>\n",
              "      <td>0</td>\n",
              "      <td>12</td>\n",
              "      <td>4</td>\n",
              "      <td>0</td>\n",
              "      <td>16</td>\n",
              "      <td>0</td>\n",
              "      <td>63</td>\n",
              "      <td>0.155</td>\n",
              "      <td>18</td>\n",
              "      <td>5.00</td>\n",
              "      <td>4.99</td>\n",
              "      <td>3.91</td>\n",
              "      <td>4.95</td>\n",
              "    </tr>\n",
              "  </tbody>\n",
              "</table>\n",
              "</div>\n",
              "      <button class=\"colab-df-convert\" onclick=\"convertToInteractive('df-a6437a78-d95d-4a01-b5d3-da5d4bafdf65')\"\n",
              "              title=\"Convert this dataframe to an interactive table.\"\n",
              "              style=\"display:none;\">\n",
              "        \n",
              "  <svg xmlns=\"http://www.w3.org/2000/svg\" height=\"24px\"viewBox=\"0 0 24 24\"\n",
              "       width=\"24px\">\n",
              "    <path d=\"M0 0h24v24H0V0z\" fill=\"none\"/>\n",
              "    <path d=\"M18.56 5.44l.94 2.06.94-2.06 2.06-.94-2.06-.94-.94-2.06-.94 2.06-2.06.94zm-11 1L8.5 8.5l.94-2.06 2.06-.94-2.06-.94L8.5 2.5l-.94 2.06-2.06.94zm10 10l.94 2.06.94-2.06 2.06-.94-2.06-.94-.94-2.06-.94 2.06-2.06.94z\"/><path d=\"M17.41 7.96l-1.37-1.37c-.4-.4-.92-.59-1.43-.59-.52 0-1.04.2-1.43.59L10.3 9.45l-7.72 7.72c-.78.78-.78 2.05 0 2.83L4 21.41c.39.39.9.59 1.41.59.51 0 1.02-.2 1.41-.59l7.78-7.78 2.81-2.81c.8-.78.8-2.07 0-2.86zM5.41 20L4 18.59l7.72-7.72 1.47 1.35L5.41 20z\"/>\n",
              "  </svg>\n",
              "      </button>\n",
              "      \n",
              "  <style>\n",
              "    .colab-df-container {\n",
              "      display:flex;\n",
              "      flex-wrap:wrap;\n",
              "      gap: 12px;\n",
              "    }\n",
              "\n",
              "    .colab-df-convert {\n",
              "      background-color: #E8F0FE;\n",
              "      border: none;\n",
              "      border-radius: 50%;\n",
              "      cursor: pointer;\n",
              "      display: none;\n",
              "      fill: #1967D2;\n",
              "      height: 32px;\n",
              "      padding: 0 0 0 0;\n",
              "      width: 32px;\n",
              "    }\n",
              "\n",
              "    .colab-df-convert:hover {\n",
              "      background-color: #E2EBFA;\n",
              "      box-shadow: 0px 1px 2px rgba(60, 64, 67, 0.3), 0px 1px 3px 1px rgba(60, 64, 67, 0.15);\n",
              "      fill: #174EA6;\n",
              "    }\n",
              "\n",
              "    [theme=dark] .colab-df-convert {\n",
              "      background-color: #3B4455;\n",
              "      fill: #D2E3FC;\n",
              "    }\n",
              "\n",
              "    [theme=dark] .colab-df-convert:hover {\n",
              "      background-color: #434B5C;\n",
              "      box-shadow: 0px 1px 3px 1px rgba(0, 0, 0, 0.15);\n",
              "      filter: drop-shadow(0px 1px 2px rgba(0, 0, 0, 0.3));\n",
              "      fill: #FFFFFF;\n",
              "    }\n",
              "  </style>\n",
              "\n",
              "      <script>\n",
              "        const buttonEl =\n",
              "          document.querySelector('#df-a6437a78-d95d-4a01-b5d3-da5d4bafdf65 button.colab-df-convert');\n",
              "        buttonEl.style.display =\n",
              "          google.colab.kernel.accessAllowed ? 'block' : 'none';\n",
              "\n",
              "        async function convertToInteractive(key) {\n",
              "          const element = document.querySelector('#df-a6437a78-d95d-4a01-b5d3-da5d4bafdf65');\n",
              "          const dataTable =\n",
              "            await google.colab.kernel.invokeFunction('convertToInteractive',\n",
              "                                                     [key], {});\n",
              "          if (!dataTable) return;\n",
              "\n",
              "          const docLinkHtml = 'Like what you see? Visit the ' +\n",
              "            '<a target=\"_blank\" href=https://colab.research.google.com/notebooks/data_table.ipynb>data table notebook</a>'\n",
              "            + ' to learn more about interactive tables.';\n",
              "          element.innerHTML = '';\n",
              "          dataTable['output_type'] = 'display_data';\n",
              "          await google.colab.output.renderOutput(dataTable, element);\n",
              "          const docLink = document.createElement('div');\n",
              "          docLink.innerHTML = docLinkHtml;\n",
              "          element.appendChild(docLink);\n",
              "        }\n",
              "      </script>\n",
              "    </div>\n",
              "  </div>\n",
              "  "
            ]
          },
          "metadata": {},
          "execution_count": 40
        }
      ]
    },
    {
      "cell_type": "code",
      "source": [
        "df_level.tail(20)"
      ],
      "metadata": {
        "colab": {
          "base_uri": "https://localhost:8080/",
          "height": 1000
        },
        "id": "YHYQi2qY_nIe",
        "outputId": "a82975bd-0076-459f-aec9-53f15587062e"
      },
      "execution_count": 41,
      "outputs": [
        {
          "output_type": "execute_result",
          "data": {
            "text/plain": [
              "    市区町村名      町名         町丁目                 最寄駅  コンビニ(数)  スーパー(数)  商店街(数)  \\\n",
              "881   葛飾区    水元公園        水元公園                 金町駅        1        0       0   \n",
              "882   練馬区    西大泉町        西大泉町                 保谷駅        1        1       0   \n",
              "883   足立区     古千谷      古千谷１丁目               舎人公園駅        1        0       0   \n",
              "884  江戸川区     東篠崎      東篠崎１丁目                本八幡駅        4        0       0   \n",
              "885   大田区  多摩川河川敷  多摩川河川敷（下流）                矢口渡駅        3        0       0   \n",
              "886  江戸川区    宇喜田町        宇喜田町             葛西臨海公園駅        5        1       0   \n",
              "887   足立区    舎人公園        舎人公園               舎人公園駅        2        0       0   \n",
              "888  世田谷区      玉堤       玉堤１丁目                尾山台駅        3        1       0   \n",
              "889   足立区      神明       神明２丁目                 六町駅        6        1       0   \n",
              "890   杉並区      大宮       大宮２丁目                西永福駅        0        0       0   \n",
              "891   足立区    北加平町        北加平町                 六町駅        2        1       0   \n",
              "892  世田谷区     宇奈根      宇奈根１丁目                 久地駅        2        1       0   \n",
              "893   板橋区     新河岸      新河岸２丁目               戸田公園駅        2        0       0   \n",
              "894  江戸川区     北篠崎      北篠崎１丁目                 市川駅        2        1       0   \n",
              "895  世田谷区     砧公園         砧公園                 用賀駅        0        0       0   \n",
              "896   練馬区     立野町         立野町                武蔵関駅        2        1       0   \n",
              "897  江戸川区     堀江町         堀江町  東京ディズニーランド・ステーション駅        2        1       0   \n",
              "898   葛飾区   金町浄水場       金町浄水場                 柴又駅        0        0       0   \n",
              "899   大田区     京浜島      京浜島１丁目                昭和島駅        0        0       0   \n",
              "900  江戸川区    東篠崎町        東篠崎町                本八幡駅        0        0       0   \n",
              "\n",
              "     銭湯(数)  カラオケ(数)  ネットカフェ(数)  クリーニング(数)  カフェ(数)  カフェ(チェーン店)(数)  ファストフード(数)  \\\n",
              "881      0        0          0          0       0              1           0   \n",
              "882      0        0          0          0       1              0           0   \n",
              "883      0        0          0          0       0              0           0   \n",
              "884      0        0          0          0       1              0           0   \n",
              "885      0        0          0          1       1              0           0   \n",
              "886      0        0          0          0       1              0           0   \n",
              "887      0        0          0          0       0              0           0   \n",
              "888      0        0          0          0       0              0           0   \n",
              "889      0        0          0          1       0              0           0   \n",
              "890      0        0          0          0       3              0           0   \n",
              "891      0        0          0          0       1              0           0   \n",
              "892      0        0          0          0       0              1           0   \n",
              "893      0        0          0          0       0              0           0   \n",
              "894      1        0          0          2       0              0           0   \n",
              "895      0        0          0          0       1              0           0   \n",
              "896      0        0          0          0       3              0           0   \n",
              "897      0        0          0          0       2              0           0   \n",
              "898      0        0          0          0       2              0           0   \n",
              "899      0        0          0          0       1              0           0   \n",
              "900      0        0          0          0       2              0           0   \n",
              "\n",
              "     レストラン(数)  レストラン(チェーン店)(数)  飲み屋(数)  最寄駅(距離)  平均所要(時間)  買い物スコア  駅スコア  \\\n",
              "881         6                1       0    2.035        42    0.08  0.25   \n",
              "882         4                2       2    1.675        48    0.55  0.05   \n",
              "883         4                0       0    0.299        45    0.08  1.74   \n",
              "884        20                0       1    2.710        43    0.39  0.14   \n",
              "885         1                0       1    0.703        39    0.28  1.43   \n",
              "886        12                0       0    3.546        43    1.13  0.10   \n",
              "887         4                0       0    0.375        45    0.17  1.48   \n",
              "888         0                0       0    1.346        38    0.84  0.87   \n",
              "889         8                0       0    1.580        47    1.25  0.08   \n",
              "890         3                0       0    0.692        40    0.00  1.30   \n",
              "891         2                0       0    0.620        47    0.68  0.76   \n",
              "892         6                0       1    1.561        48    0.68  0.06   \n",
              "893         1                0       0    1.915        34    0.17  1.18   \n",
              "894         5                0       0    1.418        40    0.68  0.54   \n",
              "895         4                0       0    1.318        36    0.00  1.16   \n",
              "896         5                0       2    1.339        48    0.68  0.09   \n",
              "897         0                0       1    0.951        54    0.68  0.25   \n",
              "898         2                0       0    0.698        54    0.00  0.51   \n",
              "899         0                0       0    0.789        46    0.00  0.53   \n",
              "900         6                0       0    3.027        43    0.00  0.12   \n",
              "\n",
              "     飲食店スコア  利便性スコア  \n",
              "881    1.67    0.33  \n",
              "882    1.37    0.32  \n",
              "883    0.14    0.32  \n",
              "884    1.38    0.30  \n",
              "885    0.15    0.29  \n",
              "886    0.58    0.27  \n",
              "887    0.14    0.27  \n",
              "888    0.00    0.25  \n",
              "889    0.28    0.22  \n",
              "890    0.28    0.21  \n",
              "891    0.11    0.20  \n",
              "892    0.76    0.19  \n",
              "893    0.04    0.16  \n",
              "894    0.17    0.16  \n",
              "895    0.19    0.14  \n",
              "896    0.54    0.13  \n",
              "897    0.18    0.10  \n",
              "898    0.18    0.06  \n",
              "899    0.08    0.05  \n",
              "900    0.33    0.03  "
            ],
            "text/html": [
              "\n",
              "  <div id=\"df-30942a1d-8238-4329-9879-73d83c02e59b\">\n",
              "    <div class=\"colab-df-container\">\n",
              "      <div>\n",
              "<style scoped>\n",
              "    .dataframe tbody tr th:only-of-type {\n",
              "        vertical-align: middle;\n",
              "    }\n",
              "\n",
              "    .dataframe tbody tr th {\n",
              "        vertical-align: top;\n",
              "    }\n",
              "\n",
              "    .dataframe thead th {\n",
              "        text-align: right;\n",
              "    }\n",
              "</style>\n",
              "<table border=\"1\" class=\"dataframe\">\n",
              "  <thead>\n",
              "    <tr style=\"text-align: right;\">\n",
              "      <th></th>\n",
              "      <th>市区町村名</th>\n",
              "      <th>町名</th>\n",
              "      <th>町丁目</th>\n",
              "      <th>最寄駅</th>\n",
              "      <th>コンビニ(数)</th>\n",
              "      <th>スーパー(数)</th>\n",
              "      <th>商店街(数)</th>\n",
              "      <th>銭湯(数)</th>\n",
              "      <th>カラオケ(数)</th>\n",
              "      <th>ネットカフェ(数)</th>\n",
              "      <th>クリーニング(数)</th>\n",
              "      <th>カフェ(数)</th>\n",
              "      <th>カフェ(チェーン店)(数)</th>\n",
              "      <th>ファストフード(数)</th>\n",
              "      <th>レストラン(数)</th>\n",
              "      <th>レストラン(チェーン店)(数)</th>\n",
              "      <th>飲み屋(数)</th>\n",
              "      <th>最寄駅(距離)</th>\n",
              "      <th>平均所要(時間)</th>\n",
              "      <th>買い物スコア</th>\n",
              "      <th>駅スコア</th>\n",
              "      <th>飲食店スコア</th>\n",
              "      <th>利便性スコア</th>\n",
              "    </tr>\n",
              "  </thead>\n",
              "  <tbody>\n",
              "    <tr>\n",
              "      <th>881</th>\n",
              "      <td>葛飾区</td>\n",
              "      <td>水元公園</td>\n",
              "      <td>水元公園</td>\n",
              "      <td>金町駅</td>\n",
              "      <td>1</td>\n",
              "      <td>0</td>\n",
              "      <td>0</td>\n",
              "      <td>0</td>\n",
              "      <td>0</td>\n",
              "      <td>0</td>\n",
              "      <td>0</td>\n",
              "      <td>0</td>\n",
              "      <td>1</td>\n",
              "      <td>0</td>\n",
              "      <td>6</td>\n",
              "      <td>1</td>\n",
              "      <td>0</td>\n",
              "      <td>2.035</td>\n",
              "      <td>42</td>\n",
              "      <td>0.08</td>\n",
              "      <td>0.25</td>\n",
              "      <td>1.67</td>\n",
              "      <td>0.33</td>\n",
              "    </tr>\n",
              "    <tr>\n",
              "      <th>882</th>\n",
              "      <td>練馬区</td>\n",
              "      <td>西大泉町</td>\n",
              "      <td>西大泉町</td>\n",
              "      <td>保谷駅</td>\n",
              "      <td>1</td>\n",
              "      <td>1</td>\n",
              "      <td>0</td>\n",
              "      <td>0</td>\n",
              "      <td>0</td>\n",
              "      <td>0</td>\n",
              "      <td>0</td>\n",
              "      <td>1</td>\n",
              "      <td>0</td>\n",
              "      <td>0</td>\n",
              "      <td>4</td>\n",
              "      <td>2</td>\n",
              "      <td>2</td>\n",
              "      <td>1.675</td>\n",
              "      <td>48</td>\n",
              "      <td>0.55</td>\n",
              "      <td>0.05</td>\n",
              "      <td>1.37</td>\n",
              "      <td>0.32</td>\n",
              "    </tr>\n",
              "    <tr>\n",
              "      <th>883</th>\n",
              "      <td>足立区</td>\n",
              "      <td>古千谷</td>\n",
              "      <td>古千谷１丁目</td>\n",
              "      <td>舎人公園駅</td>\n",
              "      <td>1</td>\n",
              "      <td>0</td>\n",
              "      <td>0</td>\n",
              "      <td>0</td>\n",
              "      <td>0</td>\n",
              "      <td>0</td>\n",
              "      <td>0</td>\n",
              "      <td>0</td>\n",
              "      <td>0</td>\n",
              "      <td>0</td>\n",
              "      <td>4</td>\n",
              "      <td>0</td>\n",
              "      <td>0</td>\n",
              "      <td>0.299</td>\n",
              "      <td>45</td>\n",
              "      <td>0.08</td>\n",
              "      <td>1.74</td>\n",
              "      <td>0.14</td>\n",
              "      <td>0.32</td>\n",
              "    </tr>\n",
              "    <tr>\n",
              "      <th>884</th>\n",
              "      <td>江戸川区</td>\n",
              "      <td>東篠崎</td>\n",
              "      <td>東篠崎１丁目</td>\n",
              "      <td>本八幡駅</td>\n",
              "      <td>4</td>\n",
              "      <td>0</td>\n",
              "      <td>0</td>\n",
              "      <td>0</td>\n",
              "      <td>0</td>\n",
              "      <td>0</td>\n",
              "      <td>0</td>\n",
              "      <td>1</td>\n",
              "      <td>0</td>\n",
              "      <td>0</td>\n",
              "      <td>20</td>\n",
              "      <td>0</td>\n",
              "      <td>1</td>\n",
              "      <td>2.710</td>\n",
              "      <td>43</td>\n",
              "      <td>0.39</td>\n",
              "      <td>0.14</td>\n",
              "      <td>1.38</td>\n",
              "      <td>0.30</td>\n",
              "    </tr>\n",
              "    <tr>\n",
              "      <th>885</th>\n",
              "      <td>大田区</td>\n",
              "      <td>多摩川河川敷</td>\n",
              "      <td>多摩川河川敷（下流）</td>\n",
              "      <td>矢口渡駅</td>\n",
              "      <td>3</td>\n",
              "      <td>0</td>\n",
              "      <td>0</td>\n",
              "      <td>0</td>\n",
              "      <td>0</td>\n",
              "      <td>0</td>\n",
              "      <td>1</td>\n",
              "      <td>1</td>\n",
              "      <td>0</td>\n",
              "      <td>0</td>\n",
              "      <td>1</td>\n",
              "      <td>0</td>\n",
              "      <td>1</td>\n",
              "      <td>0.703</td>\n",
              "      <td>39</td>\n",
              "      <td>0.28</td>\n",
              "      <td>1.43</td>\n",
              "      <td>0.15</td>\n",
              "      <td>0.29</td>\n",
              "    </tr>\n",
              "    <tr>\n",
              "      <th>886</th>\n",
              "      <td>江戸川区</td>\n",
              "      <td>宇喜田町</td>\n",
              "      <td>宇喜田町</td>\n",
              "      <td>葛西臨海公園駅</td>\n",
              "      <td>5</td>\n",
              "      <td>1</td>\n",
              "      <td>0</td>\n",
              "      <td>0</td>\n",
              "      <td>0</td>\n",
              "      <td>0</td>\n",
              "      <td>0</td>\n",
              "      <td>1</td>\n",
              "      <td>0</td>\n",
              "      <td>0</td>\n",
              "      <td>12</td>\n",
              "      <td>0</td>\n",
              "      <td>0</td>\n",
              "      <td>3.546</td>\n",
              "      <td>43</td>\n",
              "      <td>1.13</td>\n",
              "      <td>0.10</td>\n",
              "      <td>0.58</td>\n",
              "      <td>0.27</td>\n",
              "    </tr>\n",
              "    <tr>\n",
              "      <th>887</th>\n",
              "      <td>足立区</td>\n",
              "      <td>舎人公園</td>\n",
              "      <td>舎人公園</td>\n",
              "      <td>舎人公園駅</td>\n",
              "      <td>2</td>\n",
              "      <td>0</td>\n",
              "      <td>0</td>\n",
              "      <td>0</td>\n",
              "      <td>0</td>\n",
              "      <td>0</td>\n",
              "      <td>0</td>\n",
              "      <td>0</td>\n",
              "      <td>0</td>\n",
              "      <td>0</td>\n",
              "      <td>4</td>\n",
              "      <td>0</td>\n",
              "      <td>0</td>\n",
              "      <td>0.375</td>\n",
              "      <td>45</td>\n",
              "      <td>0.17</td>\n",
              "      <td>1.48</td>\n",
              "      <td>0.14</td>\n",
              "      <td>0.27</td>\n",
              "    </tr>\n",
              "    <tr>\n",
              "      <th>888</th>\n",
              "      <td>世田谷区</td>\n",
              "      <td>玉堤</td>\n",
              "      <td>玉堤１丁目</td>\n",
              "      <td>尾山台駅</td>\n",
              "      <td>3</td>\n",
              "      <td>1</td>\n",
              "      <td>0</td>\n",
              "      <td>0</td>\n",
              "      <td>0</td>\n",
              "      <td>0</td>\n",
              "      <td>0</td>\n",
              "      <td>0</td>\n",
              "      <td>0</td>\n",
              "      <td>0</td>\n",
              "      <td>0</td>\n",
              "      <td>0</td>\n",
              "      <td>0</td>\n",
              "      <td>1.346</td>\n",
              "      <td>38</td>\n",
              "      <td>0.84</td>\n",
              "      <td>0.87</td>\n",
              "      <td>0.00</td>\n",
              "      <td>0.25</td>\n",
              "    </tr>\n",
              "    <tr>\n",
              "      <th>889</th>\n",
              "      <td>足立区</td>\n",
              "      <td>神明</td>\n",
              "      <td>神明２丁目</td>\n",
              "      <td>六町駅</td>\n",
              "      <td>6</td>\n",
              "      <td>1</td>\n",
              "      <td>0</td>\n",
              "      <td>0</td>\n",
              "      <td>0</td>\n",
              "      <td>0</td>\n",
              "      <td>1</td>\n",
              "      <td>0</td>\n",
              "      <td>0</td>\n",
              "      <td>0</td>\n",
              "      <td>8</td>\n",
              "      <td>0</td>\n",
              "      <td>0</td>\n",
              "      <td>1.580</td>\n",
              "      <td>47</td>\n",
              "      <td>1.25</td>\n",
              "      <td>0.08</td>\n",
              "      <td>0.28</td>\n",
              "      <td>0.22</td>\n",
              "    </tr>\n",
              "    <tr>\n",
              "      <th>890</th>\n",
              "      <td>杉並区</td>\n",
              "      <td>大宮</td>\n",
              "      <td>大宮２丁目</td>\n",
              "      <td>西永福駅</td>\n",
              "      <td>0</td>\n",
              "      <td>0</td>\n",
              "      <td>0</td>\n",
              "      <td>0</td>\n",
              "      <td>0</td>\n",
              "      <td>0</td>\n",
              "      <td>0</td>\n",
              "      <td>3</td>\n",
              "      <td>0</td>\n",
              "      <td>0</td>\n",
              "      <td>3</td>\n",
              "      <td>0</td>\n",
              "      <td>0</td>\n",
              "      <td>0.692</td>\n",
              "      <td>40</td>\n",
              "      <td>0.00</td>\n",
              "      <td>1.30</td>\n",
              "      <td>0.28</td>\n",
              "      <td>0.21</td>\n",
              "    </tr>\n",
              "    <tr>\n",
              "      <th>891</th>\n",
              "      <td>足立区</td>\n",
              "      <td>北加平町</td>\n",
              "      <td>北加平町</td>\n",
              "      <td>六町駅</td>\n",
              "      <td>2</td>\n",
              "      <td>1</td>\n",
              "      <td>0</td>\n",
              "      <td>0</td>\n",
              "      <td>0</td>\n",
              "      <td>0</td>\n",
              "      <td>0</td>\n",
              "      <td>1</td>\n",
              "      <td>0</td>\n",
              "      <td>0</td>\n",
              "      <td>2</td>\n",
              "      <td>0</td>\n",
              "      <td>0</td>\n",
              "      <td>0.620</td>\n",
              "      <td>47</td>\n",
              "      <td>0.68</td>\n",
              "      <td>0.76</td>\n",
              "      <td>0.11</td>\n",
              "      <td>0.20</td>\n",
              "    </tr>\n",
              "    <tr>\n",
              "      <th>892</th>\n",
              "      <td>世田谷区</td>\n",
              "      <td>宇奈根</td>\n",
              "      <td>宇奈根１丁目</td>\n",
              "      <td>久地駅</td>\n",
              "      <td>2</td>\n",
              "      <td>1</td>\n",
              "      <td>0</td>\n",
              "      <td>0</td>\n",
              "      <td>0</td>\n",
              "      <td>0</td>\n",
              "      <td>0</td>\n",
              "      <td>0</td>\n",
              "      <td>1</td>\n",
              "      <td>0</td>\n",
              "      <td>6</td>\n",
              "      <td>0</td>\n",
              "      <td>1</td>\n",
              "      <td>1.561</td>\n",
              "      <td>48</td>\n",
              "      <td>0.68</td>\n",
              "      <td>0.06</td>\n",
              "      <td>0.76</td>\n",
              "      <td>0.19</td>\n",
              "    </tr>\n",
              "    <tr>\n",
              "      <th>893</th>\n",
              "      <td>板橋区</td>\n",
              "      <td>新河岸</td>\n",
              "      <td>新河岸２丁目</td>\n",
              "      <td>戸田公園駅</td>\n",
              "      <td>2</td>\n",
              "      <td>0</td>\n",
              "      <td>0</td>\n",
              "      <td>0</td>\n",
              "      <td>0</td>\n",
              "      <td>0</td>\n",
              "      <td>0</td>\n",
              "      <td>0</td>\n",
              "      <td>0</td>\n",
              "      <td>0</td>\n",
              "      <td>1</td>\n",
              "      <td>0</td>\n",
              "      <td>0</td>\n",
              "      <td>1.915</td>\n",
              "      <td>34</td>\n",
              "      <td>0.17</td>\n",
              "      <td>1.18</td>\n",
              "      <td>0.04</td>\n",
              "      <td>0.16</td>\n",
              "    </tr>\n",
              "    <tr>\n",
              "      <th>894</th>\n",
              "      <td>江戸川区</td>\n",
              "      <td>北篠崎</td>\n",
              "      <td>北篠崎１丁目</td>\n",
              "      <td>市川駅</td>\n",
              "      <td>2</td>\n",
              "      <td>1</td>\n",
              "      <td>0</td>\n",
              "      <td>1</td>\n",
              "      <td>0</td>\n",
              "      <td>0</td>\n",
              "      <td>2</td>\n",
              "      <td>0</td>\n",
              "      <td>0</td>\n",
              "      <td>0</td>\n",
              "      <td>5</td>\n",
              "      <td>0</td>\n",
              "      <td>0</td>\n",
              "      <td>1.418</td>\n",
              "      <td>40</td>\n",
              "      <td>0.68</td>\n",
              "      <td>0.54</td>\n",
              "      <td>0.17</td>\n",
              "      <td>0.16</td>\n",
              "    </tr>\n",
              "    <tr>\n",
              "      <th>895</th>\n",
              "      <td>世田谷区</td>\n",
              "      <td>砧公園</td>\n",
              "      <td>砧公園</td>\n",
              "      <td>用賀駅</td>\n",
              "      <td>0</td>\n",
              "      <td>0</td>\n",
              "      <td>0</td>\n",
              "      <td>0</td>\n",
              "      <td>0</td>\n",
              "      <td>0</td>\n",
              "      <td>0</td>\n",
              "      <td>1</td>\n",
              "      <td>0</td>\n",
              "      <td>0</td>\n",
              "      <td>4</td>\n",
              "      <td>0</td>\n",
              "      <td>0</td>\n",
              "      <td>1.318</td>\n",
              "      <td>36</td>\n",
              "      <td>0.00</td>\n",
              "      <td>1.16</td>\n",
              "      <td>0.19</td>\n",
              "      <td>0.14</td>\n",
              "    </tr>\n",
              "    <tr>\n",
              "      <th>896</th>\n",
              "      <td>練馬区</td>\n",
              "      <td>立野町</td>\n",
              "      <td>立野町</td>\n",
              "      <td>武蔵関駅</td>\n",
              "      <td>2</td>\n",
              "      <td>1</td>\n",
              "      <td>0</td>\n",
              "      <td>0</td>\n",
              "      <td>0</td>\n",
              "      <td>0</td>\n",
              "      <td>0</td>\n",
              "      <td>3</td>\n",
              "      <td>0</td>\n",
              "      <td>0</td>\n",
              "      <td>5</td>\n",
              "      <td>0</td>\n",
              "      <td>2</td>\n",
              "      <td>1.339</td>\n",
              "      <td>48</td>\n",
              "      <td>0.68</td>\n",
              "      <td>0.09</td>\n",
              "      <td>0.54</td>\n",
              "      <td>0.13</td>\n",
              "    </tr>\n",
              "    <tr>\n",
              "      <th>897</th>\n",
              "      <td>江戸川区</td>\n",
              "      <td>堀江町</td>\n",
              "      <td>堀江町</td>\n",
              "      <td>東京ディズニーランド・ステーション駅</td>\n",
              "      <td>2</td>\n",
              "      <td>1</td>\n",
              "      <td>0</td>\n",
              "      <td>0</td>\n",
              "      <td>0</td>\n",
              "      <td>0</td>\n",
              "      <td>0</td>\n",
              "      <td>2</td>\n",
              "      <td>0</td>\n",
              "      <td>0</td>\n",
              "      <td>0</td>\n",
              "      <td>0</td>\n",
              "      <td>1</td>\n",
              "      <td>0.951</td>\n",
              "      <td>54</td>\n",
              "      <td>0.68</td>\n",
              "      <td>0.25</td>\n",
              "      <td>0.18</td>\n",
              "      <td>0.10</td>\n",
              "    </tr>\n",
              "    <tr>\n",
              "      <th>898</th>\n",
              "      <td>葛飾区</td>\n",
              "      <td>金町浄水場</td>\n",
              "      <td>金町浄水場</td>\n",
              "      <td>柴又駅</td>\n",
              "      <td>0</td>\n",
              "      <td>0</td>\n",
              "      <td>0</td>\n",
              "      <td>0</td>\n",
              "      <td>0</td>\n",
              "      <td>0</td>\n",
              "      <td>0</td>\n",
              "      <td>2</td>\n",
              "      <td>0</td>\n",
              "      <td>0</td>\n",
              "      <td>2</td>\n",
              "      <td>0</td>\n",
              "      <td>0</td>\n",
              "      <td>0.698</td>\n",
              "      <td>54</td>\n",
              "      <td>0.00</td>\n",
              "      <td>0.51</td>\n",
              "      <td>0.18</td>\n",
              "      <td>0.06</td>\n",
              "    </tr>\n",
              "    <tr>\n",
              "      <th>899</th>\n",
              "      <td>大田区</td>\n",
              "      <td>京浜島</td>\n",
              "      <td>京浜島１丁目</td>\n",
              "      <td>昭和島駅</td>\n",
              "      <td>0</td>\n",
              "      <td>0</td>\n",
              "      <td>0</td>\n",
              "      <td>0</td>\n",
              "      <td>0</td>\n",
              "      <td>0</td>\n",
              "      <td>0</td>\n",
              "      <td>1</td>\n",
              "      <td>0</td>\n",
              "      <td>0</td>\n",
              "      <td>0</td>\n",
              "      <td>0</td>\n",
              "      <td>0</td>\n",
              "      <td>0.789</td>\n",
              "      <td>46</td>\n",
              "      <td>0.00</td>\n",
              "      <td>0.53</td>\n",
              "      <td>0.08</td>\n",
              "      <td>0.05</td>\n",
              "    </tr>\n",
              "    <tr>\n",
              "      <th>900</th>\n",
              "      <td>江戸川区</td>\n",
              "      <td>東篠崎町</td>\n",
              "      <td>東篠崎町</td>\n",
              "      <td>本八幡駅</td>\n",
              "      <td>0</td>\n",
              "      <td>0</td>\n",
              "      <td>0</td>\n",
              "      <td>0</td>\n",
              "      <td>0</td>\n",
              "      <td>0</td>\n",
              "      <td>0</td>\n",
              "      <td>2</td>\n",
              "      <td>0</td>\n",
              "      <td>0</td>\n",
              "      <td>6</td>\n",
              "      <td>0</td>\n",
              "      <td>0</td>\n",
              "      <td>3.027</td>\n",
              "      <td>43</td>\n",
              "      <td>0.00</td>\n",
              "      <td>0.12</td>\n",
              "      <td>0.33</td>\n",
              "      <td>0.03</td>\n",
              "    </tr>\n",
              "  </tbody>\n",
              "</table>\n",
              "</div>\n",
              "      <button class=\"colab-df-convert\" onclick=\"convertToInteractive('df-30942a1d-8238-4329-9879-73d83c02e59b')\"\n",
              "              title=\"Convert this dataframe to an interactive table.\"\n",
              "              style=\"display:none;\">\n",
              "        \n",
              "  <svg xmlns=\"http://www.w3.org/2000/svg\" height=\"24px\"viewBox=\"0 0 24 24\"\n",
              "       width=\"24px\">\n",
              "    <path d=\"M0 0h24v24H0V0z\" fill=\"none\"/>\n",
              "    <path d=\"M18.56 5.44l.94 2.06.94-2.06 2.06-.94-2.06-.94-.94-2.06-.94 2.06-2.06.94zm-11 1L8.5 8.5l.94-2.06 2.06-.94-2.06-.94L8.5 2.5l-.94 2.06-2.06.94zm10 10l.94 2.06.94-2.06 2.06-.94-2.06-.94-.94-2.06-.94 2.06-2.06.94z\"/><path d=\"M17.41 7.96l-1.37-1.37c-.4-.4-.92-.59-1.43-.59-.52 0-1.04.2-1.43.59L10.3 9.45l-7.72 7.72c-.78.78-.78 2.05 0 2.83L4 21.41c.39.39.9.59 1.41.59.51 0 1.02-.2 1.41-.59l7.78-7.78 2.81-2.81c.8-.78.8-2.07 0-2.86zM5.41 20L4 18.59l7.72-7.72 1.47 1.35L5.41 20z\"/>\n",
              "  </svg>\n",
              "      </button>\n",
              "      \n",
              "  <style>\n",
              "    .colab-df-container {\n",
              "      display:flex;\n",
              "      flex-wrap:wrap;\n",
              "      gap: 12px;\n",
              "    }\n",
              "\n",
              "    .colab-df-convert {\n",
              "      background-color: #E8F0FE;\n",
              "      border: none;\n",
              "      border-radius: 50%;\n",
              "      cursor: pointer;\n",
              "      display: none;\n",
              "      fill: #1967D2;\n",
              "      height: 32px;\n",
              "      padding: 0 0 0 0;\n",
              "      width: 32px;\n",
              "    }\n",
              "\n",
              "    .colab-df-convert:hover {\n",
              "      background-color: #E2EBFA;\n",
              "      box-shadow: 0px 1px 2px rgba(60, 64, 67, 0.3), 0px 1px 3px 1px rgba(60, 64, 67, 0.15);\n",
              "      fill: #174EA6;\n",
              "    }\n",
              "\n",
              "    [theme=dark] .colab-df-convert {\n",
              "      background-color: #3B4455;\n",
              "      fill: #D2E3FC;\n",
              "    }\n",
              "\n",
              "    [theme=dark] .colab-df-convert:hover {\n",
              "      background-color: #434B5C;\n",
              "      box-shadow: 0px 1px 3px 1px rgba(0, 0, 0, 0.15);\n",
              "      filter: drop-shadow(0px 1px 2px rgba(0, 0, 0, 0.3));\n",
              "      fill: #FFFFFF;\n",
              "    }\n",
              "  </style>\n",
              "\n",
              "      <script>\n",
              "        const buttonEl =\n",
              "          document.querySelector('#df-30942a1d-8238-4329-9879-73d83c02e59b button.colab-df-convert');\n",
              "        buttonEl.style.display =\n",
              "          google.colab.kernel.accessAllowed ? 'block' : 'none';\n",
              "\n",
              "        async function convertToInteractive(key) {\n",
              "          const element = document.querySelector('#df-30942a1d-8238-4329-9879-73d83c02e59b');\n",
              "          const dataTable =\n",
              "            await google.colab.kernel.invokeFunction('convertToInteractive',\n",
              "                                                     [key], {});\n",
              "          if (!dataTable) return;\n",
              "\n",
              "          const docLinkHtml = 'Like what you see? Visit the ' +\n",
              "            '<a target=\"_blank\" href=https://colab.research.google.com/notebooks/data_table.ipynb>data table notebook</a>'\n",
              "            + ' to learn more about interactive tables.';\n",
              "          element.innerHTML = '';\n",
              "          dataTable['output_type'] = 'display_data';\n",
              "          await google.colab.output.renderOutput(dataTable, element);\n",
              "          const docLink = document.createElement('div');\n",
              "          docLink.innerHTML = docLinkHtml;\n",
              "          element.appendChild(docLink);\n",
              "        }\n",
              "      </script>\n",
              "    </div>\n",
              "  </div>\n",
              "  "
            ]
          },
          "metadata": {},
          "execution_count": 41
        }
      ]
    },
    {
      "cell_type": "code",
      "source": [],
      "metadata": {
        "id": "KwfMlqDrBmKa"
      },
      "execution_count": 41,
      "outputs": []
    }
  ]
}