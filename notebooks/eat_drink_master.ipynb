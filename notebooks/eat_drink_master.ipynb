{
  "nbformat": 4,
  "nbformat_minor": 0,
  "metadata": {
    "colab": {
      "provenance": [],
      "authorship_tag": "ABX9TyMeGeUiqQx9ZOgH3eIqhqBu",
      "include_colab_link": true
    },
    "kernelspec": {
      "name": "python3",
      "display_name": "Python 3"
    },
    "language_info": {
      "name": "python"
    }
  },
  "cells": [
    {
      "cell_type": "markdown",
      "metadata": {
        "id": "view-in-github",
        "colab_type": "text"
      },
      "source": [
        "<a href=\"https://colab.research.google.com/github/z-guard/analysis/blob/main/notebooks/eat_drink_master.ipynb\" target=\"_parent\"><img src=\"https://colab.research.google.com/assets/colab-badge.svg\" alt=\"Open In Colab\"/></a>"
      ]
    },
    {
      "cell_type": "markdown",
      "source": [
        "## 飲食店\n",
        "- レストラン\n",
        "- レストラン(チェーン店) \n",
        "- カフェ\n",
        "- カフェ(チェーン店) \n",
        "- 飲み屋\n",
        "- ファストフード\n",
        "- ネットカフェ"
      ],
      "metadata": {
        "id": "cO-8qIqjsuFM"
      }
    },
    {
      "cell_type": "code",
      "execution_count": 1,
      "metadata": {
        "colab": {
          "base_uri": "https://localhost:8080/"
        },
        "id": "-da9I2SYsdi9",
        "outputId": "37af249f-ed3d-4362-b41d-f8e0c43a9060"
      },
      "outputs": [
        {
          "output_type": "stream",
          "name": "stdout",
          "text": [
            "Drive already mounted at /content/drive; to attempt to forcibly remount, call drive.mount(\"/content/drive\", force_remount=True).\n"
          ]
        }
      ],
      "source": [
        "from google.colab import drive\n",
        "drive.mount('/content/drive')"
      ]
    },
    {
      "cell_type": "code",
      "source": [
        "import os\n",
        "import pandas as pd\n",
        "import numpy as np\n",
        "\n",
        "pd.set_option('display.max_columns', 50)\n",
        "pd.set_option('display.max_rows', 100)"
      ],
      "metadata": {
        "id": "uyL900pEsesm"
      },
      "execution_count": 2,
      "outputs": []
    },
    {
      "cell_type": "code",
      "source": [
        "DIR_NAME = '/content/drive/MyDrive/z-gard/data'"
      ],
      "metadata": {
        "id": "oXLq_OK_slvL"
      },
      "execution_count": 3,
      "outputs": []
    },
    {
      "cell_type": "code",
      "source": [
        "df_navitime_org = pd.read_csv(os.path.join(DIR_NAME, 'navitime_master.csv'))\n",
        "print(df_navitime_org.shape)\n",
        "\n",
        "df_netcafe = df_navitime_org[df_navitime_org['データ元'] == 'ネットカフェ'].reset_index(drop=True)\n",
        "df_netcafe['施設分類'] = 'ネットカフェ'\n",
        "print(df_netcafe.shape)"
      ],
      "metadata": {
        "colab": {
          "base_uri": "https://localhost:8080/"
        },
        "id": "GndYlEp7tdHs",
        "outputId": "2a41f9bc-9b7d-4c39-8f42-547ea392c218"
      },
      "execution_count": 4,
      "outputs": [
        {
          "output_type": "stream",
          "name": "stdout",
          "text": [
            "(7854, 7)\n",
            "(185, 8)\n"
          ]
        }
      ]
    },
    {
      "cell_type": "code",
      "source": [
        "df_restaurant_org = pd.read_csv(os.path.join(DIR_NAME, 'restaurant_nearby.csv'))\n",
        "print(df_restaurant_org.shape)\n",
        "\n",
        "df_cafe_org = pd.read_csv(os.path.join(DIR_NAME, 'cafe_nearby.csv'))\n",
        "print(df_cafe_org.shape)\n",
        "\n",
        "df_nightclub_bar_org = pd.read_csv(os.path.join(DIR_NAME, 'nightclub_bar_nearby.csv'))\n",
        "print(df_nightclub_bar_org.shape)"
      ],
      "metadata": {
        "colab": {
          "base_uri": "https://localhost:8080/"
        },
        "id": "ll6lPlICsy6v",
        "outputId": "1bb300c2-1864-4134-8763-210cd3c97b36"
      },
      "execution_count": 5,
      "outputs": [
        {
          "output_type": "stream",
          "name": "stdout",
          "text": [
            "(10366, 7)\n",
            "(6575, 7)\n",
            "(8690, 7)\n"
          ]
        }
      ]
    },
    {
      "cell_type": "code",
      "source": [
        "df_eat_drink = pd.concat([\n",
        "    df_restaurant_org,\n",
        "    df_cafe_org,\n",
        "    df_nightclub_bar_org\n",
        "]).drop_duplicates(subset=['place_id']).reset_index(drop=True)\n",
        "print(df_eat_drink.shape)"
      ],
      "metadata": {
        "colab": {
          "base_uri": "https://localhost:8080/"
        },
        "id": "j6ZIy9jGt3_K",
        "outputId": "01d225d6-c2af-4784-862e-81f856b9bdf5"
      },
      "execution_count": 6,
      "outputs": [
        {
          "output_type": "stream",
          "name": "stdout",
          "text": [
            "(24674, 7)\n"
          ]
        }
      ]
    },
    {
      "cell_type": "code",
      "source": [
        "df_eat_drink['types_list'] = df_eat_drink['types'].apply(lambda x: x.replace('\"', '').replace('[', '').replace(']', '').replace(\"'\", '').replace(' ', '').split(','))\n",
        "types_list = df_eat_drink['types_list'].explode()"
      ],
      "metadata": {
        "id": "YwKnlF0LuzIw"
      },
      "execution_count": 7,
      "outputs": []
    },
    {
      "cell_type": "code",
      "source": [
        "store_types = ['レストラン', 'レストラン(チェーン店)', 'カフェ', 'カフェ(チェーン店)', '飲み屋', 'カラオケ', 'ファストフード', 'ネットカフェ']\n",
        "for t in store_types:\n",
        "    df_eat_drink[t] = 0"
      ],
      "metadata": {
        "id": "B_fAKyjZvRIX"
      },
      "execution_count": 8,
      "outputs": []
    },
    {
      "cell_type": "code",
      "source": [
        "fast_food_stores = [\n",
        "    'マクドナルド', 'ケンタッキー', 'サブウェイ', 'モスバーガー', 'ロッテリア', 'ファーストキッチン', 'フレッシュネスバーガー', \n",
        "    'バーガーキング', 'ドムドム', 'ミスタードーナツ', 'ピザハット', 'ドミノ・ピザ', 'ピザーラ', 'ほっかほっか亭', 'ほっともっと',\n",
        "    '壱番屋', '吉野家', 'すき家', 'なか卯', '松屋', 'ほかほか弁当', '築地銀だこ'\n",
        "]\n",
        "for store in fast_food_stores:\n",
        "    df_eat_drink.loc[df_eat_drink['name'].str.contains(store), 'ファストフード'] = 1"
      ],
      "metadata": {
        "id": "DdmNqHYS1GBD"
      },
      "execution_count": 9,
      "outputs": []
    },
    {
      "cell_type": "code",
      "source": [
        "cafe_chain_store = [\n",
        "    'スターバックス', \"TULLY'S\", 'タリーズ', 'コメダ珈琲店', 'ドトール', 'カフェ・ド・クリエ', '上島珈琲店', \n",
        "    'イタリアン・トマト', 'サンマルクカフェ', 'エクセルシオール', 'ルノアール', '星乃珈琲店',\n",
        "    'PRONTO', 'コージーコーナー', 'カフェ コロラド', '珈琲館', 'カフェ・ベローチェ', 'カフェ・ド・クリエ'\n",
        "]\n",
        "for store in cafe_chain_store:\n",
        "    df_eat_drink.loc[df_eat_drink['name'].str.contains(store), 'カフェ(チェーン店)'] = 1"
      ],
      "metadata": {
        "id": "aY2mrd0s3ZRJ"
      },
      "execution_count": 10,
      "outputs": []
    },
    {
      "cell_type": "code",
      "source": [
        "restaurant_chain_store = [\n",
        "    'サイゼリヤ', 'ガスト', '丸亀製麺', '王将', 'ジョナサン', 'デニーズ', '養老乃瀧', 'バーミヤン', '夢庵',\n",
        "    '不二家レストラン', 'はま寿司', 'スシロー', 'くら寿司', 'ビッグボーイ', '木曽路', '一風堂', 'ロイヤルホスト',\n",
        "    'ジョリーパスタ', '大戸屋', '天下一品', '鳥貴族', '白木屋', 'ココス', 'びっくりドンキー', 'やよい軒',\n",
        "    'ジョナサン', '和食さと', '華屋与兵衛', 'ジョイフル', '日高屋'\n",
        "]\n",
        "for store in restaurant_chain_store:\n",
        "    df_eat_drink.loc[df_eat_drink['name'].str.contains(store), 'レストラン(チェーン店)'] = 1"
      ],
      "metadata": {
        "id": "I3Y_8HQM34KX"
      },
      "execution_count": 11,
      "outputs": []
    },
    {
      "cell_type": "code",
      "source": [
        "netcafe_chain_store = [\n",
        "    '快活CLUB', '自遊空間', 'コミック・バスター', '宝島24'\n",
        "]\n",
        "for store in netcafe_chain_store:\n",
        "    df_eat_drink.loc[df_eat_drink['name'].str.contains(store), 'ネットカフェ'] = 1"
      ],
      "metadata": {
        "id": "sprI9xB09BFu"
      },
      "execution_count": 12,
      "outputs": []
    },
    {
      "cell_type": "code",
      "source": [
        "df_eat_drink.loc[df_eat_drink['types_list'].apply(lambda x: 'restaurant' in x), 'レストラン'] = 1\n",
        "df_eat_drink.loc[df_eat_drink['types_list'].apply(lambda x: 'cafe' in x), 'カフェ'] = 1\n",
        "df_eat_drink.loc[df_eat_drink['types_list'].apply(lambda x: 'bar' in x), '飲み屋'] = 1\n",
        "df_eat_drink.loc[df_eat_drink['types_list'].apply(lambda x: 'night_club' in x), '飲み屋'] = 1\n",
        "df_eat_drink.loc[df_eat_drink['name'].str.contains('カラオケ'), 'カラオケ'] = 1\n",
        "df_eat_drink['sum'] = df_eat_drink[store_types].sum(axis=1)"
      ],
      "metadata": {
        "id": "CF-KgCzzwHPq"
      },
      "execution_count": 13,
      "outputs": []
    },
    {
      "cell_type": "code",
      "source": [
        "df_eat_drink['施設分類'] = None\n",
        "\n",
        "df_eat_drink.loc[(df_eat_drink['施設分類'].isna())&(df_eat_drink['ネットカフェ'] == 1), '施設分類'] = 'ネットカフェ'\n",
        "df_eat_drink.loc[(df_eat_drink['施設分類'].isna())&(df_eat_drink['ファストフード'] == 1), '施設分類'] = 'ファストフード'\n",
        "df_eat_drink.loc[(df_eat_drink['施設分類'].isna())&(df_eat_drink['カフェ(チェーン店)'] == 1), '施設分類'] = 'カフェ(チェーン店)'\n",
        "df_eat_drink.loc[(df_eat_drink['施設分類'].isna())&(df_eat_drink['レストラン(チェーン店)'] == 1), '施設分類'] = 'レストラン(チェーン店)'\n",
        "\n",
        "df_eat_drink.loc[(df_eat_drink['施設分類'].isna())&(df_eat_drink['ファストフード'] == 1)&(df_eat_drink['飲み屋'] == 0), '施設分類'] = 'ファストフード'\n",
        "df_eat_drink.loc[(df_eat_drink['施設分類'].isna())&(df_eat_drink['レストラン'] == 1)&(df_eat_drink['飲み屋'] == 0), '施設分類'] = 'レストラン'\n",
        "df_eat_drink.loc[(df_eat_drink['施設分類'].isna())&(df_eat_drink['カフェ'] == 1)&(df_eat_drink['飲み屋'] == 0), '施設分類'] = 'カフェ'\n",
        "df_eat_drink.loc[(df_eat_drink['施設分類'].isna())&(df_eat_drink['カラオケ'] == 1), '施設分類'] = 'カラオケ'\n",
        "df_eat_drink.loc[(df_eat_drink['施設分類'].isna())&(df_eat_drink['飲み屋'] == 1), '施設分類'] = '飲み屋'\n",
        "\n",
        "assert len(df_eat_drink[df_eat_drink['施設分類'].isna()]) == 0"
      ],
      "metadata": {
        "id": "2OCCOqMBwsCU"
      },
      "execution_count": 14,
      "outputs": []
    },
    {
      "cell_type": "code",
      "source": [
        "df_eat_drink['施設分類'].value_counts()"
      ],
      "metadata": {
        "colab": {
          "base_uri": "https://localhost:8080/"
        },
        "id": "r7lLJxKbwvfZ",
        "outputId": "edd1d667-d475-4f93-876f-8b71249f04b7"
      },
      "execution_count": 15,
      "outputs": [
        {
          "output_type": "execute_result",
          "data": {
            "text/plain": [
              "レストラン           9769\n",
              "飲み屋             8328\n",
              "カフェ             4527\n",
              "カフェ(チェーン店)       695\n",
              "ファストフード          662\n",
              "カラオケ             396\n",
              "レストラン(チェーン店)     279\n",
              "ネットカフェ            18\n",
              "Name: 施設分類, dtype: int64"
            ]
          },
          "metadata": {},
          "execution_count": 15
        }
      ]
    },
    {
      "cell_type": "code",
      "source": [
        "df_eat_drink_master = df_eat_drink[\n",
        "    (df_eat_drink['施設分類'].notna()) &\n",
        "    (df_eat_drink['施設分類'] != 'ネットカフェ') &\n",
        "    (df_eat_drink['施設分類'] != 'カラオケ')\n",
        "][['name', 'vicinity', 'lat', 'lng', '施設分類', 'rating']].rename(columns={\n",
        "    'name': '名称',\n",
        "    'vicinity': '住所',\n",
        "    'lat': '緯度', \n",
        "    'lng': '経度'\n",
        "})\n",
        "print(df_eat_drink_master.shape)"
      ],
      "metadata": {
        "colab": {
          "base_uri": "https://localhost:8080/"
        },
        "id": "LKN2btDj0lOu",
        "outputId": "21358bfb-e52d-46f0-8a01-006d81e855a2"
      },
      "execution_count": 16,
      "outputs": [
        {
          "output_type": "stream",
          "name": "stdout",
          "text": [
            "(24260, 6)\n"
          ]
        }
      ]
    },
    {
      "cell_type": "code",
      "source": [
        "df_eat_drink_master = pd.concat([\n",
        "    df_eat_drink_master,\n",
        "    df_netcafe[['名称', '住所', '緯度', '経度', '施設分類']]\n",
        "]).sort_values(['施設分類', '住所']).reset_index(drop=True)\n",
        "print(df_eat_drink_master.shape)"
      ],
      "metadata": {
        "colab": {
          "base_uri": "https://localhost:8080/"
        },
        "id": "7AYp-1W2HgC5",
        "outputId": "51100db5-e49a-4f4c-f4e3-258bac41aaa3"
      },
      "execution_count": 17,
      "outputs": [
        {
          "output_type": "stream",
          "name": "stdout",
          "text": [
            "(24445, 6)\n"
          ]
        }
      ]
    },
    {
      "cell_type": "code",
      "source": [
        "df_eat_drink_master.to_csv(os.path.join(DIR_NAME, 'eat_drink_master.csv'), encoding='utf-8_sig', index=False)"
      ],
      "metadata": {
        "id": "9wloem9-ID91"
      },
      "execution_count": 18,
      "outputs": []
    },
    {
      "cell_type": "code",
      "source": [],
      "metadata": {
        "id": "mCIBsq6BIJVF"
      },
      "execution_count": 18,
      "outputs": []
    }
  ]
}