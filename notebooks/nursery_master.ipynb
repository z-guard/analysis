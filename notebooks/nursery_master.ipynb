{
  "nbformat": 4,
  "nbformat_minor": 0,
  "metadata": {
    "colab": {
      "provenance": [],
      "authorship_tag": "ABX9TyMwyF7CAuuo5d9aXwNBJg2r",
      "include_colab_link": true
    },
    "kernelspec": {
      "name": "python3",
      "display_name": "Python 3"
    },
    "language_info": {
      "name": "python"
    }
  },
  "cells": [
    {
      "cell_type": "markdown",
      "metadata": {
        "id": "view-in-github",
        "colab_type": "text"
      },
      "source": [
        "<a href=\"https://colab.research.google.com/github/z-guard/analysis/blob/main/notebooks/nursery_master.ipynb\" target=\"_parent\"><img src=\"https://colab.research.google.com/assets/colab-badge.svg\" alt=\"Open In Colab\"/></a>"
      ]
    },
    {
      "cell_type": "markdown",
      "source": [
        "# 保育所\n",
        "- input:\n",
        "    - [（認可）保育所](https://catalog.data.metro.tokyo.lg.jp/dataset/t000010d0000000099/resource/f3a1b2c5-a037-4627-9166-2a4863bf3bd9)\n",
        "    - [児童館](https://catalog.data.metro.tokyo.lg.jp/dataset/t000010d0000000099/resource/ef6db4bc-966b-48cd-88ac-5922d413ad0b)\n",
        "    - 待機児童数\n",
        "- output:\n",
        "    - nursery_score.csv\n",
        "        - 保育園スコア\n",
        "        - 児童館スコア"
      ],
      "metadata": {
        "id": "bWg52QgHvf21"
      }
    },
    {
      "cell_type": "code",
      "source": [
        "!pip install -q japanize-matplotlib"
      ],
      "metadata": {
        "id": "qy5bYwoLzJee"
      },
      "execution_count": 1,
      "outputs": []
    },
    {
      "cell_type": "code",
      "execution_count": 2,
      "metadata": {
        "colab": {
          "base_uri": "https://localhost:8080/"
        },
        "id": "W_Ys4ZQDvYjK",
        "outputId": "332ccc10-6ea8-4756-dd1f-12110bd8a604"
      },
      "outputs": [
        {
          "output_type": "stream",
          "name": "stdout",
          "text": [
            "Drive already mounted at /content/drive; to attempt to forcibly remount, call drive.mount(\"/content/drive\", force_remount=True).\n"
          ]
        }
      ],
      "source": [
        "from google.colab import drive\n",
        "drive.mount('/content/drive')"
      ]
    },
    {
      "cell_type": "code",
      "source": [
        "import os\n",
        "import requests\n",
        "import json\n",
        "import pandas as pd\n",
        "from urllib.parse import urlparse, quote\n",
        "import io\n",
        "import math\n",
        "import numpy as np\n",
        "import matplotlib.pyplot as plt\n",
        "import japanize_matplotlib\n",
        "import seaborn as sns\n",
        "\n",
        "pd.set_option('display.max_columns', 50)\n",
        "pd.set_option('display.max_rows', 100)"
      ],
      "metadata": {
        "id": "QBjzumCZvuOS"
      },
      "execution_count": 3,
      "outputs": []
    },
    {
      "cell_type": "code",
      "source": [
        "DIR_NAME = '/content/drive/MyDrive/z-gard/data'"
      ],
      "metadata": {
        "id": "O93oCOcLv9Hr"
      },
      "execution_count": 4,
      "outputs": []
    },
    {
      "cell_type": "code",
      "source": [
        "output_master_file = 'nursery_master.csv'\n",
        "output_score_file = 'nursery_score.csv'"
      ],
      "metadata": {
        "id": "WNNN4Poqc7Nz"
      },
      "execution_count": 5,
      "outputs": []
    },
    {
      "cell_type": "code",
      "source": [
        "def get_data_csv_url(url, encoding='utf-8', excel=False):\n",
        "    res = requests.get(url)\n",
        "    if res.status_code == 200:\n",
        "        if not excel:\n",
        "            return pd.read_csv(io.BytesIO(res.content), encoding=encoding)\n",
        "        else:\n",
        "            return pd.read_excel(io.BytesIO(res.content))\n",
        "    else:\n",
        "        raise Exception(f'status_code: {res.status_code} ({url})')"
      ],
      "metadata": {
        "id": "QCgFNfNawAtL"
      },
      "execution_count": 6,
      "outputs": []
    },
    {
      "cell_type": "markdown",
      "source": [
        "### 保育所"
      ],
      "metadata": {
        "id": "-VjRZle1YqAk"
      }
    },
    {
      "cell_type": "code",
      "source": [
        "nursery_url = 'https://www.opendata.metro.tokyo.lg.jp/fukushihoken/R3/202110-2-1-hoikusyo.csv'\n",
        "df_nursery = get_data_csv_url(nursery_url, encoding='shift-jis')\n",
        "print(df_nursery.shape)"
      ],
      "metadata": {
        "colab": {
          "base_uri": "https://localhost:8080/"
        },
        "id": "NrHr4nBzvzMT",
        "outputId": "bed14ee9-1d64-423c-e1d9-91c82dd399ec"
      },
      "execution_count": 7,
      "outputs": [
        {
          "output_type": "stream",
          "name": "stdout",
          "text": [
            "(3431, 9)\n"
          ]
        }
      ]
    },
    {
      "cell_type": "code",
      "source": [
        "df_nursery['市区町村名'] = df_nursery['所在地'].str.extract('(^.*?[区市])', expand=False)\n",
        "df_nursery['施設分類'] = '認可保育所'\n",
        "\n",
        "df_nursery_master = df_nursery[\n",
        "    (df_nursery['市区町村名'].notna())&\n",
        "    (df_nursery['市区町村名'].str.endswith('区'))&\n",
        "    (df_nursery['市区町村名'].str.len() < 5)\n",
        "][['市区町村名', '施設分類', '設置', '施設名', '所在地', '緯度', '経度', '定員']].rename(columns={'施設名':'名称'}).reset_index(drop=True)\n",
        "print(df_nursery_master.shape)\n",
        "\n",
        "assert df_nursery_master['市区町村名'].nunique() == 23"
      ],
      "metadata": {
        "colab": {
          "base_uri": "https://localhost:8080/"
        },
        "id": "bWNCBTG6xXzZ",
        "outputId": "765c165c-9fd1-45d9-c7a6-5e0d70e1cc69"
      },
      "execution_count": 8,
      "outputs": [
        {
          "output_type": "stream",
          "name": "stdout",
          "text": [
            "(2526, 8)\n"
          ]
        }
      ]
    },
    {
      "cell_type": "markdown",
      "source": [
        "### 待機児童数\n",
        "- [令和4年4月1日の区市町村別の状況](https://www.metro.tokyo.lg.jp/tosei/hodohappyo/press/2022/07/27/01.html)"
      ],
      "metadata": {
        "id": "365c3GwxJR1d"
      }
    },
    {
      "cell_type": "code",
      "source": [
        "waiting_children = {\n",
        "    '千代田区': 0,\n",
        "    '中央区': 0,\n",
        "    '港区': 0,\n",
        "    '新宿区': 0,\n",
        "    '文京区': 2,\n",
        "    '台東区': 6,\n",
        "    '墨田区': 7,\n",
        "    '江東区': 0,\n",
        "    '品川区': 0,\n",
        "    '目黒区': 0,\n",
        "    '大田区': 0,\n",
        "    '世田谷区': 0,\n",
        "    '渋谷区': 0,\n",
        "    '中野区': 0,\n",
        "    '杉並区': 0,\n",
        "    '豊島区': 0,\n",
        "    '北区': 16,\n",
        "    '荒川区': 0,\n",
        "    '板橋区': 0,\n",
        "    '練馬区': 0,\n",
        "    '足立区': 1,\n",
        "    '葛飾区': 0,\n",
        "    '江戸川区': 0,\n",
        "}"
      ],
      "metadata": {
        "id": "kRt1LZ1_JRJe"
      },
      "execution_count": 9,
      "outputs": []
    },
    {
      "cell_type": "markdown",
      "source": [
        "### 児童館"
      ],
      "metadata": {
        "id": "ZnBnbKZTYsjD"
      }
    },
    {
      "cell_type": "code",
      "source": [
        "childrenhouse_url = 'https://www.opendata.metro.tokyo.lg.jp/fukushihoken/R3/202110-2-2-06-zidoukan.csv'\n",
        "df_childrenhouse = get_data_csv_url(childrenhouse_url, encoding='shift-jis')\n",
        "print(df_childrenhouse.shape)"
      ],
      "metadata": {
        "id": "gV5w2EJ8Yoyn",
        "outputId": "74341b8a-4123-4cf1-a4bd-3861be0a5fbe",
        "colab": {
          "base_uri": "https://localhost:8080/"
        }
      },
      "execution_count": 10,
      "outputs": [
        {
          "output_type": "stream",
          "name": "stdout",
          "text": [
            "(587, 9)\n"
          ]
        }
      ]
    },
    {
      "cell_type": "code",
      "source": [
        "df_childrenhouse['市区町村名'] = df_childrenhouse['所在地'].str.extract('(^.*?[区市])', expand=False)\n",
        "df_childrenhouse['施設分類'] = '児童館'\n",
        "\n",
        "df_childrenhouse_master = df_childrenhouse[\n",
        "    (df_childrenhouse['市区町村名'].notna())&\n",
        "    (df_childrenhouse['市区町村名'].str.endswith('区'))&\n",
        "    (df_childrenhouse['市区町村名'].str.len() < 5)\n",
        "][['市区町村名', '施設分類', '設置', '施設名', '所在地', '緯度', '経度']].rename(columns={'施設名':'名称'}).reset_index(drop=True)\n",
        "print(df_childrenhouse_master.shape)\n",
        "\n",
        "assert df_childrenhouse_master['市区町村名'].nunique() == 23"
      ],
      "metadata": {
        "id": "oSuRSntUZW7A",
        "outputId": "8753d122-9ae9-414b-ff6a-d75f38aa6808",
        "colab": {
          "base_uri": "https://localhost:8080/"
        }
      },
      "execution_count": 11,
      "outputs": [
        {
          "output_type": "stream",
          "name": "stdout",
          "text": [
            "(439, 7)\n"
          ]
        }
      ]
    },
    {
      "cell_type": "markdown",
      "source": [
        "### 保育所マスタ"
      ],
      "metadata": {
        "id": "nQe-fCj8Yw8h"
      }
    },
    {
      "cell_type": "code",
      "source": [
        "df_nursery_master = pd.concat([df_nursery_master, df_childrenhouse_master]).reset_index(drop=True)\n",
        "print(df_nursery_master.shape)"
      ],
      "metadata": {
        "id": "bytUJN_jaHqM",
        "outputId": "2257d131-9612-44b7-e0e4-582a15d715a9",
        "colab": {
          "base_uri": "https://localhost:8080/"
        }
      },
      "execution_count": 12,
      "outputs": [
        {
          "output_type": "stream",
          "name": "stdout",
          "text": [
            "(2965, 8)\n"
          ]
        }
      ]
    },
    {
      "cell_type": "code",
      "source": [
        "df_nursery_master.to_csv(os.path.join(DIR_NAME, output_master_file), index=False, encoding='utf-8_sig')"
      ],
      "metadata": {
        "id": "aM8avA2Pztsf"
      },
      "execution_count": 13,
      "outputs": []
    },
    {
      "cell_type": "code",
      "source": [
        "df_nursery_master.head()"
      ],
      "metadata": {
        "id": "TmEsjiRlbP84",
        "outputId": "1d46fb01-93dc-40ab-8ba4-2080b1bf2195",
        "colab": {
          "base_uri": "https://localhost:8080/",
          "height": 206
        }
      },
      "execution_count": 14,
      "outputs": [
        {
          "output_type": "execute_result",
          "data": {
            "text/plain": [
              "  市区町村名   施設分類    設置          名称                     所在地        緯度         経度  \\\n",
              "0  千代田区  認可保育所  営利法人  ほっぺるランド外神田            千代田区外神田４−８−６  35.70233  139.77260   \n",
              "1  千代田区  認可保育所  社福法人  外神田かなりや保育園           千代田区外神田３−６−１３  35.70255  139.76976   \n",
              "2  千代田区  認可保育所  区市町村     いずみこども園              千代田区神田和泉町１  35.69919  139.77597   \n",
              "3  千代田区  認可保育所  営利法人    あい保育園東神田  千代田区東神田２−６−５　東神田ビル２・３階  35.69564  139.78027   \n",
              "4  千代田区  認可保育所  社福法人   岩本町ちとせ保育園          千代田区岩本町２−１０−１２  35.69344  139.77722   \n",
              "\n",
              "     定員  \n",
              "0  87.0  \n",
              "1  50.0  \n",
              "2  36.0  \n",
              "3  63.0  \n",
              "4  69.0  "
            ],
            "text/html": [
              "\n",
              "  <div id=\"df-78ce74b6-c522-4a2c-b7ad-bba5e81c50b6\">\n",
              "    <div class=\"colab-df-container\">\n",
              "      <div>\n",
              "<style scoped>\n",
              "    .dataframe tbody tr th:only-of-type {\n",
              "        vertical-align: middle;\n",
              "    }\n",
              "\n",
              "    .dataframe tbody tr th {\n",
              "        vertical-align: top;\n",
              "    }\n",
              "\n",
              "    .dataframe thead th {\n",
              "        text-align: right;\n",
              "    }\n",
              "</style>\n",
              "<table border=\"1\" class=\"dataframe\">\n",
              "  <thead>\n",
              "    <tr style=\"text-align: right;\">\n",
              "      <th></th>\n",
              "      <th>市区町村名</th>\n",
              "      <th>施設分類</th>\n",
              "      <th>設置</th>\n",
              "      <th>名称</th>\n",
              "      <th>所在地</th>\n",
              "      <th>緯度</th>\n",
              "      <th>経度</th>\n",
              "      <th>定員</th>\n",
              "    </tr>\n",
              "  </thead>\n",
              "  <tbody>\n",
              "    <tr>\n",
              "      <th>0</th>\n",
              "      <td>千代田区</td>\n",
              "      <td>認可保育所</td>\n",
              "      <td>営利法人</td>\n",
              "      <td>ほっぺるランド外神田</td>\n",
              "      <td>千代田区外神田４−８−６</td>\n",
              "      <td>35.70233</td>\n",
              "      <td>139.77260</td>\n",
              "      <td>87.0</td>\n",
              "    </tr>\n",
              "    <tr>\n",
              "      <th>1</th>\n",
              "      <td>千代田区</td>\n",
              "      <td>認可保育所</td>\n",
              "      <td>社福法人</td>\n",
              "      <td>外神田かなりや保育園</td>\n",
              "      <td>千代田区外神田３−６−１３</td>\n",
              "      <td>35.70255</td>\n",
              "      <td>139.76976</td>\n",
              "      <td>50.0</td>\n",
              "    </tr>\n",
              "    <tr>\n",
              "      <th>2</th>\n",
              "      <td>千代田区</td>\n",
              "      <td>認可保育所</td>\n",
              "      <td>区市町村</td>\n",
              "      <td>いずみこども園</td>\n",
              "      <td>千代田区神田和泉町１</td>\n",
              "      <td>35.69919</td>\n",
              "      <td>139.77597</td>\n",
              "      <td>36.0</td>\n",
              "    </tr>\n",
              "    <tr>\n",
              "      <th>3</th>\n",
              "      <td>千代田区</td>\n",
              "      <td>認可保育所</td>\n",
              "      <td>営利法人</td>\n",
              "      <td>あい保育園東神田</td>\n",
              "      <td>千代田区東神田２−６−５　東神田ビル２・３階</td>\n",
              "      <td>35.69564</td>\n",
              "      <td>139.78027</td>\n",
              "      <td>63.0</td>\n",
              "    </tr>\n",
              "    <tr>\n",
              "      <th>4</th>\n",
              "      <td>千代田区</td>\n",
              "      <td>認可保育所</td>\n",
              "      <td>社福法人</td>\n",
              "      <td>岩本町ちとせ保育園</td>\n",
              "      <td>千代田区岩本町２−１０−１２</td>\n",
              "      <td>35.69344</td>\n",
              "      <td>139.77722</td>\n",
              "      <td>69.0</td>\n",
              "    </tr>\n",
              "  </tbody>\n",
              "</table>\n",
              "</div>\n",
              "      <button class=\"colab-df-convert\" onclick=\"convertToInteractive('df-78ce74b6-c522-4a2c-b7ad-bba5e81c50b6')\"\n",
              "              title=\"Convert this dataframe to an interactive table.\"\n",
              "              style=\"display:none;\">\n",
              "        \n",
              "  <svg xmlns=\"http://www.w3.org/2000/svg\" height=\"24px\"viewBox=\"0 0 24 24\"\n",
              "       width=\"24px\">\n",
              "    <path d=\"M0 0h24v24H0V0z\" fill=\"none\"/>\n",
              "    <path d=\"M18.56 5.44l.94 2.06.94-2.06 2.06-.94-2.06-.94-.94-2.06-.94 2.06-2.06.94zm-11 1L8.5 8.5l.94-2.06 2.06-.94-2.06-.94L8.5 2.5l-.94 2.06-2.06.94zm10 10l.94 2.06.94-2.06 2.06-.94-2.06-.94-.94-2.06-.94 2.06-2.06.94z\"/><path d=\"M17.41 7.96l-1.37-1.37c-.4-.4-.92-.59-1.43-.59-.52 0-1.04.2-1.43.59L10.3 9.45l-7.72 7.72c-.78.78-.78 2.05 0 2.83L4 21.41c.39.39.9.59 1.41.59.51 0 1.02-.2 1.41-.59l7.78-7.78 2.81-2.81c.8-.78.8-2.07 0-2.86zM5.41 20L4 18.59l7.72-7.72 1.47 1.35L5.41 20z\"/>\n",
              "  </svg>\n",
              "      </button>\n",
              "      \n",
              "  <style>\n",
              "    .colab-df-container {\n",
              "      display:flex;\n",
              "      flex-wrap:wrap;\n",
              "      gap: 12px;\n",
              "    }\n",
              "\n",
              "    .colab-df-convert {\n",
              "      background-color: #E8F0FE;\n",
              "      border: none;\n",
              "      border-radius: 50%;\n",
              "      cursor: pointer;\n",
              "      display: none;\n",
              "      fill: #1967D2;\n",
              "      height: 32px;\n",
              "      padding: 0 0 0 0;\n",
              "      width: 32px;\n",
              "    }\n",
              "\n",
              "    .colab-df-convert:hover {\n",
              "      background-color: #E2EBFA;\n",
              "      box-shadow: 0px 1px 2px rgba(60, 64, 67, 0.3), 0px 1px 3px 1px rgba(60, 64, 67, 0.15);\n",
              "      fill: #174EA6;\n",
              "    }\n",
              "\n",
              "    [theme=dark] .colab-df-convert {\n",
              "      background-color: #3B4455;\n",
              "      fill: #D2E3FC;\n",
              "    }\n",
              "\n",
              "    [theme=dark] .colab-df-convert:hover {\n",
              "      background-color: #434B5C;\n",
              "      box-shadow: 0px 1px 3px 1px rgba(0, 0, 0, 0.15);\n",
              "      filter: drop-shadow(0px 1px 2px rgba(0, 0, 0, 0.3));\n",
              "      fill: #FFFFFF;\n",
              "    }\n",
              "  </style>\n",
              "\n",
              "      <script>\n",
              "        const buttonEl =\n",
              "          document.querySelector('#df-78ce74b6-c522-4a2c-b7ad-bba5e81c50b6 button.colab-df-convert');\n",
              "        buttonEl.style.display =\n",
              "          google.colab.kernel.accessAllowed ? 'block' : 'none';\n",
              "\n",
              "        async function convertToInteractive(key) {\n",
              "          const element = document.querySelector('#df-78ce74b6-c522-4a2c-b7ad-bba5e81c50b6');\n",
              "          const dataTable =\n",
              "            await google.colab.kernel.invokeFunction('convertToInteractive',\n",
              "                                                     [key], {});\n",
              "          if (!dataTable) return;\n",
              "\n",
              "          const docLinkHtml = 'Like what you see? Visit the ' +\n",
              "            '<a target=\"_blank\" href=https://colab.research.google.com/notebooks/data_table.ipynb>data table notebook</a>'\n",
              "            + ' to learn more about interactive tables.';\n",
              "          element.innerHTML = '';\n",
              "          dataTable['output_type'] = 'display_data';\n",
              "          await google.colab.output.renderOutput(dataTable, element);\n",
              "          const docLink = document.createElement('div');\n",
              "          docLink.innerHTML = docLinkHtml;\n",
              "          element.appendChild(docLink);\n",
              "        }\n",
              "      </script>\n",
              "    </div>\n",
              "  </div>\n",
              "  "
            ]
          },
          "metadata": {},
          "execution_count": 14
        }
      ]
    },
    {
      "cell_type": "code",
      "source": [
        "plt.figure(figsize=(15, 5))\n",
        "sns.histplot(df_nursery_master, x='市区町村名', hue='施設分類', multiple='stack')\n",
        "plt.show()"
      ],
      "metadata": {
        "colab": {
          "base_uri": "https://localhost:8080/",
          "height": 333
        },
        "id": "rCgDh5Vtw10S",
        "outputId": "42268df7-53af-4563-de41-be68bc422e4f"
      },
      "execution_count": 15,
      "outputs": [
        {
          "output_type": "display_data",
          "data": {
            "text/plain": [
              "<Figure size 1080x360 with 1 Axes>"
            ],
            "image/png": "[encoded data removed]"
          },
          "metadata": {
            "needs_background": "light"
          }
        }
      ]
    },
    {
      "cell_type": "markdown",
      "source": [
        "### 人口マスタ"
      ],
      "metadata": {
        "id": "AlqD8mNcz8wX"
      }
    },
    {
      "cell_type": "code",
      "source": [
        "df_pop_master = pd.read_csv(os.path.join(DIR_NAME, 'population_master.csv'))[['town_id', '市区町村名', '町名', '町丁目', '0〜4歳（人）', '5〜9歳（人）']]\n",
        "df_pop_master['子供人数'] = df_pop_master['0〜4歳（人）'] + df_pop_master['5〜9歳（人）']\n",
        "print(df_pop_master.shape)"
      ],
      "metadata": {
        "colab": {
          "base_uri": "https://localhost:8080/"
        },
        "id": "u6_REO5iw4U-",
        "outputId": "015c16ff-a306-441b-b8fd-8a32c330f2b6"
      },
      "execution_count": 16,
      "outputs": [
        {
          "output_type": "stream",
          "name": "stdout",
          "text": [
            "(3145, 7)\n"
          ]
        }
      ]
    },
    {
      "cell_type": "markdown",
      "source": [
        "### 地理マスタ"
      ],
      "metadata": {
        "id": "Srv3-O3bMARp"
      }
    },
    {
      "cell_type": "code",
      "source": [
        "df_geo_master = pd.read_csv(os.path.join(DIR_NAME, 'geocoding.csv'))[['town_id', '緯度', '経度']]\n",
        "print(df_geo_master.shape)\n",
        "\n",
        "df_pop_master = pd.merge(\n",
        "    df_pop_master,\n",
        "    df_geo_master,\n",
        "    on='town_id', how='left'\n",
        ")\n",
        "assert len(df_pop_master) == len(df_geo_master)"
      ],
      "metadata": {
        "id": "vEUm4qCaL_mL",
        "outputId": "dd9dca20-0ba8-4435-f69d-60be2db2357d",
        "colab": {
          "base_uri": "https://localhost:8080/"
        }
      },
      "execution_count": 17,
      "outputs": [
        {
          "output_type": "stream",
          "name": "stdout",
          "text": [
            "(3145, 3)\n"
          ]
        }
      ]
    },
    {
      "cell_type": "code",
      "source": [
        "# 距離計算\n",
        "def get_distance(lat1, lon1, lat2, lon2):\n",
        "    _lat1 = lat1 * math.pi / 180\n",
        "    _lon1 = lon1 * math.pi / 180\n",
        "    _lat2 = lat2 * math.pi / 180\n",
        "    _lon2 = lon2 * math.pi / 180\n",
        "    _tmp = math.cos(_lat1) * math.cos(_lat2) * math.cos(_lon2 - _lon1) + math.sin(_lat1) * math.sin(_lat2)\n",
        "    _tmp = 1 if _tmp > 1 else -1 if _tmp < -1 else _tmp\n",
        "    return 6371 * math.acos(_tmp)\n",
        "\n",
        "# 最寄り施設までの距離\n",
        "def get_value_of_nearest_facility(df_master, df_facility, category, method='min', param=3):\n",
        "    _df_cat = df_facility[df_facility['施設分類'] == category].copy()\n",
        "    cat_values = []\n",
        "    for i, (lat, lon) in enumerate(zip(df_master['緯度'].values, df_master['経度'].values)):\n",
        "        dist = _df_cat[\n",
        "            ((_df_cat['緯度'] - lat).abs() < 0.02) &    # 約2km以内\n",
        "            ((_df_cat['経度'] - lon).abs() < 0.02)      # 約2km以内\n",
        "        ].apply(lambda x: get_distance(x['緯度'], x['経度'], lat, lon), axis=1)\n",
        "        val = np.NaN\n",
        "        if len(dist) > 0:\n",
        "            if method == 'min':\n",
        "                # 最小の距離\n",
        "                val = dist.min()\n",
        "            elif method == 'count':\n",
        "                # {param}km以内の施設の数をカウント\n",
        "                val = len(dist[dist <= param])\n",
        "            elif method == 'mean':\n",
        "                # 近い{param}件の距離の平均\n",
        "                val = dist.sort_values()[:param].mean()\n",
        "        else:\n",
        "            print(f'{category} not found {i}')\n",
        "        cat_values.append(val)\n",
        "    return cat_values\n",
        "\n",
        "# 最寄り施設までの距離\n",
        "def get_value_of_nearest_facility_2(df_master, df_facility, category, method='min', param=3):\n",
        "    _df_cat = df_facility[df_facility['施設分類'] == category].copy()\n",
        "    cat_values = []\n",
        "    for i, row in df_master.iterrows():\n",
        "        dist = _df_cat.apply(lambda x: get_distance(x['緯度'], x['経度'], row['緯度'], row['経度']), axis=1)\n",
        "        val = None\n",
        "        if method == 'min_param':\n",
        "            # 最小の距離の時の他のパラメータを返す\n",
        "            min_idx = dist.idxmin()\n",
        "            if np.isnan(min_idx):\n",
        "                val = np.NaN\n",
        "            else:\n",
        "                val = _df_cat.iloc[min_idx][param]\n",
        "        else:\n",
        "            assert False\n",
        "        cat_values.append(val)\n",
        "    return cat_values"
      ],
      "metadata": {
        "id": "rwRbaHZYz-og"
      },
      "execution_count": 18,
      "outputs": []
    },
    {
      "cell_type": "code",
      "source": [
        "def rank_score(sr_data):\n",
        "    rank = sr_data.rank()\n",
        "    rmax = rank.max()\n",
        "    rmin = rank.min()\n",
        "    max_val = 5\n",
        "    x = (rank - rmin)/(rmax - rmin) * max_val\n",
        "    return np.clip(x, 0, max_val)"
      ],
      "metadata": {
        "id": "xnhp6O2H-RuY"
      },
      "execution_count": 19,
      "outputs": []
    },
    {
      "cell_type": "markdown",
      "source": [
        "## 保育園スコア"
      ],
      "metadata": {
        "id": "Clz8aXvibArj"
      }
    },
    {
      "cell_type": "code",
      "source": [
        "%%time\n",
        "# 一番近い施設の距離\n",
        "df_pop_master['保育園(最近傍距離)'] = get_value_of_nearest_facility(df_pop_master, df_nursery_master, '認可保育所', 'min')\n",
        "# 0.5km以内の施設の数\n",
        "df_pop_master['保育園(数)'] = get_value_of_nearest_facility(df_pop_master, df_nursery_master, '認可保育所', 'count', 0.5)\n",
        "# 最寄りの保育園\n",
        "df_pop_master['最寄りの保育園'] = get_value_of_nearest_facility_2(df_pop_master, df_nursery_master, '認可保育所', 'min_param', '名称')\n",
        "# 最寄りの保育園の定員\n",
        "df_pop_master['保育園(定員)'] = get_value_of_nearest_facility_2(df_pop_master, df_nursery_master, '認可保育所', 'min_param', '定員')\n",
        "\n",
        "# 一番近い施設の距離\n",
        "df_pop_master['児童館(最近傍距離)'] = get_value_of_nearest_facility(df_pop_master, df_nursery_master, '児童館', 'min')\n",
        "# 0.5km以内の施設の数\n",
        "df_pop_master['児童館(数)'] = get_value_of_nearest_facility(df_pop_master, df_nursery_master, '児童館', 'count', 0.5)"
      ],
      "metadata": {
        "colab": {
          "base_uri": "https://localhost:8080/"
        },
        "id": "kvmdznFL0MdV",
        "outputId": "34b18fc7-dad7-4590-ed11-8b62c18f800b"
      },
      "execution_count": 20,
      "outputs": [
        {
          "output_type": "stream",
          "name": "stdout",
          "text": [
            "認可保育所 not found 836\n",
            "認可保育所 not found 911\n",
            "認可保育所 not found 916\n",
            "認可保育所 not found 917\n",
            "認可保育所 not found 918\n",
            "認可保育所 not found 1050\n",
            "認可保育所 not found 1220\n",
            "認可保育所 not found 1221\n",
            "認可保育所 not found 1222\n",
            "認可保育所 not found 1223\n",
            "認可保育所 not found 1224\n",
            "認可保育所 not found 1225\n",
            "認可保育所 not found 1301\n",
            "認可保育所 not found 1354\n",
            "認可保育所 not found 1357\n",
            "認可保育所 not found 2830\n",
            "認可保育所 not found 836\n",
            "認可保育所 not found 911\n",
            "認可保育所 not found 916\n",
            "認可保育所 not found 917\n",
            "認可保育所 not found 918\n",
            "認可保育所 not found 1050\n",
            "認可保育所 not found 1220\n",
            "認可保育所 not found 1221\n",
            "認可保育所 not found 1222\n",
            "認可保育所 not found 1223\n",
            "認可保育所 not found 1224\n",
            "認可保育所 not found 1225\n",
            "認可保育所 not found 1301\n",
            "認可保育所 not found 1354\n",
            "認可保育所 not found 1357\n",
            "認可保育所 not found 2830\n",
            "児童館 not found 836\n",
            "児童館 not found 911\n",
            "児童館 not found 912\n",
            "児童館 not found 915\n",
            "児童館 not found 916\n",
            "児童館 not found 917\n",
            "児童館 not found 918\n",
            "児童館 not found 1050\n",
            "児童館 not found 1217\n",
            "児童館 not found 1218\n",
            "児童館 not found 1219\n",
            "児童館 not found 1220\n",
            "児童館 not found 1221\n",
            "児童館 not found 1222\n",
            "児童館 not found 1223\n",
            "児童館 not found 1224\n",
            "児童館 not found 1225\n",
            "児童館 not found 1226\n",
            "児童館 not found 1301\n",
            "児童館 not found 1354\n",
            "児童館 not found 1357\n",
            "児童館 not found 2830\n",
            "児童館 not found 3101\n",
            "児童館 not found 3102\n",
            "児童館 not found 3107\n",
            "児童館 not found 3118\n",
            "児童館 not found 3119\n",
            "児童館 not found 3120\n",
            "児童館 not found 3121\n",
            "児童館 not found 3122\n",
            "児童館 not found 3136\n",
            "児童館 not found 3139\n",
            "児童館 not found 3140\n",
            "児童館 not found 3141\n",
            "児童館 not found 3142\n",
            "児童館 not found 3143\n",
            "児童館 not found 3144\n",
            "児童館 not found 836\n",
            "児童館 not found 911\n",
            "児童館 not found 912\n",
            "児童館 not found 915\n",
            "児童館 not found 916\n",
            "児童館 not found 917\n",
            "児童館 not found 918\n",
            "児童館 not found 1050\n",
            "児童館 not found 1217\n",
            "児童館 not found 1218\n",
            "児童館 not found 1219\n",
            "児童館 not found 1220\n",
            "児童館 not found 1221\n",
            "児童館 not found 1222\n",
            "児童館 not found 1223\n",
            "児童館 not found 1224\n",
            "児童館 not found 1225\n",
            "児童館 not found 1226\n",
            "児童館 not found 1301\n",
            "児童館 not found 1354\n",
            "児童館 not found 1357\n",
            "児童館 not found 2830\n",
            "児童館 not found 3101\n",
            "児童館 not found 3102\n",
            "児童館 not found 3107\n",
            "児童館 not found 3118\n",
            "児童館 not found 3119\n",
            "児童館 not found 3120\n",
            "児童館 not found 3121\n",
            "児童館 not found 3122\n",
            "児童館 not found 3136\n",
            "児童館 not found 3139\n",
            "児童館 not found 3140\n",
            "児童館 not found 3141\n",
            "児童館 not found 3142\n",
            "児童館 not found 3143\n",
            "児童館 not found 3144\n",
            "CPU times: user 5min 44s, sys: 1.3 s, total: 5min 45s\n",
            "Wall time: 5min 53s\n"
          ]
        }
      ]
    },
    {
      "cell_type": "code",
      "source": [
        "df_pop_master['保育園(定員割合)'] = df_pop_master['保育園(定員)'] / df_pop_master['子供人数']\n",
        "df_pop_master['保育園(定員割合)'] = df_pop_master['保育園(定員割合)'].replace(np.inf, np.nan).fillna(0)\n",
        "df_pop_master['保育園(待機児童数)'] = df_pop_master['市区町村名'].map(waiting_children)"
      ],
      "metadata": {
        "id": "L2yOS3kcjmpQ"
      },
      "execution_count": 21,
      "outputs": []
    },
    {
      "cell_type": "code",
      "source": [
        "print(df_pop_master.shape)\n",
        "df_pop_master.head()"
      ],
      "metadata": {
        "colab": {
          "base_uri": "https://localhost:8080/",
          "height": 372
        },
        "id": "YyIAuJht1b2-",
        "outputId": "aef4aaf3-a65f-4f37-ef31-1314beddbbab"
      },
      "execution_count": 22,
      "outputs": [
        {
          "output_type": "stream",
          "name": "stdout",
          "text": [
            "(3145, 17)\n"
          ]
        },
        {
          "output_type": "execute_result",
          "data": {
            "text/plain": [
              "   town_id 市区町村名   町名     町丁目  0〜4歳（人）  5〜9歳（人）  子供人数         緯度          経度  \\\n",
              "0   101003  千代田区  丸の内  丸の内１丁目        0        0     0  35.681560  139.767201   \n",
              "1   101004  千代田区  丸の内  丸の内２丁目        0        0     0  35.680022  139.763447   \n",
              "2   101005  千代田区  丸の内  丸の内３丁目        0        0     0  35.676952  139.763476   \n",
              "3   101007  千代田区  大手町  大手町１丁目        0        0     0  35.688069  139.763929   \n",
              "4   101008  千代田区  大手町  大手町２丁目        0        0     0  35.686301  139.768087   \n",
              "\n",
              "   保育園(最近傍距離)  保育園(数)     最寄りの保育園  保育園(定員)  児童館(最近傍距離)  児童館(数)  保育園(定員割合)  \\\n",
              "0    0.771120     0.0   ＥＤＯ日本橋保育園     60.0    1.250671     0.0        0.0   \n",
              "1    0.867233     0.0  まなびの森保育園銀座     93.0    1.630144     0.0        0.0   \n",
              "2    0.660061     0.0  まなびの森保育園銀座     93.0    1.610162     0.0        0.0   \n",
              "3    0.360707     1.0  ベネッセ内神田保育園     60.0    1.390937     0.0        0.0   \n",
              "4    0.311889     1.0  ベネッセ内神田保育園     60.0    1.014409     0.0        0.0   \n",
              "\n",
              "   保育園(待機児童数)  \n",
              "0           0  \n",
              "1           0  \n",
              "2           0  \n",
              "3           0  \n",
              "4           0  "
            ],
            "text/html": [
              "\n",
              "  <div id=\"df-ec12fec3-040f-420a-964f-803b38ea87ba\">\n",
              "    <div class=\"colab-df-container\">\n",
              "      <div>\n",
              "<style scoped>\n",
              "    .dataframe tbody tr th:only-of-type {\n",
              "        vertical-align: middle;\n",
              "    }\n",
              "\n",
              "    .dataframe tbody tr th {\n",
              "        vertical-align: top;\n",
              "    }\n",
              "\n",
              "    .dataframe thead th {\n",
              "        text-align: right;\n",
              "    }\n",
              "</style>\n",
              "<table border=\"1\" class=\"dataframe\">\n",
              "  <thead>\n",
              "    <tr style=\"text-align: right;\">\n",
              "      <th></th>\n",
              "      <th>town_id</th>\n",
              "      <th>市区町村名</th>\n",
              "      <th>町名</th>\n",
              "      <th>町丁目</th>\n",
              "      <th>0〜4歳（人）</th>\n",
              "      <th>5〜9歳（人）</th>\n",
              "      <th>子供人数</th>\n",
              "      <th>緯度</th>\n",
              "      <th>経度</th>\n",
              "      <th>保育園(最近傍距離)</th>\n",
              "      <th>保育園(数)</th>\n",
              "      <th>最寄りの保育園</th>\n",
              "      <th>保育園(定員)</th>\n",
              "      <th>児童館(最近傍距離)</th>\n",
              "      <th>児童館(数)</th>\n",
              "      <th>保育園(定員割合)</th>\n",
              "      <th>保育園(待機児童数)</th>\n",
              "    </tr>\n",
              "  </thead>\n",
              "  <tbody>\n",
              "    <tr>\n",
              "      <th>0</th>\n",
              "      <td>101003</td>\n",
              "      <td>千代田区</td>\n",
              "      <td>丸の内</td>\n",
              "      <td>丸の内１丁目</td>\n",
              "      <td>0</td>\n",
              "      <td>0</td>\n",
              "      <td>0</td>\n",
              "      <td>35.681560</td>\n",
              "      <td>139.767201</td>\n",
              "      <td>0.771120</td>\n",
              "      <td>0.0</td>\n",
              "      <td>ＥＤＯ日本橋保育園</td>\n",
              "      <td>60.0</td>\n",
              "      <td>1.250671</td>\n",
              "      <td>0.0</td>\n",
              "      <td>0.0</td>\n",
              "      <td>0</td>\n",
              "    </tr>\n",
              "    <tr>\n",
              "      <th>1</th>\n",
              "      <td>101004</td>\n",
              "      <td>千代田区</td>\n",
              "      <td>丸の内</td>\n",
              "      <td>丸の内２丁目</td>\n",
              "      <td>0</td>\n",
              "      <td>0</td>\n",
              "      <td>0</td>\n",
              "      <td>35.680022</td>\n",
              "      <td>139.763447</td>\n",
              "      <td>0.867233</td>\n",
              "      <td>0.0</td>\n",
              "      <td>まなびの森保育園銀座</td>\n",
              "      <td>93.0</td>\n",
              "      <td>1.630144</td>\n",
              "      <td>0.0</td>\n",
              "      <td>0.0</td>\n",
              "      <td>0</td>\n",
              "    </tr>\n",
              "    <tr>\n",
              "      <th>2</th>\n",
              "      <td>101005</td>\n",
              "      <td>千代田区</td>\n",
              "      <td>丸の内</td>\n",
              "      <td>丸の内３丁目</td>\n",
              "      <td>0</td>\n",
              "      <td>0</td>\n",
              "      <td>0</td>\n",
              "      <td>35.676952</td>\n",
              "      <td>139.763476</td>\n",
              "      <td>0.660061</td>\n",
              "      <td>0.0</td>\n",
              "      <td>まなびの森保育園銀座</td>\n",
              "      <td>93.0</td>\n",
              "      <td>1.610162</td>\n",
              "      <td>0.0</td>\n",
              "      <td>0.0</td>\n",
              "      <td>0</td>\n",
              "    </tr>\n",
              "    <tr>\n",
              "      <th>3</th>\n",
              "      <td>101007</td>\n",
              "      <td>千代田区</td>\n",
              "      <td>大手町</td>\n",
              "      <td>大手町１丁目</td>\n",
              "      <td>0</td>\n",
              "      <td>0</td>\n",
              "      <td>0</td>\n",
              "      <td>35.688069</td>\n",
              "      <td>139.763929</td>\n",
              "      <td>0.360707</td>\n",
              "      <td>1.0</td>\n",
              "      <td>ベネッセ内神田保育園</td>\n",
              "      <td>60.0</td>\n",
              "      <td>1.390937</td>\n",
              "      <td>0.0</td>\n",
              "      <td>0.0</td>\n",
              "      <td>0</td>\n",
              "    </tr>\n",
              "    <tr>\n",
              "      <th>4</th>\n",
              "      <td>101008</td>\n",
              "      <td>千代田区</td>\n",
              "      <td>大手町</td>\n",
              "      <td>大手町２丁目</td>\n",
              "      <td>0</td>\n",
              "      <td>0</td>\n",
              "      <td>0</td>\n",
              "      <td>35.686301</td>\n",
              "      <td>139.768087</td>\n",
              "      <td>0.311889</td>\n",
              "      <td>1.0</td>\n",
              "      <td>ベネッセ内神田保育園</td>\n",
              "      <td>60.0</td>\n",
              "      <td>1.014409</td>\n",
              "      <td>0.0</td>\n",
              "      <td>0.0</td>\n",
              "      <td>0</td>\n",
              "    </tr>\n",
              "  </tbody>\n",
              "</table>\n",
              "</div>\n",
              "      <button class=\"colab-df-convert\" onclick=\"convertToInteractive('df-ec12fec3-040f-420a-964f-803b38ea87ba')\"\n",
              "              title=\"Convert this dataframe to an interactive table.\"\n",
              "              style=\"display:none;\">\n",
              "        \n",
              "  <svg xmlns=\"http://www.w3.org/2000/svg\" height=\"24px\"viewBox=\"0 0 24 24\"\n",
              "       width=\"24px\">\n",
              "    <path d=\"M0 0h24v24H0V0z\" fill=\"none\"/>\n",
              "    <path d=\"M18.56 5.44l.94 2.06.94-2.06 2.06-.94-2.06-.94-.94-2.06-.94 2.06-2.06.94zm-11 1L8.5 8.5l.94-2.06 2.06-.94-2.06-.94L8.5 2.5l-.94 2.06-2.06.94zm10 10l.94 2.06.94-2.06 2.06-.94-2.06-.94-.94-2.06-.94 2.06-2.06.94z\"/><path d=\"M17.41 7.96l-1.37-1.37c-.4-.4-.92-.59-1.43-.59-.52 0-1.04.2-1.43.59L10.3 9.45l-7.72 7.72c-.78.78-.78 2.05 0 2.83L4 21.41c.39.39.9.59 1.41.59.51 0 1.02-.2 1.41-.59l7.78-7.78 2.81-2.81c.8-.78.8-2.07 0-2.86zM5.41 20L4 18.59l7.72-7.72 1.47 1.35L5.41 20z\"/>\n",
              "  </svg>\n",
              "      </button>\n",
              "      \n",
              "  <style>\n",
              "    .colab-df-container {\n",
              "      display:flex;\n",
              "      flex-wrap:wrap;\n",
              "      gap: 12px;\n",
              "    }\n",
              "\n",
              "    .colab-df-convert {\n",
              "      background-color: #E8F0FE;\n",
              "      border: none;\n",
              "      border-radius: 50%;\n",
              "      cursor: pointer;\n",
              "      display: none;\n",
              "      fill: #1967D2;\n",
              "      height: 32px;\n",
              "      padding: 0 0 0 0;\n",
              "      width: 32px;\n",
              "    }\n",
              "\n",
              "    .colab-df-convert:hover {\n",
              "      background-color: #E2EBFA;\n",
              "      box-shadow: 0px 1px 2px rgba(60, 64, 67, 0.3), 0px 1px 3px 1px rgba(60, 64, 67, 0.15);\n",
              "      fill: #174EA6;\n",
              "    }\n",
              "\n",
              "    [theme=dark] .colab-df-convert {\n",
              "      background-color: #3B4455;\n",
              "      fill: #D2E3FC;\n",
              "    }\n",
              "\n",
              "    [theme=dark] .colab-df-convert:hover {\n",
              "      background-color: #434B5C;\n",
              "      box-shadow: 0px 1px 3px 1px rgba(0, 0, 0, 0.15);\n",
              "      filter: drop-shadow(0px 1px 2px rgba(0, 0, 0, 0.3));\n",
              "      fill: #FFFFFF;\n",
              "    }\n",
              "  </style>\n",
              "\n",
              "      <script>\n",
              "        const buttonEl =\n",
              "          document.querySelector('#df-ec12fec3-040f-420a-964f-803b38ea87ba button.colab-df-convert');\n",
              "        buttonEl.style.display =\n",
              "          google.colab.kernel.accessAllowed ? 'block' : 'none';\n",
              "\n",
              "        async function convertToInteractive(key) {\n",
              "          const element = document.querySelector('#df-ec12fec3-040f-420a-964f-803b38ea87ba');\n",
              "          const dataTable =\n",
              "            await google.colab.kernel.invokeFunction('convertToInteractive',\n",
              "                                                     [key], {});\n",
              "          if (!dataTable) return;\n",
              "\n",
              "          const docLinkHtml = 'Like what you see? Visit the ' +\n",
              "            '<a target=\"_blank\" href=https://colab.research.google.com/notebooks/data_table.ipynb>data table notebook</a>'\n",
              "            + ' to learn more about interactive tables.';\n",
              "          element.innerHTML = '';\n",
              "          dataTable['output_type'] = 'display_data';\n",
              "          await google.colab.output.renderOutput(dataTable, element);\n",
              "          const docLink = document.createElement('div');\n",
              "          docLink.innerHTML = docLinkHtml;\n",
              "          element.appendChild(docLink);\n",
              "        }\n",
              "      </script>\n",
              "    </div>\n",
              "  </div>\n",
              "  "
            ]
          },
          "metadata": {},
          "execution_count": 22
        }
      ]
    },
    {
      "cell_type": "markdown",
      "source": [
        "### 保育園スコア"
      ],
      "metadata": {
        "id": "dkXqmuCgjXsm"
      }
    },
    {
      "cell_type": "code",
      "source": [
        "all_feature_list = []\n",
        "all_score_list = []"
      ],
      "metadata": {
        "id": "ZBOeM7_9ja1s"
      },
      "execution_count": 23,
      "outputs": []
    },
    {
      "cell_type": "code",
      "source": [
        "score_name = '保育園スコア'\n",
        "feature_list = {\n",
        "    '保育園(最近傍距離)':   {'sort': -1, 'weight': 1}, \n",
        "    '保育園(数)':           {'sort': 1, 'weight': 0.5},\n",
        "    '保育園(定員割合)':     {'sort': 1, 'weight': 0.8},\n",
        "    '保育園(待機児童数)':   {'sort': -1, 'weight': 0.5}, \n",
        "}\n",
        "all_feature_list += list(feature_list.keys())\n",
        "all_score_list.append(score_name)"
      ],
      "metadata": {
        "id": "UZQmuxmijcAl"
      },
      "execution_count": 24,
      "outputs": []
    },
    {
      "cell_type": "code",
      "source": [
        "for feature_name in feature_list.keys():\n",
        "    sns.histplot(df_pop_master[feature_name], bins=20)\n",
        "    plt.show()"
      ],
      "metadata": {
        "id": "ff7KgX4tcQwb",
        "outputId": "bfb855e1-bdd0-4527-f9ea-e9c0477e7f29",
        "colab": {
          "base_uri": "https://localhost:8080/",
          "height": 1000
        }
      },
      "execution_count": 25,
      "outputs": [
        {
          "output_type": "display_data",
          "data": {
            "text/plain": [
              "<Figure size 432x288 with 1 Axes>"
            ],
            "image/png": "[encoded data removed]"
          },
          "metadata": {
            "needs_background": "light"
          }
        },
        {
          "output_type": "display_data",
          "data": {
            "text/plain": [
              "<Figure size 432x288 with 1 Axes>"
            ],
            "image/png": "[encoded data removed]"
          },
          "metadata": {
            "needs_background": "light"
          }
        },
        {
          "output_type": "display_data",
          "data": {
            "text/plain": [
              "<Figure size 432x288 with 1 Axes>"
            ],
            "image/png": "[encoded data removed]"
          },
          "metadata": {
            "needs_background": "light"
          }
        },
        {
          "output_type": "display_data",
          "data": {
            "text/plain": [
              "<Figure size 432x288 with 1 Axes>"
            ],
            "image/png": "[encoded data removed]"
          },
          "metadata": {
            "needs_background": "light"
          }
        }
      ]
    },
    {
      "cell_type": "code",
      "source": [
        "score_list = []\n",
        "for key, value in feature_list.items():\n",
        "    df_pop_master[f'{key}レベル'] = rank_score(df_pop_master[key] * value['sort'])\n",
        "    score_list.append(df_pop_master[f'{key}レベル'] * value['weight'])\n",
        "\n",
        "_tmp_score = pd.concat(score_list, axis=1).sum(axis=1, skipna=False)\n",
        "df_pop_master[score_name] = rank_score(_tmp_score)"
      ],
      "metadata": {
        "id": "p4we131idJvG"
      },
      "execution_count": 26,
      "outputs": []
    },
    {
      "cell_type": "code",
      "source": [
        "sns.histplot(_tmp_score, bins=20)\n",
        "plt.show()"
      ],
      "metadata": {
        "id": "61ZH8_sckxqk",
        "outputId": "240ad908-f43c-4a40-fa3c-8035d3292069",
        "colab": {
          "base_uri": "https://localhost:8080/",
          "height": 264
        }
      },
      "execution_count": 27,
      "outputs": [
        {
          "output_type": "display_data",
          "data": {
            "text/plain": [
              "<Figure size 432x288 with 1 Axes>"
            ],
            "image/png": "[encoded data removed]"
          },
          "metadata": {
            "needs_background": "light"
          }
        }
      ]
    },
    {
      "cell_type": "code",
      "source": [
        "sns.histplot(df_pop_master[score_name], bins=20)\n",
        "plt.show()"
      ],
      "metadata": {
        "id": "bHgokmxpkzjn",
        "outputId": "adad8518-4433-4214-fe74-420f1bd2531d",
        "colab": {
          "base_uri": "https://localhost:8080/",
          "height": 278
        }
      },
      "execution_count": 28,
      "outputs": [
        {
          "output_type": "display_data",
          "data": {
            "text/plain": [
              "<Figure size 432x288 with 1 Axes>"
            ],
            "image/png": "[encoded data removed]"
          },
          "metadata": {
            "needs_background": "light"
          }
        }
      ]
    },
    {
      "cell_type": "code",
      "source": [
        "df_pop_master[score_name].describe()"
      ],
      "metadata": {
        "id": "CHKs7xMt-ug2",
        "outputId": "2cdde40c-8151-4dd5-ca91-1c34df86abda",
        "colab": {
          "base_uri": "https://localhost:8080/"
        }
      },
      "execution_count": 29,
      "outputs": [
        {
          "output_type": "execute_result",
          "data": {
            "text/plain": [
              "count    3129.000000\n",
              "mean        2.500000\n",
              "std         1.444068\n",
              "min         0.000000\n",
              "25%         1.250000\n",
              "50%         2.500000\n",
              "75%         3.750000\n",
              "max         5.000000\n",
              "Name: 保育園スコア, dtype: float64"
            ]
          },
          "metadata": {},
          "execution_count": 29
        }
      ]
    },
    {
      "cell_type": "markdown",
      "source": [
        "### 児童館スコア"
      ],
      "metadata": {
        "id": "62EEQcqJk6UG"
      }
    },
    {
      "cell_type": "code",
      "source": [
        "score_name = '児童館スコア'\n",
        "feature_list = {\n",
        "    '児童館(最近傍距離)':       {'sort': -1, 'weight': 1}, \n",
        "    '児童館(数)':               {'sort': 1, 'weight': 0.5},\n",
        "}\n",
        "all_feature_list += list(feature_list.keys())\n",
        "all_score_list.append(score_name)"
      ],
      "metadata": {
        "id": "NsztLgoyk20p"
      },
      "execution_count": 30,
      "outputs": []
    },
    {
      "cell_type": "code",
      "source": [
        "for feature_name in feature_list.keys():\n",
        "    sns.histplot(df_pop_master[feature_name], bins=20)\n",
        "    plt.show()"
      ],
      "metadata": {
        "id": "_0BGYVvwk2xx",
        "outputId": "262de5ea-89b9-40bf-ce73-5181d1c6eeff",
        "colab": {
          "base_uri": "https://localhost:8080/",
          "height": 539
        }
      },
      "execution_count": 31,
      "outputs": [
        {
          "output_type": "display_data",
          "data": {
            "text/plain": [
              "<Figure size 432x288 with 1 Axes>"
            ],
            "image/png": "[encoded data removed]"
          },
          "metadata": {
            "needs_background": "light"
          }
        },
        {
          "output_type": "display_data",
          "data": {
            "text/plain": [
              "<Figure size 432x288 with 1 Axes>"
            ],
            "image/png": "[encoded data removed]"
          },
          "metadata": {
            "needs_background": "light"
          }
        }
      ]
    },
    {
      "cell_type": "code",
      "source": [
        "score_list = []\n",
        "for key, value in feature_list.items():\n",
        "    df_pop_master[f'{key}レベル'] = rank_score(df_pop_master[key] * value['sort'])\n",
        "    score_list.append(df_pop_master[f'{key}レベル'] * value['weight'])\n",
        "\n",
        "_tmp_score = pd.concat(score_list, axis=1).sum(axis=1, skipna=False)\n",
        "df_pop_master[score_name] = rank_score(_tmp_score)"
      ],
      "metadata": {
        "id": "Ls6G0RB0k2ty"
      },
      "execution_count": 32,
      "outputs": []
    },
    {
      "cell_type": "code",
      "source": [
        "sns.histplot(_tmp_score, bins=20)\n",
        "plt.show()"
      ],
      "metadata": {
        "id": "be8sa8jak2ol",
        "outputId": "ec6e61f5-360b-4f50-c80f-f588efeceec5",
        "colab": {
          "base_uri": "https://localhost:8080/",
          "height": 264
        }
      },
      "execution_count": 33,
      "outputs": [
        {
          "output_type": "display_data",
          "data": {
            "text/plain": [
              "<Figure size 432x288 with 1 Axes>"
            ],
            "image/png": "[encoded data removed]"
          },
          "metadata": {
            "needs_background": "light"
          }
        }
      ]
    },
    {
      "cell_type": "code",
      "source": [
        "sns.histplot(df_pop_master[score_name], bins=20)\n",
        "plt.show()"
      ],
      "metadata": {
        "id": "Q-xjejDWlLJ9",
        "outputId": "e60582d6-aba2-4bbd-96ff-4c0c5ef7345a",
        "colab": {
          "base_uri": "https://localhost:8080/",
          "height": 278
        }
      },
      "execution_count": 34,
      "outputs": [
        {
          "output_type": "display_data",
          "data": {
            "text/plain": [
              "<Figure size 432x288 with 1 Axes>"
            ],
            "image/png": "[encoded data removed]"
          },
          "metadata": {
            "needs_background": "light"
          }
        }
      ]
    },
    {
      "cell_type": "code",
      "source": [
        "df_pop_master[score_name].describe()"
      ],
      "metadata": {
        "id": "qziOKLDz-yG8",
        "outputId": "0bc6761a-bc0c-4e79-c721-7e2d4b8cc4e6",
        "colab": {
          "base_uri": "https://localhost:8080/"
        }
      },
      "execution_count": 35,
      "outputs": [
        {
          "output_type": "execute_result",
          "data": {
            "text/plain": [
              "count    3108.000000\n",
              "mean        2.500000\n",
              "std         1.444072\n",
              "min         0.000000\n",
              "25%         1.250000\n",
              "50%         2.500000\n",
              "75%         3.750000\n",
              "max         5.000000\n",
              "Name: 児童館スコア, dtype: float64"
            ]
          },
          "metadata": {},
          "execution_count": 35
        }
      ]
    },
    {
      "cell_type": "markdown",
      "source": [
        "### 保存"
      ],
      "metadata": {
        "id": "ECzqMy7YlRJO"
      }
    },
    {
      "cell_type": "code",
      "source": [
        "all_feature_list"
      ],
      "metadata": {
        "id": "rz_Py-xblS88",
        "outputId": "1a89fc1b-4415-4a64-f89d-2bfdb6893567",
        "colab": {
          "base_uri": "https://localhost:8080/"
        }
      },
      "execution_count": 36,
      "outputs": [
        {
          "output_type": "execute_result",
          "data": {
            "text/plain": [
              "['保育園(最近傍距離)', '保育園(数)', '保育園(定員割合)', '保育園(待機児童数)', '児童館(最近傍距離)', '児童館(数)']"
            ]
          },
          "metadata": {},
          "execution_count": 36
        }
      ]
    },
    {
      "cell_type": "code",
      "source": [
        "all_score_list"
      ],
      "metadata": {
        "id": "B42hBATVlU0P",
        "outputId": "59850160-58af-42f1-cf30-295560a3f26d",
        "colab": {
          "base_uri": "https://localhost:8080/"
        }
      },
      "execution_count": 37,
      "outputs": [
        {
          "output_type": "execute_result",
          "data": {
            "text/plain": [
              "['保育園スコア', '児童館スコア']"
            ]
          },
          "metadata": {},
          "execution_count": 37
        }
      ]
    },
    {
      "cell_type": "code",
      "source": [
        "df_pop_master['保育園(最近傍距離)'] = df_pop_master['保育園(最近傍距離)'].round(3)\n",
        "df_pop_master['児童館(最近傍距離)'] = df_pop_master['児童館(最近傍距離)'].round(3)\n",
        "df_pop_master['保育園(定員割合)'] = df_pop_master['保育園(定員割合)'].round(2)\n",
        "for col in all_score_list:\n",
        "    df_pop_master[col] = df_pop_master[col].round(2)"
      ],
      "metadata": {
        "id": "azAg3U_7lXAO"
      },
      "execution_count": 38,
      "outputs": []
    },
    {
      "cell_type": "code",
      "source": [
        "df_pop_master[\n",
        "    ['town_id'] + all_feature_list + all_score_list\n",
        "].to_csv(os.path.join(DIR_NAME, output_score_file), index=False, encoding='utf-8_sig')"
      ],
      "metadata": {
        "id": "AqDrjIdB-jOO"
      },
      "execution_count": 39,
      "outputs": []
    },
    {
      "cell_type": "code",
      "source": [
        "for _score in all_score_list:\n",
        "    plt.figure(figsize=(15, 5))\n",
        "    sns.barplot(x='市区町村名', y=_score, data=df_pop_master)\n",
        "    plt.show()"
      ],
      "metadata": {
        "colab": {
          "base_uri": "https://localhost:8080/",
          "height": 649
        },
        "id": "WmM2Bvqu-lKP",
        "outputId": "d3eb2e98-72f1-4887-c090-54cfa540527c"
      },
      "execution_count": 40,
      "outputs": [
        {
          "output_type": "display_data",
          "data": {
            "text/plain": [
              "<Figure size 1080x360 with 1 Axes>"
            ],
            "image/png": "[encoded data removed]"
          },
          "metadata": {
            "needs_background": "light"
          }
        },
        {
          "output_type": "display_data",
          "data": {
            "text/plain": [
              "<Figure size 1080x360 with 1 Axes>"
            ],
            "image/png": "[encoded data removed]"
          },
          "metadata": {
            "needs_background": "light"
          }
        }
      ]
    },
    {
      "cell_type": "code",
      "source": [
        "def get_score_top(df_data, target, ):\n",
        "    df_level = df_data.copy()\n",
        "    score_name = f'{target}スコア'\n",
        "    feature_cols = [col for col in all_feature_list if col.startswith(target)]\n",
        "    df_level['rank'] = df_level.groupby('町名')[score_name].transform('rank', ascending=False)\n",
        "    df_level = df_level[df_level['rank'] == 1].sort_values(score_name, ascending=False)[\n",
        "        ['市区町村名', '町名', '町丁目'] + feature_cols + [score_name]\n",
        "    ].reset_index(drop=True)\n",
        "    return df_level"
      ],
      "metadata": {
        "id": "mzCPqCTbl4GU"
      },
      "execution_count": 41,
      "outputs": []
    },
    {
      "cell_type": "code",
      "source": [
        "df_level = get_score_top(df_pop_master, '保育園')\n",
        "print(df_level.shape)\n",
        "df_level.head(10)"
      ],
      "metadata": {
        "id": "YPCIt6kfmEXE",
        "outputId": "9ec250c0-4000-433b-9223-3a9f3509ed26",
        "colab": {
          "base_uri": "https://localhost:8080/",
          "height": 380
        }
      },
      "execution_count": 42,
      "outputs": [
        {
          "output_type": "stream",
          "name": "stdout",
          "text": [
            "(903, 8)\n"
          ]
        },
        {
          "output_type": "execute_result",
          "data": {
            "text/plain": [
              "  市区町村名      町名        町丁目  保育園(最近傍距離)  保育園(数)  保育園(定員割合)  保育園(待機児童数)  保育園スコア\n",
              "0   中央区      入船      入船３丁目       0.019     7.0       1.00           0    5.00\n",
              "1   練馬区     関町東     関町東２丁目       0.022     7.0       2.15           0    5.00\n",
              "2   杉並区      上荻      上荻１丁目       0.031     8.0       1.34           0    5.00\n",
              "3   中央区  日本橋人形町  日本橋人形町３丁目       0.004    12.0       0.88           0    5.00\n",
              "4   品川区     東中延     東中延２丁目       0.038     8.0       0.92           0    4.99\n",
              "5   品川区     南品川     南品川１丁目       0.065     9.0       1.02           0    4.99\n",
              "6   江東区      富岡      富岡２丁目       0.070    10.0       1.11           0    4.99\n",
              "7   中央区  日本橋蠣殻町  日本橋蠣殻町２丁目       0.100     9.0       2.36           0    4.99\n",
              "8   江東区      白河      白河１丁目       0.058     8.0       1.05           0    4.99\n",
              "9    港区     麻布台     麻布台２丁目       0.078     6.0       4.28           0    4.98"
            ],
            "text/html": [
              "\n",
              "  <div id=\"df-4e3de5ba-14aa-442c-8d19-65dbd78e1205\">\n",
              "    <div class=\"colab-df-container\">\n",
              "      <div>\n",
              "<style scoped>\n",
              "    .dataframe tbody tr th:only-of-type {\n",
              "        vertical-align: middle;\n",
              "    }\n",
              "\n",
              "    .dataframe tbody tr th {\n",
              "        vertical-align: top;\n",
              "    }\n",
              "\n",
              "    .dataframe thead th {\n",
              "        text-align: right;\n",
              "    }\n",
              "</style>\n",
              "<table border=\"1\" class=\"dataframe\">\n",
              "  <thead>\n",
              "    <tr style=\"text-align: right;\">\n",
              "      <th></th>\n",
              "      <th>市区町村名</th>\n",
              "      <th>町名</th>\n",
              "      <th>町丁目</th>\n",
              "      <th>保育園(最近傍距離)</th>\n",
              "      <th>保育園(数)</th>\n",
              "      <th>保育園(定員割合)</th>\n",
              "      <th>保育園(待機児童数)</th>\n",
              "      <th>保育園スコア</th>\n",
              "    </tr>\n",
              "  </thead>\n",
              "  <tbody>\n",
              "    <tr>\n",
              "      <th>0</th>\n",
              "      <td>中央区</td>\n",
              "      <td>入船</td>\n",
              "      <td>入船３丁目</td>\n",
              "      <td>0.019</td>\n",
              "      <td>7.0</td>\n",
              "      <td>1.00</td>\n",
              "      <td>0</td>\n",
              "      <td>5.00</td>\n",
              "    </tr>\n",
              "    <tr>\n",
              "      <th>1</th>\n",
              "      <td>練馬区</td>\n",
              "      <td>関町東</td>\n",
              "      <td>関町東２丁目</td>\n",
              "      <td>0.022</td>\n",
              "      <td>7.0</td>\n",
              "      <td>2.15</td>\n",
              "      <td>0</td>\n",
              "      <td>5.00</td>\n",
              "    </tr>\n",
              "    <tr>\n",
              "      <th>2</th>\n",
              "      <td>杉並区</td>\n",
              "      <td>上荻</td>\n",
              "      <td>上荻１丁目</td>\n",
              "      <td>0.031</td>\n",
              "      <td>8.0</td>\n",
              "      <td>1.34</td>\n",
              "      <td>0</td>\n",
              "      <td>5.00</td>\n",
              "    </tr>\n",
              "    <tr>\n",
              "      <th>3</th>\n",
              "      <td>中央区</td>\n",
              "      <td>日本橋人形町</td>\n",
              "      <td>日本橋人形町３丁目</td>\n",
              "      <td>0.004</td>\n",
              "      <td>12.0</td>\n",
              "      <td>0.88</td>\n",
              "      <td>0</td>\n",
              "      <td>5.00</td>\n",
              "    </tr>\n",
              "    <tr>\n",
              "      <th>4</th>\n",
              "      <td>品川区</td>\n",
              "      <td>東中延</td>\n",
              "      <td>東中延２丁目</td>\n",
              "      <td>0.038</td>\n",
              "      <td>8.0</td>\n",
              "      <td>0.92</td>\n",
              "      <td>0</td>\n",
              "      <td>4.99</td>\n",
              "    </tr>\n",
              "    <tr>\n",
              "      <th>5</th>\n",
              "      <td>品川区</td>\n",
              "      <td>南品川</td>\n",
              "      <td>南品川１丁目</td>\n",
              "      <td>0.065</td>\n",
              "      <td>9.0</td>\n",
              "      <td>1.02</td>\n",
              "      <td>0</td>\n",
              "      <td>4.99</td>\n",
              "    </tr>\n",
              "    <tr>\n",
              "      <th>6</th>\n",
              "      <td>江東区</td>\n",
              "      <td>富岡</td>\n",
              "      <td>富岡２丁目</td>\n",
              "      <td>0.070</td>\n",
              "      <td>10.0</td>\n",
              "      <td>1.11</td>\n",
              "      <td>0</td>\n",
              "      <td>4.99</td>\n",
              "    </tr>\n",
              "    <tr>\n",
              "      <th>7</th>\n",
              "      <td>中央区</td>\n",
              "      <td>日本橋蠣殻町</td>\n",
              "      <td>日本橋蠣殻町２丁目</td>\n",
              "      <td>0.100</td>\n",
              "      <td>9.0</td>\n",
              "      <td>2.36</td>\n",
              "      <td>0</td>\n",
              "      <td>4.99</td>\n",
              "    </tr>\n",
              "    <tr>\n",
              "      <th>8</th>\n",
              "      <td>江東区</td>\n",
              "      <td>白河</td>\n",
              "      <td>白河１丁目</td>\n",
              "      <td>0.058</td>\n",
              "      <td>8.0</td>\n",
              "      <td>1.05</td>\n",
              "      <td>0</td>\n",
              "      <td>4.99</td>\n",
              "    </tr>\n",
              "    <tr>\n",
              "      <th>9</th>\n",
              "      <td>港区</td>\n",
              "      <td>麻布台</td>\n",
              "      <td>麻布台２丁目</td>\n",
              "      <td>0.078</td>\n",
              "      <td>6.0</td>\n",
              "      <td>4.28</td>\n",
              "      <td>0</td>\n",
              "      <td>4.98</td>\n",
              "    </tr>\n",
              "  </tbody>\n",
              "</table>\n",
              "</div>\n",
              "      <button class=\"colab-df-convert\" onclick=\"convertToInteractive('df-4e3de5ba-14aa-442c-8d19-65dbd78e1205')\"\n",
              "              title=\"Convert this dataframe to an interactive table.\"\n",
              "              style=\"display:none;\">\n",
              "        \n",
              "  <svg xmlns=\"http://www.w3.org/2000/svg\" height=\"24px\"viewBox=\"0 0 24 24\"\n",
              "       width=\"24px\">\n",
              "    <path d=\"M0 0h24v24H0V0z\" fill=\"none\"/>\n",
              "    <path d=\"M18.56 5.44l.94 2.06.94-2.06 2.06-.94-2.06-.94-.94-2.06-.94 2.06-2.06.94zm-11 1L8.5 8.5l.94-2.06 2.06-.94-2.06-.94L8.5 2.5l-.94 2.06-2.06.94zm10 10l.94 2.06.94-2.06 2.06-.94-2.06-.94-.94-2.06-.94 2.06-2.06.94z\"/><path d=\"M17.41 7.96l-1.37-1.37c-.4-.4-.92-.59-1.43-.59-.52 0-1.04.2-1.43.59L10.3 9.45l-7.72 7.72c-.78.78-.78 2.05 0 2.83L4 21.41c.39.39.9.59 1.41.59.51 0 1.02-.2 1.41-.59l7.78-7.78 2.81-2.81c.8-.78.8-2.07 0-2.86zM5.41 20L4 18.59l7.72-7.72 1.47 1.35L5.41 20z\"/>\n",
              "  </svg>\n",
              "      </button>\n",
              "      \n",
              "  <style>\n",
              "    .colab-df-container {\n",
              "      display:flex;\n",
              "      flex-wrap:wrap;\n",
              "      gap: 12px;\n",
              "    }\n",
              "\n",
              "    .colab-df-convert {\n",
              "      background-color: #E8F0FE;\n",
              "      border: none;\n",
              "      border-radius: 50%;\n",
              "      cursor: pointer;\n",
              "      display: none;\n",
              "      fill: #1967D2;\n",
              "      height: 32px;\n",
              "      padding: 0 0 0 0;\n",
              "      width: 32px;\n",
              "    }\n",
              "\n",
              "    .colab-df-convert:hover {\n",
              "      background-color: #E2EBFA;\n",
              "      box-shadow: 0px 1px 2px rgba(60, 64, 67, 0.3), 0px 1px 3px 1px rgba(60, 64, 67, 0.15);\n",
              "      fill: #174EA6;\n",
              "    }\n",
              "\n",
              "    [theme=dark] .colab-df-convert {\n",
              "      background-color: #3B4455;\n",
              "      fill: #D2E3FC;\n",
              "    }\n",
              "\n",
              "    [theme=dark] .colab-df-convert:hover {\n",
              "      background-color: #434B5C;\n",
              "      box-shadow: 0px 1px 3px 1px rgba(0, 0, 0, 0.15);\n",
              "      filter: drop-shadow(0px 1px 2px rgba(0, 0, 0, 0.3));\n",
              "      fill: #FFFFFF;\n",
              "    }\n",
              "  </style>\n",
              "\n",
              "      <script>\n",
              "        const buttonEl =\n",
              "          document.querySelector('#df-4e3de5ba-14aa-442c-8d19-65dbd78e1205 button.colab-df-convert');\n",
              "        buttonEl.style.display =\n",
              "          google.colab.kernel.accessAllowed ? 'block' : 'none';\n",
              "\n",
              "        async function convertToInteractive(key) {\n",
              "          const element = document.querySelector('#df-4e3de5ba-14aa-442c-8d19-65dbd78e1205');\n",
              "          const dataTable =\n",
              "            await google.colab.kernel.invokeFunction('convertToInteractive',\n",
              "                                                     [key], {});\n",
              "          if (!dataTable) return;\n",
              "\n",
              "          const docLinkHtml = 'Like what you see? Visit the ' +\n",
              "            '<a target=\"_blank\" href=https://colab.research.google.com/notebooks/data_table.ipynb>data table notebook</a>'\n",
              "            + ' to learn more about interactive tables.';\n",
              "          element.innerHTML = '';\n",
              "          dataTable['output_type'] = 'display_data';\n",
              "          await google.colab.output.renderOutput(dataTable, element);\n",
              "          const docLink = document.createElement('div');\n",
              "          docLink.innerHTML = docLinkHtml;\n",
              "          element.appendChild(docLink);\n",
              "        }\n",
              "      </script>\n",
              "    </div>\n",
              "  </div>\n",
              "  "
            ]
          },
          "metadata": {},
          "execution_count": 42
        }
      ]
    },
    {
      "cell_type": "code",
      "source": [
        "df_level.tail(10)"
      ],
      "metadata": {
        "id": "mfYC17_OmknA",
        "outputId": "b92b1db6-7d0e-45e9-8a20-eb21f6b3fbd1",
        "colab": {
          "base_uri": "https://localhost:8080/",
          "height": 363
        }
      },
      "execution_count": 43,
      "outputs": [
        {
          "output_type": "execute_result",
          "data": {
            "text/plain": [
              "    市区町村名     町名     町丁目  保育園(最近傍距離)  保育園(数)  保育園(定員割合)  保育園(待機児童数)  保育園スコア\n",
              "893   大田区    京浜島  京浜島１丁目       1.094     0.0        0.0           0    0.06\n",
              "894  千代田区   皇居外苑    皇居外苑       1.217     0.0        0.0           0    0.05\n",
              "895  千代田区  日比谷公園   日比谷公園       1.253     0.0        0.0           0    0.05\n",
              "896   大田区     東海   東海１丁目       1.199     0.0        0.0           0    0.05\n",
              "897   品川区    東八潮     東八潮       1.098     0.0        0.0           0    0.05\n",
              "898   江東区    新木場  新木場１丁目       1.601     0.0        0.0           0    0.04\n",
              "899   大田区    城南島  城南島７丁目       2.682     0.0        0.0           0    0.02\n",
              "900   足立区    古千谷  古千谷２丁目       0.628     0.0        0.0           1    0.01\n",
              "901   足立区   舎人公園    舎人公園       0.833     0.0        0.0           1    0.00\n",
              "902   足立区   西伊興町    西伊興町       0.650     0.0        0.0           1    0.00"
            ],
            "text/html": [
              "\n",
              "  <div id=\"df-9b003a79-8601-41cf-83fc-a41161e098fb\">\n",
              "    <div class=\"colab-df-container\">\n",
              "      <div>\n",
              "<style scoped>\n",
              "    .dataframe tbody tr th:only-of-type {\n",
              "        vertical-align: middle;\n",
              "    }\n",
              "\n",
              "    .dataframe tbody tr th {\n",
              "        vertical-align: top;\n",
              "    }\n",
              "\n",
              "    .dataframe thead th {\n",
              "        text-align: right;\n",
              "    }\n",
              "</style>\n",
              "<table border=\"1\" class=\"dataframe\">\n",
              "  <thead>\n",
              "    <tr style=\"text-align: right;\">\n",
              "      <th></th>\n",
              "      <th>市区町村名</th>\n",
              "      <th>町名</th>\n",
              "      <th>町丁目</th>\n",
              "      <th>保育園(最近傍距離)</th>\n",
              "      <th>保育園(数)</th>\n",
              "      <th>保育園(定員割合)</th>\n",
              "      <th>保育園(待機児童数)</th>\n",
              "      <th>保育園スコア</th>\n",
              "    </tr>\n",
              "  </thead>\n",
              "  <tbody>\n",
              "    <tr>\n",
              "      <th>893</th>\n",
              "      <td>大田区</td>\n",
              "      <td>京浜島</td>\n",
              "      <td>京浜島１丁目</td>\n",
              "      <td>1.094</td>\n",
              "      <td>0.0</td>\n",
              "      <td>0.0</td>\n",
              "      <td>0</td>\n",
              "      <td>0.06</td>\n",
              "    </tr>\n",
              "    <tr>\n",
              "      <th>894</th>\n",
              "      <td>千代田区</td>\n",
              "      <td>皇居外苑</td>\n",
              "      <td>皇居外苑</td>\n",
              "      <td>1.217</td>\n",
              "      <td>0.0</td>\n",
              "      <td>0.0</td>\n",
              "      <td>0</td>\n",
              "      <td>0.05</td>\n",
              "    </tr>\n",
              "    <tr>\n",
              "      <th>895</th>\n",
              "      <td>千代田区</td>\n",
              "      <td>日比谷公園</td>\n",
              "      <td>日比谷公園</td>\n",
              "      <td>1.253</td>\n",
              "      <td>0.0</td>\n",
              "      <td>0.0</td>\n",
              "      <td>0</td>\n",
              "      <td>0.05</td>\n",
              "    </tr>\n",
              "    <tr>\n",
              "      <th>896</th>\n",
              "      <td>大田区</td>\n",
              "      <td>東海</td>\n",
              "      <td>東海１丁目</td>\n",
              "      <td>1.199</td>\n",
              "      <td>0.0</td>\n",
              "      <td>0.0</td>\n",
              "      <td>0</td>\n",
              "      <td>0.05</td>\n",
              "    </tr>\n",
              "    <tr>\n",
              "      <th>897</th>\n",
              "      <td>品川区</td>\n",
              "      <td>東八潮</td>\n",
              "      <td>東八潮</td>\n",
              "      <td>1.098</td>\n",
              "      <td>0.0</td>\n",
              "      <td>0.0</td>\n",
              "      <td>0</td>\n",
              "      <td>0.05</td>\n",
              "    </tr>\n",
              "    <tr>\n",
              "      <th>898</th>\n",
              "      <td>江東区</td>\n",
              "      <td>新木場</td>\n",
              "      <td>新木場１丁目</td>\n",
              "      <td>1.601</td>\n",
              "      <td>0.0</td>\n",
              "      <td>0.0</td>\n",
              "      <td>0</td>\n",
              "      <td>0.04</td>\n",
              "    </tr>\n",
              "    <tr>\n",
              "      <th>899</th>\n",
              "      <td>大田区</td>\n",
              "      <td>城南島</td>\n",
              "      <td>城南島７丁目</td>\n",
              "      <td>2.682</td>\n",
              "      <td>0.0</td>\n",
              "      <td>0.0</td>\n",
              "      <td>0</td>\n",
              "      <td>0.02</td>\n",
              "    </tr>\n",
              "    <tr>\n",
              "      <th>900</th>\n",
              "      <td>足立区</td>\n",
              "      <td>古千谷</td>\n",
              "      <td>古千谷２丁目</td>\n",
              "      <td>0.628</td>\n",
              "      <td>0.0</td>\n",
              "      <td>0.0</td>\n",
              "      <td>1</td>\n",
              "      <td>0.01</td>\n",
              "    </tr>\n",
              "    <tr>\n",
              "      <th>901</th>\n",
              "      <td>足立区</td>\n",
              "      <td>舎人公園</td>\n",
              "      <td>舎人公園</td>\n",
              "      <td>0.833</td>\n",
              "      <td>0.0</td>\n",
              "      <td>0.0</td>\n",
              "      <td>1</td>\n",
              "      <td>0.00</td>\n",
              "    </tr>\n",
              "    <tr>\n",
              "      <th>902</th>\n",
              "      <td>足立区</td>\n",
              "      <td>西伊興町</td>\n",
              "      <td>西伊興町</td>\n",
              "      <td>0.650</td>\n",
              "      <td>0.0</td>\n",
              "      <td>0.0</td>\n",
              "      <td>1</td>\n",
              "      <td>0.00</td>\n",
              "    </tr>\n",
              "  </tbody>\n",
              "</table>\n",
              "</div>\n",
              "      <button class=\"colab-df-convert\" onclick=\"convertToInteractive('df-9b003a79-8601-41cf-83fc-a41161e098fb')\"\n",
              "              title=\"Convert this dataframe to an interactive table.\"\n",
              "              style=\"display:none;\">\n",
              "        \n",
              "  <svg xmlns=\"http://www.w3.org/2000/svg\" height=\"24px\"viewBox=\"0 0 24 24\"\n",
              "       width=\"24px\">\n",
              "    <path d=\"M0 0h24v24H0V0z\" fill=\"none\"/>\n",
              "    <path d=\"M18.56 5.44l.94 2.06.94-2.06 2.06-.94-2.06-.94-.94-2.06-.94 2.06-2.06.94zm-11 1L8.5 8.5l.94-2.06 2.06-.94-2.06-.94L8.5 2.5l-.94 2.06-2.06.94zm10 10l.94 2.06.94-2.06 2.06-.94-2.06-.94-.94-2.06-.94 2.06-2.06.94z\"/><path d=\"M17.41 7.96l-1.37-1.37c-.4-.4-.92-.59-1.43-.59-.52 0-1.04.2-1.43.59L10.3 9.45l-7.72 7.72c-.78.78-.78 2.05 0 2.83L4 21.41c.39.39.9.59 1.41.59.51 0 1.02-.2 1.41-.59l7.78-7.78 2.81-2.81c.8-.78.8-2.07 0-2.86zM5.41 20L4 18.59l7.72-7.72 1.47 1.35L5.41 20z\"/>\n",
              "  </svg>\n",
              "      </button>\n",
              "      \n",
              "  <style>\n",
              "    .colab-df-container {\n",
              "      display:flex;\n",
              "      flex-wrap:wrap;\n",
              "      gap: 12px;\n",
              "    }\n",
              "\n",
              "    .colab-df-convert {\n",
              "      background-color: #E8F0FE;\n",
              "      border: none;\n",
              "      border-radius: 50%;\n",
              "      cursor: pointer;\n",
              "      display: none;\n",
              "      fill: #1967D2;\n",
              "      height: 32px;\n",
              "      padding: 0 0 0 0;\n",
              "      width: 32px;\n",
              "    }\n",
              "\n",
              "    .colab-df-convert:hover {\n",
              "      background-color: #E2EBFA;\n",
              "      box-shadow: 0px 1px 2px rgba(60, 64, 67, 0.3), 0px 1px 3px 1px rgba(60, 64, 67, 0.15);\n",
              "      fill: #174EA6;\n",
              "    }\n",
              "\n",
              "    [theme=dark] .colab-df-convert {\n",
              "      background-color: #3B4455;\n",
              "      fill: #D2E3FC;\n",
              "    }\n",
              "\n",
              "    [theme=dark] .colab-df-convert:hover {\n",
              "      background-color: #434B5C;\n",
              "      box-shadow: 0px 1px 3px 1px rgba(0, 0, 0, 0.15);\n",
              "      filter: drop-shadow(0px 1px 2px rgba(0, 0, 0, 0.3));\n",
              "      fill: #FFFFFF;\n",
              "    }\n",
              "  </style>\n",
              "\n",
              "      <script>\n",
              "        const buttonEl =\n",
              "          document.querySelector('#df-9b003a79-8601-41cf-83fc-a41161e098fb button.colab-df-convert');\n",
              "        buttonEl.style.display =\n",
              "          google.colab.kernel.accessAllowed ? 'block' : 'none';\n",
              "\n",
              "        async function convertToInteractive(key) {\n",
              "          const element = document.querySelector('#df-9b003a79-8601-41cf-83fc-a41161e098fb');\n",
              "          const dataTable =\n",
              "            await google.colab.kernel.invokeFunction('convertToInteractive',\n",
              "                                                     [key], {});\n",
              "          if (!dataTable) return;\n",
              "\n",
              "          const docLinkHtml = 'Like what you see? Visit the ' +\n",
              "            '<a target=\"_blank\" href=https://colab.research.google.com/notebooks/data_table.ipynb>data table notebook</a>'\n",
              "            + ' to learn more about interactive tables.';\n",
              "          element.innerHTML = '';\n",
              "          dataTable['output_type'] = 'display_data';\n",
              "          await google.colab.output.renderOutput(dataTable, element);\n",
              "          const docLink = document.createElement('div');\n",
              "          docLink.innerHTML = docLinkHtml;\n",
              "          element.appendChild(docLink);\n",
              "        }\n",
              "      </script>\n",
              "    </div>\n",
              "  </div>\n",
              "  "
            ]
          },
          "metadata": {},
          "execution_count": 43
        }
      ]
    },
    {
      "cell_type": "code",
      "source": [
        "df_level = get_score_top(df_pop_master, '児童館')\n",
        "print(df_level.shape)\n",
        "df_level.head(10)"
      ],
      "metadata": {
        "id": "8bKUBJ8amnWK",
        "outputId": "01f1ac36-6e2a-46c4-b733-78ff2f326a60",
        "colab": {
          "base_uri": "https://localhost:8080/",
          "height": 380
        }
      },
      "execution_count": 44,
      "outputs": [
        {
          "output_type": "stream",
          "name": "stdout",
          "text": [
            "(901, 6)\n"
          ]
        },
        {
          "output_type": "execute_result",
          "data": {
            "text/plain": [
              "  市区町村名    町名      町丁目  児童館(最近傍距離)  児童館(数)  児童館スコア\n",
              "0   新宿区  東五軒町     東五軒町       0.029     2.0    5.00\n",
              "1   大田区   大森東   大森東１丁目       0.016     2.0    5.00\n",
              "2   品川区   東中延   東中延２丁目       0.038     3.0    5.00\n",
              "3   杉並区  高円寺南  高円寺南３丁目       0.035     2.0    5.00\n",
              "4   荒川区    荒川    荒川７丁目       0.046     2.0    4.99\n",
              "5   品川区    戸越    戸越６丁目       0.117     3.0    4.99\n",
              "6   中野区    鷺宮    鷺宮３丁目       0.044     2.0    4.99\n",
              "7   新宿区    中井    中井１丁目       0.037     2.0    4.99\n",
              "8   墨田区    立花    立花５丁目       0.043     2.0    4.99\n",
              "9   練馬区   光が丘   光が丘１丁目       0.045     2.0    4.99"
            ],
            "text/html": [
              "\n",
              "  <div id=\"df-64f5ace2-bba4-4c95-b7c3-84f20f64b734\">\n",
              "    <div class=\"colab-df-container\">\n",
              "      <div>\n",
              "<style scoped>\n",
              "    .dataframe tbody tr th:only-of-type {\n",
              "        vertical-align: middle;\n",
              "    }\n",
              "\n",
              "    .dataframe tbody tr th {\n",
              "        vertical-align: top;\n",
              "    }\n",
              "\n",
              "    .dataframe thead th {\n",
              "        text-align: right;\n",
              "    }\n",
              "</style>\n",
              "<table border=\"1\" class=\"dataframe\">\n",
              "  <thead>\n",
              "    <tr style=\"text-align: right;\">\n",
              "      <th></th>\n",
              "      <th>市区町村名</th>\n",
              "      <th>町名</th>\n",
              "      <th>町丁目</th>\n",
              "      <th>児童館(最近傍距離)</th>\n",
              "      <th>児童館(数)</th>\n",
              "      <th>児童館スコア</th>\n",
              "    </tr>\n",
              "  </thead>\n",
              "  <tbody>\n",
              "    <tr>\n",
              "      <th>0</th>\n",
              "      <td>新宿区</td>\n",
              "      <td>東五軒町</td>\n",
              "      <td>東五軒町</td>\n",
              "      <td>0.029</td>\n",
              "      <td>2.0</td>\n",
              "      <td>5.00</td>\n",
              "    </tr>\n",
              "    <tr>\n",
              "      <th>1</th>\n",
              "      <td>大田区</td>\n",
              "      <td>大森東</td>\n",
              "      <td>大森東１丁目</td>\n",
              "      <td>0.016</td>\n",
              "      <td>2.0</td>\n",
              "      <td>5.00</td>\n",
              "    </tr>\n",
              "    <tr>\n",
              "      <th>2</th>\n",
              "      <td>品川区</td>\n",
              "      <td>東中延</td>\n",
              "      <td>東中延２丁目</td>\n",
              "      <td>0.038</td>\n",
              "      <td>3.0</td>\n",
              "      <td>5.00</td>\n",
              "    </tr>\n",
              "    <tr>\n",
              "      <th>3</th>\n",
              "      <td>杉並区</td>\n",
              "      <td>高円寺南</td>\n",
              "      <td>高円寺南３丁目</td>\n",
              "      <td>0.035</td>\n",
              "      <td>2.0</td>\n",
              "      <td>5.00</td>\n",
              "    </tr>\n",
              "    <tr>\n",
              "      <th>4</th>\n",
              "      <td>荒川区</td>\n",
              "      <td>荒川</td>\n",
              "      <td>荒川７丁目</td>\n",
              "      <td>0.046</td>\n",
              "      <td>2.0</td>\n",
              "      <td>4.99</td>\n",
              "    </tr>\n",
              "    <tr>\n",
              "      <th>5</th>\n",
              "      <td>品川区</td>\n",
              "      <td>戸越</td>\n",
              "      <td>戸越６丁目</td>\n",
              "      <td>0.117</td>\n",
              "      <td>3.0</td>\n",
              "      <td>4.99</td>\n",
              "    </tr>\n",
              "    <tr>\n",
              "      <th>6</th>\n",
              "      <td>中野区</td>\n",
              "      <td>鷺宮</td>\n",
              "      <td>鷺宮３丁目</td>\n",
              "      <td>0.044</td>\n",
              "      <td>2.0</td>\n",
              "      <td>4.99</td>\n",
              "    </tr>\n",
              "    <tr>\n",
              "      <th>7</th>\n",
              "      <td>新宿区</td>\n",
              "      <td>中井</td>\n",
              "      <td>中井１丁目</td>\n",
              "      <td>0.037</td>\n",
              "      <td>2.0</td>\n",
              "      <td>4.99</td>\n",
              "    </tr>\n",
              "    <tr>\n",
              "      <th>8</th>\n",
              "      <td>墨田区</td>\n",
              "      <td>立花</td>\n",
              "      <td>立花５丁目</td>\n",
              "      <td>0.043</td>\n",
              "      <td>2.0</td>\n",
              "      <td>4.99</td>\n",
              "    </tr>\n",
              "    <tr>\n",
              "      <th>9</th>\n",
              "      <td>練馬区</td>\n",
              "      <td>光が丘</td>\n",
              "      <td>光が丘１丁目</td>\n",
              "      <td>0.045</td>\n",
              "      <td>2.0</td>\n",
              "      <td>4.99</td>\n",
              "    </tr>\n",
              "  </tbody>\n",
              "</table>\n",
              "</div>\n",
              "      <button class=\"colab-df-convert\" onclick=\"convertToInteractive('df-64f5ace2-bba4-4c95-b7c3-84f20f64b734')\"\n",
              "              title=\"Convert this dataframe to an interactive table.\"\n",
              "              style=\"display:none;\">\n",
              "        \n",
              "  <svg xmlns=\"http://www.w3.org/2000/svg\" height=\"24px\"viewBox=\"0 0 24 24\"\n",
              "       width=\"24px\">\n",
              "    <path d=\"M0 0h24v24H0V0z\" fill=\"none\"/>\n",
              "    <path d=\"M18.56 5.44l.94 2.06.94-2.06 2.06-.94-2.06-.94-.94-2.06-.94 2.06-2.06.94zm-11 1L8.5 8.5l.94-2.06 2.06-.94-2.06-.94L8.5 2.5l-.94 2.06-2.06.94zm10 10l.94 2.06.94-2.06 2.06-.94-2.06-.94-.94-2.06-.94 2.06-2.06.94z\"/><path d=\"M17.41 7.96l-1.37-1.37c-.4-.4-.92-.59-1.43-.59-.52 0-1.04.2-1.43.59L10.3 9.45l-7.72 7.72c-.78.78-.78 2.05 0 2.83L4 21.41c.39.39.9.59 1.41.59.51 0 1.02-.2 1.41-.59l7.78-7.78 2.81-2.81c.8-.78.8-2.07 0-2.86zM5.41 20L4 18.59l7.72-7.72 1.47 1.35L5.41 20z\"/>\n",
              "  </svg>\n",
              "      </button>\n",
              "      \n",
              "  <style>\n",
              "    .colab-df-container {\n",
              "      display:flex;\n",
              "      flex-wrap:wrap;\n",
              "      gap: 12px;\n",
              "    }\n",
              "\n",
              "    .colab-df-convert {\n",
              "      background-color: #E8F0FE;\n",
              "      border: none;\n",
              "      border-radius: 50%;\n",
              "      cursor: pointer;\n",
              "      display: none;\n",
              "      fill: #1967D2;\n",
              "      height: 32px;\n",
              "      padding: 0 0 0 0;\n",
              "      width: 32px;\n",
              "    }\n",
              "\n",
              "    .colab-df-convert:hover {\n",
              "      background-color: #E2EBFA;\n",
              "      box-shadow: 0px 1px 2px rgba(60, 64, 67, 0.3), 0px 1px 3px 1px rgba(60, 64, 67, 0.15);\n",
              "      fill: #174EA6;\n",
              "    }\n",
              "\n",
              "    [theme=dark] .colab-df-convert {\n",
              "      background-color: #3B4455;\n",
              "      fill: #D2E3FC;\n",
              "    }\n",
              "\n",
              "    [theme=dark] .colab-df-convert:hover {\n",
              "      background-color: #434B5C;\n",
              "      box-shadow: 0px 1px 3px 1px rgba(0, 0, 0, 0.15);\n",
              "      filter: drop-shadow(0px 1px 2px rgba(0, 0, 0, 0.3));\n",
              "      fill: #FFFFFF;\n",
              "    }\n",
              "  </style>\n",
              "\n",
              "      <script>\n",
              "        const buttonEl =\n",
              "          document.querySelector('#df-64f5ace2-bba4-4c95-b7c3-84f20f64b734 button.colab-df-convert');\n",
              "        buttonEl.style.display =\n",
              "          google.colab.kernel.accessAllowed ? 'block' : 'none';\n",
              "\n",
              "        async function convertToInteractive(key) {\n",
              "          const element = document.querySelector('#df-64f5ace2-bba4-4c95-b7c3-84f20f64b734');\n",
              "          const dataTable =\n",
              "            await google.colab.kernel.invokeFunction('convertToInteractive',\n",
              "                                                     [key], {});\n",
              "          if (!dataTable) return;\n",
              "\n",
              "          const docLinkHtml = 'Like what you see? Visit the ' +\n",
              "            '<a target=\"_blank\" href=https://colab.research.google.com/notebooks/data_table.ipynb>data table notebook</a>'\n",
              "            + ' to learn more about interactive tables.';\n",
              "          element.innerHTML = '';\n",
              "          dataTable['output_type'] = 'display_data';\n",
              "          await google.colab.output.renderOutput(dataTable, element);\n",
              "          const docLink = document.createElement('div');\n",
              "          docLink.innerHTML = docLinkHtml;\n",
              "          element.appendChild(docLink);\n",
              "        }\n",
              "      </script>\n",
              "    </div>\n",
              "  </div>\n",
              "  "
            ]
          },
          "metadata": {},
          "execution_count": 44
        }
      ]
    },
    {
      "cell_type": "code",
      "source": [
        "df_level.tail(10)"
      ],
      "metadata": {
        "id": "zdBwhiihmphi",
        "outputId": "4e11daf4-4281-44e8-fb27-145f08b438fd",
        "colab": {
          "base_uri": "https://localhost:8080/",
          "height": 363
        }
      },
      "execution_count": 45,
      "outputs": [
        {
          "output_type": "execute_result",
          "data": {
            "text/plain": [
              "    市区町村名      町名     町丁目  児童館(最近傍距離)  児童館(数)  児童館スコア\n",
              "891   大田区     京浜島  京浜島１丁目       1.458     0.0    0.08\n",
              "892  世田谷区      玉堤   玉堤２丁目       1.454     0.0    0.08\n",
              "893  江戸川区     東葛西  東葛西２丁目       1.472     0.0    0.08\n",
              "894   渋谷区  代々木神園町  代々木神園町       1.492     0.0    0.07\n",
              "895  江戸川区    東篠崎町    東篠崎町       1.559     0.0    0.06\n",
              "896  江戸川区     清新町  清新町１丁目       1.601     0.0    0.05\n",
              "897   江東区     新木場  新木場１丁目       1.697     0.0    0.04\n",
              "898  千代田区   日比谷公園   日比谷公園       1.675     0.0    0.04\n",
              "899  千代田区    皇居外苑    皇居外苑       1.881     0.0    0.02\n",
              "900  江戸川区     南葛西  南葛西１丁目       2.279     0.0    0.01"
            ],
            "text/html": [
              "\n",
              "  <div id=\"df-b9d094b9-064b-40f2-aca9-90aaf8b0c575\">\n",
              "    <div class=\"colab-df-container\">\n",
              "      <div>\n",
              "<style scoped>\n",
              "    .dataframe tbody tr th:only-of-type {\n",
              "        vertical-align: middle;\n",
              "    }\n",
              "\n",
              "    .dataframe tbody tr th {\n",
              "        vertical-align: top;\n",
              "    }\n",
              "\n",
              "    .dataframe thead th {\n",
              "        text-align: right;\n",
              "    }\n",
              "</style>\n",
              "<table border=\"1\" class=\"dataframe\">\n",
              "  <thead>\n",
              "    <tr style=\"text-align: right;\">\n",
              "      <th></th>\n",
              "      <th>市区町村名</th>\n",
              "      <th>町名</th>\n",
              "      <th>町丁目</th>\n",
              "      <th>児童館(最近傍距離)</th>\n",
              "      <th>児童館(数)</th>\n",
              "      <th>児童館スコア</th>\n",
              "    </tr>\n",
              "  </thead>\n",
              "  <tbody>\n",
              "    <tr>\n",
              "      <th>891</th>\n",
              "      <td>大田区</td>\n",
              "      <td>京浜島</td>\n",
              "      <td>京浜島１丁目</td>\n",
              "      <td>1.458</td>\n",
              "      <td>0.0</td>\n",
              "      <td>0.08</td>\n",
              "    </tr>\n",
              "    <tr>\n",
              "      <th>892</th>\n",
              "      <td>世田谷区</td>\n",
              "      <td>玉堤</td>\n",
              "      <td>玉堤２丁目</td>\n",
              "      <td>1.454</td>\n",
              "      <td>0.0</td>\n",
              "      <td>0.08</td>\n",
              "    </tr>\n",
              "    <tr>\n",
              "      <th>893</th>\n",
              "      <td>江戸川区</td>\n",
              "      <td>東葛西</td>\n",
              "      <td>東葛西２丁目</td>\n",
              "      <td>1.472</td>\n",
              "      <td>0.0</td>\n",
              "      <td>0.08</td>\n",
              "    </tr>\n",
              "    <tr>\n",
              "      <th>894</th>\n",
              "      <td>渋谷区</td>\n",
              "      <td>代々木神園町</td>\n",
              "      <td>代々木神園町</td>\n",
              "      <td>1.492</td>\n",
              "      <td>0.0</td>\n",
              "      <td>0.07</td>\n",
              "    </tr>\n",
              "    <tr>\n",
              "      <th>895</th>\n",
              "      <td>江戸川区</td>\n",
              "      <td>東篠崎町</td>\n",
              "      <td>東篠崎町</td>\n",
              "      <td>1.559</td>\n",
              "      <td>0.0</td>\n",
              "      <td>0.06</td>\n",
              "    </tr>\n",
              "    <tr>\n",
              "      <th>896</th>\n",
              "      <td>江戸川区</td>\n",
              "      <td>清新町</td>\n",
              "      <td>清新町１丁目</td>\n",
              "      <td>1.601</td>\n",
              "      <td>0.0</td>\n",
              "      <td>0.05</td>\n",
              "    </tr>\n",
              "    <tr>\n",
              "      <th>897</th>\n",
              "      <td>江東区</td>\n",
              "      <td>新木場</td>\n",
              "      <td>新木場１丁目</td>\n",
              "      <td>1.697</td>\n",
              "      <td>0.0</td>\n",
              "      <td>0.04</td>\n",
              "    </tr>\n",
              "    <tr>\n",
              "      <th>898</th>\n",
              "      <td>千代田区</td>\n",
              "      <td>日比谷公園</td>\n",
              "      <td>日比谷公園</td>\n",
              "      <td>1.675</td>\n",
              "      <td>0.0</td>\n",
              "      <td>0.04</td>\n",
              "    </tr>\n",
              "    <tr>\n",
              "      <th>899</th>\n",
              "      <td>千代田区</td>\n",
              "      <td>皇居外苑</td>\n",
              "      <td>皇居外苑</td>\n",
              "      <td>1.881</td>\n",
              "      <td>0.0</td>\n",
              "      <td>0.02</td>\n",
              "    </tr>\n",
              "    <tr>\n",
              "      <th>900</th>\n",
              "      <td>江戸川区</td>\n",
              "      <td>南葛西</td>\n",
              "      <td>南葛西１丁目</td>\n",
              "      <td>2.279</td>\n",
              "      <td>0.0</td>\n",
              "      <td>0.01</td>\n",
              "    </tr>\n",
              "  </tbody>\n",
              "</table>\n",
              "</div>\n",
              "      <button class=\"colab-df-convert\" onclick=\"convertToInteractive('df-b9d094b9-064b-40f2-aca9-90aaf8b0c575')\"\n",
              "              title=\"Convert this dataframe to an interactive table.\"\n",
              "              style=\"display:none;\">\n",
              "        \n",
              "  <svg xmlns=\"http://www.w3.org/2000/svg\" height=\"24px\"viewBox=\"0 0 24 24\"\n",
              "       width=\"24px\">\n",
              "    <path d=\"M0 0h24v24H0V0z\" fill=\"none\"/>\n",
              "    <path d=\"M18.56 5.44l.94 2.06.94-2.06 2.06-.94-2.06-.94-.94-2.06-.94 2.06-2.06.94zm-11 1L8.5 8.5l.94-2.06 2.06-.94-2.06-.94L8.5 2.5l-.94 2.06-2.06.94zm10 10l.94 2.06.94-2.06 2.06-.94-2.06-.94-.94-2.06-.94 2.06-2.06.94z\"/><path d=\"M17.41 7.96l-1.37-1.37c-.4-.4-.92-.59-1.43-.59-.52 0-1.04.2-1.43.59L10.3 9.45l-7.72 7.72c-.78.78-.78 2.05 0 2.83L4 21.41c.39.39.9.59 1.41.59.51 0 1.02-.2 1.41-.59l7.78-7.78 2.81-2.81c.8-.78.8-2.07 0-2.86zM5.41 20L4 18.59l7.72-7.72 1.47 1.35L5.41 20z\"/>\n",
              "  </svg>\n",
              "      </button>\n",
              "      \n",
              "  <style>\n",
              "    .colab-df-container {\n",
              "      display:flex;\n",
              "      flex-wrap:wrap;\n",
              "      gap: 12px;\n",
              "    }\n",
              "\n",
              "    .colab-df-convert {\n",
              "      background-color: #E8F0FE;\n",
              "      border: none;\n",
              "      border-radius: 50%;\n",
              "      cursor: pointer;\n",
              "      display: none;\n",
              "      fill: #1967D2;\n",
              "      height: 32px;\n",
              "      padding: 0 0 0 0;\n",
              "      width: 32px;\n",
              "    }\n",
              "\n",
              "    .colab-df-convert:hover {\n",
              "      background-color: #E2EBFA;\n",
              "      box-shadow: 0px 1px 2px rgba(60, 64, 67, 0.3), 0px 1px 3px 1px rgba(60, 64, 67, 0.15);\n",
              "      fill: #174EA6;\n",
              "    }\n",
              "\n",
              "    [theme=dark] .colab-df-convert {\n",
              "      background-color: #3B4455;\n",
              "      fill: #D2E3FC;\n",
              "    }\n",
              "\n",
              "    [theme=dark] .colab-df-convert:hover {\n",
              "      background-color: #434B5C;\n",
              "      box-shadow: 0px 1px 3px 1px rgba(0, 0, 0, 0.15);\n",
              "      filter: drop-shadow(0px 1px 2px rgba(0, 0, 0, 0.3));\n",
              "      fill: #FFFFFF;\n",
              "    }\n",
              "  </style>\n",
              "\n",
              "      <script>\n",
              "        const buttonEl =\n",
              "          document.querySelector('#df-b9d094b9-064b-40f2-aca9-90aaf8b0c575 button.colab-df-convert');\n",
              "        buttonEl.style.display =\n",
              "          google.colab.kernel.accessAllowed ? 'block' : 'none';\n",
              "\n",
              "        async function convertToInteractive(key) {\n",
              "          const element = document.querySelector('#df-b9d094b9-064b-40f2-aca9-90aaf8b0c575');\n",
              "          const dataTable =\n",
              "            await google.colab.kernel.invokeFunction('convertToInteractive',\n",
              "                                                     [key], {});\n",
              "          if (!dataTable) return;\n",
              "\n",
              "          const docLinkHtml = 'Like what you see? Visit the ' +\n",
              "            '<a target=\"_blank\" href=https://colab.research.google.com/notebooks/data_table.ipynb>data table notebook</a>'\n",
              "            + ' to learn more about interactive tables.';\n",
              "          element.innerHTML = '';\n",
              "          dataTable['output_type'] = 'display_data';\n",
              "          await google.colab.output.renderOutput(dataTable, element);\n",
              "          const docLink = document.createElement('div');\n",
              "          docLink.innerHTML = docLinkHtml;\n",
              "          element.appendChild(docLink);\n",
              "        }\n",
              "      </script>\n",
              "    </div>\n",
              "  </div>\n",
              "  "
            ]
          },
          "metadata": {},
          "execution_count": 45
        }
      ]
    },
    {
      "cell_type": "code",
      "source": [],
      "metadata": {
        "id": "bmkGzgWCfTLa"
      },
      "execution_count": 45,
      "outputs": []
    }
  ]
}