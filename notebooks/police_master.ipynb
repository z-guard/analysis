{
  "nbformat": 4,
  "nbformat_minor": 0,
  "metadata": {
    "colab": {
      "provenance": [],
      "authorship_tag": "ABX9TyNylr99k9dKY6R3p7mEp/R8",
      "include_colab_link": true
    },
    "kernelspec": {
      "name": "python3",
      "display_name": "Python 3"
    },
    "language_info": {
      "name": "python"
    }
  },
  "cells": [
    {
      "cell_type": "markdown",
      "metadata": {
        "id": "view-in-github",
        "colab_type": "text"
      },
      "source": [
        "<a href=\"https://colab.research.google.com/github/z-guard/analysis/blob/main/notebooks/police_master.ipynb\" target=\"_parent\"><img src=\"https://colab.research.google.com/assets/colab-badge.svg\" alt=\"Open In Colab\"/></a>"
      ]
    },
    {
      "cell_type": "markdown",
      "source": [
        "## 警察署・交番"
      ],
      "metadata": {
        "id": "N6vaWxIeLsme"
      }
    },
    {
      "cell_type": "code",
      "execution_count": 1,
      "metadata": {
        "colab": {
          "base_uri": "https://localhost:8080/"
        },
        "id": "r7dWMuPHFZ3f",
        "outputId": "5720e5fc-e498-45a8-be2d-eea9c533959f"
      },
      "outputs": [
        {
          "output_type": "stream",
          "name": "stdout",
          "text": [
            "Mounted at /content/drive\n"
          ]
        }
      ],
      "source": [
        "from google.colab import drive\n",
        "drive.mount('/content/drive')"
      ]
    },
    {
      "cell_type": "code",
      "source": [
        "import os\n",
        "import pandas as pd\n",
        "import numpy as np\n",
        "\n",
        "pd.set_option('display.max_columns', 50)\n",
        "pd.set_option('display.max_rows', 100)"
      ],
      "metadata": {
        "id": "wIujRAVoFfY5"
      },
      "execution_count": 2,
      "outputs": []
    },
    {
      "cell_type": "code",
      "source": [
        "DIR_NAME = '/content/drive/MyDrive/z-gard/data'"
      ],
      "metadata": {
        "id": "UJwDgDdKFp5V"
      },
      "execution_count": 3,
      "outputs": []
    },
    {
      "cell_type": "code",
      "source": [
        "df_police_org = pd.read_csv(os.path.join(DIR_NAME, 'police_nearby.csv'))\n",
        "print(df_police_org.shape)"
      ],
      "metadata": {
        "colab": {
          "base_uri": "https://localhost:8080/"
        },
        "id": "iqYFdUc5FsRD",
        "outputId": "1fc61d7e-f0be-4647-be3e-c3db4c6730c2"
      },
      "execution_count": 4,
      "outputs": [
        {
          "output_type": "stream",
          "name": "stdout",
          "text": [
            "(1020, 7)\n"
          ]
        }
      ]
    },
    {
      "cell_type": "code",
      "source": [
        "df_police_org['施設分類'] = None\n",
        "police_type = ['交番', '派出所', '駐在所', '地域安全センター', '交通安全協会', '運転免許証更新', '連絡所', '警察署']"
      ],
      "metadata": {
        "id": "9V2JTN9XGI4-"
      },
      "execution_count": 39,
      "outputs": []
    },
    {
      "cell_type": "code",
      "source": [
        "for police in police_type:\n",
        "    df_police_org.loc[\n",
        "        (df_police_org['施設分類'].isna()) &\n",
        "        (df_police_org['name'].str.contains(police)), '施設分類'\n",
        "    ] = police"
      ],
      "metadata": {
        "id": "xBBIyPwMFzFO"
      },
      "execution_count": 40,
      "outputs": []
    },
    {
      "cell_type": "code",
      "source": [
        "df_police_org['施設分類'].value_counts()"
      ],
      "metadata": {
        "colab": {
          "base_uri": "https://localhost:8080/"
        },
        "id": "bMfkBz5rHXH0",
        "outputId": "25dec33d-88a5-4064-bf6e-ef549453c252"
      },
      "execution_count": 41,
      "outputs": [
        {
          "output_type": "execute_result",
          "data": {
            "text/plain": [
              "交番          721\n",
              "警察署          87\n",
              "駐在所          58\n",
              "地域安全センター     51\n",
              "派出所          26\n",
              "交通安全協会        4\n",
              "運転免許証更新       2\n",
              "連絡所           1\n",
              "Name: 施設分類, dtype: int64"
            ]
          },
          "metadata": {},
          "execution_count": 41
        }
      ]
    },
    {
      "cell_type": "code",
      "source": [
        "df_police_org.loc[df_police_org['施設分類'].isin(['派出所', '駐在所', '地域安全センター']), '施設分類'] = '交番'\n",
        "\n",
        "df_police_master = df_police_org[df_police_org['施設分類'].isin(['交番', '警察署'])].reset_index(drop=True)\n",
        "print(df_police_master.shape)"
      ],
      "metadata": {
        "colab": {
          "base_uri": "https://localhost:8080/"
        },
        "id": "XhSDsKl3HEJq",
        "outputId": "cedd72d2-e3a6-4a1c-8162-d1671a0ab29c"
      },
      "execution_count": 45,
      "outputs": [
        {
          "output_type": "stream",
          "name": "stdout",
          "text": [
            "(943, 8)\n"
          ]
        }
      ]
    },
    {
      "cell_type": "code",
      "source": [
        "df_police_master[['name', 'vicinity', 'lat', 'lng', '施設分類']].rename(columns={\n",
        "    'name': '名称',\n",
        "    'vicinity': '住所',\n",
        "    'lat': '緯度', \n",
        "    'lng': '経度'\n",
        "}).to_csv(os.path.join(DIR_NAME, 'police_master.csv'), encoding='utf-8_sig', index=False)"
      ],
      "metadata": {
        "id": "QDW7CxUEKeq9"
      },
      "execution_count": 48,
      "outputs": []
    },
    {
      "cell_type": "code",
      "source": [],
      "metadata": {
        "id": "m4WOgqruKk8w"
      },
      "execution_count": null,
      "outputs": []
    }
  ]
}