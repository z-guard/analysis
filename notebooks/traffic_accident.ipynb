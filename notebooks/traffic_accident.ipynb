{
  "nbformat": 4,
  "nbformat_minor": 0,
  "metadata": {
    "colab": {
      "provenance": [],
      "authorship_tag": "ABX9TyNCa3eiI6nTdKJlnlBm+Jlb",
      "include_colab_link": true
    },
    "kernelspec": {
      "name": "python3",
      "display_name": "Python 3"
    },
    "language_info": {
      "name": "python"
    }
  },
  "cells": [
    {
      "cell_type": "markdown",
      "metadata": {
        "id": "view-in-github",
        "colab_type": "text"
      },
      "source": [
        "<a href=\"https://colab.research.google.com/github/z-guard/analysis/blob/main/notebooks/traffic_accident.ipynb\" target=\"_parent\"><img src=\"https://colab.research.google.com/assets/colab-badge.svg\" alt=\"Open In Colab\"/></a>"
      ]
    },
    {
      "cell_type": "markdown",
      "source": [
        "## 交通事故\n",
        "-[交通事故統計情報のオープンデータ](https://www.npa.go.jp/publications/statistics/koutsuu/opendata/index_opendata.html)"
      ],
      "metadata": {
        "id": "JGMdiTKUMJxf"
      }
    },
    {
      "cell_type": "code",
      "execution_count": 1,
      "metadata": {
        "colab": {
          "base_uri": "https://localhost:8080/"
        },
        "id": "3ulWbTnzMIuf",
        "outputId": "96dd38ed-0031-420c-bf32-e55987d13703"
      },
      "outputs": [
        {
          "output_type": "stream",
          "name": "stdout",
          "text": [
            "Mounted at /content/drive\n"
          ]
        }
      ],
      "source": [
        "from google.colab import drive\n",
        "drive.mount('/content/drive')"
      ]
    },
    {
      "cell_type": "code",
      "source": [
        "import os\n",
        "import requests\n",
        "import json\n",
        "import pandas as pd\n",
        "from urllib.parse import urlparse, quote\n",
        "import io\n",
        "import numpy as np\n",
        "import time\n",
        "\n",
        "pd.set_option('display.max_columns', 50)\n",
        "pd.set_option('display.max_rows', 100)"
      ],
      "metadata": {
        "id": "jxGZ7F6QMqQi"
      },
      "execution_count": 70,
      "outputs": []
    },
    {
      "cell_type": "code",
      "source": [
        "DIR_NAME = '/content/drive/MyDrive/z-gard/data'"
      ],
      "metadata": {
        "id": "FG8MbFkIMyO0"
      },
      "execution_count": 3,
      "outputs": []
    },
    {
      "cell_type": "code",
      "source": [
        "def get_data_csv_url(url, encoding='utf-8', excel=False):\n",
        "    res = requests.get(url)\n",
        "    if res.status_code == 200:\n",
        "        if not excel:\n",
        "            return pd.read_csv(io.BytesIO(res.content), encoding=encoding)\n",
        "        else:\n",
        "            return pd.read_excel(io.BytesIO(res.content))\n",
        "    else:\n",
        "        raise Exception(f'status_code: {res.status_code} ({url})')"
      ],
      "metadata": {
        "id": "CT4GhD9SM01z"
      },
      "execution_count": 4,
      "outputs": []
    },
    {
      "cell_type": "code",
      "source": [
        "accident_url = 'https://www.npa.go.jp/publications/statistics/koutsuu/opendata/2021/honhyo_2021.csv'\n",
        "\n",
        "df_accident = get_data_csv_url(accident_url, encoding='cp932')\n",
        "print(df_accident.shape)"
      ],
      "metadata": {
        "colab": {
          "base_uri": "https://localhost:8080/"
        },
        "id": "fOs3Jz-EM3vs",
        "outputId": "9bc3be60-35a5-48e2-c476-6260f38588af"
      },
      "execution_count": 6,
      "outputs": [
        {
          "output_type": "stream",
          "name": "stdout",
          "text": [
            "(305196, 58)\n"
          ]
        }
      ]
    },
    {
      "cell_type": "code",
      "source": [
        "df_accident_tokyo = df_accident[\n",
        "    (df_accident['都道府県コード'] == 30) & # 東京都\n",
        "    (df_accident['市区町村コード'] <= 123)   # 23区内\n",
        "][[\n",
        "    '事故内容',\n",
        "    '死者数',\n",
        "    '負傷者数',\n",
        "    '事故類型',\n",
        "    '地点\\u3000緯度（北緯）',\n",
        "    '地点\\u3000経度（東経）',\n",
        "]].rename(columns={\n",
        "    '地点\\u3000緯度（北緯）': '世界測地系_緯度',\n",
        "    '地点\\u3000経度（東経）': '世界測地系_経度',\n",
        "}).reset_index(drop=True)\n",
        "print(df_accident_tokyo.shape)"
      ],
      "metadata": {
        "colab": {
          "base_uri": "https://localhost:8080/"
        },
        "id": "Z1p3KV5CNI4W",
        "outputId": "a5b0836d-7a8e-4e9a-aed1-d71813a6f05a"
      },
      "execution_count": 73,
      "outputs": [
        {
          "output_type": "stream",
          "name": "stdout",
          "text": [
            "(19201, 6)\n"
          ]
        }
      ]
    },
    {
      "cell_type": "code",
      "source": [
        "df_accident_tokyo['lat'] = df_accident_tokyo['世界測地系_緯度'] / 10000000\n",
        "df_accident_tokyo['lon'] = df_accident_tokyo['世界測地系_経度'] / 10000000\n",
        "df_accident_tokyo['内容'] = df_accident_tokyo['事故内容'].map({\n",
        "    1: '死亡',\n",
        "    2: '負傷',\n",
        "})\n",
        "df_accident_tokyo['種別'] = df_accident_tokyo['事故類型'].map({\n",
        "    1: '人対車両',\n",
        "    21: '車両相互',\n",
        "    41: '車両単独',\n",
        "    61: '列車',\n",
        "})"
      ],
      "metadata": {
        "id": "dVSO7SGgNSTw"
      },
      "execution_count": 74,
      "outputs": []
    },
    {
      "cell_type": "code",
      "source": [
        "df_accident_tokyo['内容'].value_counts()"
      ],
      "metadata": {
        "colab": {
          "base_uri": "https://localhost:8080/"
        },
        "id": "n5_Me_4kajSN",
        "outputId": "fcc3a4bc-113a-4799-a64b-94430e8bc540"
      },
      "execution_count": 75,
      "outputs": [
        {
          "output_type": "execute_result",
          "data": {
            "text/plain": [
              "負傷    19111\n",
              "死亡       90\n",
              "Name: 内容, dtype: int64"
            ]
          },
          "metadata": {},
          "execution_count": 75
        }
      ]
    },
    {
      "cell_type": "code",
      "source": [
        "df_accident_tokyo['種別'].value_counts()"
      ],
      "metadata": {
        "colab": {
          "base_uri": "https://localhost:8080/"
        },
        "id": "zAulJBz5WWxV",
        "outputId": "395cc0e1-eed8-47d0-d8c9-ed4be0b689da"
      },
      "execution_count": 76,
      "outputs": [
        {
          "output_type": "execute_result",
          "data": {
            "text/plain": [
              "車両相互    13555\n",
              "人対車両     3243\n",
              "車両単独     2396\n",
              "列車          7\n",
              "Name: 種別, dtype: int64"
            ]
          },
          "metadata": {},
          "execution_count": 76
        }
      ]
    },
    {
      "cell_type": "code",
      "source": [
        "df_accident_tokyo[['死者数', '負傷者数']].sum()"
      ],
      "metadata": {
        "colab": {
          "base_uri": "https://localhost:8080/"
        },
        "id": "JlvW9_HdavuW",
        "outputId": "5fce3a76-d3d7-4792-d4d2-f72dfacdd6d8"
      },
      "execution_count": 79,
      "outputs": [
        {
          "output_type": "execute_result",
          "data": {
            "text/plain": [
              "死者数        91\n",
              "負傷者数    21409\n",
              "dtype: int64"
            ]
          },
          "metadata": {},
          "execution_count": 79
        }
      ]
    },
    {
      "cell_type": "markdown",
      "source": [
        "### 測量計算サイト\n",
        "- [世界測地系座標変換「TKY2JGD」](https://vldb.gsi.go.jp/sokuchi/surveycalc/api_help.html)\n",
        "- リクエストは10s間に3回まで"
      ],
      "metadata": {
        "id": "1wHnPCySShYw"
      }
    },
    {
      "cell_type": "code",
      "source": [
        "TKY2JGD_URL = 'http://vldb.gsi.go.jp/sokuchi/surveycalc/tky2jgd/tky2jgd.pl?outputType=json&sokuti=2&Place=1&'"
      ],
      "metadata": {
        "id": "8_-42r3RNjRm"
      },
      "execution_count": 88,
      "outputs": []
    },
    {
      "cell_type": "code",
      "source": [
        "df_accident_extract = df_accident_tokyo.iloc[0:10000]"
      ],
      "metadata": {
        "id": "jVUaTrsleA3K"
      },
      "execution_count": 89,
      "outputs": []
    },
    {
      "cell_type": "code",
      "source": [
        "start_time = time.time()\n",
        "output = []\n",
        "for index, (lat, lon) in enumerate(zip(df_accident_extract['lat'].values, df_accident_extract['lon'].values)):\n",
        "    if (index % 100) == 0:\n",
        "        print(f'{index}: {int(time.time() - start_time)}s')\n",
        "\n",
        "    url = f'{TKY2JGD_URL}latitude={lat}&longitude={lon}'\n",
        "    try:\n",
        "        res = requests.get(url)\n",
        "        if res.status_code == 200:\n",
        "            tmp = json.loads(res.content)['OutputData']\n",
        "            tmp['index'] = index\n",
        "            output.append(tmp)\n",
        "        else:\n",
        "            print(f'{index}: status_code: {res.status_code}')\n",
        "    except Exception as e:\n",
        "        print(f'{index}: {e}')\n",
        "    time.sleep(2)\n",
        "\n",
        "df_output = pd.DataFrame(output)\n",
        "print(df_output.shape)"
      ],
      "metadata": {
        "colab": {
          "base_uri": "https://localhost:8080/"
        },
        "id": "Gzp2y2cNSQdT",
        "outputId": "0aeeeea0-0aec-4dd6-a944-b58ecfc6b646"
      },
      "execution_count": 90,
      "outputs": [
        {
          "output_type": "stream",
          "name": "stdout",
          "text": [
            "0: 0s\n",
            "100: 561s\n",
            "200: 1121s\n",
            "300: 1681s\n",
            "400: 2241s\n",
            "500: 2801s\n",
            "600: 3362s\n",
            "700: 3922s\n",
            "800: 4482s\n",
            "900: 5043s\n",
            "1000: 5604s\n",
            "1100: 6164s\n",
            "1200: 6724s\n",
            "1300: 7285s\n",
            "1400: 7845s\n",
            "1500: 8405s\n",
            "1600: 8965s\n",
            "1700: 9526s\n",
            "1800: 10087s\n",
            "1900: 10649s\n",
            "2000: 11209s\n",
            "2100: 11775s\n",
            "2200: 12338s\n",
            "2300: 12901s\n",
            "2400: 13464s\n",
            "2500: 14025s\n",
            "2600: 14586s\n",
            "2700: 15146s\n",
            "2800: 15706s\n",
            "2900: 16267s\n",
            "3000: 16827s\n",
            "3100: 17388s\n",
            "3200: 17948s\n",
            "3300: 18509s\n",
            "3400: 19070s\n",
            "3500: 19632s\n",
            "3600: 20194s\n",
            "3700: 20755s\n",
            "3800: 21318s\n",
            "3900: 21883s\n",
            "4000: 22448s\n",
            "4100: 23011s\n",
            "4200: 23574s\n",
            "4300: 24136s\n",
            "4400: 24699s\n",
            "4500: 25263s\n",
            "4600: 25828s\n",
            "4700: 26393s\n",
            "4800: 26961s\n",
            "4900: 27527s\n",
            "5000: 28093s\n",
            "5100: 28657s\n",
            "5200: 29223s\n",
            "5300: 29786s\n",
            "5400: 30350s\n",
            "5500: 30916s\n",
            "5600: 31480s\n",
            "5700: 32045s\n",
            "5800: 32612s\n",
            "5900: 33180s\n",
            "6000: 33745s\n",
            "6100: 34313s\n",
            "6200: 34879s\n",
            "6300: 35442s\n",
            "6400: 36007s\n",
            "6500: 36572s\n",
            "6600: 37137s\n",
            "6700: 37703s\n",
            "6800: 38267s\n",
            "6900: 38830s\n",
            "7000: 39392s\n",
            "7100: 39955s\n",
            "7200: 40517s\n",
            "7300: 41080s\n",
            "7400: 41643s\n",
            "7500: 42209s\n",
            "7600: 42775s\n",
            "7700: 43341s\n",
            "7800: 43907s\n",
            "7900: 44472s\n",
            "8000: 45037s\n",
            "8100: 45604s\n",
            "8200: 46169s\n",
            "8300: 46732s\n",
            "8400: 47300s\n",
            "8500: 47865s\n",
            "8600: 48430s\n",
            "8700: 48999s\n",
            "8800: 49567s\n",
            "8900: 50133s\n",
            "9000: 50700s\n",
            "9100: 51265s\n",
            "9200: 51831s\n",
            "9300: 52398s\n",
            "9400: 52967s\n",
            "9500: 53533s\n",
            "9600: 54102s\n",
            "9700: 54670s\n",
            "9800: 55236s\n",
            "9900: 55804s\n",
            "(10000, 4)\n"
          ]
        }
      ]
    },
    {
      "cell_type": "code",
      "source": [
        "df_output[['index', 'latitude', 'longitude']].to_csv(os.path.join(DIR_NAME, 'traffic_accident_1.csv'), index=False)"
      ],
      "metadata": {
        "id": "UtmY4_HHXmDD"
      },
      "execution_count": 93,
      "outputs": []
    },
    {
      "cell_type": "code",
      "source": [],
      "metadata": {
        "id": "8SCN6G6C4uf6"
      },
      "execution_count": null,
      "outputs": []
    }
  ]
}