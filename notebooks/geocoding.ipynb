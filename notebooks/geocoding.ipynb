{
  "cells": [
    {
      "cell_type": "markdown",
      "metadata": {
        "id": "view-in-github",
        "colab_type": "text"
      },
      "source": [
        "<a href=\"https://colab.research.google.com/github/z-guard/analysis/blob/main/notebooks/geocoding.ipynb\" target=\"_parent\"><img src=\"https://colab.research.google.com/assets/colab-badge.svg\" alt=\"Open In Colab\"/></a>"
      ]
    },
    {
      "cell_type": "markdown",
      "metadata": {
        "id": "Tw47aP23__uX"
      },
      "source": [
        "## ジオコーディング"
      ]
    },
    {
      "cell_type": "code",
      "execution_count": null,
      "metadata": {
        "id": "B0fUUehT_-HD"
      },
      "outputs": [],
      "source": [
        "!pip install -q geocoder"
      ]
    },
    {
      "cell_type": "code",
      "execution_count": null,
      "metadata": {
        "colab": {
          "base_uri": "https://localhost:8080/"
        },
        "id": "PLZulQxLzzUM",
        "outputId": "1045fe3a-0800-4eaf-f400-98d8a3de539e"
      },
      "outputs": [
        {
          "name": "stdout",
          "output_type": "stream",
          "text": [
            "Drive already mounted at /content/drive; to attempt to forcibly remount, call drive.mount(\"/content/drive\", force_remount=True).\n"
          ]
        }
      ],
      "source": [
        "from google.colab import drive\n",
        "drive.mount('/content/drive')"
      ]
    },
    {
      "cell_type": "code",
      "execution_count": null,
      "metadata": {
        "id": "VW9Q1mfBz24f"
      },
      "outputs": [],
      "source": [
        "DIR_NAME = '/content/drive/MyDrive/z-gard/data'"
      ]
    },
    {
      "cell_type": "code",
      "execution_count": null,
      "metadata": {
        "id": "M6IXRQsQz9jK"
      },
      "outputs": [],
      "source": [
        "import os\n",
        "import requests\n",
        "import json\n",
        "import pandas as pd\n",
        "from urllib.parse import urlparse\n",
        "import geocoder\n",
        "import math\n",
        "import numpy as np\n",
        "\n",
        "pd.set_option('display.max_columns', 50)\n",
        "pd.set_option('display.max_rows', 100)"
      ]
    },
    {
      "cell_type": "code",
      "execution_count": null,
      "metadata": {
        "colab": {
          "base_uri": "https://localhost:8080/"
        },
        "id": "tI6hPscq0B0i",
        "outputId": "50aa6a5b-b588-4073-c4dc-a7b356b34b93"
      },
      "outputs": [
        {
          "name": "stdout",
          "output_type": "stream",
          "text": [
            "(3145, 4)\n"
          ]
        }
      ],
      "source": [
        "df_pop_master = pd.read_csv(os.path.join(DIR_NAME, 'population_master.csv'), dtype='str')[['town_id', '市区町村名', '町名', '町丁目']]\n",
        "print(df_pop_master.shape)"
      ]
    },
    {
      "cell_type": "code",
      "execution_count": null,
      "metadata": {
        "colab": {
          "base_uri": "https://localhost:8080/",
          "height": 206
        },
        "id": "OH8QW_eh0EI-",
        "outputId": "e1c0d56f-3cd1-4a3c-fe5e-6f36b4c747fb"
      },
      "outputs": [
        {
          "data": {
            "text/html": [
              "\n",
              "  <div id=\"df-66f99743-8f58-44b6-ad42-19221e745a61\">\n",
              "    <div class=\"colab-df-container\">\n",
              "      <div>\n",
              "<style scoped>\n",
              "    .dataframe tbody tr th:only-of-type {\n",
              "        vertical-align: middle;\n",
              "    }\n",
              "\n",
              "    .dataframe tbody tr th {\n",
              "        vertical-align: top;\n",
              "    }\n",
              "\n",
              "    .dataframe thead th {\n",
              "        text-align: right;\n",
              "    }\n",
              "</style>\n",
              "<table border=\"1\" class=\"dataframe\">\n",
              "  <thead>\n",
              "    <tr style=\"text-align: right;\">\n",
              "      <th></th>\n",
              "      <th>town_id</th>\n",
              "      <th>市区町村名</th>\n",
              "      <th>町名</th>\n",
              "      <th>町丁目</th>\n",
              "    </tr>\n",
              "  </thead>\n",
              "  <tbody>\n",
              "    <tr>\n",
              "      <th>0</th>\n",
              "      <td>101003</td>\n",
              "      <td>千代田区</td>\n",
              "      <td>丸の内</td>\n",
              "      <td>丸の内１丁目</td>\n",
              "    </tr>\n",
              "    <tr>\n",
              "      <th>1</th>\n",
              "      <td>101004</td>\n",
              "      <td>千代田区</td>\n",
              "      <td>丸の内</td>\n",
              "      <td>丸の内２丁目</td>\n",
              "    </tr>\n",
              "    <tr>\n",
              "      <th>2</th>\n",
              "      <td>101005</td>\n",
              "      <td>千代田区</td>\n",
              "      <td>丸の内</td>\n",
              "      <td>丸の内３丁目</td>\n",
              "    </tr>\n",
              "    <tr>\n",
              "      <th>3</th>\n",
              "      <td>101007</td>\n",
              "      <td>千代田区</td>\n",
              "      <td>大手町</td>\n",
              "      <td>大手町１丁目</td>\n",
              "    </tr>\n",
              "    <tr>\n",
              "      <th>4</th>\n",
              "      <td>101008</td>\n",
              "      <td>千代田区</td>\n",
              "      <td>大手町</td>\n",
              "      <td>大手町２丁目</td>\n",
              "    </tr>\n",
              "  </tbody>\n",
              "</table>\n",
              "</div>\n",
              "      <button class=\"colab-df-convert\" onclick=\"convertToInteractive('df-66f99743-8f58-44b6-ad42-19221e745a61')\"\n",
              "              title=\"Convert this dataframe to an interactive table.\"\n",
              "              style=\"display:none;\">\n",
              "        \n",
              "  <svg xmlns=\"http://www.w3.org/2000/svg\" height=\"24px\"viewBox=\"0 0 24 24\"\n",
              "       width=\"24px\">\n",
              "    <path d=\"M0 0h24v24H0V0z\" fill=\"none\"/>\n",
              "    <path d=\"M18.56 5.44l.94 2.06.94-2.06 2.06-.94-2.06-.94-.94-2.06-.94 2.06-2.06.94zm-11 1L8.5 8.5l.94-2.06 2.06-.94-2.06-.94L8.5 2.5l-.94 2.06-2.06.94zm10 10l.94 2.06.94-2.06 2.06-.94-2.06-.94-.94-2.06-.94 2.06-2.06.94z\"/><path d=\"M17.41 7.96l-1.37-1.37c-.4-.4-.92-.59-1.43-.59-.52 0-1.04.2-1.43.59L10.3 9.45l-7.72 7.72c-.78.78-.78 2.05 0 2.83L4 21.41c.39.39.9.59 1.41.59.51 0 1.02-.2 1.41-.59l7.78-7.78 2.81-2.81c.8-.78.8-2.07 0-2.86zM5.41 20L4 18.59l7.72-7.72 1.47 1.35L5.41 20z\"/>\n",
              "  </svg>\n",
              "      </button>\n",
              "      \n",
              "  <style>\n",
              "    .colab-df-container {\n",
              "      display:flex;\n",
              "      flex-wrap:wrap;\n",
              "      gap: 12px;\n",
              "    }\n",
              "\n",
              "    .colab-df-convert {\n",
              "      background-color: #E8F0FE;\n",
              "      border: none;\n",
              "      border-radius: 50%;\n",
              "      cursor: pointer;\n",
              "      display: none;\n",
              "      fill: #1967D2;\n",
              "      height: 32px;\n",
              "      padding: 0 0 0 0;\n",
              "      width: 32px;\n",
              "    }\n",
              "\n",
              "    .colab-df-convert:hover {\n",
              "      background-color: #E2EBFA;\n",
              "      box-shadow: 0px 1px 2px rgba(60, 64, 67, 0.3), 0px 1px 3px 1px rgba(60, 64, 67, 0.15);\n",
              "      fill: #174EA6;\n",
              "    }\n",
              "\n",
              "    [theme=dark] .colab-df-convert {\n",
              "      background-color: #3B4455;\n",
              "      fill: #D2E3FC;\n",
              "    }\n",
              "\n",
              "    [theme=dark] .colab-df-convert:hover {\n",
              "      background-color: #434B5C;\n",
              "      box-shadow: 0px 1px 3px 1px rgba(0, 0, 0, 0.15);\n",
              "      filter: drop-shadow(0px 1px 2px rgba(0, 0, 0, 0.3));\n",
              "      fill: #FFFFFF;\n",
              "    }\n",
              "  </style>\n",
              "\n",
              "      <script>\n",
              "        const buttonEl =\n",
              "          document.querySelector('#df-66f99743-8f58-44b6-ad42-19221e745a61 button.colab-df-convert');\n",
              "        buttonEl.style.display =\n",
              "          google.colab.kernel.accessAllowed ? 'block' : 'none';\n",
              "\n",
              "        async function convertToInteractive(key) {\n",
              "          const element = document.querySelector('#df-66f99743-8f58-44b6-ad42-19221e745a61');\n",
              "          const dataTable =\n",
              "            await google.colab.kernel.invokeFunction('convertToInteractive',\n",
              "                                                     [key], {});\n",
              "          if (!dataTable) return;\n",
              "\n",
              "          const docLinkHtml = 'Like what you see? Visit the ' +\n",
              "            '<a target=\"_blank\" href=https://colab.research.google.com/notebooks/data_table.ipynb>data table notebook</a>'\n",
              "            + ' to learn more about interactive tables.';\n",
              "          element.innerHTML = '';\n",
              "          dataTable['output_type'] = 'display_data';\n",
              "          await google.colab.output.renderOutput(dataTable, element);\n",
              "          const docLink = document.createElement('div');\n",
              "          docLink.innerHTML = docLinkHtml;\n",
              "          element.appendChild(docLink);\n",
              "        }\n",
              "      </script>\n",
              "    </div>\n",
              "  </div>\n",
              "  "
            ],
            "text/plain": [
              "  town_id 市区町村名   町名     町丁目\n",
              "0  101003  千代田区  丸の内  丸の内１丁目\n",
              "1  101004  千代田区  丸の内  丸の内２丁目\n",
              "2  101005  千代田区  丸の内  丸の内３丁目\n",
              "3  101007  千代田区  大手町  大手町１丁目\n",
              "4  101008  千代田区  大手町  大手町２丁目"
            ]
          },
          "execution_count": 7,
          "metadata": {},
          "output_type": "execute_result"
        }
      ],
      "source": [
        "df_pop_master.head()"
      ]
    },
    {
      "cell_type": "code",
      "execution_count": null,
      "metadata": {
        "id": "ZpmVKoeiAhkv"
      },
      "outputs": [],
      "source": [
        "def number_to_kanji(str):\n",
        "    return str.translate(str.maketrans({'１':'一', '２':'二', '３':'三', '４':'四', '５':'五', '６':'六', '７':'七', '８':'八', '９':'九'}))\n",
        "\n",
        "# 緯度経度取得\n",
        "def add_lat_lon(df_master):\n",
        "    lats = []\n",
        "    lons = []\n",
        "    for i, row in df_master.iterrows():\n",
        "        if (i % 500) == 0:\n",
        "            print(f'{i}')\n",
        "        chocho = number_to_kanji(row['町丁目'])\n",
        "        ret = geocoder.osm('東京都' + row['市区町村名'] + chocho, timeout=10)\n",
        "        if not ret.ok:\n",
        "            print(i, row['市区町村名'], chocho)\n",
        "        lats.append(ret.lat)\n",
        "        lons.append(ret.lng)\n",
        "    df_copy = df_master.copy()\n",
        "    df_copy['緯度'] = lats\n",
        "    df_copy['経度'] = lons\n",
        "    return df_copy\n",
        "\n",
        "\n",
        "# 距離計算\n",
        "def get_distance(lat1, lon1, lat2, lon2):\n",
        "    _lat1 = lat1 * math.pi / 180\n",
        "    _lon1 = lon1 * math.pi / 180\n",
        "    _lat2 = lat2 * math.pi / 180\n",
        "    _lon2 = lon2 * math.pi / 180\n",
        "    _tmp = math.cos(_lat1) * math.cos(_lat2) * math.cos(_lon2 - _lon1) + math.sin(_lat1) * math.sin(_lat2)\n",
        "    _tmp = 1 if _tmp > 1 else -1 if _tmp < -1 else _tmp\n",
        "    return 6371 * math.acos(_tmp)"
      ]
    },
    {
      "cell_type": "code",
      "execution_count": null,
      "metadata": {
        "colab": {
          "background_save": true,
          "base_uri": "https://localhost:8080/"
        },
        "id": "Xxm9BsBJ0JYO",
        "outputId": "ee419dbf-b64e-4f8b-f7f1-c75c1f1dd739"
      },
      "outputs": [
        {
          "name": "stdout",
          "output_type": "stream",
          "text": [
            "0\n",
            "500\n",
            "1000\n",
            "1050 品川区 水面\n",
            "1354 大田区 羽田沖水面\n",
            "1355 大田区 多摩川河川敷（上流）\n",
            "1356 大田区 多摩川河川敷（下流）\n",
            "1357 大田区 ふるさとの浜辺公園\n",
            "1500\n",
            "1532 世田谷区 深沢七丁目\n",
            "2000\n",
            "2500\n",
            "2829 葛飾区 お花茶屋一丁目\n",
            "2830 葛飾区 お花茶屋二丁目\n",
            "2831 葛飾区 お花茶屋三丁目\n",
            "3000\n",
            "CPU times: user 45.6 s, sys: 2.81 s, total: 48.4 s\n",
            "Wall time: 26min 8s\n"
          ]
        }
      ],
      "source": [
        "%%time\n",
        "df_pop_lat_lon = add_lat_lon(df_pop_master)"
      ]
    },
    {
      "cell_type": "code",
      "execution_count": null,
      "metadata": {
        "colab": {
          "background_save": true
        },
        "id": "PZ3eyuJ3AyYG",
        "outputId": "d6c881cb-95d4-46e9-a14a-7a7eff00df1f"
      },
      "outputs": [
        {
          "name": "stdout",
          "output_type": "stream",
          "text": [
            "(2809, 3)\n",
            "(3145, 7)\n",
            "(3145, 6)\n"
          ]
        }
      ],
      "source": [
        "place_photo_file = os.path.join(DIR_NAME, 'place_photo.csv')\n",
        "if os.path.exists(place_photo_file):\n",
        "    df_place = pd.read_csv(place_photo_file, dtype={'no': 'str'})[['no', 'lat', 'lng']]\n",
        "    print(df_place.shape)\n",
        "\n",
        "    df_pop_place = pd.concat([\n",
        "        df_pop_lat_lon.set_index('town_id'),\n",
        "        df_place.set_index('no')\n",
        "    ], axis=1)\n",
        "    df_pop_place.index.name = 'town_id'\n",
        "    print(df_pop_place.shape)\n",
        "\n",
        "    df_pop_place['dist'] = df_pop_place.apply(lambda x: get_distance(x['緯度'], x['経度'], x['lat'], x['lng']), axis=1)\n",
        "    df_pop_place.loc[(df_pop_place['dist'] > 0.8)|(df_pop_place['緯度'].isna()), '緯度'] = df_pop_place['lat']\n",
        "    df_pop_place.loc[(df_pop_place['dist'] > 0.8)|(df_pop_place['経度'].isna()), '経度'] = df_pop_place['lng']\n",
        "    df_pop_lat_lon = df_pop_place.drop(columns=['lat', 'lng', 'dist']).reset_index()\n",
        "    print(df_pop_lat_lon.shape)"
      ]
    },
    {
      "cell_type": "code",
      "execution_count": null,
      "metadata": {
        "colab": {
          "background_save": true
        },
        "id": "v_OL_d4biwn4"
      },
      "outputs": [],
      "source": [
        "# df_pop_lat_lon = df_pop_lat_lon.rename(columns={'地域ID':'town_id'})"
      ]
    },
    {
      "cell_type": "code",
      "execution_count": null,
      "metadata": {
        "colab": {
          "background_save": true
        },
        "id": "WyGWj9wQXQXk",
        "outputId": "4653997e-9e18-4843-ecd0-af8174f29043"
      },
      "outputs": [
        {
          "data": {
            "text/html": [
              "\n",
              "  <div id=\"df-5d22d785-424c-4f32-9997-14b8bcac6fe5\">\n",
              "    <div class=\"colab-df-container\">\n",
              "      <div>\n",
              "<style scoped>\n",
              "    .dataframe tbody tr th:only-of-type {\n",
              "        vertical-align: middle;\n",
              "    }\n",
              "\n",
              "    .dataframe tbody tr th {\n",
              "        vertical-align: top;\n",
              "    }\n",
              "\n",
              "    .dataframe thead th {\n",
              "        text-align: right;\n",
              "    }\n",
              "</style>\n",
              "<table border=\"1\" class=\"dataframe\">\n",
              "  <thead>\n",
              "    <tr style=\"text-align: right;\">\n",
              "      <th></th>\n",
              "      <th>town_id</th>\n",
              "      <th>市区町村名</th>\n",
              "      <th>町名</th>\n",
              "      <th>町丁目</th>\n",
              "      <th>緯度</th>\n",
              "      <th>経度</th>\n",
              "    </tr>\n",
              "  </thead>\n",
              "  <tbody>\n",
              "    <tr>\n",
              "      <th>1050</th>\n",
              "      <td>109158</td>\n",
              "      <td>品川区</td>\n",
              "      <td>水面</td>\n",
              "      <td>水面</td>\n",
              "      <td>NaN</td>\n",
              "      <td>NaN</td>\n",
              "    </tr>\n",
              "    <tr>\n",
              "      <th>1354</th>\n",
              "      <td>111269</td>\n",
              "      <td>大田区</td>\n",
              "      <td>羽田沖水面</td>\n",
              "      <td>羽田沖水面</td>\n",
              "      <td>NaN</td>\n",
              "      <td>NaN</td>\n",
              "    </tr>\n",
              "    <tr>\n",
              "      <th>1357</th>\n",
              "      <td>111273</td>\n",
              "      <td>大田区</td>\n",
              "      <td>ふるさとの浜辺公園</td>\n",
              "      <td>ふるさとの浜辺公園</td>\n",
              "      <td>NaN</td>\n",
              "      <td>NaN</td>\n",
              "    </tr>\n",
              "    <tr>\n",
              "      <th>2830</th>\n",
              "      <td>122050</td>\n",
              "      <td>葛飾区</td>\n",
              "      <td>お花茶屋</td>\n",
              "      <td>お花茶屋２丁目</td>\n",
              "      <td>NaN</td>\n",
              "      <td>NaN</td>\n",
              "    </tr>\n",
              "  </tbody>\n",
              "</table>\n",
              "</div>\n",
              "      <button class=\"colab-df-convert\" onclick=\"convertToInteractive('df-5d22d785-424c-4f32-9997-14b8bcac6fe5')\"\n",
              "              title=\"Convert this dataframe to an interactive table.\"\n",
              "              style=\"display:none;\">\n",
              "        \n",
              "  <svg xmlns=\"http://www.w3.org/2000/svg\" height=\"24px\"viewBox=\"0 0 24 24\"\n",
              "       width=\"24px\">\n",
              "    <path d=\"M0 0h24v24H0V0z\" fill=\"none\"/>\n",
              "    <path d=\"M18.56 5.44l.94 2.06.94-2.06 2.06-.94-2.06-.94-.94-2.06-.94 2.06-2.06.94zm-11 1L8.5 8.5l.94-2.06 2.06-.94-2.06-.94L8.5 2.5l-.94 2.06-2.06.94zm10 10l.94 2.06.94-2.06 2.06-.94-2.06-.94-.94-2.06-.94 2.06-2.06.94z\"/><path d=\"M17.41 7.96l-1.37-1.37c-.4-.4-.92-.59-1.43-.59-.52 0-1.04.2-1.43.59L10.3 9.45l-7.72 7.72c-.78.78-.78 2.05 0 2.83L4 21.41c.39.39.9.59 1.41.59.51 0 1.02-.2 1.41-.59l7.78-7.78 2.81-2.81c.8-.78.8-2.07 0-2.86zM5.41 20L4 18.59l7.72-7.72 1.47 1.35L5.41 20z\"/>\n",
              "  </svg>\n",
              "      </button>\n",
              "      \n",
              "  <style>\n",
              "    .colab-df-container {\n",
              "      display:flex;\n",
              "      flex-wrap:wrap;\n",
              "      gap: 12px;\n",
              "    }\n",
              "\n",
              "    .colab-df-convert {\n",
              "      background-color: #E8F0FE;\n",
              "      border: none;\n",
              "      border-radius: 50%;\n",
              "      cursor: pointer;\n",
              "      display: none;\n",
              "      fill: #1967D2;\n",
              "      height: 32px;\n",
              "      padding: 0 0 0 0;\n",
              "      width: 32px;\n",
              "    }\n",
              "\n",
              "    .colab-df-convert:hover {\n",
              "      background-color: #E2EBFA;\n",
              "      box-shadow: 0px 1px 2px rgba(60, 64, 67, 0.3), 0px 1px 3px 1px rgba(60, 64, 67, 0.15);\n",
              "      fill: #174EA6;\n",
              "    }\n",
              "\n",
              "    [theme=dark] .colab-df-convert {\n",
              "      background-color: #3B4455;\n",
              "      fill: #D2E3FC;\n",
              "    }\n",
              "\n",
              "    [theme=dark] .colab-df-convert:hover {\n",
              "      background-color: #434B5C;\n",
              "      box-shadow: 0px 1px 3px 1px rgba(0, 0, 0, 0.15);\n",
              "      filter: drop-shadow(0px 1px 2px rgba(0, 0, 0, 0.3));\n",
              "      fill: #FFFFFF;\n",
              "    }\n",
              "  </style>\n",
              "\n",
              "      <script>\n",
              "        const buttonEl =\n",
              "          document.querySelector('#df-5d22d785-424c-4f32-9997-14b8bcac6fe5 button.colab-df-convert');\n",
              "        buttonEl.style.display =\n",
              "          google.colab.kernel.accessAllowed ? 'block' : 'none';\n",
              "\n",
              "        async function convertToInteractive(key) {\n",
              "          const element = document.querySelector('#df-5d22d785-424c-4f32-9997-14b8bcac6fe5');\n",
              "          const dataTable =\n",
              "            await google.colab.kernel.invokeFunction('convertToInteractive',\n",
              "                                                     [key], {});\n",
              "          if (!dataTable) return;\n",
              "\n",
              "          const docLinkHtml = 'Like what you see? Visit the ' +\n",
              "            '<a target=\"_blank\" href=https://colab.research.google.com/notebooks/data_table.ipynb>data table notebook</a>'\n",
              "            + ' to learn more about interactive tables.';\n",
              "          element.innerHTML = '';\n",
              "          dataTable['output_type'] = 'display_data';\n",
              "          await google.colab.output.renderOutput(dataTable, element);\n",
              "          const docLink = document.createElement('div');\n",
              "          docLink.innerHTML = docLinkHtml;\n",
              "          element.appendChild(docLink);\n",
              "        }\n",
              "      </script>\n",
              "    </div>\n",
              "  </div>\n",
              "  "
            ],
            "text/plain": [
              "     town_id 市区町村名         町名        町丁目  緯度  経度\n",
              "1050  109158   品川区         水面         水面 NaN NaN\n",
              "1354  111269   大田区      羽田沖水面      羽田沖水面 NaN NaN\n",
              "1357  111273   大田区  ふるさとの浜辺公園  ふるさとの浜辺公園 NaN NaN\n",
              "2830  122050   葛飾区       お花茶屋    お花茶屋２丁目 NaN NaN"
            ]
          },
          "execution_count": 12,
          "metadata": {},
          "output_type": "execute_result"
        }
      ],
      "source": [
        "df_pop_lat_lon[(df_pop_lat_lon['緯度'].isna())|(df_pop_lat_lon['経度'].isna())]"
      ]
    },
    {
      "cell_type": "markdown",
      "metadata": {
        "id": "FKRc0W9MuhuB"
      },
      "source": [
        "## 近隣の町"
      ]
    },
    {
      "cell_type": "code",
      "execution_count": null,
      "metadata": {
        "colab": {
          "background_save": true
        },
        "id": "cVpkip8cXijE"
      },
      "outputs": [],
      "source": [
        "lat_min = df_pop_lat_lon['緯度'].min()\n",
        "lat_max = df_pop_lat_lon['緯度'].max()\n",
        "lon_min = df_pop_lat_lon['経度'].min()\n",
        "lon_max = df_pop_lat_lon['経度'].max()\n",
        "div_count = 30\n",
        "lat_div = (lat_max - lat_min) / (div_count - 1)\n",
        "lon_div = (lon_max - lon_min) / (div_count - 1)"
      ]
    },
    {
      "cell_type": "code",
      "execution_count": null,
      "metadata": {
        "colab": {
          "background_save": true
        },
        "id": "pOZe8U1Y1VKn",
        "outputId": "d30e3832-01d6-4bf3-fbd4-bb9ad6250b4f"
      },
      "outputs": [
        {
          "data": {
            "text/plain": [
              "1.5198371124248922"
            ]
          },
          "execution_count": 14,
          "metadata": {},
          "output_type": "execute_result"
        }
      ],
      "source": [
        "# 隣の町までの距離\n",
        "get_distance(lat_min, lon_min, (lat_min+lat_div), (lon_min+lon_div))"
      ]
    },
    {
      "cell_type": "code",
      "execution_count": null,
      "metadata": {
        "colab": {
          "background_save": true
        },
        "id": "wmnYlrYnZTcs",
        "outputId": "e9b63be8-cc19-442a-ae95-bcb6e45c6403"
      },
      "outputs": [
        {
          "name": "stdout",
          "output_type": "stream",
          "text": [
            "563\n"
          ]
        }
      ],
      "source": [
        "df_pop_lat_lon['lat_index'] = round((df_pop_lat_lon['緯度'] - lat_min) / lat_div)\n",
        "df_pop_lat_lon['lon_index'] = round((df_pop_lat_lon['経度'] - lon_min) / lon_div)\n",
        "df_pop_lat_lon['map_index'] = df_pop_lat_lon['lat_index'] * div_count + df_pop_lat_lon['lon_index']\n",
        "df_pop_lat_lon['map_index'] = df_pop_lat_lon['map_index'].fillna(-1).astype(int)\n",
        "print(df_pop_lat_lon['map_index'].nunique())"
      ]
    },
    {
      "cell_type": "code",
      "execution_count": null,
      "metadata": {
        "colab": {
          "background_save": true
        },
        "id": "j9TgI2OL1S49",
        "outputId": "194a0599-cf8b-4af5-e8e1-56e61f397482"
      },
      "outputs": [
        {
          "name": "stdout",
          "output_type": "stream",
          "text": [
            "(562, 3)\n"
          ]
        }
      ],
      "source": [
        "# nearby search用の緯度経度\n",
        "nearby_search = []\n",
        "for map_i in df_pop_lat_lon['map_index'].unique():\n",
        "    if map_i < 0:\n",
        "        continue\n",
        "    lat_index = map_i // div_count\n",
        "    lon_index = map_i % div_count\n",
        "    lat = lat_min + lat_div * (lat_index + 0.5)\n",
        "    lon = lon_min + lon_div * (lon_index + 0.5)\n",
        "    nearby_search.append({'map_index': map_i, 'lat': lat, 'lon': lon})\n",
        "\n",
        "df_nearby_search = pd.DataFrame(nearby_search).sort_values('map_index')\n",
        "print(df_nearby_search.shape)\n",
        "\n",
        "df_nearby_search.to_csv(os.path.join(DIR_NAME, 'nearby_search_base.csv'), index=False)"
      ]
    },
    {
      "cell_type": "code",
      "execution_count": null,
      "metadata": {
        "colab": {
          "background_save": true
        },
        "id": "BCgGophuaa8m"
      },
      "outputs": [],
      "source": [
        "def get_near_map_index(map_index):\n",
        "    if (map_index < 0) or (map_index >= div_count*div_count):\n",
        "        return []\n",
        "    # 自分の周囲8個分のmap_indexを返す\n",
        "    ret = []\n",
        "    lat_index = map_index // div_count\n",
        "    lon_index = map_index % div_count\n",
        "    for lat in [-1, 0, 1]:\n",
        "        for lon in [-1, 0, 1]:\n",
        "            lat_tmp = lat_index + lat\n",
        "            lon_tmp = lon_index + lon\n",
        "            if (lat_tmp < 0) or (lat_tmp >= div_count) or (lon_tmp < 0) or (lon_tmp >= div_count):\n",
        "                continue\n",
        "            ret.append(lat_tmp * div_count + lon_tmp)\n",
        "    return ret"
      ]
    },
    {
      "cell_type": "code",
      "execution_count": null,
      "metadata": {
        "colab": {
          "background_save": true
        },
        "id": "ICQyxvpxbqXS",
        "outputId": "63a0b057-e705-4d1a-99fc-de2e640f9c1c"
      },
      "outputs": [
        {
          "name": "stdout",
          "output_type": "stream",
          "text": [
            "(901, 1)\n"
          ]
        }
      ],
      "source": [
        "df_map_all = pd.DataFrame(range(div_count*div_count), columns=['map_index'])\n",
        "df_map_all = df_map_all.set_index('map_index')\n",
        "\n",
        "map_table_org = df_pop_lat_lon.groupby('map_index')['town_id'].apply(list)\n",
        "map_table = pd.concat([map_table_org, df_map_all], axis=1).sort_index().fillna(0)\n",
        "print(map_table.shape)"
      ]
    },
    {
      "cell_type": "code",
      "execution_count": null,
      "metadata": {
        "colab": {
          "background_save": true
        },
        "id": "DOtiOlpLcImq",
        "outputId": "a3b24ba7-2e65-4482-aa87-8a756e79b5b0"
      },
      "outputs": [
        {
          "name": "stdout",
          "output_type": "stream",
          "text": [
            "563\n"
          ]
        }
      ],
      "source": [
        "df_map_index = map_table_org.reset_index()\n",
        "df_map_index['near_list'] = df_map_index['map_index'].apply(lambda x: get_near_map_index(x))\n",
        "df_map_index = df_map_index[df_map_index['town_id'].notna()].reset_index(drop=True)\n",
        "print(len(df_map_index))"
      ]
    },
    {
      "cell_type": "code",
      "execution_count": null,
      "metadata": {
        "colab": {
          "background_save": true
        },
        "id": "AvXgPOJHji-y"
      },
      "outputs": [],
      "source": [
        "all_town_list = []\n",
        "for i, row in df_map_index.iterrows():\n",
        "    town_list = []\n",
        "    for map_id in row['near_list']:\n",
        "        tmp_l = map_table.loc[map_id]['town_id']\n",
        "        if tmp_l != 0:\n",
        "            town_list += tmp_l\n",
        "    all_town_list.append(town_list)\n",
        "\n",
        "df_map_index['near_town_list'] = all_town_list"
      ]
    },
    {
      "cell_type": "code",
      "execution_count": null,
      "metadata": {
        "colab": {
          "background_save": true
        },
        "id": "BF6nx4Dhiqsl",
        "outputId": "97918044-5127-4f45-bd8e-18d29afcc58f"
      },
      "outputs": [
        {
          "name": "stdout",
          "output_type": "stream",
          "text": [
            "(3145, 9)\n"
          ]
        }
      ],
      "source": [
        "df_town_all = pd.concat([\n",
        "    df_pop_lat_lon.set_index('town_id'),\n",
        "    df_map_index.drop(columns=['map_index', 'near_list']).explode('town_id').set_index('town_id')\n",
        "], axis=1)\n",
        "print(df_town_all.shape)"
      ]
    },
    {
      "cell_type": "code",
      "execution_count": null,
      "metadata": {
        "colab": {
          "background_save": true
        },
        "id": "K65VTNOYyd6h",
        "outputId": "09d904cd-5458-43ac-af91-789b05240e63"
      },
      "outputs": [
        {
          "data": {
            "text/html": [
              "\n",
              "  <div id=\"df-d4fd5c35-501b-476d-9ffd-881bbd8709c4\">\n",
              "    <div class=\"colab-df-container\">\n",
              "      <div>\n",
              "<style scoped>\n",
              "    .dataframe tbody tr th:only-of-type {\n",
              "        vertical-align: middle;\n",
              "    }\n",
              "\n",
              "    .dataframe tbody tr th {\n",
              "        vertical-align: top;\n",
              "    }\n",
              "\n",
              "    .dataframe thead th {\n",
              "        text-align: right;\n",
              "    }\n",
              "</style>\n",
              "<table border=\"1\" class=\"dataframe\">\n",
              "  <thead>\n",
              "    <tr style=\"text-align: right;\">\n",
              "      <th></th>\n",
              "      <th>市区町村名</th>\n",
              "      <th>町名</th>\n",
              "      <th>町丁目</th>\n",
              "      <th>緯度</th>\n",
              "      <th>経度</th>\n",
              "      <th>lat_index</th>\n",
              "      <th>lon_index</th>\n",
              "      <th>map_index</th>\n",
              "      <th>near_town_list</th>\n",
              "    </tr>\n",
              "    <tr>\n",
              "      <th>town_id</th>\n",
              "      <th></th>\n",
              "      <th></th>\n",
              "      <th></th>\n",
              "      <th></th>\n",
              "      <th></th>\n",
              "      <th></th>\n",
              "      <th></th>\n",
              "      <th></th>\n",
              "      <th></th>\n",
              "    </tr>\n",
              "  </thead>\n",
              "  <tbody>\n",
              "    <tr>\n",
              "      <th>101003</th>\n",
              "      <td>千代田区</td>\n",
              "      <td>丸の内</td>\n",
              "      <td>丸の内１丁目</td>\n",
              "      <td>35.681560</td>\n",
              "      <td>139.767201</td>\n",
              "      <td>15.0</td>\n",
              "      <td>17.0</td>\n",
              "      <td>467</td>\n",
              "      <td>[101005, 101010, 101011, 101013, 101014, 10104...</td>\n",
              "    </tr>\n",
              "    <tr>\n",
              "      <th>101004</th>\n",
              "      <td>千代田区</td>\n",
              "      <td>丸の内</td>\n",
              "      <td>丸の内２丁目</td>\n",
              "      <td>35.680022</td>\n",
              "      <td>139.763447</td>\n",
              "      <td>15.0</td>\n",
              "      <td>16.0</td>\n",
              "      <td>466</td>\n",
              "      <td>[101016, 101017, 101018, 101020, 101005, 10101...</td>\n",
              "    </tr>\n",
              "    <tr>\n",
              "      <th>101005</th>\n",
              "      <td>千代田区</td>\n",
              "      <td>丸の内</td>\n",
              "      <td>丸の内３丁目</td>\n",
              "      <td>35.676952</td>\n",
              "      <td>139.763476</td>\n",
              "      <td>14.0</td>\n",
              "      <td>16.0</td>\n",
              "      <td>436</td>\n",
              "      <td>[103023, 103024, 103025, 103044, 103045, 10304...</td>\n",
              "    </tr>\n",
              "    <tr>\n",
              "      <th>101007</th>\n",
              "      <td>千代田区</td>\n",
              "      <td>大手町</td>\n",
              "      <td>大手町１丁目</td>\n",
              "      <td>35.688069</td>\n",
              "      <td>139.763929</td>\n",
              "      <td>15.0</td>\n",
              "      <td>16.0</td>\n",
              "      <td>466</td>\n",
              "      <td>[101016, 101017, 101018, 101020, 101005, 10101...</td>\n",
              "    </tr>\n",
              "    <tr>\n",
              "      <th>101008</th>\n",
              "      <td>千代田区</td>\n",
              "      <td>大手町</td>\n",
              "      <td>大手町２丁目</td>\n",
              "      <td>35.686301</td>\n",
              "      <td>139.768087</td>\n",
              "      <td>15.0</td>\n",
              "      <td>17.0</td>\n",
              "      <td>467</td>\n",
              "      <td>[101005, 101010, 101011, 101013, 101014, 10104...</td>\n",
              "    </tr>\n",
              "  </tbody>\n",
              "</table>\n",
              "</div>\n",
              "      <button class=\"colab-df-convert\" onclick=\"convertToInteractive('df-d4fd5c35-501b-476d-9ffd-881bbd8709c4')\"\n",
              "              title=\"Convert this dataframe to an interactive table.\"\n",
              "              style=\"display:none;\">\n",
              "        \n",
              "  <svg xmlns=\"http://www.w3.org/2000/svg\" height=\"24px\"viewBox=\"0 0 24 24\"\n",
              "       width=\"24px\">\n",
              "    <path d=\"M0 0h24v24H0V0z\" fill=\"none\"/>\n",
              "    <path d=\"M18.56 5.44l.94 2.06.94-2.06 2.06-.94-2.06-.94-.94-2.06-.94 2.06-2.06.94zm-11 1L8.5 8.5l.94-2.06 2.06-.94-2.06-.94L8.5 2.5l-.94 2.06-2.06.94zm10 10l.94 2.06.94-2.06 2.06-.94-2.06-.94-.94-2.06-.94 2.06-2.06.94z\"/><path d=\"M17.41 7.96l-1.37-1.37c-.4-.4-.92-.59-1.43-.59-.52 0-1.04.2-1.43.59L10.3 9.45l-7.72 7.72c-.78.78-.78 2.05 0 2.83L4 21.41c.39.39.9.59 1.41.59.51 0 1.02-.2 1.41-.59l7.78-7.78 2.81-2.81c.8-.78.8-2.07 0-2.86zM5.41 20L4 18.59l7.72-7.72 1.47 1.35L5.41 20z\"/>\n",
              "  </svg>\n",
              "      </button>\n",
              "      \n",
              "  <style>\n",
              "    .colab-df-container {\n",
              "      display:flex;\n",
              "      flex-wrap:wrap;\n",
              "      gap: 12px;\n",
              "    }\n",
              "\n",
              "    .colab-df-convert {\n",
              "      background-color: #E8F0FE;\n",
              "      border: none;\n",
              "      border-radius: 50%;\n",
              "      cursor: pointer;\n",
              "      display: none;\n",
              "      fill: #1967D2;\n",
              "      height: 32px;\n",
              "      padding: 0 0 0 0;\n",
              "      width: 32px;\n",
              "    }\n",
              "\n",
              "    .colab-df-convert:hover {\n",
              "      background-color: #E2EBFA;\n",
              "      box-shadow: 0px 1px 2px rgba(60, 64, 67, 0.3), 0px 1px 3px 1px rgba(60, 64, 67, 0.15);\n",
              "      fill: #174EA6;\n",
              "    }\n",
              "\n",
              "    [theme=dark] .colab-df-convert {\n",
              "      background-color: #3B4455;\n",
              "      fill: #D2E3FC;\n",
              "    }\n",
              "\n",
              "    [theme=dark] .colab-df-convert:hover {\n",
              "      background-color: #434B5C;\n",
              "      box-shadow: 0px 1px 3px 1px rgba(0, 0, 0, 0.15);\n",
              "      filter: drop-shadow(0px 1px 2px rgba(0, 0, 0, 0.3));\n",
              "      fill: #FFFFFF;\n",
              "    }\n",
              "  </style>\n",
              "\n",
              "      <script>\n",
              "        const buttonEl =\n",
              "          document.querySelector('#df-d4fd5c35-501b-476d-9ffd-881bbd8709c4 button.colab-df-convert');\n",
              "        buttonEl.style.display =\n",
              "          google.colab.kernel.accessAllowed ? 'block' : 'none';\n",
              "\n",
              "        async function convertToInteractive(key) {\n",
              "          const element = document.querySelector('#df-d4fd5c35-501b-476d-9ffd-881bbd8709c4');\n",
              "          const dataTable =\n",
              "            await google.colab.kernel.invokeFunction('convertToInteractive',\n",
              "                                                     [key], {});\n",
              "          if (!dataTable) return;\n",
              "\n",
              "          const docLinkHtml = 'Like what you see? Visit the ' +\n",
              "            '<a target=\"_blank\" href=https://colab.research.google.com/notebooks/data_table.ipynb>data table notebook</a>'\n",
              "            + ' to learn more about interactive tables.';\n",
              "          element.innerHTML = '';\n",
              "          dataTable['output_type'] = 'display_data';\n",
              "          await google.colab.output.renderOutput(dataTable, element);\n",
              "          const docLink = document.createElement('div');\n",
              "          docLink.innerHTML = docLinkHtml;\n",
              "          element.appendChild(docLink);\n",
              "        }\n",
              "      </script>\n",
              "    </div>\n",
              "  </div>\n",
              "  "
            ],
            "text/plain": [
              "        市区町村名   町名     町丁目         緯度          経度  lat_index  lon_index  \\\n",
              "town_id                                                                   \n",
              "101003   千代田区  丸の内  丸の内１丁目  35.681560  139.767201       15.0       17.0   \n",
              "101004   千代田区  丸の内  丸の内２丁目  35.680022  139.763447       15.0       16.0   \n",
              "101005   千代田区  丸の内  丸の内３丁目  35.676952  139.763476       14.0       16.0   \n",
              "101007   千代田区  大手町  大手町１丁目  35.688069  139.763929       15.0       16.0   \n",
              "101008   千代田区  大手町  大手町２丁目  35.686301  139.768087       15.0       17.0   \n",
              "\n",
              "         map_index                                     near_town_list  \n",
              "town_id                                                                \n",
              "101003         467  [101005, 101010, 101011, 101013, 101014, 10104...  \n",
              "101004         466  [101016, 101017, 101018, 101020, 101005, 10101...  \n",
              "101005         436  [103023, 103024, 103025, 103044, 103045, 10304...  \n",
              "101007         466  [101016, 101017, 101018, 101020, 101005, 10101...  \n",
              "101008         467  [101005, 101010, 101011, 101013, 101014, 10104...  "
            ]
          },
          "execution_count": 22,
          "metadata": {},
          "output_type": "execute_result"
        }
      ],
      "source": [
        "df_town_all.head()"
      ]
    },
    {
      "cell_type": "code",
      "execution_count": null,
      "metadata": {
        "colab": {
          "background_save": true
        },
        "id": "KHAnCiOcrjse",
        "outputId": "6b48c8a4-5840-43e2-b1cd-83c05ad23be3"
      },
      "outputs": [
        {
          "name": "stdout",
          "output_type": "stream",
          "text": [
            "109158 水面 0\n",
            "111200 羽田空港２丁目 0\n",
            "111201 羽田空港３丁目 0\n",
            "111269 羽田沖水面 0\n",
            "111273 ふるさとの浜辺公園 0\n",
            "122050 お花茶屋２丁目 0\n"
          ]
        }
      ],
      "source": [
        "neighbor_town_l = []\n",
        "for i, row in df_town_all.iterrows():\n",
        "    lat1 = row['緯度']\n",
        "    lon1 = row['経度']\n",
        "    near_l = row['near_town_list']\n",
        "    town_l = []\n",
        "    for near_id in near_l:\n",
        "        if near_id == i:\n",
        "            # 自分自身は除外\n",
        "            continue\n",
        "        near_town = df_town_all.loc[near_id]\n",
        "        lat2 = near_town['緯度']\n",
        "        lon2 = near_town['経度']\n",
        "        dist = get_distance(lat1, lon1, lat2, lon2)\n",
        "        # 半径1km以内の町\n",
        "        if dist <= 1:\n",
        "            town_l.append({'town_id':near_id, 'distance':round(dist, 2)})\n",
        "    if len(town_l) == 0:\n",
        "        print(i, row['町丁目'], len(town_l))\n",
        "    neighbor_town_l.append(town_l)"
      ]
    },
    {
      "cell_type": "code",
      "execution_count": null,
      "metadata": {
        "colab": {
          "background_save": true
        },
        "id": "0tZIVacl8LeZ"
      },
      "outputs": [],
      "source": [
        "def get_nearest_town(x):\n",
        "    if len(x) == 0:\n",
        "        return []\n",
        "    _tmp = pd.DataFrame(x).sort_values('distance').reset_index(drop=True)\n",
        "    if len(_tmp) > 5:\n",
        "       _tmp = _tmp.iloc[:5]\n",
        "    return list(_tmp['town_id'])"
      ]
    },
    {
      "cell_type": "code",
      "execution_count": null,
      "metadata": {
        "colab": {
          "background_save": true
        },
        "id": "SimZ29M19BnN"
      },
      "outputs": [],
      "source": [
        "df_town_all['neighbor_town'] = neighbor_town_l\n",
        "df_town_all['neighbor_town'] = df_town_all['neighbor_town'].apply(get_nearest_town)"
      ]
    },
    {
      "cell_type": "code",
      "execution_count": null,
      "metadata": {
        "colab": {
          "background_save": true
        },
        "id": "QWZhJET37Tu_"
      },
      "outputs": [],
      "source": [
        "df_town_all = df_town_all.drop(columns=['lat_index', 'lon_index', 'near_town_list'])\n",
        "df_town_all.to_csv(os.path.join(DIR_NAME, 'geocoding.csv'), encoding='utf-8_sig', index=True)"
      ]
    },
    {
      "cell_type": "code",
      "execution_count": null,
      "metadata": {
        "colab": {
          "background_save": true
        },
        "id": "7whjAlCJ6Dyd",
        "outputId": "b49a19c0-0ae4-4b0a-b603-ba26af783c35"
      },
      "outputs": [
        {
          "data": {
            "text/html": [
              "\n",
              "  <div id=\"df-ca43ddec-95cb-4734-a401-d794feb17393\">\n",
              "    <div class=\"colab-df-container\">\n",
              "      <div>\n",
              "<style scoped>\n",
              "    .dataframe tbody tr th:only-of-type {\n",
              "        vertical-align: middle;\n",
              "    }\n",
              "\n",
              "    .dataframe tbody tr th {\n",
              "        vertical-align: top;\n",
              "    }\n",
              "\n",
              "    .dataframe thead th {\n",
              "        text-align: right;\n",
              "    }\n",
              "</style>\n",
              "<table border=\"1\" class=\"dataframe\">\n",
              "  <thead>\n",
              "    <tr style=\"text-align: right;\">\n",
              "      <th></th>\n",
              "      <th>市区町村名</th>\n",
              "      <th>町名</th>\n",
              "      <th>町丁目</th>\n",
              "      <th>緯度</th>\n",
              "      <th>経度</th>\n",
              "      <th>map_index</th>\n",
              "      <th>neighbor_town</th>\n",
              "    </tr>\n",
              "    <tr>\n",
              "      <th>town_id</th>\n",
              "      <th></th>\n",
              "      <th></th>\n",
              "      <th></th>\n",
              "      <th></th>\n",
              "      <th></th>\n",
              "      <th></th>\n",
              "      <th></th>\n",
              "    </tr>\n",
              "  </thead>\n",
              "  <tbody>\n",
              "    <tr>\n",
              "      <th>101003</th>\n",
              "      <td>千代田区</td>\n",
              "      <td>丸の内</td>\n",
              "      <td>丸の内１丁目</td>\n",
              "      <td>35.681560</td>\n",
              "      <td>139.767201</td>\n",
              "      <td>467</td>\n",
              "      <td>[102090, 101004, 102002, 101008, 102046]</td>\n",
              "    </tr>\n",
              "    <tr>\n",
              "      <th>101004</th>\n",
              "      <td>千代田区</td>\n",
              "      <td>丸の内</td>\n",
              "      <td>丸の内２丁目</td>\n",
              "      <td>35.680022</td>\n",
              "      <td>139.763447</td>\n",
              "      <td>466</td>\n",
              "      <td>[101005, 101003, 101040, 102002, 101013]</td>\n",
              "    </tr>\n",
              "    <tr>\n",
              "      <th>101005</th>\n",
              "      <td>千代田区</td>\n",
              "      <td>丸の内</td>\n",
              "      <td>丸の内３丁目</td>\n",
              "      <td>35.676952</td>\n",
              "      <td>139.763476</td>\n",
              "      <td>436</td>\n",
              "      <td>[101004, 101014, 101013, 102008, 102002]</td>\n",
              "    </tr>\n",
              "    <tr>\n",
              "      <th>101007</th>\n",
              "      <td>千代田区</td>\n",
              "      <td>大手町</td>\n",
              "      <td>大手町１丁目</td>\n",
              "      <td>35.688069</td>\n",
              "      <td>139.763929</td>\n",
              "      <td>466</td>\n",
              "      <td>[101095, 101086, 101008, 101087, 101096]</td>\n",
              "    </tr>\n",
              "    <tr>\n",
              "      <th>101008</th>\n",
              "      <td>千代田区</td>\n",
              "      <td>大手町</td>\n",
              "      <td>大手町２丁目</td>\n",
              "      <td>35.686301</td>\n",
              "      <td>139.768087</td>\n",
              "      <td>467</td>\n",
              "      <td>[102048, 102047, 102049, 102046, 101007]</td>\n",
              "    </tr>\n",
              "  </tbody>\n",
              "</table>\n",
              "</div>\n",
              "      <button class=\"colab-df-convert\" onclick=\"convertToInteractive('df-ca43ddec-95cb-4734-a401-d794feb17393')\"\n",
              "              title=\"Convert this dataframe to an interactive table.\"\n",
              "              style=\"display:none;\">\n",
              "        \n",
              "  <svg xmlns=\"http://www.w3.org/2000/svg\" height=\"24px\"viewBox=\"0 0 24 24\"\n",
              "       width=\"24px\">\n",
              "    <path d=\"M0 0h24v24H0V0z\" fill=\"none\"/>\n",
              "    <path d=\"M18.56 5.44l.94 2.06.94-2.06 2.06-.94-2.06-.94-.94-2.06-.94 2.06-2.06.94zm-11 1L8.5 8.5l.94-2.06 2.06-.94-2.06-.94L8.5 2.5l-.94 2.06-2.06.94zm10 10l.94 2.06.94-2.06 2.06-.94-2.06-.94-.94-2.06-.94 2.06-2.06.94z\"/><path d=\"M17.41 7.96l-1.37-1.37c-.4-.4-.92-.59-1.43-.59-.52 0-1.04.2-1.43.59L10.3 9.45l-7.72 7.72c-.78.78-.78 2.05 0 2.83L4 21.41c.39.39.9.59 1.41.59.51 0 1.02-.2 1.41-.59l7.78-7.78 2.81-2.81c.8-.78.8-2.07 0-2.86zM5.41 20L4 18.59l7.72-7.72 1.47 1.35L5.41 20z\"/>\n",
              "  </svg>\n",
              "      </button>\n",
              "      \n",
              "  <style>\n",
              "    .colab-df-container {\n",
              "      display:flex;\n",
              "      flex-wrap:wrap;\n",
              "      gap: 12px;\n",
              "    }\n",
              "\n",
              "    .colab-df-convert {\n",
              "      background-color: #E8F0FE;\n",
              "      border: none;\n",
              "      border-radius: 50%;\n",
              "      cursor: pointer;\n",
              "      display: none;\n",
              "      fill: #1967D2;\n",
              "      height: 32px;\n",
              "      padding: 0 0 0 0;\n",
              "      width: 32px;\n",
              "    }\n",
              "\n",
              "    .colab-df-convert:hover {\n",
              "      background-color: #E2EBFA;\n",
              "      box-shadow: 0px 1px 2px rgba(60, 64, 67, 0.3), 0px 1px 3px 1px rgba(60, 64, 67, 0.15);\n",
              "      fill: #174EA6;\n",
              "    }\n",
              "\n",
              "    [theme=dark] .colab-df-convert {\n",
              "      background-color: #3B4455;\n",
              "      fill: #D2E3FC;\n",
              "    }\n",
              "\n",
              "    [theme=dark] .colab-df-convert:hover {\n",
              "      background-color: #434B5C;\n",
              "      box-shadow: 0px 1px 3px 1px rgba(0, 0, 0, 0.15);\n",
              "      filter: drop-shadow(0px 1px 2px rgba(0, 0, 0, 0.3));\n",
              "      fill: #FFFFFF;\n",
              "    }\n",
              "  </style>\n",
              "\n",
              "      <script>\n",
              "        const buttonEl =\n",
              "          document.querySelector('#df-ca43ddec-95cb-4734-a401-d794feb17393 button.colab-df-convert');\n",
              "        buttonEl.style.display =\n",
              "          google.colab.kernel.accessAllowed ? 'block' : 'none';\n",
              "\n",
              "        async function convertToInteractive(key) {\n",
              "          const element = document.querySelector('#df-ca43ddec-95cb-4734-a401-d794feb17393');\n",
              "          const dataTable =\n",
              "            await google.colab.kernel.invokeFunction('convertToInteractive',\n",
              "                                                     [key], {});\n",
              "          if (!dataTable) return;\n",
              "\n",
              "          const docLinkHtml = 'Like what you see? Visit the ' +\n",
              "            '<a target=\"_blank\" href=https://colab.research.google.com/notebooks/data_table.ipynb>data table notebook</a>'\n",
              "            + ' to learn more about interactive tables.';\n",
              "          element.innerHTML = '';\n",
              "          dataTable['output_type'] = 'display_data';\n",
              "          await google.colab.output.renderOutput(dataTable, element);\n",
              "          const docLink = document.createElement('div');\n",
              "          docLink.innerHTML = docLinkHtml;\n",
              "          element.appendChild(docLink);\n",
              "        }\n",
              "      </script>\n",
              "    </div>\n",
              "  </div>\n",
              "  "
            ],
            "text/plain": [
              "        市区町村名   町名     町丁目         緯度          経度  map_index  \\\n",
              "town_id                                                        \n",
              "101003   千代田区  丸の内  丸の内１丁目  35.681560  139.767201        467   \n",
              "101004   千代田区  丸の内  丸の内２丁目  35.680022  139.763447        466   \n",
              "101005   千代田区  丸の内  丸の内３丁目  35.676952  139.763476        436   \n",
              "101007   千代田区  大手町  大手町１丁目  35.688069  139.763929        466   \n",
              "101008   千代田区  大手町  大手町２丁目  35.686301  139.768087        467   \n",
              "\n",
              "                                    neighbor_town  \n",
              "town_id                                            \n",
              "101003   [102090, 101004, 102002, 101008, 102046]  \n",
              "101004   [101005, 101003, 101040, 102002, 101013]  \n",
              "101005   [101004, 101014, 101013, 102008, 102002]  \n",
              "101007   [101095, 101086, 101008, 101087, 101096]  \n",
              "101008   [102048, 102047, 102049, 102046, 101007]  "
            ]
          },
          "execution_count": 27,
          "metadata": {},
          "output_type": "execute_result"
        }
      ],
      "source": [
        "df_town_all.head()"
      ]
    },
    {
      "cell_type": "code",
      "execution_count": null,
      "metadata": {
        "colab": {
          "background_save": true
        },
        "id": "yRdxl7FC6E2r"
      },
      "outputs": [],
      "source": []
    }
  ],
  "metadata": {
    "colab": {
      "provenance": [],
      "authorship_tag": "ABX9TyNtOcMxzl5JDoPCpknQ5z2Q",
      "include_colab_link": true
    },
    "kernelspec": {
      "display_name": "Python 3",
      "name": "python3"
    },
    "language_info": {
      "name": "python"
    }
  },
  "nbformat": 4,
  "nbformat_minor": 0
}