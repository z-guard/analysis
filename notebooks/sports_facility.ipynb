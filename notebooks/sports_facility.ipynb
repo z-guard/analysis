{
  "nbformat": 4,
  "nbformat_minor": 0,
  "metadata": {
    "colab": {
      "provenance": [],
      "authorship_tag": "ABX9TyM1EF6s2qaI7mz+8xzp87To",
      "include_colab_link": true
    },
    "kernelspec": {
      "name": "python3",
      "display_name": "Python 3"
    },
    "language_info": {
      "name": "python"
    }
  },
  "cells": [
    {
      "cell_type": "markdown",
      "metadata": {
        "id": "view-in-github",
        "colab_type": "text"
      },
      "source": [
        "<a href=\"https://colab.research.google.com/github/z-guard/analysis/blob/main/notebooks/sports_facility.ipynb\" target=\"_parent\"><img src=\"https://colab.research.google.com/assets/colab-badge.svg\" alt=\"Open In Colab\"/></a>"
      ]
    },
    {
      "cell_type": "markdown",
      "source": [
        "# スポーツ施設(体育館、プール、運動場)\n",
        "- input:\n",
        "    - 区ごとの運動施設の位置情報\n",
        "- output:\n",
        "    - sports_score.csv\n",
        "        - 体育館スコア\n",
        "        - プールスコア\n",
        "        - 運動場スコア"
      ],
      "metadata": {
        "id": "zBy6ZmZPOhfq"
      }
    },
    {
      "cell_type": "code",
      "execution_count": 1,
      "metadata": {
        "id": "cDOcy7pFOdsC"
      },
      "outputs": [],
      "source": [
        "!pip install -q geocoder\n",
        "!pip install -q --upgrade xlrd\n",
        "!pip install -q japanize-matplotlib"
      ]
    },
    {
      "cell_type": "code",
      "source": [
        "from google.colab import drive\n",
        "drive.mount('/content/drive')"
      ],
      "metadata": {
        "colab": {
          "base_uri": "https://localhost:8080/"
        },
        "id": "rYTHrEAdOlBC",
        "outputId": "c5e217c0-048b-4e2b-f9e8-1275dccc4ec1"
      },
      "execution_count": 2,
      "outputs": [
        {
          "output_type": "stream",
          "name": "stdout",
          "text": [
            "Drive already mounted at /content/drive; to attempt to forcibly remount, call drive.mount(\"/content/drive\", force_remount=True).\n"
          ]
        }
      ]
    },
    {
      "cell_type": "code",
      "source": [
        "DIR_NAME = '/content/drive/MyDrive/z-gard/data'"
      ],
      "metadata": {
        "id": "mKIhoL-BOtAE"
      },
      "execution_count": 3,
      "outputs": []
    },
    {
      "cell_type": "code",
      "source": [
        "output_score_file = 'sports_score.csv'\n",
        "output_master_file = 'sports_master.csv'"
      ],
      "metadata": {
        "id": "Xfa9PuQkSYdq"
      },
      "execution_count": 4,
      "outputs": []
    },
    {
      "cell_type": "code",
      "source": [
        "import os\n",
        "import requests\n",
        "import json\n",
        "import pandas as pd\n",
        "import numpy as np\n",
        "from urllib.parse import urlparse\n",
        "import geocoder\n",
        "import math\n",
        "import io\n",
        "import re\n",
        "import matplotlib.pyplot as plt\n",
        "import japanize_matplotlib\n",
        "import seaborn as sns\n",
        "\n",
        "pd.set_option('display.max_columns', 50)\n",
        "pd.set_option('display.max_rows', 100)"
      ],
      "metadata": {
        "id": "2xgbJOobOvsP"
      },
      "execution_count": 5,
      "outputs": []
    },
    {
      "cell_type": "code",
      "source": [
        "def get_data_csv_url(url, encoding='utf-8', excel=False):\n",
        "    res = requests.get(url)\n",
        "    if res.status_code == 200:\n",
        "        if not excel:\n",
        "            return pd.read_csv(io.BytesIO(res.content), encoding=encoding)\n",
        "        else:\n",
        "            return pd.read_excel(io.BytesIO(res.content))\n",
        "    else:\n",
        "        raise Exception(f'status_code: {res.status_code} ({url})')\n",
        "\n",
        "# 距離計算\n",
        "def get_distance(lat1, lon1, lat2, lon2):\n",
        "    _lat1 = lat1 * math.pi / 180\n",
        "    _lon1 = lon1 * math.pi / 180\n",
        "    _lat2 = lat2 * math.pi / 180\n",
        "    _lon2 = lon2 * math.pi / 180\n",
        "    _tmp = math.cos(_lat1) * math.cos(_lat2) * math.cos(_lon2 - _lon1) + math.sin(_lat1) * math.sin(_lat2)\n",
        "    _tmp = 1 if _tmp > 1 else -1 if _tmp < -1 else _tmp\n",
        "    return 6371 * math.acos(_tmp)\n",
        "\n",
        "# 最寄り施設までの距離\n",
        "def get_value_of_nearest_facility(df_master, df_facility, category, method='min', param=3):\n",
        "    _df_cat = df_facility[df_facility['施設分類'] == category].copy()\n",
        "    cat_values = []\n",
        "    for i, (lat, lon) in enumerate(zip(df_master['緯度'].values, df_master['経度'].values)):\n",
        "        dist = _df_cat[\n",
        "            ((_df_cat['緯度'] - lat).abs() < 0.04) &    # 約4km以内\n",
        "            ((_df_cat['経度'] - lon).abs() < 0.04)      # 約4km以内\n",
        "        ].apply(lambda x: get_distance(x['緯度'], x['経度'], lat, lon), axis=1)\n",
        "        val = np.NaN\n",
        "        if len(dist) > 0:\n",
        "            if method == 'min':\n",
        "                # 最小の距離\n",
        "                val = dist.min()\n",
        "            elif method == 'count':\n",
        "                # {param}km以内の施設の数をカウント\n",
        "                val = len(dist[dist <= param])\n",
        "            elif method == 'mean':\n",
        "                # 近い{param}件の距離の平均\n",
        "                val = dist.sort_values()[:param].mean()\n",
        "        else:\n",
        "            print(f'{category} not found {i}')\n",
        "        cat_values.append(val)\n",
        "    return cat_values"
      ],
      "metadata": {
        "id": "Q9yoYFmNRk8e"
      },
      "execution_count": 6,
      "outputs": []
    },
    {
      "cell_type": "code",
      "source": [
        "def get_category_facility(name):\n",
        "    if re.search('.*公園$', name) is not None:\n",
        "        return '公園'\n",
        "    if re.search('.*緑地$', name) is not None:\n",
        "        return '公園'\n",
        "    if re.search('.*緑道$', name) is not None:\n",
        "        return '公園'\n",
        "    if re.search('.*庭園$', name) is not None:\n",
        "        return '公園'\n",
        "    if re.search('.*児童遊園$', name) is not None:\n",
        "        return '公園'\n",
        "    if re.search('.*図書館$', name) is not None:\n",
        "        return '図書館'\n",
        "    if re.search('.*美術館$', name) is not None:\n",
        "        return '文化施設'\n",
        "    if re.search('.*博物館$', name) is not None:\n",
        "        return '文化施設'\n",
        "    if re.search('.*会館$', name) is not None:\n",
        "        return '文化施設'\n",
        "    if re.search('.*劇場$', name) is not None:\n",
        "        return '文化施設'\n",
        "    if re.search('アーツ', name) is not None:\n",
        "        return '文化施設'\n",
        "    if re.search('.*協会$', name) is not None:\n",
        "        return '協会'\n",
        "    if re.search('(プール|スイム|スイミング)', name) is not None:\n",
        "        return 'プール'\n",
        "    if re.search('(運動場|球技場|体育場|野球場|競技場|運動広場|庭球場)', name) is not None:\n",
        "        return '運動場他'\n",
        "    if re.search('(サッカー|フットサル|テニス|ソフトボール|グラウンド|グランド)', name) is not None:\n",
        "        return '運動場他'\n",
        "    if re.search('(体育館|トレーニング|武道館)', name) is not None:\n",
        "        return '体育館'\n",
        "    if re.search('スポーツ', name) is not None:\n",
        "        return '運動場他'\n",
        "    return None"
      ],
      "metadata": {
        "id": "_-2eukImbwhJ"
      },
      "execution_count": 7,
      "outputs": []
    },
    {
      "cell_type": "code",
      "source": [
        "def change_type(df_data):\n",
        "    df_data['緯度'] = df_data['緯度'].astype(float)\n",
        "    df_data['経度'] = df_data['経度'].astype(float)"
      ],
      "metadata": {
        "id": "hhGXtuvYipKL"
      },
      "execution_count": 8,
      "outputs": []
    },
    {
      "cell_type": "code",
      "source": [
        "extract_columns = ['施設分類', '名称', '市区町村名', '所在地', '緯度', '経度']"
      ],
      "metadata": {
        "id": "IrPBUzhvReBs"
      },
      "execution_count": 9,
      "outputs": []
    },
    {
      "cell_type": "markdown",
      "source": [
        "## 0. 東京都"
      ],
      "metadata": {
        "id": "FTreyejMZ5fi"
      }
    },
    {
      "cell_type": "markdown",
      "source": [
        "## 1. 千代田区\n",
        "- [スポーツ施設のご案内](https://www.city.chiyoda.lg.jp/koho/bunka/sports/tairyoku.html)"
      ],
      "metadata": {
        "id": "ozc68hGVyKaT"
      }
    },
    {
      "cell_type": "code",
      "source": [
        "df_chiyoda_sports = pd.read_csv(os.path.join(DIR_NAME, 'original/千代田区_スポーツ施設.csv'), encoding='utf-8')\n",
        "print(df_chiyoda_sports.shape)\n",
        "\n",
        "df_chiyoda_sports = df_chiyoda_sports[\n",
        "    df_chiyoda_sports['施設分類'].isin(['体育館', '運動場他', 'プール'])\n",
        "][extract_columns].reset_index(drop=True)\n",
        "print(df_chiyoda_sports.shape)"
      ],
      "metadata": {
        "id": "RqjNFORYDJup",
        "outputId": "1a35db77-7c8d-406e-908f-7ebe8b47f7be",
        "colab": {
          "base_uri": "https://localhost:8080/"
        }
      },
      "execution_count": 10,
      "outputs": [
        {
          "output_type": "stream",
          "name": "stdout",
          "text": [
            "(16, 6)\n",
            "(16, 6)\n"
          ]
        }
      ]
    },
    {
      "cell_type": "code",
      "source": [
        "df_chiyoda_sports.head()"
      ],
      "metadata": {
        "id": "XEBUOjUrDXbE",
        "outputId": "5061a5e6-e2bb-4e21-d2c1-000488f5c47d",
        "colab": {
          "base_uri": "https://localhost:8080/",
          "height": 206
        }
      },
      "execution_count": 11,
      "outputs": [
        {
          "output_type": "execute_result",
          "data": {
            "text/plain": [
              "   施設分類             名称 市区町村名          所在地         緯度          経度\n",
              "0   体育館       スポーツセンター  千代田区     内神田2-1-8  35.689165  139.767456\n",
              "1   プール  スポーツセンター温水プール  千代田区     内神田2-1-8  35.689165  139.767456\n",
              "2  運動場他    外濠公園総合グラウンド  千代田区          五番町  35.688860  139.730872\n",
              "3  運動場他       花小金井運動施設  千代田区  花小金井南町3-2-7  35.721006  139.517968\n",
              "4  運動場他      夢の島東少年野球場  千代田区       江東区夢の島  35.652324  139.829138"
            ],
            "text/html": [
              "\n",
              "  <div id=\"df-6f727182-3732-4f96-9304-bdf38f1185af\">\n",
              "    <div class=\"colab-df-container\">\n",
              "      <div>\n",
              "<style scoped>\n",
              "    .dataframe tbody tr th:only-of-type {\n",
              "        vertical-align: middle;\n",
              "    }\n",
              "\n",
              "    .dataframe tbody tr th {\n",
              "        vertical-align: top;\n",
              "    }\n",
              "\n",
              "    .dataframe thead th {\n",
              "        text-align: right;\n",
              "    }\n",
              "</style>\n",
              "<table border=\"1\" class=\"dataframe\">\n",
              "  <thead>\n",
              "    <tr style=\"text-align: right;\">\n",
              "      <th></th>\n",
              "      <th>施設分類</th>\n",
              "      <th>名称</th>\n",
              "      <th>市区町村名</th>\n",
              "      <th>所在地</th>\n",
              "      <th>緯度</th>\n",
              "      <th>経度</th>\n",
              "    </tr>\n",
              "  </thead>\n",
              "  <tbody>\n",
              "    <tr>\n",
              "      <th>0</th>\n",
              "      <td>体育館</td>\n",
              "      <td>スポーツセンター</td>\n",
              "      <td>千代田区</td>\n",
              "      <td>内神田2-1-8</td>\n",
              "      <td>35.689165</td>\n",
              "      <td>139.767456</td>\n",
              "    </tr>\n",
              "    <tr>\n",
              "      <th>1</th>\n",
              "      <td>プール</td>\n",
              "      <td>スポーツセンター温水プール</td>\n",
              "      <td>千代田区</td>\n",
              "      <td>内神田2-1-8</td>\n",
              "      <td>35.689165</td>\n",
              "      <td>139.767456</td>\n",
              "    </tr>\n",
              "    <tr>\n",
              "      <th>2</th>\n",
              "      <td>運動場他</td>\n",
              "      <td>外濠公園総合グラウンド</td>\n",
              "      <td>千代田区</td>\n",
              "      <td>五番町</td>\n",
              "      <td>35.688860</td>\n",
              "      <td>139.730872</td>\n",
              "    </tr>\n",
              "    <tr>\n",
              "      <th>3</th>\n",
              "      <td>運動場他</td>\n",
              "      <td>花小金井運動施設</td>\n",
              "      <td>千代田区</td>\n",
              "      <td>花小金井南町3-2-7</td>\n",
              "      <td>35.721006</td>\n",
              "      <td>139.517968</td>\n",
              "    </tr>\n",
              "    <tr>\n",
              "      <th>4</th>\n",
              "      <td>運動場他</td>\n",
              "      <td>夢の島東少年野球場</td>\n",
              "      <td>千代田区</td>\n",
              "      <td>江東区夢の島</td>\n",
              "      <td>35.652324</td>\n",
              "      <td>139.829138</td>\n",
              "    </tr>\n",
              "  </tbody>\n",
              "</table>\n",
              "</div>\n",
              "      <button class=\"colab-df-convert\" onclick=\"convertToInteractive('df-6f727182-3732-4f96-9304-bdf38f1185af')\"\n",
              "              title=\"Convert this dataframe to an interactive table.\"\n",
              "              style=\"display:none;\">\n",
              "        \n",
              "  <svg xmlns=\"http://www.w3.org/2000/svg\" height=\"24px\"viewBox=\"0 0 24 24\"\n",
              "       width=\"24px\">\n",
              "    <path d=\"M0 0h24v24H0V0z\" fill=\"none\"/>\n",
              "    <path d=\"M18.56 5.44l.94 2.06.94-2.06 2.06-.94-2.06-.94-.94-2.06-.94 2.06-2.06.94zm-11 1L8.5 8.5l.94-2.06 2.06-.94-2.06-.94L8.5 2.5l-.94 2.06-2.06.94zm10 10l.94 2.06.94-2.06 2.06-.94-2.06-.94-.94-2.06-.94 2.06-2.06.94z\"/><path d=\"M17.41 7.96l-1.37-1.37c-.4-.4-.92-.59-1.43-.59-.52 0-1.04.2-1.43.59L10.3 9.45l-7.72 7.72c-.78.78-.78 2.05 0 2.83L4 21.41c.39.39.9.59 1.41.59.51 0 1.02-.2 1.41-.59l7.78-7.78 2.81-2.81c.8-.78.8-2.07 0-2.86zM5.41 20L4 18.59l7.72-7.72 1.47 1.35L5.41 20z\"/>\n",
              "  </svg>\n",
              "      </button>\n",
              "      \n",
              "  <style>\n",
              "    .colab-df-container {\n",
              "      display:flex;\n",
              "      flex-wrap:wrap;\n",
              "      gap: 12px;\n",
              "    }\n",
              "\n",
              "    .colab-df-convert {\n",
              "      background-color: #E8F0FE;\n",
              "      border: none;\n",
              "      border-radius: 50%;\n",
              "      cursor: pointer;\n",
              "      display: none;\n",
              "      fill: #1967D2;\n",
              "      height: 32px;\n",
              "      padding: 0 0 0 0;\n",
              "      width: 32px;\n",
              "    }\n",
              "\n",
              "    .colab-df-convert:hover {\n",
              "      background-color: #E2EBFA;\n",
              "      box-shadow: 0px 1px 2px rgba(60, 64, 67, 0.3), 0px 1px 3px 1px rgba(60, 64, 67, 0.15);\n",
              "      fill: #174EA6;\n",
              "    }\n",
              "\n",
              "    [theme=dark] .colab-df-convert {\n",
              "      background-color: #3B4455;\n",
              "      fill: #D2E3FC;\n",
              "    }\n",
              "\n",
              "    [theme=dark] .colab-df-convert:hover {\n",
              "      background-color: #434B5C;\n",
              "      box-shadow: 0px 1px 3px 1px rgba(0, 0, 0, 0.15);\n",
              "      filter: drop-shadow(0px 1px 2px rgba(0, 0, 0, 0.3));\n",
              "      fill: #FFFFFF;\n",
              "    }\n",
              "  </style>\n",
              "\n",
              "      <script>\n",
              "        const buttonEl =\n",
              "          document.querySelector('#df-6f727182-3732-4f96-9304-bdf38f1185af button.colab-df-convert');\n",
              "        buttonEl.style.display =\n",
              "          google.colab.kernel.accessAllowed ? 'block' : 'none';\n",
              "\n",
              "        async function convertToInteractive(key) {\n",
              "          const element = document.querySelector('#df-6f727182-3732-4f96-9304-bdf38f1185af');\n",
              "          const dataTable =\n",
              "            await google.colab.kernel.invokeFunction('convertToInteractive',\n",
              "                                                     [key], {});\n",
              "          if (!dataTable) return;\n",
              "\n",
              "          const docLinkHtml = 'Like what you see? Visit the ' +\n",
              "            '<a target=\"_blank\" href=https://colab.research.google.com/notebooks/data_table.ipynb>data table notebook</a>'\n",
              "            + ' to learn more about interactive tables.';\n",
              "          element.innerHTML = '';\n",
              "          dataTable['output_type'] = 'display_data';\n",
              "          await google.colab.output.renderOutput(dataTable, element);\n",
              "          const docLink = document.createElement('div');\n",
              "          docLink.innerHTML = docLinkHtml;\n",
              "          element.appendChild(docLink);\n",
              "        }\n",
              "      </script>\n",
              "    </div>\n",
              "  </div>\n",
              "  "
            ]
          },
          "metadata": {},
          "execution_count": 11
        }
      ]
    },
    {
      "cell_type": "markdown",
      "source": [
        "## 2. 中央区\n",
        "- [スポーツ・レクリエーション施設](https://www.city.chuo.lg.jp/sisetugaido/supotu/index.html)"
      ],
      "metadata": {
        "id": "Hy9QzRF1vJWT"
      }
    },
    {
      "cell_type": "code",
      "source": [
        "df_chuou_sports = pd.read_csv(os.path.join(DIR_NAME, 'original/中央区_スポーツ施設.csv'), encoding='utf-8')\n",
        "print(df_chuou_sports.shape)\n",
        "\n",
        "df_chuou_sports = df_chuou_sports[\n",
        "    df_chuou_sports['施設分類'].isin(['体育館', '運動場他', 'プール'])\n",
        "][extract_columns].reset_index(drop=True)\n",
        "print(df_chuou_sports.shape)"
      ],
      "metadata": {
        "id": "UbXjRpkAI2Hn",
        "outputId": "5fa5498e-25f1-4794-e8f5-9eb46ea3812c",
        "colab": {
          "base_uri": "https://localhost:8080/"
        }
      },
      "execution_count": 12,
      "outputs": [
        {
          "output_type": "stream",
          "name": "stdout",
          "text": [
            "(11, 6)\n",
            "(11, 6)\n"
          ]
        }
      ]
    },
    {
      "cell_type": "code",
      "source": [
        "df_chuou_sports.head()"
      ],
      "metadata": {
        "id": "dRguoUIII-BT",
        "outputId": "d1852adf-f393-4ed9-b363-eb26e15a241f",
        "colab": {
          "base_uri": "https://localhost:8080/",
          "height": 206
        }
      },
      "execution_count": 13,
      "outputs": [
        {
          "output_type": "execute_result",
          "data": {
            "text/plain": [
              "   施設分類               名称 市区町村名            所在地         緯度          経度\n",
              "0  運動場他  江戸川河川敷野球場・サッカー場   中央区         三郷市岩野木  35.834635  139.885462\n",
              "1   体育館       総合スポーツセンター   中央区  日本橋浜町ニ丁目59番1号  35.687943  139.789138\n",
              "2   プール  総合スポーツセンター温水プール   中央区  日本橋浜町ニ丁目59番1号  35.687943  139.789138\n",
              "3   プール   月島スポーツプラザ温水プール   中央区      月島一丁目9番2号  35.665205  139.783126\n",
              "4  運動場他            浜町運動場   中央区     日本橋浜町２丁目５９  35.688904  139.784132"
            ],
            "text/html": [
              "\n",
              "  <div id=\"df-57f70825-f1c4-4cad-afe5-391acb51ecc9\">\n",
              "    <div class=\"colab-df-container\">\n",
              "      <div>\n",
              "<style scoped>\n",
              "    .dataframe tbody tr th:only-of-type {\n",
              "        vertical-align: middle;\n",
              "    }\n",
              "\n",
              "    .dataframe tbody tr th {\n",
              "        vertical-align: top;\n",
              "    }\n",
              "\n",
              "    .dataframe thead th {\n",
              "        text-align: right;\n",
              "    }\n",
              "</style>\n",
              "<table border=\"1\" class=\"dataframe\">\n",
              "  <thead>\n",
              "    <tr style=\"text-align: right;\">\n",
              "      <th></th>\n",
              "      <th>施設分類</th>\n",
              "      <th>名称</th>\n",
              "      <th>市区町村名</th>\n",
              "      <th>所在地</th>\n",
              "      <th>緯度</th>\n",
              "      <th>経度</th>\n",
              "    </tr>\n",
              "  </thead>\n",
              "  <tbody>\n",
              "    <tr>\n",
              "      <th>0</th>\n",
              "      <td>運動場他</td>\n",
              "      <td>江戸川河川敷野球場・サッカー場</td>\n",
              "      <td>中央区</td>\n",
              "      <td>三郷市岩野木</td>\n",
              "      <td>35.834635</td>\n",
              "      <td>139.885462</td>\n",
              "    </tr>\n",
              "    <tr>\n",
              "      <th>1</th>\n",
              "      <td>体育館</td>\n",
              "      <td>総合スポーツセンター</td>\n",
              "      <td>中央区</td>\n",
              "      <td>日本橋浜町ニ丁目59番1号</td>\n",
              "      <td>35.687943</td>\n",
              "      <td>139.789138</td>\n",
              "    </tr>\n",
              "    <tr>\n",
              "      <th>2</th>\n",
              "      <td>プール</td>\n",
              "      <td>総合スポーツセンター温水プール</td>\n",
              "      <td>中央区</td>\n",
              "      <td>日本橋浜町ニ丁目59番1号</td>\n",
              "      <td>35.687943</td>\n",
              "      <td>139.789138</td>\n",
              "    </tr>\n",
              "    <tr>\n",
              "      <th>3</th>\n",
              "      <td>プール</td>\n",
              "      <td>月島スポーツプラザ温水プール</td>\n",
              "      <td>中央区</td>\n",
              "      <td>月島一丁目9番2号</td>\n",
              "      <td>35.665205</td>\n",
              "      <td>139.783126</td>\n",
              "    </tr>\n",
              "    <tr>\n",
              "      <th>4</th>\n",
              "      <td>運動場他</td>\n",
              "      <td>浜町運動場</td>\n",
              "      <td>中央区</td>\n",
              "      <td>日本橋浜町２丁目５９</td>\n",
              "      <td>35.688904</td>\n",
              "      <td>139.784132</td>\n",
              "    </tr>\n",
              "  </tbody>\n",
              "</table>\n",
              "</div>\n",
              "      <button class=\"colab-df-convert\" onclick=\"convertToInteractive('df-57f70825-f1c4-4cad-afe5-391acb51ecc9')\"\n",
              "              title=\"Convert this dataframe to an interactive table.\"\n",
              "              style=\"display:none;\">\n",
              "        \n",
              "  <svg xmlns=\"http://www.w3.org/2000/svg\" height=\"24px\"viewBox=\"0 0 24 24\"\n",
              "       width=\"24px\">\n",
              "    <path d=\"M0 0h24v24H0V0z\" fill=\"none\"/>\n",
              "    <path d=\"M18.56 5.44l.94 2.06.94-2.06 2.06-.94-2.06-.94-.94-2.06-.94 2.06-2.06.94zm-11 1L8.5 8.5l.94-2.06 2.06-.94-2.06-.94L8.5 2.5l-.94 2.06-2.06.94zm10 10l.94 2.06.94-2.06 2.06-.94-2.06-.94-.94-2.06-.94 2.06-2.06.94z\"/><path d=\"M17.41 7.96l-1.37-1.37c-.4-.4-.92-.59-1.43-.59-.52 0-1.04.2-1.43.59L10.3 9.45l-7.72 7.72c-.78.78-.78 2.05 0 2.83L4 21.41c.39.39.9.59 1.41.59.51 0 1.02-.2 1.41-.59l7.78-7.78 2.81-2.81c.8-.78.8-2.07 0-2.86zM5.41 20L4 18.59l7.72-7.72 1.47 1.35L5.41 20z\"/>\n",
              "  </svg>\n",
              "      </button>\n",
              "      \n",
              "  <style>\n",
              "    .colab-df-container {\n",
              "      display:flex;\n",
              "      flex-wrap:wrap;\n",
              "      gap: 12px;\n",
              "    }\n",
              "\n",
              "    .colab-df-convert {\n",
              "      background-color: #E8F0FE;\n",
              "      border: none;\n",
              "      border-radius: 50%;\n",
              "      cursor: pointer;\n",
              "      display: none;\n",
              "      fill: #1967D2;\n",
              "      height: 32px;\n",
              "      padding: 0 0 0 0;\n",
              "      width: 32px;\n",
              "    }\n",
              "\n",
              "    .colab-df-convert:hover {\n",
              "      background-color: #E2EBFA;\n",
              "      box-shadow: 0px 1px 2px rgba(60, 64, 67, 0.3), 0px 1px 3px 1px rgba(60, 64, 67, 0.15);\n",
              "      fill: #174EA6;\n",
              "    }\n",
              "\n",
              "    [theme=dark] .colab-df-convert {\n",
              "      background-color: #3B4455;\n",
              "      fill: #D2E3FC;\n",
              "    }\n",
              "\n",
              "    [theme=dark] .colab-df-convert:hover {\n",
              "      background-color: #434B5C;\n",
              "      box-shadow: 0px 1px 3px 1px rgba(0, 0, 0, 0.15);\n",
              "      filter: drop-shadow(0px 1px 2px rgba(0, 0, 0, 0.3));\n",
              "      fill: #FFFFFF;\n",
              "    }\n",
              "  </style>\n",
              "\n",
              "      <script>\n",
              "        const buttonEl =\n",
              "          document.querySelector('#df-57f70825-f1c4-4cad-afe5-391acb51ecc9 button.colab-df-convert');\n",
              "        buttonEl.style.display =\n",
              "          google.colab.kernel.accessAllowed ? 'block' : 'none';\n",
              "\n",
              "        async function convertToInteractive(key) {\n",
              "          const element = document.querySelector('#df-57f70825-f1c4-4cad-afe5-391acb51ecc9');\n",
              "          const dataTable =\n",
              "            await google.colab.kernel.invokeFunction('convertToInteractive',\n",
              "                                                     [key], {});\n",
              "          if (!dataTable) return;\n",
              "\n",
              "          const docLinkHtml = 'Like what you see? Visit the ' +\n",
              "            '<a target=\"_blank\" href=https://colab.research.google.com/notebooks/data_table.ipynb>data table notebook</a>'\n",
              "            + ' to learn more about interactive tables.';\n",
              "          element.innerHTML = '';\n",
              "          dataTable['output_type'] = 'display_data';\n",
              "          await google.colab.output.renderOutput(dataTable, element);\n",
              "          const docLink = document.createElement('div');\n",
              "          docLink.innerHTML = docLinkHtml;\n",
              "          element.appendChild(docLink);\n",
              "        }\n",
              "      </script>\n",
              "    </div>\n",
              "  </div>\n",
              "  "
            ]
          },
          "metadata": {},
          "execution_count": 13
        }
      ]
    },
    {
      "cell_type": "markdown",
      "source": [
        "## 3. 港区\n",
        "- [スポーツ・健康増進施設・公衆浴場](https://catalog.data.metro.tokyo.lg.jp/dataset/t131032d0000000014/resource/84bb03cb-c38a-4381-b5bf-9d4d9ed5e889)"
      ],
      "metadata": {
        "id": "N29UjnUPRhG7"
      }
    },
    {
      "cell_type": "code",
      "source": [
        "minato_sports_url = 'https://opendata.city.minato.tokyo.jp/dataset/bb1f719a-ffbe-4c29-a936-de0bf6a2d179/resource/d2d0e539-a18c-4f96-a6aa-7cd9e6f0676f/download/minatokushisetsujoho_sports.csv'\n",
        "df_minato_sports = get_data_csv_url(minato_sports_url)\n",
        "print(df_minato_sports.shape)\n",
        "\n",
        "df_minato_sports['市区町村名'] = '港区'\n",
        "df_minato_sports['施設分類'] = df_minato_sports['ページタイトル'].apply(get_category_facility)\n",
        "df_minato_sports = df_minato_sports[\n",
        "    (df_minato_sports['施設分類'].isin(['体育館', '運動場他', 'プール']))\n",
        "].rename(columns={'ページタイトル':'名称'})[extract_columns].reset_index(drop=True)\n",
        "change_type(df_minato_sports)\n",
        "print(df_minato_sports.shape)"
      ],
      "metadata": {
        "colab": {
          "base_uri": "https://localhost:8080/"
        },
        "id": "bHdlGR4rRd_V",
        "outputId": "ce2696bb-4451-4058-ac54-2d06da40a3c3"
      },
      "execution_count": 14,
      "outputs": [
        {
          "output_type": "stream",
          "name": "stdout",
          "text": [
            "(18, 31)\n",
            "(14, 6)\n"
          ]
        }
      ]
    },
    {
      "cell_type": "code",
      "source": [
        "df_minato_sports.head()"
      ],
      "metadata": {
        "id": "UcM5pwkxYowq",
        "outputId": "18613ce0-fc0e-48db-9cf5-d2c19a4b35fb",
        "colab": {
          "base_uri": "https://localhost:8080/",
          "height": 206
        }
      },
      "execution_count": 15,
      "outputs": [
        {
          "output_type": "execute_result",
          "data": {
            "text/plain": [
              "   施設分類                    名称 市区町村名                         所在地         緯度  \\\n",
              "0   プール            港南小学校屋内プール    港区     港区港南四丁目3番28号　港区立港南小学校1階  35.629570   \n",
              "1   プール            高陵中学校屋内プール    港区  港区西麻布四丁目14番8号　港区立高陵中学校地下2階  35.657139   \n",
              "2  運動場他  芝浦南ふ頭公園運動広場（かいがんぱ～く）    港区               港区海岸三丁目33番20号  35.637322   \n",
              "3  運動場他            港区スポーツセンター    港区   港区芝浦一丁目16番1号　みなとパーク芝浦3～8階  35.646408   \n",
              "4  運動場他               埠頭少年野球場    港区               港区海岸三丁目14番34号  35.641684   \n",
              "\n",
              "           経度  \n",
              "0  139.749656  \n",
              "1  139.720463  \n",
              "2  139.759891  \n",
              "3  139.751501  \n",
              "4  139.755597  "
            ],
            "text/html": [
              "\n",
              "  <div id=\"df-56879f55-a046-43ed-be80-4531a68789f4\">\n",
              "    <div class=\"colab-df-container\">\n",
              "      <div>\n",
              "<style scoped>\n",
              "    .dataframe tbody tr th:only-of-type {\n",
              "        vertical-align: middle;\n",
              "    }\n",
              "\n",
              "    .dataframe tbody tr th {\n",
              "        vertical-align: top;\n",
              "    }\n",
              "\n",
              "    .dataframe thead th {\n",
              "        text-align: right;\n",
              "    }\n",
              "</style>\n",
              "<table border=\"1\" class=\"dataframe\">\n",
              "  <thead>\n",
              "    <tr style=\"text-align: right;\">\n",
              "      <th></th>\n",
              "      <th>施設分類</th>\n",
              "      <th>名称</th>\n",
              "      <th>市区町村名</th>\n",
              "      <th>所在地</th>\n",
              "      <th>緯度</th>\n",
              "      <th>経度</th>\n",
              "    </tr>\n",
              "  </thead>\n",
              "  <tbody>\n",
              "    <tr>\n",
              "      <th>0</th>\n",
              "      <td>プール</td>\n",
              "      <td>港南小学校屋内プール</td>\n",
              "      <td>港区</td>\n",
              "      <td>港区港南四丁目3番28号　港区立港南小学校1階</td>\n",
              "      <td>35.629570</td>\n",
              "      <td>139.749656</td>\n",
              "    </tr>\n",
              "    <tr>\n",
              "      <th>1</th>\n",
              "      <td>プール</td>\n",
              "      <td>高陵中学校屋内プール</td>\n",
              "      <td>港区</td>\n",
              "      <td>港区西麻布四丁目14番8号　港区立高陵中学校地下2階</td>\n",
              "      <td>35.657139</td>\n",
              "      <td>139.720463</td>\n",
              "    </tr>\n",
              "    <tr>\n",
              "      <th>2</th>\n",
              "      <td>運動場他</td>\n",
              "      <td>芝浦南ふ頭公園運動広場（かいがんぱ～く）</td>\n",
              "      <td>港区</td>\n",
              "      <td>港区海岸三丁目33番20号</td>\n",
              "      <td>35.637322</td>\n",
              "      <td>139.759891</td>\n",
              "    </tr>\n",
              "    <tr>\n",
              "      <th>3</th>\n",
              "      <td>運動場他</td>\n",
              "      <td>港区スポーツセンター</td>\n",
              "      <td>港区</td>\n",
              "      <td>港区芝浦一丁目16番1号　みなとパーク芝浦3～8階</td>\n",
              "      <td>35.646408</td>\n",
              "      <td>139.751501</td>\n",
              "    </tr>\n",
              "    <tr>\n",
              "      <th>4</th>\n",
              "      <td>運動場他</td>\n",
              "      <td>埠頭少年野球場</td>\n",
              "      <td>港区</td>\n",
              "      <td>港区海岸三丁目14番34号</td>\n",
              "      <td>35.641684</td>\n",
              "      <td>139.755597</td>\n",
              "    </tr>\n",
              "  </tbody>\n",
              "</table>\n",
              "</div>\n",
              "      <button class=\"colab-df-convert\" onclick=\"convertToInteractive('df-56879f55-a046-43ed-be80-4531a68789f4')\"\n",
              "              title=\"Convert this dataframe to an interactive table.\"\n",
              "              style=\"display:none;\">\n",
              "        \n",
              "  <svg xmlns=\"http://www.w3.org/2000/svg\" height=\"24px\"viewBox=\"0 0 24 24\"\n",
              "       width=\"24px\">\n",
              "    <path d=\"M0 0h24v24H0V0z\" fill=\"none\"/>\n",
              "    <path d=\"M18.56 5.44l.94 2.06.94-2.06 2.06-.94-2.06-.94-.94-2.06-.94 2.06-2.06.94zm-11 1L8.5 8.5l.94-2.06 2.06-.94-2.06-.94L8.5 2.5l-.94 2.06-2.06.94zm10 10l.94 2.06.94-2.06 2.06-.94-2.06-.94-.94-2.06-.94 2.06-2.06.94z\"/><path d=\"M17.41 7.96l-1.37-1.37c-.4-.4-.92-.59-1.43-.59-.52 0-1.04.2-1.43.59L10.3 9.45l-7.72 7.72c-.78.78-.78 2.05 0 2.83L4 21.41c.39.39.9.59 1.41.59.51 0 1.02-.2 1.41-.59l7.78-7.78 2.81-2.81c.8-.78.8-2.07 0-2.86zM5.41 20L4 18.59l7.72-7.72 1.47 1.35L5.41 20z\"/>\n",
              "  </svg>\n",
              "      </button>\n",
              "      \n",
              "  <style>\n",
              "    .colab-df-container {\n",
              "      display:flex;\n",
              "      flex-wrap:wrap;\n",
              "      gap: 12px;\n",
              "    }\n",
              "\n",
              "    .colab-df-convert {\n",
              "      background-color: #E8F0FE;\n",
              "      border: none;\n",
              "      border-radius: 50%;\n",
              "      cursor: pointer;\n",
              "      display: none;\n",
              "      fill: #1967D2;\n",
              "      height: 32px;\n",
              "      padding: 0 0 0 0;\n",
              "      width: 32px;\n",
              "    }\n",
              "\n",
              "    .colab-df-convert:hover {\n",
              "      background-color: #E2EBFA;\n",
              "      box-shadow: 0px 1px 2px rgba(60, 64, 67, 0.3), 0px 1px 3px 1px rgba(60, 64, 67, 0.15);\n",
              "      fill: #174EA6;\n",
              "    }\n",
              "\n",
              "    [theme=dark] .colab-df-convert {\n",
              "      background-color: #3B4455;\n",
              "      fill: #D2E3FC;\n",
              "    }\n",
              "\n",
              "    [theme=dark] .colab-df-convert:hover {\n",
              "      background-color: #434B5C;\n",
              "      box-shadow: 0px 1px 3px 1px rgba(0, 0, 0, 0.15);\n",
              "      filter: drop-shadow(0px 1px 2px rgba(0, 0, 0, 0.3));\n",
              "      fill: #FFFFFF;\n",
              "    }\n",
              "  </style>\n",
              "\n",
              "      <script>\n",
              "        const buttonEl =\n",
              "          document.querySelector('#df-56879f55-a046-43ed-be80-4531a68789f4 button.colab-df-convert');\n",
              "        buttonEl.style.display =\n",
              "          google.colab.kernel.accessAllowed ? 'block' : 'none';\n",
              "\n",
              "        async function convertToInteractive(key) {\n",
              "          const element = document.querySelector('#df-56879f55-a046-43ed-be80-4531a68789f4');\n",
              "          const dataTable =\n",
              "            await google.colab.kernel.invokeFunction('convertToInteractive',\n",
              "                                                     [key], {});\n",
              "          if (!dataTable) return;\n",
              "\n",
              "          const docLinkHtml = 'Like what you see? Visit the ' +\n",
              "            '<a target=\"_blank\" href=https://colab.research.google.com/notebooks/data_table.ipynb>data table notebook</a>'\n",
              "            + ' to learn more about interactive tables.';\n",
              "          element.innerHTML = '';\n",
              "          dataTable['output_type'] = 'display_data';\n",
              "          await google.colab.output.renderOutput(dataTable, element);\n",
              "          const docLink = document.createElement('div');\n",
              "          docLink.innerHTML = docLinkHtml;\n",
              "          element.appendChild(docLink);\n",
              "        }\n",
              "      </script>\n",
              "    </div>\n",
              "  </div>\n",
              "  "
            ]
          },
          "metadata": {},
          "execution_count": 15
        }
      ]
    },
    {
      "cell_type": "markdown",
      "source": [
        "## 4. 新宿区\n",
        "- [スポーツ施設案内](https://www.city.shinjuku.lg.jp/kanko/260500community_00014.html)"
      ],
      "metadata": {
        "id": "QEmpBhenyeVs"
      }
    },
    {
      "cell_type": "code",
      "source": [
        "df_shinjuku_sports = pd.read_csv(os.path.join(DIR_NAME, 'original/新宿区_スポーツ施設.csv'), encoding='utf-8')\n",
        "print(df_shinjuku_sports.shape)\n",
        "\n",
        "df_shinjuku_sports = df_shinjuku_sports[\n",
        "    df_shinjuku_sports['施設分類'].isin(['体育館', '運動場他', 'プール'])\n",
        "][extract_columns].reset_index(drop=True)\n",
        "print(df_shinjuku_sports.shape)"
      ],
      "metadata": {
        "id": "6CTJxpJzPoKq",
        "outputId": "b3bd2972-fd53-4d6f-dd12-a9f154d98301",
        "colab": {
          "base_uri": "https://localhost:8080/"
        }
      },
      "execution_count": 16,
      "outputs": [
        {
          "output_type": "stream",
          "name": "stdout",
          "text": [
            "(17, 6)\n",
            "(17, 6)\n"
          ]
        }
      ]
    },
    {
      "cell_type": "code",
      "source": [
        "df_shinjuku_sports.head()"
      ],
      "metadata": {
        "id": "KPuQiXRfP5Ef",
        "outputId": "3a70a2e3-b34a-4e8d-d542-eba933bb99ef",
        "colab": {
          "base_uri": "https://localhost:8080/",
          "height": 206
        }
      },
      "execution_count": 17,
      "outputs": [
        {
          "output_type": "execute_result",
          "data": {
            "text/plain": [
              "  施設分類                  名称 市区町村名         所在地         緯度          経度\n",
              "0  体育館          新宿スポーツセンター   新宿区   大久保３丁目５−１  35.706966  139.703332\n",
              "1  プール       新宿スポーツセンタープール   新宿区   大久保３丁目５−１  35.706966  139.703332\n",
              "2  体育館     新宿コズミックスポーツセンター   新宿区   大久保３丁目１−２  35.704900  139.707915\n",
              "3  プール  新宿コズミックスポーツセンタープール   新宿区   大久保３丁目１−２  35.704900  139.707915\n",
              "4  体育館          大久保スポーツプラザ   新宿区  大久保３丁目７−４２  35.706631  139.702227"
            ],
            "text/html": [
              "\n",
              "  <div id=\"df-abce3da4-db92-434d-a6c0-44cd9ba2d9f7\">\n",
              "    <div class=\"colab-df-container\">\n",
              "      <div>\n",
              "<style scoped>\n",
              "    .dataframe tbody tr th:only-of-type {\n",
              "        vertical-align: middle;\n",
              "    }\n",
              "\n",
              "    .dataframe tbody tr th {\n",
              "        vertical-align: top;\n",
              "    }\n",
              "\n",
              "    .dataframe thead th {\n",
              "        text-align: right;\n",
              "    }\n",
              "</style>\n",
              "<table border=\"1\" class=\"dataframe\">\n",
              "  <thead>\n",
              "    <tr style=\"text-align: right;\">\n",
              "      <th></th>\n",
              "      <th>施設分類</th>\n",
              "      <th>名称</th>\n",
              "      <th>市区町村名</th>\n",
              "      <th>所在地</th>\n",
              "      <th>緯度</th>\n",
              "      <th>経度</th>\n",
              "    </tr>\n",
              "  </thead>\n",
              "  <tbody>\n",
              "    <tr>\n",
              "      <th>0</th>\n",
              "      <td>体育館</td>\n",
              "      <td>新宿スポーツセンター</td>\n",
              "      <td>新宿区</td>\n",
              "      <td>大久保３丁目５−１</td>\n",
              "      <td>35.706966</td>\n",
              "      <td>139.703332</td>\n",
              "    </tr>\n",
              "    <tr>\n",
              "      <th>1</th>\n",
              "      <td>プール</td>\n",
              "      <td>新宿スポーツセンタープール</td>\n",
              "      <td>新宿区</td>\n",
              "      <td>大久保３丁目５−１</td>\n",
              "      <td>35.706966</td>\n",
              "      <td>139.703332</td>\n",
              "    </tr>\n",
              "    <tr>\n",
              "      <th>2</th>\n",
              "      <td>体育館</td>\n",
              "      <td>新宿コズミックスポーツセンター</td>\n",
              "      <td>新宿区</td>\n",
              "      <td>大久保３丁目１−２</td>\n",
              "      <td>35.704900</td>\n",
              "      <td>139.707915</td>\n",
              "    </tr>\n",
              "    <tr>\n",
              "      <th>3</th>\n",
              "      <td>プール</td>\n",
              "      <td>新宿コズミックスポーツセンタープール</td>\n",
              "      <td>新宿区</td>\n",
              "      <td>大久保３丁目１−２</td>\n",
              "      <td>35.704900</td>\n",
              "      <td>139.707915</td>\n",
              "    </tr>\n",
              "    <tr>\n",
              "      <th>4</th>\n",
              "      <td>体育館</td>\n",
              "      <td>大久保スポーツプラザ</td>\n",
              "      <td>新宿区</td>\n",
              "      <td>大久保３丁目７−４２</td>\n",
              "      <td>35.706631</td>\n",
              "      <td>139.702227</td>\n",
              "    </tr>\n",
              "  </tbody>\n",
              "</table>\n",
              "</div>\n",
              "      <button class=\"colab-df-convert\" onclick=\"convertToInteractive('df-abce3da4-db92-434d-a6c0-44cd9ba2d9f7')\"\n",
              "              title=\"Convert this dataframe to an interactive table.\"\n",
              "              style=\"display:none;\">\n",
              "        \n",
              "  <svg xmlns=\"http://www.w3.org/2000/svg\" height=\"24px\"viewBox=\"0 0 24 24\"\n",
              "       width=\"24px\">\n",
              "    <path d=\"M0 0h24v24H0V0z\" fill=\"none\"/>\n",
              "    <path d=\"M18.56 5.44l.94 2.06.94-2.06 2.06-.94-2.06-.94-.94-2.06-.94 2.06-2.06.94zm-11 1L8.5 8.5l.94-2.06 2.06-.94-2.06-.94L8.5 2.5l-.94 2.06-2.06.94zm10 10l.94 2.06.94-2.06 2.06-.94-2.06-.94-.94-2.06-.94 2.06-2.06.94z\"/><path d=\"M17.41 7.96l-1.37-1.37c-.4-.4-.92-.59-1.43-.59-.52 0-1.04.2-1.43.59L10.3 9.45l-7.72 7.72c-.78.78-.78 2.05 0 2.83L4 21.41c.39.39.9.59 1.41.59.51 0 1.02-.2 1.41-.59l7.78-7.78 2.81-2.81c.8-.78.8-2.07 0-2.86zM5.41 20L4 18.59l7.72-7.72 1.47 1.35L5.41 20z\"/>\n",
              "  </svg>\n",
              "      </button>\n",
              "      \n",
              "  <style>\n",
              "    .colab-df-container {\n",
              "      display:flex;\n",
              "      flex-wrap:wrap;\n",
              "      gap: 12px;\n",
              "    }\n",
              "\n",
              "    .colab-df-convert {\n",
              "      background-color: #E8F0FE;\n",
              "      border: none;\n",
              "      border-radius: 50%;\n",
              "      cursor: pointer;\n",
              "      display: none;\n",
              "      fill: #1967D2;\n",
              "      height: 32px;\n",
              "      padding: 0 0 0 0;\n",
              "      width: 32px;\n",
              "    }\n",
              "\n",
              "    .colab-df-convert:hover {\n",
              "      background-color: #E2EBFA;\n",
              "      box-shadow: 0px 1px 2px rgba(60, 64, 67, 0.3), 0px 1px 3px 1px rgba(60, 64, 67, 0.15);\n",
              "      fill: #174EA6;\n",
              "    }\n",
              "\n",
              "    [theme=dark] .colab-df-convert {\n",
              "      background-color: #3B4455;\n",
              "      fill: #D2E3FC;\n",
              "    }\n",
              "\n",
              "    [theme=dark] .colab-df-convert:hover {\n",
              "      background-color: #434B5C;\n",
              "      box-shadow: 0px 1px 3px 1px rgba(0, 0, 0, 0.15);\n",
              "      filter: drop-shadow(0px 1px 2px rgba(0, 0, 0, 0.3));\n",
              "      fill: #FFFFFF;\n",
              "    }\n",
              "  </style>\n",
              "\n",
              "      <script>\n",
              "        const buttonEl =\n",
              "          document.querySelector('#df-abce3da4-db92-434d-a6c0-44cd9ba2d9f7 button.colab-df-convert');\n",
              "        buttonEl.style.display =\n",
              "          google.colab.kernel.accessAllowed ? 'block' : 'none';\n",
              "\n",
              "        async function convertToInteractive(key) {\n",
              "          const element = document.querySelector('#df-abce3da4-db92-434d-a6c0-44cd9ba2d9f7');\n",
              "          const dataTable =\n",
              "            await google.colab.kernel.invokeFunction('convertToInteractive',\n",
              "                                                     [key], {});\n",
              "          if (!dataTable) return;\n",
              "\n",
              "          const docLinkHtml = 'Like what you see? Visit the ' +\n",
              "            '<a target=\"_blank\" href=https://colab.research.google.com/notebooks/data_table.ipynb>data table notebook</a>'\n",
              "            + ' to learn more about interactive tables.';\n",
              "          element.innerHTML = '';\n",
              "          dataTable['output_type'] = 'display_data';\n",
              "          await google.colab.output.renderOutput(dataTable, element);\n",
              "          const docLink = document.createElement('div');\n",
              "          docLink.innerHTML = docLinkHtml;\n",
              "          element.appendChild(docLink);\n",
              "        }\n",
              "      </script>\n",
              "    </div>\n",
              "  </div>\n",
              "  "
            ]
          },
          "metadata": {},
          "execution_count": 17
        }
      ]
    },
    {
      "cell_type": "markdown",
      "source": [
        "## 5. 文京区\n",
        "- [文化・スポーツ施設](https://catalog.data.metro.tokyo.lg.jp/dataset/t131059d0304010001/resource/4fb225b9-c79c-47bc-bfe3-adec3f729906)\n",
        "- [スポーツ施設](https://www.city.bunkyo.lg.jp/bunka/sports/shisetsu.html)"
      ],
      "metadata": {
        "id": "5XQHy3KkvpL6"
      }
    },
    {
      "cell_type": "code",
      "source": [
        "bunkyo_sports_url = 'https://www.city.bunkyo.lg.jp/library/opendata-bunkyo/03bunka-kankou-sports/01bunka-sports/bunka-sports.csv'\n",
        "df_bunkyo_sports = get_data_csv_url(bunkyo_sports_url, encoding='shift-jis')\n",
        "print(df_bunkyo_sports.shape)\n",
        "\n",
        "df_bunkyo_sports['市区町村名'] = '文京区'\n",
        "df_bunkyo_sports = df_bunkyo_sports[df_bunkyo_sports['カテゴリ'] == 'スポーツ施設'].reset_index(drop=True)\n",
        "df_bunkyo_sports['施設分類'] = df_bunkyo_sports['施設名'].apply(get_category_facility)\n",
        "df_bunkyo_sports = df_bunkyo_sports[\n",
        "    (df_bunkyo_sports['施設分類'].isin(['体育館', '運動場他', 'プール']))\n",
        "].rename(columns={'施設名':'名称', '住所':'所在地'})[extract_columns].reset_index(drop=True)\n",
        "change_type(df_bunkyo_sports)\n",
        "print(df_bunkyo_sports.shape)"
      ],
      "metadata": {
        "colab": {
          "base_uri": "https://localhost:8080/"
        },
        "id": "3FsxuB5L6yz_",
        "outputId": "69742a75-f076-4194-c76b-556afe7067d0"
      },
      "execution_count": 18,
      "outputs": [
        {
          "output_type": "stream",
          "name": "stdout",
          "text": [
            "(15, 14)\n",
            "(7, 6)\n"
          ]
        }
      ]
    },
    {
      "cell_type": "code",
      "source": [
        "df_bunkyo_sports"
      ],
      "metadata": {
        "id": "zD6c_gWcSzFa",
        "outputId": "483f65cc-18f8-47e7-a656-83b864f50788",
        "colab": {
          "base_uri": "https://localhost:8080/",
          "height": 269
        }
      },
      "execution_count": 19,
      "outputs": [
        {
          "output_type": "execute_result",
          "data": {
            "text/plain": [
              "   施設分類          名称 市区町村名                 所在地         緯度          経度\n",
              "0   体育館     文京総合体育館   文京区     東京都文京区本郷7丁目1番2号  35.708382  139.763180\n",
              "1  運動場他  文京スポーツセンター   文京区    東京都文京区大塚3丁目29番2号  35.720522  139.736420\n",
              "2   体育館   文京江戸川橋体育館   文京区    東京都文京区小日向1丁目7番4号  35.710603  139.735460\n",
              "3  運動場他     六義公園運動場   文京区  東京都文京区本駒込6丁目16番10号  35.731305  139.745763\n",
              "4  運動場他      小石川運動場   文京区    東京都文京区後楽1丁目8番23号  35.704965  139.746415\n",
              "5  運動場他   後楽公園少年野球場   文京区    東京都文京区後楽1丁目6番25号  35.706528  139.748556\n",
              "6  運動場他    竹早テニスコート   文京区    東京都文京区小石川5丁目9番1号  35.717161  139.739597"
            ],
            "text/html": [
              "\n",
              "  <div id=\"df-529c8d12-e9f5-4ff4-aceb-9ee614a5d16b\">\n",
              "    <div class=\"colab-df-container\">\n",
              "      <div>\n",
              "<style scoped>\n",
              "    .dataframe tbody tr th:only-of-type {\n",
              "        vertical-align: middle;\n",
              "    }\n",
              "\n",
              "    .dataframe tbody tr th {\n",
              "        vertical-align: top;\n",
              "    }\n",
              "\n",
              "    .dataframe thead th {\n",
              "        text-align: right;\n",
              "    }\n",
              "</style>\n",
              "<table border=\"1\" class=\"dataframe\">\n",
              "  <thead>\n",
              "    <tr style=\"text-align: right;\">\n",
              "      <th></th>\n",
              "      <th>施設分類</th>\n",
              "      <th>名称</th>\n",
              "      <th>市区町村名</th>\n",
              "      <th>所在地</th>\n",
              "      <th>緯度</th>\n",
              "      <th>経度</th>\n",
              "    </tr>\n",
              "  </thead>\n",
              "  <tbody>\n",
              "    <tr>\n",
              "      <th>0</th>\n",
              "      <td>体育館</td>\n",
              "      <td>文京総合体育館</td>\n",
              "      <td>文京区</td>\n",
              "      <td>東京都文京区本郷7丁目1番2号</td>\n",
              "      <td>35.708382</td>\n",
              "      <td>139.763180</td>\n",
              "    </tr>\n",
              "    <tr>\n",
              "      <th>1</th>\n",
              "      <td>運動場他</td>\n",
              "      <td>文京スポーツセンター</td>\n",
              "      <td>文京区</td>\n",
              "      <td>東京都文京区大塚3丁目29番2号</td>\n",
              "      <td>35.720522</td>\n",
              "      <td>139.736420</td>\n",
              "    </tr>\n",
              "    <tr>\n",
              "      <th>2</th>\n",
              "      <td>体育館</td>\n",
              "      <td>文京江戸川橋体育館</td>\n",
              "      <td>文京区</td>\n",
              "      <td>東京都文京区小日向1丁目7番4号</td>\n",
              "      <td>35.710603</td>\n",
              "      <td>139.735460</td>\n",
              "    </tr>\n",
              "    <tr>\n",
              "      <th>3</th>\n",
              "      <td>運動場他</td>\n",
              "      <td>六義公園運動場</td>\n",
              "      <td>文京区</td>\n",
              "      <td>東京都文京区本駒込6丁目16番10号</td>\n",
              "      <td>35.731305</td>\n",
              "      <td>139.745763</td>\n",
              "    </tr>\n",
              "    <tr>\n",
              "      <th>4</th>\n",
              "      <td>運動場他</td>\n",
              "      <td>小石川運動場</td>\n",
              "      <td>文京区</td>\n",
              "      <td>東京都文京区後楽1丁目8番23号</td>\n",
              "      <td>35.704965</td>\n",
              "      <td>139.746415</td>\n",
              "    </tr>\n",
              "    <tr>\n",
              "      <th>5</th>\n",
              "      <td>運動場他</td>\n",
              "      <td>後楽公園少年野球場</td>\n",
              "      <td>文京区</td>\n",
              "      <td>東京都文京区後楽1丁目6番25号</td>\n",
              "      <td>35.706528</td>\n",
              "      <td>139.748556</td>\n",
              "    </tr>\n",
              "    <tr>\n",
              "      <th>6</th>\n",
              "      <td>運動場他</td>\n",
              "      <td>竹早テニスコート</td>\n",
              "      <td>文京区</td>\n",
              "      <td>東京都文京区小石川5丁目9番1号</td>\n",
              "      <td>35.717161</td>\n",
              "      <td>139.739597</td>\n",
              "    </tr>\n",
              "  </tbody>\n",
              "</table>\n",
              "</div>\n",
              "      <button class=\"colab-df-convert\" onclick=\"convertToInteractive('df-529c8d12-e9f5-4ff4-aceb-9ee614a5d16b')\"\n",
              "              title=\"Convert this dataframe to an interactive table.\"\n",
              "              style=\"display:none;\">\n",
              "        \n",
              "  <svg xmlns=\"http://www.w3.org/2000/svg\" height=\"24px\"viewBox=\"0 0 24 24\"\n",
              "       width=\"24px\">\n",
              "    <path d=\"M0 0h24v24H0V0z\" fill=\"none\"/>\n",
              "    <path d=\"M18.56 5.44l.94 2.06.94-2.06 2.06-.94-2.06-.94-.94-2.06-.94 2.06-2.06.94zm-11 1L8.5 8.5l.94-2.06 2.06-.94-2.06-.94L8.5 2.5l-.94 2.06-2.06.94zm10 10l.94 2.06.94-2.06 2.06-.94-2.06-.94-.94-2.06-.94 2.06-2.06.94z\"/><path d=\"M17.41 7.96l-1.37-1.37c-.4-.4-.92-.59-1.43-.59-.52 0-1.04.2-1.43.59L10.3 9.45l-7.72 7.72c-.78.78-.78 2.05 0 2.83L4 21.41c.39.39.9.59 1.41.59.51 0 1.02-.2 1.41-.59l7.78-7.78 2.81-2.81c.8-.78.8-2.07 0-2.86zM5.41 20L4 18.59l7.72-7.72 1.47 1.35L5.41 20z\"/>\n",
              "  </svg>\n",
              "      </button>\n",
              "      \n",
              "  <style>\n",
              "    .colab-df-container {\n",
              "      display:flex;\n",
              "      flex-wrap:wrap;\n",
              "      gap: 12px;\n",
              "    }\n",
              "\n",
              "    .colab-df-convert {\n",
              "      background-color: #E8F0FE;\n",
              "      border: none;\n",
              "      border-radius: 50%;\n",
              "      cursor: pointer;\n",
              "      display: none;\n",
              "      fill: #1967D2;\n",
              "      height: 32px;\n",
              "      padding: 0 0 0 0;\n",
              "      width: 32px;\n",
              "    }\n",
              "\n",
              "    .colab-df-convert:hover {\n",
              "      background-color: #E2EBFA;\n",
              "      box-shadow: 0px 1px 2px rgba(60, 64, 67, 0.3), 0px 1px 3px 1px rgba(60, 64, 67, 0.15);\n",
              "      fill: #174EA6;\n",
              "    }\n",
              "\n",
              "    [theme=dark] .colab-df-convert {\n",
              "      background-color: #3B4455;\n",
              "      fill: #D2E3FC;\n",
              "    }\n",
              "\n",
              "    [theme=dark] .colab-df-convert:hover {\n",
              "      background-color: #434B5C;\n",
              "      box-shadow: 0px 1px 3px 1px rgba(0, 0, 0, 0.15);\n",
              "      filter: drop-shadow(0px 1px 2px rgba(0, 0, 0, 0.3));\n",
              "      fill: #FFFFFF;\n",
              "    }\n",
              "  </style>\n",
              "\n",
              "      <script>\n",
              "        const buttonEl =\n",
              "          document.querySelector('#df-529c8d12-e9f5-4ff4-aceb-9ee614a5d16b button.colab-df-convert');\n",
              "        buttonEl.style.display =\n",
              "          google.colab.kernel.accessAllowed ? 'block' : 'none';\n",
              "\n",
              "        async function convertToInteractive(key) {\n",
              "          const element = document.querySelector('#df-529c8d12-e9f5-4ff4-aceb-9ee614a5d16b');\n",
              "          const dataTable =\n",
              "            await google.colab.kernel.invokeFunction('convertToInteractive',\n",
              "                                                     [key], {});\n",
              "          if (!dataTable) return;\n",
              "\n",
              "          const docLinkHtml = 'Like what you see? Visit the ' +\n",
              "            '<a target=\"_blank\" href=https://colab.research.google.com/notebooks/data_table.ipynb>data table notebook</a>'\n",
              "            + ' to learn more about interactive tables.';\n",
              "          element.innerHTML = '';\n",
              "          dataTable['output_type'] = 'display_data';\n",
              "          await google.colab.output.renderOutput(dataTable, element);\n",
              "          const docLink = document.createElement('div');\n",
              "          docLink.innerHTML = docLinkHtml;\n",
              "          element.appendChild(docLink);\n",
              "        }\n",
              "      </script>\n",
              "    </div>\n",
              "  </div>\n",
              "  "
            ]
          },
          "metadata": {},
          "execution_count": 19
        }
      ]
    },
    {
      "cell_type": "markdown",
      "source": [
        "## 6. 台東区\n",
        "- [スポーツ](https://catalog.data.metro.tokyo.lg.jp/dataset/t131067d0000000091/resource/a7138b99-a872-41fd-ab3b-361a8278bff7)"
      ],
      "metadata": {
        "id": "S_Q90dBVcPtQ"
      }
    },
    {
      "cell_type": "code",
      "source": [
        "taito_sports_url = 'https://www.city.taito.lg.jp/kusei/online/opendata/seikatu/shisethutizujouhou.files/sisetu_13.csv'\n",
        "df_taito_sports = get_data_csv_url(taito_sports_url, 'shift-jis')\n",
        "print(df_taito_sports.shape)\n",
        "\n",
        "df_taito_sports['市区町村名'] = '台東区'\n",
        "df_taito_sports['施設分類'] = df_taito_sports['名称'].apply(get_category_facility)\n",
        "df_taito_sports = df_taito_sports[\n",
        "    (df_taito_sports['施設分類'].isin(['体育館', '運動場他', 'プール']))\n",
        "].rename(columns={'X座標':'経度', 'Y座標':'緯度'})[extract_columns].reset_index(drop=True)\n",
        "change_type(df_taito_sports)\n",
        "print(df_taito_sports.shape)"
      ],
      "metadata": {
        "id": "kUmwooOBwofd",
        "outputId": "44369722-daeb-4057-b60f-ed71bea1fff8",
        "colab": {
          "base_uri": "https://localhost:8080/"
        }
      },
      "execution_count": 20,
      "outputs": [
        {
          "output_type": "stream",
          "name": "stdout",
          "text": [
            "(8, 8)\n",
            "(8, 6)\n"
          ]
        }
      ]
    },
    {
      "cell_type": "code",
      "source": [
        "df_taito_sports"
      ],
      "metadata": {
        "id": "q1KSdKbRQO3f",
        "outputId": "361af144-0c0a-44e7-b95e-4f1bbf9cfa40",
        "colab": {
          "base_uri": "https://localhost:8080/",
          "height": 300
        }
      },
      "execution_count": 21,
      "outputs": [
        {
          "output_type": "execute_result",
          "data": {
            "text/plain": [
              "   施設分類                       名称 市区町村名                          所在地  \\\n",
              "0   プール                  清島温水プール   台東区                  東上野6丁目16番8号   \n",
              "1  運動場他                柳北スポーツプラザ   台東区        浅草橋5丁目1番8号（旧柳北小学校体育館）   \n",
              "2  運動場他         台東リバーサイドスポーツセンター   台東区                   今戸1丁目1番10号   \n",
              "3   体育館        生涯学習センタートレーニングルーム   台東区      西浅草3丁目25番16号　生涯学習センター3階   \n",
              "4  運動場他             荒川河川敷運動公園運動場   台東区        足立区千住大川町12番1号先（荒川河川敷）   \n",
              "5  運動場他                江戸川河川敷野球場   台東区           埼玉県三郷市新和地先（江戸川河川敷）   \n",
              "6  運動場他               たなかスポーツプラザ   台東区                  日本堤2丁目25番4号   \n",
              "7   プール  都立浅草高等学校温水プール(区民開放期間のみ）   台東区  今戸1丁目8番13号　都立浅草高等学校体育館棟地下1階   \n",
              "\n",
              "          緯度          経度  \n",
              "0  35.713494  139.783434  \n",
              "1  35.699276  139.782265  \n",
              "2  35.717405  139.804583  \n",
              "3  35.717238  139.789697  \n",
              "4  35.758178  139.800661  \n",
              "5  35.819153  139.888761  \n",
              "6  35.727879  139.797257  \n",
              "7  35.719356  139.802486  "
            ],
            "text/html": [
              "\n",
              "  <div id=\"df-61ee1d22-adc4-4076-b574-229bd03438cc\">\n",
              "    <div class=\"colab-df-container\">\n",
              "      <div>\n",
              "<style scoped>\n",
              "    .dataframe tbody tr th:only-of-type {\n",
              "        vertical-align: middle;\n",
              "    }\n",
              "\n",
              "    .dataframe tbody tr th {\n",
              "        vertical-align: top;\n",
              "    }\n",
              "\n",
              "    .dataframe thead th {\n",
              "        text-align: right;\n",
              "    }\n",
              "</style>\n",
              "<table border=\"1\" class=\"dataframe\">\n",
              "  <thead>\n",
              "    <tr style=\"text-align: right;\">\n",
              "      <th></th>\n",
              "      <th>施設分類</th>\n",
              "      <th>名称</th>\n",
              "      <th>市区町村名</th>\n",
              "      <th>所在地</th>\n",
              "      <th>緯度</th>\n",
              "      <th>経度</th>\n",
              "    </tr>\n",
              "  </thead>\n",
              "  <tbody>\n",
              "    <tr>\n",
              "      <th>0</th>\n",
              "      <td>プール</td>\n",
              "      <td>清島温水プール</td>\n",
              "      <td>台東区</td>\n",
              "      <td>東上野6丁目16番8号</td>\n",
              "      <td>35.713494</td>\n",
              "      <td>139.783434</td>\n",
              "    </tr>\n",
              "    <tr>\n",
              "      <th>1</th>\n",
              "      <td>運動場他</td>\n",
              "      <td>柳北スポーツプラザ</td>\n",
              "      <td>台東区</td>\n",
              "      <td>浅草橋5丁目1番8号（旧柳北小学校体育館）</td>\n",
              "      <td>35.699276</td>\n",
              "      <td>139.782265</td>\n",
              "    </tr>\n",
              "    <tr>\n",
              "      <th>2</th>\n",
              "      <td>運動場他</td>\n",
              "      <td>台東リバーサイドスポーツセンター</td>\n",
              "      <td>台東区</td>\n",
              "      <td>今戸1丁目1番10号</td>\n",
              "      <td>35.717405</td>\n",
              "      <td>139.804583</td>\n",
              "    </tr>\n",
              "    <tr>\n",
              "      <th>3</th>\n",
              "      <td>体育館</td>\n",
              "      <td>生涯学習センタートレーニングルーム</td>\n",
              "      <td>台東区</td>\n",
              "      <td>西浅草3丁目25番16号　生涯学習センター3階</td>\n",
              "      <td>35.717238</td>\n",
              "      <td>139.789697</td>\n",
              "    </tr>\n",
              "    <tr>\n",
              "      <th>4</th>\n",
              "      <td>運動場他</td>\n",
              "      <td>荒川河川敷運動公園運動場</td>\n",
              "      <td>台東区</td>\n",
              "      <td>足立区千住大川町12番1号先（荒川河川敷）</td>\n",
              "      <td>35.758178</td>\n",
              "      <td>139.800661</td>\n",
              "    </tr>\n",
              "    <tr>\n",
              "      <th>5</th>\n",
              "      <td>運動場他</td>\n",
              "      <td>江戸川河川敷野球場</td>\n",
              "      <td>台東区</td>\n",
              "      <td>埼玉県三郷市新和地先（江戸川河川敷）</td>\n",
              "      <td>35.819153</td>\n",
              "      <td>139.888761</td>\n",
              "    </tr>\n",
              "    <tr>\n",
              "      <th>6</th>\n",
              "      <td>運動場他</td>\n",
              "      <td>たなかスポーツプラザ</td>\n",
              "      <td>台東区</td>\n",
              "      <td>日本堤2丁目25番4号</td>\n",
              "      <td>35.727879</td>\n",
              "      <td>139.797257</td>\n",
              "    </tr>\n",
              "    <tr>\n",
              "      <th>7</th>\n",
              "      <td>プール</td>\n",
              "      <td>都立浅草高等学校温水プール(区民開放期間のみ）</td>\n",
              "      <td>台東区</td>\n",
              "      <td>今戸1丁目8番13号　都立浅草高等学校体育館棟地下1階</td>\n",
              "      <td>35.719356</td>\n",
              "      <td>139.802486</td>\n",
              "    </tr>\n",
              "  </tbody>\n",
              "</table>\n",
              "</div>\n",
              "      <button class=\"colab-df-convert\" onclick=\"convertToInteractive('df-61ee1d22-adc4-4076-b574-229bd03438cc')\"\n",
              "              title=\"Convert this dataframe to an interactive table.\"\n",
              "              style=\"display:none;\">\n",
              "        \n",
              "  <svg xmlns=\"http://www.w3.org/2000/svg\" height=\"24px\"viewBox=\"0 0 24 24\"\n",
              "       width=\"24px\">\n",
              "    <path d=\"M0 0h24v24H0V0z\" fill=\"none\"/>\n",
              "    <path d=\"M18.56 5.44l.94 2.06.94-2.06 2.06-.94-2.06-.94-.94-2.06-.94 2.06-2.06.94zm-11 1L8.5 8.5l.94-2.06 2.06-.94-2.06-.94L8.5 2.5l-.94 2.06-2.06.94zm10 10l.94 2.06.94-2.06 2.06-.94-2.06-.94-.94-2.06-.94 2.06-2.06.94z\"/><path d=\"M17.41 7.96l-1.37-1.37c-.4-.4-.92-.59-1.43-.59-.52 0-1.04.2-1.43.59L10.3 9.45l-7.72 7.72c-.78.78-.78 2.05 0 2.83L4 21.41c.39.39.9.59 1.41.59.51 0 1.02-.2 1.41-.59l7.78-7.78 2.81-2.81c.8-.78.8-2.07 0-2.86zM5.41 20L4 18.59l7.72-7.72 1.47 1.35L5.41 20z\"/>\n",
              "  </svg>\n",
              "      </button>\n",
              "      \n",
              "  <style>\n",
              "    .colab-df-container {\n",
              "      display:flex;\n",
              "      flex-wrap:wrap;\n",
              "      gap: 12px;\n",
              "    }\n",
              "\n",
              "    .colab-df-convert {\n",
              "      background-color: #E8F0FE;\n",
              "      border: none;\n",
              "      border-radius: 50%;\n",
              "      cursor: pointer;\n",
              "      display: none;\n",
              "      fill: #1967D2;\n",
              "      height: 32px;\n",
              "      padding: 0 0 0 0;\n",
              "      width: 32px;\n",
              "    }\n",
              "\n",
              "    .colab-df-convert:hover {\n",
              "      background-color: #E2EBFA;\n",
              "      box-shadow: 0px 1px 2px rgba(60, 64, 67, 0.3), 0px 1px 3px 1px rgba(60, 64, 67, 0.15);\n",
              "      fill: #174EA6;\n",
              "    }\n",
              "\n",
              "    [theme=dark] .colab-df-convert {\n",
              "      background-color: #3B4455;\n",
              "      fill: #D2E3FC;\n",
              "    }\n",
              "\n",
              "    [theme=dark] .colab-df-convert:hover {\n",
              "      background-color: #434B5C;\n",
              "      box-shadow: 0px 1px 3px 1px rgba(0, 0, 0, 0.15);\n",
              "      filter: drop-shadow(0px 1px 2px rgba(0, 0, 0, 0.3));\n",
              "      fill: #FFFFFF;\n",
              "    }\n",
              "  </style>\n",
              "\n",
              "      <script>\n",
              "        const buttonEl =\n",
              "          document.querySelector('#df-61ee1d22-adc4-4076-b574-229bd03438cc button.colab-df-convert');\n",
              "        buttonEl.style.display =\n",
              "          google.colab.kernel.accessAllowed ? 'block' : 'none';\n",
              "\n",
              "        async function convertToInteractive(key) {\n",
              "          const element = document.querySelector('#df-61ee1d22-adc4-4076-b574-229bd03438cc');\n",
              "          const dataTable =\n",
              "            await google.colab.kernel.invokeFunction('convertToInteractive',\n",
              "                                                     [key], {});\n",
              "          if (!dataTable) return;\n",
              "\n",
              "          const docLinkHtml = 'Like what you see? Visit the ' +\n",
              "            '<a target=\"_blank\" href=https://colab.research.google.com/notebooks/data_table.ipynb>data table notebook</a>'\n",
              "            + ' to learn more about interactive tables.';\n",
              "          element.innerHTML = '';\n",
              "          dataTable['output_type'] = 'display_data';\n",
              "          await google.colab.output.renderOutput(dataTable, element);\n",
              "          const docLink = document.createElement('div');\n",
              "          docLink.innerHTML = docLinkHtml;\n",
              "          element.appendChild(docLink);\n",
              "        }\n",
              "      </script>\n",
              "    </div>\n",
              "  </div>\n",
              "  "
            ]
          },
          "metadata": {},
          "execution_count": 21
        }
      ]
    },
    {
      "cell_type": "markdown",
      "source": [
        "## 7. 墨田区\n",
        "- [スポーツ施設](https://catalog.data.metro.tokyo.lg.jp/dataset/t131075d0000000097/resource/8544959b-5b18-4c8d-94ab-1f8db69f7445)\n"
      ],
      "metadata": {
        "id": "A79C8s69R4YW"
      }
    },
    {
      "cell_type": "code",
      "source": [
        "sumida_sports_url = 'https://www.city.sumida.lg.jp/kuseijoho/sumida_info/opendata/opendata_ichiran/shisetsu_data.files/sports.csv'\n",
        "df_sumida_sports = get_data_csv_url(sumida_sports_url, 'shift-jis')\n",
        "print(df_sumida_sports.shape)\n",
        "\n",
        "df_sumida_sports['市区町村名'] = '墨田区'\n",
        "df_sumida_sports['施設分類'] = df_sumida_sports['施設名称'].apply(get_category_facility)\n",
        "df_sumida_sports = df_sumida_sports[\n",
        "    (df_sumida_sports['施設分類'].isin(['体育館', '運動場他', 'プール']))\n",
        "].rename(columns={'施設名称':'名称'})[extract_columns].reset_index(drop=True)\n",
        "change_type(df_sumida_sports)\n",
        "print(df_sumida_sports.shape)"
      ],
      "metadata": {
        "colab": {
          "base_uri": "https://localhost:8080/"
        },
        "id": "hZJc7luQRd5I",
        "outputId": "e81dc7a5-6d64-4d7d-c310-102283e57b6e"
      },
      "execution_count": 22,
      "outputs": [
        {
          "output_type": "stream",
          "name": "stdout",
          "text": [
            "(33, 6)\n",
            "(28, 6)\n"
          ]
        }
      ]
    },
    {
      "cell_type": "code",
      "source": [
        "df_sumida_sports.head()"
      ],
      "metadata": {
        "id": "Hp2xQ18tOqzj",
        "outputId": "608b8887-6f7a-4304-8659-7b1dc74c1e72",
        "colab": {
          "base_uri": "https://localhost:8080/",
          "height": 206
        }
      },
      "execution_count": 23,
      "outputs": [
        {
          "output_type": "execute_result",
          "data": {
            "text/plain": [
              "   施設分類             名称 市区町村名                  所在地         緯度          経度\n",
              "0   体育館       墨田区総合体育館   墨田区        墨田区錦糸四丁目15番1号  35.699416  139.817188\n",
              "1  運動場他      スポーツプラザ梅若   墨田区         墨田区墨田一丁目4番4号  35.729064  139.815837\n",
              "2   体育館          立花体育館   墨田区       墨田区立花一丁目25番10号  35.705186  139.832020\n",
              "3  運動場他  すみだスポーツ健康センター   墨田区        墨田区東墨田一丁目6番1号  35.716461  139.830555\n",
              "4   プール        両国屋内プール   墨田区  墨田区横網一丁目8番1号　両国中学校内  35.697809  139.796259"
            ],
            "text/html": [
              "\n",
              "  <div id=\"df-69fe604e-d297-4e73-b961-2cdfc7940491\">\n",
              "    <div class=\"colab-df-container\">\n",
              "      <div>\n",
              "<style scoped>\n",
              "    .dataframe tbody tr th:only-of-type {\n",
              "        vertical-align: middle;\n",
              "    }\n",
              "\n",
              "    .dataframe tbody tr th {\n",
              "        vertical-align: top;\n",
              "    }\n",
              "\n",
              "    .dataframe thead th {\n",
              "        text-align: right;\n",
              "    }\n",
              "</style>\n",
              "<table border=\"1\" class=\"dataframe\">\n",
              "  <thead>\n",
              "    <tr style=\"text-align: right;\">\n",
              "      <th></th>\n",
              "      <th>施設分類</th>\n",
              "      <th>名称</th>\n",
              "      <th>市区町村名</th>\n",
              "      <th>所在地</th>\n",
              "      <th>緯度</th>\n",
              "      <th>経度</th>\n",
              "    </tr>\n",
              "  </thead>\n",
              "  <tbody>\n",
              "    <tr>\n",
              "      <th>0</th>\n",
              "      <td>体育館</td>\n",
              "      <td>墨田区総合体育館</td>\n",
              "      <td>墨田区</td>\n",
              "      <td>墨田区錦糸四丁目15番1号</td>\n",
              "      <td>35.699416</td>\n",
              "      <td>139.817188</td>\n",
              "    </tr>\n",
              "    <tr>\n",
              "      <th>1</th>\n",
              "      <td>運動場他</td>\n",
              "      <td>スポーツプラザ梅若</td>\n",
              "      <td>墨田区</td>\n",
              "      <td>墨田区墨田一丁目4番4号</td>\n",
              "      <td>35.729064</td>\n",
              "      <td>139.815837</td>\n",
              "    </tr>\n",
              "    <tr>\n",
              "      <th>2</th>\n",
              "      <td>体育館</td>\n",
              "      <td>立花体育館</td>\n",
              "      <td>墨田区</td>\n",
              "      <td>墨田区立花一丁目25番10号</td>\n",
              "      <td>35.705186</td>\n",
              "      <td>139.832020</td>\n",
              "    </tr>\n",
              "    <tr>\n",
              "      <th>3</th>\n",
              "      <td>運動場他</td>\n",
              "      <td>すみだスポーツ健康センター</td>\n",
              "      <td>墨田区</td>\n",
              "      <td>墨田区東墨田一丁目6番1号</td>\n",
              "      <td>35.716461</td>\n",
              "      <td>139.830555</td>\n",
              "    </tr>\n",
              "    <tr>\n",
              "      <th>4</th>\n",
              "      <td>プール</td>\n",
              "      <td>両国屋内プール</td>\n",
              "      <td>墨田区</td>\n",
              "      <td>墨田区横網一丁目8番1号　両国中学校内</td>\n",
              "      <td>35.697809</td>\n",
              "      <td>139.796259</td>\n",
              "    </tr>\n",
              "  </tbody>\n",
              "</table>\n",
              "</div>\n",
              "      <button class=\"colab-df-convert\" onclick=\"convertToInteractive('df-69fe604e-d297-4e73-b961-2cdfc7940491')\"\n",
              "              title=\"Convert this dataframe to an interactive table.\"\n",
              "              style=\"display:none;\">\n",
              "        \n",
              "  <svg xmlns=\"http://www.w3.org/2000/svg\" height=\"24px\"viewBox=\"0 0 24 24\"\n",
              "       width=\"24px\">\n",
              "    <path d=\"M0 0h24v24H0V0z\" fill=\"none\"/>\n",
              "    <path d=\"M18.56 5.44l.94 2.06.94-2.06 2.06-.94-2.06-.94-.94-2.06-.94 2.06-2.06.94zm-11 1L8.5 8.5l.94-2.06 2.06-.94-2.06-.94L8.5 2.5l-.94 2.06-2.06.94zm10 10l.94 2.06.94-2.06 2.06-.94-2.06-.94-.94-2.06-.94 2.06-2.06.94z\"/><path d=\"M17.41 7.96l-1.37-1.37c-.4-.4-.92-.59-1.43-.59-.52 0-1.04.2-1.43.59L10.3 9.45l-7.72 7.72c-.78.78-.78 2.05 0 2.83L4 21.41c.39.39.9.59 1.41.59.51 0 1.02-.2 1.41-.59l7.78-7.78 2.81-2.81c.8-.78.8-2.07 0-2.86zM5.41 20L4 18.59l7.72-7.72 1.47 1.35L5.41 20z\"/>\n",
              "  </svg>\n",
              "      </button>\n",
              "      \n",
              "  <style>\n",
              "    .colab-df-container {\n",
              "      display:flex;\n",
              "      flex-wrap:wrap;\n",
              "      gap: 12px;\n",
              "    }\n",
              "\n",
              "    .colab-df-convert {\n",
              "      background-color: #E8F0FE;\n",
              "      border: none;\n",
              "      border-radius: 50%;\n",
              "      cursor: pointer;\n",
              "      display: none;\n",
              "      fill: #1967D2;\n",
              "      height: 32px;\n",
              "      padding: 0 0 0 0;\n",
              "      width: 32px;\n",
              "    }\n",
              "\n",
              "    .colab-df-convert:hover {\n",
              "      background-color: #E2EBFA;\n",
              "      box-shadow: 0px 1px 2px rgba(60, 64, 67, 0.3), 0px 1px 3px 1px rgba(60, 64, 67, 0.15);\n",
              "      fill: #174EA6;\n",
              "    }\n",
              "\n",
              "    [theme=dark] .colab-df-convert {\n",
              "      background-color: #3B4455;\n",
              "      fill: #D2E3FC;\n",
              "    }\n",
              "\n",
              "    [theme=dark] .colab-df-convert:hover {\n",
              "      background-color: #434B5C;\n",
              "      box-shadow: 0px 1px 3px 1px rgba(0, 0, 0, 0.15);\n",
              "      filter: drop-shadow(0px 1px 2px rgba(0, 0, 0, 0.3));\n",
              "      fill: #FFFFFF;\n",
              "    }\n",
              "  </style>\n",
              "\n",
              "      <script>\n",
              "        const buttonEl =\n",
              "          document.querySelector('#df-69fe604e-d297-4e73-b961-2cdfc7940491 button.colab-df-convert');\n",
              "        buttonEl.style.display =\n",
              "          google.colab.kernel.accessAllowed ? 'block' : 'none';\n",
              "\n",
              "        async function convertToInteractive(key) {\n",
              "          const element = document.querySelector('#df-69fe604e-d297-4e73-b961-2cdfc7940491');\n",
              "          const dataTable =\n",
              "            await google.colab.kernel.invokeFunction('convertToInteractive',\n",
              "                                                     [key], {});\n",
              "          if (!dataTable) return;\n",
              "\n",
              "          const docLinkHtml = 'Like what you see? Visit the ' +\n",
              "            '<a target=\"_blank\" href=https://colab.research.google.com/notebooks/data_table.ipynb>data table notebook</a>'\n",
              "            + ' to learn more about interactive tables.';\n",
              "          element.innerHTML = '';\n",
              "          dataTable['output_type'] = 'display_data';\n",
              "          await google.colab.output.renderOutput(dataTable, element);\n",
              "          const docLink = document.createElement('div');\n",
              "          docLink.innerHTML = docLinkHtml;\n",
              "          element.appendChild(docLink);\n",
              "        }\n",
              "      </script>\n",
              "    </div>\n",
              "  </div>\n",
              "  "
            ]
          },
          "metadata": {},
          "execution_count": 23
        }
      ]
    },
    {
      "cell_type": "markdown",
      "source": [
        "## 8. 江東区\n",
        "- [スポーツセンター](https://catalog.data.metro.tokyo.lg.jp/dataset/t131083d0000000007/resource/4ca870cd-859a-4f9e-8e57-38d9830aadc4)"
      ],
      "metadata": {
        "id": "k9DmEpn4y2dz"
      }
    },
    {
      "cell_type": "code",
      "source": [
        "koutou_sports_url = 'https://www.city.koto.lg.jp/012107/documents/131083_kotocity_public_facility-4_sports.csv'\n",
        "df_koutou_sports = get_data_csv_url(koutou_sports_url, 'shift-jis')\n",
        "print(df_koutou_sports.shape)\n",
        "\n",
        "df_koutou_sports['施設分類'] = df_koutou_sports['名称'].apply(get_category_facility)\n",
        "df_koutou_sports = df_koutou_sports[\n",
        "    (df_koutou_sports['施設分類'].isin(['体育館', '運動場他', 'プール']))\n",
        "].rename(columns={'住所':'所在地'})[extract_columns].reset_index(drop=True)\n",
        "change_type(df_koutou_sports)\n",
        "print(df_koutou_sports.shape)"
      ],
      "metadata": {
        "colab": {
          "base_uri": "https://localhost:8080/"
        },
        "id": "eJH2HE8H7dzZ",
        "outputId": "1b60ca35-2977-42d5-ea59-b30c081e9312"
      },
      "execution_count": 24,
      "outputs": [
        {
          "output_type": "stream",
          "name": "stdout",
          "text": [
            "(19, 39)\n",
            "(17, 6)\n"
          ]
        }
      ]
    },
    {
      "cell_type": "code",
      "source": [
        "df_koutou_sports.head()"
      ],
      "metadata": {
        "id": "A3bXv6OtgDiG",
        "outputId": "0c84036f-6500-41c2-c5e1-1b744db0e473",
        "colab": {
          "base_uri": "https://localhost:8080/",
          "height": 206
        }
      },
      "execution_count": 25,
      "outputs": [
        {
          "output_type": "execute_result",
          "data": {
            "text/plain": [
              "   施設分類           名称 市区町村名           所在地         緯度          経度\n",
              "0  運動場他   深川スポーツセンター   江東区  江東区越中島1-2-18  35.670692  139.791745\n",
              "1  運動場他   亀戸スポーツセンター   江東区   江東区亀戸8-22-1  35.700432  139.836565\n",
              "2  運動場他   有明スポーツセンター   江東区    江東区有明2-3-5  35.633500  139.783824\n",
              "3  運動場他   東砂スポーツセンター   江東区   江東区東砂4-24-1  35.679506  139.839551\n",
              "4  運動場他  深川北スポーツセンター   江東区   江東区平野3-2-20  35.677172  139.805179"
            ],
            "text/html": [
              "\n",
              "  <div id=\"df-8349c247-58e5-4975-85ea-4dffa4f0c32b\">\n",
              "    <div class=\"colab-df-container\">\n",
              "      <div>\n",
              "<style scoped>\n",
              "    .dataframe tbody tr th:only-of-type {\n",
              "        vertical-align: middle;\n",
              "    }\n",
              "\n",
              "    .dataframe tbody tr th {\n",
              "        vertical-align: top;\n",
              "    }\n",
              "\n",
              "    .dataframe thead th {\n",
              "        text-align: right;\n",
              "    }\n",
              "</style>\n",
              "<table border=\"1\" class=\"dataframe\">\n",
              "  <thead>\n",
              "    <tr style=\"text-align: right;\">\n",
              "      <th></th>\n",
              "      <th>施設分類</th>\n",
              "      <th>名称</th>\n",
              "      <th>市区町村名</th>\n",
              "      <th>所在地</th>\n",
              "      <th>緯度</th>\n",
              "      <th>経度</th>\n",
              "    </tr>\n",
              "  </thead>\n",
              "  <tbody>\n",
              "    <tr>\n",
              "      <th>0</th>\n",
              "      <td>運動場他</td>\n",
              "      <td>深川スポーツセンター</td>\n",
              "      <td>江東区</td>\n",
              "      <td>江東区越中島1-2-18</td>\n",
              "      <td>35.670692</td>\n",
              "      <td>139.791745</td>\n",
              "    </tr>\n",
              "    <tr>\n",
              "      <th>1</th>\n",
              "      <td>運動場他</td>\n",
              "      <td>亀戸スポーツセンター</td>\n",
              "      <td>江東区</td>\n",
              "      <td>江東区亀戸8-22-1</td>\n",
              "      <td>35.700432</td>\n",
              "      <td>139.836565</td>\n",
              "    </tr>\n",
              "    <tr>\n",
              "      <th>2</th>\n",
              "      <td>運動場他</td>\n",
              "      <td>有明スポーツセンター</td>\n",
              "      <td>江東区</td>\n",
              "      <td>江東区有明2-3-5</td>\n",
              "      <td>35.633500</td>\n",
              "      <td>139.783824</td>\n",
              "    </tr>\n",
              "    <tr>\n",
              "      <th>3</th>\n",
              "      <td>運動場他</td>\n",
              "      <td>東砂スポーツセンター</td>\n",
              "      <td>江東区</td>\n",
              "      <td>江東区東砂4-24-1</td>\n",
              "      <td>35.679506</td>\n",
              "      <td>139.839551</td>\n",
              "    </tr>\n",
              "    <tr>\n",
              "      <th>4</th>\n",
              "      <td>運動場他</td>\n",
              "      <td>深川北スポーツセンター</td>\n",
              "      <td>江東区</td>\n",
              "      <td>江東区平野3-2-20</td>\n",
              "      <td>35.677172</td>\n",
              "      <td>139.805179</td>\n",
              "    </tr>\n",
              "  </tbody>\n",
              "</table>\n",
              "</div>\n",
              "      <button class=\"colab-df-convert\" onclick=\"convertToInteractive('df-8349c247-58e5-4975-85ea-4dffa4f0c32b')\"\n",
              "              title=\"Convert this dataframe to an interactive table.\"\n",
              "              style=\"display:none;\">\n",
              "        \n",
              "  <svg xmlns=\"http://www.w3.org/2000/svg\" height=\"24px\"viewBox=\"0 0 24 24\"\n",
              "       width=\"24px\">\n",
              "    <path d=\"M0 0h24v24H0V0z\" fill=\"none\"/>\n",
              "    <path d=\"M18.56 5.44l.94 2.06.94-2.06 2.06-.94-2.06-.94-.94-2.06-.94 2.06-2.06.94zm-11 1L8.5 8.5l.94-2.06 2.06-.94-2.06-.94L8.5 2.5l-.94 2.06-2.06.94zm10 10l.94 2.06.94-2.06 2.06-.94-2.06-.94-.94-2.06-.94 2.06-2.06.94z\"/><path d=\"M17.41 7.96l-1.37-1.37c-.4-.4-.92-.59-1.43-.59-.52 0-1.04.2-1.43.59L10.3 9.45l-7.72 7.72c-.78.78-.78 2.05 0 2.83L4 21.41c.39.39.9.59 1.41.59.51 0 1.02-.2 1.41-.59l7.78-7.78 2.81-2.81c.8-.78.8-2.07 0-2.86zM5.41 20L4 18.59l7.72-7.72 1.47 1.35L5.41 20z\"/>\n",
              "  </svg>\n",
              "      </button>\n",
              "      \n",
              "  <style>\n",
              "    .colab-df-container {\n",
              "      display:flex;\n",
              "      flex-wrap:wrap;\n",
              "      gap: 12px;\n",
              "    }\n",
              "\n",
              "    .colab-df-convert {\n",
              "      background-color: #E8F0FE;\n",
              "      border: none;\n",
              "      border-radius: 50%;\n",
              "      cursor: pointer;\n",
              "      display: none;\n",
              "      fill: #1967D2;\n",
              "      height: 32px;\n",
              "      padding: 0 0 0 0;\n",
              "      width: 32px;\n",
              "    }\n",
              "\n",
              "    .colab-df-convert:hover {\n",
              "      background-color: #E2EBFA;\n",
              "      box-shadow: 0px 1px 2px rgba(60, 64, 67, 0.3), 0px 1px 3px 1px rgba(60, 64, 67, 0.15);\n",
              "      fill: #174EA6;\n",
              "    }\n",
              "\n",
              "    [theme=dark] .colab-df-convert {\n",
              "      background-color: #3B4455;\n",
              "      fill: #D2E3FC;\n",
              "    }\n",
              "\n",
              "    [theme=dark] .colab-df-convert:hover {\n",
              "      background-color: #434B5C;\n",
              "      box-shadow: 0px 1px 3px 1px rgba(0, 0, 0, 0.15);\n",
              "      filter: drop-shadow(0px 1px 2px rgba(0, 0, 0, 0.3));\n",
              "      fill: #FFFFFF;\n",
              "    }\n",
              "  </style>\n",
              "\n",
              "      <script>\n",
              "        const buttonEl =\n",
              "          document.querySelector('#df-8349c247-58e5-4975-85ea-4dffa4f0c32b button.colab-df-convert');\n",
              "        buttonEl.style.display =\n",
              "          google.colab.kernel.accessAllowed ? 'block' : 'none';\n",
              "\n",
              "        async function convertToInteractive(key) {\n",
              "          const element = document.querySelector('#df-8349c247-58e5-4975-85ea-4dffa4f0c32b');\n",
              "          const dataTable =\n",
              "            await google.colab.kernel.invokeFunction('convertToInteractive',\n",
              "                                                     [key], {});\n",
              "          if (!dataTable) return;\n",
              "\n",
              "          const docLinkHtml = 'Like what you see? Visit the ' +\n",
              "            '<a target=\"_blank\" href=https://colab.research.google.com/notebooks/data_table.ipynb>data table notebook</a>'\n",
              "            + ' to learn more about interactive tables.';\n",
              "          element.innerHTML = '';\n",
              "          dataTable['output_type'] = 'display_data';\n",
              "          await google.colab.output.renderOutput(dataTable, element);\n",
              "          const docLink = document.createElement('div');\n",
              "          docLink.innerHTML = docLinkHtml;\n",
              "          element.appendChild(docLink);\n",
              "        }\n",
              "      </script>\n",
              "    </div>\n",
              "  </div>\n",
              "  "
            ]
          },
          "metadata": {},
          "execution_count": 25
        }
      ]
    },
    {
      "cell_type": "markdown",
      "source": [
        "## 9. 品川区\n",
        "- [文化・スポーツ施設・公園(csv形式)](https://catalog.data.metro.tokyo.lg.jp/dataset/t131091d0000000016/resource/bd07c1ef-65b9-4bfc-88bd-0e4771782cc4) -> 体育館、野球場"
      ],
      "metadata": {
        "id": "q9jxzgLIvxhE"
      }
    },
    {
      "cell_type": "code",
      "source": [
        "# 列がおかしいので読み込みできない\n",
        "# shinagawa_sports_url = 'https://www.opendata.metro.tokyo.lg.jp/shinagawa/culture_sports_park.csv'\n",
        "# df_shinagawa_sports = get_data_csv_url(shinagawa_sports_url, encoding='cp932')\n",
        "df_shinagawa_sports = pd.read_csv(os.path.join(DIR_NAME, 'original/品川区_文化スポーツ施設.csv'), encoding='cp932', names=['名称', '所在地', '備考', '緯度', '経度'], skiprows=1)\n",
        "print(df_shinagawa_sports.shape)\n",
        "\n",
        "df_shinagawa_sports['市区町村名'] = '品川区'\n",
        "df_shinagawa_sports['施設分類'] = df_shinagawa_sports['名称'].apply(get_category_facility)\n",
        "df_shinagawa_sports = df_shinagawa_sports\n",
        "df_shinagawa_sports = df_shinagawa_sports[\n",
        "    (df_shinagawa_sports['施設分類'].isin(['体育館', '運動場他', 'プール']))\n",
        "][extract_columns].reset_index(drop=True)\n",
        "df_shinagawa_sports = df_shinagawa_sports.drop_duplicates(subset=['所在地']).reset_index(drop=True)\n",
        "change_type(df_shinagawa_sports)\n",
        "print(df_shinagawa_sports.shape)"
      ],
      "metadata": {
        "id": "0S4Tp7qolupq",
        "outputId": "74ce7605-1985-4af4-d609-67f89a636e5d",
        "colab": {
          "base_uri": "https://localhost:8080/"
        }
      },
      "execution_count": 26,
      "outputs": [
        {
          "output_type": "stream",
          "name": "stdout",
          "text": [
            "(314, 5)\n",
            "(12, 6)\n"
          ]
        }
      ]
    },
    {
      "cell_type": "code",
      "source": [
        "df_shinagawa_sports.head()"
      ],
      "metadata": {
        "id": "qt2u9cIyorzC",
        "outputId": "0c05856a-7a1d-41eb-b657-83938a19af95",
        "colab": {
          "base_uri": "https://localhost:8080/",
          "height": 206
        }
      },
      "execution_count": 27,
      "outputs": [
        {
          "output_type": "execute_result",
          "data": {
            "text/plain": [
              "   施設分類             名称 市区町村名               所在地         緯度          経度\n",
              "0   体育館          総合体育館   品川区   東京都品川区北品川5-6-11  35.624530  139.728488\n",
              "1  運動場他       天王洲公園野球場   品川区   東京都品川区東品川2-5-42  35.620512  139.749802\n",
              "2  運動場他       八潮北公園野球場   品川区     東京都品川区八潮1-3-1  35.612284  139.754404\n",
              "3  運動場他  大井ふ頭中央海浜公園野球場   品川区    東京都品川区八潮4-1-19  35.590939  139.752439\n",
              "4  運動場他        子供の森野球場   品川区  東京都品川区北品川3-10-13  35.616218  139.737565"
            ],
            "text/html": [
              "\n",
              "  <div id=\"df-c48803f0-1024-4c03-bed4-9122c55411be\">\n",
              "    <div class=\"colab-df-container\">\n",
              "      <div>\n",
              "<style scoped>\n",
              "    .dataframe tbody tr th:only-of-type {\n",
              "        vertical-align: middle;\n",
              "    }\n",
              "\n",
              "    .dataframe tbody tr th {\n",
              "        vertical-align: top;\n",
              "    }\n",
              "\n",
              "    .dataframe thead th {\n",
              "        text-align: right;\n",
              "    }\n",
              "</style>\n",
              "<table border=\"1\" class=\"dataframe\">\n",
              "  <thead>\n",
              "    <tr style=\"text-align: right;\">\n",
              "      <th></th>\n",
              "      <th>施設分類</th>\n",
              "      <th>名称</th>\n",
              "      <th>市区町村名</th>\n",
              "      <th>所在地</th>\n",
              "      <th>緯度</th>\n",
              "      <th>経度</th>\n",
              "    </tr>\n",
              "  </thead>\n",
              "  <tbody>\n",
              "    <tr>\n",
              "      <th>0</th>\n",
              "      <td>体育館</td>\n",
              "      <td>総合体育館</td>\n",
              "      <td>品川区</td>\n",
              "      <td>東京都品川区北品川5-6-11</td>\n",
              "      <td>35.624530</td>\n",
              "      <td>139.728488</td>\n",
              "    </tr>\n",
              "    <tr>\n",
              "      <th>1</th>\n",
              "      <td>運動場他</td>\n",
              "      <td>天王洲公園野球場</td>\n",
              "      <td>品川区</td>\n",
              "      <td>東京都品川区東品川2-5-42</td>\n",
              "      <td>35.620512</td>\n",
              "      <td>139.749802</td>\n",
              "    </tr>\n",
              "    <tr>\n",
              "      <th>2</th>\n",
              "      <td>運動場他</td>\n",
              "      <td>八潮北公園野球場</td>\n",
              "      <td>品川区</td>\n",
              "      <td>東京都品川区八潮1-3-1</td>\n",
              "      <td>35.612284</td>\n",
              "      <td>139.754404</td>\n",
              "    </tr>\n",
              "    <tr>\n",
              "      <th>3</th>\n",
              "      <td>運動場他</td>\n",
              "      <td>大井ふ頭中央海浜公園野球場</td>\n",
              "      <td>品川区</td>\n",
              "      <td>東京都品川区八潮4-1-19</td>\n",
              "      <td>35.590939</td>\n",
              "      <td>139.752439</td>\n",
              "    </tr>\n",
              "    <tr>\n",
              "      <th>4</th>\n",
              "      <td>運動場他</td>\n",
              "      <td>子供の森野球場</td>\n",
              "      <td>品川区</td>\n",
              "      <td>東京都品川区北品川3-10-13</td>\n",
              "      <td>35.616218</td>\n",
              "      <td>139.737565</td>\n",
              "    </tr>\n",
              "  </tbody>\n",
              "</table>\n",
              "</div>\n",
              "      <button class=\"colab-df-convert\" onclick=\"convertToInteractive('df-c48803f0-1024-4c03-bed4-9122c55411be')\"\n",
              "              title=\"Convert this dataframe to an interactive table.\"\n",
              "              style=\"display:none;\">\n",
              "        \n",
              "  <svg xmlns=\"http://www.w3.org/2000/svg\" height=\"24px\"viewBox=\"0 0 24 24\"\n",
              "       width=\"24px\">\n",
              "    <path d=\"M0 0h24v24H0V0z\" fill=\"none\"/>\n",
              "    <path d=\"M18.56 5.44l.94 2.06.94-2.06 2.06-.94-2.06-.94-.94-2.06-.94 2.06-2.06.94zm-11 1L8.5 8.5l.94-2.06 2.06-.94-2.06-.94L8.5 2.5l-.94 2.06-2.06.94zm10 10l.94 2.06.94-2.06 2.06-.94-2.06-.94-.94-2.06-.94 2.06-2.06.94z\"/><path d=\"M17.41 7.96l-1.37-1.37c-.4-.4-.92-.59-1.43-.59-.52 0-1.04.2-1.43.59L10.3 9.45l-7.72 7.72c-.78.78-.78 2.05 0 2.83L4 21.41c.39.39.9.59 1.41.59.51 0 1.02-.2 1.41-.59l7.78-7.78 2.81-2.81c.8-.78.8-2.07 0-2.86zM5.41 20L4 18.59l7.72-7.72 1.47 1.35L5.41 20z\"/>\n",
              "  </svg>\n",
              "      </button>\n",
              "      \n",
              "  <style>\n",
              "    .colab-df-container {\n",
              "      display:flex;\n",
              "      flex-wrap:wrap;\n",
              "      gap: 12px;\n",
              "    }\n",
              "\n",
              "    .colab-df-convert {\n",
              "      background-color: #E8F0FE;\n",
              "      border: none;\n",
              "      border-radius: 50%;\n",
              "      cursor: pointer;\n",
              "      display: none;\n",
              "      fill: #1967D2;\n",
              "      height: 32px;\n",
              "      padding: 0 0 0 0;\n",
              "      width: 32px;\n",
              "    }\n",
              "\n",
              "    .colab-df-convert:hover {\n",
              "      background-color: #E2EBFA;\n",
              "      box-shadow: 0px 1px 2px rgba(60, 64, 67, 0.3), 0px 1px 3px 1px rgba(60, 64, 67, 0.15);\n",
              "      fill: #174EA6;\n",
              "    }\n",
              "\n",
              "    [theme=dark] .colab-df-convert {\n",
              "      background-color: #3B4455;\n",
              "      fill: #D2E3FC;\n",
              "    }\n",
              "\n",
              "    [theme=dark] .colab-df-convert:hover {\n",
              "      background-color: #434B5C;\n",
              "      box-shadow: 0px 1px 3px 1px rgba(0, 0, 0, 0.15);\n",
              "      filter: drop-shadow(0px 1px 2px rgba(0, 0, 0, 0.3));\n",
              "      fill: #FFFFFF;\n",
              "    }\n",
              "  </style>\n",
              "\n",
              "      <script>\n",
              "        const buttonEl =\n",
              "          document.querySelector('#df-c48803f0-1024-4c03-bed4-9122c55411be button.colab-df-convert');\n",
              "        buttonEl.style.display =\n",
              "          google.colab.kernel.accessAllowed ? 'block' : 'none';\n",
              "\n",
              "        async function convertToInteractive(key) {\n",
              "          const element = document.querySelector('#df-c48803f0-1024-4c03-bed4-9122c55411be');\n",
              "          const dataTable =\n",
              "            await google.colab.kernel.invokeFunction('convertToInteractive',\n",
              "                                                     [key], {});\n",
              "          if (!dataTable) return;\n",
              "\n",
              "          const docLinkHtml = 'Like what you see? Visit the ' +\n",
              "            '<a target=\"_blank\" href=https://colab.research.google.com/notebooks/data_table.ipynb>data table notebook</a>'\n",
              "            + ' to learn more about interactive tables.';\n",
              "          element.innerHTML = '';\n",
              "          dataTable['output_type'] = 'display_data';\n",
              "          await google.colab.output.renderOutput(dataTable, element);\n",
              "          const docLink = document.createElement('div');\n",
              "          docLink.innerHTML = docLinkHtml;\n",
              "          element.appendChild(docLink);\n",
              "        }\n",
              "      </script>\n",
              "    </div>\n",
              "  </div>\n",
              "  "
            ]
          },
          "metadata": {},
          "execution_count": 27
        }
      ]
    },
    {
      "cell_type": "markdown",
      "source": [
        "## 10. 目黒区\n",
        "- [公共施設_2022_06/29](https://data.bodik.jp/dataset/131105_public_facility/resource/f119ff15-e5e1-44e7-836f-aa5e20c9a46c) -> 体育館、プール"
      ],
      "metadata": {
        "id": "99GocudOn0Bp"
      }
    },
    {
      "cell_type": "code",
      "source": [
        "megro_facility_url = 'https://data.bodik.jp/dataset/8fb2f443-a8fd-47c6-a527-6a961fca8928/resource/f119ff15-e5e1-44e7-836f-aa5e20c9a46c/download/131105_public_facility_20220616.csv'\n",
        "df_megro_facility = get_data_csv_url(megro_facility_url, 'cp932')\n",
        "print(df_megro_facility.shape)\n",
        "\n",
        "df_megro_facility['施設分類'] = df_megro_facility['名称'].apply(get_category_facility)\n",
        "df_megro_facility = df_megro_facility[\n",
        "    (df_megro_facility['施設分類'].isin(['体育館', '運動場他', 'プール']))\n",
        "].rename(columns={'住所':'所在地'})[extract_columns].drop_duplicates(subset=['施設分類', '所在地']).reset_index(drop=True)\n",
        "change_type(df_megro_facility)\n",
        "print(df_megro_facility.shape)"
      ],
      "metadata": {
        "id": "wqvlg2mfn7oe",
        "outputId": "b868ff1f-a9b4-43df-bbb6-d0a6e5b4fa09",
        "colab": {
          "base_uri": "https://localhost:8080/"
        }
      },
      "execution_count": 28,
      "outputs": [
        {
          "output_type": "stream",
          "name": "stdout",
          "text": [
            "(395, 24)\n",
            "(15, 6)\n"
          ]
        }
      ]
    },
    {
      "cell_type": "code",
      "source": [
        "df_megro_facility.head()"
      ],
      "metadata": {
        "id": "JvY-XoJuvEYD",
        "outputId": "c36db67a-2cb5-4b4e-9b8d-4ee096b70318",
        "colab": {
          "base_uri": "https://localhost:8080/",
          "height": 206
        }
      },
      "execution_count": 29,
      "outputs": [
        {
          "output_type": "execute_result",
          "data": {
            "text/plain": [
              "   施設分類             名称 市区町村名                所在地         緯度          経度\n",
              "0   体育館          中央体育館   目黒区  東京都目黒区目黒本町 5-22-8  35.619030  139.698961\n",
              "1   体育館          駒場体育館   目黒区   東京都目黒区駒場 2-19-39  35.658083  139.680147\n",
              "2   プール          駒場プール   目黒区   東京都目黒区駒場 2-19-39  35.658083  139.680147\n",
              "3  運動場他  駒場庭球場・ゲートボール場   目黒区   東京都目黒区駒場 2-19-39  35.658083  139.680147\n",
              "4   体育館    目黒区民センター体育館   目黒区    東京都目黒区目黒 2-4-36  35.635403  139.708472"
            ],
            "text/html": [
              "\n",
              "  <div id=\"df-2a0c395f-927e-495c-b357-6e0a22210a8a\">\n",
              "    <div class=\"colab-df-container\">\n",
              "      <div>\n",
              "<style scoped>\n",
              "    .dataframe tbody tr th:only-of-type {\n",
              "        vertical-align: middle;\n",
              "    }\n",
              "\n",
              "    .dataframe tbody tr th {\n",
              "        vertical-align: top;\n",
              "    }\n",
              "\n",
              "    .dataframe thead th {\n",
              "        text-align: right;\n",
              "    }\n",
              "</style>\n",
              "<table border=\"1\" class=\"dataframe\">\n",
              "  <thead>\n",
              "    <tr style=\"text-align: right;\">\n",
              "      <th></th>\n",
              "      <th>施設分類</th>\n",
              "      <th>名称</th>\n",
              "      <th>市区町村名</th>\n",
              "      <th>所在地</th>\n",
              "      <th>緯度</th>\n",
              "      <th>経度</th>\n",
              "    </tr>\n",
              "  </thead>\n",
              "  <tbody>\n",
              "    <tr>\n",
              "      <th>0</th>\n",
              "      <td>体育館</td>\n",
              "      <td>中央体育館</td>\n",
              "      <td>目黒区</td>\n",
              "      <td>東京都目黒区目黒本町 5-22-8</td>\n",
              "      <td>35.619030</td>\n",
              "      <td>139.698961</td>\n",
              "    </tr>\n",
              "    <tr>\n",
              "      <th>1</th>\n",
              "      <td>体育館</td>\n",
              "      <td>駒場体育館</td>\n",
              "      <td>目黒区</td>\n",
              "      <td>東京都目黒区駒場 2-19-39</td>\n",
              "      <td>35.658083</td>\n",
              "      <td>139.680147</td>\n",
              "    </tr>\n",
              "    <tr>\n",
              "      <th>2</th>\n",
              "      <td>プール</td>\n",
              "      <td>駒場プール</td>\n",
              "      <td>目黒区</td>\n",
              "      <td>東京都目黒区駒場 2-19-39</td>\n",
              "      <td>35.658083</td>\n",
              "      <td>139.680147</td>\n",
              "    </tr>\n",
              "    <tr>\n",
              "      <th>3</th>\n",
              "      <td>運動場他</td>\n",
              "      <td>駒場庭球場・ゲートボール場</td>\n",
              "      <td>目黒区</td>\n",
              "      <td>東京都目黒区駒場 2-19-39</td>\n",
              "      <td>35.658083</td>\n",
              "      <td>139.680147</td>\n",
              "    </tr>\n",
              "    <tr>\n",
              "      <th>4</th>\n",
              "      <td>体育館</td>\n",
              "      <td>目黒区民センター体育館</td>\n",
              "      <td>目黒区</td>\n",
              "      <td>東京都目黒区目黒 2-4-36</td>\n",
              "      <td>35.635403</td>\n",
              "      <td>139.708472</td>\n",
              "    </tr>\n",
              "  </tbody>\n",
              "</table>\n",
              "</div>\n",
              "      <button class=\"colab-df-convert\" onclick=\"convertToInteractive('df-2a0c395f-927e-495c-b357-6e0a22210a8a')\"\n",
              "              title=\"Convert this dataframe to an interactive table.\"\n",
              "              style=\"display:none;\">\n",
              "        \n",
              "  <svg xmlns=\"http://www.w3.org/2000/svg\" height=\"24px\"viewBox=\"0 0 24 24\"\n",
              "       width=\"24px\">\n",
              "    <path d=\"M0 0h24v24H0V0z\" fill=\"none\"/>\n",
              "    <path d=\"M18.56 5.44l.94 2.06.94-2.06 2.06-.94-2.06-.94-.94-2.06-.94 2.06-2.06.94zm-11 1L8.5 8.5l.94-2.06 2.06-.94-2.06-.94L8.5 2.5l-.94 2.06-2.06.94zm10 10l.94 2.06.94-2.06 2.06-.94-2.06-.94-.94-2.06-.94 2.06-2.06.94z\"/><path d=\"M17.41 7.96l-1.37-1.37c-.4-.4-.92-.59-1.43-.59-.52 0-1.04.2-1.43.59L10.3 9.45l-7.72 7.72c-.78.78-.78 2.05 0 2.83L4 21.41c.39.39.9.59 1.41.59.51 0 1.02-.2 1.41-.59l7.78-7.78 2.81-2.81c.8-.78.8-2.07 0-2.86zM5.41 20L4 18.59l7.72-7.72 1.47 1.35L5.41 20z\"/>\n",
              "  </svg>\n",
              "      </button>\n",
              "      \n",
              "  <style>\n",
              "    .colab-df-container {\n",
              "      display:flex;\n",
              "      flex-wrap:wrap;\n",
              "      gap: 12px;\n",
              "    }\n",
              "\n",
              "    .colab-df-convert {\n",
              "      background-color: #E8F0FE;\n",
              "      border: none;\n",
              "      border-radius: 50%;\n",
              "      cursor: pointer;\n",
              "      display: none;\n",
              "      fill: #1967D2;\n",
              "      height: 32px;\n",
              "      padding: 0 0 0 0;\n",
              "      width: 32px;\n",
              "    }\n",
              "\n",
              "    .colab-df-convert:hover {\n",
              "      background-color: #E2EBFA;\n",
              "      box-shadow: 0px 1px 2px rgba(60, 64, 67, 0.3), 0px 1px 3px 1px rgba(60, 64, 67, 0.15);\n",
              "      fill: #174EA6;\n",
              "    }\n",
              "\n",
              "    [theme=dark] .colab-df-convert {\n",
              "      background-color: #3B4455;\n",
              "      fill: #D2E3FC;\n",
              "    }\n",
              "\n",
              "    [theme=dark] .colab-df-convert:hover {\n",
              "      background-color: #434B5C;\n",
              "      box-shadow: 0px 1px 3px 1px rgba(0, 0, 0, 0.15);\n",
              "      filter: drop-shadow(0px 1px 2px rgba(0, 0, 0, 0.3));\n",
              "      fill: #FFFFFF;\n",
              "    }\n",
              "  </style>\n",
              "\n",
              "      <script>\n",
              "        const buttonEl =\n",
              "          document.querySelector('#df-2a0c395f-927e-495c-b357-6e0a22210a8a button.colab-df-convert');\n",
              "        buttonEl.style.display =\n",
              "          google.colab.kernel.accessAllowed ? 'block' : 'none';\n",
              "\n",
              "        async function convertToInteractive(key) {\n",
              "          const element = document.querySelector('#df-2a0c395f-927e-495c-b357-6e0a22210a8a');\n",
              "          const dataTable =\n",
              "            await google.colab.kernel.invokeFunction('convertToInteractive',\n",
              "                                                     [key], {});\n",
              "          if (!dataTable) return;\n",
              "\n",
              "          const docLinkHtml = 'Like what you see? Visit the ' +\n",
              "            '<a target=\"_blank\" href=https://colab.research.google.com/notebooks/data_table.ipynb>data table notebook</a>'\n",
              "            + ' to learn more about interactive tables.';\n",
              "          element.innerHTML = '';\n",
              "          dataTable['output_type'] = 'display_data';\n",
              "          await google.colab.output.renderOutput(dataTable, element);\n",
              "          const docLink = document.createElement('div');\n",
              "          docLink.innerHTML = docLinkHtml;\n",
              "          element.appendChild(docLink);\n",
              "        }\n",
              "      </script>\n",
              "    </div>\n",
              "  </div>\n",
              "  "
            ]
          },
          "metadata": {},
          "execution_count": 29
        }
      ]
    },
    {
      "cell_type": "markdown",
      "source": [
        "## 11. 大田区\n",
        "- [スポーツ施設](https://www.city.ota.tokyo.jp/shisetsu/sports/index.html)"
      ],
      "metadata": {
        "id": "b4WovfLRtplw"
      }
    },
    {
      "cell_type": "code",
      "source": [
        "df_oota_sports = pd.read_csv(os.path.join(DIR_NAME, 'original/大田区_スポーツ施設.csv'), encoding='utf-8')\n",
        "print(df_oota_sports.shape)\n",
        "\n",
        "df_oota_sports = df_oota_sports[\n",
        "    df_oota_sports['施設分類'].isin(['体育館', '運動場他', 'プール'])\n",
        "][extract_columns].reset_index(drop=True)\n",
        "print(df_oota_sports.shape)"
      ],
      "metadata": {
        "id": "Rp3GUDvRWflz",
        "outputId": "0a9df38f-bf2b-41f9-fb65-f597572bcd44",
        "colab": {
          "base_uri": "https://localhost:8080/"
        }
      },
      "execution_count": 30,
      "outputs": [
        {
          "output_type": "stream",
          "name": "stdout",
          "text": [
            "(20, 6)\n",
            "(20, 6)\n"
          ]
        }
      ]
    },
    {
      "cell_type": "code",
      "source": [
        "df_oota_sports.head()"
      ],
      "metadata": {
        "id": "3QViX5taWpTg",
        "outputId": "3a6c6319-697d-4195-d28a-6552b3098db7",
        "colab": {
          "base_uri": "https://localhost:8080/",
          "height": 206
        }
      },
      "execution_count": 31,
      "outputs": [
        {
          "output_type": "execute_result",
          "data": {
            "text/plain": [
              "   施設分類         名称 市区町村名          所在地         緯度          経度\n",
              "0  運動場他  昭和島運動場野球場   大田区     昭和島一丁目7番  35.570934  139.746190\n",
              "1  運動場他   平和島公園野球場   大田区   平和島四丁目2番2号  35.582272  139.741045\n",
              "2  運動場他   東調布公園野球場   大田区  南雪谷五丁目13番1号  35.589103  139.687076\n",
              "3  運動場他    萩中公園野球場   大田区  萩中三丁目26番46号  35.549642  139.737869\n",
              "4  運動場他   多摩川緑地野球場   大田区       西六郷４丁目  35.541153  139.700230"
            ],
            "text/html": [
              "\n",
              "  <div id=\"df-3abafe44-379d-4c00-a69f-4e66d7368e1f\">\n",
              "    <div class=\"colab-df-container\">\n",
              "      <div>\n",
              "<style scoped>\n",
              "    .dataframe tbody tr th:only-of-type {\n",
              "        vertical-align: middle;\n",
              "    }\n",
              "\n",
              "    .dataframe tbody tr th {\n",
              "        vertical-align: top;\n",
              "    }\n",
              "\n",
              "    .dataframe thead th {\n",
              "        text-align: right;\n",
              "    }\n",
              "</style>\n",
              "<table border=\"1\" class=\"dataframe\">\n",
              "  <thead>\n",
              "    <tr style=\"text-align: right;\">\n",
              "      <th></th>\n",
              "      <th>施設分類</th>\n",
              "      <th>名称</th>\n",
              "      <th>市区町村名</th>\n",
              "      <th>所在地</th>\n",
              "      <th>緯度</th>\n",
              "      <th>経度</th>\n",
              "    </tr>\n",
              "  </thead>\n",
              "  <tbody>\n",
              "    <tr>\n",
              "      <th>0</th>\n",
              "      <td>運動場他</td>\n",
              "      <td>昭和島運動場野球場</td>\n",
              "      <td>大田区</td>\n",
              "      <td>昭和島一丁目7番</td>\n",
              "      <td>35.570934</td>\n",
              "      <td>139.746190</td>\n",
              "    </tr>\n",
              "    <tr>\n",
              "      <th>1</th>\n",
              "      <td>運動場他</td>\n",
              "      <td>平和島公園野球場</td>\n",
              "      <td>大田区</td>\n",
              "      <td>平和島四丁目2番2号</td>\n",
              "      <td>35.582272</td>\n",
              "      <td>139.741045</td>\n",
              "    </tr>\n",
              "    <tr>\n",
              "      <th>2</th>\n",
              "      <td>運動場他</td>\n",
              "      <td>東調布公園野球場</td>\n",
              "      <td>大田区</td>\n",
              "      <td>南雪谷五丁目13番1号</td>\n",
              "      <td>35.589103</td>\n",
              "      <td>139.687076</td>\n",
              "    </tr>\n",
              "    <tr>\n",
              "      <th>3</th>\n",
              "      <td>運動場他</td>\n",
              "      <td>萩中公園野球場</td>\n",
              "      <td>大田区</td>\n",
              "      <td>萩中三丁目26番46号</td>\n",
              "      <td>35.549642</td>\n",
              "      <td>139.737869</td>\n",
              "    </tr>\n",
              "    <tr>\n",
              "      <th>4</th>\n",
              "      <td>運動場他</td>\n",
              "      <td>多摩川緑地野球場</td>\n",
              "      <td>大田区</td>\n",
              "      <td>西六郷４丁目</td>\n",
              "      <td>35.541153</td>\n",
              "      <td>139.700230</td>\n",
              "    </tr>\n",
              "  </tbody>\n",
              "</table>\n",
              "</div>\n",
              "      <button class=\"colab-df-convert\" onclick=\"convertToInteractive('df-3abafe44-379d-4c00-a69f-4e66d7368e1f')\"\n",
              "              title=\"Convert this dataframe to an interactive table.\"\n",
              "              style=\"display:none;\">\n",
              "        \n",
              "  <svg xmlns=\"http://www.w3.org/2000/svg\" height=\"24px\"viewBox=\"0 0 24 24\"\n",
              "       width=\"24px\">\n",
              "    <path d=\"M0 0h24v24H0V0z\" fill=\"none\"/>\n",
              "    <path d=\"M18.56 5.44l.94 2.06.94-2.06 2.06-.94-2.06-.94-.94-2.06-.94 2.06-2.06.94zm-11 1L8.5 8.5l.94-2.06 2.06-.94-2.06-.94L8.5 2.5l-.94 2.06-2.06.94zm10 10l.94 2.06.94-2.06 2.06-.94-2.06-.94-.94-2.06-.94 2.06-2.06.94z\"/><path d=\"M17.41 7.96l-1.37-1.37c-.4-.4-.92-.59-1.43-.59-.52 0-1.04.2-1.43.59L10.3 9.45l-7.72 7.72c-.78.78-.78 2.05 0 2.83L4 21.41c.39.39.9.59 1.41.59.51 0 1.02-.2 1.41-.59l7.78-7.78 2.81-2.81c.8-.78.8-2.07 0-2.86zM5.41 20L4 18.59l7.72-7.72 1.47 1.35L5.41 20z\"/>\n",
              "  </svg>\n",
              "      </button>\n",
              "      \n",
              "  <style>\n",
              "    .colab-df-container {\n",
              "      display:flex;\n",
              "      flex-wrap:wrap;\n",
              "      gap: 12px;\n",
              "    }\n",
              "\n",
              "    .colab-df-convert {\n",
              "      background-color: #E8F0FE;\n",
              "      border: none;\n",
              "      border-radius: 50%;\n",
              "      cursor: pointer;\n",
              "      display: none;\n",
              "      fill: #1967D2;\n",
              "      height: 32px;\n",
              "      padding: 0 0 0 0;\n",
              "      width: 32px;\n",
              "    }\n",
              "\n",
              "    .colab-df-convert:hover {\n",
              "      background-color: #E2EBFA;\n",
              "      box-shadow: 0px 1px 2px rgba(60, 64, 67, 0.3), 0px 1px 3px 1px rgba(60, 64, 67, 0.15);\n",
              "      fill: #174EA6;\n",
              "    }\n",
              "\n",
              "    [theme=dark] .colab-df-convert {\n",
              "      background-color: #3B4455;\n",
              "      fill: #D2E3FC;\n",
              "    }\n",
              "\n",
              "    [theme=dark] .colab-df-convert:hover {\n",
              "      background-color: #434B5C;\n",
              "      box-shadow: 0px 1px 3px 1px rgba(0, 0, 0, 0.15);\n",
              "      filter: drop-shadow(0px 1px 2px rgba(0, 0, 0, 0.3));\n",
              "      fill: #FFFFFF;\n",
              "    }\n",
              "  </style>\n",
              "\n",
              "      <script>\n",
              "        const buttonEl =\n",
              "          document.querySelector('#df-3abafe44-379d-4c00-a69f-4e66d7368e1f button.colab-df-convert');\n",
              "        buttonEl.style.display =\n",
              "          google.colab.kernel.accessAllowed ? 'block' : 'none';\n",
              "\n",
              "        async function convertToInteractive(key) {\n",
              "          const element = document.querySelector('#df-3abafe44-379d-4c00-a69f-4e66d7368e1f');\n",
              "          const dataTable =\n",
              "            await google.colab.kernel.invokeFunction('convertToInteractive',\n",
              "                                                     [key], {});\n",
              "          if (!dataTable) return;\n",
              "\n",
              "          const docLinkHtml = 'Like what you see? Visit the ' +\n",
              "            '<a target=\"_blank\" href=https://colab.research.google.com/notebooks/data_table.ipynb>data table notebook</a>'\n",
              "            + ' to learn more about interactive tables.';\n",
              "          element.innerHTML = '';\n",
              "          dataTable['output_type'] = 'display_data';\n",
              "          await google.colab.output.renderOutput(dataTable, element);\n",
              "          const docLink = document.createElement('div');\n",
              "          docLink.innerHTML = docLinkHtml;\n",
              "          element.appendChild(docLink);\n",
              "        }\n",
              "      </script>\n",
              "    </div>\n",
              "  </div>\n",
              "  "
            ]
          },
          "metadata": {},
          "execution_count": 31
        }
      ]
    },
    {
      "cell_type": "markdown",
      "source": [
        "## 12. 世田谷区\n",
        "- [スポーツ](https://www.city.setagaya.lg.jp/theme/kanko/005/index.html) -> CSVでない\n",
        "- [公園、文化・スポーツ関係施設](https://data-setagaya.opendata.arcgis.com/datasets/setagaya::%E5%85%AC%E5%9C%92%E3%80%81%E6%96%87%E5%8C%96%E3%83%BB%E3%82%B9%E3%83%9D%E3%83%BC%E3%83%84%E9%96%A2%E4%BF%82%E6%96%BD%E8%A8%AD/explore)"
      ],
      "metadata": {
        "id": "2w42i2Nt0e83"
      }
    },
    {
      "cell_type": "code",
      "source": [
        "df_setagaya_sports = pd.read_csv(os.path.join(DIR_NAME, 'original/世田谷区_公園文化スポーツ関連施設.csv'), encoding='utf-8', \n",
        "                                 names=['経度', '緯度', 'ID', '名称', 'カテゴリ1', 'カテゴリ2', '所在地', '備考', 'URL'], skiprows=1)\n",
        "print(df_setagaya_sports.shape)\n",
        "\n",
        "df_setagaya_sports['市区町村名'] = '世田谷区'\n",
        "df_setagaya_sports['施設分類'] = df_setagaya_sports['名称'].apply(get_category_facility)\n",
        "df_setagaya_sports = df_setagaya_sports\n",
        "df_setagaya_sports = df_setagaya_sports[\n",
        "    (df_setagaya_sports['施設分類'].isin(['体育館', '運動場他', 'プール']))\n",
        "][extract_columns].reset_index(drop=True)\n",
        "change_type(df_setagaya_sports)\n",
        "print(df_setagaya_sports.shape)"
      ],
      "metadata": {
        "id": "P-6pG5rD5Rwe",
        "outputId": "47774be2-e5f6-4192-cc71-850bf41c5772",
        "colab": {
          "base_uri": "https://localhost:8080/"
        }
      },
      "execution_count": 32,
      "outputs": [
        {
          "output_type": "stream",
          "name": "stdout",
          "text": [
            "(76, 9)\n",
            "(23, 6)\n"
          ]
        }
      ]
    },
    {
      "cell_type": "code",
      "source": [
        "df_setagaya_sports.head()"
      ],
      "metadata": {
        "id": "38n4PVxf6WkC",
        "outputId": "e0aa73dd-d359-4c9e-add2-6f4be326e763",
        "colab": {
          "base_uri": "https://localhost:8080/",
          "height": 206
        }
      },
      "execution_count": 33,
      "outputs": [
        {
          "output_type": "execute_result",
          "data": {
            "text/plain": [
              "   施設分類             名称 市区町村名        所在地         緯度          経度\n",
              "0  運動場他  玉川野毛町公園スポーツ施設  世田谷区   野毛1-25-1  35.605715  139.643353\n",
              "1   プール       玉川野毛町プール  世田谷区   野毛1-25-1  35.605899  139.641382\n",
              "2   体育館       尾山台地域体育館  世田谷区  尾山台3-19-3  35.604991  139.654285\n",
              "3  運動場他      二子玉川緑地運動場  世田谷区    鎌田1-3-5  35.616860  139.619157\n",
              "4  運動場他      リコー砧総合運動場  世田谷区   宇奈根1-5-1  35.618884  139.605881"
            ],
            "text/html": [
              "\n",
              "  <div id=\"df-7caaa651-131a-400a-8aff-39aed5938945\">\n",
              "    <div class=\"colab-df-container\">\n",
              "      <div>\n",
              "<style scoped>\n",
              "    .dataframe tbody tr th:only-of-type {\n",
              "        vertical-align: middle;\n",
              "    }\n",
              "\n",
              "    .dataframe tbody tr th {\n",
              "        vertical-align: top;\n",
              "    }\n",
              "\n",
              "    .dataframe thead th {\n",
              "        text-align: right;\n",
              "    }\n",
              "</style>\n",
              "<table border=\"1\" class=\"dataframe\">\n",
              "  <thead>\n",
              "    <tr style=\"text-align: right;\">\n",
              "      <th></th>\n",
              "      <th>施設分類</th>\n",
              "      <th>名称</th>\n",
              "      <th>市区町村名</th>\n",
              "      <th>所在地</th>\n",
              "      <th>緯度</th>\n",
              "      <th>経度</th>\n",
              "    </tr>\n",
              "  </thead>\n",
              "  <tbody>\n",
              "    <tr>\n",
              "      <th>0</th>\n",
              "      <td>運動場他</td>\n",
              "      <td>玉川野毛町公園スポーツ施設</td>\n",
              "      <td>世田谷区</td>\n",
              "      <td>野毛1-25-1</td>\n",
              "      <td>35.605715</td>\n",
              "      <td>139.643353</td>\n",
              "    </tr>\n",
              "    <tr>\n",
              "      <th>1</th>\n",
              "      <td>プール</td>\n",
              "      <td>玉川野毛町プール</td>\n",
              "      <td>世田谷区</td>\n",
              "      <td>野毛1-25-1</td>\n",
              "      <td>35.605899</td>\n",
              "      <td>139.641382</td>\n",
              "    </tr>\n",
              "    <tr>\n",
              "      <th>2</th>\n",
              "      <td>体育館</td>\n",
              "      <td>尾山台地域体育館</td>\n",
              "      <td>世田谷区</td>\n",
              "      <td>尾山台3-19-3</td>\n",
              "      <td>35.604991</td>\n",
              "      <td>139.654285</td>\n",
              "    </tr>\n",
              "    <tr>\n",
              "      <th>3</th>\n",
              "      <td>運動場他</td>\n",
              "      <td>二子玉川緑地運動場</td>\n",
              "      <td>世田谷区</td>\n",
              "      <td>鎌田1-3-5</td>\n",
              "      <td>35.616860</td>\n",
              "      <td>139.619157</td>\n",
              "    </tr>\n",
              "    <tr>\n",
              "      <th>4</th>\n",
              "      <td>運動場他</td>\n",
              "      <td>リコー砧総合運動場</td>\n",
              "      <td>世田谷区</td>\n",
              "      <td>宇奈根1-5-1</td>\n",
              "      <td>35.618884</td>\n",
              "      <td>139.605881</td>\n",
              "    </tr>\n",
              "  </tbody>\n",
              "</table>\n",
              "</div>\n",
              "      <button class=\"colab-df-convert\" onclick=\"convertToInteractive('df-7caaa651-131a-400a-8aff-39aed5938945')\"\n",
              "              title=\"Convert this dataframe to an interactive table.\"\n",
              "              style=\"display:none;\">\n",
              "        \n",
              "  <svg xmlns=\"http://www.w3.org/2000/svg\" height=\"24px\"viewBox=\"0 0 24 24\"\n",
              "       width=\"24px\">\n",
              "    <path d=\"M0 0h24v24H0V0z\" fill=\"none\"/>\n",
              "    <path d=\"M18.56 5.44l.94 2.06.94-2.06 2.06-.94-2.06-.94-.94-2.06-.94 2.06-2.06.94zm-11 1L8.5 8.5l.94-2.06 2.06-.94-2.06-.94L8.5 2.5l-.94 2.06-2.06.94zm10 10l.94 2.06.94-2.06 2.06-.94-2.06-.94-.94-2.06-.94 2.06-2.06.94z\"/><path d=\"M17.41 7.96l-1.37-1.37c-.4-.4-.92-.59-1.43-.59-.52 0-1.04.2-1.43.59L10.3 9.45l-7.72 7.72c-.78.78-.78 2.05 0 2.83L4 21.41c.39.39.9.59 1.41.59.51 0 1.02-.2 1.41-.59l7.78-7.78 2.81-2.81c.8-.78.8-2.07 0-2.86zM5.41 20L4 18.59l7.72-7.72 1.47 1.35L5.41 20z\"/>\n",
              "  </svg>\n",
              "      </button>\n",
              "      \n",
              "  <style>\n",
              "    .colab-df-container {\n",
              "      display:flex;\n",
              "      flex-wrap:wrap;\n",
              "      gap: 12px;\n",
              "    }\n",
              "\n",
              "    .colab-df-convert {\n",
              "      background-color: #E8F0FE;\n",
              "      border: none;\n",
              "      border-radius: 50%;\n",
              "      cursor: pointer;\n",
              "      display: none;\n",
              "      fill: #1967D2;\n",
              "      height: 32px;\n",
              "      padding: 0 0 0 0;\n",
              "      width: 32px;\n",
              "    }\n",
              "\n",
              "    .colab-df-convert:hover {\n",
              "      background-color: #E2EBFA;\n",
              "      box-shadow: 0px 1px 2px rgba(60, 64, 67, 0.3), 0px 1px 3px 1px rgba(60, 64, 67, 0.15);\n",
              "      fill: #174EA6;\n",
              "    }\n",
              "\n",
              "    [theme=dark] .colab-df-convert {\n",
              "      background-color: #3B4455;\n",
              "      fill: #D2E3FC;\n",
              "    }\n",
              "\n",
              "    [theme=dark] .colab-df-convert:hover {\n",
              "      background-color: #434B5C;\n",
              "      box-shadow: 0px 1px 3px 1px rgba(0, 0, 0, 0.15);\n",
              "      filter: drop-shadow(0px 1px 2px rgba(0, 0, 0, 0.3));\n",
              "      fill: #FFFFFF;\n",
              "    }\n",
              "  </style>\n",
              "\n",
              "      <script>\n",
              "        const buttonEl =\n",
              "          document.querySelector('#df-7caaa651-131a-400a-8aff-39aed5938945 button.colab-df-convert');\n",
              "        buttonEl.style.display =\n",
              "          google.colab.kernel.accessAllowed ? 'block' : 'none';\n",
              "\n",
              "        async function convertToInteractive(key) {\n",
              "          const element = document.querySelector('#df-7caaa651-131a-400a-8aff-39aed5938945');\n",
              "          const dataTable =\n",
              "            await google.colab.kernel.invokeFunction('convertToInteractive',\n",
              "                                                     [key], {});\n",
              "          if (!dataTable) return;\n",
              "\n",
              "          const docLinkHtml = 'Like what you see? Visit the ' +\n",
              "            '<a target=\"_blank\" href=https://colab.research.google.com/notebooks/data_table.ipynb>data table notebook</a>'\n",
              "            + ' to learn more about interactive tables.';\n",
              "          element.innerHTML = '';\n",
              "          dataTable['output_type'] = 'display_data';\n",
              "          await google.colab.output.renderOutput(dataTable, element);\n",
              "          const docLink = document.createElement('div');\n",
              "          docLink.innerHTML = docLinkHtml;\n",
              "          element.appendChild(docLink);\n",
              "        }\n",
              "      </script>\n",
              "    </div>\n",
              "  </div>\n",
              "  "
            ]
          },
          "metadata": {},
          "execution_count": 33
        }
      ]
    },
    {
      "cell_type": "markdown",
      "source": [
        "## 13. 渋谷区\n",
        "- [スポーツ施設](https://www.city.shibuya.tokyo.jp/shisetsu/sports/index.html) -> CSVでない"
      ],
      "metadata": {
        "id": "M2Ql8T3r0h0P"
      }
    },
    {
      "cell_type": "code",
      "source": [
        "df_shibuya_sports = pd.read_csv(os.path.join(DIR_NAME, 'original/渋谷区_スポーツ施設.csv'), encoding='utf-8')\n",
        "print(df_shibuya_sports.shape)\n",
        "\n",
        "df_shibuya_sports = df_shibuya_sports[\n",
        "    df_shibuya_sports['施設分類'].isin(['体育館', '運動場他', 'プール'])\n",
        "][extract_columns].reset_index(drop=True)\n",
        "print(df_shibuya_sports.shape)"
      ],
      "metadata": {
        "id": "ufDQcNjyKqo8",
        "outputId": "58bfa630-c12f-4bab-a92e-e5af6ffc2891",
        "colab": {
          "base_uri": "https://localhost:8080/"
        }
      },
      "execution_count": 34,
      "outputs": [
        {
          "output_type": "stream",
          "name": "stdout",
          "text": [
            "(14, 6)\n",
            "(14, 6)\n"
          ]
        }
      ]
    },
    {
      "cell_type": "code",
      "source": [
        "df_shibuya_sports.head()"
      ],
      "metadata": {
        "id": "Wu30oZehKxQK",
        "outputId": "f5925710-9644-4bbe-a221-ab686a569973",
        "colab": {
          "base_uri": "https://localhost:8080/",
          "height": 206
        }
      },
      "execution_count": 35,
      "outputs": [
        {
          "output_type": "execute_result",
          "data": {
            "text/plain": [
              "   施設分類           名称 市区町村名         所在地         緯度          経度\n",
              "0  運動場他  スポーツセンター運動場   渋谷区  西原１丁目４０−１８  35.675639  139.681262\n",
              "1   体育館  スポーツセンター体育館   渋谷区  西原１丁目４０−１８  35.675639  139.681262\n",
              "2   プール  スポーツセンタープール   渋谷区  西原１丁目４０−１８  35.675639  139.681262\n",
              "3  運動場他   二子玉川区民運動施設   渋谷区   玉川３丁目３−１１  35.612783  139.624436\n",
              "4  運動場他   代々木西原公園庭球場   渋谷区   西原１丁目４７−８  35.673421  139.684051"
            ],
            "text/html": [
              "\n",
              "  <div id=\"df-44fd34ef-7681-4506-8827-3cd3212c1646\">\n",
              "    <div class=\"colab-df-container\">\n",
              "      <div>\n",
              "<style scoped>\n",
              "    .dataframe tbody tr th:only-of-type {\n",
              "        vertical-align: middle;\n",
              "    }\n",
              "\n",
              "    .dataframe tbody tr th {\n",
              "        vertical-align: top;\n",
              "    }\n",
              "\n",
              "    .dataframe thead th {\n",
              "        text-align: right;\n",
              "    }\n",
              "</style>\n",
              "<table border=\"1\" class=\"dataframe\">\n",
              "  <thead>\n",
              "    <tr style=\"text-align: right;\">\n",
              "      <th></th>\n",
              "      <th>施設分類</th>\n",
              "      <th>名称</th>\n",
              "      <th>市区町村名</th>\n",
              "      <th>所在地</th>\n",
              "      <th>緯度</th>\n",
              "      <th>経度</th>\n",
              "    </tr>\n",
              "  </thead>\n",
              "  <tbody>\n",
              "    <tr>\n",
              "      <th>0</th>\n",
              "      <td>運動場他</td>\n",
              "      <td>スポーツセンター運動場</td>\n",
              "      <td>渋谷区</td>\n",
              "      <td>西原１丁目４０−１８</td>\n",
              "      <td>35.675639</td>\n",
              "      <td>139.681262</td>\n",
              "    </tr>\n",
              "    <tr>\n",
              "      <th>1</th>\n",
              "      <td>体育館</td>\n",
              "      <td>スポーツセンター体育館</td>\n",
              "      <td>渋谷区</td>\n",
              "      <td>西原１丁目４０−１８</td>\n",
              "      <td>35.675639</td>\n",
              "      <td>139.681262</td>\n",
              "    </tr>\n",
              "    <tr>\n",
              "      <th>2</th>\n",
              "      <td>プール</td>\n",
              "      <td>スポーツセンタープール</td>\n",
              "      <td>渋谷区</td>\n",
              "      <td>西原１丁目４０−１８</td>\n",
              "      <td>35.675639</td>\n",
              "      <td>139.681262</td>\n",
              "    </tr>\n",
              "    <tr>\n",
              "      <th>3</th>\n",
              "      <td>運動場他</td>\n",
              "      <td>二子玉川区民運動施設</td>\n",
              "      <td>渋谷区</td>\n",
              "      <td>玉川３丁目３−１１</td>\n",
              "      <td>35.612783</td>\n",
              "      <td>139.624436</td>\n",
              "    </tr>\n",
              "    <tr>\n",
              "      <th>4</th>\n",
              "      <td>運動場他</td>\n",
              "      <td>代々木西原公園庭球場</td>\n",
              "      <td>渋谷区</td>\n",
              "      <td>西原１丁目４７−８</td>\n",
              "      <td>35.673421</td>\n",
              "      <td>139.684051</td>\n",
              "    </tr>\n",
              "  </tbody>\n",
              "</table>\n",
              "</div>\n",
              "      <button class=\"colab-df-convert\" onclick=\"convertToInteractive('df-44fd34ef-7681-4506-8827-3cd3212c1646')\"\n",
              "              title=\"Convert this dataframe to an interactive table.\"\n",
              "              style=\"display:none;\">\n",
              "        \n",
              "  <svg xmlns=\"http://www.w3.org/2000/svg\" height=\"24px\"viewBox=\"0 0 24 24\"\n",
              "       width=\"24px\">\n",
              "    <path d=\"M0 0h24v24H0V0z\" fill=\"none\"/>\n",
              "    <path d=\"M18.56 5.44l.94 2.06.94-2.06 2.06-.94-2.06-.94-.94-2.06-.94 2.06-2.06.94zm-11 1L8.5 8.5l.94-2.06 2.06-.94-2.06-.94L8.5 2.5l-.94 2.06-2.06.94zm10 10l.94 2.06.94-2.06 2.06-.94-2.06-.94-.94-2.06-.94 2.06-2.06.94z\"/><path d=\"M17.41 7.96l-1.37-1.37c-.4-.4-.92-.59-1.43-.59-.52 0-1.04.2-1.43.59L10.3 9.45l-7.72 7.72c-.78.78-.78 2.05 0 2.83L4 21.41c.39.39.9.59 1.41.59.51 0 1.02-.2 1.41-.59l7.78-7.78 2.81-2.81c.8-.78.8-2.07 0-2.86zM5.41 20L4 18.59l7.72-7.72 1.47 1.35L5.41 20z\"/>\n",
              "  </svg>\n",
              "      </button>\n",
              "      \n",
              "  <style>\n",
              "    .colab-df-container {\n",
              "      display:flex;\n",
              "      flex-wrap:wrap;\n",
              "      gap: 12px;\n",
              "    }\n",
              "\n",
              "    .colab-df-convert {\n",
              "      background-color: #E8F0FE;\n",
              "      border: none;\n",
              "      border-radius: 50%;\n",
              "      cursor: pointer;\n",
              "      display: none;\n",
              "      fill: #1967D2;\n",
              "      height: 32px;\n",
              "      padding: 0 0 0 0;\n",
              "      width: 32px;\n",
              "    }\n",
              "\n",
              "    .colab-df-convert:hover {\n",
              "      background-color: #E2EBFA;\n",
              "      box-shadow: 0px 1px 2px rgba(60, 64, 67, 0.3), 0px 1px 3px 1px rgba(60, 64, 67, 0.15);\n",
              "      fill: #174EA6;\n",
              "    }\n",
              "\n",
              "    [theme=dark] .colab-df-convert {\n",
              "      background-color: #3B4455;\n",
              "      fill: #D2E3FC;\n",
              "    }\n",
              "\n",
              "    [theme=dark] .colab-df-convert:hover {\n",
              "      background-color: #434B5C;\n",
              "      box-shadow: 0px 1px 3px 1px rgba(0, 0, 0, 0.15);\n",
              "      filter: drop-shadow(0px 1px 2px rgba(0, 0, 0, 0.3));\n",
              "      fill: #FFFFFF;\n",
              "    }\n",
              "  </style>\n",
              "\n",
              "      <script>\n",
              "        const buttonEl =\n",
              "          document.querySelector('#df-44fd34ef-7681-4506-8827-3cd3212c1646 button.colab-df-convert');\n",
              "        buttonEl.style.display =\n",
              "          google.colab.kernel.accessAllowed ? 'block' : 'none';\n",
              "\n",
              "        async function convertToInteractive(key) {\n",
              "          const element = document.querySelector('#df-44fd34ef-7681-4506-8827-3cd3212c1646');\n",
              "          const dataTable =\n",
              "            await google.colab.kernel.invokeFunction('convertToInteractive',\n",
              "                                                     [key], {});\n",
              "          if (!dataTable) return;\n",
              "\n",
              "          const docLinkHtml = 'Like what you see? Visit the ' +\n",
              "            '<a target=\"_blank\" href=https://colab.research.google.com/notebooks/data_table.ipynb>data table notebook</a>'\n",
              "            + ' to learn more about interactive tables.';\n",
              "          element.innerHTML = '';\n",
              "          dataTable['output_type'] = 'display_data';\n",
              "          await google.colab.output.renderOutput(dataTable, element);\n",
              "          const docLink = document.createElement('div');\n",
              "          docLink.innerHTML = docLinkHtml;\n",
              "          element.appendChild(docLink);\n",
              "        }\n",
              "      </script>\n",
              "    </div>\n",
              "  </div>\n",
              "  "
            ]
          },
          "metadata": {},
          "execution_count": 35
        }
      ]
    },
    {
      "cell_type": "markdown",
      "source": [
        "## 14. 中野区\n",
        "- [中野区オープンデータ 公共施設一覧（公園等以外）](https://www.city.tokyo-nakano.lg.jp/dept/158100/d027582.html) -> 体育館、運動場"
      ],
      "metadata": {
        "id": "G7Dkz-Hjwtnn"
      }
    },
    {
      "cell_type": "code",
      "source": [
        "nakano_facility_url = 'https://www.city.tokyo-nakano.lg.jp/dept/158100/d027582_d/fil/131148_public_facility.csv'\n",
        "df_nakano_facility = get_data_csv_url(nakano_facility_url)\n",
        "print(df_nakano_facility.shape)\n",
        "\n",
        "df_nakano_facility['施設分類'] = df_nakano_facility['名称'].apply(get_category_facility)\n",
        "df_nakano_facility = df_nakano_facility[\n",
        "    (df_nakano_facility['施設分類'].isin(['体育館', '運動場他', 'プール']))\n",
        "].rename(columns={'住所': '所在地'})[extract_columns].drop_duplicates(subset=['施設分類', '所在地']).reset_index(drop=True)\n",
        "change_type(df_nakano_facility)\n",
        "print(df_nakano_facility.shape)"
      ],
      "metadata": {
        "colab": {
          "base_uri": "https://localhost:8080/"
        },
        "id": "wQ2PDb9rCtjK",
        "outputId": "cdbe1d5c-1d63-43ed-e284-0a524b364477"
      },
      "execution_count": 36,
      "outputs": [
        {
          "output_type": "stream",
          "name": "stdout",
          "text": [
            "(180, 39)\n",
            "(7, 6)\n"
          ]
        }
      ]
    },
    {
      "cell_type": "code",
      "source": [
        "df_nakano_facility.head()"
      ],
      "metadata": {
        "id": "_M9pIVp1v6Rl",
        "outputId": "f8036a08-581f-46b0-dcf4-756e3aaa478f",
        "colab": {
          "base_uri": "https://localhost:8080/",
          "height": 206
        }
      },
      "execution_count": 37,
      "outputs": [
        {
          "output_type": "execute_result",
          "data": {
            "text/plain": [
              "   施設分類                名称 市区町村名               所在地         緯度          経度\n",
              "0   体育館             中野体育館   中野区   東京都中野区中野4-11-14  35.709118  139.662613\n",
              "1  運動場他  鷺宮スポーツ・コミュニティプラザ   中野区    東京都中野区白鷺3-1-13  35.722069  139.636032\n",
              "2  運動場他  中部スポーツ・コミュニティプラザ   中野区    東京都中野区中央3-19-1  35.700085  139.674225\n",
              "3  運動場他  南部スポーツ・コミュニティプラザ   中野区  東京都中野区弥生町5-11-26  35.688080  139.668823\n",
              "4  運動場他  上高田運動施設（野球場、庭球場）   中野区    東京都中野区上高田5-6-1  35.717289  139.678436"
            ],
            "text/html": [
              "\n",
              "  <div id=\"df-64d77b10-1f01-4f22-b1ce-0c931da5971e\">\n",
              "    <div class=\"colab-df-container\">\n",
              "      <div>\n",
              "<style scoped>\n",
              "    .dataframe tbody tr th:only-of-type {\n",
              "        vertical-align: middle;\n",
              "    }\n",
              "\n",
              "    .dataframe tbody tr th {\n",
              "        vertical-align: top;\n",
              "    }\n",
              "\n",
              "    .dataframe thead th {\n",
              "        text-align: right;\n",
              "    }\n",
              "</style>\n",
              "<table border=\"1\" class=\"dataframe\">\n",
              "  <thead>\n",
              "    <tr style=\"text-align: right;\">\n",
              "      <th></th>\n",
              "      <th>施設分類</th>\n",
              "      <th>名称</th>\n",
              "      <th>市区町村名</th>\n",
              "      <th>所在地</th>\n",
              "      <th>緯度</th>\n",
              "      <th>経度</th>\n",
              "    </tr>\n",
              "  </thead>\n",
              "  <tbody>\n",
              "    <tr>\n",
              "      <th>0</th>\n",
              "      <td>体育館</td>\n",
              "      <td>中野体育館</td>\n",
              "      <td>中野区</td>\n",
              "      <td>東京都中野区中野4-11-14</td>\n",
              "      <td>35.709118</td>\n",
              "      <td>139.662613</td>\n",
              "    </tr>\n",
              "    <tr>\n",
              "      <th>1</th>\n",
              "      <td>運動場他</td>\n",
              "      <td>鷺宮スポーツ・コミュニティプラザ</td>\n",
              "      <td>中野区</td>\n",
              "      <td>東京都中野区白鷺3-1-13</td>\n",
              "      <td>35.722069</td>\n",
              "      <td>139.636032</td>\n",
              "    </tr>\n",
              "    <tr>\n",
              "      <th>2</th>\n",
              "      <td>運動場他</td>\n",
              "      <td>中部スポーツ・コミュニティプラザ</td>\n",
              "      <td>中野区</td>\n",
              "      <td>東京都中野区中央3-19-1</td>\n",
              "      <td>35.700085</td>\n",
              "      <td>139.674225</td>\n",
              "    </tr>\n",
              "    <tr>\n",
              "      <th>3</th>\n",
              "      <td>運動場他</td>\n",
              "      <td>南部スポーツ・コミュニティプラザ</td>\n",
              "      <td>中野区</td>\n",
              "      <td>東京都中野区弥生町5-11-26</td>\n",
              "      <td>35.688080</td>\n",
              "      <td>139.668823</td>\n",
              "    </tr>\n",
              "    <tr>\n",
              "      <th>4</th>\n",
              "      <td>運動場他</td>\n",
              "      <td>上高田運動施設（野球場、庭球場）</td>\n",
              "      <td>中野区</td>\n",
              "      <td>東京都中野区上高田5-6-1</td>\n",
              "      <td>35.717289</td>\n",
              "      <td>139.678436</td>\n",
              "    </tr>\n",
              "  </tbody>\n",
              "</table>\n",
              "</div>\n",
              "      <button class=\"colab-df-convert\" onclick=\"convertToInteractive('df-64d77b10-1f01-4f22-b1ce-0c931da5971e')\"\n",
              "              title=\"Convert this dataframe to an interactive table.\"\n",
              "              style=\"display:none;\">\n",
              "        \n",
              "  <svg xmlns=\"http://www.w3.org/2000/svg\" height=\"24px\"viewBox=\"0 0 24 24\"\n",
              "       width=\"24px\">\n",
              "    <path d=\"M0 0h24v24H0V0z\" fill=\"none\"/>\n",
              "    <path d=\"M18.56 5.44l.94 2.06.94-2.06 2.06-.94-2.06-.94-.94-2.06-.94 2.06-2.06.94zm-11 1L8.5 8.5l.94-2.06 2.06-.94-2.06-.94L8.5 2.5l-.94 2.06-2.06.94zm10 10l.94 2.06.94-2.06 2.06-.94-2.06-.94-.94-2.06-.94 2.06-2.06.94z\"/><path d=\"M17.41 7.96l-1.37-1.37c-.4-.4-.92-.59-1.43-.59-.52 0-1.04.2-1.43.59L10.3 9.45l-7.72 7.72c-.78.78-.78 2.05 0 2.83L4 21.41c.39.39.9.59 1.41.59.51 0 1.02-.2 1.41-.59l7.78-7.78 2.81-2.81c.8-.78.8-2.07 0-2.86zM5.41 20L4 18.59l7.72-7.72 1.47 1.35L5.41 20z\"/>\n",
              "  </svg>\n",
              "      </button>\n",
              "      \n",
              "  <style>\n",
              "    .colab-df-container {\n",
              "      display:flex;\n",
              "      flex-wrap:wrap;\n",
              "      gap: 12px;\n",
              "    }\n",
              "\n",
              "    .colab-df-convert {\n",
              "      background-color: #E8F0FE;\n",
              "      border: none;\n",
              "      border-radius: 50%;\n",
              "      cursor: pointer;\n",
              "      display: none;\n",
              "      fill: #1967D2;\n",
              "      height: 32px;\n",
              "      padding: 0 0 0 0;\n",
              "      width: 32px;\n",
              "    }\n",
              "\n",
              "    .colab-df-convert:hover {\n",
              "      background-color: #E2EBFA;\n",
              "      box-shadow: 0px 1px 2px rgba(60, 64, 67, 0.3), 0px 1px 3px 1px rgba(60, 64, 67, 0.15);\n",
              "      fill: #174EA6;\n",
              "    }\n",
              "\n",
              "    [theme=dark] .colab-df-convert {\n",
              "      background-color: #3B4455;\n",
              "      fill: #D2E3FC;\n",
              "    }\n",
              "\n",
              "    [theme=dark] .colab-df-convert:hover {\n",
              "      background-color: #434B5C;\n",
              "      box-shadow: 0px 1px 3px 1px rgba(0, 0, 0, 0.15);\n",
              "      filter: drop-shadow(0px 1px 2px rgba(0, 0, 0, 0.3));\n",
              "      fill: #FFFFFF;\n",
              "    }\n",
              "  </style>\n",
              "\n",
              "      <script>\n",
              "        const buttonEl =\n",
              "          document.querySelector('#df-64d77b10-1f01-4f22-b1ce-0c931da5971e button.colab-df-convert');\n",
              "        buttonEl.style.display =\n",
              "          google.colab.kernel.accessAllowed ? 'block' : 'none';\n",
              "\n",
              "        async function convertToInteractive(key) {\n",
              "          const element = document.querySelector('#df-64d77b10-1f01-4f22-b1ce-0c931da5971e');\n",
              "          const dataTable =\n",
              "            await google.colab.kernel.invokeFunction('convertToInteractive',\n",
              "                                                     [key], {});\n",
              "          if (!dataTable) return;\n",
              "\n",
              "          const docLinkHtml = 'Like what you see? Visit the ' +\n",
              "            '<a target=\"_blank\" href=https://colab.research.google.com/notebooks/data_table.ipynb>data table notebook</a>'\n",
              "            + ' to learn more about interactive tables.';\n",
              "          element.innerHTML = '';\n",
              "          dataTable['output_type'] = 'display_data';\n",
              "          await google.colab.output.renderOutput(dataTable, element);\n",
              "          const docLink = document.createElement('div');\n",
              "          docLink.innerHTML = docLinkHtml;\n",
              "          element.appendChild(docLink);\n",
              "        }\n",
              "      </script>\n",
              "    </div>\n",
              "  </div>\n",
              "  "
            ]
          },
          "metadata": {},
          "execution_count": 37
        }
      ]
    },
    {
      "cell_type": "markdown",
      "source": [
        "## 15. 杉並区\n",
        "- [オープンデータ一覧](https://www2.wagmap.jp/suginami/opendata?type=shp&ly=930)"
      ],
      "metadata": {
        "id": "hSjl7KggpvrQ"
      }
    },
    {
      "cell_type": "code",
      "source": [
        "df_suginami_sports = pd.read_csv(os.path.join(DIR_NAME, 'original/杉並区_スポーツ施設.csv'))\n",
        "print(df_suginami_sports.shape)\n",
        "\n",
        "df_suginami_sports['施設分類'] = df_suginami_sports['分類'].str.strip()\n",
        "df_suginami_sports.loc[df_suginami_sports['施設分類'] == '運動場', '施設分類'] = '運動場他'\n",
        "df_suginami_sports['市区町村名'] = '杉並区'\n",
        "df_suginami_sports = df_suginami_sports.rename(columns={'住所':'所在地'})[extract_columns]\n",
        "change_type(df_suginami_sports)\n",
        "print(df_suginami_sports.shape)"
      ],
      "metadata": {
        "id": "g5hbxUr2rP5g",
        "outputId": "47145b23-a004-444b-acea-f33d1b8b96fe",
        "colab": {
          "base_uri": "https://localhost:8080/"
        }
      },
      "execution_count": 38,
      "outputs": [
        {
          "output_type": "stream",
          "name": "stdout",
          "text": [
            "(21, 9)\n",
            "(21, 6)\n"
          ]
        }
      ]
    },
    {
      "cell_type": "code",
      "source": [
        "df_suginami_sports.head()"
      ],
      "metadata": {
        "id": "oivkhNW5FpH9",
        "outputId": "ae012d10-aaea-4d44-8fe8-6f549c66ee2e",
        "colab": {
          "base_uri": "https://localhost:8080/",
          "height": 206
        }
      },
      "execution_count": 39,
      "outputs": [
        {
          "output_type": "execute_result",
          "data": {
            "text/plain": [
              "   施設分類                      名称 市区町村名           所在地         緯度          経度\n",
              "0  運動場他                井草森公園運動場   杉並区    井草4丁目12番1号  35.726903  139.611067\n",
              "1  運動場他                柏の宮公園庭球場   杉並区    浜田山2丁目5番1号  35.678948  139.625214\n",
              "2  運動場他  TAC杉並区上井草スポーツセンター（運動場）   杉並区   上井草3丁目34番1号  35.722923  139.601737\n",
              "3  運動場他               蚕糸の森公園運動場   杉並区   和田3丁目55番49号  35.697234  139.656746\n",
              "4  運動場他                 下高井戸運動場   杉並区  下高井戸3丁目26番1号  35.672959  139.635498"
            ],
            "text/html": [
              "\n",
              "  <div id=\"df-1d772495-3150-4609-9d8d-459382a7de49\">\n",
              "    <div class=\"colab-df-container\">\n",
              "      <div>\n",
              "<style scoped>\n",
              "    .dataframe tbody tr th:only-of-type {\n",
              "        vertical-align: middle;\n",
              "    }\n",
              "\n",
              "    .dataframe tbody tr th {\n",
              "        vertical-align: top;\n",
              "    }\n",
              "\n",
              "    .dataframe thead th {\n",
              "        text-align: right;\n",
              "    }\n",
              "</style>\n",
              "<table border=\"1\" class=\"dataframe\">\n",
              "  <thead>\n",
              "    <tr style=\"text-align: right;\">\n",
              "      <th></th>\n",
              "      <th>施設分類</th>\n",
              "      <th>名称</th>\n",
              "      <th>市区町村名</th>\n",
              "      <th>所在地</th>\n",
              "      <th>緯度</th>\n",
              "      <th>経度</th>\n",
              "    </tr>\n",
              "  </thead>\n",
              "  <tbody>\n",
              "    <tr>\n",
              "      <th>0</th>\n",
              "      <td>運動場他</td>\n",
              "      <td>井草森公園運動場</td>\n",
              "      <td>杉並区</td>\n",
              "      <td>井草4丁目12番1号</td>\n",
              "      <td>35.726903</td>\n",
              "      <td>139.611067</td>\n",
              "    </tr>\n",
              "    <tr>\n",
              "      <th>1</th>\n",
              "      <td>運動場他</td>\n",
              "      <td>柏の宮公園庭球場</td>\n",
              "      <td>杉並区</td>\n",
              "      <td>浜田山2丁目5番1号</td>\n",
              "      <td>35.678948</td>\n",
              "      <td>139.625214</td>\n",
              "    </tr>\n",
              "    <tr>\n",
              "      <th>2</th>\n",
              "      <td>運動場他</td>\n",
              "      <td>TAC杉並区上井草スポーツセンター（運動場）</td>\n",
              "      <td>杉並区</td>\n",
              "      <td>上井草3丁目34番1号</td>\n",
              "      <td>35.722923</td>\n",
              "      <td>139.601737</td>\n",
              "    </tr>\n",
              "    <tr>\n",
              "      <th>3</th>\n",
              "      <td>運動場他</td>\n",
              "      <td>蚕糸の森公園運動場</td>\n",
              "      <td>杉並区</td>\n",
              "      <td>和田3丁目55番49号</td>\n",
              "      <td>35.697234</td>\n",
              "      <td>139.656746</td>\n",
              "    </tr>\n",
              "    <tr>\n",
              "      <th>4</th>\n",
              "      <td>運動場他</td>\n",
              "      <td>下高井戸運動場</td>\n",
              "      <td>杉並区</td>\n",
              "      <td>下高井戸3丁目26番1号</td>\n",
              "      <td>35.672959</td>\n",
              "      <td>139.635498</td>\n",
              "    </tr>\n",
              "  </tbody>\n",
              "</table>\n",
              "</div>\n",
              "      <button class=\"colab-df-convert\" onclick=\"convertToInteractive('df-1d772495-3150-4609-9d8d-459382a7de49')\"\n",
              "              title=\"Convert this dataframe to an interactive table.\"\n",
              "              style=\"display:none;\">\n",
              "        \n",
              "  <svg xmlns=\"http://www.w3.org/2000/svg\" height=\"24px\"viewBox=\"0 0 24 24\"\n",
              "       width=\"24px\">\n",
              "    <path d=\"M0 0h24v24H0V0z\" fill=\"none\"/>\n",
              "    <path d=\"M18.56 5.44l.94 2.06.94-2.06 2.06-.94-2.06-.94-.94-2.06-.94 2.06-2.06.94zm-11 1L8.5 8.5l.94-2.06 2.06-.94-2.06-.94L8.5 2.5l-.94 2.06-2.06.94zm10 10l.94 2.06.94-2.06 2.06-.94-2.06-.94-.94-2.06-.94 2.06-2.06.94z\"/><path d=\"M17.41 7.96l-1.37-1.37c-.4-.4-.92-.59-1.43-.59-.52 0-1.04.2-1.43.59L10.3 9.45l-7.72 7.72c-.78.78-.78 2.05 0 2.83L4 21.41c.39.39.9.59 1.41.59.51 0 1.02-.2 1.41-.59l7.78-7.78 2.81-2.81c.8-.78.8-2.07 0-2.86zM5.41 20L4 18.59l7.72-7.72 1.47 1.35L5.41 20z\"/>\n",
              "  </svg>\n",
              "      </button>\n",
              "      \n",
              "  <style>\n",
              "    .colab-df-container {\n",
              "      display:flex;\n",
              "      flex-wrap:wrap;\n",
              "      gap: 12px;\n",
              "    }\n",
              "\n",
              "    .colab-df-convert {\n",
              "      background-color: #E8F0FE;\n",
              "      border: none;\n",
              "      border-radius: 50%;\n",
              "      cursor: pointer;\n",
              "      display: none;\n",
              "      fill: #1967D2;\n",
              "      height: 32px;\n",
              "      padding: 0 0 0 0;\n",
              "      width: 32px;\n",
              "    }\n",
              "\n",
              "    .colab-df-convert:hover {\n",
              "      background-color: #E2EBFA;\n",
              "      box-shadow: 0px 1px 2px rgba(60, 64, 67, 0.3), 0px 1px 3px 1px rgba(60, 64, 67, 0.15);\n",
              "      fill: #174EA6;\n",
              "    }\n",
              "\n",
              "    [theme=dark] .colab-df-convert {\n",
              "      background-color: #3B4455;\n",
              "      fill: #D2E3FC;\n",
              "    }\n",
              "\n",
              "    [theme=dark] .colab-df-convert:hover {\n",
              "      background-color: #434B5C;\n",
              "      box-shadow: 0px 1px 3px 1px rgba(0, 0, 0, 0.15);\n",
              "      filter: drop-shadow(0px 1px 2px rgba(0, 0, 0, 0.3));\n",
              "      fill: #FFFFFF;\n",
              "    }\n",
              "  </style>\n",
              "\n",
              "      <script>\n",
              "        const buttonEl =\n",
              "          document.querySelector('#df-1d772495-3150-4609-9d8d-459382a7de49 button.colab-df-convert');\n",
              "        buttonEl.style.display =\n",
              "          google.colab.kernel.accessAllowed ? 'block' : 'none';\n",
              "\n",
              "        async function convertToInteractive(key) {\n",
              "          const element = document.querySelector('#df-1d772495-3150-4609-9d8d-459382a7de49');\n",
              "          const dataTable =\n",
              "            await google.colab.kernel.invokeFunction('convertToInteractive',\n",
              "                                                     [key], {});\n",
              "          if (!dataTable) return;\n",
              "\n",
              "          const docLinkHtml = 'Like what you see? Visit the ' +\n",
              "            '<a target=\"_blank\" href=https://colab.research.google.com/notebooks/data_table.ipynb>data table notebook</a>'\n",
              "            + ' to learn more about interactive tables.';\n",
              "          element.innerHTML = '';\n",
              "          dataTable['output_type'] = 'display_data';\n",
              "          await google.colab.output.renderOutput(dataTable, element);\n",
              "          const docLink = document.createElement('div');\n",
              "          docLink.innerHTML = docLinkHtml;\n",
              "          element.appendChild(docLink);\n",
              "        }\n",
              "      </script>\n",
              "    </div>\n",
              "  </div>\n",
              "  "
            ]
          },
          "metadata": {},
          "execution_count": 39
        }
      ]
    },
    {
      "cell_type": "markdown",
      "source": [
        "## 16. 豊島区\n",
        "- [公共施設一覧](https://catalog.data.metro.tokyo.lg.jp/dataset/t131164d0000000010/resource/472e6a97-b350-4909-a939-76530a570324)"
      ],
      "metadata": {
        "id": "RL7zKUAz0bBI"
      }
    },
    {
      "cell_type": "code",
      "source": [
        "url_toshima_facility = 'https://www.opendata.metro.tokyo.lg.jp/toyoshima/R4_public_facility.csv'\n",
        "df_toshima_facility = get_data_csv_url(url_toshima_facility, encoding='cp932')\n",
        "print(df_toshima_facility.shape)\n",
        "\n",
        "df_toshima_facility['施設分類'] = df_toshima_facility['名称'].apply(get_category_facility)\n",
        "df_toshima_facility = df_toshima_facility[\n",
        "    (df_toshima_facility['施設分類'].isin(['体育館', '運動場他', 'プール']))\n",
        "].rename(columns={'住所': '所在地'})[extract_columns].reset_index(drop=True)\n",
        "change_type(df_toshima_facility)\n",
        "print(df_toshima_facility.shape)"
      ],
      "metadata": {
        "colab": {
          "base_uri": "https://localhost:8080/"
        },
        "id": "EsxQYBw7ElDu",
        "outputId": "6fbbd6ab-67d3-4200-e735-0b0e2e46ffec"
      },
      "execution_count": 40,
      "outputs": [
        {
          "output_type": "stream",
          "name": "stdout",
          "text": [
            "(538, 24)\n",
            "(9, 6)\n"
          ]
        }
      ]
    },
    {
      "cell_type": "code",
      "source": [
        "df_toshima_facility"
      ],
      "metadata": {
        "id": "3QS8_p67GtEF",
        "outputId": "b44dff0e-1ba6-4386-fd1b-8d6b8988e274",
        "colab": {
          "base_uri": "https://localhost:8080/",
          "height": 332
        }
      },
      "execution_count": 41,
      "outputs": [
        {
          "output_type": "execute_result",
          "data": {
            "text/plain": [
              "   施設分類               名称 市区町村名               所在地        緯度         経度\n",
              "0   体育館            巣鴨体育館   豊島区     東京都豊島区巣鴨3-8-7  35.73415  139.73347\n",
              "1  運動場他       池袋スポーツセンター   豊島区    東京都豊島区上池袋2-5-1  35.73480  139.71475\n",
              "2   体育館          雑司が谷体育館   豊島区   東京都豊島区雑司が谷3-1-7  35.71957  139.71385\n",
              "3  運動場他  南長崎中央公園スポーツセンター   豊島区   東京都豊島区南長崎4-13-5  35.72449  139.68369\n",
              "4   体育館            豊島体育館   豊島区    東京都豊島区要町3-47-8  35.73994  139.68948\n",
              "5  運動場他           西巣鴨体育場   豊島区  東京都豊島区西巣鴨4-22-19  35.74472  139.73116\n",
              "6  運動場他            総合体育場   豊島区  東京都豊島区東池袋4-41-30  35.72938  139.72264\n",
              "7  運動場他           三芳グランド   豊島区  埼玉県入間郡三芳町上富382-1  35.82965  139.51230\n",
              "8  運動場他            荒川野球場   豊島区   東京都板橋区新河岸3荒川河川敷  35.79680  139.65254"
            ],
            "text/html": [
              "\n",
              "  <div id=\"df-a5793cb8-36c1-4d20-90c9-d4be9095c2f8\">\n",
              "    <div class=\"colab-df-container\">\n",
              "      <div>\n",
              "<style scoped>\n",
              "    .dataframe tbody tr th:only-of-type {\n",
              "        vertical-align: middle;\n",
              "    }\n",
              "\n",
              "    .dataframe tbody tr th {\n",
              "        vertical-align: top;\n",
              "    }\n",
              "\n",
              "    .dataframe thead th {\n",
              "        text-align: right;\n",
              "    }\n",
              "</style>\n",
              "<table border=\"1\" class=\"dataframe\">\n",
              "  <thead>\n",
              "    <tr style=\"text-align: right;\">\n",
              "      <th></th>\n",
              "      <th>施設分類</th>\n",
              "      <th>名称</th>\n",
              "      <th>市区町村名</th>\n",
              "      <th>所在地</th>\n",
              "      <th>緯度</th>\n",
              "      <th>経度</th>\n",
              "    </tr>\n",
              "  </thead>\n",
              "  <tbody>\n",
              "    <tr>\n",
              "      <th>0</th>\n",
              "      <td>体育館</td>\n",
              "      <td>巣鴨体育館</td>\n",
              "      <td>豊島区</td>\n",
              "      <td>東京都豊島区巣鴨3-8-7</td>\n",
              "      <td>35.73415</td>\n",
              "      <td>139.73347</td>\n",
              "    </tr>\n",
              "    <tr>\n",
              "      <th>1</th>\n",
              "      <td>運動場他</td>\n",
              "      <td>池袋スポーツセンター</td>\n",
              "      <td>豊島区</td>\n",
              "      <td>東京都豊島区上池袋2-5-1</td>\n",
              "      <td>35.73480</td>\n",
              "      <td>139.71475</td>\n",
              "    </tr>\n",
              "    <tr>\n",
              "      <th>2</th>\n",
              "      <td>体育館</td>\n",
              "      <td>雑司が谷体育館</td>\n",
              "      <td>豊島区</td>\n",
              "      <td>東京都豊島区雑司が谷3-1-7</td>\n",
              "      <td>35.71957</td>\n",
              "      <td>139.71385</td>\n",
              "    </tr>\n",
              "    <tr>\n",
              "      <th>3</th>\n",
              "      <td>運動場他</td>\n",
              "      <td>南長崎中央公園スポーツセンター</td>\n",
              "      <td>豊島区</td>\n",
              "      <td>東京都豊島区南長崎4-13-5</td>\n",
              "      <td>35.72449</td>\n",
              "      <td>139.68369</td>\n",
              "    </tr>\n",
              "    <tr>\n",
              "      <th>4</th>\n",
              "      <td>体育館</td>\n",
              "      <td>豊島体育館</td>\n",
              "      <td>豊島区</td>\n",
              "      <td>東京都豊島区要町3-47-8</td>\n",
              "      <td>35.73994</td>\n",
              "      <td>139.68948</td>\n",
              "    </tr>\n",
              "    <tr>\n",
              "      <th>5</th>\n",
              "      <td>運動場他</td>\n",
              "      <td>西巣鴨体育場</td>\n",
              "      <td>豊島区</td>\n",
              "      <td>東京都豊島区西巣鴨4-22-19</td>\n",
              "      <td>35.74472</td>\n",
              "      <td>139.73116</td>\n",
              "    </tr>\n",
              "    <tr>\n",
              "      <th>6</th>\n",
              "      <td>運動場他</td>\n",
              "      <td>総合体育場</td>\n",
              "      <td>豊島区</td>\n",
              "      <td>東京都豊島区東池袋4-41-30</td>\n",
              "      <td>35.72938</td>\n",
              "      <td>139.72264</td>\n",
              "    </tr>\n",
              "    <tr>\n",
              "      <th>7</th>\n",
              "      <td>運動場他</td>\n",
              "      <td>三芳グランド</td>\n",
              "      <td>豊島区</td>\n",
              "      <td>埼玉県入間郡三芳町上富382-1</td>\n",
              "      <td>35.82965</td>\n",
              "      <td>139.51230</td>\n",
              "    </tr>\n",
              "    <tr>\n",
              "      <th>8</th>\n",
              "      <td>運動場他</td>\n",
              "      <td>荒川野球場</td>\n",
              "      <td>豊島区</td>\n",
              "      <td>東京都板橋区新河岸3荒川河川敷</td>\n",
              "      <td>35.79680</td>\n",
              "      <td>139.65254</td>\n",
              "    </tr>\n",
              "  </tbody>\n",
              "</table>\n",
              "</div>\n",
              "      <button class=\"colab-df-convert\" onclick=\"convertToInteractive('df-a5793cb8-36c1-4d20-90c9-d4be9095c2f8')\"\n",
              "              title=\"Convert this dataframe to an interactive table.\"\n",
              "              style=\"display:none;\">\n",
              "        \n",
              "  <svg xmlns=\"http://www.w3.org/2000/svg\" height=\"24px\"viewBox=\"0 0 24 24\"\n",
              "       width=\"24px\">\n",
              "    <path d=\"M0 0h24v24H0V0z\" fill=\"none\"/>\n",
              "    <path d=\"M18.56 5.44l.94 2.06.94-2.06 2.06-.94-2.06-.94-.94-2.06-.94 2.06-2.06.94zm-11 1L8.5 8.5l.94-2.06 2.06-.94-2.06-.94L8.5 2.5l-.94 2.06-2.06.94zm10 10l.94 2.06.94-2.06 2.06-.94-2.06-.94-.94-2.06-.94 2.06-2.06.94z\"/><path d=\"M17.41 7.96l-1.37-1.37c-.4-.4-.92-.59-1.43-.59-.52 0-1.04.2-1.43.59L10.3 9.45l-7.72 7.72c-.78.78-.78 2.05 0 2.83L4 21.41c.39.39.9.59 1.41.59.51 0 1.02-.2 1.41-.59l7.78-7.78 2.81-2.81c.8-.78.8-2.07 0-2.86zM5.41 20L4 18.59l7.72-7.72 1.47 1.35L5.41 20z\"/>\n",
              "  </svg>\n",
              "      </button>\n",
              "      \n",
              "  <style>\n",
              "    .colab-df-container {\n",
              "      display:flex;\n",
              "      flex-wrap:wrap;\n",
              "      gap: 12px;\n",
              "    }\n",
              "\n",
              "    .colab-df-convert {\n",
              "      background-color: #E8F0FE;\n",
              "      border: none;\n",
              "      border-radius: 50%;\n",
              "      cursor: pointer;\n",
              "      display: none;\n",
              "      fill: #1967D2;\n",
              "      height: 32px;\n",
              "      padding: 0 0 0 0;\n",
              "      width: 32px;\n",
              "    }\n",
              "\n",
              "    .colab-df-convert:hover {\n",
              "      background-color: #E2EBFA;\n",
              "      box-shadow: 0px 1px 2px rgba(60, 64, 67, 0.3), 0px 1px 3px 1px rgba(60, 64, 67, 0.15);\n",
              "      fill: #174EA6;\n",
              "    }\n",
              "\n",
              "    [theme=dark] .colab-df-convert {\n",
              "      background-color: #3B4455;\n",
              "      fill: #D2E3FC;\n",
              "    }\n",
              "\n",
              "    [theme=dark] .colab-df-convert:hover {\n",
              "      background-color: #434B5C;\n",
              "      box-shadow: 0px 1px 3px 1px rgba(0, 0, 0, 0.15);\n",
              "      filter: drop-shadow(0px 1px 2px rgba(0, 0, 0, 0.3));\n",
              "      fill: #FFFFFF;\n",
              "    }\n",
              "  </style>\n",
              "\n",
              "      <script>\n",
              "        const buttonEl =\n",
              "          document.querySelector('#df-a5793cb8-36c1-4d20-90c9-d4be9095c2f8 button.colab-df-convert');\n",
              "        buttonEl.style.display =\n",
              "          google.colab.kernel.accessAllowed ? 'block' : 'none';\n",
              "\n",
              "        async function convertToInteractive(key) {\n",
              "          const element = document.querySelector('#df-a5793cb8-36c1-4d20-90c9-d4be9095c2f8');\n",
              "          const dataTable =\n",
              "            await google.colab.kernel.invokeFunction('convertToInteractive',\n",
              "                                                     [key], {});\n",
              "          if (!dataTable) return;\n",
              "\n",
              "          const docLinkHtml = 'Like what you see? Visit the ' +\n",
              "            '<a target=\"_blank\" href=https://colab.research.google.com/notebooks/data_table.ipynb>data table notebook</a>'\n",
              "            + ' to learn more about interactive tables.';\n",
              "          element.innerHTML = '';\n",
              "          dataTable['output_type'] = 'display_data';\n",
              "          await google.colab.output.renderOutput(dataTable, element);\n",
              "          const docLink = document.createElement('div');\n",
              "          docLink.innerHTML = docLinkHtml;\n",
              "          element.appendChild(docLink);\n",
              "        }\n",
              "      </script>\n",
              "    </div>\n",
              "  </div>\n",
              "  "
            ]
          },
          "metadata": {},
          "execution_count": 41
        }
      ]
    },
    {
      "cell_type": "markdown",
      "source": [
        "## 17. 北区\n",
        "- [スポーツ施設案内](https://www.city.kita.tokyo.jp/bunka/sport/shisetsu/index.html)"
      ],
      "metadata": {
        "id": "u9OKlv_M0WpZ"
      }
    },
    {
      "cell_type": "code",
      "source": [
        "df_kita_sports = pd.read_csv(os.path.join(DIR_NAME, 'original/北区_スポーツ施設.csv'), encoding='utf-8')\n",
        "print(df_kita_sports.shape)\n",
        "\n",
        "df_kita_sports = df_kita_sports[\n",
        "    df_kita_sports['施設分類'].isin(['体育館', '運動場他', 'プール'])\n",
        "][extract_columns].reset_index(drop=True)\n",
        "print(df_kita_sports.shape)"
      ],
      "metadata": {
        "id": "vFZfSYlPPqSB",
        "outputId": "f98b73c3-2e8a-49b5-86af-9af8e60390b5",
        "colab": {
          "base_uri": "https://localhost:8080/"
        }
      },
      "execution_count": 42,
      "outputs": [
        {
          "output_type": "stream",
          "name": "stdout",
          "text": [
            "(17, 6)\n",
            "(17, 6)\n"
          ]
        }
      ]
    },
    {
      "cell_type": "code",
      "source": [
        "df_kita_sports.head()"
      ],
      "metadata": {
        "id": "KvWjc8BfPvk0",
        "outputId": "20b4302a-de9a-47ca-dcfd-72a317be2bf7",
        "colab": {
          "base_uri": "https://localhost:8080/",
          "height": 206
        }
      },
      "execution_count": 43,
      "outputs": [
        {
          "output_type": "execute_result",
          "data": {
            "text/plain": [
              "   施設分類               名称 市区町村名         所在地         緯度          経度\n",
              "0  運動場他     北ノ台スポーツ多目的広場    北区  上十条５丁目１４−４  35.764285  139.713469\n",
              "1   体育館  北ノ台スポーツ多目的広場体育館    北区  上十条５丁目１４−４  35.764285  139.713469\n",
              "2  運動場他             北運動場    北区   神谷２丁目４７−６  35.774646  139.727812\n",
              "3  運動場他    赤羽スポーツの森公園競技場    北区  赤羽西５丁目２−２７  35.772282  139.708680\n",
              "4  運動場他     豊島北スポーツ多目的広場    北区   豊島５丁目３−１３  35.764723  139.750022"
            ],
            "text/html": [
              "\n",
              "  <div id=\"df-7d0ce1d8-a9cb-43d9-9630-8f2583e4a3b8\">\n",
              "    <div class=\"colab-df-container\">\n",
              "      <div>\n",
              "<style scoped>\n",
              "    .dataframe tbody tr th:only-of-type {\n",
              "        vertical-align: middle;\n",
              "    }\n",
              "\n",
              "    .dataframe tbody tr th {\n",
              "        vertical-align: top;\n",
              "    }\n",
              "\n",
              "    .dataframe thead th {\n",
              "        text-align: right;\n",
              "    }\n",
              "</style>\n",
              "<table border=\"1\" class=\"dataframe\">\n",
              "  <thead>\n",
              "    <tr style=\"text-align: right;\">\n",
              "      <th></th>\n",
              "      <th>施設分類</th>\n",
              "      <th>名称</th>\n",
              "      <th>市区町村名</th>\n",
              "      <th>所在地</th>\n",
              "      <th>緯度</th>\n",
              "      <th>経度</th>\n",
              "    </tr>\n",
              "  </thead>\n",
              "  <tbody>\n",
              "    <tr>\n",
              "      <th>0</th>\n",
              "      <td>運動場他</td>\n",
              "      <td>北ノ台スポーツ多目的広場</td>\n",
              "      <td>北区</td>\n",
              "      <td>上十条５丁目１４−４</td>\n",
              "      <td>35.764285</td>\n",
              "      <td>139.713469</td>\n",
              "    </tr>\n",
              "    <tr>\n",
              "      <th>1</th>\n",
              "      <td>体育館</td>\n",
              "      <td>北ノ台スポーツ多目的広場体育館</td>\n",
              "      <td>北区</td>\n",
              "      <td>上十条５丁目１４−４</td>\n",
              "      <td>35.764285</td>\n",
              "      <td>139.713469</td>\n",
              "    </tr>\n",
              "    <tr>\n",
              "      <th>2</th>\n",
              "      <td>運動場他</td>\n",
              "      <td>北運動場</td>\n",
              "      <td>北区</td>\n",
              "      <td>神谷２丁目４７−６</td>\n",
              "      <td>35.774646</td>\n",
              "      <td>139.727812</td>\n",
              "    </tr>\n",
              "    <tr>\n",
              "      <th>3</th>\n",
              "      <td>運動場他</td>\n",
              "      <td>赤羽スポーツの森公園競技場</td>\n",
              "      <td>北区</td>\n",
              "      <td>赤羽西５丁目２−２７</td>\n",
              "      <td>35.772282</td>\n",
              "      <td>139.708680</td>\n",
              "    </tr>\n",
              "    <tr>\n",
              "      <th>4</th>\n",
              "      <td>運動場他</td>\n",
              "      <td>豊島北スポーツ多目的広場</td>\n",
              "      <td>北区</td>\n",
              "      <td>豊島５丁目３−１３</td>\n",
              "      <td>35.764723</td>\n",
              "      <td>139.750022</td>\n",
              "    </tr>\n",
              "  </tbody>\n",
              "</table>\n",
              "</div>\n",
              "      <button class=\"colab-df-convert\" onclick=\"convertToInteractive('df-7d0ce1d8-a9cb-43d9-9630-8f2583e4a3b8')\"\n",
              "              title=\"Convert this dataframe to an interactive table.\"\n",
              "              style=\"display:none;\">\n",
              "        \n",
              "  <svg xmlns=\"http://www.w3.org/2000/svg\" height=\"24px\"viewBox=\"0 0 24 24\"\n",
              "       width=\"24px\">\n",
              "    <path d=\"M0 0h24v24H0V0z\" fill=\"none\"/>\n",
              "    <path d=\"M18.56 5.44l.94 2.06.94-2.06 2.06-.94-2.06-.94-.94-2.06-.94 2.06-2.06.94zm-11 1L8.5 8.5l.94-2.06 2.06-.94-2.06-.94L8.5 2.5l-.94 2.06-2.06.94zm10 10l.94 2.06.94-2.06 2.06-.94-2.06-.94-.94-2.06-.94 2.06-2.06.94z\"/><path d=\"M17.41 7.96l-1.37-1.37c-.4-.4-.92-.59-1.43-.59-.52 0-1.04.2-1.43.59L10.3 9.45l-7.72 7.72c-.78.78-.78 2.05 0 2.83L4 21.41c.39.39.9.59 1.41.59.51 0 1.02-.2 1.41-.59l7.78-7.78 2.81-2.81c.8-.78.8-2.07 0-2.86zM5.41 20L4 18.59l7.72-7.72 1.47 1.35L5.41 20z\"/>\n",
              "  </svg>\n",
              "      </button>\n",
              "      \n",
              "  <style>\n",
              "    .colab-df-container {\n",
              "      display:flex;\n",
              "      flex-wrap:wrap;\n",
              "      gap: 12px;\n",
              "    }\n",
              "\n",
              "    .colab-df-convert {\n",
              "      background-color: #E8F0FE;\n",
              "      border: none;\n",
              "      border-radius: 50%;\n",
              "      cursor: pointer;\n",
              "      display: none;\n",
              "      fill: #1967D2;\n",
              "      height: 32px;\n",
              "      padding: 0 0 0 0;\n",
              "      width: 32px;\n",
              "    }\n",
              "\n",
              "    .colab-df-convert:hover {\n",
              "      background-color: #E2EBFA;\n",
              "      box-shadow: 0px 1px 2px rgba(60, 64, 67, 0.3), 0px 1px 3px 1px rgba(60, 64, 67, 0.15);\n",
              "      fill: #174EA6;\n",
              "    }\n",
              "\n",
              "    [theme=dark] .colab-df-convert {\n",
              "      background-color: #3B4455;\n",
              "      fill: #D2E3FC;\n",
              "    }\n",
              "\n",
              "    [theme=dark] .colab-df-convert:hover {\n",
              "      background-color: #434B5C;\n",
              "      box-shadow: 0px 1px 3px 1px rgba(0, 0, 0, 0.15);\n",
              "      filter: drop-shadow(0px 1px 2px rgba(0, 0, 0, 0.3));\n",
              "      fill: #FFFFFF;\n",
              "    }\n",
              "  </style>\n",
              "\n",
              "      <script>\n",
              "        const buttonEl =\n",
              "          document.querySelector('#df-7d0ce1d8-a9cb-43d9-9630-8f2583e4a3b8 button.colab-df-convert');\n",
              "        buttonEl.style.display =\n",
              "          google.colab.kernel.accessAllowed ? 'block' : 'none';\n",
              "\n",
              "        async function convertToInteractive(key) {\n",
              "          const element = document.querySelector('#df-7d0ce1d8-a9cb-43d9-9630-8f2583e4a3b8');\n",
              "          const dataTable =\n",
              "            await google.colab.kernel.invokeFunction('convertToInteractive',\n",
              "                                                     [key], {});\n",
              "          if (!dataTable) return;\n",
              "\n",
              "          const docLinkHtml = 'Like what you see? Visit the ' +\n",
              "            '<a target=\"_blank\" href=https://colab.research.google.com/notebooks/data_table.ipynb>data table notebook</a>'\n",
              "            + ' to learn more about interactive tables.';\n",
              "          element.innerHTML = '';\n",
              "          dataTable['output_type'] = 'display_data';\n",
              "          await google.colab.output.renderOutput(dataTable, element);\n",
              "          const docLink = document.createElement('div');\n",
              "          docLink.innerHTML = docLinkHtml;\n",
              "          element.appendChild(docLink);\n",
              "        }\n",
              "      </script>\n",
              "    </div>\n",
              "  </div>\n",
              "  "
            ]
          },
          "metadata": {},
          "execution_count": 43
        }
      ]
    },
    {
      "cell_type": "markdown",
      "source": [
        "## 18. 荒川区\n",
        "- [スポーツ施設一覧](https://www.city.arakawa.tokyo.jp/a017/shisetsuannai/sisetuyoyaku/supotsusisetsu.html)"
      ],
      "metadata": {
        "id": "zy6eSKS20T2p"
      }
    },
    {
      "cell_type": "code",
      "source": [
        "df_arakawa_sports = pd.read_csv(os.path.join(DIR_NAME, 'original/荒川区_スポーツ施設.csv'), encoding='utf-8')\n",
        "print(df_arakawa_sports.shape)\n",
        "\n",
        "df_arakawa_sports = df_arakawa_sports[\n",
        "    df_arakawa_sports['施設分類'].isin(['体育館', '運動場他', 'プール'])\n",
        "][extract_columns].reset_index(drop=True)\n",
        "print(df_arakawa_sports.shape)"
      ],
      "metadata": {
        "id": "c4yHw6fPSyAL",
        "outputId": "bb0d131b-b9cd-4438-9b5d-21dccac78e8d",
        "colab": {
          "base_uri": "https://localhost:8080/"
        }
      },
      "execution_count": 44,
      "outputs": [
        {
          "output_type": "stream",
          "name": "stdout",
          "text": [
            "(12, 6)\n",
            "(12, 6)\n"
          ]
        }
      ]
    },
    {
      "cell_type": "code",
      "source": [
        "df_arakawa_sports.head()"
      ],
      "metadata": {
        "id": "GaMK81oyS3-f",
        "outputId": "8fe089c4-a196-482c-cca2-cd86b8cdec5d",
        "colab": {
          "base_uri": "https://localhost:8080/",
          "height": 206
        }
      },
      "execution_count": 45,
      "outputs": [
        {
          "output_type": "execute_result",
          "data": {
            "text/plain": [
              "   施設分類              名称 市区町村名         所在地         緯度          経度\n",
              "0  運動場他         西新井橋野球場   荒川区        千住元町  35.757768  139.791421\n",
              "1  運動場他          南千住野球場   荒川区  南千住６丁目４５−５  35.736233  139.791563\n",
              "2  運動場他        少年運動場野球場   荒川区   小台一丁目22番地  35.755915  139.771965\n",
              "3  運動場他  区民運動場グラウンド・小広場   荒川区  西尾久３丁目１４−３  35.752527  139.764330\n",
              "4  運動場他       あらかわ遊園運動場   荒川区   西尾久８丁目３−１  35.751264  139.757072"
            ],
            "text/html": [
              "\n",
              "  <div id=\"df-0a4e006f-eb5a-4ec3-b863-c6bb643b1bd3\">\n",
              "    <div class=\"colab-df-container\">\n",
              "      <div>\n",
              "<style scoped>\n",
              "    .dataframe tbody tr th:only-of-type {\n",
              "        vertical-align: middle;\n",
              "    }\n",
              "\n",
              "    .dataframe tbody tr th {\n",
              "        vertical-align: top;\n",
              "    }\n",
              "\n",
              "    .dataframe thead th {\n",
              "        text-align: right;\n",
              "    }\n",
              "</style>\n",
              "<table border=\"1\" class=\"dataframe\">\n",
              "  <thead>\n",
              "    <tr style=\"text-align: right;\">\n",
              "      <th></th>\n",
              "      <th>施設分類</th>\n",
              "      <th>名称</th>\n",
              "      <th>市区町村名</th>\n",
              "      <th>所在地</th>\n",
              "      <th>緯度</th>\n",
              "      <th>経度</th>\n",
              "    </tr>\n",
              "  </thead>\n",
              "  <tbody>\n",
              "    <tr>\n",
              "      <th>0</th>\n",
              "      <td>運動場他</td>\n",
              "      <td>西新井橋野球場</td>\n",
              "      <td>荒川区</td>\n",
              "      <td>千住元町</td>\n",
              "      <td>35.757768</td>\n",
              "      <td>139.791421</td>\n",
              "    </tr>\n",
              "    <tr>\n",
              "      <th>1</th>\n",
              "      <td>運動場他</td>\n",
              "      <td>南千住野球場</td>\n",
              "      <td>荒川区</td>\n",
              "      <td>南千住６丁目４５−５</td>\n",
              "      <td>35.736233</td>\n",
              "      <td>139.791563</td>\n",
              "    </tr>\n",
              "    <tr>\n",
              "      <th>2</th>\n",
              "      <td>運動場他</td>\n",
              "      <td>少年運動場野球場</td>\n",
              "      <td>荒川区</td>\n",
              "      <td>小台一丁目22番地</td>\n",
              "      <td>35.755915</td>\n",
              "      <td>139.771965</td>\n",
              "    </tr>\n",
              "    <tr>\n",
              "      <th>3</th>\n",
              "      <td>運動場他</td>\n",
              "      <td>区民運動場グラウンド・小広場</td>\n",
              "      <td>荒川区</td>\n",
              "      <td>西尾久３丁目１４−３</td>\n",
              "      <td>35.752527</td>\n",
              "      <td>139.764330</td>\n",
              "    </tr>\n",
              "    <tr>\n",
              "      <th>4</th>\n",
              "      <td>運動場他</td>\n",
              "      <td>あらかわ遊園運動場</td>\n",
              "      <td>荒川区</td>\n",
              "      <td>西尾久８丁目３−１</td>\n",
              "      <td>35.751264</td>\n",
              "      <td>139.757072</td>\n",
              "    </tr>\n",
              "  </tbody>\n",
              "</table>\n",
              "</div>\n",
              "      <button class=\"colab-df-convert\" onclick=\"convertToInteractive('df-0a4e006f-eb5a-4ec3-b863-c6bb643b1bd3')\"\n",
              "              title=\"Convert this dataframe to an interactive table.\"\n",
              "              style=\"display:none;\">\n",
              "        \n",
              "  <svg xmlns=\"http://www.w3.org/2000/svg\" height=\"24px\"viewBox=\"0 0 24 24\"\n",
              "       width=\"24px\">\n",
              "    <path d=\"M0 0h24v24H0V0z\" fill=\"none\"/>\n",
              "    <path d=\"M18.56 5.44l.94 2.06.94-2.06 2.06-.94-2.06-.94-.94-2.06-.94 2.06-2.06.94zm-11 1L8.5 8.5l.94-2.06 2.06-.94-2.06-.94L8.5 2.5l-.94 2.06-2.06.94zm10 10l.94 2.06.94-2.06 2.06-.94-2.06-.94-.94-2.06-.94 2.06-2.06.94z\"/><path d=\"M17.41 7.96l-1.37-1.37c-.4-.4-.92-.59-1.43-.59-.52 0-1.04.2-1.43.59L10.3 9.45l-7.72 7.72c-.78.78-.78 2.05 0 2.83L4 21.41c.39.39.9.59 1.41.59.51 0 1.02-.2 1.41-.59l7.78-7.78 2.81-2.81c.8-.78.8-2.07 0-2.86zM5.41 20L4 18.59l7.72-7.72 1.47 1.35L5.41 20z\"/>\n",
              "  </svg>\n",
              "      </button>\n",
              "      \n",
              "  <style>\n",
              "    .colab-df-container {\n",
              "      display:flex;\n",
              "      flex-wrap:wrap;\n",
              "      gap: 12px;\n",
              "    }\n",
              "\n",
              "    .colab-df-convert {\n",
              "      background-color: #E8F0FE;\n",
              "      border: none;\n",
              "      border-radius: 50%;\n",
              "      cursor: pointer;\n",
              "      display: none;\n",
              "      fill: #1967D2;\n",
              "      height: 32px;\n",
              "      padding: 0 0 0 0;\n",
              "      width: 32px;\n",
              "    }\n",
              "\n",
              "    .colab-df-convert:hover {\n",
              "      background-color: #E2EBFA;\n",
              "      box-shadow: 0px 1px 2px rgba(60, 64, 67, 0.3), 0px 1px 3px 1px rgba(60, 64, 67, 0.15);\n",
              "      fill: #174EA6;\n",
              "    }\n",
              "\n",
              "    [theme=dark] .colab-df-convert {\n",
              "      background-color: #3B4455;\n",
              "      fill: #D2E3FC;\n",
              "    }\n",
              "\n",
              "    [theme=dark] .colab-df-convert:hover {\n",
              "      background-color: #434B5C;\n",
              "      box-shadow: 0px 1px 3px 1px rgba(0, 0, 0, 0.15);\n",
              "      filter: drop-shadow(0px 1px 2px rgba(0, 0, 0, 0.3));\n",
              "      fill: #FFFFFF;\n",
              "    }\n",
              "  </style>\n",
              "\n",
              "      <script>\n",
              "        const buttonEl =\n",
              "          document.querySelector('#df-0a4e006f-eb5a-4ec3-b863-c6bb643b1bd3 button.colab-df-convert');\n",
              "        buttonEl.style.display =\n",
              "          google.colab.kernel.accessAllowed ? 'block' : 'none';\n",
              "\n",
              "        async function convertToInteractive(key) {\n",
              "          const element = document.querySelector('#df-0a4e006f-eb5a-4ec3-b863-c6bb643b1bd3');\n",
              "          const dataTable =\n",
              "            await google.colab.kernel.invokeFunction('convertToInteractive',\n",
              "                                                     [key], {});\n",
              "          if (!dataTable) return;\n",
              "\n",
              "          const docLinkHtml = 'Like what you see? Visit the ' +\n",
              "            '<a target=\"_blank\" href=https://colab.research.google.com/notebooks/data_table.ipynb>data table notebook</a>'\n",
              "            + ' to learn more about interactive tables.';\n",
              "          element.innerHTML = '';\n",
              "          dataTable['output_type'] = 'display_data';\n",
              "          await google.colab.output.renderOutput(dataTable, element);\n",
              "          const docLink = document.createElement('div');\n",
              "          docLink.innerHTML = docLinkHtml;\n",
              "          element.appendChild(docLink);\n",
              "        }\n",
              "      </script>\n",
              "    </div>\n",
              "  </div>\n",
              "  "
            ]
          },
          "metadata": {},
          "execution_count": 45
        }
      ]
    },
    {
      "cell_type": "markdown",
      "source": [
        "## 19. 板橋区\n",
        "- [どこでも誰でもおでかけマップオープンデータ（公共施設）](https://catalog.data.metro.tokyo.lg.jp/dataset/t131199d0000000761/resource/0fb29627-2244-4647-a2e4-3c1daef472ad) -> 体育館、プール\n",
        "- [体育施設](https://www.city.itabashi.tokyo.jp/bunka/1005245/index.html)"
      ],
      "metadata": {
        "id": "VUkqCI22urni"
      }
    },
    {
      "cell_type": "code",
      "source": [
        "url_itabashi_facility = 'https://www.city.itabashi.tokyo.jp/_res/projects/default_project/_page_/001/006/127/r3-1.csv'\n",
        "df_itabashi_facility = get_data_csv_url(url_itabashi_facility, encoding='shift-jis')\n",
        "print(df_itabashi_facility.shape)\n",
        "\n",
        "df_itabashi_facility['市区町村名'] = '板橋区'\n",
        "df_itabashi_facility['施設分類'] = df_itabashi_facility['施設名称'].apply(get_category_facility)\n",
        "df_itabashi_facility['緯度'] = df_itabashi_facility['GEOM'].apply(lambda x: x.split(':')[1])\n",
        "df_itabashi_facility['経度'] = df_itabashi_facility['GEOM'].apply(lambda x: x.split(':')[0])\n",
        "df_itabashi_facility = df_itabashi_facility[\n",
        "    (df_itabashi_facility['施設分類'].isin(['体育館', '運動場他', 'プール']))\n",
        "].rename(columns={'施設名称':'名称', '住所':'所在地'})[extract_columns]\n",
        "\n",
        "df_itabashi_sports = pd.read_csv(os.path.join(DIR_NAME, 'original/板橋区_運動場.csv'))\n",
        "print(df_itabashi_sports.shape)\n",
        "df_itabashi_facility = pd.concat([df_itabashi_facility, df_itabashi_sports]).reset_index(drop=True)\n",
        "\n",
        "change_type(df_itabashi_facility)\n",
        "print(df_itabashi_facility.shape)"
      ],
      "metadata": {
        "id": "tTmDLX5BGJiO"
      },
      "execution_count": 47,
      "outputs": []
    },
    {
      "cell_type": "code",
      "source": [
        "df_itabashi_facility.head()"
      ],
      "metadata": {
        "id": "0wR7q7pixnIK"
      },
      "execution_count": null,
      "outputs": []
    },
    {
      "cell_type": "markdown",
      "source": [
        "## 20. 練馬区\n",
        "- [体育館](https://catalog.data.metro.tokyo.lg.jp/dataset/t131202d0000000101/resource/a239eafb-449a-4e56-85fc-c6c0146e4f0e)\n",
        "- [公園・スポーツ](https://www.city.nerima.tokyo.jp/shisetsu/koen/index.html#cms0276B)"
      ],
      "metadata": {
        "id": "IrUQq4O1R_U-"
      }
    },
    {
      "cell_type": "code",
      "source": [
        "url_nerima_sports = 'https://www.city.nerima.tokyo.jp/kusei/tokei/opendata/opendatasite/sisetsujyouhou/taiikukan.files/56_taiikukan.csv'\n",
        "df_nerima_sports = get_data_csv_url(url_nerima_sports, encoding='shift-jis')\n",
        "print(df_nerima_sports.shape)\n",
        "df_nerima_sports['市区町村名'] = '練馬区'\n",
        "df_nerima_sports['施設分類'] = '体育館'\n",
        "df_nerima_sports = df_nerima_sports[extract_columns]\n",
        "\n",
        "df_nerima_pool = pd.read_csv(os.path.join(DIR_NAME, 'original/練馬区_運動場プール.csv'))\n",
        "print(df_nerima_pool.shape)\n",
        "df_nerima_sports = pd.concat([df_nerima_sports, df_nerima_pool]).reset_index(drop=True)\n",
        "change_type(df_nerima_sports)\n",
        "print(df_nerima_sports.shape)"
      ],
      "metadata": {
        "id": "pwvTvknwqyhj"
      },
      "execution_count": null,
      "outputs": []
    },
    {
      "cell_type": "code",
      "source": [
        "df_nerima_sports.head()"
      ],
      "metadata": {
        "id": "r34CQDfNze0p"
      },
      "execution_count": null,
      "outputs": []
    },
    {
      "cell_type": "markdown",
      "source": [
        "## 21. 足立区\n",
        "- 足立区_スポーツ施設"
      ],
      "metadata": {
        "id": "wnKQ_F6h0Hw6"
      }
    },
    {
      "cell_type": "code",
      "source": [
        "import xml.etree.ElementTree as ET\n",
        "\n",
        "def dump_node(node, dump_list):\n",
        "    if node.text is not None:\n",
        "        node_txt = node.text.strip()\n",
        "        if len(node_txt) > 0:\n",
        "            dump_list.append(node_txt)\n",
        "    for child in node:\n",
        "        dump_node(child, dump_list)"
      ],
      "metadata": {
        "id": "XAUkMJn0z0Kq"
      },
      "execution_count": null,
      "outputs": []
    },
    {
      "cell_type": "code",
      "source": [
        "tree = ET.parse(os.path.join(DIR_NAME, 'original/足立区_スポーツ施設.kml'))\n",
        "dump_list = []\n",
        "dump_node(tree.getroot(), dump_list)\n",
        "\n",
        "key_list = ['名称', 'info', 'icon', 'URL', '所在地', '施設', '緯度', '経度', '緯度経度']\n",
        "key_num = len(key_list)\n",
        "\n",
        "node_dict_list = []\n",
        "node_dict = {}\n",
        "for index, item in enumerate(dump_list[13:]):\n",
        "    key_index = index % key_num\n",
        "    node_dict[key_list[key_index]] = item\n",
        "    if key_index == (key_num-1):\n",
        "        node_dict_list.append(node_dict)\n",
        "        node_dict = {}\n",
        "\n",
        "df_adachi_sports = pd.DataFrame(node_dict_list)\n",
        "print(df_adachi_sports.shape)"
      ],
      "metadata": {
        "id": "G4BhnyUY4TAq"
      },
      "execution_count": null,
      "outputs": []
    },
    {
      "cell_type": "code",
      "source": [
        "df_adachi_sports['市区町村名'] = '足立区'\n",
        "df_adachi_sports['施設分類'] = df_adachi_sports['名称'].apply(get_category_facility)\n",
        "df_adachi_sports = df_adachi_sports[\n",
        "    df_adachi_sports['施設分類'].isin(['体育館', '運動場他', 'プール'])\n",
        "][extract_columns].reset_index(drop=True)\n",
        "change_type(df_adachi_sports)\n",
        "print(df_adachi_sports.shape)"
      ],
      "metadata": {
        "id": "A76a0oqm0Ybj"
      },
      "execution_count": null,
      "outputs": []
    },
    {
      "cell_type": "code",
      "source": [
        "df_adachi_sports.head()"
      ],
      "metadata": {
        "id": "bfkNRPtW-M50"
      },
      "execution_count": null,
      "outputs": []
    },
    {
      "cell_type": "markdown",
      "source": [
        "## 22. 葛飾区\n",
        "- [スポーツ・レクリェーション施設](https://catalog.data.metro.tokyo.lg.jp/dataset/t131229d0000000002/resource/8c85a2eb-e273-402b-b558-07b19a6a3fae)"
      ],
      "metadata": {
        "id": "gQjDqsH_0Llk"
      }
    },
    {
      "cell_type": "code",
      "source": [
        "url_katsushika_sports = 'https://www.opendata.metro.tokyo.lg.jp/suisyoudataset/131229__public_facility_1.csv'\n",
        "df_katsushika_sports = get_data_csv_url(url_katsushika_sports, encoding='shift-jis')\n",
        "df_katsushika_sports = df_katsushika_sports.dropna(how='all').reset_index(drop=True)\n",
        "print(df_katsushika_sports.shape)\n",
        "\n",
        "df_katsushika_sports['施設分類'] = df_katsushika_sports['名称（例）'].apply(get_category_facility)\n",
        "df_katsushika_sports = df_katsushika_sports[df_katsushika_sports['施設分類'].isin(['体育館', '運動場他', 'プール'])].reset_index(drop=True)\n",
        "df_katsushika_sports = df_katsushika_sports.rename(columns={'名称（例）':'名称', '住所':'所在地', '軽度':'経度'})[extract_columns]\n",
        "change_type(df_katsushika_sports)\n",
        "print(df_katsushika_sports.shape)"
      ],
      "metadata": {
        "id": "WRDm1JReHQHd"
      },
      "execution_count": null,
      "outputs": []
    },
    {
      "cell_type": "code",
      "source": [
        "df_katsushika_sports.head()"
      ],
      "metadata": {
        "id": "VTeOcmksMJhd"
      },
      "execution_count": null,
      "outputs": []
    },
    {
      "cell_type": "markdown",
      "source": [
        "## 23. 江戸川区\n",
        "- [スポーツ施設](https://www.city.edogawa.tokyo.jp/e028/kuseijoho/gaiyo/shisetsuguide/bunya/sportsshisetsu/index.html)\n",
        "- [地図データ 公共施設](https://www.city.edogawa.tokyo.jp/e004/kuseijoho/opendata/map_data.html)"
      ],
      "metadata": {
        "id": "ppaYDhfs0Ooq"
      }
    },
    {
      "cell_type": "code",
      "source": [
        "df_edogawa_facility = pd.read_csv(os.path.join(DIR_NAME, 'original/江戸川区_公共施設.csv'), encoding='shift-jis')\n",
        "print(df_edogawa_facility.shape)\n",
        "\n",
        "df_edogawa_facility['市区町村名'] = '江戸川区'\n",
        "df_edogawa_facility = df_edogawa_facility[\n",
        "    df_edogawa_facility['施設分類'].isin(['体育館', '運動場他', 'プール'])\n",
        "][extract_columns].reset_index(drop=True)\n",
        "print(df_edogawa_facility.shape)"
      ],
      "metadata": {
        "id": "A9U-H_2SFvB6"
      },
      "execution_count": null,
      "outputs": []
    },
    {
      "cell_type": "code",
      "source": [
        "df_edogawa_facility.head()"
      ],
      "metadata": {
        "id": "BrJ8pe5ZJB4D"
      },
      "execution_count": null,
      "outputs": []
    },
    {
      "cell_type": "markdown",
      "source": [
        "## 運動マスタ"
      ],
      "metadata": {
        "id": "9x6VJEBUSGeh"
      }
    },
    {
      "cell_type": "markdown",
      "source": [
        "|No.|区名|データ|\n",
        "|:----|:----|:----|\n",
        "|0|東京都|なし|\n",
        "|1|千代田区|済み|\n",
        "|2|中央区|済み|\n",
        "|3|港区|済み|\n",
        "|4|新宿区|済み|\n",
        "|5|文京区|済み|\n",
        "|6|台東区|済み|\n",
        "|7|墨田区|済み|\n",
        "|8|江東区|済み|\n",
        "|9|品川区|済み|\n",
        "|10|目黒区|済み|\n",
        "|11|大田区|済み|\n",
        "|12|世田谷区|済み|\n",
        "|13|渋谷区|済み|\n",
        "|14|中野区|済み|\n",
        "|15|杉並区|済み|\n",
        "|16|豊島区|済み|\n",
        "|17|北区|済み|\n",
        "|18|荒川区|済み|\n",
        "|19|板橋区|済み|\n",
        "|20|練馬区|済み|\n",
        "|21|足立区|済み|\n",
        "|22|葛飾区|済み|\n",
        "|23|江戸川区|済み|"
      ],
      "metadata": {
        "id": "YrYU6XXNxnu4"
      }
    },
    {
      "cell_type": "code",
      "source": [
        "df_sports_master = pd.concat([\n",
        "    df_chiyoda_sports,\n",
        "    df_chuou_sports,\n",
        "    df_minato_sports,\n",
        "    df_shinjuku_sports,\n",
        "    df_bunkyo_sports,\n",
        "    df_taito_sports,\n",
        "    df_sumida_sports,\n",
        "    df_koutou_sports,\n",
        "    df_shinagawa_sports,\n",
        "    df_megro_facility,\n",
        "    df_oota_sports,\n",
        "    df_setagaya_sports,\n",
        "    df_shibuya_sports,\n",
        "    df_nakano_facility,\n",
        "    df_suginami_sports,\n",
        "    df_toshima_facility,\n",
        "    df_kita_sports,\n",
        "    df_arakawa_sports,\n",
        "    df_itabashi_facility,\n",
        "    df_nerima_sports,\n",
        "    df_adachi_sports,\n",
        "    df_katsushika_sports,\n",
        "    df_edogawa_facility,\n",
        "]).reset_index(drop=True)\n",
        "print(df_sports_master.shape)"
      ],
      "metadata": {
        "id": "81JjNDiASF-3"
      },
      "execution_count": null,
      "outputs": []
    },
    {
      "cell_type": "markdown",
      "source": [
        "### 保存"
      ],
      "metadata": {
        "id": "sMnANAGBZx2l"
      }
    },
    {
      "cell_type": "code",
      "source": [
        "# df_sports_master.to_csv(os.path.join(DIR_NAME, output_master_file), index=False, encoding='utf-8_sig')"
      ],
      "metadata": {
        "id": "1kc_VsQUuL0V"
      },
      "execution_count": null,
      "outputs": []
    },
    {
      "cell_type": "code",
      "source": [
        "df_sports_master = pd.read_csv(os.path.join(DIR_NAME, output_master_file))\n",
        "print(df_sports_master.shape)"
      ],
      "metadata": {
        "id": "cPPFN3MyZzcJ",
        "outputId": "9462376e-2cab-4f58-8b9a-f0d249a3b0cb",
        "colab": {
          "base_uri": "https://localhost:8080/"
        }
      },
      "execution_count": 112,
      "outputs": [
        {
          "output_type": "stream",
          "name": "stdout",
          "text": [
            "(396, 6)\n"
          ]
        }
      ]
    },
    {
      "cell_type": "code",
      "source": [
        "df_sports_master.head()"
      ],
      "metadata": {
        "colab": {
          "base_uri": "https://localhost:8080/",
          "height": 206
        },
        "id": "DuOMlpqHSKvK",
        "outputId": "c168b762-6d44-4b66-a4df-defdcf355332"
      },
      "execution_count": 113,
      "outputs": [
        {
          "output_type": "execute_result",
          "data": {
            "text/plain": [
              "   施設分類             名称 市区町村名          所在地         緯度          経度\n",
              "0   体育館       スポーツセンター  千代田区     内神田2-1-8  35.689165  139.767456\n",
              "1   プール  スポーツセンター温水プール  千代田区     内神田2-1-8  35.689165  139.767456\n",
              "2  運動場他    外濠公園総合グラウンド  千代田区          五番町  35.688860  139.730872\n",
              "3  運動場他       花小金井運動施設  千代田区  花小金井南町3-2-7  35.721006  139.517968\n",
              "4  運動場他      夢の島東少年野球場  千代田区       江東区夢の島  35.652324  139.829138"
            ],
            "text/html": [
              "\n",
              "  <div id=\"df-1487ed37-785c-4d64-9969-a1ed7b0f192b\">\n",
              "    <div class=\"colab-df-container\">\n",
              "      <div>\n",
              "<style scoped>\n",
              "    .dataframe tbody tr th:only-of-type {\n",
              "        vertical-align: middle;\n",
              "    }\n",
              "\n",
              "    .dataframe tbody tr th {\n",
              "        vertical-align: top;\n",
              "    }\n",
              "\n",
              "    .dataframe thead th {\n",
              "        text-align: right;\n",
              "    }\n",
              "</style>\n",
              "<table border=\"1\" class=\"dataframe\">\n",
              "  <thead>\n",
              "    <tr style=\"text-align: right;\">\n",
              "      <th></th>\n",
              "      <th>施設分類</th>\n",
              "      <th>名称</th>\n",
              "      <th>市区町村名</th>\n",
              "      <th>所在地</th>\n",
              "      <th>緯度</th>\n",
              "      <th>経度</th>\n",
              "    </tr>\n",
              "  </thead>\n",
              "  <tbody>\n",
              "    <tr>\n",
              "      <th>0</th>\n",
              "      <td>体育館</td>\n",
              "      <td>スポーツセンター</td>\n",
              "      <td>千代田区</td>\n",
              "      <td>内神田2-1-8</td>\n",
              "      <td>35.689165</td>\n",
              "      <td>139.767456</td>\n",
              "    </tr>\n",
              "    <tr>\n",
              "      <th>1</th>\n",
              "      <td>プール</td>\n",
              "      <td>スポーツセンター温水プール</td>\n",
              "      <td>千代田区</td>\n",
              "      <td>内神田2-1-8</td>\n",
              "      <td>35.689165</td>\n",
              "      <td>139.767456</td>\n",
              "    </tr>\n",
              "    <tr>\n",
              "      <th>2</th>\n",
              "      <td>運動場他</td>\n",
              "      <td>外濠公園総合グラウンド</td>\n",
              "      <td>千代田区</td>\n",
              "      <td>五番町</td>\n",
              "      <td>35.688860</td>\n",
              "      <td>139.730872</td>\n",
              "    </tr>\n",
              "    <tr>\n",
              "      <th>3</th>\n",
              "      <td>運動場他</td>\n",
              "      <td>花小金井運動施設</td>\n",
              "      <td>千代田区</td>\n",
              "      <td>花小金井南町3-2-7</td>\n",
              "      <td>35.721006</td>\n",
              "      <td>139.517968</td>\n",
              "    </tr>\n",
              "    <tr>\n",
              "      <th>4</th>\n",
              "      <td>運動場他</td>\n",
              "      <td>夢の島東少年野球場</td>\n",
              "      <td>千代田区</td>\n",
              "      <td>江東区夢の島</td>\n",
              "      <td>35.652324</td>\n",
              "      <td>139.829138</td>\n",
              "    </tr>\n",
              "  </tbody>\n",
              "</table>\n",
              "</div>\n",
              "      <button class=\"colab-df-convert\" onclick=\"convertToInteractive('df-1487ed37-785c-4d64-9969-a1ed7b0f192b')\"\n",
              "              title=\"Convert this dataframe to an interactive table.\"\n",
              "              style=\"display:none;\">\n",
              "        \n",
              "  <svg xmlns=\"http://www.w3.org/2000/svg\" height=\"24px\"viewBox=\"0 0 24 24\"\n",
              "       width=\"24px\">\n",
              "    <path d=\"M0 0h24v24H0V0z\" fill=\"none\"/>\n",
              "    <path d=\"M18.56 5.44l.94 2.06.94-2.06 2.06-.94-2.06-.94-.94-2.06-.94 2.06-2.06.94zm-11 1L8.5 8.5l.94-2.06 2.06-.94-2.06-.94L8.5 2.5l-.94 2.06-2.06.94zm10 10l.94 2.06.94-2.06 2.06-.94-2.06-.94-.94-2.06-.94 2.06-2.06.94z\"/><path d=\"M17.41 7.96l-1.37-1.37c-.4-.4-.92-.59-1.43-.59-.52 0-1.04.2-1.43.59L10.3 9.45l-7.72 7.72c-.78.78-.78 2.05 0 2.83L4 21.41c.39.39.9.59 1.41.59.51 0 1.02-.2 1.41-.59l7.78-7.78 2.81-2.81c.8-.78.8-2.07 0-2.86zM5.41 20L4 18.59l7.72-7.72 1.47 1.35L5.41 20z\"/>\n",
              "  </svg>\n",
              "      </button>\n",
              "      \n",
              "  <style>\n",
              "    .colab-df-container {\n",
              "      display:flex;\n",
              "      flex-wrap:wrap;\n",
              "      gap: 12px;\n",
              "    }\n",
              "\n",
              "    .colab-df-convert {\n",
              "      background-color: #E8F0FE;\n",
              "      border: none;\n",
              "      border-radius: 50%;\n",
              "      cursor: pointer;\n",
              "      display: none;\n",
              "      fill: #1967D2;\n",
              "      height: 32px;\n",
              "      padding: 0 0 0 0;\n",
              "      width: 32px;\n",
              "    }\n",
              "\n",
              "    .colab-df-convert:hover {\n",
              "      background-color: #E2EBFA;\n",
              "      box-shadow: 0px 1px 2px rgba(60, 64, 67, 0.3), 0px 1px 3px 1px rgba(60, 64, 67, 0.15);\n",
              "      fill: #174EA6;\n",
              "    }\n",
              "\n",
              "    [theme=dark] .colab-df-convert {\n",
              "      background-color: #3B4455;\n",
              "      fill: #D2E3FC;\n",
              "    }\n",
              "\n",
              "    [theme=dark] .colab-df-convert:hover {\n",
              "      background-color: #434B5C;\n",
              "      box-shadow: 0px 1px 3px 1px rgba(0, 0, 0, 0.15);\n",
              "      filter: drop-shadow(0px 1px 2px rgba(0, 0, 0, 0.3));\n",
              "      fill: #FFFFFF;\n",
              "    }\n",
              "  </style>\n",
              "\n",
              "      <script>\n",
              "        const buttonEl =\n",
              "          document.querySelector('#df-1487ed37-785c-4d64-9969-a1ed7b0f192b button.colab-df-convert');\n",
              "        buttonEl.style.display =\n",
              "          google.colab.kernel.accessAllowed ? 'block' : 'none';\n",
              "\n",
              "        async function convertToInteractive(key) {\n",
              "          const element = document.querySelector('#df-1487ed37-785c-4d64-9969-a1ed7b0f192b');\n",
              "          const dataTable =\n",
              "            await google.colab.kernel.invokeFunction('convertToInteractive',\n",
              "                                                     [key], {});\n",
              "          if (!dataTable) return;\n",
              "\n",
              "          const docLinkHtml = 'Like what you see? Visit the ' +\n",
              "            '<a target=\"_blank\" href=https://colab.research.google.com/notebooks/data_table.ipynb>data table notebook</a>'\n",
              "            + ' to learn more about interactive tables.';\n",
              "          element.innerHTML = '';\n",
              "          dataTable['output_type'] = 'display_data';\n",
              "          await google.colab.output.renderOutput(dataTable, element);\n",
              "          const docLink = document.createElement('div');\n",
              "          docLink.innerHTML = docLinkHtml;\n",
              "          element.appendChild(docLink);\n",
              "        }\n",
              "      </script>\n",
              "    </div>\n",
              "  </div>\n",
              "  "
            ]
          },
          "metadata": {},
          "execution_count": 113
        }
      ]
    },
    {
      "cell_type": "code",
      "source": [
        "# データがある区をリストアップ\n",
        "sr_count = df_sports_master['市区町村名'].value_counts()\n",
        "ward_list = list(sr_count[sr_count > 5].index)\n",
        "print(len(ward_list))"
      ],
      "metadata": {
        "id": "mxCmxoMv03eQ",
        "outputId": "b48fd7f6-d4e8-4b47-fcfc-1a667eec8fbf",
        "colab": {
          "base_uri": "https://localhost:8080/"
        }
      },
      "execution_count": 114,
      "outputs": [
        {
          "output_type": "stream",
          "name": "stdout",
          "text": [
            "23\n"
          ]
        }
      ]
    },
    {
      "cell_type": "markdown",
      "source": [
        "### 地理マスタ"
      ],
      "metadata": {
        "id": "jdT3_lplSwOo"
      }
    },
    {
      "cell_type": "code",
      "source": [
        "df_geo_master = pd.read_csv(os.path.join(DIR_NAME, 'geocoding.csv'))[['town_id', '市区町村名', '町名', '町丁目', '緯度', '経度']]\n",
        "print(df_geo_master.shape)"
      ],
      "metadata": {
        "colab": {
          "base_uri": "https://localhost:8080/"
        },
        "id": "mmH8g81kP2Cb",
        "outputId": "2bb0b14f-af29-4c4a-d43e-63c988948d13"
      },
      "execution_count": 115,
      "outputs": [
        {
          "output_type": "stream",
          "name": "stdout",
          "text": [
            "(3145, 6)\n"
          ]
        }
      ]
    },
    {
      "cell_type": "code",
      "source": [
        "df_fitness_score = pd.read_csv(os.path.join(DIR_NAME, 'fitness_score.csv'))\n",
        "print(df_fitness_score.shape)"
      ],
      "metadata": {
        "id": "PXYvx5Azd2dG",
        "outputId": "cba5e22d-92bc-4f38-9353-4a38d193b301",
        "colab": {
          "base_uri": "https://localhost:8080/"
        }
      },
      "execution_count": 116,
      "outputs": [
        {
          "output_type": "stream",
          "name": "stdout",
          "text": [
            "(3145, 6)\n"
          ]
        }
      ]
    },
    {
      "cell_type": "code",
      "source": [
        "print(df_fitness_score.columns)"
      ],
      "metadata": {
        "id": "uU7X7p45fBlA",
        "outputId": "8b031209-2d9b-4bfa-f03d-9420dbc5c5e7",
        "colab": {
          "base_uri": "https://localhost:8080/"
        }
      },
      "execution_count": 117,
      "outputs": [
        {
          "output_type": "stream",
          "name": "stdout",
          "text": [
            "Index(['town_id', 'ダンス教室(数)', 'フィットネス(数)', 'テニス教室(数)', 'ゴルフ練習場(数)',\n",
            "       'スポーツ教室(数)'],\n",
            "      dtype='object')\n"
          ]
        }
      ]
    },
    {
      "cell_type": "code",
      "source": [
        "def rank_score(sr_data):\n",
        "    rank = sr_data.rank()\n",
        "    rmax = rank.max()\n",
        "    rmin = rank.min()\n",
        "    max_val = 5\n",
        "    x = (rank - rmin)/(rmax - rmin) * max_val\n",
        "    return np.clip(x, 0, max_val)"
      ],
      "metadata": {
        "id": "qsPRvvbUTnlK"
      },
      "execution_count": 118,
      "outputs": []
    },
    {
      "cell_type": "markdown",
      "source": [
        "### 各種スコア"
      ],
      "metadata": {
        "id": "E5-It_S7RmkQ"
      }
    },
    {
      "cell_type": "code",
      "source": [
        "sports_types = ['運動場他', '体育館', 'プール']"
      ],
      "metadata": {
        "id": "7_Ik34n3a3sv"
      },
      "execution_count": 119,
      "outputs": []
    },
    {
      "cell_type": "code",
      "source": [
        "%%time\n",
        "for sports in sports_types:\n",
        "    # 一番近い施設の距離\n",
        "    df_geo_master[f'{sports}(最近傍距離)'] = get_value_of_nearest_facility(df_geo_master, df_sports_master, sports, 'min')\n",
        "    # 2km以内の施設の数\n",
        "    df_geo_master[f'{sports}(数)'] = get_value_of_nearest_facility(df_geo_master, df_sports_master, sports, 'count', 2)"
      ],
      "metadata": {
        "colab": {
          "base_uri": "https://localhost:8080/"
        },
        "id": "sn7VhpDmQJsi",
        "outputId": "079a7f54-7e5a-4b09-87fb-a7d70e6de82c"
      },
      "execution_count": 120,
      "outputs": [
        {
          "output_type": "stream",
          "name": "stdout",
          "text": [
            "運動場他 not found 1050\n",
            "運動場他 not found 1354\n",
            "運動場他 not found 1357\n",
            "運動場他 not found 2830\n",
            "運動場他 not found 1050\n",
            "運動場他 not found 1354\n",
            "運動場他 not found 1357\n",
            "運動場他 not found 2830\n",
            "体育館 not found 329\n",
            "体育館 not found 330\n",
            "体育館 not found 822\n",
            "体育館 not found 824\n",
            "体育館 not found 825\n",
            "体育館 not found 826\n",
            "体育館 not found 827\n",
            "体育館 not found 828\n",
            "体育館 not found 831\n",
            "体育館 not found 834\n",
            "体育館 not found 835\n",
            "体育館 not found 836\n",
            "体育館 not found 837\n",
            "体育館 not found 916\n",
            "体育館 not found 917\n",
            "体育館 not found 918\n",
            "体育館 not found 1049\n",
            "体育館 not found 1050\n",
            "体育館 not found 1221\n",
            "体育館 not found 1222\n",
            "体育館 not found 1223\n",
            "体育館 not found 1224\n",
            "体育館 not found 1301\n",
            "体育館 not found 1320\n",
            "体育館 not found 1354\n",
            "体育館 not found 1357\n",
            "体育館 not found 1562\n",
            "体育館 not found 1563\n",
            "体育館 not found 1571\n",
            "体育館 not found 1572\n",
            "体育館 not found 2830\n",
            "体育館 not found 329\n",
            "体育館 not found 330\n",
            "体育館 not found 822\n",
            "体育館 not found 824\n",
            "体育館 not found 825\n",
            "体育館 not found 826\n",
            "体育館 not found 827\n",
            "体育館 not found 828\n",
            "体育館 not found 831\n",
            "体育館 not found 834\n",
            "体育館 not found 835\n",
            "体育館 not found 836\n",
            "体育館 not found 837\n",
            "体育館 not found 916\n",
            "体育館 not found 917\n",
            "体育館 not found 918\n",
            "体育館 not found 1049\n",
            "体育館 not found 1050\n",
            "体育館 not found 1221\n",
            "体育館 not found 1222\n",
            "体育館 not found 1223\n",
            "体育館 not found 1224\n",
            "体育館 not found 1301\n",
            "体育館 not found 1320\n",
            "体育館 not found 1354\n",
            "体育館 not found 1357\n",
            "体育館 not found 1562\n",
            "体育館 not found 1563\n",
            "体育館 not found 1571\n",
            "体育館 not found 1572\n",
            "体育館 not found 2830\n",
            "プール not found 916\n",
            "プール not found 917\n",
            "プール not found 918\n",
            "プール not found 1050\n",
            "プール not found 1301\n",
            "プール not found 1354\n",
            "プール not found 1357\n",
            "プール not found 2554\n",
            "プール not found 2555\n",
            "プール not found 2830\n",
            "プール not found 916\n",
            "プール not found 917\n",
            "プール not found 918\n",
            "プール not found 1050\n",
            "プール not found 1301\n",
            "プール not found 1354\n",
            "プール not found 1357\n",
            "プール not found 2554\n",
            "プール not found 2555\n",
            "プール not found 2830\n",
            "CPU times: user 42.3 s, sys: 561 ms, total: 42.8 s\n",
            "Wall time: 44 s\n"
          ]
        }
      ]
    },
    {
      "cell_type": "code",
      "source": [
        "for sports in sports_types:\n",
        "    df_geo_master[f'{sports}(最近傍距離)'] = df_geo_master[f'{sports}(最近傍距離)'].fillna(df_geo_master[f'{sports}(最近傍距離)'].max())\n",
        "    df_geo_master[f'{sports}(数)'] = df_geo_master[f'{sports}(数)'].fillna(0).astype(int)"
      ],
      "metadata": {
        "id": "xRbPM7VKatxf"
      },
      "execution_count": 121,
      "outputs": []
    },
    {
      "cell_type": "code",
      "source": [
        "df_geo_master = pd.merge(\n",
        "    df_geo_master,\n",
        "    df_fitness_score,\n",
        "    on='town_id', how='left'\n",
        ")\n",
        "assert len(df_geo_master) == len(df_fitness_score)"
      ],
      "metadata": {
        "id": "Cpj7ck4reGO9"
      },
      "execution_count": 122,
      "outputs": []
    },
    {
      "cell_type": "code",
      "source": [
        "print(df_geo_master.shape)\n",
        "df_geo_master.head()"
      ],
      "metadata": {
        "colab": {
          "base_uri": "https://localhost:8080/",
          "height": 372
        },
        "id": "pNI5D7LZTJE3",
        "outputId": "965d8c59-ea52-4912-957b-5be98d51a6cb"
      },
      "execution_count": 123,
      "outputs": [
        {
          "output_type": "stream",
          "name": "stdout",
          "text": [
            "(3145, 17)\n"
          ]
        },
        {
          "output_type": "execute_result",
          "data": {
            "text/plain": [
              "   town_id 市区町村名   町名     町丁目         緯度          経度  運動場他(最近傍距離)  運動場他(数)  \\\n",
              "0   101003  千代田区  丸の内  丸の内１丁目  35.681560  139.767201     1.733596        1   \n",
              "1   101004  千代田区  丸の内  丸の内２丁目  35.680022  139.763447     2.113264        0   \n",
              "2   101005  千代田区  丸の内  丸の内３丁目  35.676952  139.763476     2.290654        0   \n",
              "3   101007  千代田区  大手町  大手町１丁目  35.688069  139.763929     1.826994        1   \n",
              "4   101008  千代田区  大手町  大手町２丁目  35.686301  139.768087     1.477759        2   \n",
              "\n",
              "   体育館(最近傍距離)  体育館(数)  プール(最近傍距離)  プール(数)  ダンス教室(数)  フィットネス(数)  テニス教室(数)  \\\n",
              "0    0.845917       3    0.845917       4         0          3         0   \n",
              "1    1.079165       3    1.079165       4         0          3         0   \n",
              "2    1.404752       2    1.404752       4         1          5         0   \n",
              "3    0.341004       4    0.341004       6         0          5         0   \n",
              "4    0.323495       5    0.323495       7         0          3         0   \n",
              "\n",
              "   ゴルフ練習場(数)  スポーツ教室(数)  \n",
              "0          1          1  \n",
              "1          1          1  \n",
              "2          2          3  \n",
              "3          2          2  \n",
              "4          1          0  "
            ],
            "text/html": [
              "\n",
              "  <div id=\"df-7d029a35-96ed-464a-a8e3-b04cbaa79ed2\">\n",
              "    <div class=\"colab-df-container\">\n",
              "      <div>\n",
              "<style scoped>\n",
              "    .dataframe tbody tr th:only-of-type {\n",
              "        vertical-align: middle;\n",
              "    }\n",
              "\n",
              "    .dataframe tbody tr th {\n",
              "        vertical-align: top;\n",
              "    }\n",
              "\n",
              "    .dataframe thead th {\n",
              "        text-align: right;\n",
              "    }\n",
              "</style>\n",
              "<table border=\"1\" class=\"dataframe\">\n",
              "  <thead>\n",
              "    <tr style=\"text-align: right;\">\n",
              "      <th></th>\n",
              "      <th>town_id</th>\n",
              "      <th>市区町村名</th>\n",
              "      <th>町名</th>\n",
              "      <th>町丁目</th>\n",
              "      <th>緯度</th>\n",
              "      <th>経度</th>\n",
              "      <th>運動場他(最近傍距離)</th>\n",
              "      <th>運動場他(数)</th>\n",
              "      <th>体育館(最近傍距離)</th>\n",
              "      <th>体育館(数)</th>\n",
              "      <th>プール(最近傍距離)</th>\n",
              "      <th>プール(数)</th>\n",
              "      <th>ダンス教室(数)</th>\n",
              "      <th>フィットネス(数)</th>\n",
              "      <th>テニス教室(数)</th>\n",
              "      <th>ゴルフ練習場(数)</th>\n",
              "      <th>スポーツ教室(数)</th>\n",
              "    </tr>\n",
              "  </thead>\n",
              "  <tbody>\n",
              "    <tr>\n",
              "      <th>0</th>\n",
              "      <td>101003</td>\n",
              "      <td>千代田区</td>\n",
              "      <td>丸の内</td>\n",
              "      <td>丸の内１丁目</td>\n",
              "      <td>35.681560</td>\n",
              "      <td>139.767201</td>\n",
              "      <td>1.733596</td>\n",
              "      <td>1</td>\n",
              "      <td>0.845917</td>\n",
              "      <td>3</td>\n",
              "      <td>0.845917</td>\n",
              "      <td>4</td>\n",
              "      <td>0</td>\n",
              "      <td>3</td>\n",
              "      <td>0</td>\n",
              "      <td>1</td>\n",
              "      <td>1</td>\n",
              "    </tr>\n",
              "    <tr>\n",
              "      <th>1</th>\n",
              "      <td>101004</td>\n",
              "      <td>千代田区</td>\n",
              "      <td>丸の内</td>\n",
              "      <td>丸の内２丁目</td>\n",
              "      <td>35.680022</td>\n",
              "      <td>139.763447</td>\n",
              "      <td>2.113264</td>\n",
              "      <td>0</td>\n",
              "      <td>1.079165</td>\n",
              "      <td>3</td>\n",
              "      <td>1.079165</td>\n",
              "      <td>4</td>\n",
              "      <td>0</td>\n",
              "      <td>3</td>\n",
              "      <td>0</td>\n",
              "      <td>1</td>\n",
              "      <td>1</td>\n",
              "    </tr>\n",
              "    <tr>\n",
              "      <th>2</th>\n",
              "      <td>101005</td>\n",
              "      <td>千代田区</td>\n",
              "      <td>丸の内</td>\n",
              "      <td>丸の内３丁目</td>\n",
              "      <td>35.676952</td>\n",
              "      <td>139.763476</td>\n",
              "      <td>2.290654</td>\n",
              "      <td>0</td>\n",
              "      <td>1.404752</td>\n",
              "      <td>2</td>\n",
              "      <td>1.404752</td>\n",
              "      <td>4</td>\n",
              "      <td>1</td>\n",
              "      <td>5</td>\n",
              "      <td>0</td>\n",
              "      <td>2</td>\n",
              "      <td>3</td>\n",
              "    </tr>\n",
              "    <tr>\n",
              "      <th>3</th>\n",
              "      <td>101007</td>\n",
              "      <td>千代田区</td>\n",
              "      <td>大手町</td>\n",
              "      <td>大手町１丁目</td>\n",
              "      <td>35.688069</td>\n",
              "      <td>139.763929</td>\n",
              "      <td>1.826994</td>\n",
              "      <td>1</td>\n",
              "      <td>0.341004</td>\n",
              "      <td>4</td>\n",
              "      <td>0.341004</td>\n",
              "      <td>6</td>\n",
              "      <td>0</td>\n",
              "      <td>5</td>\n",
              "      <td>0</td>\n",
              "      <td>2</td>\n",
              "      <td>2</td>\n",
              "    </tr>\n",
              "    <tr>\n",
              "      <th>4</th>\n",
              "      <td>101008</td>\n",
              "      <td>千代田区</td>\n",
              "      <td>大手町</td>\n",
              "      <td>大手町２丁目</td>\n",
              "      <td>35.686301</td>\n",
              "      <td>139.768087</td>\n",
              "      <td>1.477759</td>\n",
              "      <td>2</td>\n",
              "      <td>0.323495</td>\n",
              "      <td>5</td>\n",
              "      <td>0.323495</td>\n",
              "      <td>7</td>\n",
              "      <td>0</td>\n",
              "      <td>3</td>\n",
              "      <td>0</td>\n",
              "      <td>1</td>\n",
              "      <td>0</td>\n",
              "    </tr>\n",
              "  </tbody>\n",
              "</table>\n",
              "</div>\n",
              "      <button class=\"colab-df-convert\" onclick=\"convertToInteractive('df-7d029a35-96ed-464a-a8e3-b04cbaa79ed2')\"\n",
              "              title=\"Convert this dataframe to an interactive table.\"\n",
              "              style=\"display:none;\">\n",
              "        \n",
              "  <svg xmlns=\"http://www.w3.org/2000/svg\" height=\"24px\"viewBox=\"0 0 24 24\"\n",
              "       width=\"24px\">\n",
              "    <path d=\"M0 0h24v24H0V0z\" fill=\"none\"/>\n",
              "    <path d=\"M18.56 5.44l.94 2.06.94-2.06 2.06-.94-2.06-.94-.94-2.06-.94 2.06-2.06.94zm-11 1L8.5 8.5l.94-2.06 2.06-.94-2.06-.94L8.5 2.5l-.94 2.06-2.06.94zm10 10l.94 2.06.94-2.06 2.06-.94-2.06-.94-.94-2.06-.94 2.06-2.06.94z\"/><path d=\"M17.41 7.96l-1.37-1.37c-.4-.4-.92-.59-1.43-.59-.52 0-1.04.2-1.43.59L10.3 9.45l-7.72 7.72c-.78.78-.78 2.05 0 2.83L4 21.41c.39.39.9.59 1.41.59.51 0 1.02-.2 1.41-.59l7.78-7.78 2.81-2.81c.8-.78.8-2.07 0-2.86zM5.41 20L4 18.59l7.72-7.72 1.47 1.35L5.41 20z\"/>\n",
              "  </svg>\n",
              "      </button>\n",
              "      \n",
              "  <style>\n",
              "    .colab-df-container {\n",
              "      display:flex;\n",
              "      flex-wrap:wrap;\n",
              "      gap: 12px;\n",
              "    }\n",
              "\n",
              "    .colab-df-convert {\n",
              "      background-color: #E8F0FE;\n",
              "      border: none;\n",
              "      border-radius: 50%;\n",
              "      cursor: pointer;\n",
              "      display: none;\n",
              "      fill: #1967D2;\n",
              "      height: 32px;\n",
              "      padding: 0 0 0 0;\n",
              "      width: 32px;\n",
              "    }\n",
              "\n",
              "    .colab-df-convert:hover {\n",
              "      background-color: #E2EBFA;\n",
              "      box-shadow: 0px 1px 2px rgba(60, 64, 67, 0.3), 0px 1px 3px 1px rgba(60, 64, 67, 0.15);\n",
              "      fill: #174EA6;\n",
              "    }\n",
              "\n",
              "    [theme=dark] .colab-df-convert {\n",
              "      background-color: #3B4455;\n",
              "      fill: #D2E3FC;\n",
              "    }\n",
              "\n",
              "    [theme=dark] .colab-df-convert:hover {\n",
              "      background-color: #434B5C;\n",
              "      box-shadow: 0px 1px 3px 1px rgba(0, 0, 0, 0.15);\n",
              "      filter: drop-shadow(0px 1px 2px rgba(0, 0, 0, 0.3));\n",
              "      fill: #FFFFFF;\n",
              "    }\n",
              "  </style>\n",
              "\n",
              "      <script>\n",
              "        const buttonEl =\n",
              "          document.querySelector('#df-7d029a35-96ed-464a-a8e3-b04cbaa79ed2 button.colab-df-convert');\n",
              "        buttonEl.style.display =\n",
              "          google.colab.kernel.accessAllowed ? 'block' : 'none';\n",
              "\n",
              "        async function convertToInteractive(key) {\n",
              "          const element = document.querySelector('#df-7d029a35-96ed-464a-a8e3-b04cbaa79ed2');\n",
              "          const dataTable =\n",
              "            await google.colab.kernel.invokeFunction('convertToInteractive',\n",
              "                                                     [key], {});\n",
              "          if (!dataTable) return;\n",
              "\n",
              "          const docLinkHtml = 'Like what you see? Visit the ' +\n",
              "            '<a target=\"_blank\" href=https://colab.research.google.com/notebooks/data_table.ipynb>data table notebook</a>'\n",
              "            + ' to learn more about interactive tables.';\n",
              "          element.innerHTML = '';\n",
              "          dataTable['output_type'] = 'display_data';\n",
              "          await google.colab.output.renderOutput(dataTable, element);\n",
              "          const docLink = document.createElement('div');\n",
              "          docLink.innerHTML = docLinkHtml;\n",
              "          element.appendChild(docLink);\n",
              "        }\n",
              "      </script>\n",
              "    </div>\n",
              "  </div>\n",
              "  "
            ]
          },
          "metadata": {},
          "execution_count": 123
        }
      ]
    },
    {
      "cell_type": "code",
      "source": [
        "all_feature_list = []\n",
        "all_score_list = []"
      ],
      "metadata": {
        "id": "xPEDcBVgHqQE"
      },
      "execution_count": 124,
      "outputs": []
    },
    {
      "cell_type": "markdown",
      "source": [
        "### 運動場スコア"
      ],
      "metadata": {
        "id": "E7waBuS6HraF"
      }
    },
    {
      "cell_type": "code",
      "source": [
        "score_name = '運動場スコア'\n",
        "feature_list = {\n",
        "    '運動場他(最近傍距離)':       {'sort': -1, 'weight': 1}, \n",
        "    '運動場他(数)':               {'sort': 1, 'weight': 0.7},\n",
        "}\n",
        "all_feature_list += list(feature_list.keys())\n",
        "all_score_list.append(score_name)"
      ],
      "metadata": {
        "id": "yh5SUsqcf2Zk"
      },
      "execution_count": 125,
      "outputs": []
    },
    {
      "cell_type": "code",
      "source": [
        "for feature_name in feature_list.keys():\n",
        "    sns.histplot(df_geo_master[feature_name], bins=20)\n",
        "    plt.show()"
      ],
      "metadata": {
        "colab": {
          "base_uri": "https://localhost:8080/",
          "height": 539
        },
        "id": "Onguh3i3RhjQ",
        "outputId": "4a0b216a-6da6-4d91-8ce2-5c0771521f40"
      },
      "execution_count": 126,
      "outputs": [
        {
          "output_type": "display_data",
          "data": {
            "text/plain": [
              "<Figure size 432x288 with 1 Axes>"
            ],
            "image/png": "[encoded data removed]"
          },
          "metadata": {
            "needs_background": "light"
          }
        },
        {
          "output_type": "display_data",
          "data": {
            "text/plain": [
              "<Figure size 432x288 with 1 Axes>"
            ],
            "image/png": "[encoded data removed]"
          },
          "metadata": {
            "needs_background": "light"
          }
        }
      ]
    },
    {
      "cell_type": "code",
      "source": [
        "score_list = []\n",
        "for key, value in feature_list.items():\n",
        "    df_geo_master[f'{key}レベル'] = rank_score(df_geo_master[key] * value['sort'])\n",
        "    score_list.append(df_geo_master[f'{key}レベル'] * value['weight'])\n",
        "\n",
        "_tmp_score = pd.concat(score_list, axis=1).sum(axis=1, skipna=False)\n",
        "df_geo_master[score_name] = rank_score(_tmp_score)"
      ],
      "metadata": {
        "id": "O_t4w8yzRwTg"
      },
      "execution_count": 127,
      "outputs": []
    },
    {
      "cell_type": "code",
      "source": [
        "sns.histplot(_tmp_score, bins=20)\n",
        "plt.show()"
      ],
      "metadata": {
        "colab": {
          "base_uri": "https://localhost:8080/",
          "height": 264
        },
        "id": "KGwzR6tmR0jG",
        "outputId": "7bdc4bdc-b90e-4b31-9047-e8217bfc7be1"
      },
      "execution_count": 128,
      "outputs": [
        {
          "output_type": "display_data",
          "data": {
            "text/plain": [
              "<Figure size 432x288 with 1 Axes>"
            ],
            "image/png": "[encoded data removed]"
          },
          "metadata": {
            "needs_background": "light"
          }
        }
      ]
    },
    {
      "cell_type": "code",
      "source": [
        "sns.histplot(df_geo_master[score_name], bins=20)\n",
        "plt.show()"
      ],
      "metadata": {
        "id": "_37wq81ugWpy",
        "outputId": "2317f59c-3bd3-4eb4-8d0d-072843e1d804",
        "colab": {
          "base_uri": "https://localhost:8080/",
          "height": 278
        }
      },
      "execution_count": 129,
      "outputs": [
        {
          "output_type": "display_data",
          "data": {
            "text/plain": [
              "<Figure size 432x288 with 1 Axes>"
            ],
            "image/png": "[encoded data removed]"
          },
          "metadata": {
            "needs_background": "light"
          }
        }
      ]
    },
    {
      "cell_type": "code",
      "source": [
        "df_geo_master[score_name].describe()"
      ],
      "metadata": {
        "id": "NRH6vpCf1S6C",
        "outputId": "31371978-a834-470a-d604-016f5fcdc392",
        "colab": {
          "base_uri": "https://localhost:8080/"
        }
      },
      "execution_count": 130,
      "outputs": [
        {
          "output_type": "execute_result",
          "data": {
            "text/plain": [
              "count    3145.000000\n",
              "mean        2.498409\n",
              "std         1.444983\n",
              "min         0.000000\n",
              "25%         1.247613\n",
              "50%         2.498409\n",
              "75%         3.749204\n",
              "max         5.000000\n",
              "Name: 運動場スコア, dtype: float64"
            ]
          },
          "metadata": {},
          "execution_count": 130
        }
      ]
    },
    {
      "cell_type": "markdown",
      "source": [
        "### 体育館スコア"
      ],
      "metadata": {
        "id": "d0G2GfoKH-TW"
      }
    },
    {
      "cell_type": "code",
      "source": [
        "score_name = '体育館スコア'\n",
        "feature_list = {\n",
        "    '体育館(最近傍距離)':       {'sort': -1, 'weight': 1}, \n",
        "    '体育館(数)':               {'sort': 1, 'weight': 0.7},\n",
        "}\n",
        "all_feature_list += list(feature_list.keys())\n",
        "all_score_list.append(score_name)"
      ],
      "metadata": {
        "id": "wsk0bWFLga3N"
      },
      "execution_count": 131,
      "outputs": []
    },
    {
      "cell_type": "code",
      "source": [
        "for feature_name in feature_list.keys():\n",
        "    sns.histplot(df_geo_master[feature_name], bins=20)\n",
        "    plt.show()"
      ],
      "metadata": {
        "id": "WIf_96eTHaMZ",
        "outputId": "d40f8180-9d47-4733-b148-55d8fada6d4f",
        "colab": {
          "base_uri": "https://localhost:8080/",
          "height": 539
        }
      },
      "execution_count": 132,
      "outputs": [
        {
          "output_type": "display_data",
          "data": {
            "text/plain": [
              "<Figure size 432x288 with 1 Axes>"
            ],
            "image/png": "[encoded data removed]"
          },
          "metadata": {
            "needs_background": "light"
          }
        },
        {
          "output_type": "display_data",
          "data": {
            "text/plain": [
              "<Figure size 432x288 with 1 Axes>"
            ],
            "image/png": "[encoded data removed]"
          },
          "metadata": {
            "needs_background": "light"
          }
        }
      ]
    },
    {
      "cell_type": "code",
      "source": [
        "score_list = []\n",
        "for key, value in feature_list.items():\n",
        "    df_geo_master[f'{key}レベル'] = rank_score(df_geo_master[key] * value['sort'])\n",
        "    score_list.append(df_geo_master[f'{key}レベル'] * value['weight'])\n",
        "\n",
        "_tmp_score = pd.concat(score_list, axis=1).sum(axis=1, skipna=False)\n",
        "df_geo_master[score_name] = rank_score(_tmp_score)"
      ],
      "metadata": {
        "id": "XyJ-qsO3HaJb"
      },
      "execution_count": 133,
      "outputs": []
    },
    {
      "cell_type": "code",
      "source": [
        "sns.histplot(_tmp_score, bins=20)\n",
        "plt.show()"
      ],
      "metadata": {
        "id": "eFtnm3qbHaGa",
        "outputId": "555ab194-fdd5-421e-ed70-a7f5bcbc92fc",
        "colab": {
          "base_uri": "https://localhost:8080/",
          "height": 264
        }
      },
      "execution_count": 134,
      "outputs": [
        {
          "output_type": "display_data",
          "data": {
            "text/plain": [
              "<Figure size 432x288 with 1 Axes>"
            ],
            "image/png": "[encoded data removed]"
          },
          "metadata": {
            "needs_background": "light"
          }
        }
      ]
    },
    {
      "cell_type": "code",
      "source": [
        "sns.histplot(df_geo_master[score_name], bins=20)\n",
        "plt.show()"
      ],
      "metadata": {
        "id": "3To1waJqgqOS",
        "outputId": "e8961818-ef4c-47de-b543-ada898f9b949",
        "colab": {
          "base_uri": "https://localhost:8080/",
          "height": 277
        }
      },
      "execution_count": 135,
      "outputs": [
        {
          "output_type": "display_data",
          "data": {
            "text/plain": [
              "<Figure size 432x288 with 1 Axes>"
            ],
            "image/png": "[encoded data removed]"
          },
          "metadata": {
            "needs_background": "light"
          }
        }
      ]
    },
    {
      "cell_type": "code",
      "source": [
        "df_geo_master[score_name].describe()"
      ],
      "metadata": {
        "id": "lSQO4WxW1dHV",
        "outputId": "73b69a38-162f-417f-eb3c-f010e4c2198d",
        "colab": {
          "base_uri": "https://localhost:8080/"
        }
      },
      "execution_count": 136,
      "outputs": [
        {
          "output_type": "execute_result",
          "data": {
            "text/plain": [
              "count    3145.000000\n",
              "mean        2.487614\n",
              "std         1.451218\n",
              "min         0.000000\n",
              "25%         1.231421\n",
              "50%         2.487614\n",
              "75%         3.743807\n",
              "max         5.000000\n",
              "Name: 体育館スコア, dtype: float64"
            ]
          },
          "metadata": {},
          "execution_count": 136
        }
      ]
    },
    {
      "cell_type": "markdown",
      "source": [
        "### プールスコア"
      ],
      "metadata": {
        "id": "pBeXwZouIA-Z"
      }
    },
    {
      "cell_type": "code",
      "source": [
        "score_name = 'プールスコア'\n",
        "feature_list = {\n",
        "    'プール(最近傍距離)':       {'sort': -1, 'weight': 1}, \n",
        "    'プール(数)':               {'sort': 1, 'weight': 0.7},\n",
        "}\n",
        "all_feature_list += list(feature_list.keys())\n",
        "all_score_list.append(score_name)"
      ],
      "metadata": {
        "id": "LOE8clBVgvf3"
      },
      "execution_count": 137,
      "outputs": []
    },
    {
      "cell_type": "code",
      "source": [
        "for feature_name in feature_list.keys():\n",
        "    sns.histplot(df_geo_master[feature_name], bins=20)\n",
        "    plt.show()"
      ],
      "metadata": {
        "id": "F_faBllLIIT-",
        "outputId": "2ce2d23f-2e1a-47a2-ced4-77d54ee7afe8",
        "colab": {
          "base_uri": "https://localhost:8080/",
          "height": 541
        }
      },
      "execution_count": 138,
      "outputs": [
        {
          "output_type": "display_data",
          "data": {
            "text/plain": [
              "<Figure size 432x288 with 1 Axes>"
            ],
            "image/png": "[encoded data removed]"
          },
          "metadata": {
            "needs_background": "light"
          }
        },
        {
          "output_type": "display_data",
          "data": {
            "text/plain": [
              "<Figure size 432x288 with 1 Axes>"
            ],
            "image/png": "[encoded data removed]"
          },
          "metadata": {
            "needs_background": "light"
          }
        }
      ]
    },
    {
      "cell_type": "code",
      "source": [
        "score_list = []\n",
        "for key, value in feature_list.items():\n",
        "    df_geo_master[f'{key}レベル'] = rank_score(df_geo_master[key] * value['sort'])\n",
        "    score_list.append(df_geo_master[f'{key}レベル'] * value['weight'])\n",
        "\n",
        "_tmp_score = pd.concat(score_list, axis=1).sum(axis=1, skipna=False)\n",
        "df_geo_master[score_name] = rank_score(_tmp_score)"
      ],
      "metadata": {
        "id": "ySonegMdIIOH"
      },
      "execution_count": 139,
      "outputs": []
    },
    {
      "cell_type": "code",
      "source": [
        "sns.histplot(_tmp_score, bins=20)\n",
        "plt.show()"
      ],
      "metadata": {
        "id": "8C7P6l9OIIGl",
        "outputId": "336715c8-0dbc-49db-aec7-131cfb6caf72",
        "colab": {
          "base_uri": "https://localhost:8080/",
          "height": 264
        }
      },
      "execution_count": 140,
      "outputs": [
        {
          "output_type": "display_data",
          "data": {
            "text/plain": [
              "<Figure size 432x288 with 1 Axes>"
            ],
            "image/png": "[encoded data removed]"
          },
          "metadata": {
            "needs_background": "light"
          }
        }
      ]
    },
    {
      "cell_type": "code",
      "source": [
        "sns.histplot(df_geo_master[score_name], bins=20)\n",
        "plt.show()"
      ],
      "metadata": {
        "id": "FFtJFnFPg7J1",
        "outputId": "06346bbc-5684-4dc3-8260-6f618f846d05",
        "colab": {
          "base_uri": "https://localhost:8080/",
          "height": 277
        }
      },
      "execution_count": 141,
      "outputs": [
        {
          "output_type": "display_data",
          "data": {
            "text/plain": [
              "<Figure size 432x288 with 1 Axes>"
            ],
            "image/png": "[encoded data removed]"
          },
          "metadata": {
            "needs_background": "light"
          }
        }
      ]
    },
    {
      "cell_type": "code",
      "source": [
        "df_geo_master[score_name].describe()"
      ],
      "metadata": {
        "id": "h3erq_Ik1jDq",
        "outputId": "e94750a5-4635-49bb-941d-7c45bca54920",
        "colab": {
          "base_uri": "https://localhost:8080/"
        }
      },
      "execution_count": 142,
      "outputs": [
        {
          "output_type": "execute_result",
          "data": {
            "text/plain": [
              "count    3145.000000\n",
              "mean        2.496018\n",
              "std         1.446364\n",
              "min         0.000000\n",
              "25%         1.244027\n",
              "50%         2.496018\n",
              "75%         3.748009\n",
              "max         5.000000\n",
              "Name: プールスコア, dtype: float64"
            ]
          },
          "metadata": {},
          "execution_count": 142
        }
      ]
    },
    {
      "cell_type": "markdown",
      "source": [
        "### フィットネス"
      ],
      "metadata": {
        "id": "jgrCeIzRegMZ"
      }
    },
    {
      "cell_type": "code",
      "source": [
        "score_name = 'フィットネススコア'\n",
        "feature_list = {\n",
        "    'フィットネス(数)':               {'sort': 1, 'weight': 1},\n",
        "    'テニス教室(数)':               {'sort': 1, 'weight': 0.5},\n",
        "    'ゴルフ練習場(数)':             {'sort': 1, 'weight': 0.5},\n",
        "}\n",
        "all_feature_list += list(feature_list.keys())\n",
        "all_score_list.append(score_name)"
      ],
      "metadata": {
        "id": "hmwgeyyuem4X"
      },
      "execution_count": 143,
      "outputs": []
    },
    {
      "cell_type": "code",
      "source": [
        "for feature_name in feature_list.keys():\n",
        "    sns.histplot(df_geo_master[feature_name], bins=20)\n",
        "    plt.show()"
      ],
      "metadata": {
        "id": "U2TPYPgXewuQ",
        "outputId": "428a4305-63ae-4497-f897-8b354f012038",
        "colab": {
          "base_uri": "https://localhost:8080/",
          "height": 804
        }
      },
      "execution_count": 144,
      "outputs": [
        {
          "output_type": "display_data",
          "data": {
            "text/plain": [
              "<Figure size 432x288 with 1 Axes>"
            ],
            "image/png": "[encoded data removed]"
          },
          "metadata": {
            "needs_background": "light"
          }
        },
        {
          "output_type": "display_data",
          "data": {
            "text/plain": [
              "<Figure size 432x288 with 1 Axes>"
            ],
            "image/png": "[encoded data removed]"
          },
          "metadata": {
            "needs_background": "light"
          }
        },
        {
          "output_type": "display_data",
          "data": {
            "text/plain": [
              "<Figure size 432x288 with 1 Axes>"
            ],
            "image/png": "[encoded data removed]"
          },
          "metadata": {
            "needs_background": "light"
          }
        }
      ]
    },
    {
      "cell_type": "code",
      "source": [
        "score_list = []\n",
        "for key, value in feature_list.items():\n",
        "    df_geo_master[f'{key}レベル'] = rank_score(df_geo_master[key] * value['sort'])\n",
        "    score_list.append(df_geo_master[f'{key}レベル'] * value['weight'])\n",
        "\n",
        "_tmp_score = pd.concat(score_list, axis=1).sum(axis=1, skipna=False)\n",
        "df_geo_master[score_name] = rank_score(_tmp_score)"
      ],
      "metadata": {
        "id": "Fn4BQjAWezGZ"
      },
      "execution_count": 145,
      "outputs": []
    },
    {
      "cell_type": "code",
      "source": [
        "sns.histplot(_tmp_score, bins=20)\n",
        "plt.show()"
      ],
      "metadata": {
        "id": "0jKPCOV8e08A",
        "outputId": "79c42173-a3cb-4171-d824-4ca09d330aef",
        "colab": {
          "base_uri": "https://localhost:8080/",
          "height": 264
        }
      },
      "execution_count": 146,
      "outputs": [
        {
          "output_type": "display_data",
          "data": {
            "text/plain": [
              "<Figure size 432x288 with 1 Axes>"
            ],
            "image/png": "[encoded data removed]"
          },
          "metadata": {
            "needs_background": "light"
          }
        }
      ]
    },
    {
      "cell_type": "code",
      "source": [
        "sns.histplot(df_geo_master[score_name], bins=20)\n",
        "plt.show()"
      ],
      "metadata": {
        "id": "PLgGR6bce2xU",
        "outputId": "adc5e9f3-3cd1-4f8e-db3e-7554765233ec",
        "colab": {
          "base_uri": "https://localhost:8080/",
          "height": 278
        }
      },
      "execution_count": 147,
      "outputs": [
        {
          "output_type": "display_data",
          "data": {
            "text/plain": [
              "<Figure size 432x288 with 1 Axes>"
            ],
            "image/png": "[encoded data removed]"
          },
          "metadata": {
            "needs_background": "light"
          }
        }
      ]
    },
    {
      "cell_type": "code",
      "source": [
        "df_geo_master[score_name].describe()"
      ],
      "metadata": {
        "id": "V6iznk4Fe4aB",
        "outputId": "a1886b0f-6f34-46b4-aa3c-f0215bed3457",
        "colab": {
          "base_uri": "https://localhost:8080/"
        }
      },
      "execution_count": 148,
      "outputs": [
        {
          "output_type": "execute_result",
          "data": {
            "text/plain": [
              "count    3145.000000\n",
              "mean        1.840201\n",
              "std         1.751382\n",
              "min         0.000000\n",
              "25%         0.000000\n",
              "50%         1.830151\n",
              "75%         3.226131\n",
              "max         5.000000\n",
              "Name: フィットネススコア, dtype: float64"
            ]
          },
          "metadata": {},
          "execution_count": 148
        }
      ]
    },
    {
      "cell_type": "markdown",
      "source": [
        "### 保存"
      ],
      "metadata": {
        "id": "ySZnii0BU2mP"
      }
    },
    {
      "cell_type": "code",
      "source": [
        "all_feature_list"
      ],
      "metadata": {
        "id": "aBXrwj1FIUFd",
        "outputId": "16a83d60-84cd-46f1-df80-d17e5a985ef9",
        "colab": {
          "base_uri": "https://localhost:8080/"
        }
      },
      "execution_count": 149,
      "outputs": [
        {
          "output_type": "execute_result",
          "data": {
            "text/plain": [
              "['運動場他(最近傍距離)',\n",
              " '運動場他(数)',\n",
              " '体育館(最近傍距離)',\n",
              " '体育館(数)',\n",
              " 'プール(最近傍距離)',\n",
              " 'プール(数)',\n",
              " 'フィットネス(数)',\n",
              " 'テニス教室(数)',\n",
              " 'ゴルフ練習場(数)']"
            ]
          },
          "metadata": {},
          "execution_count": 149
        }
      ]
    },
    {
      "cell_type": "code",
      "source": [
        "all_score_list"
      ],
      "metadata": {
        "id": "R2RtHnJwIUlY",
        "outputId": "f1dc60bb-0d49-463a-bc0e-6ec3c6ea410c",
        "colab": {
          "base_uri": "https://localhost:8080/"
        }
      },
      "execution_count": 150,
      "outputs": [
        {
          "output_type": "execute_result",
          "data": {
            "text/plain": [
              "['運動場スコア', '体育館スコア', 'プールスコア', 'フィットネススコア']"
            ]
          },
          "metadata": {},
          "execution_count": 150
        }
      ]
    },
    {
      "cell_type": "code",
      "source": [
        "for col in [col for col in all_feature_list if '距離' in col]:\n",
        "    df_geo_master[col] = df_geo_master[col].round(3)\n",
        "\n",
        "for col in all_score_list:\n",
        "    df_geo_master[col] = df_geo_master[col].round(2)"
      ],
      "metadata": {
        "id": "uFlHtxLshSek"
      },
      "execution_count": 151,
      "outputs": []
    },
    {
      "cell_type": "code",
      "source": [
        "df_geo_master[\n",
        "    ['town_id'] + all_feature_list + all_score_list\n",
        "].to_csv(os.path.join(DIR_NAME, output_score_file), index=False, encoding='utf-8_sig')"
      ],
      "metadata": {
        "id": "zcsj2mFmSPIk"
      },
      "execution_count": 152,
      "outputs": []
    },
    {
      "cell_type": "markdown",
      "source": [
        "## 区ごとのスコア確認"
      ],
      "metadata": {
        "id": "jAAtfPEoIh7r"
      }
    },
    {
      "cell_type": "code",
      "source": [
        "for _score in all_score_list:\n",
        "    plt.figure(figsize=(15, 5))\n",
        "    sns.barplot(x='市区町村名', y=_score, data=df_geo_master)\n",
        "    plt.show()"
      ],
      "metadata": {
        "colab": {
          "base_uri": "https://localhost:8080/",
          "height": 1000
        },
        "id": "3tJjlj0keD_-",
        "outputId": "e0eb95e0-1a23-45c2-cf29-1c00bd7bab3a"
      },
      "execution_count": 153,
      "outputs": [
        {
          "output_type": "display_data",
          "data": {
            "text/plain": [
              "<Figure size 1080x360 with 1 Axes>"
            ],
            "image/png": "[encoded data removed]"
          },
          "metadata": {
            "needs_background": "light"
          }
        },
        {
          "output_type": "display_data",
          "data": {
            "text/plain": [
              "<Figure size 1080x360 with 1 Axes>"
            ],
            "image/png": "[encoded data removed]"
          },
          "metadata": {
            "needs_background": "light"
          }
        },
        {
          "output_type": "display_data",
          "data": {
            "text/plain": [
              "<Figure size 1080x360 with 1 Axes>"
            ],
            "image/png": "[encoded data removed]"
          },
          "metadata": {
            "needs_background": "light"
          }
        },
        {
          "output_type": "display_data",
          "data": {
            "text/plain": [
              "<Figure size 1080x360 with 1 Axes>"
            ],
            "image/png": "[encoded data removed]"
          },
          "metadata": {
            "needs_background": "light"
          }
        }
      ]
    },
    {
      "cell_type": "code",
      "source": [
        "def get_score_top(df_data, target, ):\n",
        "    df_level = df_data.copy()\n",
        "    score_name = f'{target}スコア'\n",
        "    feature_cols = [col for col in all_feature_list if col.startswith(target)]\n",
        "    df_level['rank'] = df_level.groupby('町名')[score_name].transform('rank', ascending=False)\n",
        "    df_level = df_level[df_level['rank'] == 1].sort_values(score_name, ascending=False)[\n",
        "        ['市区町村名', '町名', '町丁目'] + feature_cols + [score_name]\n",
        "    ].reset_index(drop=True)\n",
        "    return df_level"
      ],
      "metadata": {
        "id": "1uo9GIIvStL_"
      },
      "execution_count": 154,
      "outputs": []
    },
    {
      "cell_type": "code",
      "source": [
        "df_level = get_score_top(df_geo_master, '運動場')\n",
        "print(df_level.shape)\n",
        "df_level.head(10)"
      ],
      "metadata": {
        "colab": {
          "base_uri": "https://localhost:8080/",
          "height": 380
        },
        "id": "HmlzRQiaZZZC",
        "outputId": "7e5cf7a5-be0b-4e4f-c1f3-3a822c97f7dc"
      },
      "execution_count": 155,
      "outputs": [
        {
          "output_type": "stream",
          "name": "stdout",
          "text": [
            "(900, 6)\n"
          ]
        },
        {
          "output_type": "execute_result",
          "data": {
            "text/plain": [
              "  市区町村名    町名      町丁目  運動場他(最近傍距離)  運動場他(数)  運動場スコア\n",
              "0   墨田区   東墨田   東墨田１丁目        0.062       16    5.00\n",
              "1   墨田区    堤通    堤通２丁目        0.108       22    5.00\n",
              "2   荒川区   東尾久   東尾久７丁目        0.090       11    4.99\n",
              "3   足立区  千住桜木  千住桜木２丁目        0.052       12    4.99\n",
              "4   葛飾区    小菅    小菅１丁目        0.100       18    4.99\n",
              "5   葛飾区   四つ木   四つ木３丁目        0.151       22    4.99\n",
              "6   葛飾区  東四つ木  東四つ木３丁目        0.196       19    4.98\n",
              "7   台東区   日本堤   日本堤２丁目        0.017        9    4.98\n",
              "8   葛飾区   東立石   東立石３丁目        0.191       17    4.98\n",
              "9   墨田区    向島    向島５丁目        0.082        9    4.98"
            ],
            "text/html": [
              "\n",
              "  <div id=\"df-313a2be7-0e27-4dbf-920a-120b83575152\">\n",
              "    <div class=\"colab-df-container\">\n",
              "      <div>\n",
              "<style scoped>\n",
              "    .dataframe tbody tr th:only-of-type {\n",
              "        vertical-align: middle;\n",
              "    }\n",
              "\n",
              "    .dataframe tbody tr th {\n",
              "        vertical-align: top;\n",
              "    }\n",
              "\n",
              "    .dataframe thead th {\n",
              "        text-align: right;\n",
              "    }\n",
              "</style>\n",
              "<table border=\"1\" class=\"dataframe\">\n",
              "  <thead>\n",
              "    <tr style=\"text-align: right;\">\n",
              "      <th></th>\n",
              "      <th>市区町村名</th>\n",
              "      <th>町名</th>\n",
              "      <th>町丁目</th>\n",
              "      <th>運動場他(最近傍距離)</th>\n",
              "      <th>運動場他(数)</th>\n",
              "      <th>運動場スコア</th>\n",
              "    </tr>\n",
              "  </thead>\n",
              "  <tbody>\n",
              "    <tr>\n",
              "      <th>0</th>\n",
              "      <td>墨田区</td>\n",
              "      <td>東墨田</td>\n",
              "      <td>東墨田１丁目</td>\n",
              "      <td>0.062</td>\n",
              "      <td>16</td>\n",
              "      <td>5.00</td>\n",
              "    </tr>\n",
              "    <tr>\n",
              "      <th>1</th>\n",
              "      <td>墨田区</td>\n",
              "      <td>堤通</td>\n",
              "      <td>堤通２丁目</td>\n",
              "      <td>0.108</td>\n",
              "      <td>22</td>\n",
              "      <td>5.00</td>\n",
              "    </tr>\n",
              "    <tr>\n",
              "      <th>2</th>\n",
              "      <td>荒川区</td>\n",
              "      <td>東尾久</td>\n",
              "      <td>東尾久７丁目</td>\n",
              "      <td>0.090</td>\n",
              "      <td>11</td>\n",
              "      <td>4.99</td>\n",
              "    </tr>\n",
              "    <tr>\n",
              "      <th>3</th>\n",
              "      <td>足立区</td>\n",
              "      <td>千住桜木</td>\n",
              "      <td>千住桜木２丁目</td>\n",
              "      <td>0.052</td>\n",
              "      <td>12</td>\n",
              "      <td>4.99</td>\n",
              "    </tr>\n",
              "    <tr>\n",
              "      <th>4</th>\n",
              "      <td>葛飾区</td>\n",
              "      <td>小菅</td>\n",
              "      <td>小菅１丁目</td>\n",
              "      <td>0.100</td>\n",
              "      <td>18</td>\n",
              "      <td>4.99</td>\n",
              "    </tr>\n",
              "    <tr>\n",
              "      <th>5</th>\n",
              "      <td>葛飾区</td>\n",
              "      <td>四つ木</td>\n",
              "      <td>四つ木３丁目</td>\n",
              "      <td>0.151</td>\n",
              "      <td>22</td>\n",
              "      <td>4.99</td>\n",
              "    </tr>\n",
              "    <tr>\n",
              "      <th>6</th>\n",
              "      <td>葛飾区</td>\n",
              "      <td>東四つ木</td>\n",
              "      <td>東四つ木３丁目</td>\n",
              "      <td>0.196</td>\n",
              "      <td>19</td>\n",
              "      <td>4.98</td>\n",
              "    </tr>\n",
              "    <tr>\n",
              "      <th>7</th>\n",
              "      <td>台東区</td>\n",
              "      <td>日本堤</td>\n",
              "      <td>日本堤２丁目</td>\n",
              "      <td>0.017</td>\n",
              "      <td>9</td>\n",
              "      <td>4.98</td>\n",
              "    </tr>\n",
              "    <tr>\n",
              "      <th>8</th>\n",
              "      <td>葛飾区</td>\n",
              "      <td>東立石</td>\n",
              "      <td>東立石３丁目</td>\n",
              "      <td>0.191</td>\n",
              "      <td>17</td>\n",
              "      <td>4.98</td>\n",
              "    </tr>\n",
              "    <tr>\n",
              "      <th>9</th>\n",
              "      <td>墨田区</td>\n",
              "      <td>向島</td>\n",
              "      <td>向島５丁目</td>\n",
              "      <td>0.082</td>\n",
              "      <td>9</td>\n",
              "      <td>4.98</td>\n",
              "    </tr>\n",
              "  </tbody>\n",
              "</table>\n",
              "</div>\n",
              "      <button class=\"colab-df-convert\" onclick=\"convertToInteractive('df-313a2be7-0e27-4dbf-920a-120b83575152')\"\n",
              "              title=\"Convert this dataframe to an interactive table.\"\n",
              "              style=\"display:none;\">\n",
              "        \n",
              "  <svg xmlns=\"http://www.w3.org/2000/svg\" height=\"24px\"viewBox=\"0 0 24 24\"\n",
              "       width=\"24px\">\n",
              "    <path d=\"M0 0h24v24H0V0z\" fill=\"none\"/>\n",
              "    <path d=\"M18.56 5.44l.94 2.06.94-2.06 2.06-.94-2.06-.94-.94-2.06-.94 2.06-2.06.94zm-11 1L8.5 8.5l.94-2.06 2.06-.94-2.06-.94L8.5 2.5l-.94 2.06-2.06.94zm10 10l.94 2.06.94-2.06 2.06-.94-2.06-.94-.94-2.06-.94 2.06-2.06.94z\"/><path d=\"M17.41 7.96l-1.37-1.37c-.4-.4-.92-.59-1.43-.59-.52 0-1.04.2-1.43.59L10.3 9.45l-7.72 7.72c-.78.78-.78 2.05 0 2.83L4 21.41c.39.39.9.59 1.41.59.51 0 1.02-.2 1.41-.59l7.78-7.78 2.81-2.81c.8-.78.8-2.07 0-2.86zM5.41 20L4 18.59l7.72-7.72 1.47 1.35L5.41 20z\"/>\n",
              "  </svg>\n",
              "      </button>\n",
              "      \n",
              "  <style>\n",
              "    .colab-df-container {\n",
              "      display:flex;\n",
              "      flex-wrap:wrap;\n",
              "      gap: 12px;\n",
              "    }\n",
              "\n",
              "    .colab-df-convert {\n",
              "      background-color: #E8F0FE;\n",
              "      border: none;\n",
              "      border-radius: 50%;\n",
              "      cursor: pointer;\n",
              "      display: none;\n",
              "      fill: #1967D2;\n",
              "      height: 32px;\n",
              "      padding: 0 0 0 0;\n",
              "      width: 32px;\n",
              "    }\n",
              "\n",
              "    .colab-df-convert:hover {\n",
              "      background-color: #E2EBFA;\n",
              "      box-shadow: 0px 1px 2px rgba(60, 64, 67, 0.3), 0px 1px 3px 1px rgba(60, 64, 67, 0.15);\n",
              "      fill: #174EA6;\n",
              "    }\n",
              "\n",
              "    [theme=dark] .colab-df-convert {\n",
              "      background-color: #3B4455;\n",
              "      fill: #D2E3FC;\n",
              "    }\n",
              "\n",
              "    [theme=dark] .colab-df-convert:hover {\n",
              "      background-color: #434B5C;\n",
              "      box-shadow: 0px 1px 3px 1px rgba(0, 0, 0, 0.15);\n",
              "      filter: drop-shadow(0px 1px 2px rgba(0, 0, 0, 0.3));\n",
              "      fill: #FFFFFF;\n",
              "    }\n",
              "  </style>\n",
              "\n",
              "      <script>\n",
              "        const buttonEl =\n",
              "          document.querySelector('#df-313a2be7-0e27-4dbf-920a-120b83575152 button.colab-df-convert');\n",
              "        buttonEl.style.display =\n",
              "          google.colab.kernel.accessAllowed ? 'block' : 'none';\n",
              "\n",
              "        async function convertToInteractive(key) {\n",
              "          const element = document.querySelector('#df-313a2be7-0e27-4dbf-920a-120b83575152');\n",
              "          const dataTable =\n",
              "            await google.colab.kernel.invokeFunction('convertToInteractive',\n",
              "                                                     [key], {});\n",
              "          if (!dataTable) return;\n",
              "\n",
              "          const docLinkHtml = 'Like what you see? Visit the ' +\n",
              "            '<a target=\"_blank\" href=https://colab.research.google.com/notebooks/data_table.ipynb>data table notebook</a>'\n",
              "            + ' to learn more about interactive tables.';\n",
              "          element.innerHTML = '';\n",
              "          dataTable['output_type'] = 'display_data';\n",
              "          await google.colab.output.renderOutput(dataTable, element);\n",
              "          const docLink = document.createElement('div');\n",
              "          docLink.innerHTML = docLinkHtml;\n",
              "          element.appendChild(docLink);\n",
              "        }\n",
              "      </script>\n",
              "    </div>\n",
              "  </div>\n",
              "  "
            ]
          },
          "metadata": {},
          "execution_count": 155
        }
      ]
    },
    {
      "cell_type": "code",
      "source": [
        "df_level.tail(10)"
      ],
      "metadata": {
        "colab": {
          "base_uri": "https://localhost:8080/",
          "height": 363
        },
        "id": "qAA-c_8MaoIQ",
        "outputId": "adfb11a7-0380-4cc3-b657-c7000674362f"
      },
      "execution_count": 156,
      "outputs": [
        {
          "output_type": "execute_result",
          "data": {
            "text/plain": [
              "    市区町村名         町名        町丁目  運動場他(最近傍距離)  運動場他(数)  運動場スコア\n",
              "890  江戸川区        東松本     東松本１丁目        2.311        0    0.13\n",
              "891   練馬区       西大泉町       西大泉町        2.344        0    0.12\n",
              "892  江戸川区         松本      松本２丁目        2.383        0    0.11\n",
              "893  千代田区        有楽町     有楽町１丁目        2.387        0    0.10\n",
              "894   江東区         若洲      若洲１丁目        2.462        0    0.07\n",
              "895   杉並区         松庵      松庵３丁目        2.495        0    0.07\n",
              "896   板橋区        東新町     東新町１丁目        2.521        0    0.06\n",
              "897  千代田区       皇居外苑       皇居外苑        2.523        0    0.06\n",
              "898   大田区      羽田沖水面      羽田沖水面        4.040        0    0.00\n",
              "899   大田区  ふるさとの浜辺公園  ふるさとの浜辺公園        4.040        0    0.00"
            ],
            "text/html": [
              "\n",
              "  <div id=\"df-f2f28b92-7d46-4e83-a6de-bf4a179c7e7c\">\n",
              "    <div class=\"colab-df-container\">\n",
              "      <div>\n",
              "<style scoped>\n",
              "    .dataframe tbody tr th:only-of-type {\n",
              "        vertical-align: middle;\n",
              "    }\n",
              "\n",
              "    .dataframe tbody tr th {\n",
              "        vertical-align: top;\n",
              "    }\n",
              "\n",
              "    .dataframe thead th {\n",
              "        text-align: right;\n",
              "    }\n",
              "</style>\n",
              "<table border=\"1\" class=\"dataframe\">\n",
              "  <thead>\n",
              "    <tr style=\"text-align: right;\">\n",
              "      <th></th>\n",
              "      <th>市区町村名</th>\n",
              "      <th>町名</th>\n",
              "      <th>町丁目</th>\n",
              "      <th>運動場他(最近傍距離)</th>\n",
              "      <th>運動場他(数)</th>\n",
              "      <th>運動場スコア</th>\n",
              "    </tr>\n",
              "  </thead>\n",
              "  <tbody>\n",
              "    <tr>\n",
              "      <th>890</th>\n",
              "      <td>江戸川区</td>\n",
              "      <td>東松本</td>\n",
              "      <td>東松本１丁目</td>\n",
              "      <td>2.311</td>\n",
              "      <td>0</td>\n",
              "      <td>0.13</td>\n",
              "    </tr>\n",
              "    <tr>\n",
              "      <th>891</th>\n",
              "      <td>練馬区</td>\n",
              "      <td>西大泉町</td>\n",
              "      <td>西大泉町</td>\n",
              "      <td>2.344</td>\n",
              "      <td>0</td>\n",
              "      <td>0.12</td>\n",
              "    </tr>\n",
              "    <tr>\n",
              "      <th>892</th>\n",
              "      <td>江戸川区</td>\n",
              "      <td>松本</td>\n",
              "      <td>松本２丁目</td>\n",
              "      <td>2.383</td>\n",
              "      <td>0</td>\n",
              "      <td>0.11</td>\n",
              "    </tr>\n",
              "    <tr>\n",
              "      <th>893</th>\n",
              "      <td>千代田区</td>\n",
              "      <td>有楽町</td>\n",
              "      <td>有楽町１丁目</td>\n",
              "      <td>2.387</td>\n",
              "      <td>0</td>\n",
              "      <td>0.10</td>\n",
              "    </tr>\n",
              "    <tr>\n",
              "      <th>894</th>\n",
              "      <td>江東区</td>\n",
              "      <td>若洲</td>\n",
              "      <td>若洲１丁目</td>\n",
              "      <td>2.462</td>\n",
              "      <td>0</td>\n",
              "      <td>0.07</td>\n",
              "    </tr>\n",
              "    <tr>\n",
              "      <th>895</th>\n",
              "      <td>杉並区</td>\n",
              "      <td>松庵</td>\n",
              "      <td>松庵３丁目</td>\n",
              "      <td>2.495</td>\n",
              "      <td>0</td>\n",
              "      <td>0.07</td>\n",
              "    </tr>\n",
              "    <tr>\n",
              "      <th>896</th>\n",
              "      <td>板橋区</td>\n",
              "      <td>東新町</td>\n",
              "      <td>東新町１丁目</td>\n",
              "      <td>2.521</td>\n",
              "      <td>0</td>\n",
              "      <td>0.06</td>\n",
              "    </tr>\n",
              "    <tr>\n",
              "      <th>897</th>\n",
              "      <td>千代田区</td>\n",
              "      <td>皇居外苑</td>\n",
              "      <td>皇居外苑</td>\n",
              "      <td>2.523</td>\n",
              "      <td>0</td>\n",
              "      <td>0.06</td>\n",
              "    </tr>\n",
              "    <tr>\n",
              "      <th>898</th>\n",
              "      <td>大田区</td>\n",
              "      <td>羽田沖水面</td>\n",
              "      <td>羽田沖水面</td>\n",
              "      <td>4.040</td>\n",
              "      <td>0</td>\n",
              "      <td>0.00</td>\n",
              "    </tr>\n",
              "    <tr>\n",
              "      <th>899</th>\n",
              "      <td>大田区</td>\n",
              "      <td>ふるさとの浜辺公園</td>\n",
              "      <td>ふるさとの浜辺公園</td>\n",
              "      <td>4.040</td>\n",
              "      <td>0</td>\n",
              "      <td>0.00</td>\n",
              "    </tr>\n",
              "  </tbody>\n",
              "</table>\n",
              "</div>\n",
              "      <button class=\"colab-df-convert\" onclick=\"convertToInteractive('df-f2f28b92-7d46-4e83-a6de-bf4a179c7e7c')\"\n",
              "              title=\"Convert this dataframe to an interactive table.\"\n",
              "              style=\"display:none;\">\n",
              "        \n",
              "  <svg xmlns=\"http://www.w3.org/2000/svg\" height=\"24px\"viewBox=\"0 0 24 24\"\n",
              "       width=\"24px\">\n",
              "    <path d=\"M0 0h24v24H0V0z\" fill=\"none\"/>\n",
              "    <path d=\"M18.56 5.44l.94 2.06.94-2.06 2.06-.94-2.06-.94-.94-2.06-.94 2.06-2.06.94zm-11 1L8.5 8.5l.94-2.06 2.06-.94-2.06-.94L8.5 2.5l-.94 2.06-2.06.94zm10 10l.94 2.06.94-2.06 2.06-.94-2.06-.94-.94-2.06-.94 2.06-2.06.94z\"/><path d=\"M17.41 7.96l-1.37-1.37c-.4-.4-.92-.59-1.43-.59-.52 0-1.04.2-1.43.59L10.3 9.45l-7.72 7.72c-.78.78-.78 2.05 0 2.83L4 21.41c.39.39.9.59 1.41.59.51 0 1.02-.2 1.41-.59l7.78-7.78 2.81-2.81c.8-.78.8-2.07 0-2.86zM5.41 20L4 18.59l7.72-7.72 1.47 1.35L5.41 20z\"/>\n",
              "  </svg>\n",
              "      </button>\n",
              "      \n",
              "  <style>\n",
              "    .colab-df-container {\n",
              "      display:flex;\n",
              "      flex-wrap:wrap;\n",
              "      gap: 12px;\n",
              "    }\n",
              "\n",
              "    .colab-df-convert {\n",
              "      background-color: #E8F0FE;\n",
              "      border: none;\n",
              "      border-radius: 50%;\n",
              "      cursor: pointer;\n",
              "      display: none;\n",
              "      fill: #1967D2;\n",
              "      height: 32px;\n",
              "      padding: 0 0 0 0;\n",
              "      width: 32px;\n",
              "    }\n",
              "\n",
              "    .colab-df-convert:hover {\n",
              "      background-color: #E2EBFA;\n",
              "      box-shadow: 0px 1px 2px rgba(60, 64, 67, 0.3), 0px 1px 3px 1px rgba(60, 64, 67, 0.15);\n",
              "      fill: #174EA6;\n",
              "    }\n",
              "\n",
              "    [theme=dark] .colab-df-convert {\n",
              "      background-color: #3B4455;\n",
              "      fill: #D2E3FC;\n",
              "    }\n",
              "\n",
              "    [theme=dark] .colab-df-convert:hover {\n",
              "      background-color: #434B5C;\n",
              "      box-shadow: 0px 1px 3px 1px rgba(0, 0, 0, 0.15);\n",
              "      filter: drop-shadow(0px 1px 2px rgba(0, 0, 0, 0.3));\n",
              "      fill: #FFFFFF;\n",
              "    }\n",
              "  </style>\n",
              "\n",
              "      <script>\n",
              "        const buttonEl =\n",
              "          document.querySelector('#df-f2f28b92-7d46-4e83-a6de-bf4a179c7e7c button.colab-df-convert');\n",
              "        buttonEl.style.display =\n",
              "          google.colab.kernel.accessAllowed ? 'block' : 'none';\n",
              "\n",
              "        async function convertToInteractive(key) {\n",
              "          const element = document.querySelector('#df-f2f28b92-7d46-4e83-a6de-bf4a179c7e7c');\n",
              "          const dataTable =\n",
              "            await google.colab.kernel.invokeFunction('convertToInteractive',\n",
              "                                                     [key], {});\n",
              "          if (!dataTable) return;\n",
              "\n",
              "          const docLinkHtml = 'Like what you see? Visit the ' +\n",
              "            '<a target=\"_blank\" href=https://colab.research.google.com/notebooks/data_table.ipynb>data table notebook</a>'\n",
              "            + ' to learn more about interactive tables.';\n",
              "          element.innerHTML = '';\n",
              "          dataTable['output_type'] = 'display_data';\n",
              "          await google.colab.output.renderOutput(dataTable, element);\n",
              "          const docLink = document.createElement('div');\n",
              "          docLink.innerHTML = docLinkHtml;\n",
              "          element.appendChild(docLink);\n",
              "        }\n",
              "      </script>\n",
              "    </div>\n",
              "  </div>\n",
              "  "
            ]
          },
          "metadata": {},
          "execution_count": 156
        }
      ]
    },
    {
      "cell_type": "code",
      "source": [
        "df_level = get_score_top(df_geo_master, '体育館')\n",
        "print(df_level.shape)\n",
        "df_level.head(10)"
      ],
      "metadata": {
        "id": "Lk6O8Y3Dd5di",
        "outputId": "a17ca360-4948-411b-cda6-76964050dbf0",
        "colab": {
          "base_uri": "https://localhost:8080/",
          "height": 380
        }
      },
      "execution_count": 157,
      "outputs": [
        {
          "output_type": "stream",
          "name": "stdout",
          "text": [
            "(892, 6)\n"
          ]
        },
        {
          "output_type": "execute_result",
          "data": {
            "text/plain": [
              "  市区町村名      町名       町丁目  体育館(最近傍距離)  体育館(数)  体育館スコア\n",
              "0  千代田区   神田鍛冶町  神田鍛冶町３丁目       0.223       6    5.00\n",
              "1  千代田区     鍛冶町    鍛冶町２丁目       0.099       6    5.00\n",
              "2  千代田区   神田神保町  神田神保町３丁目       0.130       5    5.00\n",
              "3   文京区      湯島     湯島２丁目       0.124       5    5.00\n",
              "4  千代田区  神田北乗物町    神田北乗物町       0.208       5    4.99\n",
              "5  千代田区   神田富山町     神田富山町       0.258       6    4.99\n",
              "6  千代田区     九段南    九段南１丁目       0.134       5    4.99\n",
              "7   豊島区    雑司が谷   雑司が谷２丁目       0.226       5    4.98\n",
              "8  千代田区   神田美倉町     神田美倉町       0.252       5    4.98\n",
              "9  千代田区  神田西福田町    神田西福田町       0.227       5    4.98"
            ],
            "text/html": [
              "\n",
              "  <div id=\"df-97fe4f57-98a9-4b47-942d-e81c418be198\">\n",
              "    <div class=\"colab-df-container\">\n",
              "      <div>\n",
              "<style scoped>\n",
              "    .dataframe tbody tr th:only-of-type {\n",
              "        vertical-align: middle;\n",
              "    }\n",
              "\n",
              "    .dataframe tbody tr th {\n",
              "        vertical-align: top;\n",
              "    }\n",
              "\n",
              "    .dataframe thead th {\n",
              "        text-align: right;\n",
              "    }\n",
              "</style>\n",
              "<table border=\"1\" class=\"dataframe\">\n",
              "  <thead>\n",
              "    <tr style=\"text-align: right;\">\n",
              "      <th></th>\n",
              "      <th>市区町村名</th>\n",
              "      <th>町名</th>\n",
              "      <th>町丁目</th>\n",
              "      <th>体育館(最近傍距離)</th>\n",
              "      <th>体育館(数)</th>\n",
              "      <th>体育館スコア</th>\n",
              "    </tr>\n",
              "  </thead>\n",
              "  <tbody>\n",
              "    <tr>\n",
              "      <th>0</th>\n",
              "      <td>千代田区</td>\n",
              "      <td>神田鍛冶町</td>\n",
              "      <td>神田鍛冶町３丁目</td>\n",
              "      <td>0.223</td>\n",
              "      <td>6</td>\n",
              "      <td>5.00</td>\n",
              "    </tr>\n",
              "    <tr>\n",
              "      <th>1</th>\n",
              "      <td>千代田区</td>\n",
              "      <td>鍛冶町</td>\n",
              "      <td>鍛冶町２丁目</td>\n",
              "      <td>0.099</td>\n",
              "      <td>6</td>\n",
              "      <td>5.00</td>\n",
              "    </tr>\n",
              "    <tr>\n",
              "      <th>2</th>\n",
              "      <td>千代田区</td>\n",
              "      <td>神田神保町</td>\n",
              "      <td>神田神保町３丁目</td>\n",
              "      <td>0.130</td>\n",
              "      <td>5</td>\n",
              "      <td>5.00</td>\n",
              "    </tr>\n",
              "    <tr>\n",
              "      <th>3</th>\n",
              "      <td>文京区</td>\n",
              "      <td>湯島</td>\n",
              "      <td>湯島２丁目</td>\n",
              "      <td>0.124</td>\n",
              "      <td>5</td>\n",
              "      <td>5.00</td>\n",
              "    </tr>\n",
              "    <tr>\n",
              "      <th>4</th>\n",
              "      <td>千代田区</td>\n",
              "      <td>神田北乗物町</td>\n",
              "      <td>神田北乗物町</td>\n",
              "      <td>0.208</td>\n",
              "      <td>5</td>\n",
              "      <td>4.99</td>\n",
              "    </tr>\n",
              "    <tr>\n",
              "      <th>5</th>\n",
              "      <td>千代田区</td>\n",
              "      <td>神田富山町</td>\n",
              "      <td>神田富山町</td>\n",
              "      <td>0.258</td>\n",
              "      <td>6</td>\n",
              "      <td>4.99</td>\n",
              "    </tr>\n",
              "    <tr>\n",
              "      <th>6</th>\n",
              "      <td>千代田区</td>\n",
              "      <td>九段南</td>\n",
              "      <td>九段南１丁目</td>\n",
              "      <td>0.134</td>\n",
              "      <td>5</td>\n",
              "      <td>4.99</td>\n",
              "    </tr>\n",
              "    <tr>\n",
              "      <th>7</th>\n",
              "      <td>豊島区</td>\n",
              "      <td>雑司が谷</td>\n",
              "      <td>雑司が谷２丁目</td>\n",
              "      <td>0.226</td>\n",
              "      <td>5</td>\n",
              "      <td>4.98</td>\n",
              "    </tr>\n",
              "    <tr>\n",
              "      <th>8</th>\n",
              "      <td>千代田区</td>\n",
              "      <td>神田美倉町</td>\n",
              "      <td>神田美倉町</td>\n",
              "      <td>0.252</td>\n",
              "      <td>5</td>\n",
              "      <td>4.98</td>\n",
              "    </tr>\n",
              "    <tr>\n",
              "      <th>9</th>\n",
              "      <td>千代田区</td>\n",
              "      <td>神田西福田町</td>\n",
              "      <td>神田西福田町</td>\n",
              "      <td>0.227</td>\n",
              "      <td>5</td>\n",
              "      <td>4.98</td>\n",
              "    </tr>\n",
              "  </tbody>\n",
              "</table>\n",
              "</div>\n",
              "      <button class=\"colab-df-convert\" onclick=\"convertToInteractive('df-97fe4f57-98a9-4b47-942d-e81c418be198')\"\n",
              "              title=\"Convert this dataframe to an interactive table.\"\n",
              "              style=\"display:none;\">\n",
              "        \n",
              "  <svg xmlns=\"http://www.w3.org/2000/svg\" height=\"24px\"viewBox=\"0 0 24 24\"\n",
              "       width=\"24px\">\n",
              "    <path d=\"M0 0h24v24H0V0z\" fill=\"none\"/>\n",
              "    <path d=\"M18.56 5.44l.94 2.06.94-2.06 2.06-.94-2.06-.94-.94-2.06-.94 2.06-2.06.94zm-11 1L8.5 8.5l.94-2.06 2.06-.94-2.06-.94L8.5 2.5l-.94 2.06-2.06.94zm10 10l.94 2.06.94-2.06 2.06-.94-2.06-.94-.94-2.06-.94 2.06-2.06.94z\"/><path d=\"M17.41 7.96l-1.37-1.37c-.4-.4-.92-.59-1.43-.59-.52 0-1.04.2-1.43.59L10.3 9.45l-7.72 7.72c-.78.78-.78 2.05 0 2.83L4 21.41c.39.39.9.59 1.41.59.51 0 1.02-.2 1.41-.59l7.78-7.78 2.81-2.81c.8-.78.8-2.07 0-2.86zM5.41 20L4 18.59l7.72-7.72 1.47 1.35L5.41 20z\"/>\n",
              "  </svg>\n",
              "      </button>\n",
              "      \n",
              "  <style>\n",
              "    .colab-df-container {\n",
              "      display:flex;\n",
              "      flex-wrap:wrap;\n",
              "      gap: 12px;\n",
              "    }\n",
              "\n",
              "    .colab-df-convert {\n",
              "      background-color: #E8F0FE;\n",
              "      border: none;\n",
              "      border-radius: 50%;\n",
              "      cursor: pointer;\n",
              "      display: none;\n",
              "      fill: #1967D2;\n",
              "      height: 32px;\n",
              "      padding: 0 0 0 0;\n",
              "      width: 32px;\n",
              "    }\n",
              "\n",
              "    .colab-df-convert:hover {\n",
              "      background-color: #E2EBFA;\n",
              "      box-shadow: 0px 1px 2px rgba(60, 64, 67, 0.3), 0px 1px 3px 1px rgba(60, 64, 67, 0.15);\n",
              "      fill: #174EA6;\n",
              "    }\n",
              "\n",
              "    [theme=dark] .colab-df-convert {\n",
              "      background-color: #3B4455;\n",
              "      fill: #D2E3FC;\n",
              "    }\n",
              "\n",
              "    [theme=dark] .colab-df-convert:hover {\n",
              "      background-color: #434B5C;\n",
              "      box-shadow: 0px 1px 3px 1px rgba(0, 0, 0, 0.15);\n",
              "      filter: drop-shadow(0px 1px 2px rgba(0, 0, 0, 0.3));\n",
              "      fill: #FFFFFF;\n",
              "    }\n",
              "  </style>\n",
              "\n",
              "      <script>\n",
              "        const buttonEl =\n",
              "          document.querySelector('#df-97fe4f57-98a9-4b47-942d-e81c418be198 button.colab-df-convert');\n",
              "        buttonEl.style.display =\n",
              "          google.colab.kernel.accessAllowed ? 'block' : 'none';\n",
              "\n",
              "        async function convertToInteractive(key) {\n",
              "          const element = document.querySelector('#df-97fe4f57-98a9-4b47-942d-e81c418be198');\n",
              "          const dataTable =\n",
              "            await google.colab.kernel.invokeFunction('convertToInteractive',\n",
              "                                                     [key], {});\n",
              "          if (!dataTable) return;\n",
              "\n",
              "          const docLinkHtml = 'Like what you see? Visit the ' +\n",
              "            '<a target=\"_blank\" href=https://colab.research.google.com/notebooks/data_table.ipynb>data table notebook</a>'\n",
              "            + ' to learn more about interactive tables.';\n",
              "          element.innerHTML = '';\n",
              "          dataTable['output_type'] = 'display_data';\n",
              "          await google.colab.output.renderOutput(dataTable, element);\n",
              "          const docLink = document.createElement('div');\n",
              "          docLink.innerHTML = docLinkHtml;\n",
              "          element.appendChild(docLink);\n",
              "        }\n",
              "      </script>\n",
              "    </div>\n",
              "  </div>\n",
              "  "
            ]
          },
          "metadata": {},
          "execution_count": 157
        }
      ]
    },
    {
      "cell_type": "code",
      "source": [
        "df_level.tail(10)"
      ],
      "metadata": {
        "id": "wRURq_SFiaH6",
        "outputId": "8d0dde43-aced-4399-d331-8c1f8ed8be79",
        "colab": {
          "base_uri": "https://localhost:8080/",
          "height": 363
        }
      },
      "execution_count": 158,
      "outputs": [
        {
          "output_type": "execute_result",
          "data": {
            "text/plain": [
              "    市区町村名         町名        町丁目  体育館(最近傍距離)  体育館(数)  体育館スコア\n",
              "882   大田区        鵜の木     鵜の木３丁目       3.733       0    0.09\n",
              "883   大田区       南久が原    南久が原１丁目       3.792       0    0.08\n",
              "884  世田谷区        喜多見     喜多見６丁目       3.831       0    0.08\n",
              "885   中央区        豊海町        豊海町       3.990       0    0.07\n",
              "886   江東区         潮見      潮見１丁目       4.105       0    0.06\n",
              "887  世田谷区        宇奈根     宇奈根３丁目       4.538       0    0.04\n",
              "888   江東区         東雲      東雲１丁目       4.542       0    0.03\n",
              "889   品川区        東八潮        東八潮       5.076       0    0.00\n",
              "890   大田区      羽田沖水面      羽田沖水面       5.076       0    0.00\n",
              "891   大田区  ふるさとの浜辺公園  ふるさとの浜辺公園       5.076       0    0.00"
            ],
            "text/html": [
              "\n",
              "  <div id=\"df-fbb6018a-1b2f-47dd-91b3-9ee76477b511\">\n",
              "    <div class=\"colab-df-container\">\n",
              "      <div>\n",
              "<style scoped>\n",
              "    .dataframe tbody tr th:only-of-type {\n",
              "        vertical-align: middle;\n",
              "    }\n",
              "\n",
              "    .dataframe tbody tr th {\n",
              "        vertical-align: top;\n",
              "    }\n",
              "\n",
              "    .dataframe thead th {\n",
              "        text-align: right;\n",
              "    }\n",
              "</style>\n",
              "<table border=\"1\" class=\"dataframe\">\n",
              "  <thead>\n",
              "    <tr style=\"text-align: right;\">\n",
              "      <th></th>\n",
              "      <th>市区町村名</th>\n",
              "      <th>町名</th>\n",
              "      <th>町丁目</th>\n",
              "      <th>体育館(最近傍距離)</th>\n",
              "      <th>体育館(数)</th>\n",
              "      <th>体育館スコア</th>\n",
              "    </tr>\n",
              "  </thead>\n",
              "  <tbody>\n",
              "    <tr>\n",
              "      <th>882</th>\n",
              "      <td>大田区</td>\n",
              "      <td>鵜の木</td>\n",
              "      <td>鵜の木３丁目</td>\n",
              "      <td>3.733</td>\n",
              "      <td>0</td>\n",
              "      <td>0.09</td>\n",
              "    </tr>\n",
              "    <tr>\n",
              "      <th>883</th>\n",
              "      <td>大田区</td>\n",
              "      <td>南久が原</td>\n",
              "      <td>南久が原１丁目</td>\n",
              "      <td>3.792</td>\n",
              "      <td>0</td>\n",
              "      <td>0.08</td>\n",
              "    </tr>\n",
              "    <tr>\n",
              "      <th>884</th>\n",
              "      <td>世田谷区</td>\n",
              "      <td>喜多見</td>\n",
              "      <td>喜多見６丁目</td>\n",
              "      <td>3.831</td>\n",
              "      <td>0</td>\n",
              "      <td>0.08</td>\n",
              "    </tr>\n",
              "    <tr>\n",
              "      <th>885</th>\n",
              "      <td>中央区</td>\n",
              "      <td>豊海町</td>\n",
              "      <td>豊海町</td>\n",
              "      <td>3.990</td>\n",
              "      <td>0</td>\n",
              "      <td>0.07</td>\n",
              "    </tr>\n",
              "    <tr>\n",
              "      <th>886</th>\n",
              "      <td>江東区</td>\n",
              "      <td>潮見</td>\n",
              "      <td>潮見１丁目</td>\n",
              "      <td>4.105</td>\n",
              "      <td>0</td>\n",
              "      <td>0.06</td>\n",
              "    </tr>\n",
              "    <tr>\n",
              "      <th>887</th>\n",
              "      <td>世田谷区</td>\n",
              "      <td>宇奈根</td>\n",
              "      <td>宇奈根３丁目</td>\n",
              "      <td>4.538</td>\n",
              "      <td>0</td>\n",
              "      <td>0.04</td>\n",
              "    </tr>\n",
              "    <tr>\n",
              "      <th>888</th>\n",
              "      <td>江東区</td>\n",
              "      <td>東雲</td>\n",
              "      <td>東雲１丁目</td>\n",
              "      <td>4.542</td>\n",
              "      <td>0</td>\n",
              "      <td>0.03</td>\n",
              "    </tr>\n",
              "    <tr>\n",
              "      <th>889</th>\n",
              "      <td>品川区</td>\n",
              "      <td>東八潮</td>\n",
              "      <td>東八潮</td>\n",
              "      <td>5.076</td>\n",
              "      <td>0</td>\n",
              "      <td>0.00</td>\n",
              "    </tr>\n",
              "    <tr>\n",
              "      <th>890</th>\n",
              "      <td>大田区</td>\n",
              "      <td>羽田沖水面</td>\n",
              "      <td>羽田沖水面</td>\n",
              "      <td>5.076</td>\n",
              "      <td>0</td>\n",
              "      <td>0.00</td>\n",
              "    </tr>\n",
              "    <tr>\n",
              "      <th>891</th>\n",
              "      <td>大田区</td>\n",
              "      <td>ふるさとの浜辺公園</td>\n",
              "      <td>ふるさとの浜辺公園</td>\n",
              "      <td>5.076</td>\n",
              "      <td>0</td>\n",
              "      <td>0.00</td>\n",
              "    </tr>\n",
              "  </tbody>\n",
              "</table>\n",
              "</div>\n",
              "      <button class=\"colab-df-convert\" onclick=\"convertToInteractive('df-fbb6018a-1b2f-47dd-91b3-9ee76477b511')\"\n",
              "              title=\"Convert this dataframe to an interactive table.\"\n",
              "              style=\"display:none;\">\n",
              "        \n",
              "  <svg xmlns=\"http://www.w3.org/2000/svg\" height=\"24px\"viewBox=\"0 0 24 24\"\n",
              "       width=\"24px\">\n",
              "    <path d=\"M0 0h24v24H0V0z\" fill=\"none\"/>\n",
              "    <path d=\"M18.56 5.44l.94 2.06.94-2.06 2.06-.94-2.06-.94-.94-2.06-.94 2.06-2.06.94zm-11 1L8.5 8.5l.94-2.06 2.06-.94-2.06-.94L8.5 2.5l-.94 2.06-2.06.94zm10 10l.94 2.06.94-2.06 2.06-.94-2.06-.94-.94-2.06-.94 2.06-2.06.94z\"/><path d=\"M17.41 7.96l-1.37-1.37c-.4-.4-.92-.59-1.43-.59-.52 0-1.04.2-1.43.59L10.3 9.45l-7.72 7.72c-.78.78-.78 2.05 0 2.83L4 21.41c.39.39.9.59 1.41.59.51 0 1.02-.2 1.41-.59l7.78-7.78 2.81-2.81c.8-.78.8-2.07 0-2.86zM5.41 20L4 18.59l7.72-7.72 1.47 1.35L5.41 20z\"/>\n",
              "  </svg>\n",
              "      </button>\n",
              "      \n",
              "  <style>\n",
              "    .colab-df-container {\n",
              "      display:flex;\n",
              "      flex-wrap:wrap;\n",
              "      gap: 12px;\n",
              "    }\n",
              "\n",
              "    .colab-df-convert {\n",
              "      background-color: #E8F0FE;\n",
              "      border: none;\n",
              "      border-radius: 50%;\n",
              "      cursor: pointer;\n",
              "      display: none;\n",
              "      fill: #1967D2;\n",
              "      height: 32px;\n",
              "      padding: 0 0 0 0;\n",
              "      width: 32px;\n",
              "    }\n",
              "\n",
              "    .colab-df-convert:hover {\n",
              "      background-color: #E2EBFA;\n",
              "      box-shadow: 0px 1px 2px rgba(60, 64, 67, 0.3), 0px 1px 3px 1px rgba(60, 64, 67, 0.15);\n",
              "      fill: #174EA6;\n",
              "    }\n",
              "\n",
              "    [theme=dark] .colab-df-convert {\n",
              "      background-color: #3B4455;\n",
              "      fill: #D2E3FC;\n",
              "    }\n",
              "\n",
              "    [theme=dark] .colab-df-convert:hover {\n",
              "      background-color: #434B5C;\n",
              "      box-shadow: 0px 1px 3px 1px rgba(0, 0, 0, 0.15);\n",
              "      filter: drop-shadow(0px 1px 2px rgba(0, 0, 0, 0.3));\n",
              "      fill: #FFFFFF;\n",
              "    }\n",
              "  </style>\n",
              "\n",
              "      <script>\n",
              "        const buttonEl =\n",
              "          document.querySelector('#df-fbb6018a-1b2f-47dd-91b3-9ee76477b511 button.colab-df-convert');\n",
              "        buttonEl.style.display =\n",
              "          google.colab.kernel.accessAllowed ? 'block' : 'none';\n",
              "\n",
              "        async function convertToInteractive(key) {\n",
              "          const element = document.querySelector('#df-fbb6018a-1b2f-47dd-91b3-9ee76477b511');\n",
              "          const dataTable =\n",
              "            await google.colab.kernel.invokeFunction('convertToInteractive',\n",
              "                                                     [key], {});\n",
              "          if (!dataTable) return;\n",
              "\n",
              "          const docLinkHtml = 'Like what you see? Visit the ' +\n",
              "            '<a target=\"_blank\" href=https://colab.research.google.com/notebooks/data_table.ipynb>data table notebook</a>'\n",
              "            + ' to learn more about interactive tables.';\n",
              "          element.innerHTML = '';\n",
              "          dataTable['output_type'] = 'display_data';\n",
              "          await google.colab.output.renderOutput(dataTable, element);\n",
              "          const docLink = document.createElement('div');\n",
              "          docLink.innerHTML = docLinkHtml;\n",
              "          element.appendChild(docLink);\n",
              "        }\n",
              "      </script>\n",
              "    </div>\n",
              "  </div>\n",
              "  "
            ]
          },
          "metadata": {},
          "execution_count": 158
        }
      ]
    },
    {
      "cell_type": "code",
      "source": [
        "df_level = get_score_top(df_geo_master, 'プール')\n",
        "print(df_level.shape)\n",
        "df_level.head(10)"
      ],
      "metadata": {
        "id": "KsQjmtIWifNH",
        "outputId": "909fdaca-05e8-4e7e-9c40-904dd4594564",
        "colab": {
          "base_uri": "https://localhost:8080/",
          "height": 380
        }
      },
      "execution_count": 159,
      "outputs": [
        {
          "output_type": "stream",
          "name": "stdout",
          "text": [
            "(903, 6)\n"
          ]
        },
        {
          "output_type": "execute_result",
          "data": {
            "text/plain": [
              "  市区町村名       町名        町丁目  プール(最近傍距離)  プール(数)  プールスコア\n",
              "0  千代田区   神田佐久間町  神田佐久間町３丁目       0.167       8    5.00\n",
              "1   中央区    日本橋浜町   日本橋浜町２丁目       0.087       7    5.00\n",
              "2  千代田区    神田和泉町      神田和泉町       0.040       8    5.00\n",
              "3   中央区   日本橋人形町  日本橋人形町１丁目       0.086       8    5.00\n",
              "4   台東区       台東      台東１丁目       0.234       8    4.99\n",
              "5   中央区   日本橋小網町     日本橋小網町       0.208       8    4.99\n",
              "6   中央区       入船      入船１丁目       0.133       7    4.99\n",
              "7  千代田区  神田佐久間河岸    神田佐久間河岸       0.257       8    4.98\n",
              "8  千代田区      内神田     内神田２丁目       0.168       6    4.98\n",
              "9  千代田区     神田多町    神田多町２丁目       0.180       6    4.98"
            ],
            "text/html": [
              "\n",
              "  <div id=\"df-73593823-1d68-4d08-a68d-0238bd4ca1e1\">\n",
              "    <div class=\"colab-df-container\">\n",
              "      <div>\n",
              "<style scoped>\n",
              "    .dataframe tbody tr th:only-of-type {\n",
              "        vertical-align: middle;\n",
              "    }\n",
              "\n",
              "    .dataframe tbody tr th {\n",
              "        vertical-align: top;\n",
              "    }\n",
              "\n",
              "    .dataframe thead th {\n",
              "        text-align: right;\n",
              "    }\n",
              "</style>\n",
              "<table border=\"1\" class=\"dataframe\">\n",
              "  <thead>\n",
              "    <tr style=\"text-align: right;\">\n",
              "      <th></th>\n",
              "      <th>市区町村名</th>\n",
              "      <th>町名</th>\n",
              "      <th>町丁目</th>\n",
              "      <th>プール(最近傍距離)</th>\n",
              "      <th>プール(数)</th>\n",
              "      <th>プールスコア</th>\n",
              "    </tr>\n",
              "  </thead>\n",
              "  <tbody>\n",
              "    <tr>\n",
              "      <th>0</th>\n",
              "      <td>千代田区</td>\n",
              "      <td>神田佐久間町</td>\n",
              "      <td>神田佐久間町３丁目</td>\n",
              "      <td>0.167</td>\n",
              "      <td>8</td>\n",
              "      <td>5.00</td>\n",
              "    </tr>\n",
              "    <tr>\n",
              "      <th>1</th>\n",
              "      <td>中央区</td>\n",
              "      <td>日本橋浜町</td>\n",
              "      <td>日本橋浜町２丁目</td>\n",
              "      <td>0.087</td>\n",
              "      <td>7</td>\n",
              "      <td>5.00</td>\n",
              "    </tr>\n",
              "    <tr>\n",
              "      <th>2</th>\n",
              "      <td>千代田区</td>\n",
              "      <td>神田和泉町</td>\n",
              "      <td>神田和泉町</td>\n",
              "      <td>0.040</td>\n",
              "      <td>8</td>\n",
              "      <td>5.00</td>\n",
              "    </tr>\n",
              "    <tr>\n",
              "      <th>3</th>\n",
              "      <td>中央区</td>\n",
              "      <td>日本橋人形町</td>\n",
              "      <td>日本橋人形町１丁目</td>\n",
              "      <td>0.086</td>\n",
              "      <td>8</td>\n",
              "      <td>5.00</td>\n",
              "    </tr>\n",
              "    <tr>\n",
              "      <th>4</th>\n",
              "      <td>台東区</td>\n",
              "      <td>台東</td>\n",
              "      <td>台東１丁目</td>\n",
              "      <td>0.234</td>\n",
              "      <td>8</td>\n",
              "      <td>4.99</td>\n",
              "    </tr>\n",
              "    <tr>\n",
              "      <th>5</th>\n",
              "      <td>中央区</td>\n",
              "      <td>日本橋小網町</td>\n",
              "      <td>日本橋小網町</td>\n",
              "      <td>0.208</td>\n",
              "      <td>8</td>\n",
              "      <td>4.99</td>\n",
              "    </tr>\n",
              "    <tr>\n",
              "      <th>6</th>\n",
              "      <td>中央区</td>\n",
              "      <td>入船</td>\n",
              "      <td>入船１丁目</td>\n",
              "      <td>0.133</td>\n",
              "      <td>7</td>\n",
              "      <td>4.99</td>\n",
              "    </tr>\n",
              "    <tr>\n",
              "      <th>7</th>\n",
              "      <td>千代田区</td>\n",
              "      <td>神田佐久間河岸</td>\n",
              "      <td>神田佐久間河岸</td>\n",
              "      <td>0.257</td>\n",
              "      <td>8</td>\n",
              "      <td>4.98</td>\n",
              "    </tr>\n",
              "    <tr>\n",
              "      <th>8</th>\n",
              "      <td>千代田区</td>\n",
              "      <td>内神田</td>\n",
              "      <td>内神田２丁目</td>\n",
              "      <td>0.168</td>\n",
              "      <td>6</td>\n",
              "      <td>4.98</td>\n",
              "    </tr>\n",
              "    <tr>\n",
              "      <th>9</th>\n",
              "      <td>千代田区</td>\n",
              "      <td>神田多町</td>\n",
              "      <td>神田多町２丁目</td>\n",
              "      <td>0.180</td>\n",
              "      <td>6</td>\n",
              "      <td>4.98</td>\n",
              "    </tr>\n",
              "  </tbody>\n",
              "</table>\n",
              "</div>\n",
              "      <button class=\"colab-df-convert\" onclick=\"convertToInteractive('df-73593823-1d68-4d08-a68d-0238bd4ca1e1')\"\n",
              "              title=\"Convert this dataframe to an interactive table.\"\n",
              "              style=\"display:none;\">\n",
              "        \n",
              "  <svg xmlns=\"http://www.w3.org/2000/svg\" height=\"24px\"viewBox=\"0 0 24 24\"\n",
              "       width=\"24px\">\n",
              "    <path d=\"M0 0h24v24H0V0z\" fill=\"none\"/>\n",
              "    <path d=\"M18.56 5.44l.94 2.06.94-2.06 2.06-.94-2.06-.94-.94-2.06-.94 2.06-2.06.94zm-11 1L8.5 8.5l.94-2.06 2.06-.94-2.06-.94L8.5 2.5l-.94 2.06-2.06.94zm10 10l.94 2.06.94-2.06 2.06-.94-2.06-.94-.94-2.06-.94 2.06-2.06.94z\"/><path d=\"M17.41 7.96l-1.37-1.37c-.4-.4-.92-.59-1.43-.59-.52 0-1.04.2-1.43.59L10.3 9.45l-7.72 7.72c-.78.78-.78 2.05 0 2.83L4 21.41c.39.39.9.59 1.41.59.51 0 1.02-.2 1.41-.59l7.78-7.78 2.81-2.81c.8-.78.8-2.07 0-2.86zM5.41 20L4 18.59l7.72-7.72 1.47 1.35L5.41 20z\"/>\n",
              "  </svg>\n",
              "      </button>\n",
              "      \n",
              "  <style>\n",
              "    .colab-df-container {\n",
              "      display:flex;\n",
              "      flex-wrap:wrap;\n",
              "      gap: 12px;\n",
              "    }\n",
              "\n",
              "    .colab-df-convert {\n",
              "      background-color: #E8F0FE;\n",
              "      border: none;\n",
              "      border-radius: 50%;\n",
              "      cursor: pointer;\n",
              "      display: none;\n",
              "      fill: #1967D2;\n",
              "      height: 32px;\n",
              "      padding: 0 0 0 0;\n",
              "      width: 32px;\n",
              "    }\n",
              "\n",
              "    .colab-df-convert:hover {\n",
              "      background-color: #E2EBFA;\n",
              "      box-shadow: 0px 1px 2px rgba(60, 64, 67, 0.3), 0px 1px 3px 1px rgba(60, 64, 67, 0.15);\n",
              "      fill: #174EA6;\n",
              "    }\n",
              "\n",
              "    [theme=dark] .colab-df-convert {\n",
              "      background-color: #3B4455;\n",
              "      fill: #D2E3FC;\n",
              "    }\n",
              "\n",
              "    [theme=dark] .colab-df-convert:hover {\n",
              "      background-color: #434B5C;\n",
              "      box-shadow: 0px 1px 3px 1px rgba(0, 0, 0, 0.15);\n",
              "      filter: drop-shadow(0px 1px 2px rgba(0, 0, 0, 0.3));\n",
              "      fill: #FFFFFF;\n",
              "    }\n",
              "  </style>\n",
              "\n",
              "      <script>\n",
              "        const buttonEl =\n",
              "          document.querySelector('#df-73593823-1d68-4d08-a68d-0238bd4ca1e1 button.colab-df-convert');\n",
              "        buttonEl.style.display =\n",
              "          google.colab.kernel.accessAllowed ? 'block' : 'none';\n",
              "\n",
              "        async function convertToInteractive(key) {\n",
              "          const element = document.querySelector('#df-73593823-1d68-4d08-a68d-0238bd4ca1e1');\n",
              "          const dataTable =\n",
              "            await google.colab.kernel.invokeFunction('convertToInteractive',\n",
              "                                                     [key], {});\n",
              "          if (!dataTable) return;\n",
              "\n",
              "          const docLinkHtml = 'Like what you see? Visit the ' +\n",
              "            '<a target=\"_blank\" href=https://colab.research.google.com/notebooks/data_table.ipynb>data table notebook</a>'\n",
              "            + ' to learn more about interactive tables.';\n",
              "          element.innerHTML = '';\n",
              "          dataTable['output_type'] = 'display_data';\n",
              "          await google.colab.output.renderOutput(dataTable, element);\n",
              "          const docLink = document.createElement('div');\n",
              "          docLink.innerHTML = docLinkHtml;\n",
              "          element.appendChild(docLink);\n",
              "        }\n",
              "      </script>\n",
              "    </div>\n",
              "  </div>\n",
              "  "
            ]
          },
          "metadata": {},
          "execution_count": 159
        }
      ]
    },
    {
      "cell_type": "code",
      "source": [
        "df_level.tail(10)"
      ],
      "metadata": {
        "id": "LzIk5q9aiklr",
        "outputId": "d6fb4c71-3129-4840-d647-85acff86ce0c",
        "colab": {
          "base_uri": "https://localhost:8080/",
          "height": 363
        }
      },
      "execution_count": 160,
      "outputs": [
        {
          "output_type": "execute_result",
          "data": {
            "text/plain": [
              "    市区町村名         町名        町丁目  プール(最近傍距離)  プール(数)  プールスコア\n",
              "893   豊島区         千川      千川１丁目       2.782       0    0.15\n",
              "894   板橋区        大谷口     大谷口２丁目       2.893       0    0.12\n",
              "895   足立区         皿沼      皿沼３丁目       2.916       0    0.11\n",
              "896   足立区      西新井本町   西新井本町４丁目       2.958       0    0.11\n",
              "897   板橋区      大谷口上町      大谷口上町       2.958       0    0.10\n",
              "898   足立区        谷在家     谷在家１丁目       3.007       0    0.09\n",
              "899  江戸川区        堀江町        堀江町       3.043       0    0.08\n",
              "900   江東区        夢の島     夢の島３丁目       3.181       0    0.05\n",
              "901   大田区  ふるさとの浜辺公園  ふるさとの浜辺公園       4.623       0    0.00\n",
              "902   大田区      羽田沖水面      羽田沖水面       4.623       0    0.00"
            ],
            "text/html": [
              "\n",
              "  <div id=\"df-afb5cd15-695c-42bd-8c63-e6e54ae9bde8\">\n",
              "    <div class=\"colab-df-container\">\n",
              "      <div>\n",
              "<style scoped>\n",
              "    .dataframe tbody tr th:only-of-type {\n",
              "        vertical-align: middle;\n",
              "    }\n",
              "\n",
              "    .dataframe tbody tr th {\n",
              "        vertical-align: top;\n",
              "    }\n",
              "\n",
              "    .dataframe thead th {\n",
              "        text-align: right;\n",
              "    }\n",
              "</style>\n",
              "<table border=\"1\" class=\"dataframe\">\n",
              "  <thead>\n",
              "    <tr style=\"text-align: right;\">\n",
              "      <th></th>\n",
              "      <th>市区町村名</th>\n",
              "      <th>町名</th>\n",
              "      <th>町丁目</th>\n",
              "      <th>プール(最近傍距離)</th>\n",
              "      <th>プール(数)</th>\n",
              "      <th>プールスコア</th>\n",
              "    </tr>\n",
              "  </thead>\n",
              "  <tbody>\n",
              "    <tr>\n",
              "      <th>893</th>\n",
              "      <td>豊島区</td>\n",
              "      <td>千川</td>\n",
              "      <td>千川１丁目</td>\n",
              "      <td>2.782</td>\n",
              "      <td>0</td>\n",
              "      <td>0.15</td>\n",
              "    </tr>\n",
              "    <tr>\n",
              "      <th>894</th>\n",
              "      <td>板橋区</td>\n",
              "      <td>大谷口</td>\n",
              "      <td>大谷口２丁目</td>\n",
              "      <td>2.893</td>\n",
              "      <td>0</td>\n",
              "      <td>0.12</td>\n",
              "    </tr>\n",
              "    <tr>\n",
              "      <th>895</th>\n",
              "      <td>足立区</td>\n",
              "      <td>皿沼</td>\n",
              "      <td>皿沼３丁目</td>\n",
              "      <td>2.916</td>\n",
              "      <td>0</td>\n",
              "      <td>0.11</td>\n",
              "    </tr>\n",
              "    <tr>\n",
              "      <th>896</th>\n",
              "      <td>足立区</td>\n",
              "      <td>西新井本町</td>\n",
              "      <td>西新井本町４丁目</td>\n",
              "      <td>2.958</td>\n",
              "      <td>0</td>\n",
              "      <td>0.11</td>\n",
              "    </tr>\n",
              "    <tr>\n",
              "      <th>897</th>\n",
              "      <td>板橋区</td>\n",
              "      <td>大谷口上町</td>\n",
              "      <td>大谷口上町</td>\n",
              "      <td>2.958</td>\n",
              "      <td>0</td>\n",
              "      <td>0.10</td>\n",
              "    </tr>\n",
              "    <tr>\n",
              "      <th>898</th>\n",
              "      <td>足立区</td>\n",
              "      <td>谷在家</td>\n",
              "      <td>谷在家１丁目</td>\n",
              "      <td>3.007</td>\n",
              "      <td>0</td>\n",
              "      <td>0.09</td>\n",
              "    </tr>\n",
              "    <tr>\n",
              "      <th>899</th>\n",
              "      <td>江戸川区</td>\n",
              "      <td>堀江町</td>\n",
              "      <td>堀江町</td>\n",
              "      <td>3.043</td>\n",
              "      <td>0</td>\n",
              "      <td>0.08</td>\n",
              "    </tr>\n",
              "    <tr>\n",
              "      <th>900</th>\n",
              "      <td>江東区</td>\n",
              "      <td>夢の島</td>\n",
              "      <td>夢の島３丁目</td>\n",
              "      <td>3.181</td>\n",
              "      <td>0</td>\n",
              "      <td>0.05</td>\n",
              "    </tr>\n",
              "    <tr>\n",
              "      <th>901</th>\n",
              "      <td>大田区</td>\n",
              "      <td>ふるさとの浜辺公園</td>\n",
              "      <td>ふるさとの浜辺公園</td>\n",
              "      <td>4.623</td>\n",
              "      <td>0</td>\n",
              "      <td>0.00</td>\n",
              "    </tr>\n",
              "    <tr>\n",
              "      <th>902</th>\n",
              "      <td>大田区</td>\n",
              "      <td>羽田沖水面</td>\n",
              "      <td>羽田沖水面</td>\n",
              "      <td>4.623</td>\n",
              "      <td>0</td>\n",
              "      <td>0.00</td>\n",
              "    </tr>\n",
              "  </tbody>\n",
              "</table>\n",
              "</div>\n",
              "      <button class=\"colab-df-convert\" onclick=\"convertToInteractive('df-afb5cd15-695c-42bd-8c63-e6e54ae9bde8')\"\n",
              "              title=\"Convert this dataframe to an interactive table.\"\n",
              "              style=\"display:none;\">\n",
              "        \n",
              "  <svg xmlns=\"http://www.w3.org/2000/svg\" height=\"24px\"viewBox=\"0 0 24 24\"\n",
              "       width=\"24px\">\n",
              "    <path d=\"M0 0h24v24H0V0z\" fill=\"none\"/>\n",
              "    <path d=\"M18.56 5.44l.94 2.06.94-2.06 2.06-.94-2.06-.94-.94-2.06-.94 2.06-2.06.94zm-11 1L8.5 8.5l.94-2.06 2.06-.94-2.06-.94L8.5 2.5l-.94 2.06-2.06.94zm10 10l.94 2.06.94-2.06 2.06-.94-2.06-.94-.94-2.06-.94 2.06-2.06.94z\"/><path d=\"M17.41 7.96l-1.37-1.37c-.4-.4-.92-.59-1.43-.59-.52 0-1.04.2-1.43.59L10.3 9.45l-7.72 7.72c-.78.78-.78 2.05 0 2.83L4 21.41c.39.39.9.59 1.41.59.51 0 1.02-.2 1.41-.59l7.78-7.78 2.81-2.81c.8-.78.8-2.07 0-2.86zM5.41 20L4 18.59l7.72-7.72 1.47 1.35L5.41 20z\"/>\n",
              "  </svg>\n",
              "      </button>\n",
              "      \n",
              "  <style>\n",
              "    .colab-df-container {\n",
              "      display:flex;\n",
              "      flex-wrap:wrap;\n",
              "      gap: 12px;\n",
              "    }\n",
              "\n",
              "    .colab-df-convert {\n",
              "      background-color: #E8F0FE;\n",
              "      border: none;\n",
              "      border-radius: 50%;\n",
              "      cursor: pointer;\n",
              "      display: none;\n",
              "      fill: #1967D2;\n",
              "      height: 32px;\n",
              "      padding: 0 0 0 0;\n",
              "      width: 32px;\n",
              "    }\n",
              "\n",
              "    .colab-df-convert:hover {\n",
              "      background-color: #E2EBFA;\n",
              "      box-shadow: 0px 1px 2px rgba(60, 64, 67, 0.3), 0px 1px 3px 1px rgba(60, 64, 67, 0.15);\n",
              "      fill: #174EA6;\n",
              "    }\n",
              "\n",
              "    [theme=dark] .colab-df-convert {\n",
              "      background-color: #3B4455;\n",
              "      fill: #D2E3FC;\n",
              "    }\n",
              "\n",
              "    [theme=dark] .colab-df-convert:hover {\n",
              "      background-color: #434B5C;\n",
              "      box-shadow: 0px 1px 3px 1px rgba(0, 0, 0, 0.15);\n",
              "      filter: drop-shadow(0px 1px 2px rgba(0, 0, 0, 0.3));\n",
              "      fill: #FFFFFF;\n",
              "    }\n",
              "  </style>\n",
              "\n",
              "      <script>\n",
              "        const buttonEl =\n",
              "          document.querySelector('#df-afb5cd15-695c-42bd-8c63-e6e54ae9bde8 button.colab-df-convert');\n",
              "        buttonEl.style.display =\n",
              "          google.colab.kernel.accessAllowed ? 'block' : 'none';\n",
              "\n",
              "        async function convertToInteractive(key) {\n",
              "          const element = document.querySelector('#df-afb5cd15-695c-42bd-8c63-e6e54ae9bde8');\n",
              "          const dataTable =\n",
              "            await google.colab.kernel.invokeFunction('convertToInteractive',\n",
              "                                                     [key], {});\n",
              "          if (!dataTable) return;\n",
              "\n",
              "          const docLinkHtml = 'Like what you see? Visit the ' +\n",
              "            '<a target=\"_blank\" href=https://colab.research.google.com/notebooks/data_table.ipynb>data table notebook</a>'\n",
              "            + ' to learn more about interactive tables.';\n",
              "          element.innerHTML = '';\n",
              "          dataTable['output_type'] = 'display_data';\n",
              "          await google.colab.output.renderOutput(dataTable, element);\n",
              "          const docLink = document.createElement('div');\n",
              "          docLink.innerHTML = docLinkHtml;\n",
              "          element.appendChild(docLink);\n",
              "        }\n",
              "      </script>\n",
              "    </div>\n",
              "  </div>\n",
              "  "
            ]
          },
          "metadata": {},
          "execution_count": 160
        }
      ]
    },
    {
      "cell_type": "code",
      "source": [],
      "metadata": {
        "id": "ZiTLOP2veEPB"
      },
      "execution_count": 160,
      "outputs": []
    }
  ]
}