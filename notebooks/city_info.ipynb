{
  "nbformat": 4,
  "nbformat_minor": 0,
  "metadata": {
    "colab": {
      "provenance": [],
      "authorship_tag": "ABX9TyOP/5IAMcY10VyIqPHPEjn0",
      "include_colab_link": true
    },
    "kernelspec": {
      "name": "python3",
      "display_name": "Python 3"
    },
    "language_info": {
      "name": "python"
    }
  },
  "cells": [
    {
      "cell_type": "markdown",
      "metadata": {
        "id": "view-in-github",
        "colab_type": "text"
      },
      "source": [
        "<a href=\"https://colab.research.google.com/github/z-guard/analysis/blob/main/notebooks/city_info.ipynb\" target=\"_parent\"><img src=\"https://colab.research.google.com/assets/colab-badge.svg\" alt=\"Open In Colab\"/></a>"
      ]
    },
    {
      "cell_type": "markdown",
      "source": [
        "## 行政情報のexcelファイルををjsonファイルに変換して出力"
      ],
      "metadata": {
        "id": "_gg-eR-07OaJ"
      }
    },
    {
      "cell_type": "code",
      "execution_count": 1,
      "metadata": {
        "colab": {
          "base_uri": "https://localhost:8080/"
        },
        "id": "bAH-Y8U8zhsF",
        "outputId": "73ec7b66-b89c-4909-e72e-68617fd23b71"
      },
      "outputs": [
        {
          "output_type": "stream",
          "name": "stdout",
          "text": [
            "Drive already mounted at /content/drive; to attempt to forcibly remount, call drive.mount(\"/content/drive\", force_remount=True).\n"
          ]
        }
      ],
      "source": [
        "from google.colab import drive\n",
        "drive.mount('/content/drive')"
      ]
    },
    {
      "cell_type": "code",
      "source": [
        "import os\n",
        "import pandas as pd\n",
        "import json"
      ],
      "metadata": {
        "id": "8cOpgufn0Kap"
      },
      "execution_count": 2,
      "outputs": []
    },
    {
      "cell_type": "code",
      "source": [
        "DIR_NAME = '/content/drive/MyDrive/z-gard/行政情報'"
      ],
      "metadata": {
        "id": "dHRyH3ynzqL9"
      },
      "execution_count": 3,
      "outputs": []
    },
    {
      "cell_type": "code",
      "source": [
        "df_city_info = pd.read_excel(os.path.join(DIR_NAME, '23区行政サービス一覧_入力テンプレート220130.xlsx'), sheet_name=1, header=1, index_col=None)\n",
        "\n",
        "df_city_info = df_city_info.rename(columns={\n",
        "    '項目': 'title',\n",
        "    '区の公式HPの情報URL': 'URL',\n",
        "    '区の公式HPに掲載の補助金・手当名': 'name',\n",
        "    '区の公式HPに掲載の補助金-詳細': 'detail'\n",
        "}).drop(columns=['URL'])\n",
        "print(df_city_info.shape)"
      ],
      "metadata": {
        "colab": {
          "base_uri": "https://localhost:8080/"
        },
        "id": "6lRB5gW-0AL_",
        "outputId": "10a176cd-ae07-43ff-debd-f648d7761cef"
      },
      "execution_count": 4,
      "outputs": [
        {
          "output_type": "stream",
          "name": "stdout",
          "text": [
            "(108, 4)\n"
          ]
        }
      ]
    },
    {
      "cell_type": "code",
      "source": [
        "df_city_info['title'] = df_city_info['title'].replace('[①②③④]', '', regex=True)\n",
        "df_city_info['name'] = df_city_info['name'].fillna('').replace('なし', '').replace('公立学校の学校選択制', '')\n",
        "df_city_info['detail'] = df_city_info['detail'].fillna('').replace('', 'なし')"
      ],
      "metadata": {
        "id": "pS67-hMwA43F"
      },
      "execution_count": 5,
      "outputs": []
    },
    {
      "cell_type": "code",
      "source": [
        "df_city_info"
      ],
      "metadata": {
        "colab": {
          "base_uri": "https://localhost:8080/",
          "height": 424
        },
        "id": "CHkyXlTX0vsW",
        "outputId": "c5e4dadf-e35e-4b0b-9ee8-e65897e4256a"
      },
      "execution_count": 6,
      "outputs": [
        {
          "output_type": "execute_result",
          "data": {
            "text/plain": [
              "       区名       title              name  \\\n",
              "0    千代田区  妊娠・出産関連の手当            誕生準備手当   \n",
              "1    千代田区  公立学校の学校選択制                     \n",
              "2    千代田区     居住関連の手当         次世代育成住宅助成   \n",
              "3    千代田区     居住関連の手当        居住安定支援家賃助成   \n",
              "4    千代田区     居住関連の手当  高齢者等民間賃貸住宅入居支援制度   \n",
              "..    ...         ...               ...   \n",
              "103   葛飾区  その他独自の取り組み                     \n",
              "104  江戸川区  妊娠・出産関連の手当                     \n",
              "105  江戸川区  公立学校の学校選択制                     \n",
              "106  江戸川区     居住関連の手当                     \n",
              "107  江戸川区  その他独自の取り組み                     \n",
              "\n",
              "                                                detail  \n",
              "0    一妊娠につき、一時金として 45,000円を支給（多児妊娠・出産でも、同額。流産または死産の...  \n",
              "1                                                  中学校  \n",
              "2    千代田区内の民間賃貸住宅またはマイホームへの住み替えをする世帯のうち、以下の1、2のいずれか...  \n",
              "3    千代田区内に引き続き2年以上居住する高齢者世帯・障害者世帯・ひとり親世帯が、取り壊し等により...  \n",
              "4    千代田区内に居住する高齢者・障害者・ひとり親世帯のいずれかが区内での転居をする際に、保証会社...  \n",
              "..                                                 ...  \n",
              "103                                                 なし  \n",
              "104                                                 なし  \n",
              "105                                                 なし  \n",
              "106                                                 なし  \n",
              "107                                                 なし  \n",
              "\n",
              "[108 rows x 4 columns]"
            ],
            "text/html": [
              "\n",
              "  <div id=\"df-a23935b7-1637-4a98-81f3-23ed19247f15\">\n",
              "    <div class=\"colab-df-container\">\n",
              "      <div>\n",
              "<style scoped>\n",
              "    .dataframe tbody tr th:only-of-type {\n",
              "        vertical-align: middle;\n",
              "    }\n",
              "\n",
              "    .dataframe tbody tr th {\n",
              "        vertical-align: top;\n",
              "    }\n",
              "\n",
              "    .dataframe thead th {\n",
              "        text-align: right;\n",
              "    }\n",
              "</style>\n",
              "<table border=\"1\" class=\"dataframe\">\n",
              "  <thead>\n",
              "    <tr style=\"text-align: right;\">\n",
              "      <th></th>\n",
              "      <th>区名</th>\n",
              "      <th>title</th>\n",
              "      <th>name</th>\n",
              "      <th>detail</th>\n",
              "    </tr>\n",
              "  </thead>\n",
              "  <tbody>\n",
              "    <tr>\n",
              "      <th>0</th>\n",
              "      <td>千代田区</td>\n",
              "      <td>妊娠・出産関連の手当</td>\n",
              "      <td>誕生準備手当</td>\n",
              "      <td>一妊娠につき、一時金として 45,000円を支給（多児妊娠・出産でも、同額。流産または死産の...</td>\n",
              "    </tr>\n",
              "    <tr>\n",
              "      <th>1</th>\n",
              "      <td>千代田区</td>\n",
              "      <td>公立学校の学校選択制</td>\n",
              "      <td></td>\n",
              "      <td>中学校</td>\n",
              "    </tr>\n",
              "    <tr>\n",
              "      <th>2</th>\n",
              "      <td>千代田区</td>\n",
              "      <td>居住関連の手当</td>\n",
              "      <td>次世代育成住宅助成</td>\n",
              "      <td>千代田区内の民間賃貸住宅またはマイホームへの住み替えをする世帯のうち、以下の1、2のいずれか...</td>\n",
              "    </tr>\n",
              "    <tr>\n",
              "      <th>3</th>\n",
              "      <td>千代田区</td>\n",
              "      <td>居住関連の手当</td>\n",
              "      <td>居住安定支援家賃助成</td>\n",
              "      <td>千代田区内に引き続き2年以上居住する高齢者世帯・障害者世帯・ひとり親世帯が、取り壊し等により...</td>\n",
              "    </tr>\n",
              "    <tr>\n",
              "      <th>4</th>\n",
              "      <td>千代田区</td>\n",
              "      <td>居住関連の手当</td>\n",
              "      <td>高齢者等民間賃貸住宅入居支援制度</td>\n",
              "      <td>千代田区内に居住する高齢者・障害者・ひとり親世帯のいずれかが区内での転居をする際に、保証会社...</td>\n",
              "    </tr>\n",
              "    <tr>\n",
              "      <th>...</th>\n",
              "      <td>...</td>\n",
              "      <td>...</td>\n",
              "      <td>...</td>\n",
              "      <td>...</td>\n",
              "    </tr>\n",
              "    <tr>\n",
              "      <th>103</th>\n",
              "      <td>葛飾区</td>\n",
              "      <td>その他独自の取り組み</td>\n",
              "      <td></td>\n",
              "      <td>なし</td>\n",
              "    </tr>\n",
              "    <tr>\n",
              "      <th>104</th>\n",
              "      <td>江戸川区</td>\n",
              "      <td>妊娠・出産関連の手当</td>\n",
              "      <td></td>\n",
              "      <td>なし</td>\n",
              "    </tr>\n",
              "    <tr>\n",
              "      <th>105</th>\n",
              "      <td>江戸川区</td>\n",
              "      <td>公立学校の学校選択制</td>\n",
              "      <td></td>\n",
              "      <td>なし</td>\n",
              "    </tr>\n",
              "    <tr>\n",
              "      <th>106</th>\n",
              "      <td>江戸川区</td>\n",
              "      <td>居住関連の手当</td>\n",
              "      <td></td>\n",
              "      <td>なし</td>\n",
              "    </tr>\n",
              "    <tr>\n",
              "      <th>107</th>\n",
              "      <td>江戸川区</td>\n",
              "      <td>その他独自の取り組み</td>\n",
              "      <td></td>\n",
              "      <td>なし</td>\n",
              "    </tr>\n",
              "  </tbody>\n",
              "</table>\n",
              "<p>108 rows × 4 columns</p>\n",
              "</div>\n",
              "      <button class=\"colab-df-convert\" onclick=\"convertToInteractive('df-a23935b7-1637-4a98-81f3-23ed19247f15')\"\n",
              "              title=\"Convert this dataframe to an interactive table.\"\n",
              "              style=\"display:none;\">\n",
              "        \n",
              "  <svg xmlns=\"http://www.w3.org/2000/svg\" height=\"24px\"viewBox=\"0 0 24 24\"\n",
              "       width=\"24px\">\n",
              "    <path d=\"M0 0h24v24H0V0z\" fill=\"none\"/>\n",
              "    <path d=\"M18.56 5.44l.94 2.06.94-2.06 2.06-.94-2.06-.94-.94-2.06-.94 2.06-2.06.94zm-11 1L8.5 8.5l.94-2.06 2.06-.94-2.06-.94L8.5 2.5l-.94 2.06-2.06.94zm10 10l.94 2.06.94-2.06 2.06-.94-2.06-.94-.94-2.06-.94 2.06-2.06.94z\"/><path d=\"M17.41 7.96l-1.37-1.37c-.4-.4-.92-.59-1.43-.59-.52 0-1.04.2-1.43.59L10.3 9.45l-7.72 7.72c-.78.78-.78 2.05 0 2.83L4 21.41c.39.39.9.59 1.41.59.51 0 1.02-.2 1.41-.59l7.78-7.78 2.81-2.81c.8-.78.8-2.07 0-2.86zM5.41 20L4 18.59l7.72-7.72 1.47 1.35L5.41 20z\"/>\n",
              "  </svg>\n",
              "      </button>\n",
              "      \n",
              "  <style>\n",
              "    .colab-df-container {\n",
              "      display:flex;\n",
              "      flex-wrap:wrap;\n",
              "      gap: 12px;\n",
              "    }\n",
              "\n",
              "    .colab-df-convert {\n",
              "      background-color: #E8F0FE;\n",
              "      border: none;\n",
              "      border-radius: 50%;\n",
              "      cursor: pointer;\n",
              "      display: none;\n",
              "      fill: #1967D2;\n",
              "      height: 32px;\n",
              "      padding: 0 0 0 0;\n",
              "      width: 32px;\n",
              "    }\n",
              "\n",
              "    .colab-df-convert:hover {\n",
              "      background-color: #E2EBFA;\n",
              "      box-shadow: 0px 1px 2px rgba(60, 64, 67, 0.3), 0px 1px 3px 1px rgba(60, 64, 67, 0.15);\n",
              "      fill: #174EA6;\n",
              "    }\n",
              "\n",
              "    [theme=dark] .colab-df-convert {\n",
              "      background-color: #3B4455;\n",
              "      fill: #D2E3FC;\n",
              "    }\n",
              "\n",
              "    [theme=dark] .colab-df-convert:hover {\n",
              "      background-color: #434B5C;\n",
              "      box-shadow: 0px 1px 3px 1px rgba(0, 0, 0, 0.15);\n",
              "      filter: drop-shadow(0px 1px 2px rgba(0, 0, 0, 0.3));\n",
              "      fill: #FFFFFF;\n",
              "    }\n",
              "  </style>\n",
              "\n",
              "      <script>\n",
              "        const buttonEl =\n",
              "          document.querySelector('#df-a23935b7-1637-4a98-81f3-23ed19247f15 button.colab-df-convert');\n",
              "        buttonEl.style.display =\n",
              "          google.colab.kernel.accessAllowed ? 'block' : 'none';\n",
              "\n",
              "        async function convertToInteractive(key) {\n",
              "          const element = document.querySelector('#df-a23935b7-1637-4a98-81f3-23ed19247f15');\n",
              "          const dataTable =\n",
              "            await google.colab.kernel.invokeFunction('convertToInteractive',\n",
              "                                                     [key], {});\n",
              "          if (!dataTable) return;\n",
              "\n",
              "          const docLinkHtml = 'Like what you see? Visit the ' +\n",
              "            '<a target=\"_blank\" href=https://colab.research.google.com/notebooks/data_table.ipynb>data table notebook</a>'\n",
              "            + ' to learn more about interactive tables.';\n",
              "          element.innerHTML = '';\n",
              "          dataTable['output_type'] = 'display_data';\n",
              "          await google.colab.output.renderOutput(dataTable, element);\n",
              "          const docLink = document.createElement('div');\n",
              "          docLink.innerHTML = docLinkHtml;\n",
              "          element.appendChild(docLink);\n",
              "        }\n",
              "      </script>\n",
              "    </div>\n",
              "  </div>\n",
              "  "
            ]
          },
          "metadata": {},
          "execution_count": 6
        }
      ]
    },
    {
      "cell_type": "markdown",
      "source": [
        "### dict形式に変換して、区ごとにまとめる"
      ],
      "metadata": {
        "id": "FuwlUwBw7GMW"
      }
    },
    {
      "cell_type": "code",
      "source": [
        "title_list = list(df_city_info['title'].unique())\n",
        "print(title_list)"
      ],
      "metadata": {
        "colab": {
          "base_uri": "https://localhost:8080/"
        },
        "id": "uXeghaiOLST-",
        "outputId": "5b04c632-e5f8-48f6-aa74-cd3d8d789f46"
      },
      "execution_count": 7,
      "outputs": [
        {
          "output_type": "stream",
          "name": "stdout",
          "text": [
            "['妊娠・出産関連の手当', '公立学校の学校選択制', '居住関連の手当', 'その他独自の取り組み']\n"
          ]
        }
      ]
    },
    {
      "cell_type": "code",
      "source": [
        "city_list = list(df_city_info['区名'].unique())\n",
        "output_dict = {city:{'info':[]} for city in city_list}"
      ],
      "metadata": {
        "id": "7id3UqHJD15A"
      },
      "execution_count": 8,
      "outputs": []
    },
    {
      "cell_type": "code",
      "source": [
        "for city in output_dict.keys():\n",
        "    for title in title_list:\n",
        "        output_dict[city]['info'].append({'title': title, 'items':[]})"
      ],
      "metadata": {
        "id": "--MDmCBHMDs9"
      },
      "execution_count": 9,
      "outputs": []
    },
    {
      "cell_type": "code",
      "source": [
        "df_city_dict = df_city_info.to_dict(orient='index')\n",
        "print(len(df_city_dict))\n",
        "\n",
        "for val in df_city_dict.values():\n",
        "    titles = output_dict[val['区名']]\n",
        "    for t in titles['info']:\n",
        "        if t['title'] == val['title']:\n",
        "            t['items'].append({'name': val['name'], 'detail': val['detail']})\n",
        "            break"
      ],
      "metadata": {
        "colab": {
          "base_uri": "https://localhost:8080/"
        },
        "id": "fwZbDUHD1Agr",
        "outputId": "30d73cb5-6fa2-427d-c1ff-10d09ad1e866"
      },
      "execution_count": 10,
      "outputs": [
        {
          "output_type": "stream",
          "name": "stdout",
          "text": [
            "108\n"
          ]
        }
      ]
    },
    {
      "cell_type": "markdown",
      "source": [
        "### キャラクター"
      ],
      "metadata": {
        "id": "CaqjqOUEScfx"
      }
    },
    {
      "cell_type": "code",
      "source": [
        "city_list"
      ],
      "metadata": {
        "colab": {
          "base_uri": "https://localhost:8080/"
        },
        "id": "nFyh8-hUS2pN",
        "outputId": "c429fdd5-cc4e-4a4d-8214-f01ec8e07d90"
      },
      "execution_count": 11,
      "outputs": [
        {
          "output_type": "execute_result",
          "data": {
            "text/plain": [
              "['千代田区',\n",
              " '港区',\n",
              " '新宿区',\n",
              " '文京区',\n",
              " '台東区',\n",
              " '中央区',\n",
              " '墨田区',\n",
              " '目黒区',\n",
              " '大田区',\n",
              " '江東区',\n",
              " '品川区',\n",
              " '世田谷区',\n",
              " '中野区',\n",
              " '豊島区',\n",
              " '杉並区',\n",
              " '渋谷区',\n",
              " '北区',\n",
              " '荒川区',\n",
              " '板橋区',\n",
              " '練馬区',\n",
              " '足立区',\n",
              " '葛飾区',\n",
              " '江戸川区']"
            ]
          },
          "metadata": {},
          "execution_count": 11
        }
      ]
    },
    {
      "cell_type": "code",
      "source": [
        "chara_list = {\n",
        "    '千代田区': ['chiyoda.jpg', '©千代田区(仮)'],\n",
        "    '港区': ['minato.jpg', '©港区(仮)'],\n",
        "    '新宿区': ['shinjuku.jpg', '©新宿区(仮)'],\n",
        "    '文京区': ['bunkyo.jpg', '©文京区(仮)'],\n",
        "    '台東区': ['taito.jpg', '©台東区(仮)'],\n",
        "    '中央区': ['chuou.jpg', '©中央区(仮)'],\n",
        "    '墨田区': ['sumida.jpg', '©墨田区(仮)'],\n",
        "    '目黒区': ['meguro.jpg', '©目黒区(仮)'],\n",
        "    '大田区': ['oota.jpg', '©大田区(仮)'],\n",
        "    '江東区': ['koutou.jpg', '©江東区(仮)'],\n",
        "    '品川区': ['shinagawa.jpg', '©品川区(仮)'],\n",
        "    '世田谷区': ['setagaya.jpg', '©世田谷区(仮)'],\n",
        "    '中野区': ['nakano.jpg', '©中野区(仮)'],\n",
        "    '豊島区': ['toshima.jpg', '©豊島区(仮)'],\n",
        "    '杉並区': ['suginami.jpg', '©杉並区(仮)'],\n",
        "    '渋谷区': ['shibuya.jpg', '©渋谷区(仮)'],\n",
        "    '北区': ['kita.jpg', '©北区(仮)'],\n",
        "    '荒川区': ['arakawa.jpg', '©荒川区(仮)'],\n",
        "    '板橋区': ['itahashi.jpg', '©板橋区(仮)'],\n",
        "    '練馬区': ['nerima.jpg', '©2011練馬区ねり丸＃N40'],\n",
        "    '足立区': ['adachi.jpg', '©足立区(仮)'],\n",
        "    '葛飾区': ['katsushika.jpg', '©葛飾区(仮)'],\n",
        "    '江戸川区': ['edogawa.jpg', '©江戸川区(仮)'],\n",
        "}"
      ],
      "metadata": {
        "id": "jW_DtwWaSwvn"
      },
      "execution_count": 12,
      "outputs": []
    },
    {
      "cell_type": "code",
      "source": [
        "for key, val in output_dict.items():\n",
        "    val['character'] = chara_list[key][0]\n",
        "    val['copyright'] = chara_list[key][1]"
      ],
      "metadata": {
        "id": "sCC2uLxcSe5m"
      },
      "execution_count": 13,
      "outputs": []
    },
    {
      "cell_type": "code",
      "source": [
        "output_dict['千代田区']"
      ],
      "metadata": {
        "colab": {
          "base_uri": "https://localhost:8080/"
        },
        "id": "u1vP_AuN2jAz",
        "outputId": "5978e1d0-697b-4f9f-80d1-69c8de20b1fd"
      },
      "execution_count": 14,
      "outputs": [
        {
          "output_type": "execute_result",
          "data": {
            "text/plain": [
              "{'info': [{'title': '妊娠・出産関連の手当',\n",
              "   'items': [{'name': '誕生準備手当',\n",
              "     'detail': '一妊娠につき、一時金として 45,000円を支給（多児妊娠・出産でも、同額。流産または死産の場合でも支給）。'}]},\n",
              "  {'title': '公立学校の学校選択制', 'items': [{'name': '', 'detail': '中学校'}]},\n",
              "  {'title': '居住関連の手当',\n",
              "   'items': [{'name': '次世代育成住宅助成',\n",
              "     'detail': '千代田区内の民間賃貸住宅またはマイホームへの住み替えをする世帯のうち、以下の1、2のいずれかに該当する世帯が対象。1 親元近居助成（区内に引き続き5年以上居住する親がいる新婚世帯）2 区内転居助成（区内に引き続き1年以上居住している子育て世帯）'},\n",
              "    {'name': '居住安定支援家賃助成',\n",
              "     'detail': '千代田区内に引き続き2年以上居住する高齢者世帯・障害者世帯・ひとり親世帯が、取り壊し等により転居を余儀なくされた場合や、やむを得ない事由により世帯の所得が著しく減少した場合、または安全上・衛生上劣悪な状態の住宅に居住している場合に、家賃等の一部を助成'},\n",
              "    {'name': '高齢者等民間賃貸住宅入居支援制度',\n",
              "     'detail': '千代田区内に居住する高齢者・障害者・ひとり親世帯のいずれかが区内での転居をする際に、保証会社利用料への助成等を行う'},\n",
              "    {'name': '高齢者等安心居住支援家賃助成制度',\n",
              "     'detail': '千代田区内の持ち家に居住する方で、その居住する住宅のバリアフリー改修が困難等の理由により居宅での日常生活に支障が生じ、緊急に代替となる住宅の確保が必要と認められる要介護高齢者世帯等に対して、民間賃貸住宅の家賃等の一部を助成（月額5万円、２年間）'}]},\n",
              "  {'title': 'その他独自の取り組み', 'items': [{'name': '', 'detail': 'なし'}]}],\n",
              " 'character': 'chiyoda.jpg',\n",
              " 'copyright': '©千代田区(仮)'}"
            ]
          },
          "metadata": {},
          "execution_count": 14
        }
      ]
    },
    {
      "cell_type": "markdown",
      "source": [
        "### jsonファイルに出力"
      ],
      "metadata": {
        "id": "PgWVZJwT6_xj"
      }
    },
    {
      "cell_type": "code",
      "source": [
        "output_file = os.path.join(DIR_NAME, 'city_info.json')\n",
        "with open(output_file, 'w', encoding='utf-8') as f:\n",
        "    json.dump(output_dict, f, indent=4, ensure_ascii=False)\n",
        "\n",
        "print(output_file)"
      ],
      "metadata": {
        "colab": {
          "base_uri": "https://localhost:8080/"
        },
        "id": "o79Tfm824JB2",
        "outputId": "3b0c99db-f05d-44ae-d6c7-b4ae726952be"
      },
      "execution_count": 15,
      "outputs": [
        {
          "output_type": "stream",
          "name": "stdout",
          "text": [
            "/content/drive/MyDrive/z-gard/行政情報/city_info.json\n"
          ]
        }
      ]
    },
    {
      "cell_type": "markdown",
      "source": [
        "### jsonファイルを読み出して確認"
      ],
      "metadata": {
        "id": "kwthGdg1669P"
      }
    },
    {
      "cell_type": "code",
      "source": [
        "with open(output_file) as f:\n",
        "    input_json = json.load(f)"
      ],
      "metadata": {
        "id": "XgU_EHIa5moD"
      },
      "execution_count": 16,
      "outputs": []
    },
    {
      "cell_type": "code",
      "source": [
        "input_json['千代田区']"
      ],
      "metadata": {
        "colab": {
          "base_uri": "https://localhost:8080/"
        },
        "id": "9hmRPQ6R6yJi",
        "outputId": "5600ce60-d2d1-41b9-8507-1ac73ae677c0"
      },
      "execution_count": 17,
      "outputs": [
        {
          "output_type": "execute_result",
          "data": {
            "text/plain": [
              "{'info': [{'title': '妊娠・出産関連の手当',\n",
              "   'items': [{'name': '誕生準備手当',\n",
              "     'detail': '一妊娠につき、一時金として 45,000円を支給（多児妊娠・出産でも、同額。流産または死産の場合でも支給）。'}]},\n",
              "  {'title': '公立学校の学校選択制', 'items': [{'name': '', 'detail': '中学校'}]},\n",
              "  {'title': '居住関連の手当',\n",
              "   'items': [{'name': '次世代育成住宅助成',\n",
              "     'detail': '千代田区内の民間賃貸住宅またはマイホームへの住み替えをする世帯のうち、以下の1、2のいずれかに該当する世帯が対象。1 親元近居助成（区内に引き続き5年以上居住する親がいる新婚世帯）2 区内転居助成（区内に引き続き1年以上居住している子育て世帯）'},\n",
              "    {'name': '居住安定支援家賃助成',\n",
              "     'detail': '千代田区内に引き続き2年以上居住する高齢者世帯・障害者世帯・ひとり親世帯が、取り壊し等により転居を余儀なくされた場合や、やむを得ない事由により世帯の所得が著しく減少した場合、または安全上・衛生上劣悪な状態の住宅に居住している場合に、家賃等の一部を助成'},\n",
              "    {'name': '高齢者等民間賃貸住宅入居支援制度',\n",
              "     'detail': '千代田区内に居住する高齢者・障害者・ひとり親世帯のいずれかが区内での転居をする際に、保証会社利用料への助成等を行う'},\n",
              "    {'name': '高齢者等安心居住支援家賃助成制度',\n",
              "     'detail': '千代田区内の持ち家に居住する方で、その居住する住宅のバリアフリー改修が困難等の理由により居宅での日常生活に支障が生じ、緊急に代替となる住宅の確保が必要と認められる要介護高齢者世帯等に対して、民間賃貸住宅の家賃等の一部を助成（月額5万円、２年間）'}]},\n",
              "  {'title': 'その他独自の取り組み', 'items': [{'name': '', 'detail': 'なし'}]}],\n",
              " 'character': 'chiyoda.jpg',\n",
              " 'copyright': '©千代田区(仮)'}"
            ]
          },
          "metadata": {},
          "execution_count": 17
        }
      ]
    },
    {
      "cell_type": "code",
      "source": [],
      "metadata": {
        "id": "uMnerk_c6zng"
      },
      "execution_count": 17,
      "outputs": []
    }
  ]
}