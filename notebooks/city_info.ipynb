{
  "nbformat": 4,
  "nbformat_minor": 0,
  "metadata": {
    "colab": {
      "provenance": [],
      "authorship_tag": "ABX9TyMubXlqlbZkOr4D/cHx6Cms",
      "include_colab_link": true
    },
    "kernelspec": {
      "name": "python3",
      "display_name": "Python 3"
    },
    "language_info": {
      "name": "python"
    }
  },
  "cells": [
    {
      "cell_type": "markdown",
      "metadata": {
        "id": "view-in-github",
        "colab_type": "text"
      },
      "source": [
        "<a href=\"https://colab.research.google.com/github/z-guard/analysis/blob/main/notebooks/city_info.ipynb\" target=\"_parent\"><img src=\"https://colab.research.google.com/assets/colab-badge.svg\" alt=\"Open In Colab\"/></a>"
      ]
    },
    {
      "cell_type": "markdown",
      "source": [
        "## 行政情報のexcelファイルををjsonファイルに変換して出力"
      ],
      "metadata": {
        "id": "_gg-eR-07OaJ"
      }
    },
    {
      "cell_type": "code",
      "execution_count": 1,
      "metadata": {
        "colab": {
          "base_uri": "https://localhost:8080/"
        },
        "id": "bAH-Y8U8zhsF",
        "outputId": "0f57d4f8-21ca-49ac-9b10-692ddedbc050"
      },
      "outputs": [
        {
          "output_type": "stream",
          "name": "stdout",
          "text": [
            "Drive already mounted at /content/drive; to attempt to forcibly remount, call drive.mount(\"/content/drive\", force_remount=True).\n"
          ]
        }
      ],
      "source": [
        "from google.colab import drive\n",
        "drive.mount('/content/drive')"
      ]
    },
    {
      "cell_type": "code",
      "source": [
        "import os\n",
        "import pandas as pd\n",
        "import json"
      ],
      "metadata": {
        "id": "8cOpgufn0Kap"
      },
      "execution_count": 2,
      "outputs": []
    },
    {
      "cell_type": "code",
      "source": [
        "DIR_NAME = '/content/drive/MyDrive/z-gard/行政情報'"
      ],
      "metadata": {
        "id": "dHRyH3ynzqL9"
      },
      "execution_count": 3,
      "outputs": []
    },
    {
      "cell_type": "code",
      "source": [
        "df_city_info = pd.read_excel(os.path.join(DIR_NAME, '23区行政サービス一覧220206.xlsx'), sheet_name=1, header=1, index_col=None)\n",
        "\n",
        "df_city_info = df_city_info.rename(columns={\n",
        "    '項目': 'title',\n",
        "    '区の公式HPの情報URL': 'URL',\n",
        "    '区の公式HPに掲載の補助金・手当名': 'name',\n",
        "    '区の公式HPに掲載の補助金-詳細': 'detail'\n",
        "}).drop(columns=['URL'])\n",
        "print(df_city_info.shape)"
      ],
      "metadata": {
        "colab": {
          "base_uri": "https://localhost:8080/"
        },
        "id": "6lRB5gW-0AL_",
        "outputId": "082e6fe3-f2af-468b-ada5-8284342875ad"
      },
      "execution_count": 4,
      "outputs": [
        {
          "output_type": "stream",
          "name": "stdout",
          "text": [
            "(168, 4)\n"
          ]
        }
      ]
    },
    {
      "cell_type": "code",
      "source": [
        "df_city_info['title'] = df_city_info['title'].replace('[①②③④]', '', regex=True)\n",
        "df_city_info['name'] = df_city_info['name'].fillna('').replace('なし', '').replace('公立学校の学校選択制', '')\n",
        "df_city_info['detail'] = df_city_info['detail'].fillna('').replace('', 'なし')"
      ],
      "metadata": {
        "id": "pS67-hMwA43F"
      },
      "execution_count": 5,
      "outputs": []
    },
    {
      "cell_type": "code",
      "source": [
        "df_city_info"
      ],
      "metadata": {
        "colab": {
          "base_uri": "https://localhost:8080/",
          "height": 641
        },
        "id": "CHkyXlTX0vsW",
        "outputId": "de0f2208-b632-4aab-b2f0-dc8246339105"
      },
      "execution_count": 6,
      "outputs": [
        {
          "output_type": "execute_result",
          "data": {
            "text/plain": [
              "       区名       title                                        name  \\\n",
              "0    千代田区  妊娠・出産関連の手当                                      誕生準備手当   \n",
              "1    千代田区  公立学校の学校選択制                                               \n",
              "2    千代田区     居住関連の手当                                   次世代育成住宅助成   \n",
              "3    千代田区     居住関連の手当                                  居住安定支援家賃助成   \n",
              "4    千代田区     居住関連の手当                            高齢者等民間賃貸住宅入居支援制度   \n",
              "..    ...         ...                                         ...   \n",
              "163  江戸川区  その他独自の取り組み                        2nd（セカンド）バースデーサポート事業   \n",
              "164  江戸川区  その他独自の取り組み                  家事支援用品給付事業「えどがわママパパ応援給付事業」   \n",
              "165  江戸川区  その他独自の取り組み                               2歳以降の長期育休支援制度   \n",
              "166  江戸川区  その他独自の取り組み  ひとり親や住民税非課税等の子育て世帯へ区独自「低所得のひとり親世帯等生活支援給付金」   \n",
              "167  江戸川区  その他独自の取り組み                               多胎児家庭移動経費補助事業   \n",
              "\n",
              "                                                detail  \n",
              "0    一妊娠につき、一時金として 45,000円を支給（多児妊娠・出産でも、同額。流産または死産の...  \n",
              "1                                                  中学校  \n",
              "2    千代田区内の民間賃貸住宅またはマイホームへの住み替えをする世帯のうち、以下の1、2のいずれか...  \n",
              "3    千代田区内に引き続き2年以上居住する高齢者世帯・障害者世帯・ひとり親世帯が、取り壊し等により...  \n",
              "4    千代田区内に居住する高齢者・障害者・ひとり親世帯のいずれかが区内での転居をする際に、保証会社...  \n",
              "..                                                 ...  \n",
              "163  2歳の誕生日を迎えるお子さんを養育しているご家庭を応援する事業。事業案内通知に従いアンケート...  \n",
              "164  コロナ禍における子育てを応援するため、家事・育児支援サポーターの利用に替えて、5万円相当の時...  \n",
              "165  2歳以降も育児休業を取得できるように環境整備をした区内事業所を、子育て先進企業として区が認定...  \n",
              "166  国の「令和4年度　低所得の子育て世帯に対する子育て世帯生活支援特別給付金（児童1人当たり5万...  \n",
              "167  江戸川区に住民票があり0歳、1歳、2歳の多胎児を養育する家庭に、保健師による訪問または面接を...  \n",
              "\n",
              "[168 rows x 4 columns]"
            ],
            "text/html": [
              "\n",
              "  <div id=\"df-fa86ca3d-dee7-48e8-a42e-25818bdbdd2b\">\n",
              "    <div class=\"colab-df-container\">\n",
              "      <div>\n",
              "<style scoped>\n",
              "    .dataframe tbody tr th:only-of-type {\n",
              "        vertical-align: middle;\n",
              "    }\n",
              "\n",
              "    .dataframe tbody tr th {\n",
              "        vertical-align: top;\n",
              "    }\n",
              "\n",
              "    .dataframe thead th {\n",
              "        text-align: right;\n",
              "    }\n",
              "</style>\n",
              "<table border=\"1\" class=\"dataframe\">\n",
              "  <thead>\n",
              "    <tr style=\"text-align: right;\">\n",
              "      <th></th>\n",
              "      <th>区名</th>\n",
              "      <th>title</th>\n",
              "      <th>name</th>\n",
              "      <th>detail</th>\n",
              "    </tr>\n",
              "  </thead>\n",
              "  <tbody>\n",
              "    <tr>\n",
              "      <th>0</th>\n",
              "      <td>千代田区</td>\n",
              "      <td>妊娠・出産関連の手当</td>\n",
              "      <td>誕生準備手当</td>\n",
              "      <td>一妊娠につき、一時金として 45,000円を支給（多児妊娠・出産でも、同額。流産または死産の...</td>\n",
              "    </tr>\n",
              "    <tr>\n",
              "      <th>1</th>\n",
              "      <td>千代田区</td>\n",
              "      <td>公立学校の学校選択制</td>\n",
              "      <td></td>\n",
              "      <td>中学校</td>\n",
              "    </tr>\n",
              "    <tr>\n",
              "      <th>2</th>\n",
              "      <td>千代田区</td>\n",
              "      <td>居住関連の手当</td>\n",
              "      <td>次世代育成住宅助成</td>\n",
              "      <td>千代田区内の民間賃貸住宅またはマイホームへの住み替えをする世帯のうち、以下の1、2のいずれか...</td>\n",
              "    </tr>\n",
              "    <tr>\n",
              "      <th>3</th>\n",
              "      <td>千代田区</td>\n",
              "      <td>居住関連の手当</td>\n",
              "      <td>居住安定支援家賃助成</td>\n",
              "      <td>千代田区内に引き続き2年以上居住する高齢者世帯・障害者世帯・ひとり親世帯が、取り壊し等により...</td>\n",
              "    </tr>\n",
              "    <tr>\n",
              "      <th>4</th>\n",
              "      <td>千代田区</td>\n",
              "      <td>居住関連の手当</td>\n",
              "      <td>高齢者等民間賃貸住宅入居支援制度</td>\n",
              "      <td>千代田区内に居住する高齢者・障害者・ひとり親世帯のいずれかが区内での転居をする際に、保証会社...</td>\n",
              "    </tr>\n",
              "    <tr>\n",
              "      <th>...</th>\n",
              "      <td>...</td>\n",
              "      <td>...</td>\n",
              "      <td>...</td>\n",
              "      <td>...</td>\n",
              "    </tr>\n",
              "    <tr>\n",
              "      <th>163</th>\n",
              "      <td>江戸川区</td>\n",
              "      <td>その他独自の取り組み</td>\n",
              "      <td>2nd（セカンド）バースデーサポート事業</td>\n",
              "      <td>2歳の誕生日を迎えるお子さんを養育しているご家庭を応援する事業。事業案内通知に従いアンケート...</td>\n",
              "    </tr>\n",
              "    <tr>\n",
              "      <th>164</th>\n",
              "      <td>江戸川区</td>\n",
              "      <td>その他独自の取り組み</td>\n",
              "      <td>家事支援用品給付事業「えどがわママパパ応援給付事業」</td>\n",
              "      <td>コロナ禍における子育てを応援するため、家事・育児支援サポーターの利用に替えて、5万円相当の時...</td>\n",
              "    </tr>\n",
              "    <tr>\n",
              "      <th>165</th>\n",
              "      <td>江戸川区</td>\n",
              "      <td>その他独自の取り組み</td>\n",
              "      <td>2歳以降の長期育休支援制度</td>\n",
              "      <td>2歳以降も育児休業を取得できるように環境整備をした区内事業所を、子育て先進企業として区が認定...</td>\n",
              "    </tr>\n",
              "    <tr>\n",
              "      <th>166</th>\n",
              "      <td>江戸川区</td>\n",
              "      <td>その他独自の取り組み</td>\n",
              "      <td>ひとり親や住民税非課税等の子育て世帯へ区独自「低所得のひとり親世帯等生活支援給付金」</td>\n",
              "      <td>国の「令和4年度　低所得の子育て世帯に対する子育て世帯生活支援特別給付金（児童1人当たり5万...</td>\n",
              "    </tr>\n",
              "    <tr>\n",
              "      <th>167</th>\n",
              "      <td>江戸川区</td>\n",
              "      <td>その他独自の取り組み</td>\n",
              "      <td>多胎児家庭移動経費補助事業</td>\n",
              "      <td>江戸川区に住民票があり0歳、1歳、2歳の多胎児を養育する家庭に、保健師による訪問または面接を...</td>\n",
              "    </tr>\n",
              "  </tbody>\n",
              "</table>\n",
              "<p>168 rows × 4 columns</p>\n",
              "</div>\n",
              "      <button class=\"colab-df-convert\" onclick=\"convertToInteractive('df-fa86ca3d-dee7-48e8-a42e-25818bdbdd2b')\"\n",
              "              title=\"Convert this dataframe to an interactive table.\"\n",
              "              style=\"display:none;\">\n",
              "        \n",
              "  <svg xmlns=\"http://www.w3.org/2000/svg\" height=\"24px\"viewBox=\"0 0 24 24\"\n",
              "       width=\"24px\">\n",
              "    <path d=\"M0 0h24v24H0V0z\" fill=\"none\"/>\n",
              "    <path d=\"M18.56 5.44l.94 2.06.94-2.06 2.06-.94-2.06-.94-.94-2.06-.94 2.06-2.06.94zm-11 1L8.5 8.5l.94-2.06 2.06-.94-2.06-.94L8.5 2.5l-.94 2.06-2.06.94zm10 10l.94 2.06.94-2.06 2.06-.94-2.06-.94-.94-2.06-.94 2.06-2.06.94z\"/><path d=\"M17.41 7.96l-1.37-1.37c-.4-.4-.92-.59-1.43-.59-.52 0-1.04.2-1.43.59L10.3 9.45l-7.72 7.72c-.78.78-.78 2.05 0 2.83L4 21.41c.39.39.9.59 1.41.59.51 0 1.02-.2 1.41-.59l7.78-7.78 2.81-2.81c.8-.78.8-2.07 0-2.86zM5.41 20L4 18.59l7.72-7.72 1.47 1.35L5.41 20z\"/>\n",
              "  </svg>\n",
              "      </button>\n",
              "      \n",
              "  <style>\n",
              "    .colab-df-container {\n",
              "      display:flex;\n",
              "      flex-wrap:wrap;\n",
              "      gap: 12px;\n",
              "    }\n",
              "\n",
              "    .colab-df-convert {\n",
              "      background-color: #E8F0FE;\n",
              "      border: none;\n",
              "      border-radius: 50%;\n",
              "      cursor: pointer;\n",
              "      display: none;\n",
              "      fill: #1967D2;\n",
              "      height: 32px;\n",
              "      padding: 0 0 0 0;\n",
              "      width: 32px;\n",
              "    }\n",
              "\n",
              "    .colab-df-convert:hover {\n",
              "      background-color: #E2EBFA;\n",
              "      box-shadow: 0px 1px 2px rgba(60, 64, 67, 0.3), 0px 1px 3px 1px rgba(60, 64, 67, 0.15);\n",
              "      fill: #174EA6;\n",
              "    }\n",
              "\n",
              "    [theme=dark] .colab-df-convert {\n",
              "      background-color: #3B4455;\n",
              "      fill: #D2E3FC;\n",
              "    }\n",
              "\n",
              "    [theme=dark] .colab-df-convert:hover {\n",
              "      background-color: #434B5C;\n",
              "      box-shadow: 0px 1px 3px 1px rgba(0, 0, 0, 0.15);\n",
              "      filter: drop-shadow(0px 1px 2px rgba(0, 0, 0, 0.3));\n",
              "      fill: #FFFFFF;\n",
              "    }\n",
              "  </style>\n",
              "\n",
              "      <script>\n",
              "        const buttonEl =\n",
              "          document.querySelector('#df-fa86ca3d-dee7-48e8-a42e-25818bdbdd2b button.colab-df-convert');\n",
              "        buttonEl.style.display =\n",
              "          google.colab.kernel.accessAllowed ? 'block' : 'none';\n",
              "\n",
              "        async function convertToInteractive(key) {\n",
              "          const element = document.querySelector('#df-fa86ca3d-dee7-48e8-a42e-25818bdbdd2b');\n",
              "          const dataTable =\n",
              "            await google.colab.kernel.invokeFunction('convertToInteractive',\n",
              "                                                     [key], {});\n",
              "          if (!dataTable) return;\n",
              "\n",
              "          const docLinkHtml = 'Like what you see? Visit the ' +\n",
              "            '<a target=\"_blank\" href=https://colab.research.google.com/notebooks/data_table.ipynb>data table notebook</a>'\n",
              "            + ' to learn more about interactive tables.';\n",
              "          element.innerHTML = '';\n",
              "          dataTable['output_type'] = 'display_data';\n",
              "          await google.colab.output.renderOutput(dataTable, element);\n",
              "          const docLink = document.createElement('div');\n",
              "          docLink.innerHTML = docLinkHtml;\n",
              "          element.appendChild(docLink);\n",
              "        }\n",
              "      </script>\n",
              "    </div>\n",
              "  </div>\n",
              "  "
            ]
          },
          "metadata": {},
          "execution_count": 6
        }
      ]
    },
    {
      "cell_type": "markdown",
      "source": [
        "### dict形式に変換して、区ごとにまとめる"
      ],
      "metadata": {
        "id": "FuwlUwBw7GMW"
      }
    },
    {
      "cell_type": "code",
      "source": [
        "title_list = list(df_city_info['title'].unique())\n",
        "print(title_list)"
      ],
      "metadata": {
        "colab": {
          "base_uri": "https://localhost:8080/"
        },
        "id": "uXeghaiOLST-",
        "outputId": "0f2ca519-b44e-491d-c4b3-c10b04375465"
      },
      "execution_count": 7,
      "outputs": [
        {
          "output_type": "stream",
          "name": "stdout",
          "text": [
            "['妊娠・出産関連の手当', '公立学校の学校選択制', '居住関連の手当', 'その他独自の取り組み']\n"
          ]
        }
      ]
    },
    {
      "cell_type": "code",
      "source": [
        "city_list = list(df_city_info['区名'].unique())\n",
        "output_dict = {city:{'info':[]} for city in city_list}"
      ],
      "metadata": {
        "id": "7id3UqHJD15A"
      },
      "execution_count": 8,
      "outputs": []
    },
    {
      "cell_type": "code",
      "source": [
        "for city in output_dict.keys():\n",
        "    for title in title_list:\n",
        "        output_dict[city]['info'].append({'title': title, 'items':[]})"
      ],
      "metadata": {
        "id": "--MDmCBHMDs9"
      },
      "execution_count": 9,
      "outputs": []
    },
    {
      "cell_type": "code",
      "source": [
        "df_city_dict = df_city_info.to_dict(orient='index')\n",
        "print(len(df_city_dict))\n",
        "\n",
        "for val in df_city_dict.values():\n",
        "    titles = output_dict[val['区名']]\n",
        "    for t in titles['info']:\n",
        "        if t['title'] == val['title']:\n",
        "            t['items'].append({'name': val['name'], 'detail': val['detail']})\n",
        "            break"
      ],
      "metadata": {
        "colab": {
          "base_uri": "https://localhost:8080/"
        },
        "id": "fwZbDUHD1Agr",
        "outputId": "05171a86-9703-4bd4-d88b-e122a96cee73"
      },
      "execution_count": 10,
      "outputs": [
        {
          "output_type": "stream",
          "name": "stdout",
          "text": [
            "168\n"
          ]
        }
      ]
    },
    {
      "cell_type": "markdown",
      "source": [
        "### キャラクター"
      ],
      "metadata": {
        "id": "CaqjqOUEScfx"
      }
    },
    {
      "cell_type": "code",
      "source": [
        "chara_list = {\n",
        "    '千代田区': ['chiyoda.jpg', '©千代田区(仮)'],\n",
        "    '港区': ['minato.jpg', '©港区(仮)'],\n",
        "    '新宿区': ['shinjuku.jpg', '©新宿区(仮)'],\n",
        "    '文京区': ['bunkyo.jpg', '©文京区(仮)'],\n",
        "    '台東区': ['taito.jpg', '©台東区(仮)'],\n",
        "    '中央区': ['chuou.jpg', '©中央区(仮)'],\n",
        "    '墨田区': ['sumida.jpg', '©墨田区(仮)'],\n",
        "    '目黒区': ['meguro.jpg', '©目黒区(仮)'],\n",
        "    '大田区': ['oota.jpg', '©大田区(仮)'],\n",
        "    '江東区': ['koutou.jpg', '©江東区(仮)'],\n",
        "    '品川区': ['shinagawa.jpg', '©品川区(仮)'],\n",
        "    '世田谷区': ['setagaya.jpg', '©世田谷区(仮)'],\n",
        "    '中野区': ['nakano.jpg', '中野大好きナカノさん ©中野区'],\n",
        "    '豊島区': ['toshima.jpg', '©豊島区(仮)'],\n",
        "    '杉並区': ['suginami.jpg', '©杉並区(仮)'],\n",
        "    '渋谷区': ['shibuya.jpg', '©SHIBUYA CITY'],\n",
        "    '北区': ['kita.jpg', '©北区(仮)'],\n",
        "    '荒川区': ['arakawa.jpg', 'Ⓒ荒川区 2010 ＃（許諾番号）(仮)'], # 丸ゴシック体とフォントの指定があるため、画像に埋め込むのが良い\n",
        "    '板橋区': ['itahashi.jpg', '©板橋区(仮)'],\n",
        "    '練馬区': ['nerima.jpg', '©2011練馬区ねり丸＃N40'],\n",
        "    '足立区': ['adachi.jpg', '©足立区(仮)'],\n",
        "    '葛飾区': ['katsushika.jpg', '©葛飾区(仮)'],\n",
        "    '江戸川区': ['edogawa.jpg', '©江戸川区(仮)'],\n",
        "}"
      ],
      "metadata": {
        "id": "jW_DtwWaSwvn"
      },
      "execution_count": 17,
      "outputs": []
    },
    {
      "cell_type": "code",
      "source": [
        "for key, val in output_dict.items():\n",
        "    val['character'] = chara_list[key][0]\n",
        "    val['copyright'] = chara_list[key][1]"
      ],
      "metadata": {
        "id": "sCC2uLxcSe5m"
      },
      "execution_count": 18,
      "outputs": []
    },
    {
      "cell_type": "code",
      "source": [
        "output_dict['江戸川区']"
      ],
      "metadata": {
        "colab": {
          "base_uri": "https://localhost:8080/"
        },
        "id": "u1vP_AuN2jAz",
        "outputId": "7cd67a30-8b78-46df-9e94-bf262d189162"
      },
      "execution_count": 19,
      "outputs": [
        {
          "output_type": "execute_result",
          "data": {
            "text/plain": [
              "{'info': [{'title': '妊娠・出産関連の手当',\n",
              "   'items': [{'name': '多胎妊婦に対する妊婦健康診査受診費の助成',\n",
              "     'detail': '多胎妊婦が妊婦健康診査受診票14回分を超えて自費で妊婦健康診査を受けた場合の費用の一部を助成。妊婦健康診査1回につき5,070円まで'},\n",
              "    {'name': '妊婦歯科健診', 'detail': '妊娠中に1回受診可能'},\n",
              "    {'name': '特定不妊治療費の助成',\n",
              "     'detail': '「東京都特定不妊治療費助成事業の承認決定を受けている方」に対して、特定不妊治療（体外受精および顕微授精）および男性不妊治療（精巣内精子生検採取法）にかかった保険適用外の医療費（文書料や保険適用の医療費は含まず）を助成'}]},\n",
              "  {'title': '公立学校の学校選択制', 'items': [{'name': '', 'detail': '小学校・中学校'}]},\n",
              "  {'title': '居住関連の手当', 'items': [{'name': '', 'detail': 'なし'}]},\n",
              "  {'title': 'その他独自の取り組み',\n",
              "   'items': [{'name': 'ファーストバースデーサポート事業',\n",
              "     'detail': '1歳の誕生日を迎えるお子さんを養育しているご家庭を応援する事業。事業案内通知に従いアンケートを提出したご家庭に、ギフト「こども商品券」を配付。第1子は1万円分、第2子は2万円分、第3子以降は3万円分'},\n",
              "    {'name': '2nd（セカンド）バースデーサポート事業',\n",
              "     'detail': '2歳の誕生日を迎えるお子さんを養育しているご家庭を応援する事業。事業案内通知に従いアンケートを提出したご家庭に、ギフト「こども商品券（2,000円分）」を配付'},\n",
              "    {'name': '家事支援用品給付事業「えどがわママパパ応援給付事業」',\n",
              "     'detail': 'コロナ禍における子育てを応援するため、家事・育児支援サポーターの利用に替えて、5万円相当の時短家電等の家事支援用品を給付'},\n",
              "    {'name': '2歳以降の長期育休支援制度',\n",
              "     'detail': '2歳以降も育児休業を取得できるように環境整備をした区内事業所を、子育て先進企業として区が認定し、代替従業員にかかる求人広告費や育休者との賃金差額を補助'},\n",
              "    {'name': 'ひとり親や住民税非課税等の子育て世帯へ区独自「低所得のひとり親世帯等生活支援給付金」',\n",
              "     'detail': '国の「令和4年度\\u3000低所得の子育て世帯に対する子育て世帯生活支援特別給付金（児童1人当たり5万円）」の受給者に対して、江戸川区で独自に、児童1人当たり5万円を現金で支援'},\n",
              "    {'name': '多胎児家庭移動経費補助事業',\n",
              "     'detail': '江戸川区に住民票があり0歳、1歳、2歳の多胎児を養育する家庭に、保健師による訪問または面接を実施したうえで、タクシーにも使える「こども商品券」を配付。0歳、1歳、2歳時の各年齢につき1回、タクシーにも利用できる「こども商品券（24,000円分）」'}]}],\n",
              " 'character': 'edogawa.jpg',\n",
              " 'copyright': '©江戸川区(仮)'}"
            ]
          },
          "metadata": {},
          "execution_count": 19
        }
      ]
    },
    {
      "cell_type": "markdown",
      "source": [
        "### jsonファイルに出力"
      ],
      "metadata": {
        "id": "PgWVZJwT6_xj"
      }
    },
    {
      "cell_type": "code",
      "source": [
        "output_file = os.path.join(DIR_NAME, 'city_info.json')\n",
        "with open(output_file, 'w', encoding='utf-8') as f:\n",
        "    json.dump(output_dict, f, indent=4, ensure_ascii=False)\n",
        "\n",
        "print(output_file)"
      ],
      "metadata": {
        "colab": {
          "base_uri": "https://localhost:8080/"
        },
        "id": "o79Tfm824JB2",
        "outputId": "ea074c42-4c37-44e1-e996-7e1fee2de278"
      },
      "execution_count": 20,
      "outputs": [
        {
          "output_type": "stream",
          "name": "stdout",
          "text": [
            "/content/drive/MyDrive/z-gard/行政情報/city_info.json\n"
          ]
        }
      ]
    },
    {
      "cell_type": "markdown",
      "source": [
        "### jsonファイルを読み出して確認"
      ],
      "metadata": {
        "id": "kwthGdg1669P"
      }
    },
    {
      "cell_type": "code",
      "source": [
        "with open(output_file) as f:\n",
        "    input_json = json.load(f)"
      ],
      "metadata": {
        "id": "XgU_EHIa5moD"
      },
      "execution_count": 21,
      "outputs": []
    },
    {
      "cell_type": "code",
      "source": [
        "input_json['江戸川区']"
      ],
      "metadata": {
        "colab": {
          "base_uri": "https://localhost:8080/"
        },
        "id": "9hmRPQ6R6yJi",
        "outputId": "0bb7d2f3-5a4e-4c18-f6a4-3073afba70b2"
      },
      "execution_count": 22,
      "outputs": [
        {
          "output_type": "execute_result",
          "data": {
            "text/plain": [
              "{'info': [{'title': '妊娠・出産関連の手当',\n",
              "   'items': [{'name': '多胎妊婦に対する妊婦健康診査受診費の助成',\n",
              "     'detail': '多胎妊婦が妊婦健康診査受診票14回分を超えて自費で妊婦健康診査を受けた場合の費用の一部を助成。妊婦健康診査1回につき5,070円まで'},\n",
              "    {'name': '妊婦歯科健診', 'detail': '妊娠中に1回受診可能'},\n",
              "    {'name': '特定不妊治療費の助成',\n",
              "     'detail': '「東京都特定不妊治療費助成事業の承認決定を受けている方」に対して、特定不妊治療（体外受精および顕微授精）および男性不妊治療（精巣内精子生検採取法）にかかった保険適用外の医療費（文書料や保険適用の医療費は含まず）を助成'}]},\n",
              "  {'title': '公立学校の学校選択制', 'items': [{'name': '', 'detail': '小学校・中学校'}]},\n",
              "  {'title': '居住関連の手当', 'items': [{'name': '', 'detail': 'なし'}]},\n",
              "  {'title': 'その他独自の取り組み',\n",
              "   'items': [{'name': 'ファーストバースデーサポート事業',\n",
              "     'detail': '1歳の誕生日を迎えるお子さんを養育しているご家庭を応援する事業。事業案内通知に従いアンケートを提出したご家庭に、ギフト「こども商品券」を配付。第1子は1万円分、第2子は2万円分、第3子以降は3万円分'},\n",
              "    {'name': '2nd（セカンド）バースデーサポート事業',\n",
              "     'detail': '2歳の誕生日を迎えるお子さんを養育しているご家庭を応援する事業。事業案内通知に従いアンケートを提出したご家庭に、ギフト「こども商品券（2,000円分）」を配付'},\n",
              "    {'name': '家事支援用品給付事業「えどがわママパパ応援給付事業」',\n",
              "     'detail': 'コロナ禍における子育てを応援するため、家事・育児支援サポーターの利用に替えて、5万円相当の時短家電等の家事支援用品を給付'},\n",
              "    {'name': '2歳以降の長期育休支援制度',\n",
              "     'detail': '2歳以降も育児休業を取得できるように環境整備をした区内事業所を、子育て先進企業として区が認定し、代替従業員にかかる求人広告費や育休者との賃金差額を補助'},\n",
              "    {'name': 'ひとり親や住民税非課税等の子育て世帯へ区独自「低所得のひとり親世帯等生活支援給付金」',\n",
              "     'detail': '国の「令和4年度\\u3000低所得の子育て世帯に対する子育て世帯生活支援特別給付金（児童1人当たり5万円）」の受給者に対して、江戸川区で独自に、児童1人当たり5万円を現金で支援'},\n",
              "    {'name': '多胎児家庭移動経費補助事業',\n",
              "     'detail': '江戸川区に住民票があり0歳、1歳、2歳の多胎児を養育する家庭に、保健師による訪問または面接を実施したうえで、タクシーにも使える「こども商品券」を配付。0歳、1歳、2歳時の各年齢につき1回、タクシーにも利用できる「こども商品券（24,000円分）」'}]}],\n",
              " 'character': 'edogawa.jpg',\n",
              " 'copyright': '©江戸川区(仮)'}"
            ]
          },
          "metadata": {},
          "execution_count": 22
        }
      ]
    },
    {
      "cell_type": "code",
      "source": [],
      "metadata": {
        "id": "uMnerk_c6zng"
      },
      "execution_count": 22,
      "outputs": []
    }
  ]
}