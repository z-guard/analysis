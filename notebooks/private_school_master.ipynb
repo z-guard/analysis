{
  "nbformat": 4,
  "nbformat_minor": 0,
  "metadata": {
    "colab": {
      "provenance": [],
      "authorship_tag": "ABX9TyPIbcVeSC5Nh7aWjz1CHahM",
      "include_colab_link": true
    },
    "kernelspec": {
      "name": "python3",
      "display_name": "Python 3"
    },
    "language_info": {
      "name": "python"
    }
  },
  "cells": [
    {
      "cell_type": "markdown",
      "metadata": {
        "id": "view-in-github",
        "colab_type": "text"
      },
      "source": [
        "<a href=\"https://colab.research.google.com/github/z-guard/analysis/blob/main/notebooks/private_school_master.ipynb\" target=\"_parent\"><img src=\"https://colab.research.google.com/assets/colab-badge.svg\" alt=\"Open In Colab\"/></a>"
      ]
    },
    {
      "cell_type": "markdown",
      "source": [
        "## 私立学校・塾・教室\n",
        "- 幼稚園\n",
        "- 小学校\n",
        "- 中学校"
      ],
      "metadata": {
        "id": "Iv0Kpy2oJeOh"
      }
    },
    {
      "cell_type": "code",
      "execution_count": 1,
      "metadata": {
        "colab": {
          "base_uri": "https://localhost:8080/"
        },
        "id": "2V_8M7L1JOd6",
        "outputId": "bb178af2-3d0d-4199-d750-e4e0de59ec79"
      },
      "outputs": [
        {
          "output_type": "stream",
          "name": "stdout",
          "text": [
            "Drive already mounted at /content/drive; to attempt to forcibly remount, call drive.mount(\"/content/drive\", force_remount=True).\n"
          ]
        }
      ],
      "source": [
        "from google.colab import drive\n",
        "drive.mount('/content/drive')"
      ]
    },
    {
      "cell_type": "code",
      "source": [
        "import os\n",
        "import pandas as pd\n",
        "import numpy as np\n",
        "\n",
        "pd.set_option('display.max_columns', 50)\n",
        "pd.set_option('display.max_rows', 100)"
      ],
      "metadata": {
        "id": "byrf39cpJdju"
      },
      "execution_count": 2,
      "outputs": []
    },
    {
      "cell_type": "code",
      "source": [
        "DIR_NAME = '/content/drive/MyDrive/z-gard/data'"
      ],
      "metadata": {
        "id": "ljz4XoUYJvFP"
      },
      "execution_count": 3,
      "outputs": []
    },
    {
      "cell_type": "code",
      "source": [
        "df_school_org = pd.read_csv(os.path.join(DIR_NAME, 'school_nearby.csv'))\n",
        "print(df_school_org.shape)"
      ],
      "metadata": {
        "colab": {
          "base_uri": "https://localhost:8080/"
        },
        "id": "O2UbhMowJyO7",
        "outputId": "4485589b-d161-458d-f3c8-fe6b9ee4a288"
      },
      "execution_count": 4,
      "outputs": [
        {
          "output_type": "stream",
          "name": "stdout",
          "text": [
            "(9507, 7)\n"
          ]
        }
      ]
    },
    {
      "cell_type": "code",
      "source": [
        "df_school_org['types_list'] = df_school_org['types'].apply(lambda x: x.replace('\"', '').replace('[', '').replace(']', '').replace(\"'\", '').replace(' ', '').split(','))\n",
        "types_list = df_school_org['types_list'].explode()"
      ],
      "metadata": {
        "id": "KCFwpArZKIx-"
      },
      "execution_count": 5,
      "outputs": []
    },
    {
      "cell_type": "code",
      "source": [
        "types_list.value_counts().head(15)"
      ],
      "metadata": {
        "colab": {
          "base_uri": "https://localhost:8080/"
        },
        "id": "D7bWj-emNBMK",
        "outputId": "92855aea-e1e0-4964-dc4b-a5dd0c198df6"
      },
      "execution_count": 6,
      "outputs": [
        {
          "output_type": "execute_result",
          "data": {
            "text/plain": [
              "point_of_interest     9507\n",
              "establishment         9507\n",
              "school                9507\n",
              "primary_school         738\n",
              "store                  386\n",
              "electronics_store      346\n",
              "home_goods_store       345\n",
              "secondary_school       118\n",
              "health                  90\n",
              "university              76\n",
              "gym                     44\n",
              "food                    31\n",
              "real_estate_agency      26\n",
              "cafe                    20\n",
              "restaurant               9\n",
              "Name: types_list, dtype: int64"
            ]
          },
          "metadata": {},
          "execution_count": 6
        }
      ]
    },
    {
      "cell_type": "code",
      "source": [
        "school_types = ['幼稚園', '保育園', '小学校', '中学校', '高等学校', '大学', '専門学校', '学童保育', '幼児教室', '学習塾', '音楽教室', '英語教室', 'プログラミング', 'ダンス', '囲碁将棋']"
      ],
      "metadata": {
        "id": "_chPC1PhOdm9"
      },
      "execution_count": 7,
      "outputs": []
    },
    {
      "cell_type": "code",
      "source": [
        "for t in school_types:\n",
        "    df_school_org[t] = 0\n",
        "    df_school_org.loc[df_school_org['name'].str.endswith(t), t] = 1\n",
        "df_school_org['sum'] = df_school_org[school_types].sum(axis=1)"
      ],
      "metadata": {
        "id": "0AjPUhtBNVKt"
      },
      "execution_count": 8,
      "outputs": []
    },
    {
      "cell_type": "code",
      "source": [
        "for t in school_types:\n",
        "    df_school_org.loc[(df_school_org['sum'] == 0)&(df_school_org['name'].str.contains(t)), t] = 1\n",
        "df_school_org['sum'] = df_school_org[school_types].sum(axis=1)"
      ],
      "metadata": {
        "id": "ITtXD3kcO616"
      },
      "execution_count": 9,
      "outputs": []
    },
    {
      "cell_type": "code",
      "source": [
        "for t in ['高校', '高等部']:\n",
        "    df_school_org.loc[(df_school_org['sum'] == 0)&(df_school_org['name'].str.contains(t)), '高等学校'] = 1\n",
        "df_school_org['sum'] = df_school_org[school_types].sum(axis=1)"
      ],
      "metadata": {
        "id": "i-_599bnXMTw"
      },
      "execution_count": 10,
      "outputs": []
    },
    {
      "cell_type": "code",
      "source": [
        "for t in ['保育', 'こども園', 'ほいくえん', '幼保園', '子ども園']:\n",
        "    df_school_org.loc[(df_school_org['sum'] == 0)&(df_school_org['name'].str.contains(t)), '保育園'] = 1\n",
        "df_school_org['sum'] = df_school_org[school_types].sum(axis=1)"
      ],
      "metadata": {
        "id": "vGArn54iR_1T"
      },
      "execution_count": 11,
      "outputs": []
    },
    {
      "cell_type": "code",
      "source": [
        "for t in ['幼児園', '幼児舎', 'ようちえん']:\n",
        "    df_school_org.loc[(df_school_org['sum'] == 0)&(df_school_org['name'].str.contains(t)), '幼稚園'] = 1\n",
        "df_school_org['sum'] = df_school_org[school_types].sum(axis=1)"
      ],
      "metadata": {
        "id": "BQVXVp3TWhet"
      },
      "execution_count": 12,
      "outputs": []
    },
    {
      "cell_type": "code",
      "source": [
        "for t in ['学童', '放課後ひろば']:\n",
        "    df_school_org.loc[(df_school_org['sum'] == 0)&(df_school_org['name'].str.contains(t)), '学童保育'] = 1\n",
        "df_school_org['sum'] = df_school_org[school_types].sum(axis=1)"
      ],
      "metadata": {
        "id": "gHi2iO3CeH_2"
      },
      "execution_count": 13,
      "outputs": []
    },
    {
      "cell_type": "code",
      "source": [
        "for t in ['キッズ', 'チャイルド', '幼児教育', '知育']:\n",
        "    df_school_org.loc[(df_school_org['sum'] == 0)&(df_school_org['name'].str.contains(t)), '幼児教室'] = 1\n",
        "df_school_org['sum'] = df_school_org[school_types].sum(axis=1)"
      ],
      "metadata": {
        "id": "KhluozatUzf1"
      },
      "execution_count": 14,
      "outputs": []
    },
    {
      "cell_type": "code",
      "source": [
        "for t in ['ピアノ', '音楽', 'ギター', 'ヴァイオリン', 'ボーカル', 'ミュージック', 'Piano']:\n",
        "    df_school_org.loc[(df_school_org['sum'] == 0)&(df_school_org['name'].str.contains(t)), '音楽教室'] = 1\n",
        "df_school_org['sum'] = df_school_org[school_types].sum(axis=1)"
      ],
      "metadata": {
        "id": "NB1xiGvjPY8C"
      },
      "execution_count": 15,
      "outputs": []
    },
    {
      "cell_type": "code",
      "source": [
        "for t in ['囲碁', '将棋']:\n",
        "    df_school_org.loc[(df_school_org['sum'] == 0)&(df_school_org['name'].str.contains(t)), '囲碁将棋'] = 1\n",
        "df_school_org['sum'] = df_school_org[school_types].sum(axis=1)"
      ],
      "metadata": {
        "id": "ZRY9jpQEb50h"
      },
      "execution_count": 16,
      "outputs": []
    },
    {
      "cell_type": "code",
      "source": [
        "for t in ['英語', '英会話', 'イングリッシュ', '外国語', 'English', 'ENGLISH', 'ECC']:\n",
        "    df_school_org.loc[(df_school_org['sum'] == 0)&(df_school_org['name'].str.contains(t)), '英語教室'] = 1\n",
        "df_school_org['sum'] = df_school_org[school_types].sum(axis=1)"
      ],
      "metadata": {
        "id": "FtiVS8a_RexM"
      },
      "execution_count": 17,
      "outputs": []
    },
    {
      "cell_type": "code",
      "source": [
        "for t in ['塾', '学習', '個別', '指導', '進学', '公文', 'スクール', 'ゼミ', 'アカデミー', '学研', 'トライ', '教室',\n",
        "          'セミナー', '日能研', '予備校', '四谷大塚', 'サピックス', 'SAPIX', '数学', '算数']:\n",
        "    df_school_org.loc[(df_school_org['sum'] == 0)&(df_school_org['name'].str.contains(t)), '学習塾'] = 1\n",
        "df_school_org['sum'] = df_school_org[school_types].sum(axis=1)"
      ],
      "metadata": {
        "id": "CbfqDkYYRAk8"
      },
      "execution_count": 18,
      "outputs": []
    },
    {
      "cell_type": "code",
      "source": [
        "df_school_org['施設分類'] = None\n",
        "for t in school_types:\n",
        "    df_school_org.loc[df_school_org[t] > 0, '施設分類'] = t\n",
        "\n",
        "print(len(df_school_org[(df_school_org['施設分類'].notna())]))"
      ],
      "metadata": {
        "colab": {
          "base_uri": "https://localhost:8080/"
        },
        "id": "g4Jst9uMe7I4",
        "outputId": "8cdbc0cd-096a-47ee-9510-cd4dcab92637"
      },
      "execution_count": 19,
      "outputs": [
        {
          "output_type": "stream",
          "name": "stdout",
          "text": [
            "7307\n"
          ]
        }
      ]
    },
    {
      "cell_type": "code",
      "source": [
        "df_school_org['施設分類'].value_counts()"
      ],
      "metadata": {
        "colab": {
          "base_uri": "https://localhost:8080/"
        },
        "id": "ayzJh-JtfRZi",
        "outputId": "01fbd461-55da-41f4-bb20-0a61f4c197de"
      },
      "execution_count": 20,
      "outputs": [
        {
          "output_type": "execute_result",
          "data": {
            "text/plain": [
              "学習塾        2306\n",
              "保育園        2093\n",
              "小学校         694\n",
              "幼稚園         449\n",
              "音楽教室        426\n",
              "中学校         319\n",
              "幼児教室        286\n",
              "高等学校        212\n",
              "大学          177\n",
              "英語教室        111\n",
              "プログラミング      91\n",
              "学童保育         50\n",
              "専門学校         39\n",
              "囲碁将棋         31\n",
              "ダンス          23\n",
              "Name: 施設分類, dtype: int64"
            ]
          },
          "metadata": {},
          "execution_count": 20
        }
      ]
    },
    {
      "cell_type": "code",
      "source": [
        "df_school_master = df_school_org[\n",
        "    df_school_org['施設分類'].notna()\n",
        "][['name', 'vicinity', 'lat', 'lng', '施設分類', 'rating']].rename(columns={\n",
        "    'name': '名称',\n",
        "    'vicinity': '住所',\n",
        "    'lat': '緯度', \n",
        "    'lng': '経度'\n",
        "}).sort_values(['施設分類', '住所']).reset_index(drop=True)\n",
        "print(df_school_master.shape)"
      ],
      "metadata": {
        "colab": {
          "base_uri": "https://localhost:8080/"
        },
        "id": "lFbyBMiQQ9AB",
        "outputId": "a6294104-2ff4-4531-d5e2-ed217e0ea70a"
      },
      "execution_count": 21,
      "outputs": [
        {
          "output_type": "stream",
          "name": "stdout",
          "text": [
            "(7307, 6)\n"
          ]
        }
      ]
    },
    {
      "cell_type": "code",
      "source": [
        "df_school_master.to_csv(os.path.join(DIR_NAME, 'private_school_master.csv'), encoding='utf-8_sig', index=False)"
      ],
      "metadata": {
        "id": "fKVqsJhGo54s"
      },
      "execution_count": 22,
      "outputs": []
    }
  ]
}