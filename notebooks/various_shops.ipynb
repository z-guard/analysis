{
  "nbformat": 4,
  "nbformat_minor": 0,
  "metadata": {
    "colab": {
      "provenance": [],
      "authorship_tag": "ABX9TyMoNQLDe/bTuqbwL2dnDmQE",
      "include_colab_link": true
    },
    "kernelspec": {
      "name": "python3",
      "display_name": "Python 3"
    },
    "language_info": {
      "name": "python"
    }
  },
  "cells": [
    {
      "cell_type": "markdown",
      "metadata": {
        "id": "view-in-github",
        "colab_type": "text"
      },
      "source": [
        "<a href=\"https://colab.research.google.com/github/z-guard/analysis/blob/main/notebooks/various_shops.ipynb\" target=\"_parent\"><img src=\"https://colab.research.google.com/assets/colab-badge.svg\" alt=\"Open In Colab\"/></a>"
      ]
    },
    {
      "cell_type": "markdown",
      "source": [
        "## 各種店舗\n",
        "- '本DVD', 'ビューティーサロン', '衣料品', '100円ショップ'"
      ],
      "metadata": {
        "id": "8xO-vF4p50kP"
      }
    },
    {
      "cell_type": "code",
      "execution_count": 1,
      "metadata": {
        "colab": {
          "base_uri": "https://localhost:8080/"
        },
        "id": "eDdApHTKF7n7",
        "outputId": "2461b73c-6b95-4626-a0f2-3daf5a485027"
      },
      "outputs": [
        {
          "output_type": "stream",
          "name": "stdout",
          "text": [
            "Drive already mounted at /content/drive; to attempt to forcibly remount, call drive.mount(\"/content/drive\", force_remount=True).\n"
          ]
        }
      ],
      "source": [
        "from google.colab import drive\n",
        "drive.mount('/content/drive')"
      ]
    },
    {
      "cell_type": "code",
      "source": [
        "import os\n",
        "import pandas as pd\n",
        "import numpy as np\n",
        "\n",
        "pd.set_option('display.max_columns', 50)\n",
        "pd.set_option('display.max_rows', 100)"
      ],
      "metadata": {
        "id": "ekxFlttcGAFc"
      },
      "execution_count": 2,
      "outputs": []
    },
    {
      "cell_type": "code",
      "source": [
        "DIR_NAME = '/content/drive/MyDrive/z-gard/data'"
      ],
      "metadata": {
        "id": "5UIGRCEdGGGF"
      },
      "execution_count": 3,
      "outputs": []
    },
    {
      "cell_type": "code",
      "source": [
        "df_shop_master = pd.concat([\n",
        "    pd.read_csv(os.path.join(DIR_NAME, 'book_movie_rental_nearby.csv')),\n",
        "    pd.read_csv(os.path.join(DIR_NAME, 'clothing_store_nearby.csv')),\n",
        "    pd.read_csv(os.path.join(DIR_NAME, 'home_goods_store_nearby.csv')),\n",
        "    pd.read_csv(os.path.join(DIR_NAME, 'beauty_salon_nearby.csv')),\n",
        "    pd.read_csv(os.path.join(DIR_NAME, 'hair_care_nearby.csv')),\n",
        "]).drop_duplicates(subset=['place_id']).reset_index(drop=True)\n",
        "print(df_shop_master.shape)"
      ],
      "metadata": {
        "colab": {
          "base_uri": "https://localhost:8080/"
        },
        "id": "d2v2ReCxGIzd",
        "outputId": "0178961a-96e2-4490-f25d-6341f63ba4fb"
      },
      "execution_count": 4,
      "outputs": [
        {
          "output_type": "stream",
          "name": "stdout",
          "text": [
            "(29707, 7)\n"
          ]
        }
      ]
    },
    {
      "cell_type": "code",
      "source": [
        "df_shop_master['types_list'] = df_shop_master['types'].apply(lambda x: x.replace('\"', '').replace('[', '').replace(']', '').replace(\"'\", '').replace(' ', '').split(','))\n",
        "types_list = df_shop_master['types_list'].explode()"
      ],
      "metadata": {
        "id": "PCdLuWyeGfS6"
      },
      "execution_count": 5,
      "outputs": []
    },
    {
      "cell_type": "code",
      "source": [
        "types_list.value_counts().head(15)"
      ],
      "metadata": {
        "colab": {
          "base_uri": "https://localhost:8080/"
        },
        "id": "6zz4zxwrGhBg",
        "outputId": "8d63ea7c-d454-44d6-8df7-8dbbdb2c2f48"
      },
      "execution_count": 6,
      "outputs": [
        {
          "output_type": "execute_result",
          "data": {
            "text/plain": [
              "point_of_interest     29707\n",
              "establishment         29707\n",
              "store                 15255\n",
              "hair_care              9490\n",
              "home_goods_store       7818\n",
              "beauty_salon           6444\n",
              "clothing_store         6208\n",
              "health                 3182\n",
              "electronics_store      2393\n",
              "book_store             1476\n",
              "furniture_store        1223\n",
              "food                    647\n",
              "school                  467\n",
              "spa                     340\n",
              "general_contractor      306\n",
              "Name: types_list, dtype: int64"
            ]
          },
          "metadata": {},
          "execution_count": 6
        }
      ]
    },
    {
      "cell_type": "code",
      "source": [
        "store_types = ['本DVD', 'ビューティーサロン', '衣料品', '100円ショップ']\n",
        "for t in store_types:\n",
        "    df_shop_master[t] = 0"
      ],
      "metadata": {
        "id": "9sQaIudGY2tu"
      },
      "execution_count": 7,
      "outputs": []
    },
    {
      "cell_type": "code",
      "source": [
        "df_shop_master.loc[df_shop_master['types_list'].apply(lambda x: 'clothing_store' in x), '衣料品'] = 1\n",
        "df_shop_master.loc[df_shop_master['types_list'].apply(lambda x: 'beauty_salon' in x), 'ビューティーサロン'] = 1\n",
        "df_shop_master.loc[df_shop_master['types_list'].apply(lambda x: 'hair_care' in x), 'ビューティーサロン'] = 1"
      ],
      "metadata": {
        "id": "A0H0LXYoaKAE"
      },
      "execution_count": 8,
      "outputs": []
    },
    {
      "cell_type": "code",
      "source": [
        "book_store = [\n",
        "    '書店', '書房', 'BOOK', 'ブック', 'ゲオ', 'HMV', 'ＤＶＤ', 'ビデオ', 'TSUTAYA'\n",
        "]\n",
        "for store in book_store:\n",
        "    df_shop_master.loc[df_shop_master['name'].str.contains(store), '本DVD'] = 1"
      ],
      "metadata": {
        "id": "3Wind0gMhOii"
      },
      "execution_count": 9,
      "outputs": []
    },
    {
      "cell_type": "code",
      "source": [
        "hundred_store = [\n",
        "    'ダイソー', 'セリア', '100円', 'ミーツ', 'ワッツ', 'フレッツ', 'キャンドゥ', \n",
        "]\n",
        "for store in hundred_store:\n",
        "    df_shop_master.loc[df_shop_master['name'].str.contains(store), '100円ショップ'] = 1"
      ],
      "metadata": {
        "id": "Vb4tZz3ZbP7h"
      },
      "execution_count": 10,
      "outputs": []
    },
    {
      "cell_type": "code",
      "source": [
        "ng_cloth_store = [\n",
        "    '洋服', '洋品', '呉服', '染', '着物', '繊維', '洋装', 'きもの', 'ドン・キホーテ', 'コーナン', '商事'\n",
        "]\n",
        "for store in ng_cloth_store:\n",
        "    df_shop_master.loc[df_shop_master['name'].str.contains(store), '衣料品'] = 0"
      ],
      "metadata": {
        "id": "Z24IgcSp28WK"
      },
      "execution_count": 11,
      "outputs": []
    },
    {
      "cell_type": "code",
      "source": [
        "df_shop_master['施設分類'] = None\n",
        "\n",
        "df_shop_master.loc[(df_shop_master['施設分類'].isna())&(df_shop_master['100円ショップ'] == 1), '施設分類'] = '100円ショップ'\n",
        "df_shop_master.loc[(df_shop_master['施設分類'].isna())&(df_shop_master['本DVD'] == 1), '施設分類'] = '本DVD'\n",
        "df_shop_master.loc[(df_shop_master['施設分類'].isna())&(df_shop_master['衣料品'] == 1), '施設分類'] = '衣料品'\n",
        "df_shop_master.loc[(df_shop_master['施設分類'].isna())&(df_shop_master['ビューティーサロン'] == 1), '施設分類'] = 'ビューティーサロン'"
      ],
      "metadata": {
        "id": "cktziHpxe7M_"
      },
      "execution_count": 12,
      "outputs": []
    },
    {
      "cell_type": "code",
      "source": [
        "df_shop_master['施設分類'].value_counts()"
      ],
      "metadata": {
        "colab": {
          "base_uri": "https://localhost:8080/"
        },
        "id": "a67mQh5MiqIt",
        "outputId": "13846417-dbbf-4267-c710-b21de185127c"
      },
      "execution_count": 13,
      "outputs": [
        {
          "output_type": "execute_result",
          "data": {
            "text/plain": [
              "ビューティーサロン    14775\n",
              "衣料品           5625\n",
              "本DVD           913\n",
              "100円ショップ       206\n",
              "Name: 施設分類, dtype: int64"
            ]
          },
          "metadata": {},
          "execution_count": 13
        }
      ]
    },
    {
      "cell_type": "code",
      "source": [
        "df_shop_master = df_shop_master[df_shop_master['施設分類'].notna()].rename(columns={\n",
        "    'name': '名称',\n",
        "    'lat': '緯度',\n",
        "    'lng': '経度',\n",
        "    'vicinity': '住所',\n",
        "})[['名称', '住所', '緯度', '経度', '施設分類', 'rating']].reset_index(drop=True)\n",
        "print(df_shop_master.shape)"
      ],
      "metadata": {
        "colab": {
          "base_uri": "https://localhost:8080/"
        },
        "id": "jJgytGmg6MPd",
        "outputId": "7c94490c-3fc2-4b11-8bcd-b7784d3a4900"
      },
      "execution_count": 14,
      "outputs": [
        {
          "output_type": "stream",
          "name": "stdout",
          "text": [
            "(21519, 6)\n"
          ]
        }
      ]
    },
    {
      "cell_type": "code",
      "source": [
        "df_shop_master.to_csv(os.path.join(DIR_NAME, 'various_shops_master.csv'), encoding='utf-8_sig', index=False)"
      ],
      "metadata": {
        "id": "2p8FMdZcJuPl"
      },
      "execution_count": 15,
      "outputs": []
    }
  ]
}