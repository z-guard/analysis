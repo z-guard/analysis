{
  "nbformat": 4,
  "nbformat_minor": 0,
  "metadata": {
    "colab": {
      "provenance": [],
      "authorship_tag": "ABX9TyPMcwe19p10VUZRC8ymg8h6",
      "include_colab_link": true
    },
    "kernelspec": {
      "name": "python3",
      "display_name": "Python 3"
    },
    "language_info": {
      "name": "python"
    }
  },
  "cells": [
    {
      "cell_type": "markdown",
      "metadata": {
        "id": "view-in-github",
        "colab_type": "text"
      },
      "source": [
        "<a href=\"https://colab.research.google.com/github/z-guard/analysis/blob/main/notebooks/fitness_score.ipynb\" target=\"_parent\"><img src=\"https://colab.research.google.com/assets/colab-badge.svg\" alt=\"Open In Colab\"/></a>"
      ]
    },
    {
      "cell_type": "code",
      "source": [
        "!pip install -q -U kaleido"
      ],
      "metadata": {
        "id": "-p-9U7EY_4sT"
      },
      "execution_count": 1,
      "outputs": []
    },
    {
      "cell_type": "code",
      "source": [
        "!pip install -q japanize-matplotlib"
      ],
      "metadata": {
        "id": "tHI2FtAGAwuP"
      },
      "execution_count": 2,
      "outputs": []
    },
    {
      "cell_type": "code",
      "execution_count": 3,
      "metadata": {
        "colab": {
          "base_uri": "https://localhost:8080/"
        },
        "id": "9xuqr8ix4XGk",
        "outputId": "c574cfca-a5b4-4652-e411-b835ab20fc04"
      },
      "outputs": [
        {
          "output_type": "stream",
          "name": "stdout",
          "text": [
            "Drive already mounted at /content/drive; to attempt to forcibly remount, call drive.mount(\"/content/drive\", force_remount=True).\n"
          ]
        }
      ],
      "source": [
        "from google.colab import drive\n",
        "drive.mount('/content/drive')"
      ]
    },
    {
      "cell_type": "code",
      "source": [
        "DIR_NAME = '/content/drive/MyDrive/z-gard/data'"
      ],
      "metadata": {
        "id": "RKSqdLPK4cn3"
      },
      "execution_count": 4,
      "outputs": []
    },
    {
      "cell_type": "code",
      "source": [
        "import os\n",
        "import pandas as pd\n",
        "import numpy as np\n",
        "import math\n",
        "import matplotlib.pyplot as plt\n",
        "import japanize_matplotlib\n",
        "import seaborn as sns\n",
        "\n",
        "pd.set_option('display.max_columns', 50)\n",
        "pd.set_option('display.max_rows', 100)"
      ],
      "metadata": {
        "id": "c_nqF0CI4jLy"
      },
      "execution_count": 15,
      "outputs": []
    },
    {
      "cell_type": "markdown",
      "source": [
        "### 地理マスタ"
      ],
      "metadata": {
        "id": "x3IRGWHH4rIo"
      }
    },
    {
      "cell_type": "code",
      "source": [
        "df_geo_master = pd.read_csv(os.path.join(DIR_NAME, 'geocoding.csv'))[['town_id', '市区町村名', '町名', '町丁目', '緯度', '経度']]\n",
        "print(df_geo_master.shape)"
      ],
      "metadata": {
        "colab": {
          "base_uri": "https://localhost:8080/"
        },
        "id": "9HRiSb2j4qLR",
        "outputId": "3c8d7577-f88f-48db-e629-28469ab17e0f"
      },
      "execution_count": 6,
      "outputs": [
        {
          "output_type": "stream",
          "name": "stdout",
          "text": [
            "(3145, 6)\n"
          ]
        }
      ]
    },
    {
      "cell_type": "code",
      "source": [
        "df_navitime_org = pd.read_csv(os.path.join(DIR_NAME, 'navitime_master.csv'))[['名称', 'データ元', '緯度', '経度']]\n",
        "print(df_navitime_org.shape)"
      ],
      "metadata": {
        "colab": {
          "base_uri": "https://localhost:8080/"
        },
        "id": "eRo6WH9U4ypE",
        "outputId": "51b6013a-3b31-4a2e-a9f3-5bdd15bc757f"
      },
      "execution_count": 7,
      "outputs": [
        {
          "output_type": "stream",
          "name": "stdout",
          "text": [
            "(7854, 4)\n"
          ]
        }
      ]
    },
    {
      "cell_type": "code",
      "source": [
        "df_sports_class = df_navitime_org[\n",
        "    df_navitime_org['データ元'].isin(['フィットネス', 'スポーツ教室', 'ダンス教室', 'ゴルフ練習場', 'テニス教室'])\n",
        "].rename(columns={'データ元': '施設分類'}).reset_index(drop=True)\n",
        "print(df_sports_class.shape)"
      ],
      "metadata": {
        "colab": {
          "base_uri": "https://localhost:8080/"
        },
        "id": "uzpcmkGy4_9F",
        "outputId": "61fabc09-fb7a-42b7-db36-5169b3527182"
      },
      "execution_count": 8,
      "outputs": [
        {
          "output_type": "stream",
          "name": "stdout",
          "text": [
            "(2551, 4)\n"
          ]
        }
      ]
    },
    {
      "cell_type": "code",
      "source": [
        "sports_types = list(df_sports_class['施設分類'].unique())"
      ],
      "metadata": {
        "id": "fZ18HSzE6KoB"
      },
      "execution_count": 9,
      "outputs": []
    },
    {
      "cell_type": "code",
      "source": [
        "# 距離計算\n",
        "def get_distance(lat1, lon1, lat2, lon2):\n",
        "    _lat1 = lat1 * math.pi / 180\n",
        "    _lon1 = lon1 * math.pi / 180\n",
        "    _lat2 = lat2 * math.pi / 180\n",
        "    _lon2 = lon2 * math.pi / 180\n",
        "    _tmp = math.cos(_lat1) * math.cos(_lat2) * math.cos(_lon2 - _lon1) + math.sin(_lat1) * math.sin(_lat2)\n",
        "    _tmp = 1 if _tmp > 1 else -1 if _tmp < -1 else _tmp\n",
        "    return 6371 * math.acos(_tmp)\n",
        "\n",
        "# 最寄り施設までの距離\n",
        "def get_value_of_nearest_facility(df_master, df_facility, category, method='min', param=3):\n",
        "    _df_cat = df_facility[df_facility['施設分類'] == category].copy()\n",
        "    cat_values = []\n",
        "    for i, (lat, lon) in enumerate(zip(df_master['緯度'].values, df_master['経度'].values)):\n",
        "        dist = _df_cat[\n",
        "            ((_df_cat['緯度'] - lat).abs() < 0.02) &    # 約2km以内\n",
        "            ((_df_cat['経度'] - lon).abs() < 0.02)      # 約2km以内\n",
        "        ].apply(lambda x: get_distance(x['緯度'], x['経度'], lat, lon), axis=1)\n",
        "        val = None\n",
        "        if method == 'min':\n",
        "            # 最小の距離\n",
        "            val = dist.min()\n",
        "        elif method == 'count':\n",
        "            # {param}km以内の施設の数をカウント\n",
        "            val = len(dist[dist <= param])\n",
        "        elif method == 'mean':\n",
        "            # 近い{param}件の距離の平均\n",
        "            val = dist.sort_values()[:param].mean()\n",
        "        cat_values.append(val)\n",
        "    return cat_values"
      ],
      "metadata": {
        "id": "usMQDR-W5zZ4"
      },
      "execution_count": 10,
      "outputs": []
    },
    {
      "cell_type": "code",
      "source": [
        "%%time\n",
        "radius = 0.5    # 0.5km以内の施設の数\n",
        "for sports in sports_types:\n",
        "    df_geo_master[f'{sports}(数)'] = get_value_of_nearest_facility(df_geo_master, df_sports_class, sports, 'count', radius)\n",
        "    print(sports)"
      ],
      "metadata": {
        "colab": {
          "base_uri": "https://localhost:8080/"
        },
        "id": "7wvj9Otd6CiX",
        "outputId": "73308a0f-eb69-4153-dc56-e53a8b143e9f"
      },
      "execution_count": 11,
      "outputs": [
        {
          "output_type": "stream",
          "name": "stdout",
          "text": [
            "ダンス教室\n",
            "フィットネス\n",
            "テニス教室\n",
            "ゴルフ練習場\n",
            "スポーツ教室\n",
            "CPU times: user 38.1 s, sys: 553 ms, total: 38.7 s\n",
            "Wall time: 44.7 s\n"
          ]
        }
      ]
    },
    {
      "cell_type": "code",
      "source": [
        "feature_list = [col for col in df_geo_master.columns if col.endswith(')')]\n",
        "print(feature_list)"
      ],
      "metadata": {
        "colab": {
          "base_uri": "https://localhost:8080/"
        },
        "id": "Llur2yUB6qu6",
        "outputId": "9a6c2554-f9b1-4808-ef9d-26988ca5baea"
      },
      "execution_count": 17,
      "outputs": [
        {
          "output_type": "stream",
          "name": "stdout",
          "text": [
            "['ダンス教室(数)', 'フィットネス(数)', 'テニス教室(数)', 'ゴルフ練習場(数)', 'スポーツ教室(数)']\n"
          ]
        }
      ]
    },
    {
      "cell_type": "code",
      "source": [
        "for feature in feature_list:\n",
        "    print(feature)\n",
        "    sns.histplot(df_geo_master[feature], bins=10)\n",
        "    plt.show()"
      ],
      "metadata": {
        "colab": {
          "base_uri": "https://localhost:8080/",
          "height": 1000
        },
        "id": "qfhWyuBE_NBr",
        "outputId": "4aed6613-9cc5-4a45-db54-c76534e01c0c"
      },
      "execution_count": 16,
      "outputs": [
        {
          "output_type": "stream",
          "name": "stdout",
          "text": [
            "ダンス教室(数)\n"
          ]
        },
        {
          "output_type": "display_data",
          "data": {
            "text/plain": [
              "<Figure size 432x288 with 1 Axes>"
            ],
            "image/png": "[encoded data removed]"
          },
          "metadata": {
            "needs_background": "light"
          }
        },
        {
          "output_type": "stream",
          "name": "stdout",
          "text": [
            "フィットネス(数)\n"
          ]
        },
        {
          "output_type": "display_data",
          "data": {
            "text/plain": [
              "<Figure size 432x288 with 1 Axes>"
            ],
            "image/png": "[encoded data removed]"
          },
          "metadata": {
            "needs_background": "light"
          }
        },
        {
          "output_type": "stream",
          "name": "stdout",
          "text": [
            "テニス教室(数)\n"
          ]
        },
        {
          "output_type": "display_data",
          "data": {
            "text/plain": [
              "<Figure size 432x288 with 1 Axes>"
            ],
            "image/png": "[encoded data removed]"
          },
          "metadata": {
            "needs_background": "light"
          }
        },
        {
          "output_type": "stream",
          "name": "stdout",
          "text": [
            "ゴルフ練習場(数)\n"
          ]
        },
        {
          "output_type": "display_data",
          "data": {
            "text/plain": [
              "<Figure size 432x288 with 1 Axes>"
            ],
            "image/png": "[encoded data removed]"
          },
          "metadata": {
            "needs_background": "light"
          }
        },
        {
          "output_type": "stream",
          "name": "stdout",
          "text": [
            "スポーツ教室(数)\n"
          ]
        },
        {
          "output_type": "display_data",
          "data": {
            "text/plain": [
              "<Figure size 432x288 with 1 Axes>"
            ],
            "image/png": "[encoded data removed]"
          },
          "metadata": {
            "needs_background": "light"
          }
        }
      ]
    },
    {
      "cell_type": "code",
      "source": [
        "df_geo_master[['town_id'] + feature_list].to_csv(os.path.join(DIR_NAME, 'fitness_score.csv'), encoding='utf-8_sig', index=False)"
      ],
      "metadata": {
        "id": "ZGQHqH0N_QZF"
      },
      "execution_count": 20,
      "outputs": []
    },
    {
      "cell_type": "code",
      "source": [],
      "metadata": {
        "id": "SFXe611oC4N9"
      },
      "execution_count": null,
      "outputs": []
    }
  ]
}