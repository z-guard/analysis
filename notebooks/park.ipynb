{
  "nbformat": 4,
  "nbformat_minor": 0,
  "metadata": {
    "colab": {
      "provenance": [],
      "authorship_tag": "ABX9TyME4XGFfgRHtKYVH3XiucaG",
      "include_colab_link": true
    },
    "kernelspec": {
      "name": "python3",
      "display_name": "Python 3"
    },
    "language_info": {
      "name": "python"
    }
  },
  "cells": [
    {
      "cell_type": "markdown",
      "metadata": {
        "id": "view-in-github",
        "colab_type": "text"
      },
      "source": [
        "<a href=\"https://colab.research.google.com/github/z-guard/analysis/blob/main/notebooks/park.ipynb\" target=\"_parent\"><img src=\"https://colab.research.google.com/assets/colab-badge.svg\" alt=\"Open In Colab\"/></a>"
      ]
    },
    {
      "cell_type": "markdown",
      "source": [
        "# 公園\n",
        "- input:\n",
        "    - 区ごとの公園の位置情報\n",
        "- output:\n",
        "    - park_score.csv\n",
        "        - 公園スコア"
      ],
      "metadata": {
        "id": "zBy6ZmZPOhfq"
      }
    },
    {
      "cell_type": "code",
      "execution_count": 5,
      "metadata": {
        "id": "cDOcy7pFOdsC"
      },
      "outputs": [],
      "source": [
        "!pip install -q geocoder\n",
        "!pip install -q --upgrade xlrd\n",
        "!pip install -q japanize-matplotlib"
      ]
    },
    {
      "cell_type": "code",
      "source": [
        "from google.colab import drive\n",
        "drive.mount('/content/drive')"
      ],
      "metadata": {
        "colab": {
          "base_uri": "https://localhost:8080/"
        },
        "id": "rYTHrEAdOlBC",
        "outputId": "c62aaa2a-a06f-4ea3-f648-847eccdcbc67"
      },
      "execution_count": 6,
      "outputs": [
        {
          "output_type": "stream",
          "name": "stdout",
          "text": [
            "Drive already mounted at /content/drive; to attempt to forcibly remount, call drive.mount(\"/content/drive\", force_remount=True).\n"
          ]
        }
      ]
    },
    {
      "cell_type": "code",
      "source": [
        "DIR_NAME = '/content/drive/MyDrive/z-gard/data'"
      ],
      "metadata": {
        "id": "mKIhoL-BOtAE"
      },
      "execution_count": 7,
      "outputs": []
    },
    {
      "cell_type": "code",
      "source": [
        "output_score_file = 'park_score.csv'"
      ],
      "metadata": {
        "id": "Xfa9PuQkSYdq"
      },
      "execution_count": 8,
      "outputs": []
    },
    {
      "cell_type": "code",
      "source": [
        "import os\n",
        "import requests\n",
        "import json\n",
        "import pandas as pd\n",
        "import numpy as np\n",
        "from urllib.parse import urlparse\n",
        "import geocoder\n",
        "import math\n",
        "import io\n",
        "import re\n",
        "import matplotlib.pyplot as plt\n",
        "import japanize_matplotlib\n",
        "import seaborn as sns\n",
        "\n",
        "pd.set_option('display.max_columns', 50)\n",
        "pd.set_option('display.max_rows', 100)"
      ],
      "metadata": {
        "id": "2xgbJOobOvsP"
      },
      "execution_count": 28,
      "outputs": []
    },
    {
      "cell_type": "code",
      "source": [
        "def get_data_csv_url(url, encoding='utf-8', excel=False):\n",
        "    res = requests.get(url)\n",
        "    if res.status_code == 200:\n",
        "        if not excel:\n",
        "            return pd.read_csv(io.BytesIO(res.content), encoding=encoding)\n",
        "        else:\n",
        "            return pd.read_excel(io.BytesIO(res.content))\n",
        "    else:\n",
        "        raise Exception(f'status_code: {res.status_code} ({url})')\n",
        "\n",
        "def number_to_kanji(str):\n",
        "    return str.translate(str.maketrans({\n",
        "        '１':'一', '２':'二', '３':'三', '４':'四', '５':'五', '６':'六', '７':'七', '８':'八', '９':'九',\n",
        "        '1':'一', '2':'二', '3':'三', '4':'四', '5':'五', '6':'六', '7':'七', '8':'八', '9':'九', '0':'十', \n",
        "    }))\n",
        "\n",
        "# 緯度経度取得\n",
        "def add_lat_lon(df_master):\n",
        "    lats = []\n",
        "    lons = []\n",
        "    for i, row in df_master.iterrows():\n",
        "        chocho = number_to_kanji(row['町丁目'])\n",
        "        ret = geocoder.osm('東京都' + row['市区町村名'] + chocho, timeout=5)\n",
        "        if not ret.ok:\n",
        "            print(i, row['市区町村名'], chocho)\n",
        "        lats.append(ret.lat)\n",
        "        lons.append(ret.lng)\n",
        "    df_copy = df_master.copy()\n",
        "    df_copy['緯度'] = lats\n",
        "    df_copy['経度'] = lons\n",
        "    return df_copy\n",
        "\n",
        "# 距離計算\n",
        "def get_distance(lat1, lon1, lat2, lon2):\n",
        "    _lat1 = lat1 * math.pi / 180\n",
        "    _lon1 = lon1 * math.pi / 180\n",
        "    _lat2 = lat2 * math.pi / 180\n",
        "    _lon2 = lon2 * math.pi / 180\n",
        "    _tmp = math.cos(_lat1) * math.cos(_lat2) * math.cos(_lon2 - _lon1) + math.sin(_lat1) * math.sin(_lat2)\n",
        "    _tmp = 1 if _tmp > 1 else -1 if _tmp < -1 else _tmp\n",
        "    return 6371 * math.acos(_tmp)\n",
        "\n",
        "# 最寄り施設までの距離\n",
        "def get_value_of_nearest_facility(df_master, df_facility, category, method='min', param=3):\n",
        "    _df_cat = df_facility[df_facility['施設分類'] == category].copy()\n",
        "    cat_values = []\n",
        "    for i, (lat, lon) in enumerate(zip(df_master['緯度'].values, df_master['経度'].values)):\n",
        "        dist = _df_cat[\n",
        "            ((_df_cat['緯度'] - lat).abs() < 0.04) &    # 約4km以内\n",
        "            ((_df_cat['経度'] - lon).abs() < 0.04)      # 約4km以内\n",
        "        ].apply(lambda x: get_distance(x['緯度'], x['経度'], lat, lon), axis=1)\n",
        "        val = np.NaN\n",
        "        if len(dist) > 0:\n",
        "            if method == 'min':\n",
        "                # 最小の距離\n",
        "                val = dist.min()\n",
        "            elif method == 'count':\n",
        "                # {param}km以内の施設の数をカウント\n",
        "                val = len(dist[dist <= param])\n",
        "            elif method == 'mean':\n",
        "                # 近い{param}件の距離の平均\n",
        "                val = dist.sort_values()[:param].mean()\n",
        "        else:\n",
        "            print(f'{category} not found {i}')\n",
        "        cat_values.append(val)\n",
        "    return cat_values"
      ],
      "metadata": {
        "id": "Q9yoYFmNRk8e"
      },
      "execution_count": 29,
      "outputs": []
    },
    {
      "cell_type": "code",
      "source": [
        "def get_tokyo_ward_city(address):\n",
        "    _tmp = address.replace('東京都', '')\n",
        "    m = re.search('^.*?[区市]', _tmp)\n",
        "    if m is None:\n",
        "        return None\n",
        "    cityname = m.group()\n",
        "    return cityname if len(cityname) < 6 else None\n",
        "\n",
        "def get_category_facility(name):\n",
        "    if re.search('.*公園$', name) is not None:\n",
        "        return '公園'\n",
        "    if re.search('.*緑地$', name) is not None:\n",
        "        return '公園'\n",
        "    if re.search('.*緑道$', name) is not None:\n",
        "        return '公園'\n",
        "    if re.search('.*庭園$', name) is not None:\n",
        "        return '公園'\n",
        "    if re.search('.*児童遊園$', name) is not None:\n",
        "        return '公園'\n",
        "    if re.search('.*図書館$', name) is not None:\n",
        "        return '図書館'\n",
        "    if re.search('.*美術館$', name) is not None:\n",
        "        return '文化施設'\n",
        "    if re.search('.*博物館$', name) is not None:\n",
        "        return '文化施設'\n",
        "    if re.search('.*会館$', name) is not None:\n",
        "        return '文化施設'\n",
        "    if re.search('.*劇場$', name) is not None:\n",
        "        return '文化施設'\n",
        "    if re.search('アーツ', name) is not None:\n",
        "        return '文化施設'\n",
        "    return None"
      ],
      "metadata": {
        "id": "_-2eukImbwhJ"
      },
      "execution_count": 11,
      "outputs": []
    },
    {
      "cell_type": "code",
      "source": [
        "def change_type(df_data):\n",
        "    df_data['緯度'] = df_data['緯度'].astype(float)\n",
        "    df_data['経度'] = df_data['経度'].astype(float)"
      ],
      "metadata": {
        "id": "hhGXtuvYipKL"
      },
      "execution_count": 12,
      "outputs": []
    },
    {
      "cell_type": "code",
      "source": [
        "extract_columns = ['施設分類', '名称', '市区町村名', '所在地', '緯度', '経度']"
      ],
      "metadata": {
        "id": "IrPBUzhvReBs"
      },
      "execution_count": 13,
      "outputs": []
    },
    {
      "cell_type": "markdown",
      "source": [
        "### Google Maps "
      ],
      "metadata": {
        "id": "SQwsF8A4G60k"
      }
    },
    {
      "cell_type": "code",
      "source": [
        "def get_municipal_park(df_data, municipal='区立'):\n",
        "    _tmp = df_data.copy()\n",
        "    _tmp['設立'] = _tmp['name'].str.extract(f'(.*?{municipal})', expand=False)\n",
        "    _tmp['名称'] = _tmp['name'].str.extract(f'{municipal}(.*)', expand=False).str.strip()\n",
        "    return _tmp[_tmp['設立'].notna()]"
      ],
      "metadata": {
        "id": "Tb8hmiyZID7h"
      },
      "execution_count": 14,
      "outputs": []
    },
    {
      "cell_type": "code",
      "source": [
        "df_park_nearby = pd.read_csv(os.path.join(DIR_NAME, 'park_nearby.csv'))[\n",
        "    ['name', 'lat', 'lng', 'rating', 'vicinity']\n",
        "].rename(columns={'lat':'緯度', 'lng':'経度', 'vicinity':'所在地'})\n",
        "print(df_park_nearby.shape)\n",
        "df_park_nearby['市区町村名'] = df_park_nearby['所在地'].apply(get_tokyo_ward_city)\n",
        "df_park_nearby['施設分類'] = '公園'\n",
        "\n",
        "df_municipal_park = pd.concat([\n",
        "    get_municipal_park(df_park_nearby, '区立'), \n",
        "    get_municipal_park(df_park_nearby, '都立')\n",
        "]).reset_index(drop=True)\n",
        "print(df_municipal_park.shape)"
      ],
      "metadata": {
        "id": "pIv9ffSeG6ih",
        "outputId": "07b7eecf-57e8-4461-b1c3-4efdfd3d6ee1",
        "colab": {
          "base_uri": "https://localhost:8080/"
        }
      },
      "execution_count": 15,
      "outputs": [
        {
          "output_type": "stream",
          "name": "stdout",
          "text": [
            "(9176, 5)\n",
            "(2406, 9)\n"
          ]
        }
      ]
    },
    {
      "cell_type": "code",
      "source": [
        "df_municipal_park.head()"
      ],
      "metadata": {
        "id": "ym3xRC6kJYLf",
        "outputId": "32ea543f-3a6b-4e38-cfbd-6083a4b9551a",
        "colab": {
          "base_uri": "https://localhost:8080/",
          "height": 206
        }
      },
      "execution_count": 16,
      "outputs": [
        {
          "output_type": "execute_result",
          "data": {
            "text/plain": [
              "          name         緯度          経度  rating                 所在地 市区町村名 施設分類  \\\n",
              "0  千代田区立 神田橋公園  35.689720  139.764188     3.5       千代田区神田錦町１丁目２９  千代田区   公園   \n",
              "1     中央区立常盤公園  35.688113  139.769969     3.4  中央区中央区日本橋本石町４丁目４−３   中央区   公園   \n",
              "2   中央区立数寄屋橋公園  35.672641  139.762337     3.7         中央区銀座５丁目１−１   中央区   公園   \n",
              "3      港区立西桜公園  35.667991  139.749414     3.0        港区虎ノ門１丁目１７−４    港区   公園   \n",
              "4    港区立江戸見坂公園  35.667423  139.744127     2.0        港区虎ノ門２丁目１０−２    港区   公園   \n",
              "\n",
              "      設立      名称  \n",
              "0  千代田区立   神田橋公園  \n",
              "1   中央区立    常盤公園  \n",
              "2   中央区立  数寄屋橋公園  \n",
              "3    港区立    西桜公園  \n",
              "4    港区立  江戸見坂公園  "
            ],
            "text/html": [
              "\n",
              "  <div id=\"df-f32ebbbe-2e9b-489d-8111-e7b8503230f9\">\n",
              "    <div class=\"colab-df-container\">\n",
              "      <div>\n",
              "<style scoped>\n",
              "    .dataframe tbody tr th:only-of-type {\n",
              "        vertical-align: middle;\n",
              "    }\n",
              "\n",
              "    .dataframe tbody tr th {\n",
              "        vertical-align: top;\n",
              "    }\n",
              "\n",
              "    .dataframe thead th {\n",
              "        text-align: right;\n",
              "    }\n",
              "</style>\n",
              "<table border=\"1\" class=\"dataframe\">\n",
              "  <thead>\n",
              "    <tr style=\"text-align: right;\">\n",
              "      <th></th>\n",
              "      <th>name</th>\n",
              "      <th>緯度</th>\n",
              "      <th>経度</th>\n",
              "      <th>rating</th>\n",
              "      <th>所在地</th>\n",
              "      <th>市区町村名</th>\n",
              "      <th>施設分類</th>\n",
              "      <th>設立</th>\n",
              "      <th>名称</th>\n",
              "    </tr>\n",
              "  </thead>\n",
              "  <tbody>\n",
              "    <tr>\n",
              "      <th>0</th>\n",
              "      <td>千代田区立 神田橋公園</td>\n",
              "      <td>35.689720</td>\n",
              "      <td>139.764188</td>\n",
              "      <td>3.5</td>\n",
              "      <td>千代田区神田錦町１丁目２９</td>\n",
              "      <td>千代田区</td>\n",
              "      <td>公園</td>\n",
              "      <td>千代田区立</td>\n",
              "      <td>神田橋公園</td>\n",
              "    </tr>\n",
              "    <tr>\n",
              "      <th>1</th>\n",
              "      <td>中央区立常盤公園</td>\n",
              "      <td>35.688113</td>\n",
              "      <td>139.769969</td>\n",
              "      <td>3.4</td>\n",
              "      <td>中央区中央区日本橋本石町４丁目４−３</td>\n",
              "      <td>中央区</td>\n",
              "      <td>公園</td>\n",
              "      <td>中央区立</td>\n",
              "      <td>常盤公園</td>\n",
              "    </tr>\n",
              "    <tr>\n",
              "      <th>2</th>\n",
              "      <td>中央区立数寄屋橋公園</td>\n",
              "      <td>35.672641</td>\n",
              "      <td>139.762337</td>\n",
              "      <td>3.7</td>\n",
              "      <td>中央区銀座５丁目１−１</td>\n",
              "      <td>中央区</td>\n",
              "      <td>公園</td>\n",
              "      <td>中央区立</td>\n",
              "      <td>数寄屋橋公園</td>\n",
              "    </tr>\n",
              "    <tr>\n",
              "      <th>3</th>\n",
              "      <td>港区立西桜公園</td>\n",
              "      <td>35.667991</td>\n",
              "      <td>139.749414</td>\n",
              "      <td>3.0</td>\n",
              "      <td>港区虎ノ門１丁目１７−４</td>\n",
              "      <td>港区</td>\n",
              "      <td>公園</td>\n",
              "      <td>港区立</td>\n",
              "      <td>西桜公園</td>\n",
              "    </tr>\n",
              "    <tr>\n",
              "      <th>4</th>\n",
              "      <td>港区立江戸見坂公園</td>\n",
              "      <td>35.667423</td>\n",
              "      <td>139.744127</td>\n",
              "      <td>2.0</td>\n",
              "      <td>港区虎ノ門２丁目１０−２</td>\n",
              "      <td>港区</td>\n",
              "      <td>公園</td>\n",
              "      <td>港区立</td>\n",
              "      <td>江戸見坂公園</td>\n",
              "    </tr>\n",
              "  </tbody>\n",
              "</table>\n",
              "</div>\n",
              "      <button class=\"colab-df-convert\" onclick=\"convertToInteractive('df-f32ebbbe-2e9b-489d-8111-e7b8503230f9')\"\n",
              "              title=\"Convert this dataframe to an interactive table.\"\n",
              "              style=\"display:none;\">\n",
              "        \n",
              "  <svg xmlns=\"http://www.w3.org/2000/svg\" height=\"24px\"viewBox=\"0 0 24 24\"\n",
              "       width=\"24px\">\n",
              "    <path d=\"M0 0h24v24H0V0z\" fill=\"none\"/>\n",
              "    <path d=\"M18.56 5.44l.94 2.06.94-2.06 2.06-.94-2.06-.94-.94-2.06-.94 2.06-2.06.94zm-11 1L8.5 8.5l.94-2.06 2.06-.94-2.06-.94L8.5 2.5l-.94 2.06-2.06.94zm10 10l.94 2.06.94-2.06 2.06-.94-2.06-.94-.94-2.06-.94 2.06-2.06.94z\"/><path d=\"M17.41 7.96l-1.37-1.37c-.4-.4-.92-.59-1.43-.59-.52 0-1.04.2-1.43.59L10.3 9.45l-7.72 7.72c-.78.78-.78 2.05 0 2.83L4 21.41c.39.39.9.59 1.41.59.51 0 1.02-.2 1.41-.59l7.78-7.78 2.81-2.81c.8-.78.8-2.07 0-2.86zM5.41 20L4 18.59l7.72-7.72 1.47 1.35L5.41 20z\"/>\n",
              "  </svg>\n",
              "      </button>\n",
              "      \n",
              "  <style>\n",
              "    .colab-df-container {\n",
              "      display:flex;\n",
              "      flex-wrap:wrap;\n",
              "      gap: 12px;\n",
              "    }\n",
              "\n",
              "    .colab-df-convert {\n",
              "      background-color: #E8F0FE;\n",
              "      border: none;\n",
              "      border-radius: 50%;\n",
              "      cursor: pointer;\n",
              "      display: none;\n",
              "      fill: #1967D2;\n",
              "      height: 32px;\n",
              "      padding: 0 0 0 0;\n",
              "      width: 32px;\n",
              "    }\n",
              "\n",
              "    .colab-df-convert:hover {\n",
              "      background-color: #E2EBFA;\n",
              "      box-shadow: 0px 1px 2px rgba(60, 64, 67, 0.3), 0px 1px 3px 1px rgba(60, 64, 67, 0.15);\n",
              "      fill: #174EA6;\n",
              "    }\n",
              "\n",
              "    [theme=dark] .colab-df-convert {\n",
              "      background-color: #3B4455;\n",
              "      fill: #D2E3FC;\n",
              "    }\n",
              "\n",
              "    [theme=dark] .colab-df-convert:hover {\n",
              "      background-color: #434B5C;\n",
              "      box-shadow: 0px 1px 3px 1px rgba(0, 0, 0, 0.15);\n",
              "      filter: drop-shadow(0px 1px 2px rgba(0, 0, 0, 0.3));\n",
              "      fill: #FFFFFF;\n",
              "    }\n",
              "  </style>\n",
              "\n",
              "      <script>\n",
              "        const buttonEl =\n",
              "          document.querySelector('#df-f32ebbbe-2e9b-489d-8111-e7b8503230f9 button.colab-df-convert');\n",
              "        buttonEl.style.display =\n",
              "          google.colab.kernel.accessAllowed ? 'block' : 'none';\n",
              "\n",
              "        async function convertToInteractive(key) {\n",
              "          const element = document.querySelector('#df-f32ebbbe-2e9b-489d-8111-e7b8503230f9');\n",
              "          const dataTable =\n",
              "            await google.colab.kernel.invokeFunction('convertToInteractive',\n",
              "                                                     [key], {});\n",
              "          if (!dataTable) return;\n",
              "\n",
              "          const docLinkHtml = 'Like what you see? Visit the ' +\n",
              "            '<a target=\"_blank\" href=https://colab.research.google.com/notebooks/data_table.ipynb>data table notebook</a>'\n",
              "            + ' to learn more about interactive tables.';\n",
              "          element.innerHTML = '';\n",
              "          dataTable['output_type'] = 'display_data';\n",
              "          await google.colab.output.renderOutput(dataTable, element);\n",
              "          const docLink = document.createElement('div');\n",
              "          docLink.innerHTML = docLinkHtml;\n",
              "          element.appendChild(docLink);\n",
              "        }\n",
              "      </script>\n",
              "    </div>\n",
              "  </div>\n",
              "  "
            ]
          },
          "metadata": {},
          "execution_count": 16
        }
      ]
    },
    {
      "cell_type": "markdown",
      "source": [
        "## 0. 東京都\n",
        "- [公共施設一覧](https://catalog.data.metro.tokyo.lg.jp/dataset/t000003d0000000033/resource/27d1ce20-9023-4690-944c-5da47ed1427e)\n",
        "- [公園調書データ](https://www.kensetsu.metro.tokyo.lg.jp/jigyo/park/kouenannai/kouen_menseki.html) -> PDF"
      ],
      "metadata": {
        "id": "FTreyejMZ5fi"
      }
    },
    {
      "cell_type": "code",
      "source": [
        "tokyo_public_facility = 'https://www.opendata.metro.tokyo.lg.jp/suisyoudataset/130001_public_facility.csv'\n",
        "df_tokyo_public_facility = get_data_csv_url(tokyo_public_facility, encoding='cp932')\n",
        "print(df_tokyo_public_facility.shape)\n",
        "\n",
        "df_tokyo_public_facility = df_tokyo_public_facility.rename(columns={'住所': '所在地'})\n",
        "df_tokyo_public_facility['市区町村名'] = df_tokyo_public_facility['所在地'].apply(get_tokyo_ward_city)\n",
        "df_tokyo_public_facility['施設分類'] = df_tokyo_public_facility['名称'].apply(get_category_facility)\n",
        "df_tokyo_public_facility = df_tokyo_public_facility[extract_columns]\n",
        "df_tokyo_public_facility = df_tokyo_public_facility[\n",
        "    (df_tokyo_public_facility['施設分類']=='公園')&\n",
        "    (df_tokyo_public_facility['市区町村名'].str.endswith('区'))\n",
        "].reset_index(drop=True)\n",
        "change_type(df_tokyo_public_facility)\n",
        "print(df_tokyo_public_facility.shape)"
      ],
      "metadata": {
        "id": "dVf2UekcZ4-k",
        "outputId": "e4d5d748-bc85-4736-839d-7f1abffbbf8b",
        "colab": {
          "base_uri": "https://localhost:8080/"
        }
      },
      "execution_count": 17,
      "outputs": [
        {
          "output_type": "stream",
          "name": "stdout",
          "text": [
            "(136, 39)\n",
            "(80, 6)\n"
          ]
        }
      ]
    },
    {
      "cell_type": "markdown",
      "source": [
        "## 1. 千代田区\n",
        "- [公園・児童遊園・緑道](https://www.city.chiyoda.lg.jp/shisetsu/koen/index.html) -> CSVでない、数が少ない"
      ],
      "metadata": {
        "id": "ozc68hGVyKaT"
      }
    },
    {
      "cell_type": "code",
      "source": [
        "df_chiyoda_park = df_municipal_park[df_municipal_park['市区町村名'] == '千代田区']\n",
        "print(df_chiyoda_park.shape)"
      ],
      "metadata": {
        "id": "x8WzKU5kJkI7",
        "outputId": "13948b1f-03f0-408b-f139-39917992571a",
        "colab": {
          "base_uri": "https://localhost:8080/"
        }
      },
      "execution_count": 18,
      "outputs": [
        {
          "output_type": "stream",
          "name": "stdout",
          "text": [
            "(27, 9)\n"
          ]
        }
      ]
    },
    {
      "cell_type": "markdown",
      "source": [
        "## 2. 中央区\n",
        "- [区内の公園一覧](https://catalog.data.metro.tokyo.lg.jp/dataset/t131024d0000000011/resource/2cebf9bb-c082-41a4-973f-f39e81c20aa2)"
      ],
      "metadata": {
        "id": "Hy9QzRF1vJWT"
      }
    },
    {
      "cell_type": "code",
      "source": [
        "chuou_park_url = 'https://www.city.chuo.lg.jp/kusei/statisticaldata/opendata.files/koenichiran.csv'\n",
        "df_chuou_park = get_data_csv_url(chuou_park_url, encoding='shift-jis')\n",
        "print(df_chuou_park.shape)\n",
        "\n",
        "df_chuou_park['市区町村名'] = '中央区'\n",
        "df_chuou_park['施設分類'] = '公園'\n",
        "df_chuou_park = df_chuou_park.rename(columns={'住所':'所在地'})[extract_columns]\n",
        "change_type(df_chuou_park)\n",
        "print(df_chuou_park.shape)"
      ],
      "metadata": {
        "id": "rcSZRUVM5tcC"
      },
      "execution_count": 30,
      "outputs": []
    },
    {
      "cell_type": "markdown",
      "source": [
        "## 3. 港区\n",
        "- [公園・児童遊園・緑地](https://catalog.data.metro.tokyo.lg.jp/dataset/t131032d0000000014/resource/07c70d2b-0474-491c-a1f4-754b8f28922b)"
      ],
      "metadata": {
        "id": "N29UjnUPRhG7"
      }
    },
    {
      "cell_type": "code",
      "source": [
        "minato_park_url = 'https://opendata.city.minato.tokyo.jp/dataset/dc609dcf-892a-4a20-8f74-f62ce9fc806d/resource/f636e5b8-088f-42e2-b95c-d0978d4e339c/download/minatokushisetsujoho_kouen.csv'\n",
        "df_minato_park = get_data_csv_url(minato_park_url)\n",
        "print(df_minato_park.shape)\n",
        "\n",
        "df_minato_park['市区町村名'] = '港区'\n",
        "df_minato_park['施設分類'] = '公園'\n",
        "df_minato_park = df_minato_park[df_minato_park['第1分類'] == '公園・児童遊園・緑地'].reset_index(drop=False)\n",
        "df_minato_park = df_minato_park.rename(columns={'ページタイトル':'名称'})[extract_columns]\n",
        "change_type(df_minato_park)\n",
        "print(df_minato_park.shape)"
      ],
      "metadata": {
        "id": "bHdlGR4rRd_V"
      },
      "execution_count": null,
      "outputs": []
    },
    {
      "cell_type": "markdown",
      "source": [
        "## 4. 新宿区\n",
        "- [区立公園の一覧（五十音順）](http://www.city.shinjuku.lg.jp/seikatsu/midori01_001024.html) -> CSVでない"
      ],
      "metadata": {
        "id": "QEmpBhenyeVs"
      }
    },
    {
      "cell_type": "code",
      "source": [
        "df_shinjuku_park = df_municipal_park[df_municipal_park['市区町村名'] == '新宿区']\n",
        "print(df_shinjuku_park.shape)"
      ],
      "metadata": {
        "id": "haCh3Sy7KUR4"
      },
      "execution_count": null,
      "outputs": []
    },
    {
      "cell_type": "markdown",
      "source": [
        "## 5. 文京区\n",
        "- [区立公園・児童遊園・遊び場一覧](https://catalog.data.metro.tokyo.lg.jp/dataset/t131059d0509040001/resource/81688b74-8b82-4529-a1df-1d0ae73a808d)"
      ],
      "metadata": {
        "id": "5XQHy3KkvpL6"
      }
    },
    {
      "cell_type": "code",
      "source": [
        "bunkyo_park_url = 'https://www.city.bunkyo.lg.jp/library/opendata-bunkyo/05bousai-macidukuri-kankyou/03kouen-asobiba/kuritsukouen-jidouyuuen-asobiba.csv'\n",
        "df_bunkyo_park = get_data_csv_url(bunkyo_park_url, encoding='shift-jis')\n",
        "print(df_bunkyo_park.shape)\n",
        "\n",
        "df_bunkyo_park['市区町村名'] = '文京区'\n",
        "df_bunkyo_park['施設分類'] = '公園'\n",
        "df_bunkyo_park = df_bunkyo_park.rename(columns={'施設名':'名称', '住所':'所在地'})[extract_columns]\n",
        "change_type(df_bunkyo_park)\n",
        "print(df_bunkyo_park.shape)"
      ],
      "metadata": {
        "id": "3FsxuB5L6yz_"
      },
      "execution_count": null,
      "outputs": []
    },
    {
      "cell_type": "markdown",
      "source": [
        "## 6. 台東区\n",
        "- [公園](https://catalog.data.metro.tokyo.lg.jp/dataset/t131067d0000000093/resource/c70f81da-7c29-497a-ab55-068686d75707)\n",
        "- [児童遊園](https://catalog.data.metro.tokyo.lg.jp/dataset/t131067d0000000094/resource/5d61c7a3-573d-4a27-8492-6e299f2fe401)"
      ],
      "metadata": {
        "id": "S_Q90dBVcPtQ"
      }
    },
    {
      "cell_type": "code",
      "source": [
        "taito_park_url_1 = 'https://www.city.taito.lg.jp/kusei/online/opendata/seikatu/shisethutizujouhou.files/sisetu_15.csv'\n",
        "df_taito_park_1 = get_data_csv_url(taito_park_url_1, 'shift-jis')\n",
        "taito_park_url_2 = 'https://www.city.taito.lg.jp/kusei/online/opendata/seikatu/shisethutizujouhou.files/sisetu_16.csv'\n",
        "df_taito_park_2 = get_data_csv_url(taito_park_url_2, 'shift-jis')\n",
        "df_taito_park = pd.concat([df_taito_park_1, df_taito_park_2]).reset_index(drop=True)\n",
        "print(df_taito_park.shape)\n",
        "\n",
        "df_taito_park['市区町村名'] = '台東区'\n",
        "df_taito_park['施設分類'] = '公園'\n",
        "df_taito_park = df_taito_park.rename(columns={'X座標':'経度', 'Y座標':'緯度'})[extract_columns]\n",
        "print(df_taito_park.shape)"
      ],
      "metadata": {
        "id": "kUmwooOBwofd"
      },
      "execution_count": null,
      "outputs": []
    },
    {
      "cell_type": "markdown",
      "source": [
        "## 7. 墨田区\n",
        "- [公園](https://catalog.data.metro.tokyo.lg.jp/dataset/t131075d0000000097/resource/ea22e8d7-677a-4ab8-b231-f5d309fd0be6)\n",
        "- [児童遊園](https://catalog.data.metro.tokyo.lg.jp/dataset/t131075d0000000097/resource/21a0e89e-ee2f-4bf0-90db-b70ebb77453e)"
      ],
      "metadata": {
        "id": "A79C8s69R4YW"
      }
    },
    {
      "cell_type": "code",
      "source": [
        "sumida_park_url_1 = 'https://www.city.sumida.lg.jp/kuseijoho/sumida_info/opendata/opendata_ichiran/shisetsu_data.files/park.csv'\n",
        "df_sumida_park_1 = get_data_csv_url(sumida_park_url_1, 'shift-jis')\n",
        "sumida_park_url_2 = 'https://www.city.sumida.lg.jp/kuseijoho/sumida_info/opendata/opendata_ichiran/shisetsu_data.files/jidouyuuen.csv'\n",
        "df_sumida_park_2 = get_data_csv_url(sumida_park_url_2, 'shift-jis')\n",
        "df_sumida_park = pd.concat([df_sumida_park_1, df_sumida_park_2]).reset_index(drop=True)\n",
        "print(df_sumida_park.shape)\n",
        "\n",
        "df_sumida_park['市区町村名'] = '墨田区'\n",
        "df_sumida_park['施設分類'] = '公園'\n",
        "df_sumida_park = df_sumida_park.rename(columns={'施設名称':'名称'})[extract_columns]\n",
        "print(df_sumida_park.shape)"
      ],
      "metadata": {
        "id": "hZJc7luQRd5I"
      },
      "execution_count": null,
      "outputs": []
    },
    {
      "cell_type": "markdown",
      "source": [
        "## 8. 江東区\n",
        "- [区立公園](https://catalog.data.metro.tokyo.lg.jp/dataset/t131083d0000000007/resource/204f8626-3307-48e3-9d2c-03d38aa732f1)\n",
        "- [児童遊園](https://catalog.data.metro.tokyo.lg.jp/dataset/t131083d0000000007/resource/cef3a8af-0006-4341-a0ab-a62b26a5a28c)"
      ],
      "metadata": {
        "id": "k9DmEpn4y2dz"
      }
    },
    {
      "cell_type": "code",
      "source": [
        "koutou_park_url = 'https://www.city.koto.lg.jp/012107/documents/131083_kotocity_public_facility-17_parks.csv'\n",
        "df_koutou_park = get_data_csv_url(koutou_park_url, encoding='shift-jis')\n",
        "print(df_koutou_park.shape)\n",
        "\n",
        "df_koutou_park['市区町村名'] = '江東区'\n",
        "df_koutou_park['施設分類'] = '公園'\n",
        "df_koutou_park = df_koutou_park.rename(columns={'施設名':'名称', '住所':'所在地'})[extract_columns]\n",
        "change_type(df_koutou_park)\n",
        "print(df_koutou_park.shape)"
      ],
      "metadata": {
        "id": "eJH2HE8H7dzZ"
      },
      "execution_count": null,
      "outputs": []
    },
    {
      "cell_type": "markdown",
      "source": [
        "## 9. 品川区\n",
        "- [公共施設csvデータ](https://catalog.data.metro.tokyo.lg.jp/dataset/t131091d0000000003/resource/739098b6-e043-41ad-9b5b-f83481d09631)"
      ],
      "metadata": {
        "id": "q9jxzgLIvxhE"
      }
    },
    {
      "cell_type": "code",
      "source": [
        "url_shinagawa_facility = 'http://www.city.shinagawa.tokyo.jp/ct/other000081600/kokyoshisetsu.csv'\n",
        "df_shinagawa_facility = get_data_csv_url(url_shinagawa_facility, encoding='cp932')\n",
        "print(df_shinagawa_facility.shape)\n",
        "\n",
        "df_shinagawa_facility = df_shinagawa_facility.rename(columns={'住所': '所在地', '施設名':'名称', '説明(日本語)':'施設分類'})\n",
        "df_shinagawa_facility['市区町村名'] = '品川区'\n",
        "df_shinagawa_facility = df_shinagawa_facility[extract_columns]\n",
        "df_shinagawa_facility = df_shinagawa_facility[\n",
        "    (df_shinagawa_facility['施設分類'].isin(['公園', '児童遊園', '水辺広場']))\n",
        "].reset_index(drop=True)\n",
        "df_shinagawa_facility['施設分類'] = '公園'\n",
        "change_type(df_shinagawa_facility)\n",
        "print(df_shinagawa_facility.shape)"
      ],
      "metadata": {
        "id": "2vSsXnXA-hhx"
      },
      "execution_count": null,
      "outputs": []
    },
    {
      "cell_type": "markdown",
      "source": [
        "## 10. 目黒区\n",
        "- [区立公園](https://catalog.data.metro.tokyo.lg.jp/dataset/t131105d0000000038/resource/1264013c-5458-409e-95be-208f0d78d51b)"
      ],
      "metadata": {
        "id": "99GocudOn0Bp"
      }
    },
    {
      "cell_type": "code",
      "source": [
        "megro_park_url = 'https://data.bodik.jp/dataset/9f7d70e4-d41f-4199-a180-eb2e3de6e728/resource/28badfb6-f33f-4b12-8ecc-ada279950cee/download/131105_park_20210401.csv'\n",
        "df_megro_park = get_data_csv_url(megro_park_url, 'cp932')\n",
        "print(df_megro_park.shape)\n",
        "\n",
        "df_megro_park['市区町村名'] = '目黒区'\n",
        "df_megro_park['施設分類'] = '公園'\n",
        "df_megro_park = df_megro_park[df_megro_park['面積（㎡）'] >= 500][extract_columns].reset_index(drop=True)\n",
        "change_type(df_megro_park)\n",
        "print(df_megro_park.shape)"
      ],
      "metadata": {
        "id": "wqvlg2mfn7oe"
      },
      "execution_count": null,
      "outputs": []
    },
    {
      "cell_type": "markdown",
      "source": [
        "## 11. 大田区\n",
        "- [公園一覧](https://catalog.data.metro.tokyo.lg.jp/dataset/t131113d0000000018/resource/6af8376d-0dc9-47f0-ad66-dd7e612f929c) -> Excelで緯度経度がない"
      ],
      "metadata": {
        "id": "b4WovfLRtplw"
      }
    },
    {
      "cell_type": "code",
      "source": [
        "df_oota_park = df_municipal_park[df_municipal_park['市区町村名'] == '大田区']\n",
        "print(df_oota_park.shape)"
      ],
      "metadata": {
        "id": "BpT-TTo5KzRK"
      },
      "execution_count": null,
      "outputs": []
    },
    {
      "cell_type": "markdown",
      "source": [
        "## 12. 世田谷区\n",
        "- [トイレのある公園、身近な広場等一覧](https://www.city.setagaya.lg.jp/mokuji/kusei/012/015/001/001/d00192981.html) -> CSVでない"
      ],
      "metadata": {
        "id": "2w42i2Nt0e83"
      }
    },
    {
      "cell_type": "code",
      "source": [
        "df_setagaya_park = df_municipal_park[df_municipal_park['市区町村名'] == '世田谷区']\n",
        "print(df_setagaya_park.shape)"
      ],
      "metadata": {
        "id": "pQJ3j2RLK_qu"
      },
      "execution_count": null,
      "outputs": []
    },
    {
      "cell_type": "markdown",
      "source": [
        "## 13. 渋谷区\n",
        "- [公園一覧](https://catalog.data.metro.tokyo.lg.jp/dataset/t131130d0000000003/resource/46345b46-4f99-4342-abba-aabd6029bbb6)"
      ],
      "metadata": {
        "id": "M2Ql8T3r0h0P"
      }
    },
    {
      "cell_type": "code",
      "source": [
        "shibuya_park_url = 'https://www.city.shibuya.tokyo.jp/assets/mng/131130_park.csv'\n",
        "df_shibuya_park = get_data_csv_url(shibuya_park_url)\n",
        "print(df_shibuya_park.shape)\n",
        "\n",
        "df_shibuya_park['施設分類'] = '公園'\n",
        "df_shibuya_park = df_shibuya_park.rename(columns={'住所': '所在地'})\n",
        "df_shibuya_park = df_shibuya_park[df_shibuya_park['面積（平方メートル）'] >= 500][extract_columns].reset_index(drop=True)\n",
        "change_type(df_shibuya_park)\n",
        "print(df_shibuya_park.shape)"
      ],
      "metadata": {
        "id": "Mqag1PfKBVKK"
      },
      "execution_count": null,
      "outputs": []
    },
    {
      "cell_type": "markdown",
      "source": [
        "## 14. 中野区\n",
        "- [中野区オープンデータ 公共施設一覧（公園等）](https://www.city.tokyo-nakano.lg.jp/dept/158100/d027582.html)"
      ],
      "metadata": {
        "id": "G7Dkz-Hjwtnn"
      }
    },
    {
      "cell_type": "code",
      "source": [
        "nakano_park_url = 'https://www.city.tokyo-nakano.lg.jp/dept/158100/d027582_d/fil/131148_public_facility_k.csv'\n",
        "df_nakano_park = get_data_csv_url(nakano_park_url)\n",
        "print(df_nakano_park.shape)\n",
        "\n",
        "df_nakano_park['施設分類'] = '公園'\n",
        "df_nakano_park = df_nakano_park.rename(columns={'住所': '所在地'})\n",
        "df_nakano_park = df_nakano_park[extract_columns]\n",
        "change_type(df_nakano_park)\n",
        "print(df_nakano_park.shape)"
      ],
      "metadata": {
        "id": "wQ2PDb9rCtjK"
      },
      "execution_count": null,
      "outputs": []
    },
    {
      "cell_type": "markdown",
      "source": [
        "## 15. 杉並区\n",
        "- [オープンデータ一覧](https://www2.wagmap.jp/suginami/opendata?type=shp&ly=930)"
      ],
      "metadata": {
        "id": "hSjl7KggpvrQ"
      }
    },
    {
      "cell_type": "code",
      "source": [
        "df_suginami_park = pd.read_csv(os.path.join(DIR_NAME, 'original/杉並区_公園.csv'))\n",
        "print(df_suginami_park.shape)\n",
        "\n",
        "df_suginami_park = df_suginami_park[df_suginami_park['分類'].str.strip() == '公園']\n",
        "df_suginami_park['市区町村名'] = '杉並区'\n",
        "df_suginami_park['施設分類'] = '公園'\n",
        "df_suginami_park = df_suginami_park.rename(columns={'住所':'所在地'})[extract_columns]\n",
        "print(df_suginami_park.shape)"
      ],
      "metadata": {
        "id": "g5hbxUr2rP5g"
      },
      "execution_count": null,
      "outputs": []
    },
    {
      "cell_type": "markdown",
      "source": [
        "## 16. 豊島区\n",
        "- [公共施設一覧](https://catalog.data.metro.tokyo.lg.jp/dataset/t131164d0000000010/resource/472e6a97-b350-4909-a939-76530a570324)"
      ],
      "metadata": {
        "id": "RL7zKUAz0bBI"
      }
    },
    {
      "cell_type": "code",
      "source": [
        "url_toshima_facility = 'https://www.opendata.metro.tokyo.lg.jp/toyoshima/R4_public_facility.csv'\n",
        "df_toshima_facility = get_data_csv_url(url_toshima_facility, encoding='cp932')\n",
        "print(df_toshima_facility.shape)\n",
        "\n",
        "df_toshima_facility = df_toshima_facility.rename(columns={'住所': '所在地'})\n",
        "df_toshima_facility['施設分類'] = df_toshima_facility['名称'].apply(get_category_facility)\n",
        "df_toshima_facility = df_toshima_facility[extract_columns]\n",
        "df_toshima_facility = df_toshima_facility[\n",
        "    (df_toshima_facility['施設分類'] == '公園')\n",
        "].reset_index(drop=True)\n",
        "change_type(df_toshima_facility)\n",
        "print(df_toshima_facility.shape)"
      ],
      "metadata": {
        "id": "EsxQYBw7ElDu"
      },
      "execution_count": null,
      "outputs": []
    },
    {
      "cell_type": "markdown",
      "source": [
        "## 17. 北区\n",
        "- [公園案内（北区内の公園・児童遊園）](https://www.city.kita.tokyo.jp/d-douro/jutaku/koen/annai.html) -> CSVでない"
      ],
      "metadata": {
        "id": "u9OKlv_M0WpZ"
      }
    },
    {
      "cell_type": "code",
      "source": [
        "df_kita_park = df_municipal_park[df_municipal_park['市区町村名'] == '北区']\n",
        "print(df_kita_park.shape)"
      ],
      "metadata": {
        "id": "kZSbVdqPLUs5"
      },
      "execution_count": null,
      "outputs": []
    },
    {
      "cell_type": "markdown",
      "source": [
        "## 18. 荒川区\n",
        "- [公園](https://www.city.arakawa.tokyo.jp/koen/koen/index.html) -> 一覧はない"
      ],
      "metadata": {
        "id": "zy6eSKS20T2p"
      }
    },
    {
      "cell_type": "code",
      "source": [
        "df_arakawa_park = df_municipal_park[df_municipal_park['市区町村名'] == '荒川区']\n",
        "print(df_arakawa_park.shape)"
      ],
      "metadata": {
        "id": "pLkiTNqSLf0a"
      },
      "execution_count": null,
      "outputs": []
    },
    {
      "cell_type": "markdown",
      "source": [
        "## 19. 板橋区\n",
        "- [公園・公衆便所オープンデータ](https://catalog.data.metro.tokyo.lg.jp/dataset/t131199d0000001151/resource/8bfab687-375e-4634-b1f6-dca56b34fe4c)\n",
        "- [どこでも誰でもおでかけマップオープンデータ（公園）](https://catalog.data.metro.tokyo.lg.jp/dataset/t131199d0000000767/resource/c56d0887-9536-4c92-a965-8ee0a94d28a5)"
      ],
      "metadata": {
        "id": "VUkqCI22urni"
      }
    },
    {
      "cell_type": "code",
      "source": [
        "url_itabashi_park = 'https://www.city.itabashi.tokyo.jp/_res/projects/default_project/_page_/001/014/717/20200401.xlsx'\n",
        "df_itabashi_park = get_data_csv_url(url_itabashi_park, excel=True)\n",
        "print(df_itabashi_park.shape)\n",
        "\n",
        "df_itabashi_park['市区町村名'] = '板橋区'\n",
        "df_itabashi_park['施設分類'] = '公園'\n",
        "df_itabashi_park = df_itabashi_park.rename(columns={'住所':'所在地'})[extract_columns]\n",
        "change_type(df_itabashi_park)\n",
        "print(df_itabashi_park.shape)"
      ],
      "metadata": {
        "id": "tTmDLX5BGJiO"
      },
      "execution_count": null,
      "outputs": []
    },
    {
      "cell_type": "markdown",
      "source": [
        "## 20. 練馬区\n",
        "- [その他区立公園など（公園等一覧）](https://www.city.nerima.tokyo.jp/kankomoyoshi/annai/fukei/nerima_park/kunai/kouen-itiran.html) -> CSVでない"
      ],
      "metadata": {
        "id": "IrUQq4O1R_U-"
      }
    },
    {
      "cell_type": "code",
      "source": [
        "df_nerima_park = pd.read_csv(os.path.join(DIR_NAME, 'original/練馬区_公園.csv'))\n",
        "print(df_nerima_park.shape)\n",
        "\n",
        "df_nerima_park = df_nerima_park[df_nerima_park['所在地'].notna()].reset_index(drop=True)\n",
        "df_nerima_park['市区町村名'] = '練馬区'\n",
        "df_nerima_park['施設分類'] = '公園'\n",
        "df_nerima_park['町丁目'] = df_nerima_park['所在地'].apply(lambda x: x.split('-')[0]+'丁目')\n",
        "df_nerima_park['面積'] = df_nerima_park['面積'].str.replace(',', '').astype(float)\n",
        "df_nerima_park = df_nerima_park[df_nerima_park['面積'] >= 500]  # 面積の小さい公園は除く\n",
        "df_nerima_park = df_nerima_park.rename(columns={'園名':'名称'})\n",
        "print(df_nerima_park.shape)"
      ],
      "metadata": {
        "id": "pwvTvknwqyhj"
      },
      "execution_count": null,
      "outputs": []
    },
    {
      "cell_type": "code",
      "source": [
        "# Google Mapの緯度経度をマージ\n",
        "df_gmap_nerima = df_municipal_park[df_municipal_park['市区町村名'] == '練馬区'].drop_duplicates(subset='名称')\n",
        "df_tmp = pd.merge(\n",
        "    df_nerima_park,\n",
        "    df_gmap_nerima[['名称', '緯度', '経度']],\n",
        "    on='名称', how='left'\n",
        ")\n",
        "# マージできなかったレコードは、住所から緯度経度を取得\n",
        "df_nerima_park = pd.concat([\n",
        "    df_tmp[df_tmp['緯度'].notna()],\n",
        "    add_lat_lon(df_tmp[df_tmp['緯度'].isna()])\n",
        "]).reset_index(drop=True)\n",
        "print(df_nerima_park.shape)"
      ],
      "metadata": {
        "id": "nHbHAdq6MkTC"
      },
      "execution_count": null,
      "outputs": []
    },
    {
      "cell_type": "markdown",
      "source": [
        "## 21. 足立区\n",
        "- [公園・児童遊園・プチテラス・便所のデータ](https://www.city.adachi.tokyo.jp/t-iji/kouenbinran.html) -> 緯度経度がない"
      ],
      "metadata": {
        "id": "wnKQ_F6h0Hw6"
      }
    },
    {
      "cell_type": "code",
      "source": [
        "df_adachi_park = df_municipal_park[df_municipal_park['市区町村名'] == '足立区']\n",
        "print(df_adachi_park.shape)"
      ],
      "metadata": {
        "id": "f3Z7JcAHLuFa"
      },
      "execution_count": null,
      "outputs": []
    },
    {
      "cell_type": "markdown",
      "source": [
        "## 22. 葛飾区\n",
        "- [公園](https://catalog.data.metro.tokyo.lg.jp/dataset/t131229d0000000002/resource/8b0d0b9c-ea4f-40e0-af24-fea29078bc0e)"
      ],
      "metadata": {
        "id": "gQjDqsH_0Llk"
      }
    },
    {
      "cell_type": "code",
      "source": [
        "url_katsushika_park = 'https://www.opendata.metro.tokyo.lg.jp/suisyoudataset/131229__public_facility_6.csv'\n",
        "df_katsushika_park = get_data_csv_url(url_katsushika_park, encoding='shift-jis')\n",
        "df_katsushika_park = df_katsushika_park.dropna(how='all')\n",
        "print(df_katsushika_park.shape)\n",
        "\n",
        "df_katsushika_park = df_katsushika_park[df_katsushika_park['データセット名'].notna()].reset_index(drop=True)\n",
        "df_katsushika_park['施設分類'] = '公園'\n",
        "df_katsushika_park = df_katsushika_park.rename(columns={'名称（例）':'名称', '住所':'所在地', '軽度':'経度'})[extract_columns]\n",
        "change_type(df_katsushika_park)\n",
        "print(df_katsushika_park.shape)"
      ],
      "metadata": {
        "id": "WRDm1JReHQHd"
      },
      "execution_count": null,
      "outputs": []
    },
    {
      "cell_type": "markdown",
      "source": [
        "## 23. 江戸川区\n",
        "- [公園・親水公園・動物園](https://www.city.edogawa.tokyo.jp/e066/kuseijoho/gaiyo/shisetsuguide/bunya/koendobutsuen/index.html) -> CSVでない"
      ],
      "metadata": {
        "id": "ppaYDhfs0Ooq"
      }
    },
    {
      "cell_type": "code",
      "source": [
        "df_edogawa_park = df_municipal_park[df_municipal_park['市区町村名'] == '江戸川区']\n",
        "print(df_edogawa_park.shape)"
      ],
      "metadata": {
        "id": "jv7U25P8L85h"
      },
      "execution_count": null,
      "outputs": []
    },
    {
      "cell_type": "markdown",
      "source": [
        "## 公園マスタ"
      ],
      "metadata": {
        "id": "9x6VJEBUSGeh"
      }
    },
    {
      "cell_type": "markdown",
      "source": [
        "|No.|区名|データ|\n",
        "|:----|:----|:----|\n",
        "|0|東京都|済み|\n",
        "|1|千代田区|GoogleMap|\n",
        "|2|中央区|済み|\n",
        "|3|港区|済み|\n",
        "|4|新宿区|GoogleMap|\n",
        "|5|文京区|済み|\n",
        "|6|台東区|済み|\n",
        "|7|墨田区|済み|\n",
        "|8|江東区|済み|\n",
        "|9|品川区|済み|\n",
        "|10|目黒区|済み|\n",
        "|11|大田区|GoogleMap|\n",
        "|12|世田谷区|GoogleMap|\n",
        "|13|渋谷区|済み|\n",
        "|14|中野区|済み|\n",
        "|15|杉並区|済み|\n",
        "|16|豊島区|済み|\n",
        "|17|北区|GoogleMap|\n",
        "|18|荒川区|GoogleMap|\n",
        "|19|板橋区|済み|\n",
        "|20|練馬区|済み|\n",
        "|21|足立区|GoogleMap|\n",
        "|22|葛飾区|済み|\n",
        "|23|江戸川区|GoogleMap|\n"
      ],
      "metadata": {
        "id": "YrYU6XXNxnu4"
      }
    },
    {
      "cell_type": "code",
      "source": [
        "df_park_master = pd.concat([\n",
        "    df_tokyo_public_facility,\n",
        "    df_chiyoda_park,\n",
        "    df_chuou_park,\n",
        "    df_minato_park,\n",
        "    df_shinjuku_park,\n",
        "    df_bunkyo_park,\n",
        "    df_taito_park,\n",
        "    df_sumida_park,\n",
        "    df_koutou_park,\n",
        "    df_shinagawa_facility,\n",
        "    df_megro_park,\n",
        "    df_oota_park,\n",
        "    df_setagaya_park,\n",
        "    df_shibuya_park,\n",
        "    df_nakano_park,\n",
        "    df_suginami_park,\n",
        "    df_toshima_facility,\n",
        "    df_kita_park,\n",
        "    df_arakawa_park,\n",
        "    df_itabashi_park,\n",
        "    df_nerima_park,\n",
        "    df_adachi_park,\n",
        "    df_katsushika_park,\n",
        "    df_edogawa_park,\n",
        "]).reset_index(drop=True)\n",
        "print(df_park_master.shape)"
      ],
      "metadata": {
        "id": "81JjNDiASF-3"
      },
      "execution_count": null,
      "outputs": []
    },
    {
      "cell_type": "markdown",
      "source": [
        "### 保存"
      ],
      "metadata": {
        "id": "5oKx3fx2XR07"
      }
    },
    {
      "cell_type": "code",
      "source": [
        "# df_park_master.to_csv(os.path.join(DIR_NAME, 'park_master.csv'), index=False, encoding='utf-8_sig')"
      ],
      "metadata": {
        "id": "1kc_VsQUuL0V"
      },
      "execution_count": null,
      "outputs": []
    },
    {
      "cell_type": "code",
      "source": [
        "df_park_master = pd.read_csv(os.path.join(DIR_NAME, 'park_master.csv'))\n",
        "print(df_park_master.shape)"
      ],
      "metadata": {
        "id": "D8b9g259XTsy",
        "outputId": "60a095f2-5443-47de-bd67-e1789ed88595",
        "colab": {
          "base_uri": "https://localhost:8080/"
        }
      },
      "execution_count": 21,
      "outputs": [
        {
          "output_type": "stream",
          "name": "stdout",
          "text": [
            "(3212, 11)\n"
          ]
        }
      ]
    },
    {
      "cell_type": "code",
      "source": [
        "df_park_master.head()"
      ],
      "metadata": {
        "colab": {
          "base_uri": "https://localhost:8080/",
          "height": 206
        },
        "id": "DuOMlpqHSKvK",
        "outputId": "b170a2f7-8f1c-4219-944b-ea1b44c6ac0f"
      },
      "execution_count": 22,
      "outputs": [
        {
          "output_type": "execute_result",
          "data": {
            "text/plain": [
              "  施設分類            名称 市区町村名                                    所在地         緯度  \\\n",
              "0   公園       お台場海浜公園    港区                          東京都港区台場一丁目４番地  35.630845   \n",
              "1   公園  シンボルプロムナード公園    港区  東京都港区台場一丁目・二丁目、江東区青海一丁目・二丁目、有明二丁目・三丁目  35.623908   \n",
              "2   公園       東八潮緑道公園   品川区                              東京都品川区東八潮  35.619315   \n",
              "3   公園       青海北ふ頭公園   江東区                            東京都江東区青海二丁目  35.618915   \n",
              "4   公園       青海南ふ頭公園   江東区                            東京都江東区青海二丁目  35.615663   \n",
              "\n",
              "           経度 name  rating   設立  面積  町丁目  \n",
              "0  139.776087  NaN     NaN  NaN NaN  NaN  \n",
              "1  139.774430  NaN     NaN  NaN NaN  NaN  \n",
              "2  139.771579  NaN     NaN  NaN NaN  NaN  \n",
              "3  139.773785  NaN     NaN  NaN NaN  NaN  \n",
              "4  139.776117  NaN     NaN  NaN NaN  NaN  "
            ],
            "text/html": [
              "\n",
              "  <div id=\"df-64bb71dd-31dd-4edb-8d88-bdd7e196d612\">\n",
              "    <div class=\"colab-df-container\">\n",
              "      <div>\n",
              "<style scoped>\n",
              "    .dataframe tbody tr th:only-of-type {\n",
              "        vertical-align: middle;\n",
              "    }\n",
              "\n",
              "    .dataframe tbody tr th {\n",
              "        vertical-align: top;\n",
              "    }\n",
              "\n",
              "    .dataframe thead th {\n",
              "        text-align: right;\n",
              "    }\n",
              "</style>\n",
              "<table border=\"1\" class=\"dataframe\">\n",
              "  <thead>\n",
              "    <tr style=\"text-align: right;\">\n",
              "      <th></th>\n",
              "      <th>施設分類</th>\n",
              "      <th>名称</th>\n",
              "      <th>市区町村名</th>\n",
              "      <th>所在地</th>\n",
              "      <th>緯度</th>\n",
              "      <th>経度</th>\n",
              "      <th>name</th>\n",
              "      <th>rating</th>\n",
              "      <th>設立</th>\n",
              "      <th>面積</th>\n",
              "      <th>町丁目</th>\n",
              "    </tr>\n",
              "  </thead>\n",
              "  <tbody>\n",
              "    <tr>\n",
              "      <th>0</th>\n",
              "      <td>公園</td>\n",
              "      <td>お台場海浜公園</td>\n",
              "      <td>港区</td>\n",
              "      <td>東京都港区台場一丁目４番地</td>\n",
              "      <td>35.630845</td>\n",
              "      <td>139.776087</td>\n",
              "      <td>NaN</td>\n",
              "      <td>NaN</td>\n",
              "      <td>NaN</td>\n",
              "      <td>NaN</td>\n",
              "      <td>NaN</td>\n",
              "    </tr>\n",
              "    <tr>\n",
              "      <th>1</th>\n",
              "      <td>公園</td>\n",
              "      <td>シンボルプロムナード公園</td>\n",
              "      <td>港区</td>\n",
              "      <td>東京都港区台場一丁目・二丁目、江東区青海一丁目・二丁目、有明二丁目・三丁目</td>\n",
              "      <td>35.623908</td>\n",
              "      <td>139.774430</td>\n",
              "      <td>NaN</td>\n",
              "      <td>NaN</td>\n",
              "      <td>NaN</td>\n",
              "      <td>NaN</td>\n",
              "      <td>NaN</td>\n",
              "    </tr>\n",
              "    <tr>\n",
              "      <th>2</th>\n",
              "      <td>公園</td>\n",
              "      <td>東八潮緑道公園</td>\n",
              "      <td>品川区</td>\n",
              "      <td>東京都品川区東八潮</td>\n",
              "      <td>35.619315</td>\n",
              "      <td>139.771579</td>\n",
              "      <td>NaN</td>\n",
              "      <td>NaN</td>\n",
              "      <td>NaN</td>\n",
              "      <td>NaN</td>\n",
              "      <td>NaN</td>\n",
              "    </tr>\n",
              "    <tr>\n",
              "      <th>3</th>\n",
              "      <td>公園</td>\n",
              "      <td>青海北ふ頭公園</td>\n",
              "      <td>江東区</td>\n",
              "      <td>東京都江東区青海二丁目</td>\n",
              "      <td>35.618915</td>\n",
              "      <td>139.773785</td>\n",
              "      <td>NaN</td>\n",
              "      <td>NaN</td>\n",
              "      <td>NaN</td>\n",
              "      <td>NaN</td>\n",
              "      <td>NaN</td>\n",
              "    </tr>\n",
              "    <tr>\n",
              "      <th>4</th>\n",
              "      <td>公園</td>\n",
              "      <td>青海南ふ頭公園</td>\n",
              "      <td>江東区</td>\n",
              "      <td>東京都江東区青海二丁目</td>\n",
              "      <td>35.615663</td>\n",
              "      <td>139.776117</td>\n",
              "      <td>NaN</td>\n",
              "      <td>NaN</td>\n",
              "      <td>NaN</td>\n",
              "      <td>NaN</td>\n",
              "      <td>NaN</td>\n",
              "    </tr>\n",
              "  </tbody>\n",
              "</table>\n",
              "</div>\n",
              "      <button class=\"colab-df-convert\" onclick=\"convertToInteractive('df-64bb71dd-31dd-4edb-8d88-bdd7e196d612')\"\n",
              "              title=\"Convert this dataframe to an interactive table.\"\n",
              "              style=\"display:none;\">\n",
              "        \n",
              "  <svg xmlns=\"http://www.w3.org/2000/svg\" height=\"24px\"viewBox=\"0 0 24 24\"\n",
              "       width=\"24px\">\n",
              "    <path d=\"M0 0h24v24H0V0z\" fill=\"none\"/>\n",
              "    <path d=\"M18.56 5.44l.94 2.06.94-2.06 2.06-.94-2.06-.94-.94-2.06-.94 2.06-2.06.94zm-11 1L8.5 8.5l.94-2.06 2.06-.94-2.06-.94L8.5 2.5l-.94 2.06-2.06.94zm10 10l.94 2.06.94-2.06 2.06-.94-2.06-.94-.94-2.06-.94 2.06-2.06.94z\"/><path d=\"M17.41 7.96l-1.37-1.37c-.4-.4-.92-.59-1.43-.59-.52 0-1.04.2-1.43.59L10.3 9.45l-7.72 7.72c-.78.78-.78 2.05 0 2.83L4 21.41c.39.39.9.59 1.41.59.51 0 1.02-.2 1.41-.59l7.78-7.78 2.81-2.81c.8-.78.8-2.07 0-2.86zM5.41 20L4 18.59l7.72-7.72 1.47 1.35L5.41 20z\"/>\n",
              "  </svg>\n",
              "      </button>\n",
              "      \n",
              "  <style>\n",
              "    .colab-df-container {\n",
              "      display:flex;\n",
              "      flex-wrap:wrap;\n",
              "      gap: 12px;\n",
              "    }\n",
              "\n",
              "    .colab-df-convert {\n",
              "      background-color: #E8F0FE;\n",
              "      border: none;\n",
              "      border-radius: 50%;\n",
              "      cursor: pointer;\n",
              "      display: none;\n",
              "      fill: #1967D2;\n",
              "      height: 32px;\n",
              "      padding: 0 0 0 0;\n",
              "      width: 32px;\n",
              "    }\n",
              "\n",
              "    .colab-df-convert:hover {\n",
              "      background-color: #E2EBFA;\n",
              "      box-shadow: 0px 1px 2px rgba(60, 64, 67, 0.3), 0px 1px 3px 1px rgba(60, 64, 67, 0.15);\n",
              "      fill: #174EA6;\n",
              "    }\n",
              "\n",
              "    [theme=dark] .colab-df-convert {\n",
              "      background-color: #3B4455;\n",
              "      fill: #D2E3FC;\n",
              "    }\n",
              "\n",
              "    [theme=dark] .colab-df-convert:hover {\n",
              "      background-color: #434B5C;\n",
              "      box-shadow: 0px 1px 3px 1px rgba(0, 0, 0, 0.15);\n",
              "      filter: drop-shadow(0px 1px 2px rgba(0, 0, 0, 0.3));\n",
              "      fill: #FFFFFF;\n",
              "    }\n",
              "  </style>\n",
              "\n",
              "      <script>\n",
              "        const buttonEl =\n",
              "          document.querySelector('#df-64bb71dd-31dd-4edb-8d88-bdd7e196d612 button.colab-df-convert');\n",
              "        buttonEl.style.display =\n",
              "          google.colab.kernel.accessAllowed ? 'block' : 'none';\n",
              "\n",
              "        async function convertToInteractive(key) {\n",
              "          const element = document.querySelector('#df-64bb71dd-31dd-4edb-8d88-bdd7e196d612');\n",
              "          const dataTable =\n",
              "            await google.colab.kernel.invokeFunction('convertToInteractive',\n",
              "                                                     [key], {});\n",
              "          if (!dataTable) return;\n",
              "\n",
              "          const docLinkHtml = 'Like what you see? Visit the ' +\n",
              "            '<a target=\"_blank\" href=https://colab.research.google.com/notebooks/data_table.ipynb>data table notebook</a>'\n",
              "            + ' to learn more about interactive tables.';\n",
              "          element.innerHTML = '';\n",
              "          dataTable['output_type'] = 'display_data';\n",
              "          await google.colab.output.renderOutput(dataTable, element);\n",
              "          const docLink = document.createElement('div');\n",
              "          docLink.innerHTML = docLinkHtml;\n",
              "          element.appendChild(docLink);\n",
              "        }\n",
              "      </script>\n",
              "    </div>\n",
              "  </div>\n",
              "  "
            ]
          },
          "metadata": {},
          "execution_count": 22
        }
      ]
    },
    {
      "cell_type": "code",
      "source": [
        "# データがある区をリストアップ\n",
        "sr_park_count = df_park_master[df_park_master['施設分類'] == '公園']['市区町村名'].value_counts()\n",
        "ward_list = list(sr_park_count[sr_park_count > 10].index)\n",
        "print(len(ward_list))"
      ],
      "metadata": {
        "id": "mxCmxoMv03eQ",
        "outputId": "c2366997-44bf-41aa-8e2c-cc0f1dc7f1bf",
        "colab": {
          "base_uri": "https://localhost:8080/"
        }
      },
      "execution_count": 23,
      "outputs": [
        {
          "output_type": "stream",
          "name": "stdout",
          "text": [
            "23\n"
          ]
        }
      ]
    },
    {
      "cell_type": "code",
      "source": [
        "sr_park_count"
      ],
      "metadata": {
        "id": "XLsyg89v5fe_",
        "outputId": "14851a38-1bf5-49b1-b90a-154e8f6d3da4",
        "colab": {
          "base_uri": "https://localhost:8080/"
        }
      },
      "execution_count": 24,
      "outputs": [
        {
          "output_type": "execute_result",
          "data": {
            "text/plain": [
              "杉並区     338\n",
              "練馬区     312\n",
              "世田谷区    269\n",
              "足立区     255\n",
              "板橋区     233\n",
              "品川区     226\n",
              "江東区     194\n",
              "中野区     188\n",
              "港区      164\n",
              "豊島区     160\n",
              "墨田区     146\n",
              "新宿区     144\n",
              "文京区     119\n",
              "北区       87\n",
              "台東区      85\n",
              "渋谷区      68\n",
              "中央区      57\n",
              "目黒区      45\n",
              "千代田区     28\n",
              "葛飾区      26\n",
              "荒川区      25\n",
              "大田区      25\n",
              "江戸川区     18\n",
              "Name: 市区町村名, dtype: int64"
            ]
          },
          "metadata": {},
          "execution_count": 24
        }
      ]
    },
    {
      "cell_type": "markdown",
      "source": [
        "## 地理マスタ"
      ],
      "metadata": {
        "id": "jdT3_lplSwOo"
      }
    },
    {
      "cell_type": "code",
      "source": [
        "df_geo_master = pd.read_csv(os.path.join(DIR_NAME, 'geocoding.csv'))[['town_id', '市区町村名', '町名', '町丁目', '緯度', '経度']]\n",
        "print(df_geo_master.shape)"
      ],
      "metadata": {
        "colab": {
          "base_uri": "https://localhost:8080/"
        },
        "id": "mmH8g81kP2Cb",
        "outputId": "007284a8-a8dc-4f5a-f905-71f6b8a49677"
      },
      "execution_count": 25,
      "outputs": [
        {
          "output_type": "stream",
          "name": "stdout",
          "text": [
            "(3145, 6)\n"
          ]
        }
      ]
    },
    {
      "cell_type": "code",
      "source": [
        "def rank_score(sr_data):\n",
        "    rank = sr_data.rank()\n",
        "    rmax = rank.max()\n",
        "    rmin = rank.min()\n",
        "    max_val = 5\n",
        "    x = (rank - rmin)/(rmax - rmin) * max_val\n",
        "    return np.clip(x, 0, max_val)"
      ],
      "metadata": {
        "id": "qsPRvvbUTnlK"
      },
      "execution_count": 26,
      "outputs": []
    },
    {
      "cell_type": "markdown",
      "source": [
        "## 公園スコア"
      ],
      "metadata": {
        "id": "E5-It_S7RmkQ"
      }
    },
    {
      "cell_type": "code",
      "source": [
        "%%time\n",
        "# 近い5件の距離の平均\n",
        "df_geo_master['公園(平均距離)'] = get_value_of_nearest_facility(df_geo_master, df_park_master, '公園', 'mean', 5)\n",
        "# 0.5km以内の施設の数\n",
        "df_geo_master['公園(数)'] = get_value_of_nearest_facility(df_geo_master, df_park_master, '公園', 'count', 0.5)"
      ],
      "metadata": {
        "colab": {
          "base_uri": "https://localhost:8080/"
        },
        "id": "sn7VhpDmQJsi",
        "outputId": "50308830-c9e1-4d7c-ed79-699aec33e6cf"
      },
      "execution_count": 31,
      "outputs": [
        {
          "output_type": "stream",
          "name": "stdout",
          "text": [
            "公園 not found 1050\n",
            "公園 not found 1354\n",
            "公園 not found 1357\n",
            "公園 not found 2830\n",
            "公園 not found 1050\n",
            "公園 not found 1354\n",
            "公園 not found 1357\n",
            "公園 not found 2830\n",
            "CPU times: user 54.6 s, sys: 229 ms, total: 54.8 s\n",
            "Wall time: 57.7 s\n"
          ]
        }
      ]
    },
    {
      "cell_type": "code",
      "source": [
        "df_geo_master['公園(平均距離)'] = df_geo_master['公園(平均距離)'].fillna(df_geo_master['公園(平均距離)'].max())\n",
        "df_geo_master['公園(数)'] = df_geo_master['公園(数)'].fillna(0).astype(int)"
      ],
      "metadata": {
        "id": "ChCaV5ynYDXK"
      },
      "execution_count": 35,
      "outputs": []
    },
    {
      "cell_type": "code",
      "source": [
        "print(df_geo_master.shape)\n",
        "df_geo_master.head()"
      ],
      "metadata": {
        "colab": {
          "base_uri": "https://localhost:8080/",
          "height": 224
        },
        "id": "pNI5D7LZTJE3",
        "outputId": "ce0655f3-89f0-448f-a7f9-ab95c68957da"
      },
      "execution_count": 36,
      "outputs": [
        {
          "output_type": "stream",
          "name": "stdout",
          "text": [
            "(3145, 8)\n"
          ]
        },
        {
          "output_type": "execute_result",
          "data": {
            "text/plain": [
              "   town_id 市区町村名   町名     町丁目         緯度          経度  公園(平均距離)  公園(数)\n",
              "0   101003  千代田区  丸の内  丸の内１丁目  35.681560  139.767201  0.718325      1\n",
              "1   101004  千代田区  丸の内  丸の内２丁目  35.680022  139.763447  0.910706      0\n",
              "2   101005  千代田区  丸の内  丸の内３丁目  35.676952  139.763476  0.908014      0\n",
              "3   101007  千代田区  大手町  大手町１丁目  35.688069  139.763929  0.710076      1\n",
              "4   101008  千代田区  大手町  大手町２丁目  35.686301  139.768087  0.593143      1"
            ],
            "text/html": [
              "\n",
              "  <div id=\"df-eea267ef-2143-478b-9c9c-52957929d8cf\">\n",
              "    <div class=\"colab-df-container\">\n",
              "      <div>\n",
              "<style scoped>\n",
              "    .dataframe tbody tr th:only-of-type {\n",
              "        vertical-align: middle;\n",
              "    }\n",
              "\n",
              "    .dataframe tbody tr th {\n",
              "        vertical-align: top;\n",
              "    }\n",
              "\n",
              "    .dataframe thead th {\n",
              "        text-align: right;\n",
              "    }\n",
              "</style>\n",
              "<table border=\"1\" class=\"dataframe\">\n",
              "  <thead>\n",
              "    <tr style=\"text-align: right;\">\n",
              "      <th></th>\n",
              "      <th>town_id</th>\n",
              "      <th>市区町村名</th>\n",
              "      <th>町名</th>\n",
              "      <th>町丁目</th>\n",
              "      <th>緯度</th>\n",
              "      <th>経度</th>\n",
              "      <th>公園(平均距離)</th>\n",
              "      <th>公園(数)</th>\n",
              "    </tr>\n",
              "  </thead>\n",
              "  <tbody>\n",
              "    <tr>\n",
              "      <th>0</th>\n",
              "      <td>101003</td>\n",
              "      <td>千代田区</td>\n",
              "      <td>丸の内</td>\n",
              "      <td>丸の内１丁目</td>\n",
              "      <td>35.681560</td>\n",
              "      <td>139.767201</td>\n",
              "      <td>0.718325</td>\n",
              "      <td>1</td>\n",
              "    </tr>\n",
              "    <tr>\n",
              "      <th>1</th>\n",
              "      <td>101004</td>\n",
              "      <td>千代田区</td>\n",
              "      <td>丸の内</td>\n",
              "      <td>丸の内２丁目</td>\n",
              "      <td>35.680022</td>\n",
              "      <td>139.763447</td>\n",
              "      <td>0.910706</td>\n",
              "      <td>0</td>\n",
              "    </tr>\n",
              "    <tr>\n",
              "      <th>2</th>\n",
              "      <td>101005</td>\n",
              "      <td>千代田区</td>\n",
              "      <td>丸の内</td>\n",
              "      <td>丸の内３丁目</td>\n",
              "      <td>35.676952</td>\n",
              "      <td>139.763476</td>\n",
              "      <td>0.908014</td>\n",
              "      <td>0</td>\n",
              "    </tr>\n",
              "    <tr>\n",
              "      <th>3</th>\n",
              "      <td>101007</td>\n",
              "      <td>千代田区</td>\n",
              "      <td>大手町</td>\n",
              "      <td>大手町１丁目</td>\n",
              "      <td>35.688069</td>\n",
              "      <td>139.763929</td>\n",
              "      <td>0.710076</td>\n",
              "      <td>1</td>\n",
              "    </tr>\n",
              "    <tr>\n",
              "      <th>4</th>\n",
              "      <td>101008</td>\n",
              "      <td>千代田区</td>\n",
              "      <td>大手町</td>\n",
              "      <td>大手町２丁目</td>\n",
              "      <td>35.686301</td>\n",
              "      <td>139.768087</td>\n",
              "      <td>0.593143</td>\n",
              "      <td>1</td>\n",
              "    </tr>\n",
              "  </tbody>\n",
              "</table>\n",
              "</div>\n",
              "      <button class=\"colab-df-convert\" onclick=\"convertToInteractive('df-eea267ef-2143-478b-9c9c-52957929d8cf')\"\n",
              "              title=\"Convert this dataframe to an interactive table.\"\n",
              "              style=\"display:none;\">\n",
              "        \n",
              "  <svg xmlns=\"http://www.w3.org/2000/svg\" height=\"24px\"viewBox=\"0 0 24 24\"\n",
              "       width=\"24px\">\n",
              "    <path d=\"M0 0h24v24H0V0z\" fill=\"none\"/>\n",
              "    <path d=\"M18.56 5.44l.94 2.06.94-2.06 2.06-.94-2.06-.94-.94-2.06-.94 2.06-2.06.94zm-11 1L8.5 8.5l.94-2.06 2.06-.94-2.06-.94L8.5 2.5l-.94 2.06-2.06.94zm10 10l.94 2.06.94-2.06 2.06-.94-2.06-.94-.94-2.06-.94 2.06-2.06.94z\"/><path d=\"M17.41 7.96l-1.37-1.37c-.4-.4-.92-.59-1.43-.59-.52 0-1.04.2-1.43.59L10.3 9.45l-7.72 7.72c-.78.78-.78 2.05 0 2.83L4 21.41c.39.39.9.59 1.41.59.51 0 1.02-.2 1.41-.59l7.78-7.78 2.81-2.81c.8-.78.8-2.07 0-2.86zM5.41 20L4 18.59l7.72-7.72 1.47 1.35L5.41 20z\"/>\n",
              "  </svg>\n",
              "      </button>\n",
              "      \n",
              "  <style>\n",
              "    .colab-df-container {\n",
              "      display:flex;\n",
              "      flex-wrap:wrap;\n",
              "      gap: 12px;\n",
              "    }\n",
              "\n",
              "    .colab-df-convert {\n",
              "      background-color: #E8F0FE;\n",
              "      border: none;\n",
              "      border-radius: 50%;\n",
              "      cursor: pointer;\n",
              "      display: none;\n",
              "      fill: #1967D2;\n",
              "      height: 32px;\n",
              "      padding: 0 0 0 0;\n",
              "      width: 32px;\n",
              "    }\n",
              "\n",
              "    .colab-df-convert:hover {\n",
              "      background-color: #E2EBFA;\n",
              "      box-shadow: 0px 1px 2px rgba(60, 64, 67, 0.3), 0px 1px 3px 1px rgba(60, 64, 67, 0.15);\n",
              "      fill: #174EA6;\n",
              "    }\n",
              "\n",
              "    [theme=dark] .colab-df-convert {\n",
              "      background-color: #3B4455;\n",
              "      fill: #D2E3FC;\n",
              "    }\n",
              "\n",
              "    [theme=dark] .colab-df-convert:hover {\n",
              "      background-color: #434B5C;\n",
              "      box-shadow: 0px 1px 3px 1px rgba(0, 0, 0, 0.15);\n",
              "      filter: drop-shadow(0px 1px 2px rgba(0, 0, 0, 0.3));\n",
              "      fill: #FFFFFF;\n",
              "    }\n",
              "  </style>\n",
              "\n",
              "      <script>\n",
              "        const buttonEl =\n",
              "          document.querySelector('#df-eea267ef-2143-478b-9c9c-52957929d8cf button.colab-df-convert');\n",
              "        buttonEl.style.display =\n",
              "          google.colab.kernel.accessAllowed ? 'block' : 'none';\n",
              "\n",
              "        async function convertToInteractive(key) {\n",
              "          const element = document.querySelector('#df-eea267ef-2143-478b-9c9c-52957929d8cf');\n",
              "          const dataTable =\n",
              "            await google.colab.kernel.invokeFunction('convertToInteractive',\n",
              "                                                     [key], {});\n",
              "          if (!dataTable) return;\n",
              "\n",
              "          const docLinkHtml = 'Like what you see? Visit the ' +\n",
              "            '<a target=\"_blank\" href=https://colab.research.google.com/notebooks/data_table.ipynb>data table notebook</a>'\n",
              "            + ' to learn more about interactive tables.';\n",
              "          element.innerHTML = '';\n",
              "          dataTable['output_type'] = 'display_data';\n",
              "          await google.colab.output.renderOutput(dataTable, element);\n",
              "          const docLink = document.createElement('div');\n",
              "          docLink.innerHTML = docLinkHtml;\n",
              "          element.appendChild(docLink);\n",
              "        }\n",
              "      </script>\n",
              "    </div>\n",
              "  </div>\n",
              "  "
            ]
          },
          "metadata": {},
          "execution_count": 36
        }
      ]
    },
    {
      "cell_type": "code",
      "source": [
        "score_name = '公園スコア'\n",
        "feature_list = {\n",
        "    '公園(平均距離)':     {'sort': -1, 'weight': 1},\n",
        "    '公園(数)':           {'sort': 1, 'weight': 1}, \n",
        "}\n",
        "all_feature_list = list(feature_list.keys())"
      ],
      "metadata": {
        "id": "wro2h5WC6yuL"
      },
      "execution_count": 37,
      "outputs": []
    },
    {
      "cell_type": "code",
      "source": [
        "for feature_name in feature_list.keys():\n",
        "    sns.histplot(df_geo_master[feature_name], bins=20)\n",
        "    plt.show()"
      ],
      "metadata": {
        "id": "Onguh3i3RhjQ",
        "outputId": "93f17ce2-1044-4060-a982-a51aef0fa45c",
        "colab": {
          "base_uri": "https://localhost:8080/",
          "height": 539
        }
      },
      "execution_count": 38,
      "outputs": [
        {
          "output_type": "display_data",
          "data": {
            "text/plain": [
              "<Figure size 432x288 with 1 Axes>"
            ],
            "image/png": "[encoded data removed]"
          },
          "metadata": {
            "needs_background": "light"
          }
        },
        {
          "output_type": "display_data",
          "data": {
            "text/plain": [
              "<Figure size 432x288 with 1 Axes>"
            ],
            "image/png": "[encoded data removed]"
          },
          "metadata": {
            "needs_background": "light"
          }
        }
      ]
    },
    {
      "cell_type": "code",
      "source": [
        "score_list = []\n",
        "for key, value in feature_list.items():\n",
        "    df_geo_master[f'{key}レベル'] = rank_score(df_geo_master[key] * value['sort'])\n",
        "    score_list.append(df_geo_master[f'{key}レベル'] * value['weight'])\n",
        "\n",
        "_tmp_score = pd.concat(score_list, axis=1).sum(axis=1, skipna=False)\n",
        "df_geo_master[score_name] = rank_score(_tmp_score)"
      ],
      "metadata": {
        "id": "O_t4w8yzRwTg"
      },
      "execution_count": 39,
      "outputs": []
    },
    {
      "cell_type": "code",
      "source": [
        "sns.histplot(_tmp_score, bins=20)\n",
        "plt.show()"
      ],
      "metadata": {
        "id": "KGwzR6tmR0jG",
        "outputId": "059ebef4-174d-4bfc-9ba7-8c3dd8cee9c4",
        "colab": {
          "base_uri": "https://localhost:8080/",
          "height": 264
        }
      },
      "execution_count": 40,
      "outputs": [
        {
          "output_type": "display_data",
          "data": {
            "text/plain": [
              "<Figure size 432x288 with 1 Axes>"
            ],
            "image/png": "[encoded data removed]"
          },
          "metadata": {
            "needs_background": "light"
          }
        }
      ]
    },
    {
      "cell_type": "code",
      "source": [
        "sns.histplot(df_geo_master[score_name], bins=20)\n",
        "plt.show()"
      ],
      "metadata": {
        "id": "gWPjyoaX7Em5",
        "outputId": "5ae7df8a-7517-4814-e7b7-9723dca7d729",
        "colab": {
          "base_uri": "https://localhost:8080/",
          "height": 277
        }
      },
      "execution_count": 41,
      "outputs": [
        {
          "output_type": "display_data",
          "data": {
            "text/plain": [
              "<Figure size 432x288 with 1 Axes>"
            ],
            "image/png": "[encoded data removed]"
          },
          "metadata": {
            "needs_background": "light"
          }
        }
      ]
    },
    {
      "cell_type": "code",
      "source": [
        "df_geo_master[score_name].describe()"
      ],
      "metadata": {
        "id": "S2ue6g7-EjmB",
        "outputId": "fcf836fb-0ea1-4f52-df0f-f03148d2abf2",
        "colab": {
          "base_uri": "https://localhost:8080/"
        }
      },
      "execution_count": 42,
      "outputs": [
        {
          "output_type": "execute_result",
          "data": {
            "text/plain": [
              "count    3145.000000\n",
              "mean        2.498409\n",
              "std         1.444983\n",
              "min         0.000000\n",
              "25%         1.247613\n",
              "50%         2.498409\n",
              "75%         3.749204\n",
              "max         5.000000\n",
              "Name: 公園スコア, dtype: float64"
            ]
          },
          "metadata": {},
          "execution_count": 42
        }
      ]
    },
    {
      "cell_type": "code",
      "source": [
        "df_geo_master[score_name] = df_geo_master[score_name].round(2)\n",
        "df_geo_master['公園(平均距離)'] = df_geo_master['公園(平均距離)'].round(3)"
      ],
      "metadata": {
        "id": "1A2uhFPUR5pO"
      },
      "execution_count": 43,
      "outputs": []
    },
    {
      "cell_type": "markdown",
      "source": [
        "## 保存"
      ],
      "metadata": {
        "id": "ySZnii0BU2mP"
      }
    },
    {
      "cell_type": "code",
      "source": [
        "df_geo_master[\n",
        "    ['town_id'] + all_feature_list + [score_name]\n",
        "].to_csv(os.path.join(DIR_NAME, output_score_file), index=False, encoding='utf-8_sig')"
      ],
      "metadata": {
        "id": "zcsj2mFmSPIk"
      },
      "execution_count": 44,
      "outputs": []
    },
    {
      "cell_type": "code",
      "source": [
        "plt.figure(figsize=(15, 5))\n",
        "sns.barplot(x='市区町村名', y=score_name, data=df_geo_master)\n",
        "plt.show()"
      ],
      "metadata": {
        "colab": {
          "base_uri": "https://localhost:8080/",
          "height": 333
        },
        "id": "3tJjlj0keD_-",
        "outputId": "9d7a42ac-867e-40eb-9936-245fda506b47"
      },
      "execution_count": 45,
      "outputs": [
        {
          "output_type": "display_data",
          "data": {
            "text/plain": [
              "<Figure size 1080x360 with 1 Axes>"
            ],
            "image/png": "[encoded data removed]"
          },
          "metadata": {
            "needs_background": "light"
          }
        }
      ]
    },
    {
      "cell_type": "code",
      "source": [
        "def get_score_top(df_data, target):\n",
        "    df_level = df_data.copy()\n",
        "    score_name = f'{target}スコア'\n",
        "    feature_cols = [col for col in all_feature_list if col.startswith(target)]\n",
        "    df_level['rank'] = df_level.groupby('町名')[score_name].transform('rank', ascending=False)\n",
        "    df_level = df_level[df_level['rank'] == 1].sort_values(score_name, ascending=False)[\n",
        "        ['市区町村名', '町名', '町丁目'] + feature_cols + [score_name]\n",
        "    ].reset_index(drop=True)\n",
        "    return df_level"
      ],
      "metadata": {
        "id": "1uo9GIIvStL_"
      },
      "execution_count": 46,
      "outputs": []
    },
    {
      "cell_type": "code",
      "source": [
        "df_level = get_score_top(df_geo_master, '公園')\n",
        "print(df_level.shape)\n",
        "df_level.head(10)"
      ],
      "metadata": {
        "colab": {
          "base_uri": "https://localhost:8080/",
          "height": 380
        },
        "id": "HmlzRQiaZZZC",
        "outputId": "c8659d32-4e99-401b-c4e8-d2566d7fb991"
      },
      "execution_count": 47,
      "outputs": [
        {
          "output_type": "stream",
          "name": "stdout",
          "text": [
            "(901, 6)\n"
          ]
        },
        {
          "output_type": "execute_result",
          "data": {
            "text/plain": [
              "  市区町村名   町名     町丁目  公園(平均距離)  公園(数)  公園スコア\n",
              "0   品川区  東品川  東品川２丁目     0.140     16   5.00\n",
              "1   品川区  旗の台  旗の台３丁目     0.085     16   5.00\n",
              "2    港区   白金   白金１丁目     0.138     15   4.99\n",
              "3   品川区   豊町   豊町１丁目     0.148     15   4.99\n",
              "4   中野区   南台   南台３丁目     0.158     16   4.99\n",
              "5  世田谷区  太子堂  太子堂２丁目     0.111     13   4.99\n",
              "6   品川区   戸越   戸越２丁目     0.167     15   4.99\n",
              "7  世田谷区  祖師谷  祖師谷５丁目     0.166     16   4.99\n",
              "8   品川区   荏原   荏原１丁目     0.129     13   4.98\n",
              "9   品川区  西中延  西中延３丁目     0.168     14   4.98"
            ],
            "text/html": [
              "\n",
              "  <div id=\"df-57b8a172-2c9a-4ffe-894f-cd47ac0df210\">\n",
              "    <div class=\"colab-df-container\">\n",
              "      <div>\n",
              "<style scoped>\n",
              "    .dataframe tbody tr th:only-of-type {\n",
              "        vertical-align: middle;\n",
              "    }\n",
              "\n",
              "    .dataframe tbody tr th {\n",
              "        vertical-align: top;\n",
              "    }\n",
              "\n",
              "    .dataframe thead th {\n",
              "        text-align: right;\n",
              "    }\n",
              "</style>\n",
              "<table border=\"1\" class=\"dataframe\">\n",
              "  <thead>\n",
              "    <tr style=\"text-align: right;\">\n",
              "      <th></th>\n",
              "      <th>市区町村名</th>\n",
              "      <th>町名</th>\n",
              "      <th>町丁目</th>\n",
              "      <th>公園(平均距離)</th>\n",
              "      <th>公園(数)</th>\n",
              "      <th>公園スコア</th>\n",
              "    </tr>\n",
              "  </thead>\n",
              "  <tbody>\n",
              "    <tr>\n",
              "      <th>0</th>\n",
              "      <td>品川区</td>\n",
              "      <td>東品川</td>\n",
              "      <td>東品川２丁目</td>\n",
              "      <td>0.140</td>\n",
              "      <td>16</td>\n",
              "      <td>5.00</td>\n",
              "    </tr>\n",
              "    <tr>\n",
              "      <th>1</th>\n",
              "      <td>品川区</td>\n",
              "      <td>旗の台</td>\n",
              "      <td>旗の台３丁目</td>\n",
              "      <td>0.085</td>\n",
              "      <td>16</td>\n",
              "      <td>5.00</td>\n",
              "    </tr>\n",
              "    <tr>\n",
              "      <th>2</th>\n",
              "      <td>港区</td>\n",
              "      <td>白金</td>\n",
              "      <td>白金１丁目</td>\n",
              "      <td>0.138</td>\n",
              "      <td>15</td>\n",
              "      <td>4.99</td>\n",
              "    </tr>\n",
              "    <tr>\n",
              "      <th>3</th>\n",
              "      <td>品川区</td>\n",
              "      <td>豊町</td>\n",
              "      <td>豊町１丁目</td>\n",
              "      <td>0.148</td>\n",
              "      <td>15</td>\n",
              "      <td>4.99</td>\n",
              "    </tr>\n",
              "    <tr>\n",
              "      <th>4</th>\n",
              "      <td>中野区</td>\n",
              "      <td>南台</td>\n",
              "      <td>南台３丁目</td>\n",
              "      <td>0.158</td>\n",
              "      <td>16</td>\n",
              "      <td>4.99</td>\n",
              "    </tr>\n",
              "    <tr>\n",
              "      <th>5</th>\n",
              "      <td>世田谷区</td>\n",
              "      <td>太子堂</td>\n",
              "      <td>太子堂２丁目</td>\n",
              "      <td>0.111</td>\n",
              "      <td>13</td>\n",
              "      <td>4.99</td>\n",
              "    </tr>\n",
              "    <tr>\n",
              "      <th>6</th>\n",
              "      <td>品川区</td>\n",
              "      <td>戸越</td>\n",
              "      <td>戸越２丁目</td>\n",
              "      <td>0.167</td>\n",
              "      <td>15</td>\n",
              "      <td>4.99</td>\n",
              "    </tr>\n",
              "    <tr>\n",
              "      <th>7</th>\n",
              "      <td>世田谷区</td>\n",
              "      <td>祖師谷</td>\n",
              "      <td>祖師谷５丁目</td>\n",
              "      <td>0.166</td>\n",
              "      <td>16</td>\n",
              "      <td>4.99</td>\n",
              "    </tr>\n",
              "    <tr>\n",
              "      <th>8</th>\n",
              "      <td>品川区</td>\n",
              "      <td>荏原</td>\n",
              "      <td>荏原１丁目</td>\n",
              "      <td>0.129</td>\n",
              "      <td>13</td>\n",
              "      <td>4.98</td>\n",
              "    </tr>\n",
              "    <tr>\n",
              "      <th>9</th>\n",
              "      <td>品川区</td>\n",
              "      <td>西中延</td>\n",
              "      <td>西中延３丁目</td>\n",
              "      <td>0.168</td>\n",
              "      <td>14</td>\n",
              "      <td>4.98</td>\n",
              "    </tr>\n",
              "  </tbody>\n",
              "</table>\n",
              "</div>\n",
              "      <button class=\"colab-df-convert\" onclick=\"convertToInteractive('df-57b8a172-2c9a-4ffe-894f-cd47ac0df210')\"\n",
              "              title=\"Convert this dataframe to an interactive table.\"\n",
              "              style=\"display:none;\">\n",
              "        \n",
              "  <svg xmlns=\"http://www.w3.org/2000/svg\" height=\"24px\"viewBox=\"0 0 24 24\"\n",
              "       width=\"24px\">\n",
              "    <path d=\"M0 0h24v24H0V0z\" fill=\"none\"/>\n",
              "    <path d=\"M18.56 5.44l.94 2.06.94-2.06 2.06-.94-2.06-.94-.94-2.06-.94 2.06-2.06.94zm-11 1L8.5 8.5l.94-2.06 2.06-.94-2.06-.94L8.5 2.5l-.94 2.06-2.06.94zm10 10l.94 2.06.94-2.06 2.06-.94-2.06-.94-.94-2.06-.94 2.06-2.06.94z\"/><path d=\"M17.41 7.96l-1.37-1.37c-.4-.4-.92-.59-1.43-.59-.52 0-1.04.2-1.43.59L10.3 9.45l-7.72 7.72c-.78.78-.78 2.05 0 2.83L4 21.41c.39.39.9.59 1.41.59.51 0 1.02-.2 1.41-.59l7.78-7.78 2.81-2.81c.8-.78.8-2.07 0-2.86zM5.41 20L4 18.59l7.72-7.72 1.47 1.35L5.41 20z\"/>\n",
              "  </svg>\n",
              "      </button>\n",
              "      \n",
              "  <style>\n",
              "    .colab-df-container {\n",
              "      display:flex;\n",
              "      flex-wrap:wrap;\n",
              "      gap: 12px;\n",
              "    }\n",
              "\n",
              "    .colab-df-convert {\n",
              "      background-color: #E8F0FE;\n",
              "      border: none;\n",
              "      border-radius: 50%;\n",
              "      cursor: pointer;\n",
              "      display: none;\n",
              "      fill: #1967D2;\n",
              "      height: 32px;\n",
              "      padding: 0 0 0 0;\n",
              "      width: 32px;\n",
              "    }\n",
              "\n",
              "    .colab-df-convert:hover {\n",
              "      background-color: #E2EBFA;\n",
              "      box-shadow: 0px 1px 2px rgba(60, 64, 67, 0.3), 0px 1px 3px 1px rgba(60, 64, 67, 0.15);\n",
              "      fill: #174EA6;\n",
              "    }\n",
              "\n",
              "    [theme=dark] .colab-df-convert {\n",
              "      background-color: #3B4455;\n",
              "      fill: #D2E3FC;\n",
              "    }\n",
              "\n",
              "    [theme=dark] .colab-df-convert:hover {\n",
              "      background-color: #434B5C;\n",
              "      box-shadow: 0px 1px 3px 1px rgba(0, 0, 0, 0.15);\n",
              "      filter: drop-shadow(0px 1px 2px rgba(0, 0, 0, 0.3));\n",
              "      fill: #FFFFFF;\n",
              "    }\n",
              "  </style>\n",
              "\n",
              "      <script>\n",
              "        const buttonEl =\n",
              "          document.querySelector('#df-57b8a172-2c9a-4ffe-894f-cd47ac0df210 button.colab-df-convert');\n",
              "        buttonEl.style.display =\n",
              "          google.colab.kernel.accessAllowed ? 'block' : 'none';\n",
              "\n",
              "        async function convertToInteractive(key) {\n",
              "          const element = document.querySelector('#df-57b8a172-2c9a-4ffe-894f-cd47ac0df210');\n",
              "          const dataTable =\n",
              "            await google.colab.kernel.invokeFunction('convertToInteractive',\n",
              "                                                     [key], {});\n",
              "          if (!dataTable) return;\n",
              "\n",
              "          const docLinkHtml = 'Like what you see? Visit the ' +\n",
              "            '<a target=\"_blank\" href=https://colab.research.google.com/notebooks/data_table.ipynb>data table notebook</a>'\n",
              "            + ' to learn more about interactive tables.';\n",
              "          element.innerHTML = '';\n",
              "          dataTable['output_type'] = 'display_data';\n",
              "          await google.colab.output.renderOutput(dataTable, element);\n",
              "          const docLink = document.createElement('div');\n",
              "          docLink.innerHTML = docLinkHtml;\n",
              "          element.appendChild(docLink);\n",
              "        }\n",
              "      </script>\n",
              "    </div>\n",
              "  </div>\n",
              "  "
            ]
          },
          "metadata": {},
          "execution_count": 47
        }
      ]
    },
    {
      "cell_type": "code",
      "source": [
        "df_level.tail(10)"
      ],
      "metadata": {
        "colab": {
          "base_uri": "https://localhost:8080/",
          "height": 363
        },
        "id": "qAA-c_8MaoIQ",
        "outputId": "280c53ca-231a-46d5-c282-9da95b800aeb"
      },
      "execution_count": 48,
      "outputs": [
        {
          "output_type": "execute_result",
          "data": {
            "text/plain": [
              "    市区町村名         町名        町丁目  公園(平均距離)  公園(数)  公園スコア\n",
              "891   大田区        西六郷     西六郷１丁目     2.430      0   0.07\n",
              "892   大田区        西糀谷     西糀谷２丁目     2.359      0   0.07\n",
              "893   大田区        南蒲田     南蒲田１丁目     2.439      0   0.06\n",
              "894   大田区         羽田      羽田４丁目     2.739      0   0.05\n",
              "895   大田区        仲六郷     仲六郷１丁目     2.592      0   0.05\n",
              "896   大田区        東六郷     東六郷１丁目     2.780      0   0.04\n",
              "897   大田区        南六郷     南六郷１丁目     3.359      0   0.02\n",
              "898   大田区        本羽田     本羽田３丁目     3.412      0   0.02\n",
              "899   大田区  ふるさとの浜辺公園  ふるさとの浜辺公園     3.735      0   0.00\n",
              "900   大田区      羽田沖水面      羽田沖水面     3.735      0   0.00"
            ],
            "text/html": [
              "\n",
              "  <div id=\"df-209ec648-4413-486e-bc3a-7b5c1507c886\">\n",
              "    <div class=\"colab-df-container\">\n",
              "      <div>\n",
              "<style scoped>\n",
              "    .dataframe tbody tr th:only-of-type {\n",
              "        vertical-align: middle;\n",
              "    }\n",
              "\n",
              "    .dataframe tbody tr th {\n",
              "        vertical-align: top;\n",
              "    }\n",
              "\n",
              "    .dataframe thead th {\n",
              "        text-align: right;\n",
              "    }\n",
              "</style>\n",
              "<table border=\"1\" class=\"dataframe\">\n",
              "  <thead>\n",
              "    <tr style=\"text-align: right;\">\n",
              "      <th></th>\n",
              "      <th>市区町村名</th>\n",
              "      <th>町名</th>\n",
              "      <th>町丁目</th>\n",
              "      <th>公園(平均距離)</th>\n",
              "      <th>公園(数)</th>\n",
              "      <th>公園スコア</th>\n",
              "    </tr>\n",
              "  </thead>\n",
              "  <tbody>\n",
              "    <tr>\n",
              "      <th>891</th>\n",
              "      <td>大田区</td>\n",
              "      <td>西六郷</td>\n",
              "      <td>西六郷１丁目</td>\n",
              "      <td>2.430</td>\n",
              "      <td>0</td>\n",
              "      <td>0.07</td>\n",
              "    </tr>\n",
              "    <tr>\n",
              "      <th>892</th>\n",
              "      <td>大田区</td>\n",
              "      <td>西糀谷</td>\n",
              "      <td>西糀谷２丁目</td>\n",
              "      <td>2.359</td>\n",
              "      <td>0</td>\n",
              "      <td>0.07</td>\n",
              "    </tr>\n",
              "    <tr>\n",
              "      <th>893</th>\n",
              "      <td>大田区</td>\n",
              "      <td>南蒲田</td>\n",
              "      <td>南蒲田１丁目</td>\n",
              "      <td>2.439</td>\n",
              "      <td>0</td>\n",
              "      <td>0.06</td>\n",
              "    </tr>\n",
              "    <tr>\n",
              "      <th>894</th>\n",
              "      <td>大田区</td>\n",
              "      <td>羽田</td>\n",
              "      <td>羽田４丁目</td>\n",
              "      <td>2.739</td>\n",
              "      <td>0</td>\n",
              "      <td>0.05</td>\n",
              "    </tr>\n",
              "    <tr>\n",
              "      <th>895</th>\n",
              "      <td>大田区</td>\n",
              "      <td>仲六郷</td>\n",
              "      <td>仲六郷１丁目</td>\n",
              "      <td>2.592</td>\n",
              "      <td>0</td>\n",
              "      <td>0.05</td>\n",
              "    </tr>\n",
              "    <tr>\n",
              "      <th>896</th>\n",
              "      <td>大田区</td>\n",
              "      <td>東六郷</td>\n",
              "      <td>東六郷１丁目</td>\n",
              "      <td>2.780</td>\n",
              "      <td>0</td>\n",
              "      <td>0.04</td>\n",
              "    </tr>\n",
              "    <tr>\n",
              "      <th>897</th>\n",
              "      <td>大田区</td>\n",
              "      <td>南六郷</td>\n",
              "      <td>南六郷１丁目</td>\n",
              "      <td>3.359</td>\n",
              "      <td>0</td>\n",
              "      <td>0.02</td>\n",
              "    </tr>\n",
              "    <tr>\n",
              "      <th>898</th>\n",
              "      <td>大田区</td>\n",
              "      <td>本羽田</td>\n",
              "      <td>本羽田３丁目</td>\n",
              "      <td>3.412</td>\n",
              "      <td>0</td>\n",
              "      <td>0.02</td>\n",
              "    </tr>\n",
              "    <tr>\n",
              "      <th>899</th>\n",
              "      <td>大田区</td>\n",
              "      <td>ふるさとの浜辺公園</td>\n",
              "      <td>ふるさとの浜辺公園</td>\n",
              "      <td>3.735</td>\n",
              "      <td>0</td>\n",
              "      <td>0.00</td>\n",
              "    </tr>\n",
              "    <tr>\n",
              "      <th>900</th>\n",
              "      <td>大田区</td>\n",
              "      <td>羽田沖水面</td>\n",
              "      <td>羽田沖水面</td>\n",
              "      <td>3.735</td>\n",
              "      <td>0</td>\n",
              "      <td>0.00</td>\n",
              "    </tr>\n",
              "  </tbody>\n",
              "</table>\n",
              "</div>\n",
              "      <button class=\"colab-df-convert\" onclick=\"convertToInteractive('df-209ec648-4413-486e-bc3a-7b5c1507c886')\"\n",
              "              title=\"Convert this dataframe to an interactive table.\"\n",
              "              style=\"display:none;\">\n",
              "        \n",
              "  <svg xmlns=\"http://www.w3.org/2000/svg\" height=\"24px\"viewBox=\"0 0 24 24\"\n",
              "       width=\"24px\">\n",
              "    <path d=\"M0 0h24v24H0V0z\" fill=\"none\"/>\n",
              "    <path d=\"M18.56 5.44l.94 2.06.94-2.06 2.06-.94-2.06-.94-.94-2.06-.94 2.06-2.06.94zm-11 1L8.5 8.5l.94-2.06 2.06-.94-2.06-.94L8.5 2.5l-.94 2.06-2.06.94zm10 10l.94 2.06.94-2.06 2.06-.94-2.06-.94-.94-2.06-.94 2.06-2.06.94z\"/><path d=\"M17.41 7.96l-1.37-1.37c-.4-.4-.92-.59-1.43-.59-.52 0-1.04.2-1.43.59L10.3 9.45l-7.72 7.72c-.78.78-.78 2.05 0 2.83L4 21.41c.39.39.9.59 1.41.59.51 0 1.02-.2 1.41-.59l7.78-7.78 2.81-2.81c.8-.78.8-2.07 0-2.86zM5.41 20L4 18.59l7.72-7.72 1.47 1.35L5.41 20z\"/>\n",
              "  </svg>\n",
              "      </button>\n",
              "      \n",
              "  <style>\n",
              "    .colab-df-container {\n",
              "      display:flex;\n",
              "      flex-wrap:wrap;\n",
              "      gap: 12px;\n",
              "    }\n",
              "\n",
              "    .colab-df-convert {\n",
              "      background-color: #E8F0FE;\n",
              "      border: none;\n",
              "      border-radius: 50%;\n",
              "      cursor: pointer;\n",
              "      display: none;\n",
              "      fill: #1967D2;\n",
              "      height: 32px;\n",
              "      padding: 0 0 0 0;\n",
              "      width: 32px;\n",
              "    }\n",
              "\n",
              "    .colab-df-convert:hover {\n",
              "      background-color: #E2EBFA;\n",
              "      box-shadow: 0px 1px 2px rgba(60, 64, 67, 0.3), 0px 1px 3px 1px rgba(60, 64, 67, 0.15);\n",
              "      fill: #174EA6;\n",
              "    }\n",
              "\n",
              "    [theme=dark] .colab-df-convert {\n",
              "      background-color: #3B4455;\n",
              "      fill: #D2E3FC;\n",
              "    }\n",
              "\n",
              "    [theme=dark] .colab-df-convert:hover {\n",
              "      background-color: #434B5C;\n",
              "      box-shadow: 0px 1px 3px 1px rgba(0, 0, 0, 0.15);\n",
              "      filter: drop-shadow(0px 1px 2px rgba(0, 0, 0, 0.3));\n",
              "      fill: #FFFFFF;\n",
              "    }\n",
              "  </style>\n",
              "\n",
              "      <script>\n",
              "        const buttonEl =\n",
              "          document.querySelector('#df-209ec648-4413-486e-bc3a-7b5c1507c886 button.colab-df-convert');\n",
              "        buttonEl.style.display =\n",
              "          google.colab.kernel.accessAllowed ? 'block' : 'none';\n",
              "\n",
              "        async function convertToInteractive(key) {\n",
              "          const element = document.querySelector('#df-209ec648-4413-486e-bc3a-7b5c1507c886');\n",
              "          const dataTable =\n",
              "            await google.colab.kernel.invokeFunction('convertToInteractive',\n",
              "                                                     [key], {});\n",
              "          if (!dataTable) return;\n",
              "\n",
              "          const docLinkHtml = 'Like what you see? Visit the ' +\n",
              "            '<a target=\"_blank\" href=https://colab.research.google.com/notebooks/data_table.ipynb>data table notebook</a>'\n",
              "            + ' to learn more about interactive tables.';\n",
              "          element.innerHTML = '';\n",
              "          dataTable['output_type'] = 'display_data';\n",
              "          await google.colab.output.renderOutput(dataTable, element);\n",
              "          const docLink = document.createElement('div');\n",
              "          docLink.innerHTML = docLinkHtml;\n",
              "          element.appendChild(docLink);\n",
              "        }\n",
              "      </script>\n",
              "    </div>\n",
              "  </div>\n",
              "  "
            ]
          },
          "metadata": {},
          "execution_count": 48
        }
      ]
    },
    {
      "cell_type": "code",
      "source": [],
      "metadata": {
        "id": "Lk6O8Y3Dd5di"
      },
      "execution_count": null,
      "outputs": []
    }
  ]
}