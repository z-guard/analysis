{
  "nbformat": 4,
  "nbformat_minor": 0,
  "metadata": {
    "colab": {
      "provenance": [],
      "authorship_tag": "ABX9TyO83+nIHxx6/C/XUi0s7gQS",
      "include_colab_link": true
    },
    "kernelspec": {
      "name": "python3",
      "display_name": "Python 3"
    },
    "language_info": {
      "name": "python"
    }
  },
  "cells": [
    {
      "cell_type": "markdown",
      "metadata": {
        "id": "view-in-github",
        "colab_type": "text"
      },
      "source": [
        "<a href=\"https://colab.research.google.com/github/z-guard/analysis/blob/main/notebooks/population_master.ipynb\" target=\"_parent\"><img src=\"https://colab.research.google.com/assets/colab-badge.svg\" alt=\"Open In Colab\"/></a>"
      ]
    },
    {
      "cell_type": "markdown",
      "source": [
        "# 人口マスタ"
      ],
      "metadata": {
        "id": "azhikEZYLQ44"
      }
    },
    {
      "cell_type": "code",
      "source": [
        "from google.colab import drive\n",
        "drive.mount('/content/drive')"
      ],
      "metadata": {
        "colab": {
          "base_uri": "https://localhost:8080/"
        },
        "id": "MfIGn8_dNqlX",
        "outputId": "efeca92d-504d-4bcd-b359-829fcdbcb26e"
      },
      "execution_count": 60,
      "outputs": [
        {
          "output_type": "stream",
          "name": "stdout",
          "text": [
            "Drive already mounted at /content/drive; to attempt to forcibly remount, call drive.mount(\"/content/drive\", force_remount=True).\n"
          ]
        }
      ]
    },
    {
      "cell_type": "code",
      "source": [
        "DIR_NAME = '/content/drive/MyDrive/z-gard/data'"
      ],
      "metadata": {
        "id": "eT1ei4BwN5z9"
      },
      "execution_count": 61,
      "outputs": []
    },
    {
      "cell_type": "code",
      "source": [
        "import os\n",
        "import requests\n",
        "import json\n",
        "import pandas as pd\n",
        "from urllib.parse import urlparse\n",
        "import math\n",
        "\n",
        "pd.set_option('display.max_columns', 50)\n",
        "pd.set_option('display.max_rows', 50)"
      ],
      "metadata": {
        "id": "6nlcCLmJLTPm"
      },
      "execution_count": 62,
      "outputs": []
    },
    {
      "cell_type": "code",
      "source": [
        "def get_file_from_url(url, save_path):\n",
        "    res = requests.get(url)\n",
        "    if res.status_code == 200:\n",
        "        with open(save_path, 'wb') as f:\n",
        "            f.write(res.content)\n",
        "    else:\n",
        "        print(res)\n",
        "        raise Exception(f'status_code: {res.status_code} ({url})')"
      ],
      "metadata": {
        "id": "ZfxwSIhdAPPm"
      },
      "execution_count": 63,
      "outputs": []
    },
    {
      "cell_type": "markdown",
      "source": [
        "### 全区\n",
        "- [平成27年国勢調査 東京都区市町村町丁別報告](https://www.toukei.metro.tokyo.lg.jp/kokusei/2015/kd-15index.htm)"
      ],
      "metadata": {
        "id": "WPRHxz93BouW"
      }
    },
    {
      "cell_type": "code",
      "source": [
        "temp_dir = '/content/tmp'\n",
        "os.makedirs(temp_dir, exist_ok=True)"
      ],
      "metadata": {
        "id": "g0DLxpVJ6zX9"
      },
      "execution_count": 64,
      "outputs": []
    },
    {
      "cell_type": "code",
      "source": [
        "# 人口・面積\n",
        "zip_path_1 = os.path.join(temp_dir, '001.zip')\n",
        "zip_url_1 = 'https://www.toukei.metro.tokyo.lg.jp/kokusei/2015/kd15zv01100000.zip'\n",
        "# get_file_from_url(zip_url_1, zip_path_1)\n",
        "\n",
        "# 世帯数\n",
        "zip_path_2 = os.path.join(temp_dir, '002.zip')\n",
        "zip_url_2 = 'https://www.toukei.metro.tokyo.lg.jp/kokusei/2015/kd15zv02100000.zip'\n",
        "# get_file_from_url(zip_url_2, zip_path_2)\n",
        "\n",
        "# 労働力人口・従業上の地位\n",
        "zip_path_5 = os.path.join(temp_dir, '005.zip')\n",
        "zip_url_5 = 'https://www.toukei.metro.tokyo.lg.jp/kokusei/2015/kd15zv05100000.zip'\n",
        "# get_file_from_url(zip_url_5, zip_path_5)\n",
        "\n",
        "# 住居の種類\n",
        "zip_path_6 = os.path.join(temp_dir, '006.zip')\n",
        "zip_url_6 = 'https://www.toukei.metro.tokyo.lg.jp/kokusei/2015/kd15zv06100000.zip'\n",
        "# get_file_from_url(zip_url_6, zip_path_6)\n",
        "\n",
        "# 住宅の建て方\n",
        "zip_path_7 = os.path.join(temp_dir, '007.zip')\n",
        "zip_url_7 = 'https://www.toukei.metro.tokyo.lg.jp/kokusei/2015/kd15zv07100000.zip'\n",
        "# get_file_from_url(zip_url_7, zip_path_7)"
      ],
      "metadata": {
        "id": "2xFBx0kMBtAo"
      },
      "execution_count": 65,
      "outputs": []
    },
    {
      "cell_type": "code",
      "source": [
        "!unzip -o -d $temp_dir $zip_path_1\n",
        "!unzip -o -d $temp_dir $zip_path_2\n",
        "!unzip -o -d $temp_dir $zip_path_5\n",
        "!unzip -o -d $temp_dir $zip_path_6\n",
        "!unzip -o -d $temp_dir $zip_path_7"
      ],
      "metadata": {
        "id": "LonsNn9LBx-d",
        "outputId": "e1520300-b662-422d-9298-61ac779634ee",
        "colab": {
          "base_uri": "https://localhost:8080/"
        }
      },
      "execution_count": 66,
      "outputs": [
        {
          "output_type": "stream",
          "name": "stdout",
          "text": [
            "Archive:  /content/tmp/001.zip\n",
            "  inflating: /content/tmp/kd15zv01100000.csv  \n",
            "Archive:  /content/tmp/002.zip\n",
            "  inflating: /content/tmp/kd15zv02100000.csv  \n",
            "Archive:  /content/tmp/005.zip\n",
            "  inflating: /content/tmp/kd15zv05100000.csv  \n",
            "Archive:  /content/tmp/006.zip\n",
            "  inflating: /content/tmp/kd15zv06100000.csv  \n",
            "Archive:  /content/tmp/007.zip\n",
            "  inflating: /content/tmp/kd15zv07100000.csv  \n"
          ]
        }
      ]
    },
    {
      "cell_type": "markdown",
      "source": [
        "## 人口・面積"
      ],
      "metadata": {
        "id": "Ysf4RsWKEnF3"
      }
    },
    {
      "cell_type": "code",
      "source": [
        "csv_file_1 = 'kd15zv01100000.csv'\n",
        "df_all_popdata = pd.read_csv(os.path.join(temp_dir, csv_file_1), dtype='str')\n",
        "df_all_popdata = df_all_popdata[df_all_popdata['オリジナル地域階層コード'].notna()].reset_index(drop=True)\n",
        "print(df_all_popdata.shape)"
      ],
      "metadata": {
        "id": "GCuETGQcCtVQ",
        "outputId": "3e553714-6d0d-4fb7-d074-23ef5c11e260",
        "colab": {
          "base_uri": "https://localhost:8080/"
        }
      },
      "execution_count": 67,
      "outputs": [
        {
          "output_type": "stream",
          "name": "stdout",
          "text": [
            "(19818, 160)\n"
          ]
        }
      ]
    },
    {
      "cell_type": "code",
      "source": [
        "df_popdata = df_all_popdata[[\n",
        "    '地域ＩＤ',\n",
        "    '地域階層フラグ／丁目･小字相当',\n",
        "    '表側表章地域（階層別）／区市町村階層以上の地域名称',\n",
        "    '表側表章地域（階層別）／町・大字相当階層の地域名称',\n",
        "    '表側表章地域（階層別）／丁目・小字等階層の地域名称',\n",
        "    '表側／男女の別',\n",
        "    '人口総数（人）',\n",
        "    '面積（平方キロメートル） ',\n",
        "    '人口密度（人／平方キロメートル） ',\n",
        "    '年齢（５歳階級）／0～4歳（人）',\n",
        "    '年齢（５歳階級）／5～9歳（人）',\n",
        "    '年齢（５歳階級）／10～14歳（人）',\n",
        "    '年齢（５歳階級）／15～19歳（人）',\n",
        "    '年齢（５歳階級）／20～24歳（人）',\n",
        "    '年齢（５歳階級）／25～29歳（人）',\n",
        "    '年齢（５歳階級）／30～34歳（人）',\n",
        "    '年齢（５歳階級）／35～39歳（人）',\n",
        "    '年齢（５歳階級）／40～44歳（人）',\n",
        "    '年齢（５歳階級）／45～49歳（人）',\n",
        "    '年齢（５歳階級）／50～54歳（人）',\n",
        "    '年齢（５歳階級）／55～59歳（人）',\n",
        "    '年齢（５歳階級）／60～64歳（人）',\n",
        "    '年齢（５歳階級）／65～69歳（人）',\n",
        "    '年齢（５歳階級）／70～74歳（人）',\n",
        "    '年齢（５歳階級）／75～79歳（人）',\n",
        "    '年齢（５歳階級）／80～84歳（人）',\n",
        "    '年齢（５歳階級）／85～89歳（人）',\n",
        "    '年齢（５歳階級）／90～94歳（人）',\n",
        "    '年齢（５歳階級）／95～99歳（人）',\n",
        "    '年齢（５歳階級）／100歳以上（人）',\n",
        "    '年齢（５歳階級）／年齢不詳（人）',\n",
        "    '平均年齢（歳）',\n",
        "    '（再掲）外国人（人） ',\n",
        "]]\n",
        "df_popdata.columns = [\n",
        "    'town_id',\n",
        "    '地域階層フラグ',\n",
        "    '市区町村名',\n",
        "    '町名',\n",
        "    '町丁目',\n",
        "    '男女',\n",
        "    '人口総数（人）',\n",
        "    '面積（km2）',\n",
        "    '人口密度(人/km2)',\n",
        "    '0〜4歳（人）',\n",
        "    '5〜9歳（人）',\n",
        "    '10〜14歳（人）',\n",
        "    '15〜19歳（人）',\n",
        "    '20〜24歳（人）',\n",
        "    '25〜29歳（人）',\n",
        "    '30〜34歳（人）',\n",
        "    '35〜39歳（人）',\n",
        "    '40〜44歳（人）',\n",
        "    '45〜49歳（人）',\n",
        "    '50〜54歳（人）',\n",
        "    '55〜59歳（人）',\n",
        "    '60〜64歳（人）',\n",
        "    '65〜69歳（人）',\n",
        "    '70〜74歳（人）',\n",
        "    '75〜79歳（人）',\n",
        "    '80〜84歳（人）',\n",
        "    '85〜89歳（人）',\n",
        "    '90〜94歳（人）',\n",
        "    '95〜99歳（人）',\n",
        "    '100歳以上（人）',\n",
        "    '年齢不詳（人）',\n",
        "    '平均年齢（歳）',\n",
        "    '外国人（人）'\n",
        "]\n",
        "df_popdata = df_popdata.replace('X', 0).replace('-', 0)\n",
        "df_popdata = df_popdata[\n",
        "    ((df_popdata['地域階層フラグ'] == '●')|(df_popdata['地域階層フラグ'] == '○')) &\n",
        "    (df_popdata['市区町村名'].str.endswith('区')) &\n",
        "    (df_popdata['男女'] == '総数')\n",
        "].drop(columns=['地域階層フラグ', '男女']).reset_index(drop=True)\n",
        "\n",
        "df_popdata.loc[df_popdata['町丁目'].isna(), '町丁目'] = df_popdata['町名']\n",
        "print(df_popdata.shape)"
      ],
      "metadata": {
        "id": "GDPHUS6aDXYv",
        "outputId": "4f96c749-4418-45c4-fecc-e8b40656f94f",
        "colab": {
          "base_uri": "https://localhost:8080/"
        }
      },
      "execution_count": 68,
      "outputs": [
        {
          "output_type": "stream",
          "name": "stdout",
          "text": [
            "(3145, 31)\n"
          ]
        }
      ]
    },
    {
      "cell_type": "code",
      "source": [
        "pop_cols = [col for col in df_popdata.columns if '（人）' in col]\n",
        "for col in pop_cols:\n",
        "    df_popdata[col] = df_popdata[col].astype(int)\n",
        "\n",
        "df_popdata['面積（km2）'] = df_popdata['面積（km2）'].astype(float)\n",
        "df_popdata['人口密度(人/km2)'] = df_popdata['人口密度(人/km2)'].astype(float)\n",
        "df_popdata['平均年齢（歳）'] = df_popdata['平均年齢（歳）'].astype(float)"
      ],
      "metadata": {
        "id": "phW408KsVf60"
      },
      "execution_count": 69,
      "outputs": []
    },
    {
      "cell_type": "code",
      "source": [
        "df_popdata.loc[\n",
        "    (df_popdata['人口密度(人/km2)'] == 0) &\n",
        "    (df_popdata['面積（km2）'] > 0),\n",
        "    '人口密度(人/km2)'\n",
        "] = df_popdata['人口総数（人）'] / df_popdata['面積（km2）']\n",
        "df_popdata['人口密度(人/km2)'] = df_popdata['人口密度(人/km2)'].round(1)"
      ],
      "metadata": {
        "id": "ecD3o_198ZDd"
      },
      "execution_count": 70,
      "outputs": []
    },
    {
      "cell_type": "code",
      "source": [
        "# 人口、人口密度が低い町は対象外にする\n",
        "df_popdata['対象'] = 1\n",
        "df_popdata.loc[\n",
        "    ((df_popdata['人口総数（人）'] < 30) |\n",
        "    (df_popdata['人口密度(人/km2)'] < 500)),\n",
        "    '対象'\n",
        "] = 0\n",
        "print(len(df_popdata[df_popdata['対象'] == 0]))"
      ],
      "metadata": {
        "id": "gfjmFYeI7jbH",
        "outputId": "5788654b-bb45-49d6-9f09-1b7d1359bd7e",
        "colab": {
          "base_uri": "https://localhost:8080/"
        }
      },
      "execution_count": 71,
      "outputs": [
        {
          "output_type": "stream",
          "name": "stdout",
          "text": [
            "128\n"
          ]
        }
      ]
    },
    {
      "cell_type": "markdown",
      "source": [
        "## 世帯数"
      ],
      "metadata": {
        "id": "tYvT0j52E0yf"
      }
    },
    {
      "cell_type": "code",
      "source": [
        "csv_file_2 = 'kd15zv02100000.csv'\n",
        "df_all_family = pd.read_csv(os.path.join(temp_dir, csv_file_2), dtype='str')\n",
        "df_all_family = df_all_family[df_all_family['オリジナル地域階層コード'].notna()].reset_index(drop=True)\n",
        "print(df_all_family.shape)"
      ],
      "metadata": {
        "id": "kdBP6Sw9E0gM",
        "outputId": "acc900eb-7d51-482a-b56d-802c9ba48bbf",
        "colab": {
          "base_uri": "https://localhost:8080/"
        }
      },
      "execution_count": 72,
      "outputs": [
        {
          "output_type": "stream",
          "name": "stdout",
          "text": [
            "(6606, 41)\n"
          ]
        }
      ]
    },
    {
      "cell_type": "code",
      "source": [
        "df_family = df_all_family[[\n",
        "    '地域ＩＤ',\n",
        "    '世帯総数／一般世帯数／総数（世帯）',\n",
        "    '世帯総数／一般世帯数／世帯人員が1人（世帯）',\n",
        "    '世帯総数／一般世帯数／世帯人員が2人（世帯）',\n",
        "    '世帯総数／一般世帯数／世帯人員が3人（世帯）',\n",
        "    '世帯総数／一般世帯数／世帯人員が4人（世帯）',\n",
        "    '世帯総数／一般世帯数／世帯人員が5人（世帯）',\n",
        "    '世帯総数／一般世帯数／世帯人員が6人（世帯）',\n",
        "    '世帯総数／一般世帯数／世帯人員が7人以上（世帯）',\n",
        "    '世帯総数／一般世帯人員（人）',\n",
        "    '世帯総数／一般世帯の1世帯当たり人員（人）',\n",
        "]].copy()\n",
        "df_family.columns = [\n",
        "    'town_id',\n",
        "    '世帯総数',\n",
        "    '1人世帯',\n",
        "    '2人世帯',\n",
        "    '3人世帯',\n",
        "    '4人世帯',\n",
        "    '5人世帯',\n",
        "    '6人世帯',\n",
        "    '7人以上世帯',\n",
        "    '世帯人員（人）',\n",
        "    '1世帯当たり人員（人）',\n",
        "]\n",
        "df_family = df_family.replace('X', 0).replace('-', 0)\n",
        "for col in df_family.columns:\n",
        "    if col == 'town_id':\n",
        "        continue\n",
        "    elif col == '1世帯当たり人員（人）':\n",
        "        df_family[col] = df_family[col].astype(float)\n",
        "    else:\n",
        "        df_family[col] = df_family[col].astype(int)\n",
        "\n",
        "df_family['5人以上世帯'] = df_family['5人世帯'] + df_family['6人世帯'] + df_family['7人以上世帯']\n",
        "df_family = df_family[[\n",
        "    'town_id', '世帯総数', '1人世帯', '2人世帯', '3人世帯', '4人世帯', '5人以上世帯', '世帯人員（人）', '1世帯当たり人員（人）',\n",
        "]].reset_index(drop=True)\n",
        "print(df_family.shape)\n",
        "assert df_family['town_id'].nunique() == len(df_family)"
      ],
      "metadata": {
        "id": "toSFW-HtMzUw",
        "outputId": "99f683fb-62df-4099-cf74-570b67ca94fd",
        "colab": {
          "base_uri": "https://localhost:8080/"
        }
      },
      "execution_count": 73,
      "outputs": [
        {
          "output_type": "stream",
          "name": "stdout",
          "text": [
            "(6606, 9)\n"
          ]
        }
      ]
    },
    {
      "cell_type": "markdown",
      "source": [
        "## 労働力人口・従業上の地位"
      ],
      "metadata": {
        "id": "dgTWHT8OQtJE"
      }
    },
    {
      "cell_type": "code",
      "source": [
        "csv_file_5 = 'kd15zv05100000.csv'\n",
        "df_all_labor = pd.read_csv(os.path.join(temp_dir, csv_file_5), dtype='str')\n",
        "df_all_labor = df_all_labor[df_all_labor['オリジナル地域階層コード'].notna()].reset_index(drop=True)\n",
        "print(df_all_labor.shape)"
      ],
      "metadata": {
        "id": "9w901vCMPRjE",
        "outputId": "98d956a1-80cc-442f-da9f-d7c736e18f46",
        "colab": {
          "base_uri": "https://localhost:8080/"
        }
      },
      "execution_count": 74,
      "outputs": [
        {
          "output_type": "stream",
          "name": "stdout",
          "text": [
            "(19818, 70)\n"
          ]
        }
      ]
    },
    {
      "cell_type": "code",
      "source": [
        "df_labor = df_all_labor[[\n",
        "    '地域ＩＤ',\n",
        "    '男女別コード',\n",
        "    '15歳以上人口（人） ',\n",
        "    '15歳以上人口／労働力人口（人）',\n",
        "    '15歳以上人口／非労働力人口（人）',\n",
        "    '15歳以上人口／非労働力人口／家事（人）',       # 専業主婦\n",
        "    '15歳以上人口／非労働力人口／通学者（人）',     # 高校生・大学生\n",
        "    '15歳以上人口／非労働力人口／その他（人）',     # 幼児・高齢者\n",
        "    '(再掲)15歳以上人口／労働力人口／就業者／うち雇用者（人）',     # サラリーマン\n",
        "    '(再掲)15歳以上人口／労働力人口／就業者／うち役員（人）',       # 役員\n",
        "    '(再掲)15歳以上人口／労働力人口／就業者／うち自営業主（人）',   # 自営業者\n",
        "    '(再掲)15歳以上人口／労働力人口／就業者／家事のほか仕事（人）',     # パートタイム\n",
        "    '(再掲)15歳以上人口／労働力人口／就業者／通学のかたわら仕事（人）', # 学生アルバイト\n",
        "]].copy()\n",
        "df_labor.columns = [\n",
        "    'town_id',\n",
        "    '男女',\n",
        "    '15歳以上人口（人）',\n",
        "    '労働力人口（人）',\n",
        "    '非労働力人口（人）',\n",
        "    '非労働力_専業主婦（人）',\n",
        "    '非労働力_学生（人）',\n",
        "    '非労働力_幼児・高齢者（人）',\n",
        "    '労働力_サラリーマン（人）',\n",
        "    '労働力_役員（人）',\n",
        "    '労働力_自営業者（人）',\n",
        "    '労働力_パートタイム（人）',\n",
        "    '労働力_学生アルバイト（人）',\n",
        "]\n",
        "df_labor = df_labor.replace('X', 0).replace('-', 0)\n",
        "df_labor = df_labor[df_labor['男女'] == '1'].reset_index(drop=True)\n",
        "labor_cols = [col for col in df_labor.columns if '（人）' in col]\n",
        "for col in labor_cols:\n",
        "    df_labor[col] = df_labor[col].astype(int)\n",
        "print(df_labor.shape)\n",
        "assert df_labor['town_id'].nunique() == len(df_labor)"
      ],
      "metadata": {
        "id": "THHpFrH_RrIO",
        "outputId": "4dd93946-e23f-44eb-c52b-9370e86a2f0d",
        "colab": {
          "base_uri": "https://localhost:8080/"
        }
      },
      "execution_count": 75,
      "outputs": [
        {
          "output_type": "stream",
          "name": "stdout",
          "text": [
            "(6606, 13)\n"
          ]
        }
      ]
    },
    {
      "cell_type": "code",
      "source": [
        "for col in labor_cols:\n",
        "    if col != '15歳以上人口（人）':\n",
        "        new_col = col.replace('（人）', '割合%')\n",
        "        df_labor[new_col] = df_labor[col] / df_labor['15歳以上人口（人）']\n",
        "\n",
        "df_labor = df_labor.drop(columns=labor_cols+['男女'])\n",
        "print(df_labor.shape)"
      ],
      "metadata": {
        "id": "gFvU3mNlWZnw",
        "outputId": "3472caed-a8a5-4f2c-ef38-59ac4753a80a",
        "colab": {
          "base_uri": "https://localhost:8080/"
        }
      },
      "execution_count": 76,
      "outputs": [
        {
          "output_type": "stream",
          "name": "stdout",
          "text": [
            "(6606, 11)\n"
          ]
        }
      ]
    },
    {
      "cell_type": "markdown",
      "source": [
        "## 住居の種類"
      ],
      "metadata": {
        "id": "EQAxvNxLBiIc"
      }
    },
    {
      "cell_type": "code",
      "source": [
        "csv_file_6 = 'kd15zv06100000.csv'\n",
        "df_all_residence = pd.read_csv(os.path.join(temp_dir, csv_file_6), dtype='str')\n",
        "df_all_residence = df_all_residence[df_all_residence['オリジナル地域階層コード'].notna()].reset_index(drop=True)\n",
        "print(df_all_residence.shape)"
      ],
      "metadata": {
        "id": "ePUD3FblBZwK",
        "outputId": "eb7fdcfe-13a4-437e-bf66-b12ad41efca5",
        "colab": {
          "base_uri": "https://localhost:8080/"
        }
      },
      "execution_count": 77,
      "outputs": [
        {
          "output_type": "stream",
          "name": "stdout",
          "text": [
            "(6606, 50)\n"
          ]
        }
      ]
    },
    {
      "cell_type": "code",
      "source": [
        "df_residence = df_all_residence[[\n",
        "    '地域ＩＤ',\n",
        "    '男女別コード',\n",
        "    '住宅に住む一般世帯／主世帯／世帯数（世帯）',\n",
        "    '住宅に住む一般世帯／主世帯／持ち家／世帯数（世帯）',\n",
        "    '住宅に住む一般世帯／主世帯／公営・都市再生機構・公社の借家／世帯数（世帯）',\n",
        "    '住宅に住む一般世帯／主世帯／民営の借家／世帯数（世帯）',\n",
        "    '住宅に住む一般世帯／主世帯／給与住宅／世帯数（世帯）',\n",
        "]].copy()\n",
        "df_residence.columns = [\n",
        "    'town_id',\n",
        "    '男女',\n",
        "    '一般世帯_世帯数',\n",
        "    '持ち家_世帯数',\n",
        "    '公営借家_世帯数',\n",
        "    '民営借家_世帯数',\n",
        "    '社宅_世帯数', \n",
        "]\n",
        "df_residence = df_residence.replace('X', 0).replace('-', 0)\n",
        "df_residence = df_residence[df_residence['男女'] == '1'].reset_index(drop=True)\n",
        "residence_cols = [col for col in df_residence.columns if '_世帯数' in col]\n",
        "for col in residence_cols:\n",
        "    df_residence[col] = df_residence[col].astype(int)\n",
        "print(df_residence.shape)\n",
        "assert df_residence['town_id'].nunique() == len(df_residence)"
      ],
      "metadata": {
        "id": "cNH8ReMaB3NW",
        "outputId": "8f49659d-cc52-4caf-c448-b02c92ed1e0c",
        "colab": {
          "base_uri": "https://localhost:8080/"
        }
      },
      "execution_count": 78,
      "outputs": [
        {
          "output_type": "stream",
          "name": "stdout",
          "text": [
            "(6606, 7)\n"
          ]
        }
      ]
    },
    {
      "cell_type": "code",
      "source": [
        "for col in residence_cols:\n",
        "    if col != '一般世帯_世帯数':\n",
        "        new_col = col.replace('世帯数', '割合%')\n",
        "        df_residence[new_col] = df_residence[col] / df_residence['一般世帯_世帯数']\n",
        "\n",
        "df_residence = df_residence.drop(columns=residence_cols+['男女'])\n",
        "print(df_residence.shape)"
      ],
      "metadata": {
        "id": "jO8s2l4fDrH1",
        "outputId": "5442d9b2-7bfe-43f2-edae-2e4d54d7f5fc",
        "colab": {
          "base_uri": "https://localhost:8080/"
        }
      },
      "execution_count": 79,
      "outputs": [
        {
          "output_type": "stream",
          "name": "stdout",
          "text": [
            "(6606, 5)\n"
          ]
        }
      ]
    },
    {
      "cell_type": "markdown",
      "source": [
        "## 住宅の建て方"
      ],
      "metadata": {
        "id": "N8POZ9tuEMcm"
      }
    },
    {
      "cell_type": "code",
      "source": [
        "csv_file_7 = 'kd15zv07100000.csv'\n",
        "df_all_building = pd.read_csv(os.path.join(temp_dir, csv_file_7), dtype='str')\n",
        "df_all_building = df_all_building[df_all_building['オリジナル地域階層コード'].notna()].reset_index(drop=True)\n",
        "print(df_all_building.shape)"
      ],
      "metadata": {
        "id": "y_9gO02kEL3n",
        "outputId": "22768d83-72ef-4219-b599-a91349716d70",
        "colab": {
          "base_uri": "https://localhost:8080/"
        }
      },
      "execution_count": 80,
      "outputs": [
        {
          "output_type": "stream",
          "name": "stdout",
          "text": [
            "(6606, 65)\n"
          ]
        }
      ]
    },
    {
      "cell_type": "code",
      "source": [
        "df_building = df_all_building[[\n",
        "    '地域ＩＤ',\n",
        "    '男女別コード',\n",
        "    '住宅に住む一般世帯／世帯数（世帯）',\n",
        "    '住宅に住む一般世帯／一戸建／世帯数（世帯）',\n",
        "    '住宅に住む一般世帯／長屋建／世帯数（世帯）',\n",
        "    '住宅に住む一般世帯／共同住宅／１・２階建／世帯数（世帯）',\n",
        "    '住宅に住む一般世帯／共同住宅／３～５階建／世帯数（世帯）',\n",
        "    '住宅に住む一般世帯／共同住宅／６～10階建／世帯数（世帯）',\n",
        "    '住宅に住む一般世帯／共同住宅／11階建以上／世帯数（世帯）',\n",
        "]].copy()\n",
        "df_building.columns = [\n",
        "    'town_id',\n",
        "    '男女',\n",
        "    '一般世帯_世帯数',\n",
        "    '一戸建_世帯数',\n",
        "    '長屋建_世帯数',\n",
        "    '共同住宅_１・２階建_世帯数',\n",
        "    '共同住宅_３～５階建_世帯数',\n",
        "    '共同住宅_６～10階建_世帯数',\n",
        "    '共同住宅_11階建以上_世帯数',\n",
        "]\n",
        "df_building = df_building.replace('X', 0).replace('-', 0)\n",
        "df_building = df_building[df_building['男女'] == '1'].reset_index(drop=True)\n",
        "building_cols = [col for col in df_building.columns if '_世帯数' in col]\n",
        "for col in building_cols:\n",
        "    df_building[col] = df_building[col].astype(int)\n",
        "print(df_building.shape)\n",
        "assert df_building['town_id'].nunique() == len(df_building)"
      ],
      "metadata": {
        "id": "mA1Di42aEdqg",
        "outputId": "d99f336a-57c5-493c-a388-fe20e09764f6",
        "colab": {
          "base_uri": "https://localhost:8080/"
        }
      },
      "execution_count": 81,
      "outputs": [
        {
          "output_type": "stream",
          "name": "stdout",
          "text": [
            "(6606, 9)\n"
          ]
        }
      ]
    },
    {
      "cell_type": "code",
      "source": [
        "for col in building_cols:\n",
        "    if col != '一般世帯_世帯数':\n",
        "        new_col = col.replace('世帯数', '割合%')\n",
        "        df_building[new_col] = df_building[col] / df_building['一般世帯_世帯数']\n",
        "\n",
        "df_building = df_building.drop(columns=building_cols+['男女'])\n",
        "print(df_building.shape)"
      ],
      "metadata": {
        "id": "WM41-cmwF7Wn",
        "outputId": "b7342c1f-b3b3-427c-924e-c28c1718e1a9",
        "colab": {
          "base_uri": "https://localhost:8080/"
        }
      },
      "execution_count": 82,
      "outputs": [
        {
          "output_type": "stream",
          "name": "stdout",
          "text": [
            "(6606, 7)\n"
          ]
        }
      ]
    },
    {
      "cell_type": "markdown",
      "source": [
        "## 全てのデータをマージ"
      ],
      "metadata": {
        "id": "noMIzPMiGYjb"
      }
    },
    {
      "cell_type": "code",
      "source": [
        "df_population_master = pd.merge(df_popdata, df_family, on='town_id', how='left')\n",
        "df_population_master = pd.merge(df_population_master, df_labor, on='town_id', how='left')\n",
        "df_population_master = pd.merge(df_population_master, df_residence, on='town_id', how='left')\n",
        "df_population_master = pd.merge(df_population_master, df_building, on='town_id', how='left')\n",
        "print(df_population_master.shape)"
      ],
      "metadata": {
        "id": "c5XUStieGa_7",
        "outputId": "0342ce39-b96a-47f3-e630-c521ed990e5b",
        "colab": {
          "base_uri": "https://localhost:8080/"
        }
      },
      "execution_count": 83,
      "outputs": [
        {
          "output_type": "stream",
          "name": "stdout",
          "text": [
            "(3145, 60)\n"
          ]
        }
      ]
    },
    {
      "cell_type": "markdown",
      "source": [
        "## 出力"
      ],
      "metadata": {
        "id": "Au6GJ8LqMioC"
      }
    },
    {
      "cell_type": "code",
      "source": [
        "df_population_master.to_csv(os.path.join(DIR_NAME, 'population_master.csv'), index=False, encoding='utf_8_sig')"
      ],
      "metadata": {
        "id": "71-wk0dTXLqS"
      },
      "execution_count": 84,
      "outputs": []
    },
    {
      "cell_type": "code",
      "source": [
        "list(df_population_master.columns)"
      ],
      "metadata": {
        "id": "m83t4g0-JVFQ",
        "outputId": "97876a22-4c9f-42ba-93d4-e962061412ea",
        "colab": {
          "base_uri": "https://localhost:8080/"
        }
      },
      "execution_count": 85,
      "outputs": [
        {
          "output_type": "execute_result",
          "data": {
            "text/plain": [
              "['town_id',\n",
              " '市区町村名',\n",
              " '町名',\n",
              " '町丁目',\n",
              " '人口総数（人）',\n",
              " '面積（km2）',\n",
              " '人口密度(人/km2)',\n",
              " '0〜4歳（人）',\n",
              " '5〜9歳（人）',\n",
              " '10〜14歳（人）',\n",
              " '15〜19歳（人）',\n",
              " '20〜24歳（人）',\n",
              " '25〜29歳（人）',\n",
              " '30〜34歳（人）',\n",
              " '35〜39歳（人）',\n",
              " '40〜44歳（人）',\n",
              " '45〜49歳（人）',\n",
              " '50〜54歳（人）',\n",
              " '55〜59歳（人）',\n",
              " '60〜64歳（人）',\n",
              " '65〜69歳（人）',\n",
              " '70〜74歳（人）',\n",
              " '75〜79歳（人）',\n",
              " '80〜84歳（人）',\n",
              " '85〜89歳（人）',\n",
              " '90〜94歳（人）',\n",
              " '95〜99歳（人）',\n",
              " '100歳以上（人）',\n",
              " '年齢不詳（人）',\n",
              " '平均年齢（歳）',\n",
              " '外国人（人）',\n",
              " '対象',\n",
              " '世帯総数',\n",
              " '1人世帯',\n",
              " '2人世帯',\n",
              " '3人世帯',\n",
              " '4人世帯',\n",
              " '5人以上世帯',\n",
              " '世帯人員（人）',\n",
              " '1世帯当たり人員（人）',\n",
              " '労働力人口割合%',\n",
              " '非労働力人口割合%',\n",
              " '非労働力_専業主婦割合%',\n",
              " '非労働力_学生割合%',\n",
              " '非労働力_幼児・高齢者割合%',\n",
              " '労働力_サラリーマン割合%',\n",
              " '労働力_役員割合%',\n",
              " '労働力_自営業者割合%',\n",
              " '労働力_パートタイム割合%',\n",
              " '労働力_学生アルバイト割合%',\n",
              " '持ち家_割合%',\n",
              " '公営借家_割合%',\n",
              " '民営借家_割合%',\n",
              " '社宅_割合%',\n",
              " '一戸建_割合%',\n",
              " '長屋建_割合%',\n",
              " '共同住宅_１・２階建_割合%',\n",
              " '共同住宅_３～５階建_割合%',\n",
              " '共同住宅_６～10階建_割合%',\n",
              " '共同住宅_11階建以上_割合%']"
            ]
          },
          "metadata": {},
          "execution_count": 85
        }
      ]
    },
    {
      "cell_type": "markdown",
      "source": [
        "### 高級タワマン指数"
      ],
      "metadata": {
        "id": "XE2xaH_E_z0o"
      }
    },
    {
      "cell_type": "code",
      "source": [
        "score_family = df_population_master['世帯総数'].quantile(0.1)\n",
        "score_housewife = df_population_master['非労働力_専業主婦割合%'].quantile(0.8)\n",
        "score_towerapartment = df_population_master['共同住宅_11階建以上_割合%'].quantile(0.8)\n",
        "score_ownedhouse = df_population_master['持ち家_割合%'].quantile(0.8)\n",
        "score_boardmember = df_population_master['労働力_役員割合%'].quantile(0.9)\n",
        "df_copy = df_population_master.copy()\n",
        "df_copy['高級タワマン指数'] = df_copy['非労働力_専業主婦割合%'] * df_copy['共同住宅_11階建以上_割合%'] * df_copy['持ち家_割合%'] * df_copy['労働力_役員割合%']*1000\n",
        "df_copy[\n",
        "    (df_copy['対象'] == 1) &\n",
        "    (df_copy['世帯総数'] > score_family) &\n",
        "    (df_copy['非労働力_専業主婦割合%'] > score_housewife) &\n",
        "    (df_copy['共同住宅_11階建以上_割合%'] > score_towerapartment) &\n",
        "    (df_copy['持ち家_割合%'] > score_ownedhouse) &\n",
        "    (df_copy['労働力_役員割合%'] > score_boardmember)\n",
        "].sort_values('高級タワマン指数', ascending=False)[[\n",
        "    'town_id',\n",
        "    '市区町村名',\n",
        "    '町丁目',\n",
        "    '世帯総数',\n",
        "    '人口総数（人）',\n",
        "    '面積（km2）',\n",
        "    '人口密度(人/km2)',\n",
        "    '高級タワマン指数',\n",
        "    '非労働力_専業主婦割合%',\n",
        "    '共同住宅_11階建以上_割合%',\n",
        "    '持ち家_割合%',\n",
        "    '労働力_役員割合%',\n",
        "]]"
      ],
      "metadata": {
        "id": "PPreFn4gJk7D",
        "outputId": "326d04bb-43b2-4275-fa56-ce471f7750c1",
        "colab": {
          "base_uri": "https://localhost:8080/",
          "height": 417
        }
      },
      "execution_count": 86,
      "outputs": [
        {
          "output_type": "execute_result",
          "data": {
            "text/plain": [
              "     town_id 市区町村名     町丁目  世帯総数  人口総数（人）  面積（km2）  人口密度(人/km2)  高級タワマン指数  \\\n",
              "1642  113011   渋谷区   広尾４丁目  1941     4599     0.25      18396.0  5.940879   \n",
              "382   104060   新宿区  神楽坂５丁目   379      703     0.02      35150.0  5.825249   \n",
              "206   102115   中央区  勝どき６丁目  3073     6995     0.10      69950.0  5.396101   \n",
              "1509  112190  世田谷区   玉川１丁目  1609     3443     0.30      11476.7  3.981270   \n",
              "1709  113095   渋谷区  神宮前１丁目  1026     1933     0.22       8786.4  2.304528   \n",
              "315   103128    港区  白金台１丁目   499     1080     0.14       7714.3  2.302064   \n",
              "317   103130    港区  白金台３丁目  1742     3668     0.16      22925.0  2.186201   \n",
              "\n",
              "      非労働力_専業主婦割合%  共同住宅_11階建以上_割合%   持ち家_割合%  労働力_役員割合%  \n",
              "1642      0.131880         0.585827  0.794521   0.096783  \n",
              "382       0.127243         0.685185  0.744681   0.089723  \n",
              "206       0.128023         0.918893  0.615686   0.074502  \n",
              "1509      0.143224         0.569116  0.751412   0.065002  \n",
              "1709      0.132353         0.356842  0.613419   0.079545  \n",
              "315       0.126087         0.341365  0.615071   0.086957  \n",
              "317       0.137375         0.341001  0.692441   0.067398  "
            ],
            "text/html": [
              "\n",
              "  <div id=\"df-b7c9ed53-33ea-44a0-8280-7daea7a54ba6\">\n",
              "    <div class=\"colab-df-container\">\n",
              "      <div>\n",
              "<style scoped>\n",
              "    .dataframe tbody tr th:only-of-type {\n",
              "        vertical-align: middle;\n",
              "    }\n",
              "\n",
              "    .dataframe tbody tr th {\n",
              "        vertical-align: top;\n",
              "    }\n",
              "\n",
              "    .dataframe thead th {\n",
              "        text-align: right;\n",
              "    }\n",
              "</style>\n",
              "<table border=\"1\" class=\"dataframe\">\n",
              "  <thead>\n",
              "    <tr style=\"text-align: right;\">\n",
              "      <th></th>\n",
              "      <th>town_id</th>\n",
              "      <th>市区町村名</th>\n",
              "      <th>町丁目</th>\n",
              "      <th>世帯総数</th>\n",
              "      <th>人口総数（人）</th>\n",
              "      <th>面積（km2）</th>\n",
              "      <th>人口密度(人/km2)</th>\n",
              "      <th>高級タワマン指数</th>\n",
              "      <th>非労働力_専業主婦割合%</th>\n",
              "      <th>共同住宅_11階建以上_割合%</th>\n",
              "      <th>持ち家_割合%</th>\n",
              "      <th>労働力_役員割合%</th>\n",
              "    </tr>\n",
              "  </thead>\n",
              "  <tbody>\n",
              "    <tr>\n",
              "      <th>1642</th>\n",
              "      <td>113011</td>\n",
              "      <td>渋谷区</td>\n",
              "      <td>広尾４丁目</td>\n",
              "      <td>1941</td>\n",
              "      <td>4599</td>\n",
              "      <td>0.25</td>\n",
              "      <td>18396.0</td>\n",
              "      <td>5.940879</td>\n",
              "      <td>0.131880</td>\n",
              "      <td>0.585827</td>\n",
              "      <td>0.794521</td>\n",
              "      <td>0.096783</td>\n",
              "    </tr>\n",
              "    <tr>\n",
              "      <th>382</th>\n",
              "      <td>104060</td>\n",
              "      <td>新宿区</td>\n",
              "      <td>神楽坂５丁目</td>\n",
              "      <td>379</td>\n",
              "      <td>703</td>\n",
              "      <td>0.02</td>\n",
              "      <td>35150.0</td>\n",
              "      <td>5.825249</td>\n",
              "      <td>0.127243</td>\n",
              "      <td>0.685185</td>\n",
              "      <td>0.744681</td>\n",
              "      <td>0.089723</td>\n",
              "    </tr>\n",
              "    <tr>\n",
              "      <th>206</th>\n",
              "      <td>102115</td>\n",
              "      <td>中央区</td>\n",
              "      <td>勝どき６丁目</td>\n",
              "      <td>3073</td>\n",
              "      <td>6995</td>\n",
              "      <td>0.10</td>\n",
              "      <td>69950.0</td>\n",
              "      <td>5.396101</td>\n",
              "      <td>0.128023</td>\n",
              "      <td>0.918893</td>\n",
              "      <td>0.615686</td>\n",
              "      <td>0.074502</td>\n",
              "    </tr>\n",
              "    <tr>\n",
              "      <th>1509</th>\n",
              "      <td>112190</td>\n",
              "      <td>世田谷区</td>\n",
              "      <td>玉川１丁目</td>\n",
              "      <td>1609</td>\n",
              "      <td>3443</td>\n",
              "      <td>0.30</td>\n",
              "      <td>11476.7</td>\n",
              "      <td>3.981270</td>\n",
              "      <td>0.143224</td>\n",
              "      <td>0.569116</td>\n",
              "      <td>0.751412</td>\n",
              "      <td>0.065002</td>\n",
              "    </tr>\n",
              "    <tr>\n",
              "      <th>1709</th>\n",
              "      <td>113095</td>\n",
              "      <td>渋谷区</td>\n",
              "      <td>神宮前１丁目</td>\n",
              "      <td>1026</td>\n",
              "      <td>1933</td>\n",
              "      <td>0.22</td>\n",
              "      <td>8786.4</td>\n",
              "      <td>2.304528</td>\n",
              "      <td>0.132353</td>\n",
              "      <td>0.356842</td>\n",
              "      <td>0.613419</td>\n",
              "      <td>0.079545</td>\n",
              "    </tr>\n",
              "    <tr>\n",
              "      <th>315</th>\n",
              "      <td>103128</td>\n",
              "      <td>港区</td>\n",
              "      <td>白金台１丁目</td>\n",
              "      <td>499</td>\n",
              "      <td>1080</td>\n",
              "      <td>0.14</td>\n",
              "      <td>7714.3</td>\n",
              "      <td>2.302064</td>\n",
              "      <td>0.126087</td>\n",
              "      <td>0.341365</td>\n",
              "      <td>0.615071</td>\n",
              "      <td>0.086957</td>\n",
              "    </tr>\n",
              "    <tr>\n",
              "      <th>317</th>\n",
              "      <td>103130</td>\n",
              "      <td>港区</td>\n",
              "      <td>白金台３丁目</td>\n",
              "      <td>1742</td>\n",
              "      <td>3668</td>\n",
              "      <td>0.16</td>\n",
              "      <td>22925.0</td>\n",
              "      <td>2.186201</td>\n",
              "      <td>0.137375</td>\n",
              "      <td>0.341001</td>\n",
              "      <td>0.692441</td>\n",
              "      <td>0.067398</td>\n",
              "    </tr>\n",
              "  </tbody>\n",
              "</table>\n",
              "</div>\n",
              "      <button class=\"colab-df-convert\" onclick=\"convertToInteractive('df-b7c9ed53-33ea-44a0-8280-7daea7a54ba6')\"\n",
              "              title=\"Convert this dataframe to an interactive table.\"\n",
              "              style=\"display:none;\">\n",
              "        \n",
              "  <svg xmlns=\"http://www.w3.org/2000/svg\" height=\"24px\"viewBox=\"0 0 24 24\"\n",
              "       width=\"24px\">\n",
              "    <path d=\"M0 0h24v24H0V0z\" fill=\"none\"/>\n",
              "    <path d=\"M18.56 5.44l.94 2.06.94-2.06 2.06-.94-2.06-.94-.94-2.06-.94 2.06-2.06.94zm-11 1L8.5 8.5l.94-2.06 2.06-.94-2.06-.94L8.5 2.5l-.94 2.06-2.06.94zm10 10l.94 2.06.94-2.06 2.06-.94-2.06-.94-.94-2.06-.94 2.06-2.06.94z\"/><path d=\"M17.41 7.96l-1.37-1.37c-.4-.4-.92-.59-1.43-.59-.52 0-1.04.2-1.43.59L10.3 9.45l-7.72 7.72c-.78.78-.78 2.05 0 2.83L4 21.41c.39.39.9.59 1.41.59.51 0 1.02-.2 1.41-.59l7.78-7.78 2.81-2.81c.8-.78.8-2.07 0-2.86zM5.41 20L4 18.59l7.72-7.72 1.47 1.35L5.41 20z\"/>\n",
              "  </svg>\n",
              "      </button>\n",
              "      \n",
              "  <style>\n",
              "    .colab-df-container {\n",
              "      display:flex;\n",
              "      flex-wrap:wrap;\n",
              "      gap: 12px;\n",
              "    }\n",
              "\n",
              "    .colab-df-convert {\n",
              "      background-color: #E8F0FE;\n",
              "      border: none;\n",
              "      border-radius: 50%;\n",
              "      cursor: pointer;\n",
              "      display: none;\n",
              "      fill: #1967D2;\n",
              "      height: 32px;\n",
              "      padding: 0 0 0 0;\n",
              "      width: 32px;\n",
              "    }\n",
              "\n",
              "    .colab-df-convert:hover {\n",
              "      background-color: #E2EBFA;\n",
              "      box-shadow: 0px 1px 2px rgba(60, 64, 67, 0.3), 0px 1px 3px 1px rgba(60, 64, 67, 0.15);\n",
              "      fill: #174EA6;\n",
              "    }\n",
              "\n",
              "    [theme=dark] .colab-df-convert {\n",
              "      background-color: #3B4455;\n",
              "      fill: #D2E3FC;\n",
              "    }\n",
              "\n",
              "    [theme=dark] .colab-df-convert:hover {\n",
              "      background-color: #434B5C;\n",
              "      box-shadow: 0px 1px 3px 1px rgba(0, 0, 0, 0.15);\n",
              "      filter: drop-shadow(0px 1px 2px rgba(0, 0, 0, 0.3));\n",
              "      fill: #FFFFFF;\n",
              "    }\n",
              "  </style>\n",
              "\n",
              "      <script>\n",
              "        const buttonEl =\n",
              "          document.querySelector('#df-b7c9ed53-33ea-44a0-8280-7daea7a54ba6 button.colab-df-convert');\n",
              "        buttonEl.style.display =\n",
              "          google.colab.kernel.accessAllowed ? 'block' : 'none';\n",
              "\n",
              "        async function convertToInteractive(key) {\n",
              "          const element = document.querySelector('#df-b7c9ed53-33ea-44a0-8280-7daea7a54ba6');\n",
              "          const dataTable =\n",
              "            await google.colab.kernel.invokeFunction('convertToInteractive',\n",
              "                                                     [key], {});\n",
              "          if (!dataTable) return;\n",
              "\n",
              "          const docLinkHtml = 'Like what you see? Visit the ' +\n",
              "            '<a target=\"_blank\" href=https://colab.research.google.com/notebooks/data_table.ipynb>data table notebook</a>'\n",
              "            + ' to learn more about interactive tables.';\n",
              "          element.innerHTML = '';\n",
              "          dataTable['output_type'] = 'display_data';\n",
              "          await google.colab.output.renderOutput(dataTable, element);\n",
              "          const docLink = document.createElement('div');\n",
              "          docLink.innerHTML = docLinkHtml;\n",
              "          element.appendChild(docLink);\n",
              "        }\n",
              "      </script>\n",
              "    </div>\n",
              "  </div>\n",
              "  "
            ]
          },
          "metadata": {},
          "execution_count": 86
        }
      ]
    },
    {
      "cell_type": "markdown",
      "source": [
        "## 高級住宅指数"
      ],
      "metadata": {
        "id": "823R0-5rB_Iu"
      }
    },
    {
      "cell_type": "code",
      "source": [
        "score_family = df_population_master['世帯総数'].quantile(0.1)\n",
        "score_housewife = df_population_master['非労働力_専業主婦割合%'].quantile(0.8)\n",
        "score_towerapartment = df_population_master['一戸建_割合%'].quantile(0.8)\n",
        "score_ownedhouse = df_population_master['持ち家_割合%'].quantile(0.8)\n",
        "score_boardmember = df_population_master['労働力_役員割合%'].quantile(0.9)\n",
        "df_copy = df_population_master.copy()\n",
        "df_copy['高級住宅指数'] = df_copy['非労働力_専業主婦割合%'] * df_copy['一戸建_割合%'] * df_copy['持ち家_割合%'] * df_copy['労働力_役員割合%']*1000\n",
        "df_copy[\n",
        "    (df_copy['対象'] == 1) &\n",
        "    (df_copy['世帯総数'] > score_family) &\n",
        "    (df_copy['非労働力_専業主婦割合%'] > score_housewife) &\n",
        "    (df_copy['一戸建_割合%'] > score_towerapartment) &\n",
        "    (df_copy['持ち家_割合%'] > score_ownedhouse) &\n",
        "    (df_copy['労働力_役員割合%'] > score_boardmember)\n",
        "].sort_values('高級住宅指数', ascending=False)[[\n",
        "    'town_id',\n",
        "    '市区町村名',\n",
        "    '町丁目',\n",
        "    '世帯総数',\n",
        "    '人口総数（人）',\n",
        "    '面積（km2）',\n",
        "    '人口密度(人/km2)',\n",
        "    '高級住宅指数',\n",
        "    '非労働力_専業主婦割合%',\n",
        "    '一戸建_割合%',\n",
        "    '持ち家_割合%',\n",
        "    '労働力_役員割合%',\n",
        "]].head(10)"
      ],
      "metadata": {
        "id": "-YbPWtbI-oAr",
        "outputId": "8fc6a63f-4ad8-4c77-cae7-4d3fc7512a5e",
        "colab": {
          "base_uri": "https://localhost:8080/",
          "height": 407
        }
      },
      "execution_count": 87,
      "outputs": [
        {
          "output_type": "execute_result",
          "data": {
            "text/plain": [
              "     town_id 市区町村名      町丁目  世帯総数  人口総数（人）  面積（km2）  人口密度(人/km2)     高級住宅指数  \\\n",
              "1234  111117   大田区  田園調布３丁目   699     1690     0.33       5121.2  25.897738   \n",
              "1235  111118   大田区  田園調布４丁目   832     1919     0.34       5644.1  11.393854   \n",
              "1538  112225  世田谷区    成城５丁目   851     2048     0.21       9752.4   8.359911   \n",
              "1251  111138   大田区   久が原６丁目   868     2085     0.16      13031.3   7.796514   \n",
              "1236  111119   大田区  田園調布５丁目  1373     3297     0.42       7850.0   6.817677   \n",
              "1484  112159  世田谷区   尾山台１丁目   721     1645     0.14      11750.0   5.955208   \n",
              "1537  112224  世田谷区    成城４丁目  1376     3361     0.32      10503.1   5.445417   \n",
              "1249  111136   大田区   久が原４丁目  1617     4017     0.28      14346.4   5.336988   \n",
              "1539  112226  世田谷区    成城６丁目   694     1561     0.29       5382.8   5.230809   \n",
              "1485  112160  世田谷区   尾山台２丁目   881     1936     0.18      10755.6   5.035552   \n",
              "\n",
              "      非労働力_専業主婦割合%   一戸建_割合%   持ち家_割合%  労働力_役員割合%  \n",
              "1234      0.193640  0.938865  0.861401   0.165371  \n",
              "1235      0.186298  0.770631  0.758962   0.104567  \n",
              "1538      0.166667  0.760282  0.761051   0.086689  \n",
              "1251      0.176022  0.682243  0.696682   0.093188  \n",
              "1236      0.175254  0.652747  0.702602   0.084823  \n",
              "1484      0.154736  0.648725  0.713459   0.083153  \n",
              "1537      0.179015  0.561047  0.831245   0.065225  \n",
              "1249      0.164487  0.660236  0.655435   0.074978  \n",
              "1539      0.141727  0.575624  0.670103   0.095683  \n",
              "1485      0.161998  0.608400  0.687643   0.074300  "
            ],
            "text/html": [
              "\n",
              "  <div id=\"df-f2ec578d-3782-47ad-9d51-be44cb4db74b\">\n",
              "    <div class=\"colab-df-container\">\n",
              "      <div>\n",
              "<style scoped>\n",
              "    .dataframe tbody tr th:only-of-type {\n",
              "        vertical-align: middle;\n",
              "    }\n",
              "\n",
              "    .dataframe tbody tr th {\n",
              "        vertical-align: top;\n",
              "    }\n",
              "\n",
              "    .dataframe thead th {\n",
              "        text-align: right;\n",
              "    }\n",
              "</style>\n",
              "<table border=\"1\" class=\"dataframe\">\n",
              "  <thead>\n",
              "    <tr style=\"text-align: right;\">\n",
              "      <th></th>\n",
              "      <th>town_id</th>\n",
              "      <th>市区町村名</th>\n",
              "      <th>町丁目</th>\n",
              "      <th>世帯総数</th>\n",
              "      <th>人口総数（人）</th>\n",
              "      <th>面積（km2）</th>\n",
              "      <th>人口密度(人/km2)</th>\n",
              "      <th>高級住宅指数</th>\n",
              "      <th>非労働力_専業主婦割合%</th>\n",
              "      <th>一戸建_割合%</th>\n",
              "      <th>持ち家_割合%</th>\n",
              "      <th>労働力_役員割合%</th>\n",
              "    </tr>\n",
              "  </thead>\n",
              "  <tbody>\n",
              "    <tr>\n",
              "      <th>1234</th>\n",
              "      <td>111117</td>\n",
              "      <td>大田区</td>\n",
              "      <td>田園調布３丁目</td>\n",
              "      <td>699</td>\n",
              "      <td>1690</td>\n",
              "      <td>0.33</td>\n",
              "      <td>5121.2</td>\n",
              "      <td>25.897738</td>\n",
              "      <td>0.193640</td>\n",
              "      <td>0.938865</td>\n",
              "      <td>0.861401</td>\n",
              "      <td>0.165371</td>\n",
              "    </tr>\n",
              "    <tr>\n",
              "      <th>1235</th>\n",
              "      <td>111118</td>\n",
              "      <td>大田区</td>\n",
              "      <td>田園調布４丁目</td>\n",
              "      <td>832</td>\n",
              "      <td>1919</td>\n",
              "      <td>0.34</td>\n",
              "      <td>5644.1</td>\n",
              "      <td>11.393854</td>\n",
              "      <td>0.186298</td>\n",
              "      <td>0.770631</td>\n",
              "      <td>0.758962</td>\n",
              "      <td>0.104567</td>\n",
              "    </tr>\n",
              "    <tr>\n",
              "      <th>1538</th>\n",
              "      <td>112225</td>\n",
              "      <td>世田谷区</td>\n",
              "      <td>成城５丁目</td>\n",
              "      <td>851</td>\n",
              "      <td>2048</td>\n",
              "      <td>0.21</td>\n",
              "      <td>9752.4</td>\n",
              "      <td>8.359911</td>\n",
              "      <td>0.166667</td>\n",
              "      <td>0.760282</td>\n",
              "      <td>0.761051</td>\n",
              "      <td>0.086689</td>\n",
              "    </tr>\n",
              "    <tr>\n",
              "      <th>1251</th>\n",
              "      <td>111138</td>\n",
              "      <td>大田区</td>\n",
              "      <td>久が原６丁目</td>\n",
              "      <td>868</td>\n",
              "      <td>2085</td>\n",
              "      <td>0.16</td>\n",
              "      <td>13031.3</td>\n",
              "      <td>7.796514</td>\n",
              "      <td>0.176022</td>\n",
              "      <td>0.682243</td>\n",
              "      <td>0.696682</td>\n",
              "      <td>0.093188</td>\n",
              "    </tr>\n",
              "    <tr>\n",
              "      <th>1236</th>\n",
              "      <td>111119</td>\n",
              "      <td>大田区</td>\n",
              "      <td>田園調布５丁目</td>\n",
              "      <td>1373</td>\n",
              "      <td>3297</td>\n",
              "      <td>0.42</td>\n",
              "      <td>7850.0</td>\n",
              "      <td>6.817677</td>\n",
              "      <td>0.175254</td>\n",
              "      <td>0.652747</td>\n",
              "      <td>0.702602</td>\n",
              "      <td>0.084823</td>\n",
              "    </tr>\n",
              "    <tr>\n",
              "      <th>1484</th>\n",
              "      <td>112159</td>\n",
              "      <td>世田谷区</td>\n",
              "      <td>尾山台１丁目</td>\n",
              "      <td>721</td>\n",
              "      <td>1645</td>\n",
              "      <td>0.14</td>\n",
              "      <td>11750.0</td>\n",
              "      <td>5.955208</td>\n",
              "      <td>0.154736</td>\n",
              "      <td>0.648725</td>\n",
              "      <td>0.713459</td>\n",
              "      <td>0.083153</td>\n",
              "    </tr>\n",
              "    <tr>\n",
              "      <th>1537</th>\n",
              "      <td>112224</td>\n",
              "      <td>世田谷区</td>\n",
              "      <td>成城４丁目</td>\n",
              "      <td>1376</td>\n",
              "      <td>3361</td>\n",
              "      <td>0.32</td>\n",
              "      <td>10503.1</td>\n",
              "      <td>5.445417</td>\n",
              "      <td>0.179015</td>\n",
              "      <td>0.561047</td>\n",
              "      <td>0.831245</td>\n",
              "      <td>0.065225</td>\n",
              "    </tr>\n",
              "    <tr>\n",
              "      <th>1249</th>\n",
              "      <td>111136</td>\n",
              "      <td>大田区</td>\n",
              "      <td>久が原４丁目</td>\n",
              "      <td>1617</td>\n",
              "      <td>4017</td>\n",
              "      <td>0.28</td>\n",
              "      <td>14346.4</td>\n",
              "      <td>5.336988</td>\n",
              "      <td>0.164487</td>\n",
              "      <td>0.660236</td>\n",
              "      <td>0.655435</td>\n",
              "      <td>0.074978</td>\n",
              "    </tr>\n",
              "    <tr>\n",
              "      <th>1539</th>\n",
              "      <td>112226</td>\n",
              "      <td>世田谷区</td>\n",
              "      <td>成城６丁目</td>\n",
              "      <td>694</td>\n",
              "      <td>1561</td>\n",
              "      <td>0.29</td>\n",
              "      <td>5382.8</td>\n",
              "      <td>5.230809</td>\n",
              "      <td>0.141727</td>\n",
              "      <td>0.575624</td>\n",
              "      <td>0.670103</td>\n",
              "      <td>0.095683</td>\n",
              "    </tr>\n",
              "    <tr>\n",
              "      <th>1485</th>\n",
              "      <td>112160</td>\n",
              "      <td>世田谷区</td>\n",
              "      <td>尾山台２丁目</td>\n",
              "      <td>881</td>\n",
              "      <td>1936</td>\n",
              "      <td>0.18</td>\n",
              "      <td>10755.6</td>\n",
              "      <td>5.035552</td>\n",
              "      <td>0.161998</td>\n",
              "      <td>0.608400</td>\n",
              "      <td>0.687643</td>\n",
              "      <td>0.074300</td>\n",
              "    </tr>\n",
              "  </tbody>\n",
              "</table>\n",
              "</div>\n",
              "      <button class=\"colab-df-convert\" onclick=\"convertToInteractive('df-f2ec578d-3782-47ad-9d51-be44cb4db74b')\"\n",
              "              title=\"Convert this dataframe to an interactive table.\"\n",
              "              style=\"display:none;\">\n",
              "        \n",
              "  <svg xmlns=\"http://www.w3.org/2000/svg\" height=\"24px\"viewBox=\"0 0 24 24\"\n",
              "       width=\"24px\">\n",
              "    <path d=\"M0 0h24v24H0V0z\" fill=\"none\"/>\n",
              "    <path d=\"M18.56 5.44l.94 2.06.94-2.06 2.06-.94-2.06-.94-.94-2.06-.94 2.06-2.06.94zm-11 1L8.5 8.5l.94-2.06 2.06-.94-2.06-.94L8.5 2.5l-.94 2.06-2.06.94zm10 10l.94 2.06.94-2.06 2.06-.94-2.06-.94-.94-2.06-.94 2.06-2.06.94z\"/><path d=\"M17.41 7.96l-1.37-1.37c-.4-.4-.92-.59-1.43-.59-.52 0-1.04.2-1.43.59L10.3 9.45l-7.72 7.72c-.78.78-.78 2.05 0 2.83L4 21.41c.39.39.9.59 1.41.59.51 0 1.02-.2 1.41-.59l7.78-7.78 2.81-2.81c.8-.78.8-2.07 0-2.86zM5.41 20L4 18.59l7.72-7.72 1.47 1.35L5.41 20z\"/>\n",
              "  </svg>\n",
              "      </button>\n",
              "      \n",
              "  <style>\n",
              "    .colab-df-container {\n",
              "      display:flex;\n",
              "      flex-wrap:wrap;\n",
              "      gap: 12px;\n",
              "    }\n",
              "\n",
              "    .colab-df-convert {\n",
              "      background-color: #E8F0FE;\n",
              "      border: none;\n",
              "      border-radius: 50%;\n",
              "      cursor: pointer;\n",
              "      display: none;\n",
              "      fill: #1967D2;\n",
              "      height: 32px;\n",
              "      padding: 0 0 0 0;\n",
              "      width: 32px;\n",
              "    }\n",
              "\n",
              "    .colab-df-convert:hover {\n",
              "      background-color: #E2EBFA;\n",
              "      box-shadow: 0px 1px 2px rgba(60, 64, 67, 0.3), 0px 1px 3px 1px rgba(60, 64, 67, 0.15);\n",
              "      fill: #174EA6;\n",
              "    }\n",
              "\n",
              "    [theme=dark] .colab-df-convert {\n",
              "      background-color: #3B4455;\n",
              "      fill: #D2E3FC;\n",
              "    }\n",
              "\n",
              "    [theme=dark] .colab-df-convert:hover {\n",
              "      background-color: #434B5C;\n",
              "      box-shadow: 0px 1px 3px 1px rgba(0, 0, 0, 0.15);\n",
              "      filter: drop-shadow(0px 1px 2px rgba(0, 0, 0, 0.3));\n",
              "      fill: #FFFFFF;\n",
              "    }\n",
              "  </style>\n",
              "\n",
              "      <script>\n",
              "        const buttonEl =\n",
              "          document.querySelector('#df-f2ec578d-3782-47ad-9d51-be44cb4db74b button.colab-df-convert');\n",
              "        buttonEl.style.display =\n",
              "          google.colab.kernel.accessAllowed ? 'block' : 'none';\n",
              "\n",
              "        async function convertToInteractive(key) {\n",
              "          const element = document.querySelector('#df-f2ec578d-3782-47ad-9d51-be44cb4db74b');\n",
              "          const dataTable =\n",
              "            await google.colab.kernel.invokeFunction('convertToInteractive',\n",
              "                                                     [key], {});\n",
              "          if (!dataTable) return;\n",
              "\n",
              "          const docLinkHtml = 'Like what you see? Visit the ' +\n",
              "            '<a target=\"_blank\" href=https://colab.research.google.com/notebooks/data_table.ipynb>data table notebook</a>'\n",
              "            + ' to learn more about interactive tables.';\n",
              "          element.innerHTML = '';\n",
              "          dataTable['output_type'] = 'display_data';\n",
              "          await google.colab.output.renderOutput(dataTable, element);\n",
              "          const docLink = document.createElement('div');\n",
              "          docLink.innerHTML = docLinkHtml;\n",
              "          element.appendChild(docLink);\n",
              "        }\n",
              "      </script>\n",
              "    </div>\n",
              "  </div>\n",
              "  "
            ]
          },
          "metadata": {},
          "execution_count": 87
        }
      ]
    },
    {
      "cell_type": "code",
      "source": [],
      "metadata": {
        "id": "31U34gj6A4B0"
      },
      "execution_count": 87,
      "outputs": []
    }
  ]
}